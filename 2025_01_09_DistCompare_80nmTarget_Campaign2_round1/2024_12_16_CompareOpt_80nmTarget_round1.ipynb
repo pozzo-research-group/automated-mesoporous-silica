{
 "cells": [
  {
   "cell_type": "markdown",
   "id": "110d0499-187d-47cb-b3bd-52e828f810d0",
   "metadata": {},
   "source": [
    "## Setup"
   ]
  },
  {
   "cell_type": "code",
   "execution_count": 1,
   "id": "023a9737-b2dd-4151-af0b-67ea2aeb7386",
   "metadata": {},
   "outputs": [],
   "source": [
    "%load_ext autoreload\n",
    "%autoreload 2"
   ]
  },
  {
   "cell_type": "code",
   "execution_count": 2,
   "id": "a8305f4f-98d9-46aa-b3a5-aef3875465c8",
   "metadata": {},
   "outputs": [],
   "source": [
    "import requests\n",
    "\n",
    "# ----------- Science Jubilee -------------\n",
    "from science_jubilee import Machine as Jub\n",
    "from science_jubilee.tools import HTTPSyringe as syringe\n",
    "from science_jubilee.tools import Pipette\n",
    "from science_jubilee.utils import Handlers\n",
    "import time\n",
    "import numpy as np\n",
    "import pandas as pd\n",
    "import logging\n",
    "import sys\n",
    "sys.path.append('..')\n",
    "import stober_synthesis_utils as stober"
   ]
  },
  {
   "cell_type": "code",
   "execution_count": 3,
   "id": "39e0dd27-900a-4151-ad77-cae178e545d7",
   "metadata": {},
   "outputs": [],
   "source": [
    "FORMAT = '%(asctime)s:%(levelname)s:%(name)s:%(message)s'\n",
    "logging.basicConfig(filename = '2024_12_16_CompareOpt_80nmTarget_round1.log', level = logging.INFO, format = FORMAT)\n",
    "logger = logging.getLogger(__name__)"
   ]
  },
  {
   "cell_type": "code",
   "execution_count": 4,
   "id": "bb05bc51-e88d-493a-b7ae-ec244bab05d1",
   "metadata": {
    "scrolled": true
   },
   "outputs": [],
   "source": [
    "jubilee = Jub.Machine(address='192.168.1.2', simulated = False, crash_detection = False) "
   ]
  },
  {
   "cell_type": "raw",
   "id": "23f14450-b2fd-46b7-82b2-a17b1061fde5",
   "metadata": {
    "scrolled": true
   },
   "source": [
    "#jubilee.home_all()\n",
    "logger.info('Homed Jubilee')"
   ]
  },
  {
   "cell_type": "code",
   "execution_count": 5,
   "id": "7dd1d29b-638a-4d85-9cf3-986931deae0f",
   "metadata": {},
   "outputs": [],
   "source": [
    "deck = jubilee.load_deck('lab_automation_deck_AFL_bolton.json')"
   ]
  },
  {
   "cell_type": "code",
   "execution_count": 6,
   "id": "d2505692-e098-4cf7-954a-b2ac9d91e06f",
   "metadata": {},
   "outputs": [],
   "source": [
    "sample_table_rmse = pd.read_csv('Sample_table_2024_12_16_CompareOpt_80nmTarget_Round1_apdist.csv')\n",
    "sample_table_apdist = pd.read_csv('Sample_table_2024_12_16_CompareOpt_80nmTarget_Round1_rmsedist.csv')"
   ]
  },
  {
   "cell_type": "code",
   "execution_count": 7,
   "id": "9b530793-b2a2-4f5d-9825-b4d8c2028d96",
   "metadata": {},
   "outputs": [
    {
     "data": {
      "text/plain": [
       "{'teos_count': 1, 'ammonia_count': 1, 'water_count': 1, 'ethanol_count': 2}"
      ]
     },
     "execution_count": 7,
     "metadata": {},
     "output_type": "execute_result"
    }
   ],
   "source": [
    "stober.count_stock_vials(sample_table_rmse, 15000)"
   ]
  },
  {
   "cell_type": "code",
   "execution_count": 8,
   "id": "dd237516-a73b-4981-8a1a-1f17979c9dac",
   "metadata": {},
   "outputs": [
    {
     "data": {
      "text/plain": [
       "2.7669129096716643"
      ]
     },
     "execution_count": 8,
     "metadata": {},
     "output_type": "execute_result"
    }
   ],
   "source": [
    "sample_table_apdist['ethanol_volume'].sum()/10000"
   ]
  },
  {
   "cell_type": "markdown",
   "id": "b8f140ff-c5f8-494d-bd58-093982edd086",
   "metadata": {},
   "source": [
    "## Load Tools"
   ]
  },
  {
   "cell_type": "code",
   "execution_count": 9,
   "id": "d73bac24-917c-4c8c-8c30-494146511312",
   "metadata": {},
   "outputs": [],
   "source": [
    "syringe_10 = syringe.HTTPSyringe.from_config(1, \"../../science-jubilee/src/science_jubilee/tools/configs/10cc_syringe.json\")\n",
    "syringe_1_1 = syringe.HTTPSyringe.from_config(2, \"../../science-jubilee/src/science_jubilee/tools/configs/1cc_1_syringe.json\")\n",
    "syringe_1_2 = syringe.HTTPSyringe.from_config(3, \"../../science-jubilee/src/science_jubilee/tools/configs/1cc_2_syringe.json\")\n",
    "syringe_1_3 = syringe.HTTPSyringe.from_config(4, \"../../science-jubilee/src/science_jubilee/tools/configs/1cc_3_syringe.json\")"
   ]
  },
  {
   "cell_type": "code",
   "execution_count": 10,
   "id": "9448524a-f60e-43fd-ae53-0a51c87e6035",
   "metadata": {
    "scrolled": true
   },
   "outputs": [],
   "source": [
    "jubilee.load_tool(syringe_10)\n",
    "jubilee.load_tool(syringe_1_1)\n",
    "jubilee.load_tool(syringe_1_2)\n",
    "jubilee.load_tool(syringe_1_3)"
   ]
  },
  {
   "cell_type": "code",
   "execution_count": 11,
   "id": "21127bbe-632c-4ec0-84f9-57d9772a90db",
   "metadata": {},
   "outputs": [],
   "source": [
    "mix_syringe = syringe_10\n",
    "water_syringe = syringe_1_1\n",
    "ammonia_syringe = syringe_1_2\n",
    "teos_syringe = syringe_1_3"
   ]
  },
  {
   "cell_type": "markdown",
   "id": "e1d880ae-d253-43f5-995f-d2619e29c78a",
   "metadata": {},
   "source": [
    "## Load water syringe with water"
   ]
  },
  {
   "cell_type": "raw",
   "id": "d1ea2f9d-88bd-412d-8dfe-ff22d54578ac",
   "metadata": {},
   "source": [
    "water_syringe.load_syringe(600, 1500)"
   ]
  },
  {
   "cell_type": "raw",
   "id": "4065810c-153b-40a7-afd5-306a3f690d34",
   "metadata": {
    "scrolled": true
   },
   "source": [
    "water_syringe.set_pulsewidth(water_syringe.empty_position-1, s = 2000)"
   ]
  },
  {
   "cell_type": "raw",
   "id": "57d85863-f4db-45fc-8ed8-a18e50fba377",
   "metadata": {},
   "source": [
    "water_syringe.set_pulsewidth(water_syringe.full_position+1, s = 10)"
   ]
  },
  {
   "cell_type": "raw",
   "id": "b2070902-63c7-4397-bc5e-acb57f477939",
   "metadata": {},
   "source": [
    "water_syringe.set_pulsewidth(water_syringe.full_position+150, s = 500)"
   ]
  },
  {
   "cell_type": "code",
   "execution_count": 12,
   "id": "80aff25d-bae2-478d-bc07-4b4f11bd5e05",
   "metadata": {},
   "outputs": [
    {
     "name": "stdout",
     "output_type": "stream",
     "text": [
      "Loaded syringe, remaining volume 740 uL\n"
     ]
    }
   ],
   "source": [
    "water_syringe.load_syringe(740, water_syringe.full_position+150)"
   ]
  },
  {
   "cell_type": "markdown",
   "id": "8ea5df3b-0ad5-4dbb-ad3f-089a2d5f2bd1",
   "metadata": {},
   "source": [
    "## Load ammonia syringe"
   ]
  },
  {
   "cell_type": "code",
   "execution_count": 15,
   "id": "87a366e4-d389-4830-b923-0a932968add9",
   "metadata": {},
   "outputs": [],
   "source": [
    "#ammonia_syringe.set_pulsewidth(1420, s = 10)"
   ]
  },
  {
   "cell_type": "raw",
   "id": "a2b4aa51-4c51-4942-be39-1ef0560e3727",
   "metadata": {},
   "source": [
    "ammonia_syringe.load_syringe(600, 1500)"
   ]
  },
  {
   "cell_type": "raw",
   "id": "51539b34-3511-4b31-b96f-d2fa7c6e3a66",
   "metadata": {},
   "source": [
    "ammonia_syringe.set_pulsewidth(ammonia_syringe.empty_position-1, s = 2000)"
   ]
  },
  {
   "cell_type": "raw",
   "id": "dc12de5a-e5dd-429e-8ce1-f7cc901804e1",
   "metadata": {},
   "source": [
    "ammonia_syringe.set_pulsewidth(ammonia_syringe.full_position+1, s = 10)"
   ]
  },
  {
   "cell_type": "raw",
   "id": "68eb5632-df13-4e8a-b006-94564413f628",
   "metadata": {},
   "source": [
    "ammonia_syringe.set_pulsewidth(ammonia_syringe.full_position+350, s = 500)"
   ]
  },
  {
   "cell_type": "code",
   "execution_count": 13,
   "id": "b5be2527-8c06-4465-8e44-41f410149cd7",
   "metadata": {},
   "outputs": [
    {
     "name": "stdout",
     "output_type": "stream",
     "text": [
      "Loaded syringe, remaining volume 370 uL\n"
     ]
    }
   ],
   "source": [
    "ammonia_syringe.load_syringe(370, ammonia_syringe.full_position+350)"
   ]
  },
  {
   "cell_type": "markdown",
   "id": "e2c53ecf-d14a-4536-8062-9e7af8c51ba8",
   "metadata": {},
   "source": [
    "## Load TEOS syringe"
   ]
  },
  {
   "cell_type": "raw",
   "id": "a648c992-53ec-4769-b4f2-73bcfa5114c9",
   "metadata": {},
   "source": [
    "teos_syringe.load_syringe(600, 1500)"
   ]
  },
  {
   "cell_type": "raw",
   "id": "5da1bbc5-ec1b-4aeb-a93a-0c2acdad0b2d",
   "metadata": {},
   "source": [
    "teos_syringe.set_pulsewidth(teos_syringe.empty_position-1, s = 2000)"
   ]
  },
  {
   "cell_type": "raw",
   "id": "7f491779-9c7a-499b-af3d-76f406080657",
   "metadata": {},
   "source": [
    "teos_syringe.set_pulsewidth(teos_syringe.full_position+1, s = 100)"
   ]
  },
  {
   "cell_type": "raw",
   "id": "4a651460-269a-4e58-a248-d791b857d9e2",
   "metadata": {},
   "source": [
    "teos_syringe.set_pulsewidth(teos_syringe.full_position+200, s = 200)"
   ]
  },
  {
   "cell_type": "code",
   "execution_count": 14,
   "id": "cf5154eb-2d59-4bd8-90c2-86c3374a662d",
   "metadata": {},
   "outputs": [
    {
     "name": "stdout",
     "output_type": "stream",
     "text": [
      "Loaded syringe, remaining volume 690 uL\n"
     ]
    }
   ],
   "source": [
    "teos_syringe.load_syringe(690, teos_syringe.full_position+200)"
   ]
  },
  {
   "cell_type": "markdown",
   "id": "ad1ac96b-3d53-4da1-aa2c-a8c2386280f8",
   "metadata": {},
   "source": [
    "## load ethanol syringe"
   ]
  },
  {
   "cell_type": "code",
   "execution_count": 26,
   "id": "f1caaf1a-900c-43ed-a57b-754b0d62aa37",
   "metadata": {},
   "outputs": [],
   "source": [
    "#jubilee.park_tool()"
   ]
  },
  {
   "cell_type": "raw",
   "id": "31a3ca84-a3a7-44ae-ae84-a076953a0eb4",
   "metadata": {},
   "source": [
    "mix_syringe.load_syringe(0, mix_syringe.empty_position-1)"
   ]
  },
  {
   "cell_type": "raw",
   "id": "8e023a6a-b7cc-4289-be61-4d35fa300c8c",
   "metadata": {},
   "source": [
    "mix_syringe.set_pulsewidth(mix_syringe.empty_position-1, s = 2000)\n"
   ]
  },
  {
   "cell_type": "raw",
   "id": "24e42b8b-53e4-45d8-a0ec-3c8e163e221f",
   "metadata": {},
   "source": [
    "mix_syringe.set_pulsewidth(mix_syringe.full_position+1, s = 10)"
   ]
  },
  {
   "cell_type": "code",
   "execution_count": 30,
   "id": "96d9a53e-24a0-4595-bb69-db89483176ce",
   "metadata": {},
   "outputs": [],
   "source": [
    "#mix_syringe.empty_position"
   ]
  },
  {
   "cell_type": "raw",
   "id": "7ab53cb3-da95-4cbd-80ea-f57a953b4c94",
   "metadata": {},
   "source": [
    "mix_syringe.set_pulsewidth(mix_syringe.full_position+150, s = 500)"
   ]
  },
  {
   "cell_type": "code",
   "execution_count": 15,
   "id": "99ad1605-10c8-45a3-80cf-c6adfd7ae6a9",
   "metadata": {},
   "outputs": [
    {
     "name": "stdout",
     "output_type": "stream",
     "text": [
      "Loaded syringe, remaining volume 7100 uL\n"
     ]
    }
   ],
   "source": [
    "mix_syringe.load_syringe(7100, mix_syringe.full_position+150)"
   ]
  },
  {
   "cell_type": "markdown",
   "id": "43d1f97d-4c55-40d3-ac5b-9c3a3f1062ed",
   "metadata": {},
   "source": [
    "## Load labware\n"
   ]
  },
  {
   "cell_type": "code",
   "execution_count": 49,
   "id": "19b4bfa8-6878-4b0b-a564-369faa361b1c",
   "metadata": {
    "scrolled": true
   },
   "outputs": [
    {
     "name": "stdout",
     "output_type": "stream",
     "text": [
      "New manual offset applied to septavialrev1_44_holder_2000ul\n"
     ]
    }
   ],
   "source": [
    "samples_apdist = jubilee.load_labware('septavialrev1_44_holder_2000ul.json', 2)\n",
    "samples_apdist.manual_offset([(17.3,  173.0), (130.4, 173.6), (130.4, 103.8)])"
   ]
  },
  {
   "cell_type": "code",
   "execution_count": 26,
   "id": "cf53ae95-32d9-4cf5-8597-431e5b9571fa",
   "metadata": {},
   "outputs": [
    {
     "name": "stdout",
     "output_type": "stream",
     "text": [
      "New manual offset applied to septavialrev1_44_holder_2000ul\n"
     ]
    }
   ],
   "source": [
    "samples_rmse = jubilee.load_labware('septavialrev1_44_holder_2000ul.json', 3)\n",
    "samples_rmse.manual_offset([(158.3, 173.3), (269.9, 174.8), (270.6, 105.1)])"
   ]
  },
  {
   "cell_type": "code",
   "execution_count": 18,
   "id": "19ad67cc-b0a8-4c1f-8d6a-60b173599c82",
   "metadata": {},
   "outputs": [
    {
     "name": "stdout",
     "output_type": "stream",
     "text": [
      "New manual offset applied to 20mlscintillation_12_wellplate_18000ul\n"
     ]
    }
   ],
   "source": [
    "stocks_main = jubilee.load_labware('20mlscintillation_12_wellplate_18000ul.json', 4)\n",
    "stocks_main.manual_offset([(29.7, 262.5), (115.7, 262.9),  (116.1, 206.8)])"
   ]
  },
  {
   "cell_type": "code",
   "execution_count": 19,
   "id": "ba497863-cea0-481b-8e5c-2e45df1ef17f",
   "metadata": {},
   "outputs": [
    {
     "name": "stdout",
     "output_type": "stream",
     "text": [
      "New manual offset applied to 20mlscintillation_12_wellplate_18000ul\n"
     ]
    }
   ],
   "source": [
    "stocks_extra = jubilee.load_labware('20mlscintillation_12_wellplate_18000ul.json', 5)\n",
    "stocks_extra.manual_offset([(171.1, 264.1), (256.9, 265.0), (256.7, 208.5)])\n"
   ]
  },
  {
   "cell_type": "code",
   "execution_count": 20,
   "id": "1ef40a35-9802-4eb3-9a10-16255155b92d",
   "metadata": {},
   "outputs": [],
   "source": [
    "trash = jubilee.load_labware('agilent_1_reservoir_290ml.json', 1)"
   ]
  },
  {
   "cell_type": "code",
   "execution_count": 21,
   "id": "f7395271-1a02-4f11-883f-34a8456f0a05",
   "metadata": {},
   "outputs": [],
   "source": [
    "teos_stocks = [stocks_main[0]]\n",
    "ammonia_stocks = [stocks_main[1]]\n",
    "water_stocks = [stocks_main[2]]\n",
    "ethanol_stocks_apdist = [stocks_main[3], stocks_main[4], stocks_main[5], stocks_main[6], stocks_main[7], stocks_main[8]]\n",
    "rinse_stocks_apdist = [stocks_main[9], stocks_main[10], stocks_main[11]]"
   ]
  },
  {
   "cell_type": "code",
   "execution_count": 22,
   "id": "970020a7-164c-4424-8058-e34e5bf83027",
   "metadata": {},
   "outputs": [],
   "source": [
    "ethanol_stocks_rmse = [stocks_extra[0], stocks_extra[1], stocks_extra[2], stocks_extra[3], stocks_extra[4], stocks_extra[5]]\n",
    "rinse_stocks_rmse = [stocks_extra[6], stocks_extra[7], stocks_extra[8]]"
   ]
  },
  {
   "cell_type": "markdown",
   "id": "4bd30fe3-5be6-4ea7-a61d-357272d3e8a4",
   "metadata": {},
   "source": [
    "## Check sample alignment"
   ]
  },
  {
   "cell_type": "code",
   "execution_count": 60,
   "id": "6341c596-5970-48b4-b3cc-44b5f8d7a9ff",
   "metadata": {},
   "outputs": [
    {
     "name": "stdout",
     "output_type": "stream",
     "text": [
      "264.1\n"
     ]
    },
    {
     "name": "stdin",
     "output_type": "stream",
     "text": [
      "Is the tip centered over well? \n"
     ]
    },
    {
     "name": "stdout",
     "output_type": "stream",
     "text": [
      "264.3006231477075\n"
     ]
    },
    {
     "name": "stdin",
     "output_type": "stream",
     "text": [
      "Is the tip centered over well? \n"
     ]
    },
    {
     "name": "stdout",
     "output_type": "stream",
     "text": [
      "264.50124629541494\n"
     ]
    },
    {
     "name": "stdin",
     "output_type": "stream",
     "text": [
      "Is the tip centered over well? \n"
     ]
    },
    {
     "name": "stdout",
     "output_type": "stream",
     "text": [
      "264.7018694431224\n"
     ]
    },
    {
     "name": "stdin",
     "output_type": "stream",
     "text": [
      "Is the tip centered over well? \n"
     ]
    },
    {
     "name": "stdout",
     "output_type": "stream",
     "text": [
      "235.85051799971603\n"
     ]
    },
    {
     "name": "stdin",
     "output_type": "stream",
     "text": [
      "Is the tip centered over well? \n",
      "Is the tip centered over well? \n"
     ]
    },
    {
     "name": "stdout",
     "output_type": "stream",
     "text": [
      "236.0511411474235\n",
      "236.25176429513095\n"
     ]
    },
    {
     "name": "stdin",
     "output_type": "stream",
     "text": [
      "Is the tip centered over well? \n"
     ]
    },
    {
     "name": "stdout",
     "output_type": "stream",
     "text": [
      "236.45238744283844\n"
     ]
    },
    {
     "name": "stdin",
     "output_type": "stream",
     "text": [
      "Is the tip centered over well? \n"
     ]
    },
    {
     "name": "stdout",
     "output_type": "stream",
     "text": [
      "207.60103599943204\n"
     ]
    },
    {
     "name": "stdin",
     "output_type": "stream",
     "text": [
      "Is the tip centered over well? \n"
     ]
    },
    {
     "name": "stdout",
     "output_type": "stream",
     "text": [
      "207.8016591471395\n"
     ]
    },
    {
     "name": "stdin",
     "output_type": "stream",
     "text": [
      "Is the tip centered over well? \n"
     ]
    },
    {
     "name": "stdout",
     "output_type": "stream",
     "text": [
      "208.00228229484696\n"
     ]
    },
    {
     "name": "stdin",
     "output_type": "stream",
     "text": [
      "Is the tip centered over well? \n"
     ]
    },
    {
     "name": "stdout",
     "output_type": "stream",
     "text": [
      "208.20290544255442\n"
     ]
    },
    {
     "name": "stdin",
     "output_type": "stream",
     "text": [
      "Is the tip centered over well? \n"
     ]
    }
   ],
   "source": [
    "#jubilee.pickup_tool(mix_syringe)\n",
    "for well in stocks_extra:\n",
    "    jubilee.move_to(x = well.x, y = well.y)\n",
    "    print(well.y)\n",
    "    jubilee.move_to(z = well.top_+7)\n",
    "    ans = input(f'Is the tip centered over well?')\n",
    "    if ans == 'y':\n",
    "        continue\n",
    "    else:\n",
    "        continue"
   ]
  },
  {
   "cell_type": "code",
   "execution_count": 34,
   "id": "95d14b2a-7129-4868-8a0b-2901da667520",
   "metadata": {},
   "outputs": [],
   "source": [
    "jubilee.park_tool()"
   ]
  },
  {
   "cell_type": "code",
   "execution_count": 56,
   "id": "25a4d272-6e56-4649-ba7a-5e04e922c043",
   "metadata": {},
   "outputs": [
    {
     "name": "stdout",
     "output_type": "stream",
     "text": [
      "173.0\n"
     ]
    },
    {
     "name": "stdin",
     "output_type": "stream",
     "text": [
      "Is the tip centered over sample A1? \n"
     ]
    },
    {
     "name": "stdout",
     "output_type": "stream",
     "text": [
      "173.04285729362329\n"
     ]
    },
    {
     "name": "stdin",
     "output_type": "stream",
     "text": [
      "Is the tip centered over sample A2? \n"
     ]
    },
    {
     "name": "stdout",
     "output_type": "stream",
     "text": [
      "173.08571458724654\n"
     ]
    },
    {
     "name": "stdin",
     "output_type": "stream",
     "text": [
      "Is the tip centered over sample A3? \n"
     ]
    },
    {
     "name": "stdout",
     "output_type": "stream",
     "text": [
      "173.12857188086983\n"
     ]
    },
    {
     "name": "stdin",
     "output_type": "stream",
     "text": [
      "Is the tip centered over sample A4? \n"
     ]
    },
    {
     "name": "stdout",
     "output_type": "stream",
     "text": [
      "173.1714291744931\n"
     ]
    },
    {
     "name": "stdin",
     "output_type": "stream",
     "text": [
      "Is the tip centered over sample A5? \n"
     ]
    },
    {
     "name": "stdout",
     "output_type": "stream",
     "text": [
      "173.2142864681164\n"
     ]
    },
    {
     "name": "stdin",
     "output_type": "stream",
     "text": [
      "Is the tip centered over sample A6? \n"
     ]
    },
    {
     "name": "stdout",
     "output_type": "stream",
     "text": [
      "173.25714376173966\n"
     ]
    },
    {
     "name": "stdin",
     "output_type": "stream",
     "text": [
      "Is the tip centered over sample A7? \n"
     ]
    },
    {
     "name": "stdout",
     "output_type": "stream",
     "text": [
      "173.30000105536294\n"
     ]
    },
    {
     "name": "stdin",
     "output_type": "stream",
     "text": [
      "Is the tip centered over sample A8? \n"
     ]
    },
    {
     "name": "stdout",
     "output_type": "stream",
     "text": [
      "159.04004910936507\n"
     ]
    },
    {
     "name": "stdin",
     "output_type": "stream",
     "text": [
      "Is the tip centered over sample B1? \n"
     ]
    },
    {
     "name": "stdout",
     "output_type": "stream",
     "text": [
      "159.12576369661164\n"
     ]
    },
    {
     "name": "stdin",
     "output_type": "stream",
     "text": [
      "Is the tip centered over sample B3? \n"
     ]
    },
    {
     "name": "stdout",
     "output_type": "stream",
     "text": [
      "159.1686209902349\n"
     ]
    },
    {
     "name": "stdin",
     "output_type": "stream",
     "text": [
      "Is the tip centered over sample B4? \n"
     ]
    },
    {
     "name": "stdout",
     "output_type": "stream",
     "text": [
      "159.21147828385818\n"
     ]
    },
    {
     "name": "stdin",
     "output_type": "stream",
     "text": [
      "Is the tip centered over sample B5? \n"
     ]
    },
    {
     "name": "stdout",
     "output_type": "stream",
     "text": [
      "159.25433557748147\n"
     ]
    },
    {
     "name": "stdin",
     "output_type": "stream",
     "text": [
      "Is the tip centered over sample B6? \n"
     ]
    },
    {
     "name": "stdout",
     "output_type": "stream",
     "text": [
      "159.340050164728\n"
     ]
    },
    {
     "name": "stdin",
     "output_type": "stream",
     "text": [
      "Is the tip centered over sample B8? \n"
     ]
    },
    {
     "name": "stdout",
     "output_type": "stream",
     "text": [
      "145.08009821873017\n"
     ]
    },
    {
     "name": "stdin",
     "output_type": "stream",
     "text": [
      "Is the tip centered over sample C1? \n"
     ]
    },
    {
     "name": "stdout",
     "output_type": "stream",
     "text": [
      "145.12295551235343\n"
     ]
    },
    {
     "name": "stdin",
     "output_type": "stream",
     "text": [
      "Is the tip centered over sample C2? \n"
     ]
    },
    {
     "name": "stdout",
     "output_type": "stream",
     "text": [
      "145.1658128059767\n"
     ]
    },
    {
     "name": "stdin",
     "output_type": "stream",
     "text": [
      "Is the tip centered over sample C3? \n",
      "Is the tip centered over sample C4? \n"
     ]
    },
    {
     "name": "stdout",
     "output_type": "stream",
     "text": [
      "145.2086700996\n",
      "145.25152739322328\n"
     ]
    },
    {
     "name": "stdin",
     "output_type": "stream",
     "text": [
      "Is the tip centered over sample C5? \n"
     ]
    },
    {
     "name": "stdout",
     "output_type": "stream",
     "text": [
      "145.29438468684654\n"
     ]
    },
    {
     "name": "stdin",
     "output_type": "stream",
     "text": [
      "Is the tip centered over sample C6? \n"
     ]
    }
   ],
   "source": [
    "jubilee.pickup_tool(teos_syringe)\n",
    "for i, row in sample_table_apdist.iterrows():\n",
    "    loc = samples_apdist[row['well']]\n",
    "    jubilee.move_to(x = loc.x, y = loc.y)\n",
    "    print(loc.y)\n",
    "    jubilee.move_to(z = loc.top_+7)\n",
    "    curr_well = row['well']\n",
    "    ans = input(f'Is the tip centered over sample {curr_well}?')\n",
    "    if ans == 'y':\n",
    "        continue\n",
    "    else:\n",
    "        continue\n",
    "    "
   ]
  },
  {
   "cell_type": "code",
   "execution_count": 64,
   "id": "a1249a01-3c61-4ccc-b571-8d33763ed499",
   "metadata": {},
   "outputs": [
    {
     "data": {
      "text/plain": [
       "130.29143531738507"
      ]
     },
     "execution_count": 64,
     "metadata": {},
     "output_type": "execute_result"
    }
   ],
   "source": [
    "loc.x"
   ]
  },
  {
   "cell_type": "code",
   "execution_count": 57,
   "id": "a52572b9-48d6-4bf1-acb2-19c7ac5c6fb8",
   "metadata": {},
   "outputs": [],
   "source": [
    "jubilee.park_tool()\n"
   ]
  },
  {
   "cell_type": "markdown",
   "id": "b9dff3f4-8be6-4f73-b343-6221f8df76dc",
   "metadata": {},
   "source": [
    "# Experiment\n"
   ]
  },
  {
   "cell_type": "code",
   "execution_count": 58,
   "id": "9d770745-931b-42d0-8b40-409a83411619",
   "metadata": {},
   "outputs": [],
   "source": [
    "location_lookup_apdist = {row['uuid']:samples_apdist[row['well']] for i, row in sample_table_apdist.iterrows()}\n",
    "location_lookup_rmse = {row['uuid']:samples_rmse[row['well']] for i, row in sample_table_rmse.iterrows()}"
   ]
  },
  {
   "cell_type": "code",
   "execution_count": 72,
   "id": "30502878-2c56-4f8a-94dc-e7ad55f92927",
   "metadata": {},
   "outputs": [
    {
     "data": {
      "text/plain": [
       "27669.129096716642"
      ]
     },
     "execution_count": 72,
     "metadata": {},
     "output_type": "execute_result"
    }
   ],
   "source": [
    "sample_table_apdist['ethanol_volume'].sum()"
   ]
  },
  {
   "cell_type": "code",
   "execution_count": 60,
   "id": "b2a12505-772e-4ca8-8d21-822a400835f9",
   "metadata": {},
   "outputs": [],
   "source": [
    "dilution_table_apdist = sample_table_apdist.copy()\n",
    "dilution_table_rmse = sample_table_rmse.copy()"
   ]
  },
  {
   "cell_type": "code",
   "execution_count": 61,
   "id": "bdd03979-152a-48dd-9d62-b73859c453c4",
   "metadata": {},
   "outputs": [],
   "source": [
    "dilution_table_apdist['well'] = dilution_table_apdist['dilute_well']\n",
    "dilution_table_rmse['well'] = dilution_table_rmse['dilute_well']"
   ]
  },
  {
   "cell_type": "code",
   "execution_count": 62,
   "id": "804bb020-adc5-44ad-84a7-37235024043e",
   "metadata": {},
   "outputs": [
    {
     "data": {
      "text/html": [
       "<div>\n",
       "<style scoped>\n",
       "    .dataframe tbody tr th:only-of-type {\n",
       "        vertical-align: middle;\n",
       "    }\n",
       "\n",
       "    .dataframe tbody tr th {\n",
       "        vertical-align: top;\n",
       "    }\n",
       "\n",
       "    .dataframe thead th {\n",
       "        text-align: right;\n",
       "    }\n",
       "</style>\n",
       "<table border=\"1\" class=\"dataframe\">\n",
       "  <thead>\n",
       "    <tr style=\"text-align: right;\">\n",
       "      <th></th>\n",
       "      <th>Unnamed: 0</th>\n",
       "      <th>uuid</th>\n",
       "      <th>teos_volume</th>\n",
       "      <th>ammonia_volume</th>\n",
       "      <th>water_volume</th>\n",
       "      <th>ethanol_volume</th>\n",
       "      <th>dilution_volume_fraction</th>\n",
       "      <th>silica_mass_conc</th>\n",
       "      <th>silica_mass_fraction</th>\n",
       "      <th>ethanol_dilute_vol</th>\n",
       "      <th>sample_dilute_vol</th>\n",
       "      <th>well</th>\n",
       "      <th>dilute_well</th>\n",
       "    </tr>\n",
       "  </thead>\n",
       "  <tbody>\n",
       "    <tr>\n",
       "      <th>0</th>\n",
       "      <td>0</td>\n",
       "      <td>e208582e-4c43-433c-a80f-afdf6f316ff2</td>\n",
       "      <td>17.000000</td>\n",
       "      <td>8.500000</td>\n",
       "      <td>255.000010</td>\n",
       "      <td>1419.499990</td>\n",
       "      <td>2.232143</td>\n",
       "      <td>2.691584</td>\n",
       "      <td>0.003272</td>\n",
       "      <td>0.0</td>\n",
       "      <td>1700.0</td>\n",
       "      <td>C7</td>\n",
       "      <td>C7</td>\n",
       "    </tr>\n",
       "    <tr>\n",
       "      <th>1</th>\n",
       "      <td>1</td>\n",
       "      <td>eb72b1cf-3078-4701-b7ea-caf926b65285</td>\n",
       "      <td>109.727637</td>\n",
       "      <td>18.163508</td>\n",
       "      <td>127.154971</td>\n",
       "      <td>1444.953884</td>\n",
       "      <td>0.345824</td>\n",
       "      <td>17.373009</td>\n",
       "      <td>0.021306</td>\n",
       "      <td>1112.0</td>\n",
       "      <td>588.0</td>\n",
       "      <td>C8</td>\n",
       "      <td>C8</td>\n",
       "    </tr>\n",
       "    <tr>\n",
       "      <th>2</th>\n",
       "      <td>2</td>\n",
       "      <td>f5868166-a4f1-4a89-b04e-9a27fcf5fdcc</td>\n",
       "      <td>156.501164</td>\n",
       "      <td>62.749447</td>\n",
       "      <td>8.500000</td>\n",
       "      <td>1472.249390</td>\n",
       "      <td>0.242467</td>\n",
       "      <td>24.778590</td>\n",
       "      <td>0.030679</td>\n",
       "      <td>1288.0</td>\n",
       "      <td>412.0</td>\n",
       "      <td>D1</td>\n",
       "      <td>D1</td>\n",
       "    </tr>\n",
       "    <tr>\n",
       "      <th>3</th>\n",
       "      <td>3</td>\n",
       "      <td>9d4a106e-7434-4f1a-96b4-5cdd328353fc</td>\n",
       "      <td>17.000000</td>\n",
       "      <td>121.499975</td>\n",
       "      <td>8.500000</td>\n",
       "      <td>1553.000026</td>\n",
       "      <td>2.232143</td>\n",
       "      <td>2.691584</td>\n",
       "      <td>0.003366</td>\n",
       "      <td>0.0</td>\n",
       "      <td>1700.0</td>\n",
       "      <td>D2</td>\n",
       "      <td>D2</td>\n",
       "    </tr>\n",
       "    <tr>\n",
       "      <th>4</th>\n",
       "      <td>4</td>\n",
       "      <td>c5e36adc-8e26-4974-a080-a729a65ad94f</td>\n",
       "      <td>255.000010</td>\n",
       "      <td>8.500000</td>\n",
       "      <td>234.293984</td>\n",
       "      <td>1202.206006</td>\n",
       "      <td>0.148810</td>\n",
       "      <td>40.373762</td>\n",
       "      <td>0.048048</td>\n",
       "      <td>1447.0</td>\n",
       "      <td>253.0</td>\n",
       "      <td>D3</td>\n",
       "      <td>D3</td>\n",
       "    </tr>\n",
       "    <tr>\n",
       "      <th>5</th>\n",
       "      <td>5</td>\n",
       "      <td>0ded08ed-937d-4368-a29f-b7de0f5ddbd4</td>\n",
       "      <td>17.000000</td>\n",
       "      <td>53.639435</td>\n",
       "      <td>98.942080</td>\n",
       "      <td>1530.418485</td>\n",
       "      <td>2.232143</td>\n",
       "      <td>2.691584</td>\n",
       "      <td>0.003338</td>\n",
       "      <td>0.0</td>\n",
       "      <td>1700.0</td>\n",
       "      <td>D4</td>\n",
       "      <td>D4</td>\n",
       "    </tr>\n",
       "    <tr>\n",
       "      <th>6</th>\n",
       "      <td>6</td>\n",
       "      <td>5305d0c7-aee5-46f9-a63f-1cd42ee67d87</td>\n",
       "      <td>248.306568</td>\n",
       "      <td>145.138811</td>\n",
       "      <td>79.710672</td>\n",
       "      <td>1226.843949</td>\n",
       "      <td>0.152821</td>\n",
       "      <td>39.313999</td>\n",
       "      <td>0.047389</td>\n",
       "      <td>1440.0</td>\n",
       "      <td>260.0</td>\n",
       "      <td>D5</td>\n",
       "      <td>D5</td>\n",
       "    </tr>\n",
       "    <tr>\n",
       "      <th>7</th>\n",
       "      <td>7</td>\n",
       "      <td>9dc15241-60be-4ce1-86a1-52ababaf111b</td>\n",
       "      <td>80.015220</td>\n",
       "      <td>136.252721</td>\n",
       "      <td>85.400829</td>\n",
       "      <td>1398.331230</td>\n",
       "      <td>0.474240</td>\n",
       "      <td>12.668687</td>\n",
       "      <td>0.015536</td>\n",
       "      <td>894.0</td>\n",
       "      <td>806.0</td>\n",
       "      <td>D6</td>\n",
       "      <td>D6</td>\n",
       "    </tr>\n",
       "    <tr>\n",
       "      <th>8</th>\n",
       "      <td>8</td>\n",
       "      <td>e3bcc89d-00e3-499b-839a-17ebbb792a17</td>\n",
       "      <td>17.000000</td>\n",
       "      <td>8.500000</td>\n",
       "      <td>8.500000</td>\n",
       "      <td>1666.000001</td>\n",
       "      <td>2.232143</td>\n",
       "      <td>2.691584</td>\n",
       "      <td>0.003397</td>\n",
       "      <td>0.0</td>\n",
       "      <td>1700.0</td>\n",
       "      <td>D7</td>\n",
       "      <td>D7</td>\n",
       "    </tr>\n",
       "    <tr>\n",
       "      <th>9</th>\n",
       "      <td>9</td>\n",
       "      <td>589feb90-658d-45c0-b704-c1c5268b45ce</td>\n",
       "      <td>227.983181</td>\n",
       "      <td>135.714202</td>\n",
       "      <td>223.863569</td>\n",
       "      <td>1112.439048</td>\n",
       "      <td>0.166444</td>\n",
       "      <td>36.096228</td>\n",
       "      <td>0.042717</td>\n",
       "      <td>1417.0</td>\n",
       "      <td>283.0</td>\n",
       "      <td>D8</td>\n",
       "      <td>D8</td>\n",
       "    </tr>\n",
       "    <tr>\n",
       "      <th>10</th>\n",
       "      <td>10</td>\n",
       "      <td>a681e515-1c5c-46bf-92b6-c7ef98e65dbc</td>\n",
       "      <td>178.177974</td>\n",
       "      <td>97.699205</td>\n",
       "      <td>51.521638</td>\n",
       "      <td>1372.601183</td>\n",
       "      <td>0.212969</td>\n",
       "      <td>28.210646</td>\n",
       "      <td>0.034526</td>\n",
       "      <td>1338.0</td>\n",
       "      <td>362.0</td>\n",
       "      <td>E1</td>\n",
       "      <td>E1</td>\n",
       "    </tr>\n",
       "    <tr>\n",
       "      <th>11</th>\n",
       "      <td>11</td>\n",
       "      <td>d3b3ffed-ab9e-4dff-aa0b-c27e04098d40</td>\n",
       "      <td>17.000000</td>\n",
       "      <td>73.021524</td>\n",
       "      <td>255.000010</td>\n",
       "      <td>1354.978466</td>\n",
       "      <td>2.232143</td>\n",
       "      <td>2.691584</td>\n",
       "      <td>0.003255</td>\n",
       "      <td>0.0</td>\n",
       "      <td>1700.0</td>\n",
       "      <td>E3</td>\n",
       "      <td>E3</td>\n",
       "    </tr>\n",
       "    <tr>\n",
       "      <th>12</th>\n",
       "      <td>12</td>\n",
       "      <td>354ab423-be15-44f1-9e75-729deb8d8871</td>\n",
       "      <td>225.465639</td>\n",
       "      <td>118.338937</td>\n",
       "      <td>90.784361</td>\n",
       "      <td>1265.411063</td>\n",
       "      <td>0.168302</td>\n",
       "      <td>35.697630</td>\n",
       "      <td>0.043151</td>\n",
       "      <td>1414.0</td>\n",
       "      <td>286.0</td>\n",
       "      <td>E4</td>\n",
       "      <td>E4</td>\n",
       "    </tr>\n",
       "    <tr>\n",
       "      <th>13</th>\n",
       "      <td>13</td>\n",
       "      <td>b64a2f90-9a87-4a70-8355-2ceed4448b0d</td>\n",
       "      <td>17.000000</td>\n",
       "      <td>8.500000</td>\n",
       "      <td>116.230139</td>\n",
       "      <td>1558.269861</td>\n",
       "      <td>2.232143</td>\n",
       "      <td>2.691584</td>\n",
       "      <td>0.003341</td>\n",
       "      <td>0.0</td>\n",
       "      <td>1700.0</td>\n",
       "      <td>E5</td>\n",
       "      <td>E5</td>\n",
       "    </tr>\n",
       "    <tr>\n",
       "      <th>14</th>\n",
       "      <td>14</td>\n",
       "      <td>cd55dfb0-6366-43ea-a2a7-14679305116c</td>\n",
       "      <td>17.000000</td>\n",
       "      <td>81.303794</td>\n",
       "      <td>8.500000</td>\n",
       "      <td>1593.196207</td>\n",
       "      <td>2.232143</td>\n",
       "      <td>2.691584</td>\n",
       "      <td>0.003377</td>\n",
       "      <td>0.0</td>\n",
       "      <td>1700.0</td>\n",
       "      <td>E6</td>\n",
       "      <td>E6</td>\n",
       "    </tr>\n",
       "    <tr>\n",
       "      <th>15</th>\n",
       "      <td>15</td>\n",
       "      <td>82c93265-a036-4be5-912f-ce5130c28a0d</td>\n",
       "      <td>17.000000</td>\n",
       "      <td>8.500000</td>\n",
       "      <td>179.565217</td>\n",
       "      <td>1494.934784</td>\n",
       "      <td>2.232143</td>\n",
       "      <td>2.691584</td>\n",
       "      <td>0.003309</td>\n",
       "      <td>0.0</td>\n",
       "      <td>1700.0</td>\n",
       "      <td>E8</td>\n",
       "      <td>E8</td>\n",
       "    </tr>\n",
       "    <tr>\n",
       "      <th>16</th>\n",
       "      <td>16</td>\n",
       "      <td>1b669acf-2b09-4691-a1c7-d16df5d79ac8</td>\n",
       "      <td>17.000000</td>\n",
       "      <td>89.335607</td>\n",
       "      <td>95.033135</td>\n",
       "      <td>1498.631259</td>\n",
       "      <td>2.232143</td>\n",
       "      <td>2.691584</td>\n",
       "      <td>0.003330</td>\n",
       "      <td>0.0</td>\n",
       "      <td>1700.0</td>\n",
       "      <td>F1</td>\n",
       "      <td>F1</td>\n",
       "    </tr>\n",
       "    <tr>\n",
       "      <th>17</th>\n",
       "      <td>17</td>\n",
       "      <td>d5f56302-f8df-4f6b-91b0-a97773e74fc9</td>\n",
       "      <td>247.657588</td>\n",
       "      <td>80.852505</td>\n",
       "      <td>50.997285</td>\n",
       "      <td>1320.492622</td>\n",
       "      <td>0.153221</td>\n",
       "      <td>39.211247</td>\n",
       "      <td>0.047713</td>\n",
       "      <td>1440.0</td>\n",
       "      <td>260.0</td>\n",
       "      <td>F2</td>\n",
       "      <td>F2</td>\n",
       "    </tr>\n",
       "    <tr>\n",
       "      <th>18</th>\n",
       "      <td>18</td>\n",
       "      <td>278e2798-ff6d-4302-bfdb-88998e6d8ca9</td>\n",
       "      <td>218.042535</td>\n",
       "      <td>24.737814</td>\n",
       "      <td>123.333541</td>\n",
       "      <td>1333.886110</td>\n",
       "      <td>0.174032</td>\n",
       "      <td>34.522341</td>\n",
       "      <td>0.041868</td>\n",
       "      <td>1404.0</td>\n",
       "      <td>296.0</td>\n",
       "      <td>F3</td>\n",
       "      <td>F3</td>\n",
       "    </tr>\n",
       "    <tr>\n",
       "      <th>19</th>\n",
       "      <td>19</td>\n",
       "      <td>be975963-2cec-49ce-8df6-ea17e488531d</td>\n",
       "      <td>253.387681</td>\n",
       "      <td>114.493962</td>\n",
       "      <td>11.438124</td>\n",
       "      <td>1320.680234</td>\n",
       "      <td>0.149756</td>\n",
       "      <td>40.118484</td>\n",
       "      <td>0.048947</td>\n",
       "      <td>1445.0</td>\n",
       "      <td>255.0</td>\n",
       "      <td>F4</td>\n",
       "      <td>F4</td>\n",
       "    </tr>\n",
       "  </tbody>\n",
       "</table>\n",
       "</div>"
      ],
      "text/plain": [
       "    Unnamed: 0                                  uuid  teos_volume  \\\n",
       "0            0  e208582e-4c43-433c-a80f-afdf6f316ff2    17.000000   \n",
       "1            1  eb72b1cf-3078-4701-b7ea-caf926b65285   109.727637   \n",
       "2            2  f5868166-a4f1-4a89-b04e-9a27fcf5fdcc   156.501164   \n",
       "3            3  9d4a106e-7434-4f1a-96b4-5cdd328353fc    17.000000   \n",
       "4            4  c5e36adc-8e26-4974-a080-a729a65ad94f   255.000010   \n",
       "5            5  0ded08ed-937d-4368-a29f-b7de0f5ddbd4    17.000000   \n",
       "6            6  5305d0c7-aee5-46f9-a63f-1cd42ee67d87   248.306568   \n",
       "7            7  9dc15241-60be-4ce1-86a1-52ababaf111b    80.015220   \n",
       "8            8  e3bcc89d-00e3-499b-839a-17ebbb792a17    17.000000   \n",
       "9            9  589feb90-658d-45c0-b704-c1c5268b45ce   227.983181   \n",
       "10          10  a681e515-1c5c-46bf-92b6-c7ef98e65dbc   178.177974   \n",
       "11          11  d3b3ffed-ab9e-4dff-aa0b-c27e04098d40    17.000000   \n",
       "12          12  354ab423-be15-44f1-9e75-729deb8d8871   225.465639   \n",
       "13          13  b64a2f90-9a87-4a70-8355-2ceed4448b0d    17.000000   \n",
       "14          14  cd55dfb0-6366-43ea-a2a7-14679305116c    17.000000   \n",
       "15          15  82c93265-a036-4be5-912f-ce5130c28a0d    17.000000   \n",
       "16          16  1b669acf-2b09-4691-a1c7-d16df5d79ac8    17.000000   \n",
       "17          17  d5f56302-f8df-4f6b-91b0-a97773e74fc9   247.657588   \n",
       "18          18  278e2798-ff6d-4302-bfdb-88998e6d8ca9   218.042535   \n",
       "19          19  be975963-2cec-49ce-8df6-ea17e488531d   253.387681   \n",
       "\n",
       "    ammonia_volume  water_volume  ethanol_volume  dilution_volume_fraction  \\\n",
       "0         8.500000    255.000010     1419.499990                  2.232143   \n",
       "1        18.163508    127.154971     1444.953884                  0.345824   \n",
       "2        62.749447      8.500000     1472.249390                  0.242467   \n",
       "3       121.499975      8.500000     1553.000026                  2.232143   \n",
       "4         8.500000    234.293984     1202.206006                  0.148810   \n",
       "5        53.639435     98.942080     1530.418485                  2.232143   \n",
       "6       145.138811     79.710672     1226.843949                  0.152821   \n",
       "7       136.252721     85.400829     1398.331230                  0.474240   \n",
       "8         8.500000      8.500000     1666.000001                  2.232143   \n",
       "9       135.714202    223.863569     1112.439048                  0.166444   \n",
       "10       97.699205     51.521638     1372.601183                  0.212969   \n",
       "11       73.021524    255.000010     1354.978466                  2.232143   \n",
       "12      118.338937     90.784361     1265.411063                  0.168302   \n",
       "13        8.500000    116.230139     1558.269861                  2.232143   \n",
       "14       81.303794      8.500000     1593.196207                  2.232143   \n",
       "15        8.500000    179.565217     1494.934784                  2.232143   \n",
       "16       89.335607     95.033135     1498.631259                  2.232143   \n",
       "17       80.852505     50.997285     1320.492622                  0.153221   \n",
       "18       24.737814    123.333541     1333.886110                  0.174032   \n",
       "19      114.493962     11.438124     1320.680234                  0.149756   \n",
       "\n",
       "    silica_mass_conc  silica_mass_fraction  ethanol_dilute_vol  \\\n",
       "0           2.691584              0.003272                 0.0   \n",
       "1          17.373009              0.021306              1112.0   \n",
       "2          24.778590              0.030679              1288.0   \n",
       "3           2.691584              0.003366                 0.0   \n",
       "4          40.373762              0.048048              1447.0   \n",
       "5           2.691584              0.003338                 0.0   \n",
       "6          39.313999              0.047389              1440.0   \n",
       "7          12.668687              0.015536               894.0   \n",
       "8           2.691584              0.003397                 0.0   \n",
       "9          36.096228              0.042717              1417.0   \n",
       "10         28.210646              0.034526              1338.0   \n",
       "11          2.691584              0.003255                 0.0   \n",
       "12         35.697630              0.043151              1414.0   \n",
       "13          2.691584              0.003341                 0.0   \n",
       "14          2.691584              0.003377                 0.0   \n",
       "15          2.691584              0.003309                 0.0   \n",
       "16          2.691584              0.003330                 0.0   \n",
       "17         39.211247              0.047713              1440.0   \n",
       "18         34.522341              0.041868              1404.0   \n",
       "19         40.118484              0.048947              1445.0   \n",
       "\n",
       "    sample_dilute_vol well dilute_well  \n",
       "0              1700.0   C7          C7  \n",
       "1               588.0   C8          C8  \n",
       "2               412.0   D1          D1  \n",
       "3              1700.0   D2          D2  \n",
       "4               253.0   D3          D3  \n",
       "5              1700.0   D4          D4  \n",
       "6               260.0   D5          D5  \n",
       "7               806.0   D6          D6  \n",
       "8              1700.0   D7          D7  \n",
       "9               283.0   D8          D8  \n",
       "10              362.0   E1          E1  \n",
       "11             1700.0   E3          E3  \n",
       "12              286.0   E4          E4  \n",
       "13             1700.0   E5          E5  \n",
       "14             1700.0   E6          E6  \n",
       "15             1700.0   E8          E8  \n",
       "16             1700.0   F1          F1  \n",
       "17              260.0   F2          F2  \n",
       "18              296.0   F3          F3  \n",
       "19              255.0   F4          F4  "
      ]
     },
     "execution_count": 62,
     "metadata": {},
     "output_type": "execute_result"
    }
   ],
   "source": [
    "dilution_table_rmse"
   ]
  },
  {
   "cell_type": "code",
   "execution_count": 63,
   "id": "7753c222-5c1d-493a-a7a8-8529cb116fed",
   "metadata": {},
   "outputs": [],
   "source": [
    "location_lookup_dilute_apdist = {}\n",
    "\n",
    "for i, row in dilution_table_apdist.iterrows():\n",
    "    uuid_val = row['uuid']\n",
    "    well = row['well']\n",
    "    if well is not np.nan:\n",
    "        well_loc = samples_apdist[well]\n",
    "    else:\n",
    "        well_loc = None\n",
    "\n",
    "    location_lookup_dilute_apdist[uuid_val] = well_loc"
   ]
  },
  {
   "cell_type": "code",
   "execution_count": 64,
   "id": "58d3a1a2-b53e-4f1a-8ca8-aa8a684ce385",
   "metadata": {},
   "outputs": [],
   "source": [
    "location_lookup_dilute_rmse = {}\n",
    "\n",
    "for i, row in dilution_table_rmse.iterrows():\n",
    "    uuid_val = row['uuid']\n",
    "    well = row['well']\n",
    "    if well is not np.nan:\n",
    "        well_loc = samples_rmse[well]\n",
    "    else:\n",
    "        well_loc = None\n",
    "\n",
    "    location_lookup_dilute_rmse[uuid_val] = well_loc"
   ]
  },
  {
   "cell_type": "code",
   "execution_count": 69,
   "id": "57de8e15-1e60-40ee-bfe6-e7d15a7be4a0",
   "metadata": {},
   "outputs": [
    {
     "data": {
      "text/plain": [
       "14639.0"
      ]
     },
     "execution_count": 69,
     "metadata": {},
     "output_type": "execute_result"
    }
   ],
   "source": [
    "dilution_table_rmse['ethanol_dilute_vol'].sum()"
   ]
  },
  {
   "cell_type": "markdown",
   "id": "e2ddb62c-d3f3-4c45-917a-e575189606c9",
   "metadata": {},
   "source": [
    "## add ethanol"
   ]
  },
  {
   "cell_type": "code",
   "execution_count": 73,
   "id": "a6c28415-6603-4bff-aad2-fd7fe99dd604",
   "metadata": {},
   "outputs": [],
   "source": [
    "stober.add_reactants_batch(jubilee, mix_syringe, mix_syringe, sample_table_apdist, location_lookup_apdist, 'ethanol_volume', ethanol_stocks_apdist[:3], stocks_usable_volume=15000, dwell_time = 10)"
   ]
  },
  {
   "cell_type": "code",
   "execution_count": 74,
   "id": "0f4144b3-a7f9-4650-886f-054cd544228a",
   "metadata": {},
   "outputs": [],
   "source": [
    "\n",
    "stober.add_reactants_batch(jubilee, mix_syringe, mix_syringe, sample_table_rmse, location_lookup_rmse, 'ethanol_volume', ethanol_stocks_rmse[:3], stocks_usable_volume=15000, dwell_time = 10)"
   ]
  },
  {
   "cell_type": "code",
   "execution_count": 75,
   "id": "7d204157-ed65-4f49-acbc-d192222f0dc6",
   "metadata": {},
   "outputs": [],
   "source": [
    "#dispense remaining volume from etOH mix syringe\n",
    "jubilee.pickup_tool(mix_syringe)\n",
    "mix_syringe.dispense(mix_syringe.remaining_volume-1, trash[0])\n",
    "logger.info('Emptied ethanol syringe into trash')\n",
    "jubilee.park_tool()"
   ]
  },
  {
   "cell_type": "code",
   "execution_count": 76,
   "id": "2fc66aa1-bc70-4098-8e37-f148188c26c6",
   "metadata": {},
   "outputs": [],
   "source": [
    "mix_syringe.set_pulsewidth(mix_syringe.empty_position-1)"
   ]
  },
  {
   "cell_type": "markdown",
   "id": "9e35c96c-2ea8-438a-989d-f6d73c8f16ed",
   "metadata": {},
   "source": [
    "## Dispense water\n"
   ]
  },
  {
   "cell_type": "code",
   "execution_count": 77,
   "id": "9f765450-7f64-49e7-85f8-335e2fa0b666",
   "metadata": {},
   "outputs": [],
   "source": [
    "stober.add_reactants_batch(jubilee, water_syringe, mix_syringe, sample_table_apdist, location_lookup_apdist, 'water_volume', water_stocks, dwell_time = 7)"
   ]
  },
  {
   "cell_type": "code",
   "execution_count": 78,
   "id": "16b57d0a-7d0f-4a3e-9ed9-0c021c31f538",
   "metadata": {},
   "outputs": [],
   "source": [
    "stober.add_reactants_batch(jubilee, water_syringe, mix_syringe, sample_table_rmse, location_lookup_rmse, 'water_volume', water_stocks, dwell_time = 7)"
   ]
  },
  {
   "cell_type": "markdown",
   "id": "cd60cc24-167e-46e5-9e73-a2457c8964de",
   "metadata": {},
   "source": [
    "## dispense Ammonia"
   ]
  },
  {
   "cell_type": "code",
   "execution_count": 79,
   "id": "7dc4c2ae-9e4e-40e0-929a-6e0a3e4bc240",
   "metadata": {},
   "outputs": [],
   "source": [
    "stober.add_reactants_batch(jubilee, ammonia_syringe, mix_syringe, sample_table_apdist, location_lookup_apdist, 'ammonia_volume', ammonia_stocks)"
   ]
  },
  {
   "cell_type": "code",
   "execution_count": 80,
   "id": "e7f6b494-541c-4ca7-82a1-be053a1869aa",
   "metadata": {},
   "outputs": [],
   "source": [
    "stober.add_reactants_batch(jubilee, ammonia_syringe, mix_syringe, sample_table_rmse, location_lookup_rmse, 'ammonia_volume', ammonia_stocks)"
   ]
  },
  {
   "cell_type": "markdown",
   "id": "bc8a34b3-acd7-4b89-a9ea-34b514cd3d8c",
   "metadata": {},
   "source": [
    "## mix precursors"
   ]
  },
  {
   "cell_type": "code",
   "execution_count": 81,
   "id": "f4f701c5-7908-489e-a1eb-9b2c60438c96",
   "metadata": {},
   "outputs": [],
   "source": [
    "stober.first_mix(jubilee, mix_syringe, 2000, location_lookup_apdist, rinse_stocks_apdist, 5)"
   ]
  },
  {
   "cell_type": "code",
   "execution_count": 82,
   "id": "0d0c3df5-714e-4ffb-a925-e76fbfd542e7",
   "metadata": {},
   "outputs": [],
   "source": [
    "stober.first_mix(jubilee, mix_syringe, 2000, location_lookup_rmse, rinse_stocks_rmse, 5)"
   ]
  },
  {
   "cell_type": "markdown",
   "id": "000c1369-b5a0-4183-97d4-fced54279516",
   "metadata": {},
   "source": [
    "## Add TEOS and mix"
   ]
  },
  {
   "cell_type": "code",
   "execution_count": 83,
   "id": "85496a20-bb2d-4363-a2c5-41685f0353f9",
   "metadata": {},
   "outputs": [],
   "source": [
    "teos_start_time = time.time()"
   ]
  },
  {
   "cell_type": "code",
   "execution_count": 84,
   "id": "efccb2d6-234a-4af8-a87d-4d904696a48e",
   "metadata": {},
   "outputs": [],
   "source": [
    "stober.add_reactants_batch(jubilee, teos_syringe, mix_syringe, sample_table_apdist, location_lookup_apdist, 'teos_volume', teos_stocks, mix_after=(2000, 5, rinse_stocks_apdist))"
   ]
  },
  {
   "cell_type": "code",
   "execution_count": 85,
   "id": "8db9bc79-6cdb-4dde-a477-6a81616fec1c",
   "metadata": {},
   "outputs": [],
   "source": [
    "stober.add_reactants_batch(jubilee, teos_syringe, mix_syringe, sample_table_rmse, location_lookup_rmse, 'teos_volume', teos_stocks, mix_after=(2000, 5, rinse_stocks_rmse))"
   ]
  },
  {
   "cell_type": "markdown",
   "id": "cf654819-0ae6-452a-bdbe-5f2a008f1b1c",
   "metadata": {},
   "source": [
    "### Dilution"
   ]
  },
  {
   "cell_type": "code",
   "execution_count": 86,
   "id": "5c533083-99a5-4efe-8f99-0bd3b538c394",
   "metadata": {},
   "outputs": [],
   "source": [
    "hrs5 = 60*60*5\n",
    "while (time.time() - teos_start_time) < hrs5:\n",
    "    time.sleep(60)\n",
    "\n",
    "#dispese ethanol into dilution vials\n",
    "stober.add_reactants_batch(jubilee, mix_syringe, mix_syringe, dilution_table_apdist, location_lookup_dilute_apdist, 'ethanol_dilute_vol', ethanol_stocks_apdist[4:], stocks_usable_volume=15000, dwell_time = 10)\n",
    "\n",
    "jubilee.pickup_tool(mix_syringe)\n",
    "mix_syringe.dispense(mix_syringe.remaining_volume-1, trash[0])\n",
    "logger.info('Emptied ethanol syringe into trash')\n",
    "jubilee.park_tool()\n",
    "\n",
    "jubilee.pickup_tool(mix_syringe)\n",
    "rinse_vol = 2000\n",
    "for i, row in dilution_table_apdist.iterrows():\n",
    "    uuid_val = row['uuid']\n",
    "    sample_well = location_lookup_apdist[uuid_val]\n",
    "    dilute_well = location_lookup_dilute_apdist[uuid_val]\n",
    "    if dilute_well is None:\n",
    "        continue\n",
    "    else:\n",
    "        vol = row['sample_dilute_vol']\n",
    "        \n",
    "        mix_syringe.aspirate(vol, sample_well.bottom(+5))\n",
    "        time.sleep(10)\n",
    "        mix_syringe.dispense(vol, dilute_well.bottom(+5))\n",
    "        time.sleep(10)\n",
    "        logger.info(f'Transferred {vol} uL from {sample_well} to {dilute_well}')\n",
    "    \n",
    "        for stock in rinse_stocks_apdist:\n",
    "            mix_syringe.mix(rinse_vol, 5, stock.bottom(+10), t_hold = 3, s_aspirate = 2000, s_dispense = 500)\n",
    "    \n",
    "        logger.info(f'Washed mix syringe in wash solutions {rinse_stocks_apdist}')\n",
    "\n",
    "    "
   ]
  },
  {
   "cell_type": "code",
   "execution_count": 87,
   "id": "c9cb2dfa-c49e-4595-900b-66adb09affd3",
   "metadata": {},
   "outputs": [],
   "source": [
    "# dispese ethanol into dilution vials\n",
    "stober.add_reactants_batch(jubilee, mix_syringe, mix_syringe, dilution_table_rmse, location_lookup_dilute_rmse, 'ethanol_dilute_vol', ethanol_stocks_rmse[4:], stocks_usable_volume=15000, dwell_time = 10)\n",
    "\n",
    "jubilee.pickup_tool(mix_syringe)\n",
    "mix_syringe.dispense(mix_syringe.remaining_volume-1, trash[0])\n",
    "logger.info('Emptied ethanol syringe into trash')\n",
    "jubilee.park_tool()\n",
    "\n",
    "jubilee.pickup_tool(mix_syringe)\n",
    "rinse_vol = 2000\n",
    "for i, row in dilution_table_rmse.iterrows():\n",
    "    uuid_val = row['uuid']\n",
    "    sample_well = location_lookup_rmse[uuid_val]\n",
    "    dilute_well = location_lookup_dilute_rmse[uuid_val]\n",
    "    if dilute_well is None:\n",
    "        continue\n",
    "    else:\n",
    "        vol = row['sample_dilute_vol']\n",
    "        \n",
    "        mix_syringe.aspirate(vol, sample_well.bottom(+5))\n",
    "        time.sleep(10)\n",
    "        mix_syringe.dispense(vol, dilute_well.bottom(+5))\n",
    "        time.sleep(10)\n",
    "        logger.info(f'Transferred {vol} uL from {sample_well} to {dilute_well}')\n",
    "    \n",
    "        for stock in rinse_stocks_rmse:\n",
    "            mix_syringe.mix(rinse_vol, 5, stock.bottom(+10), t_hold = 3, s_aspirate = 2000, s_dispense = 500)\n",
    "    \n",
    "        logger.info(f'Washed mix syringe in wash solutions {rinse_stocks_rmse}')"
   ]
  },
  {
   "cell_type": "code",
   "execution_count": 88,
   "id": "fc8002db-155a-4841-ba3c-25da7f73aafd",
   "metadata": {},
   "outputs": [],
   "source": [
    "jubilee.park_tool()"
   ]
  },
  {
   "cell_type": "code",
   "execution_count": 91,
   "id": "18d77df9-f5ab-4212-b386-c1eee378bc53",
   "metadata": {},
   "outputs": [],
   "source": [
    "water_syringe.set_pulsewidth(water_syringe.empty_position-1)"
   ]
  },
  {
   "cell_type": "code",
   "execution_count": 92,
   "id": "a69392e0-de9f-41c2-aac3-cb2fb9fb1230",
   "metadata": {},
   "outputs": [],
   "source": [
    "ammonia_syringe.set_pulsewidth(ammonia_syringe.empty_position-1)"
   ]
  },
  {
   "cell_type": "code",
   "execution_count": 93,
   "id": "1b5ff69f-ca4b-44d3-beb8-2d7899e510c5",
   "metadata": {},
   "outputs": [],
   "source": [
    "teos_syringe.set_pulsewidth(teos_syringe.empty_position-1)"
   ]
  },
  {
   "cell_type": "code",
   "execution_count": 89,
   "id": "595e3206-561b-4ea9-8834-4e3d5a6d2345",
   "metadata": {},
   "outputs": [
    {
     "data": {
      "text/html": [
       "<div>\n",
       "<style scoped>\n",
       "    .dataframe tbody tr th:only-of-type {\n",
       "        vertical-align: middle;\n",
       "    }\n",
       "\n",
       "    .dataframe tbody tr th {\n",
       "        vertical-align: top;\n",
       "    }\n",
       "\n",
       "    .dataframe thead th {\n",
       "        text-align: right;\n",
       "    }\n",
       "</style>\n",
       "<table border=\"1\" class=\"dataframe\">\n",
       "  <thead>\n",
       "    <tr style=\"text-align: right;\">\n",
       "      <th></th>\n",
       "      <th>Unnamed: 0</th>\n",
       "      <th>uuid</th>\n",
       "      <th>teos_volume</th>\n",
       "      <th>ammonia_volume</th>\n",
       "      <th>water_volume</th>\n",
       "      <th>ethanol_volume</th>\n",
       "      <th>dilution_volume_fraction</th>\n",
       "      <th>silica_mass_conc</th>\n",
       "      <th>silica_mass_fraction</th>\n",
       "      <th>ethanol_dilute_vol</th>\n",
       "      <th>sample_dilute_vol</th>\n",
       "      <th>well</th>\n",
       "      <th>dilute_well</th>\n",
       "    </tr>\n",
       "  </thead>\n",
       "  <tbody>\n",
       "    <tr>\n",
       "      <th>0</th>\n",
       "      <td>0</td>\n",
       "      <td>fd81638a-14cb-4a0a-8556-dcd7a308c87e</td>\n",
       "      <td>85.564087</td>\n",
       "      <td>29.156944</td>\n",
       "      <td>99.069544</td>\n",
       "      <td>1486.209425</td>\n",
       "      <td>0.443485</td>\n",
       "      <td>13.547231</td>\n",
       "      <td>0.016712</td>\n",
       "      <td>946.0</td>\n",
       "      <td>754.0</td>\n",
       "      <td>A1</td>\n",
       "      <td>C7</td>\n",
       "    </tr>\n",
       "    <tr>\n",
       "      <th>1</th>\n",
       "      <td>1</td>\n",
       "      <td>793a471e-38ac-4081-be60-88905851c3e2</td>\n",
       "      <td>17.000000</td>\n",
       "      <td>125.486810</td>\n",
       "      <td>8.500000</td>\n",
       "      <td>1549.013191</td>\n",
       "      <td>2.232143</td>\n",
       "      <td>2.691584</td>\n",
       "      <td>0.003365</td>\n",
       "      <td>0.0</td>\n",
       "      <td>1700.0</td>\n",
       "      <td>A2</td>\n",
       "      <td>C8</td>\n",
       "    </tr>\n",
       "    <tr>\n",
       "      <th>2</th>\n",
       "      <td>2</td>\n",
       "      <td>26057b89-b361-498c-a63b-0447de234580</td>\n",
       "      <td>163.409560</td>\n",
       "      <td>81.450479</td>\n",
       "      <td>65.551081</td>\n",
       "      <td>1389.588881</td>\n",
       "      <td>0.232217</td>\n",
       "      <td>25.872386</td>\n",
       "      <td>0.031687</td>\n",
       "      <td>1305.0</td>\n",
       "      <td>395.0</td>\n",
       "      <td>A3</td>\n",
       "      <td>D1</td>\n",
       "    </tr>\n",
       "    <tr>\n",
       "      <th>3</th>\n",
       "      <td>3</td>\n",
       "      <td>a44315b0-0099-4630-a327-a22940b04fac</td>\n",
       "      <td>17.000000</td>\n",
       "      <td>82.227252</td>\n",
       "      <td>150.579789</td>\n",
       "      <td>1450.192959</td>\n",
       "      <td>2.232143</td>\n",
       "      <td>2.691584</td>\n",
       "      <td>0.003304</td>\n",
       "      <td>0.0</td>\n",
       "      <td>1700.0</td>\n",
       "      <td>A4</td>\n",
       "      <td>D2</td>\n",
       "    </tr>\n",
       "    <tr>\n",
       "      <th>4</th>\n",
       "      <td>4</td>\n",
       "      <td>67d341f0-6e24-4565-8491-b1e25915268e</td>\n",
       "      <td>17.000000</td>\n",
       "      <td>8.500000</td>\n",
       "      <td>255.000010</td>\n",
       "      <td>1419.499990</td>\n",
       "      <td>2.232143</td>\n",
       "      <td>2.691584</td>\n",
       "      <td>0.003272</td>\n",
       "      <td>0.0</td>\n",
       "      <td>1700.0</td>\n",
       "      <td>A5</td>\n",
       "      <td>D3</td>\n",
       "    </tr>\n",
       "    <tr>\n",
       "      <th>5</th>\n",
       "      <td>5</td>\n",
       "      <td>e610c151-4fb9-40da-b50b-42152154cc3e</td>\n",
       "      <td>255.000010</td>\n",
       "      <td>8.500000</td>\n",
       "      <td>255.000010</td>\n",
       "      <td>1181.499980</td>\n",
       "      <td>0.148810</td>\n",
       "      <td>40.373762</td>\n",
       "      <td>0.047903</td>\n",
       "      <td>1447.0</td>\n",
       "      <td>253.0</td>\n",
       "      <td>A6</td>\n",
       "      <td>D4</td>\n",
       "    </tr>\n",
       "    <tr>\n",
       "      <th>6</th>\n",
       "      <td>6</td>\n",
       "      <td>dd7d8c25-a268-4e24-acc8-1c2b445a0c04</td>\n",
       "      <td>113.587596</td>\n",
       "      <td>103.904405</td>\n",
       "      <td>122.599319</td>\n",
       "      <td>1359.908680</td>\n",
       "      <td>0.334072</td>\n",
       "      <td>17.984150</td>\n",
       "      <td>0.021911</td>\n",
       "      <td>1132.0</td>\n",
       "      <td>568.0</td>\n",
       "      <td>A7</td>\n",
       "      <td>D5</td>\n",
       "    </tr>\n",
       "    <tr>\n",
       "      <th>7</th>\n",
       "      <td>7</td>\n",
       "      <td>1740f218-6f41-4bfa-9f7d-b8ee9693cfea</td>\n",
       "      <td>66.193753</td>\n",
       "      <td>15.785255</td>\n",
       "      <td>36.089596</td>\n",
       "      <td>1581.931396</td>\n",
       "      <td>0.573263</td>\n",
       "      <td>10.480356</td>\n",
       "      <td>0.013095</td>\n",
       "      <td>725.0</td>\n",
       "      <td>975.0</td>\n",
       "      <td>A8</td>\n",
       "      <td>D6</td>\n",
       "    </tr>\n",
       "    <tr>\n",
       "      <th>8</th>\n",
       "      <td>8</td>\n",
       "      <td>02af0228-53e6-4259-988e-ecf5e64b49e6</td>\n",
       "      <td>39.423189</td>\n",
       "      <td>182.086964</td>\n",
       "      <td>151.508079</td>\n",
       "      <td>1326.981768</td>\n",
       "      <td>0.962541</td>\n",
       "      <td>6.241813</td>\n",
       "      <td>0.007583</td>\n",
       "      <td>64.0</td>\n",
       "      <td>1636.0</td>\n",
       "      <td>B1</td>\n",
       "      <td>D7</td>\n",
       "    </tr>\n",
       "    <tr>\n",
       "      <th>9</th>\n",
       "      <td>9</td>\n",
       "      <td>f6f7041d-0535-458a-a414-1f45eacbb474</td>\n",
       "      <td>229.388371</td>\n",
       "      <td>142.450392</td>\n",
       "      <td>64.049350</td>\n",
       "      <td>1264.111887</td>\n",
       "      <td>0.165424</td>\n",
       "      <td>36.318710</td>\n",
       "      <td>0.043975</td>\n",
       "      <td>1419.0</td>\n",
       "      <td>281.0</td>\n",
       "      <td>B3</td>\n",
       "      <td>D8</td>\n",
       "    </tr>\n",
       "    <tr>\n",
       "      <th>10</th>\n",
       "      <td>10</td>\n",
       "      <td>3e926de7-ba33-4027-8fd3-3d4832b218cb</td>\n",
       "      <td>255.000010</td>\n",
       "      <td>41.754344</td>\n",
       "      <td>148.538703</td>\n",
       "      <td>1254.706942</td>\n",
       "      <td>0.148810</td>\n",
       "      <td>40.373762</td>\n",
       "      <td>0.048533</td>\n",
       "      <td>1447.0</td>\n",
       "      <td>253.0</td>\n",
       "      <td>B4</td>\n",
       "      <td>E1</td>\n",
       "    </tr>\n",
       "    <tr>\n",
       "      <th>11</th>\n",
       "      <td>11</td>\n",
       "      <td>85f57980-a93d-460c-9cd5-d105ef2c6215</td>\n",
       "      <td>255.000010</td>\n",
       "      <td>29.188267</td>\n",
       "      <td>142.388265</td>\n",
       "      <td>1273.423458</td>\n",
       "      <td>0.148810</td>\n",
       "      <td>40.373762</td>\n",
       "      <td>0.048625</td>\n",
       "      <td>1447.0</td>\n",
       "      <td>253.0</td>\n",
       "      <td>B5</td>\n",
       "      <td>E3</td>\n",
       "    </tr>\n",
       "    <tr>\n",
       "      <th>12</th>\n",
       "      <td>12</td>\n",
       "      <td>b9eb35ad-8c35-4a76-a208-5fcdb71a8cbd</td>\n",
       "      <td>17.000000</td>\n",
       "      <td>104.720430</td>\n",
       "      <td>79.159227</td>\n",
       "      <td>1499.120343</td>\n",
       "      <td>2.232143</td>\n",
       "      <td>2.691584</td>\n",
       "      <td>0.003334</td>\n",
       "      <td>0.0</td>\n",
       "      <td>1700.0</td>\n",
       "      <td>B6</td>\n",
       "      <td>E4</td>\n",
       "    </tr>\n",
       "    <tr>\n",
       "      <th>13</th>\n",
       "      <td>13</td>\n",
       "      <td>6b32b879-40e7-471e-a10b-29a9c568d1ad</td>\n",
       "      <td>17.000000</td>\n",
       "      <td>116.375291</td>\n",
       "      <td>161.742640</td>\n",
       "      <td>1404.882069</td>\n",
       "      <td>2.232143</td>\n",
       "      <td>2.691584</td>\n",
       "      <td>0.003290</td>\n",
       "      <td>0.0</td>\n",
       "      <td>1700.0</td>\n",
       "      <td>B8</td>\n",
       "      <td>E5</td>\n",
       "    </tr>\n",
       "    <tr>\n",
       "      <th>14</th>\n",
       "      <td>14</td>\n",
       "      <td>28353337-dc97-4f47-9b6b-16098fb95402</td>\n",
       "      <td>17.000000</td>\n",
       "      <td>40.863736</td>\n",
       "      <td>132.038634</td>\n",
       "      <td>1510.097631</td>\n",
       "      <td>2.232143</td>\n",
       "      <td>2.691584</td>\n",
       "      <td>0.003324</td>\n",
       "      <td>0.0</td>\n",
       "      <td>1700.0</td>\n",
       "      <td>C1</td>\n",
       "      <td>E6</td>\n",
       "    </tr>\n",
       "    <tr>\n",
       "      <th>15</th>\n",
       "      <td>15</td>\n",
       "      <td>64c2103a-e77d-41f0-897a-a8d88888b562</td>\n",
       "      <td>17.000000</td>\n",
       "      <td>50.031143</td>\n",
       "      <td>255.000010</td>\n",
       "      <td>1377.968848</td>\n",
       "      <td>2.232143</td>\n",
       "      <td>2.691584</td>\n",
       "      <td>0.003261</td>\n",
       "      <td>0.0</td>\n",
       "      <td>1700.0</td>\n",
       "      <td>C2</td>\n",
       "      <td>E8</td>\n",
       "    </tr>\n",
       "    <tr>\n",
       "      <th>16</th>\n",
       "      <td>16</td>\n",
       "      <td>fd8bb27b-e747-4d87-b7d8-97fed17354db</td>\n",
       "      <td>17.000000</td>\n",
       "      <td>127.792399</td>\n",
       "      <td>255.000010</td>\n",
       "      <td>1300.207591</td>\n",
       "      <td>2.232143</td>\n",
       "      <td>2.691584</td>\n",
       "      <td>0.003241</td>\n",
       "      <td>0.0</td>\n",
       "      <td>1700.0</td>\n",
       "      <td>C3</td>\n",
       "      <td>F1</td>\n",
       "    </tr>\n",
       "    <tr>\n",
       "      <th>17</th>\n",
       "      <td>17</td>\n",
       "      <td>c91d4e20-59ba-49d7-8a04-c75213c5180e</td>\n",
       "      <td>80.374516</td>\n",
       "      <td>168.974425</td>\n",
       "      <td>191.328385</td>\n",
       "      <td>1259.322675</td>\n",
       "      <td>0.472120</td>\n",
       "      <td>12.725574</td>\n",
       "      <td>0.015320</td>\n",
       "      <td>897.0</td>\n",
       "      <td>803.0</td>\n",
       "      <td>C4</td>\n",
       "      <td>F2</td>\n",
       "    </tr>\n",
       "    <tr>\n",
       "      <th>18</th>\n",
       "      <td>18</td>\n",
       "      <td>f57690ca-b5f3-435c-8cfc-a059ddf2c88b</td>\n",
       "      <td>17.000000</td>\n",
       "      <td>186.999999</td>\n",
       "      <td>8.500000</td>\n",
       "      <td>1487.500002</td>\n",
       "      <td>2.232143</td>\n",
       "      <td>2.691584</td>\n",
       "      <td>0.003348</td>\n",
       "      <td>0.0</td>\n",
       "      <td>1700.0</td>\n",
       "      <td>C5</td>\n",
       "      <td>F3</td>\n",
       "    </tr>\n",
       "    <tr>\n",
       "      <th>19</th>\n",
       "      <td>19</td>\n",
       "      <td>057e50c9-1d9e-4502-9fcc-e0f5bebf6113</td>\n",
       "      <td>179.878206</td>\n",
       "      <td>127.342972</td>\n",
       "      <td>99.817439</td>\n",
       "      <td>1292.961383</td>\n",
       "      <td>0.210956</td>\n",
       "      <td>28.479841</td>\n",
       "      <td>0.034516</td>\n",
       "      <td>1341.0</td>\n",
       "      <td>359.0</td>\n",
       "      <td>C6</td>\n",
       "      <td>F4</td>\n",
       "    </tr>\n",
       "  </tbody>\n",
       "</table>\n",
       "</div>"
      ],
      "text/plain": [
       "    Unnamed: 0                                  uuid  teos_volume  \\\n",
       "0            0  fd81638a-14cb-4a0a-8556-dcd7a308c87e    85.564087   \n",
       "1            1  793a471e-38ac-4081-be60-88905851c3e2    17.000000   \n",
       "2            2  26057b89-b361-498c-a63b-0447de234580   163.409560   \n",
       "3            3  a44315b0-0099-4630-a327-a22940b04fac    17.000000   \n",
       "4            4  67d341f0-6e24-4565-8491-b1e25915268e    17.000000   \n",
       "5            5  e610c151-4fb9-40da-b50b-42152154cc3e   255.000010   \n",
       "6            6  dd7d8c25-a268-4e24-acc8-1c2b445a0c04   113.587596   \n",
       "7            7  1740f218-6f41-4bfa-9f7d-b8ee9693cfea    66.193753   \n",
       "8            8  02af0228-53e6-4259-988e-ecf5e64b49e6    39.423189   \n",
       "9            9  f6f7041d-0535-458a-a414-1f45eacbb474   229.388371   \n",
       "10          10  3e926de7-ba33-4027-8fd3-3d4832b218cb   255.000010   \n",
       "11          11  85f57980-a93d-460c-9cd5-d105ef2c6215   255.000010   \n",
       "12          12  b9eb35ad-8c35-4a76-a208-5fcdb71a8cbd    17.000000   \n",
       "13          13  6b32b879-40e7-471e-a10b-29a9c568d1ad    17.000000   \n",
       "14          14  28353337-dc97-4f47-9b6b-16098fb95402    17.000000   \n",
       "15          15  64c2103a-e77d-41f0-897a-a8d88888b562    17.000000   \n",
       "16          16  fd8bb27b-e747-4d87-b7d8-97fed17354db    17.000000   \n",
       "17          17  c91d4e20-59ba-49d7-8a04-c75213c5180e    80.374516   \n",
       "18          18  f57690ca-b5f3-435c-8cfc-a059ddf2c88b    17.000000   \n",
       "19          19  057e50c9-1d9e-4502-9fcc-e0f5bebf6113   179.878206   \n",
       "\n",
       "    ammonia_volume  water_volume  ethanol_volume  dilution_volume_fraction  \\\n",
       "0        29.156944     99.069544     1486.209425                  0.443485   \n",
       "1       125.486810      8.500000     1549.013191                  2.232143   \n",
       "2        81.450479     65.551081     1389.588881                  0.232217   \n",
       "3        82.227252    150.579789     1450.192959                  2.232143   \n",
       "4         8.500000    255.000010     1419.499990                  2.232143   \n",
       "5         8.500000    255.000010     1181.499980                  0.148810   \n",
       "6       103.904405    122.599319     1359.908680                  0.334072   \n",
       "7        15.785255     36.089596     1581.931396                  0.573263   \n",
       "8       182.086964    151.508079     1326.981768                  0.962541   \n",
       "9       142.450392     64.049350     1264.111887                  0.165424   \n",
       "10       41.754344    148.538703     1254.706942                  0.148810   \n",
       "11       29.188267    142.388265     1273.423458                  0.148810   \n",
       "12      104.720430     79.159227     1499.120343                  2.232143   \n",
       "13      116.375291    161.742640     1404.882069                  2.232143   \n",
       "14       40.863736    132.038634     1510.097631                  2.232143   \n",
       "15       50.031143    255.000010     1377.968848                  2.232143   \n",
       "16      127.792399    255.000010     1300.207591                  2.232143   \n",
       "17      168.974425    191.328385     1259.322675                  0.472120   \n",
       "18      186.999999      8.500000     1487.500002                  2.232143   \n",
       "19      127.342972     99.817439     1292.961383                  0.210956   \n",
       "\n",
       "    silica_mass_conc  silica_mass_fraction  ethanol_dilute_vol  \\\n",
       "0          13.547231              0.016712               946.0   \n",
       "1           2.691584              0.003365                 0.0   \n",
       "2          25.872386              0.031687              1305.0   \n",
       "3           2.691584              0.003304                 0.0   \n",
       "4           2.691584              0.003272                 0.0   \n",
       "5          40.373762              0.047903              1447.0   \n",
       "6          17.984150              0.021911              1132.0   \n",
       "7          10.480356              0.013095               725.0   \n",
       "8           6.241813              0.007583                64.0   \n",
       "9          36.318710              0.043975              1419.0   \n",
       "10         40.373762              0.048533              1447.0   \n",
       "11         40.373762              0.048625              1447.0   \n",
       "12          2.691584              0.003334                 0.0   \n",
       "13          2.691584              0.003290                 0.0   \n",
       "14          2.691584              0.003324                 0.0   \n",
       "15          2.691584              0.003261                 0.0   \n",
       "16          2.691584              0.003241                 0.0   \n",
       "17         12.725574              0.015320               897.0   \n",
       "18          2.691584              0.003348                 0.0   \n",
       "19         28.479841              0.034516              1341.0   \n",
       "\n",
       "    sample_dilute_vol well dilute_well  \n",
       "0               754.0   A1          C7  \n",
       "1              1700.0   A2          C8  \n",
       "2               395.0   A3          D1  \n",
       "3              1700.0   A4          D2  \n",
       "4              1700.0   A5          D3  \n",
       "5               253.0   A6          D4  \n",
       "6               568.0   A7          D5  \n",
       "7               975.0   A8          D6  \n",
       "8              1636.0   B1          D7  \n",
       "9               281.0   B3          D8  \n",
       "10              253.0   B4          E1  \n",
       "11              253.0   B5          E3  \n",
       "12             1700.0   B6          E4  \n",
       "13             1700.0   B8          E5  \n",
       "14             1700.0   C1          E6  \n",
       "15             1700.0   C2          E8  \n",
       "16             1700.0   C3          F1  \n",
       "17              803.0   C4          F2  \n",
       "18             1700.0   C5          F3  \n",
       "19              359.0   C6          F4  "
      ]
     },
     "execution_count": 89,
     "metadata": {},
     "output_type": "execute_result"
    }
   ],
   "source": [
    "sample_table_apdist"
   ]
  },
  {
   "cell_type": "code",
   "execution_count": 90,
   "id": "583da8f7-50a3-438a-a6c5-6b80b3034631",
   "metadata": {},
   "outputs": [
    {
     "data": {
      "text/html": [
       "<div>\n",
       "<style scoped>\n",
       "    .dataframe tbody tr th:only-of-type {\n",
       "        vertical-align: middle;\n",
       "    }\n",
       "\n",
       "    .dataframe tbody tr th {\n",
       "        vertical-align: top;\n",
       "    }\n",
       "\n",
       "    .dataframe thead th {\n",
       "        text-align: right;\n",
       "    }\n",
       "</style>\n",
       "<table border=\"1\" class=\"dataframe\">\n",
       "  <thead>\n",
       "    <tr style=\"text-align: right;\">\n",
       "      <th></th>\n",
       "      <th>Unnamed: 0</th>\n",
       "      <th>uuid</th>\n",
       "      <th>teos_volume</th>\n",
       "      <th>ammonia_volume</th>\n",
       "      <th>water_volume</th>\n",
       "      <th>ethanol_volume</th>\n",
       "      <th>dilution_volume_fraction</th>\n",
       "      <th>silica_mass_conc</th>\n",
       "      <th>silica_mass_fraction</th>\n",
       "      <th>ethanol_dilute_vol</th>\n",
       "      <th>sample_dilute_vol</th>\n",
       "      <th>well</th>\n",
       "      <th>dilute_well</th>\n",
       "    </tr>\n",
       "  </thead>\n",
       "  <tbody>\n",
       "    <tr>\n",
       "      <th>0</th>\n",
       "      <td>0</td>\n",
       "      <td>e208582e-4c43-433c-a80f-afdf6f316ff2</td>\n",
       "      <td>17.000000</td>\n",
       "      <td>8.500000</td>\n",
       "      <td>255.000010</td>\n",
       "      <td>1419.499990</td>\n",
       "      <td>2.232143</td>\n",
       "      <td>2.691584</td>\n",
       "      <td>0.003272</td>\n",
       "      <td>0.0</td>\n",
       "      <td>1700.0</td>\n",
       "      <td>A1</td>\n",
       "      <td>C7</td>\n",
       "    </tr>\n",
       "    <tr>\n",
       "      <th>1</th>\n",
       "      <td>1</td>\n",
       "      <td>eb72b1cf-3078-4701-b7ea-caf926b65285</td>\n",
       "      <td>109.727637</td>\n",
       "      <td>18.163508</td>\n",
       "      <td>127.154971</td>\n",
       "      <td>1444.953884</td>\n",
       "      <td>0.345824</td>\n",
       "      <td>17.373009</td>\n",
       "      <td>0.021306</td>\n",
       "      <td>1112.0</td>\n",
       "      <td>588.0</td>\n",
       "      <td>A2</td>\n",
       "      <td>C8</td>\n",
       "    </tr>\n",
       "    <tr>\n",
       "      <th>2</th>\n",
       "      <td>2</td>\n",
       "      <td>f5868166-a4f1-4a89-b04e-9a27fcf5fdcc</td>\n",
       "      <td>156.501164</td>\n",
       "      <td>62.749447</td>\n",
       "      <td>8.500000</td>\n",
       "      <td>1472.249390</td>\n",
       "      <td>0.242467</td>\n",
       "      <td>24.778590</td>\n",
       "      <td>0.030679</td>\n",
       "      <td>1288.0</td>\n",
       "      <td>412.0</td>\n",
       "      <td>A3</td>\n",
       "      <td>D1</td>\n",
       "    </tr>\n",
       "    <tr>\n",
       "      <th>3</th>\n",
       "      <td>3</td>\n",
       "      <td>9d4a106e-7434-4f1a-96b4-5cdd328353fc</td>\n",
       "      <td>17.000000</td>\n",
       "      <td>121.499975</td>\n",
       "      <td>8.500000</td>\n",
       "      <td>1553.000026</td>\n",
       "      <td>2.232143</td>\n",
       "      <td>2.691584</td>\n",
       "      <td>0.003366</td>\n",
       "      <td>0.0</td>\n",
       "      <td>1700.0</td>\n",
       "      <td>A4</td>\n",
       "      <td>D2</td>\n",
       "    </tr>\n",
       "    <tr>\n",
       "      <th>4</th>\n",
       "      <td>4</td>\n",
       "      <td>c5e36adc-8e26-4974-a080-a729a65ad94f</td>\n",
       "      <td>255.000010</td>\n",
       "      <td>8.500000</td>\n",
       "      <td>234.293984</td>\n",
       "      <td>1202.206006</td>\n",
       "      <td>0.148810</td>\n",
       "      <td>40.373762</td>\n",
       "      <td>0.048048</td>\n",
       "      <td>1447.0</td>\n",
       "      <td>253.0</td>\n",
       "      <td>A5</td>\n",
       "      <td>D3</td>\n",
       "    </tr>\n",
       "    <tr>\n",
       "      <th>5</th>\n",
       "      <td>5</td>\n",
       "      <td>0ded08ed-937d-4368-a29f-b7de0f5ddbd4</td>\n",
       "      <td>17.000000</td>\n",
       "      <td>53.639435</td>\n",
       "      <td>98.942080</td>\n",
       "      <td>1530.418485</td>\n",
       "      <td>2.232143</td>\n",
       "      <td>2.691584</td>\n",
       "      <td>0.003338</td>\n",
       "      <td>0.0</td>\n",
       "      <td>1700.0</td>\n",
       "      <td>A6</td>\n",
       "      <td>D4</td>\n",
       "    </tr>\n",
       "    <tr>\n",
       "      <th>6</th>\n",
       "      <td>6</td>\n",
       "      <td>5305d0c7-aee5-46f9-a63f-1cd42ee67d87</td>\n",
       "      <td>248.306568</td>\n",
       "      <td>145.138811</td>\n",
       "      <td>79.710672</td>\n",
       "      <td>1226.843949</td>\n",
       "      <td>0.152821</td>\n",
       "      <td>39.313999</td>\n",
       "      <td>0.047389</td>\n",
       "      <td>1440.0</td>\n",
       "      <td>260.0</td>\n",
       "      <td>A7</td>\n",
       "      <td>D5</td>\n",
       "    </tr>\n",
       "    <tr>\n",
       "      <th>7</th>\n",
       "      <td>7</td>\n",
       "      <td>9dc15241-60be-4ce1-86a1-52ababaf111b</td>\n",
       "      <td>80.015220</td>\n",
       "      <td>136.252721</td>\n",
       "      <td>85.400829</td>\n",
       "      <td>1398.331230</td>\n",
       "      <td>0.474240</td>\n",
       "      <td>12.668687</td>\n",
       "      <td>0.015536</td>\n",
       "      <td>894.0</td>\n",
       "      <td>806.0</td>\n",
       "      <td>A8</td>\n",
       "      <td>D6</td>\n",
       "    </tr>\n",
       "    <tr>\n",
       "      <th>8</th>\n",
       "      <td>8</td>\n",
       "      <td>e3bcc89d-00e3-499b-839a-17ebbb792a17</td>\n",
       "      <td>17.000000</td>\n",
       "      <td>8.500000</td>\n",
       "      <td>8.500000</td>\n",
       "      <td>1666.000001</td>\n",
       "      <td>2.232143</td>\n",
       "      <td>2.691584</td>\n",
       "      <td>0.003397</td>\n",
       "      <td>0.0</td>\n",
       "      <td>1700.0</td>\n",
       "      <td>B1</td>\n",
       "      <td>D7</td>\n",
       "    </tr>\n",
       "    <tr>\n",
       "      <th>9</th>\n",
       "      <td>9</td>\n",
       "      <td>589feb90-658d-45c0-b704-c1c5268b45ce</td>\n",
       "      <td>227.983181</td>\n",
       "      <td>135.714202</td>\n",
       "      <td>223.863569</td>\n",
       "      <td>1112.439048</td>\n",
       "      <td>0.166444</td>\n",
       "      <td>36.096228</td>\n",
       "      <td>0.042717</td>\n",
       "      <td>1417.0</td>\n",
       "      <td>283.0</td>\n",
       "      <td>B3</td>\n",
       "      <td>D8</td>\n",
       "    </tr>\n",
       "    <tr>\n",
       "      <th>10</th>\n",
       "      <td>10</td>\n",
       "      <td>a681e515-1c5c-46bf-92b6-c7ef98e65dbc</td>\n",
       "      <td>178.177974</td>\n",
       "      <td>97.699205</td>\n",
       "      <td>51.521638</td>\n",
       "      <td>1372.601183</td>\n",
       "      <td>0.212969</td>\n",
       "      <td>28.210646</td>\n",
       "      <td>0.034526</td>\n",
       "      <td>1338.0</td>\n",
       "      <td>362.0</td>\n",
       "      <td>B4</td>\n",
       "      <td>E1</td>\n",
       "    </tr>\n",
       "    <tr>\n",
       "      <th>11</th>\n",
       "      <td>11</td>\n",
       "      <td>d3b3ffed-ab9e-4dff-aa0b-c27e04098d40</td>\n",
       "      <td>17.000000</td>\n",
       "      <td>73.021524</td>\n",
       "      <td>255.000010</td>\n",
       "      <td>1354.978466</td>\n",
       "      <td>2.232143</td>\n",
       "      <td>2.691584</td>\n",
       "      <td>0.003255</td>\n",
       "      <td>0.0</td>\n",
       "      <td>1700.0</td>\n",
       "      <td>B5</td>\n",
       "      <td>E3</td>\n",
       "    </tr>\n",
       "    <tr>\n",
       "      <th>12</th>\n",
       "      <td>12</td>\n",
       "      <td>354ab423-be15-44f1-9e75-729deb8d8871</td>\n",
       "      <td>225.465639</td>\n",
       "      <td>118.338937</td>\n",
       "      <td>90.784361</td>\n",
       "      <td>1265.411063</td>\n",
       "      <td>0.168302</td>\n",
       "      <td>35.697630</td>\n",
       "      <td>0.043151</td>\n",
       "      <td>1414.0</td>\n",
       "      <td>286.0</td>\n",
       "      <td>B6</td>\n",
       "      <td>E4</td>\n",
       "    </tr>\n",
       "    <tr>\n",
       "      <th>13</th>\n",
       "      <td>13</td>\n",
       "      <td>b64a2f90-9a87-4a70-8355-2ceed4448b0d</td>\n",
       "      <td>17.000000</td>\n",
       "      <td>8.500000</td>\n",
       "      <td>116.230139</td>\n",
       "      <td>1558.269861</td>\n",
       "      <td>2.232143</td>\n",
       "      <td>2.691584</td>\n",
       "      <td>0.003341</td>\n",
       "      <td>0.0</td>\n",
       "      <td>1700.0</td>\n",
       "      <td>B8</td>\n",
       "      <td>E5</td>\n",
       "    </tr>\n",
       "    <tr>\n",
       "      <th>14</th>\n",
       "      <td>14</td>\n",
       "      <td>cd55dfb0-6366-43ea-a2a7-14679305116c</td>\n",
       "      <td>17.000000</td>\n",
       "      <td>81.303794</td>\n",
       "      <td>8.500000</td>\n",
       "      <td>1593.196207</td>\n",
       "      <td>2.232143</td>\n",
       "      <td>2.691584</td>\n",
       "      <td>0.003377</td>\n",
       "      <td>0.0</td>\n",
       "      <td>1700.0</td>\n",
       "      <td>C1</td>\n",
       "      <td>E6</td>\n",
       "    </tr>\n",
       "    <tr>\n",
       "      <th>15</th>\n",
       "      <td>15</td>\n",
       "      <td>82c93265-a036-4be5-912f-ce5130c28a0d</td>\n",
       "      <td>17.000000</td>\n",
       "      <td>8.500000</td>\n",
       "      <td>179.565217</td>\n",
       "      <td>1494.934784</td>\n",
       "      <td>2.232143</td>\n",
       "      <td>2.691584</td>\n",
       "      <td>0.003309</td>\n",
       "      <td>0.0</td>\n",
       "      <td>1700.0</td>\n",
       "      <td>C2</td>\n",
       "      <td>E8</td>\n",
       "    </tr>\n",
       "    <tr>\n",
       "      <th>16</th>\n",
       "      <td>16</td>\n",
       "      <td>1b669acf-2b09-4691-a1c7-d16df5d79ac8</td>\n",
       "      <td>17.000000</td>\n",
       "      <td>89.335607</td>\n",
       "      <td>95.033135</td>\n",
       "      <td>1498.631259</td>\n",
       "      <td>2.232143</td>\n",
       "      <td>2.691584</td>\n",
       "      <td>0.003330</td>\n",
       "      <td>0.0</td>\n",
       "      <td>1700.0</td>\n",
       "      <td>C3</td>\n",
       "      <td>F1</td>\n",
       "    </tr>\n",
       "    <tr>\n",
       "      <th>17</th>\n",
       "      <td>17</td>\n",
       "      <td>d5f56302-f8df-4f6b-91b0-a97773e74fc9</td>\n",
       "      <td>247.657588</td>\n",
       "      <td>80.852505</td>\n",
       "      <td>50.997285</td>\n",
       "      <td>1320.492622</td>\n",
       "      <td>0.153221</td>\n",
       "      <td>39.211247</td>\n",
       "      <td>0.047713</td>\n",
       "      <td>1440.0</td>\n",
       "      <td>260.0</td>\n",
       "      <td>C4</td>\n",
       "      <td>F2</td>\n",
       "    </tr>\n",
       "    <tr>\n",
       "      <th>18</th>\n",
       "      <td>18</td>\n",
       "      <td>278e2798-ff6d-4302-bfdb-88998e6d8ca9</td>\n",
       "      <td>218.042535</td>\n",
       "      <td>24.737814</td>\n",
       "      <td>123.333541</td>\n",
       "      <td>1333.886110</td>\n",
       "      <td>0.174032</td>\n",
       "      <td>34.522341</td>\n",
       "      <td>0.041868</td>\n",
       "      <td>1404.0</td>\n",
       "      <td>296.0</td>\n",
       "      <td>C5</td>\n",
       "      <td>F3</td>\n",
       "    </tr>\n",
       "    <tr>\n",
       "      <th>19</th>\n",
       "      <td>19</td>\n",
       "      <td>be975963-2cec-49ce-8df6-ea17e488531d</td>\n",
       "      <td>253.387681</td>\n",
       "      <td>114.493962</td>\n",
       "      <td>11.438124</td>\n",
       "      <td>1320.680234</td>\n",
       "      <td>0.149756</td>\n",
       "      <td>40.118484</td>\n",
       "      <td>0.048947</td>\n",
       "      <td>1445.0</td>\n",
       "      <td>255.0</td>\n",
       "      <td>C6</td>\n",
       "      <td>F4</td>\n",
       "    </tr>\n",
       "  </tbody>\n",
       "</table>\n",
       "</div>"
      ],
      "text/plain": [
       "    Unnamed: 0                                  uuid  teos_volume  \\\n",
       "0            0  e208582e-4c43-433c-a80f-afdf6f316ff2    17.000000   \n",
       "1            1  eb72b1cf-3078-4701-b7ea-caf926b65285   109.727637   \n",
       "2            2  f5868166-a4f1-4a89-b04e-9a27fcf5fdcc   156.501164   \n",
       "3            3  9d4a106e-7434-4f1a-96b4-5cdd328353fc    17.000000   \n",
       "4            4  c5e36adc-8e26-4974-a080-a729a65ad94f   255.000010   \n",
       "5            5  0ded08ed-937d-4368-a29f-b7de0f5ddbd4    17.000000   \n",
       "6            6  5305d0c7-aee5-46f9-a63f-1cd42ee67d87   248.306568   \n",
       "7            7  9dc15241-60be-4ce1-86a1-52ababaf111b    80.015220   \n",
       "8            8  e3bcc89d-00e3-499b-839a-17ebbb792a17    17.000000   \n",
       "9            9  589feb90-658d-45c0-b704-c1c5268b45ce   227.983181   \n",
       "10          10  a681e515-1c5c-46bf-92b6-c7ef98e65dbc   178.177974   \n",
       "11          11  d3b3ffed-ab9e-4dff-aa0b-c27e04098d40    17.000000   \n",
       "12          12  354ab423-be15-44f1-9e75-729deb8d8871   225.465639   \n",
       "13          13  b64a2f90-9a87-4a70-8355-2ceed4448b0d    17.000000   \n",
       "14          14  cd55dfb0-6366-43ea-a2a7-14679305116c    17.000000   \n",
       "15          15  82c93265-a036-4be5-912f-ce5130c28a0d    17.000000   \n",
       "16          16  1b669acf-2b09-4691-a1c7-d16df5d79ac8    17.000000   \n",
       "17          17  d5f56302-f8df-4f6b-91b0-a97773e74fc9   247.657588   \n",
       "18          18  278e2798-ff6d-4302-bfdb-88998e6d8ca9   218.042535   \n",
       "19          19  be975963-2cec-49ce-8df6-ea17e488531d   253.387681   \n",
       "\n",
       "    ammonia_volume  water_volume  ethanol_volume  dilution_volume_fraction  \\\n",
       "0         8.500000    255.000010     1419.499990                  2.232143   \n",
       "1        18.163508    127.154971     1444.953884                  0.345824   \n",
       "2        62.749447      8.500000     1472.249390                  0.242467   \n",
       "3       121.499975      8.500000     1553.000026                  2.232143   \n",
       "4         8.500000    234.293984     1202.206006                  0.148810   \n",
       "5        53.639435     98.942080     1530.418485                  2.232143   \n",
       "6       145.138811     79.710672     1226.843949                  0.152821   \n",
       "7       136.252721     85.400829     1398.331230                  0.474240   \n",
       "8         8.500000      8.500000     1666.000001                  2.232143   \n",
       "9       135.714202    223.863569     1112.439048                  0.166444   \n",
       "10       97.699205     51.521638     1372.601183                  0.212969   \n",
       "11       73.021524    255.000010     1354.978466                  2.232143   \n",
       "12      118.338937     90.784361     1265.411063                  0.168302   \n",
       "13        8.500000    116.230139     1558.269861                  2.232143   \n",
       "14       81.303794      8.500000     1593.196207                  2.232143   \n",
       "15        8.500000    179.565217     1494.934784                  2.232143   \n",
       "16       89.335607     95.033135     1498.631259                  2.232143   \n",
       "17       80.852505     50.997285     1320.492622                  0.153221   \n",
       "18       24.737814    123.333541     1333.886110                  0.174032   \n",
       "19      114.493962     11.438124     1320.680234                  0.149756   \n",
       "\n",
       "    silica_mass_conc  silica_mass_fraction  ethanol_dilute_vol  \\\n",
       "0           2.691584              0.003272                 0.0   \n",
       "1          17.373009              0.021306              1112.0   \n",
       "2          24.778590              0.030679              1288.0   \n",
       "3           2.691584              0.003366                 0.0   \n",
       "4          40.373762              0.048048              1447.0   \n",
       "5           2.691584              0.003338                 0.0   \n",
       "6          39.313999              0.047389              1440.0   \n",
       "7          12.668687              0.015536               894.0   \n",
       "8           2.691584              0.003397                 0.0   \n",
       "9          36.096228              0.042717              1417.0   \n",
       "10         28.210646              0.034526              1338.0   \n",
       "11          2.691584              0.003255                 0.0   \n",
       "12         35.697630              0.043151              1414.0   \n",
       "13          2.691584              0.003341                 0.0   \n",
       "14          2.691584              0.003377                 0.0   \n",
       "15          2.691584              0.003309                 0.0   \n",
       "16          2.691584              0.003330                 0.0   \n",
       "17         39.211247              0.047713              1440.0   \n",
       "18         34.522341              0.041868              1404.0   \n",
       "19         40.118484              0.048947              1445.0   \n",
       "\n",
       "    sample_dilute_vol well dilute_well  \n",
       "0              1700.0   A1          C7  \n",
       "1               588.0   A2          C8  \n",
       "2               412.0   A3          D1  \n",
       "3              1700.0   A4          D2  \n",
       "4               253.0   A5          D3  \n",
       "5              1700.0   A6          D4  \n",
       "6               260.0   A7          D5  \n",
       "7               806.0   A8          D6  \n",
       "8              1700.0   B1          D7  \n",
       "9               283.0   B3          D8  \n",
       "10              362.0   B4          E1  \n",
       "11             1700.0   B5          E3  \n",
       "12              286.0   B6          E4  \n",
       "13             1700.0   B8          E5  \n",
       "14             1700.0   C1          E6  \n",
       "15             1700.0   C2          E8  \n",
       "16             1700.0   C3          F1  \n",
       "17              260.0   C4          F2  \n",
       "18              296.0   C5          F3  \n",
       "19              255.0   C6          F4  "
      ]
     },
     "execution_count": 90,
     "metadata": {},
     "output_type": "execute_result"
    }
   ],
   "source": [
    "sample_table_rmse"
   ]
  },
  {
   "cell_type": "code",
   "execution_count": 151,
   "id": "a4a66641-2bc0-4bfe-8e12-78d8dfb86111",
   "metadata": {},
   "outputs": [
    {
     "data": {
      "text/html": [
       "<div>\n",
       "<style scoped>\n",
       "    .dataframe tbody tr th:only-of-type {\n",
       "        vertical-align: middle;\n",
       "    }\n",
       "\n",
       "    .dataframe tbody tr th {\n",
       "        vertical-align: top;\n",
       "    }\n",
       "\n",
       "    .dataframe thead th {\n",
       "        text-align: right;\n",
       "    }\n",
       "</style>\n",
       "<table border=\"1\" class=\"dataframe\">\n",
       "  <thead>\n",
       "    <tr style=\"text-align: right;\">\n",
       "      <th></th>\n",
       "      <th>Unnamed: 0</th>\n",
       "      <th>uuid</th>\n",
       "      <th>teos_volume</th>\n",
       "      <th>ammonia_volume</th>\n",
       "      <th>water_volume</th>\n",
       "      <th>ethanol_volume</th>\n",
       "      <th>dilution_volume_fraction</th>\n",
       "      <th>silica_mass_conc</th>\n",
       "      <th>silica_mass_fraction</th>\n",
       "      <th>ethanol_dilute_vol</th>\n",
       "      <th>sample_dilute_vol</th>\n",
       "      <th>well</th>\n",
       "      <th>dilute_well</th>\n",
       "    </tr>\n",
       "  </thead>\n",
       "  <tbody>\n",
       "    <tr>\n",
       "      <th>0</th>\n",
       "      <td>0</td>\n",
       "      <td>bbd1bfff-7563-4360-b5b8-86a1deb3928f</td>\n",
       "      <td>91.455773</td>\n",
       "      <td>121.416734</td>\n",
       "      <td>255.000010</td>\n",
       "      <td>1232.127483</td>\n",
       "      <td>0.414916</td>\n",
       "      <td>14.480053</td>\n",
       "      <td>0.017314</td>\n",
       "      <td>995.0</td>\n",
       "      <td>705.0</td>\n",
       "      <td>C7</td>\n",
       "      <td>C7</td>\n",
       "    </tr>\n",
       "    <tr>\n",
       "      <th>1</th>\n",
       "      <td>1</td>\n",
       "      <td>5b9ac046-6ca6-4ebc-87f3-e272edaedb7b</td>\n",
       "      <td>140.351853</td>\n",
       "      <td>8.500000</td>\n",
       "      <td>255.000010</td>\n",
       "      <td>1296.148137</td>\n",
       "      <td>0.270366</td>\n",
       "      <td>22.221694</td>\n",
       "      <td>0.026673</td>\n",
       "      <td>1240.0</td>\n",
       "      <td>460.0</td>\n",
       "      <td>C8</td>\n",
       "      <td>C8</td>\n",
       "    </tr>\n",
       "    <tr>\n",
       "      <th>2</th>\n",
       "      <td>2</td>\n",
       "      <td>9f782755-5ca4-4466-a1f1-a87ef665ed22</td>\n",
       "      <td>255.000010</td>\n",
       "      <td>42.990994</td>\n",
       "      <td>255.000010</td>\n",
       "      <td>1147.008985</td>\n",
       "      <td>0.148810</td>\n",
       "      <td>40.373762</td>\n",
       "      <td>0.047775</td>\n",
       "      <td>1447.0</td>\n",
       "      <td>253.0</td>\n",
       "      <td>D1</td>\n",
       "      <td>D1</td>\n",
       "    </tr>\n",
       "    <tr>\n",
       "      <th>3</th>\n",
       "      <td>3</td>\n",
       "      <td>f8b2207f-b63c-44d9-8fe4-70639fdd3f5c</td>\n",
       "      <td>255.000010</td>\n",
       "      <td>53.976205</td>\n",
       "      <td>8.500000</td>\n",
       "      <td>1382.523785</td>\n",
       "      <td>0.148810</td>\n",
       "      <td>40.373762</td>\n",
       "      <td>0.049511</td>\n",
       "      <td>1447.0</td>\n",
       "      <td>253.0</td>\n",
       "      <td>D2</td>\n",
       "      <td>D2</td>\n",
       "    </tr>\n",
       "    <tr>\n",
       "      <th>4</th>\n",
       "      <td>4</td>\n",
       "      <td>61431cc9-9557-45af-82c4-9e7acb251717</td>\n",
       "      <td>78.545307</td>\n",
       "      <td>77.696470</td>\n",
       "      <td>193.651897</td>\n",
       "      <td>1350.106326</td>\n",
       "      <td>0.483115</td>\n",
       "      <td>12.435958</td>\n",
       "      <td>0.015077</td>\n",
       "      <td>879.0</td>\n",
       "      <td>821.0</td>\n",
       "      <td>D3</td>\n",
       "      <td>D3</td>\n",
       "    </tr>\n",
       "    <tr>\n",
       "      <th>5</th>\n",
       "      <td>5</td>\n",
       "      <td>e773e91e-cdd8-466c-be37-8ff86cb7f610</td>\n",
       "      <td>52.806463</td>\n",
       "      <td>59.674126</td>\n",
       "      <td>39.147849</td>\n",
       "      <td>1548.371562</td>\n",
       "      <td>0.718594</td>\n",
       "      <td>8.360767</td>\n",
       "      <td>0.010419</td>\n",
       "      <td>478.0</td>\n",
       "      <td>1222.0</td>\n",
       "      <td>D4</td>\n",
       "      <td>D4</td>\n",
       "    </tr>\n",
       "    <tr>\n",
       "      <th>6</th>\n",
       "      <td>6</td>\n",
       "      <td>4559d494-fcc2-4dfc-a4cf-a14d93eb0029</td>\n",
       "      <td>102.107158</td>\n",
       "      <td>177.169546</td>\n",
       "      <td>8.500000</td>\n",
       "      <td>1412.223295</td>\n",
       "      <td>0.371633</td>\n",
       "      <td>16.166470</td>\n",
       "      <td>0.019945</td>\n",
       "      <td>1068.0</td>\n",
       "      <td>632.0</td>\n",
       "      <td>D5</td>\n",
       "      <td>D5</td>\n",
       "    </tr>\n",
       "    <tr>\n",
       "      <th>7</th>\n",
       "      <td>7</td>\n",
       "      <td>78e5ec30-0b59-4536-a9e0-21b4bac433a8</td>\n",
       "      <td>67.497684</td>\n",
       "      <td>128.016714</td>\n",
       "      <td>8.500000</td>\n",
       "      <td>1495.985602</td>\n",
       "      <td>0.562189</td>\n",
       "      <td>10.686805</td>\n",
       "      <td>0.013285</td>\n",
       "      <td>744.0</td>\n",
       "      <td>956.0</td>\n",
       "      <td>D6</td>\n",
       "      <td>D6</td>\n",
       "    </tr>\n",
       "    <tr>\n",
       "      <th>8</th>\n",
       "      <td>8</td>\n",
       "      <td>e42bc4d2-0157-425c-aed0-4cdec425d9ab</td>\n",
       "      <td>120.342861</td>\n",
       "      <td>146.735320</td>\n",
       "      <td>171.336467</td>\n",
       "      <td>1261.585352</td>\n",
       "      <td>0.315319</td>\n",
       "      <td>19.053701</td>\n",
       "      <td>0.022952</td>\n",
       "      <td>1164.0</td>\n",
       "      <td>536.0</td>\n",
       "      <td>D7</td>\n",
       "      <td>D7</td>\n",
       "    </tr>\n",
       "    <tr>\n",
       "      <th>9</th>\n",
       "      <td>9</td>\n",
       "      <td>4133ded3-a2c0-4d14-b4fb-578358436a04</td>\n",
       "      <td>17.000000</td>\n",
       "      <td>159.878042</td>\n",
       "      <td>8.500000</td>\n",
       "      <td>1514.621958</td>\n",
       "      <td>2.232143</td>\n",
       "      <td>2.691584</td>\n",
       "      <td>0.003355</td>\n",
       "      <td>0.0</td>\n",
       "      <td>1700.0</td>\n",
       "      <td>D8</td>\n",
       "      <td>D8</td>\n",
       "    </tr>\n",
       "    <tr>\n",
       "      <th>10</th>\n",
       "      <td>10</td>\n",
       "      <td>79149445-b04e-499f-bfa2-362ba81c3121</td>\n",
       "      <td>72.795379</td>\n",
       "      <td>70.436200</td>\n",
       "      <td>8.500000</td>\n",
       "      <td>1548.268421</td>\n",
       "      <td>0.521275</td>\n",
       "      <td>11.525581</td>\n",
       "      <td>0.014387</td>\n",
       "      <td>814.0</td>\n",
       "      <td>886.0</td>\n",
       "      <td>E1</td>\n",
       "      <td>E1</td>\n",
       "    </tr>\n",
       "    <tr>\n",
       "      <th>11</th>\n",
       "      <td>11</td>\n",
       "      <td>f2aac2f9-31c5-4eaf-be0b-ed9c1ec48ac4</td>\n",
       "      <td>105.384178</td>\n",
       "      <td>88.456498</td>\n",
       "      <td>250.912468</td>\n",
       "      <td>1255.246855</td>\n",
       "      <td>0.360077</td>\n",
       "      <td>16.685316</td>\n",
       "      <td>0.019986</td>\n",
       "      <td>1088.0</td>\n",
       "      <td>612.0</td>\n",
       "      <td>E3</td>\n",
       "      <td>E3</td>\n",
       "    </tr>\n",
       "    <tr>\n",
       "      <th>12</th>\n",
       "      <td>12</td>\n",
       "      <td>97be35cc-6af5-4906-a5ec-6c5ab5836951</td>\n",
       "      <td>104.194804</td>\n",
       "      <td>128.661020</td>\n",
       "      <td>8.500000</td>\n",
       "      <td>1458.644176</td>\n",
       "      <td>0.364187</td>\n",
       "      <td>16.497004</td>\n",
       "      <td>0.020429</td>\n",
       "      <td>1081.0</td>\n",
       "      <td>619.0</td>\n",
       "      <td>E4</td>\n",
       "      <td>E4</td>\n",
       "    </tr>\n",
       "    <tr>\n",
       "      <th>13</th>\n",
       "      <td>13</td>\n",
       "      <td>6f651325-aa30-4e15-a8b8-8550752155de</td>\n",
       "      <td>17.000000</td>\n",
       "      <td>186.999999</td>\n",
       "      <td>8.500000</td>\n",
       "      <td>1487.500002</td>\n",
       "      <td>2.232143</td>\n",
       "      <td>2.691584</td>\n",
       "      <td>0.003348</td>\n",
       "      <td>0.0</td>\n",
       "      <td>1700.0</td>\n",
       "      <td>E5</td>\n",
       "      <td>E5</td>\n",
       "    </tr>\n",
       "    <tr>\n",
       "      <th>14</th>\n",
       "      <td>14</td>\n",
       "      <td>884360fc-1d5b-45f3-b018-3a687b81f8a7</td>\n",
       "      <td>190.498775</td>\n",
       "      <td>74.557186</td>\n",
       "      <td>157.476255</td>\n",
       "      <td>1277.467784</td>\n",
       "      <td>0.199195</td>\n",
       "      <td>30.161380</td>\n",
       "      <td>0.036354</td>\n",
       "      <td>1361.0</td>\n",
       "      <td>339.0</td>\n",
       "      <td>E6</td>\n",
       "      <td>E6</td>\n",
       "    </tr>\n",
       "    <tr>\n",
       "      <th>15</th>\n",
       "      <td>15</td>\n",
       "      <td>45d13e36-5ae6-4aba-a657-a6cce9fb8db6</td>\n",
       "      <td>61.079639</td>\n",
       "      <td>133.803360</td>\n",
       "      <td>255.000010</td>\n",
       "      <td>1250.116991</td>\n",
       "      <td>0.621262</td>\n",
       "      <td>9.670646</td>\n",
       "      <td>0.011588</td>\n",
       "      <td>644.0</td>\n",
       "      <td>1056.0</td>\n",
       "      <td>E8</td>\n",
       "      <td>E8</td>\n",
       "    </tr>\n",
       "    <tr>\n",
       "      <th>16</th>\n",
       "      <td>16</td>\n",
       "      <td>76e61e49-8d12-493d-aa0e-e367cf9222a1</td>\n",
       "      <td>125.772466</td>\n",
       "      <td>186.999999</td>\n",
       "      <td>49.355634</td>\n",
       "      <td>1337.871901</td>\n",
       "      <td>0.301707</td>\n",
       "      <td>19.913362</td>\n",
       "      <td>0.024338</td>\n",
       "      <td>1187.0</td>\n",
       "      <td>513.0</td>\n",
       "      <td>F1</td>\n",
       "      <td>F1</td>\n",
       "    </tr>\n",
       "    <tr>\n",
       "      <th>17</th>\n",
       "      <td>17</td>\n",
       "      <td>cb91c3d6-d0df-437e-a504-7433689fb381</td>\n",
       "      <td>17.000000</td>\n",
       "      <td>186.999999</td>\n",
       "      <td>255.000010</td>\n",
       "      <td>1240.999991</td>\n",
       "      <td>2.232143</td>\n",
       "      <td>2.691584</td>\n",
       "      <td>0.003226</td>\n",
       "      <td>0.0</td>\n",
       "      <td>1700.0</td>\n",
       "      <td>F2</td>\n",
       "      <td>F2</td>\n",
       "    </tr>\n",
       "    <tr>\n",
       "      <th>18</th>\n",
       "      <td>18</td>\n",
       "      <td>2ef2ca93-424e-4bab-ab05-e1a4a365afc9</td>\n",
       "      <td>140.084917</td>\n",
       "      <td>99.182012</td>\n",
       "      <td>28.917468</td>\n",
       "      <td>1431.815603</td>\n",
       "      <td>0.270882</td>\n",
       "      <td>22.179431</td>\n",
       "      <td>0.027342</td>\n",
       "      <td>1240.0</td>\n",
       "      <td>460.0</td>\n",
       "      <td>F3</td>\n",
       "      <td>F3</td>\n",
       "    </tr>\n",
       "    <tr>\n",
       "      <th>19</th>\n",
       "      <td>19</td>\n",
       "      <td>2c2e06ba-fd0d-4b67-ac27-94a71a40985c</td>\n",
       "      <td>154.968959</td>\n",
       "      <td>133.155064</td>\n",
       "      <td>199.449208</td>\n",
       "      <td>1212.426769</td>\n",
       "      <td>0.244865</td>\n",
       "      <td>24.535998</td>\n",
       "      <td>0.029362</td>\n",
       "      <td>1284.0</td>\n",
       "      <td>416.0</td>\n",
       "      <td>F4</td>\n",
       "      <td>F4</td>\n",
       "    </tr>\n",
       "  </tbody>\n",
       "</table>\n",
       "</div>"
      ],
      "text/plain": [
       "    Unnamed: 0                                  uuid  teos_volume  \\\n",
       "0            0  bbd1bfff-7563-4360-b5b8-86a1deb3928f    91.455773   \n",
       "1            1  5b9ac046-6ca6-4ebc-87f3-e272edaedb7b   140.351853   \n",
       "2            2  9f782755-5ca4-4466-a1f1-a87ef665ed22   255.000010   \n",
       "3            3  f8b2207f-b63c-44d9-8fe4-70639fdd3f5c   255.000010   \n",
       "4            4  61431cc9-9557-45af-82c4-9e7acb251717    78.545307   \n",
       "5            5  e773e91e-cdd8-466c-be37-8ff86cb7f610    52.806463   \n",
       "6            6  4559d494-fcc2-4dfc-a4cf-a14d93eb0029   102.107158   \n",
       "7            7  78e5ec30-0b59-4536-a9e0-21b4bac433a8    67.497684   \n",
       "8            8  e42bc4d2-0157-425c-aed0-4cdec425d9ab   120.342861   \n",
       "9            9  4133ded3-a2c0-4d14-b4fb-578358436a04    17.000000   \n",
       "10          10  79149445-b04e-499f-bfa2-362ba81c3121    72.795379   \n",
       "11          11  f2aac2f9-31c5-4eaf-be0b-ed9c1ec48ac4   105.384178   \n",
       "12          12  97be35cc-6af5-4906-a5ec-6c5ab5836951   104.194804   \n",
       "13          13  6f651325-aa30-4e15-a8b8-8550752155de    17.000000   \n",
       "14          14  884360fc-1d5b-45f3-b018-3a687b81f8a7   190.498775   \n",
       "15          15  45d13e36-5ae6-4aba-a657-a6cce9fb8db6    61.079639   \n",
       "16          16  76e61e49-8d12-493d-aa0e-e367cf9222a1   125.772466   \n",
       "17          17  cb91c3d6-d0df-437e-a504-7433689fb381    17.000000   \n",
       "18          18  2ef2ca93-424e-4bab-ab05-e1a4a365afc9   140.084917   \n",
       "19          19  2c2e06ba-fd0d-4b67-ac27-94a71a40985c   154.968959   \n",
       "\n",
       "    ammonia_volume  water_volume  ethanol_volume  dilution_volume_fraction  \\\n",
       "0       121.416734    255.000010     1232.127483                  0.414916   \n",
       "1         8.500000    255.000010     1296.148137                  0.270366   \n",
       "2        42.990994    255.000010     1147.008985                  0.148810   \n",
       "3        53.976205      8.500000     1382.523785                  0.148810   \n",
       "4        77.696470    193.651897     1350.106326                  0.483115   \n",
       "5        59.674126     39.147849     1548.371562                  0.718594   \n",
       "6       177.169546      8.500000     1412.223295                  0.371633   \n",
       "7       128.016714      8.500000     1495.985602                  0.562189   \n",
       "8       146.735320    171.336467     1261.585352                  0.315319   \n",
       "9       159.878042      8.500000     1514.621958                  2.232143   \n",
       "10       70.436200      8.500000     1548.268421                  0.521275   \n",
       "11       88.456498    250.912468     1255.246855                  0.360077   \n",
       "12      128.661020      8.500000     1458.644176                  0.364187   \n",
       "13      186.999999      8.500000     1487.500002                  2.232143   \n",
       "14       74.557186    157.476255     1277.467784                  0.199195   \n",
       "15      133.803360    255.000010     1250.116991                  0.621262   \n",
       "16      186.999999     49.355634     1337.871901                  0.301707   \n",
       "17      186.999999    255.000010     1240.999991                  2.232143   \n",
       "18       99.182012     28.917468     1431.815603                  0.270882   \n",
       "19      133.155064    199.449208     1212.426769                  0.244865   \n",
       "\n",
       "    silica_mass_conc  silica_mass_fraction  ethanol_dilute_vol  \\\n",
       "0          14.480053              0.017314               995.0   \n",
       "1          22.221694              0.026673              1240.0   \n",
       "2          40.373762              0.047775              1447.0   \n",
       "3          40.373762              0.049511              1447.0   \n",
       "4          12.435958              0.015077               879.0   \n",
       "5           8.360767              0.010419               478.0   \n",
       "6          16.166470              0.019945              1068.0   \n",
       "7          10.686805              0.013285               744.0   \n",
       "8          19.053701              0.022952              1164.0   \n",
       "9           2.691584              0.003355                 0.0   \n",
       "10         11.525581              0.014387               814.0   \n",
       "11         16.685316              0.019986              1088.0   \n",
       "12         16.497004              0.020429              1081.0   \n",
       "13          2.691584              0.003348                 0.0   \n",
       "14         30.161380              0.036354              1361.0   \n",
       "15          9.670646              0.011588               644.0   \n",
       "16         19.913362              0.024338              1187.0   \n",
       "17          2.691584              0.003226                 0.0   \n",
       "18         22.179431              0.027342              1240.0   \n",
       "19         24.535998              0.029362              1284.0   \n",
       "\n",
       "    sample_dilute_vol well dilute_well  \n",
       "0               705.0   C7          C7  \n",
       "1               460.0   C8          C8  \n",
       "2               253.0   D1          D1  \n",
       "3               253.0   D2          D2  \n",
       "4               821.0   D3          D3  \n",
       "5              1222.0   D4          D4  \n",
       "6               632.0   D5          D5  \n",
       "7               956.0   D6          D6  \n",
       "8               536.0   D7          D7  \n",
       "9              1700.0   D8          D8  \n",
       "10              886.0   E1          E1  \n",
       "11              612.0   E3          E3  \n",
       "12              619.0   E4          E4  \n",
       "13             1700.0   E5          E5  \n",
       "14              339.0   E6          E6  \n",
       "15             1056.0   E8          E8  \n",
       "16              513.0   F1          F1  \n",
       "17             1700.0   F2          F2  \n",
       "18              460.0   F3          F3  \n",
       "19              416.0   F4          F4  "
      ]
     },
     "execution_count": 151,
     "metadata": {},
     "output_type": "execute_result"
    }
   ],
   "source": [
    "dilution_table_apdist"
   ]
  },
  {
   "cell_type": "code",
   "execution_count": null,
   "id": "438b544c-b4c3-47dd-b2b3-64f111416b9b",
   "metadata": {},
   "outputs": [],
   "source": []
  }
 ],
 "metadata": {
  "kernelspec": {
   "display_name": "Python 3 (ipykernel)",
   "language": "python",
   "name": "python3"
  },
  "language_info": {
   "codemirror_mode": {
    "name": "ipython",
    "version": 3
   },
   "file_extension": ".py",
   "mimetype": "text/x-python",
   "name": "python",
   "nbconvert_exporter": "python",
   "pygments_lexer": "ipython3",
   "version": "3.9.19"
  }
 },
 "nbformat": 4,
 "nbformat_minor": 5
}
