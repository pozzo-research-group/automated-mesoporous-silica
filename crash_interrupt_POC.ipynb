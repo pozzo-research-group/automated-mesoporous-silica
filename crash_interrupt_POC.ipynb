{
 "cells": [
  {
   "cell_type": "code",
   "execution_count": 16,
   "id": "400c3250-e771-4bd8-a285-981faea355a7",
   "metadata": {},
   "outputs": [],
   "source": [
    "import requests\n",
    "\n",
    "# ----------- Science Jubilee -------------\n",
    "from science_jubilee import Machine as Jub\n",
    "from science_jubilee.tools import HTTPSyringe as syringe\n",
    "from science_jubilee.tools import Pipette\n",
    "import time\n",
    "import numpy as np\n",
    "import pandas as pd\n",
    "import logging\n",
    "import sys\n",
    "sys.path.append('..')\n",
    "import stober_synthesis_utils as stober\n",
    "\n",
    "from time import gmtime, strftime\n"
   ]
  },
  {
   "cell_type": "code",
   "execution_count": 24,
   "id": "de272bb0-7d87-4d91-a0d7-953409bf909f",
   "metadata": {},
   "outputs": [],
   "source": [
    "slack_webhook = \"redacted\""
   ]
  },
  {
   "cell_type": "code",
   "execution_count": 2,
   "id": "3a6954b8-8e13-4432-91c1-84e77e076e86",
   "metadata": {},
   "outputs": [],
   "source": [
    "jub_ip = \"192.168.1.2\"\n"
   ]
  },
  {
   "cell_type": "code",
   "execution_count": 3,
   "id": "946370ce-c3d2-46ae-907d-c7e85ec7ff01",
   "metadata": {},
   "outputs": [],
   "source": [
    "run_message_macro = 'M98 P\"0:/macros/test_send.g\"'"
   ]
  },
  {
   "cell_type": "code",
   "execution_count": 4,
   "id": "3c9f4a65-b40c-4156-9e27-35b477fd0015",
   "metadata": {},
   "outputs": [],
   "source": [
    "move = 'G1 X100 Y100'"
   ]
  },
  {
   "cell_type": "code",
   "execution_count": 5,
   "id": "ba378bcd-0f9e-4423-9d72-18317bce7a55",
   "metadata": {},
   "outputs": [],
   "source": [
    "def get_reply_count():\n",
    "    r = requests.get(f'http://{jub_ip}/rr_model?key=seqs')\n",
    "    return r.json()['result']['reply']"
   ]
  },
  {
   "cell_type": "code",
   "execution_count": 20,
   "id": "6bd0bbb7-cffa-4ef0-8a48-66fe427691be",
   "metadata": {},
   "outputs": [],
   "source": [
    "def gcode(gcode):\n",
    "    messages = []\n",
    "    reply_count = get_reply_count()\n",
    "    exec = requests.get(f'http://{jub_ip}/rr_gcode?gcode={gcode}')\n",
    "    while len(messages) < 5:\n",
    "        new_reply_count = get_reply_count()\n",
    "        if new_reply_count > reply_count:\n",
    "            messg = requests.get(f\"http://{jub_ip}/rr_reply\")\n",
    "            if messg.content.decode() == 'Crash detected t3\\n':\n",
    "                ping_slack(f'<!channel> Jubilee SiNP crash detected at {strftime(\"%Y-%m-%d %H:%M:%S\", gmtime())}')\n",
    "                break\n",
    "            messages.append(messg)\n",
    "            reply_count = new_reply_count\n",
    "        time.sleep(0.01)\n",
    "\n",
    "    return messages"
   ]
  },
  {
   "cell_type": "code",
   "execution_count": 19,
   "id": "f89ad1ba-de34-4bb1-85a3-4ac58b4baefa",
   "metadata": {},
   "outputs": [],
   "source": [
    "def ping_slack(message):\n",
    "    r = requests.post(slack_webhook, json = {\"text\":message})"
   ]
  },
  {
   "cell_type": "code",
   "execution_count": 23,
   "id": "30e41450-cc25-481f-b0fe-7c05d6ec64fb",
   "metadata": {
    "scrolled": true
   },
   "outputs": [],
   "source": [
    "messages = gcode(run_message_macro)"
   ]
  },
  {
   "cell_type": "code",
   "execution_count": 13,
   "id": "e91c95ad-230d-4152-95f8-1b5b3c09a3fa",
   "metadata": {},
   "outputs": [
    {
     "data": {
      "text/plain": [
       "'Crash detected t3\\n'"
      ]
     },
     "execution_count": 13,
     "metadata": {},
     "output_type": "execute_result"
    }
   ],
   "source": [
    "messages[1].content.decode()"
   ]
  },
  {
   "cell_type": "code",
   "execution_count": 73,
   "id": "5ac89959-6563-4fc6-a9c5-3dfb50835aeb",
   "metadata": {},
   "outputs": [
    {
     "name": "stdout",
     "output_type": "stream",
     "text": [
      "b'\\n'\n",
      "b'Crash detected t3\\n'\n",
      "b'reverse trigger triggered t4\\n'\n"
     ]
    },
    {
     "ename": "KeyboardInterrupt",
     "evalue": "",
     "output_type": "error",
     "traceback": [
      "\u001b[0;31m---------------------------------------------------------------------------\u001b[0m",
      "\u001b[0;31mKeyboardInterrupt\u001b[0m                         Traceback (most recent call last)",
      "Cell \u001b[0;32mIn[73], line 1\u001b[0m\n\u001b[0;32m----> 1\u001b[0m messages \u001b[38;5;241m=\u001b[39m \u001b[43mgcode\u001b[49m\u001b[43m(\u001b[49m\u001b[43mmove\u001b[49m\u001b[43m)\u001b[49m\n",
      "Cell \u001b[0;32mIn[70], line 12\u001b[0m, in \u001b[0;36mgcode\u001b[0;34m(gcode)\u001b[0m\n\u001b[1;32m     10\u001b[0m         messages\u001b[38;5;241m.\u001b[39mappend(messg)\n\u001b[1;32m     11\u001b[0m         reply_count \u001b[38;5;241m=\u001b[39m new_reply_count\n\u001b[0;32m---> 12\u001b[0m     \u001b[43mtime\u001b[49m\u001b[38;5;241;43m.\u001b[39;49m\u001b[43msleep\u001b[49m\u001b[43m(\u001b[49m\u001b[38;5;241;43m0.01\u001b[39;49m\u001b[43m)\u001b[49m\n\u001b[1;32m     14\u001b[0m \u001b[38;5;28;01mreturn\u001b[39;00m messages\n",
      "\u001b[0;31mKeyboardInterrupt\u001b[0m: "
     ]
    }
   ],
   "source": [
    "messages = gcode(move)"
   ]
  },
  {
   "cell_type": "code",
   "execution_count": 74,
   "id": "b27ee9b2-77a0-46c0-98c9-ef2abaf6c819",
   "metadata": {},
   "outputs": [
    {
     "ename": "NameError",
     "evalue": "name 'messages' is not defined",
     "output_type": "error",
     "traceback": [
      "\u001b[0;31m---------------------------------------------------------------------------\u001b[0m",
      "\u001b[0;31mNameError\u001b[0m                                 Traceback (most recent call last)",
      "Cell \u001b[0;32mIn[74], line 1\u001b[0m\n\u001b[0;32m----> 1\u001b[0m \u001b[43mmessages\u001b[49m\n",
      "\u001b[0;31mNameError\u001b[0m: name 'messages' is not defined"
     ]
    }
   ],
   "source": [
    "messages"
   ]
  },
  {
   "cell_type": "code",
   "execution_count": 65,
   "id": "d2cf6b4a-d5cb-4a91-a41b-236c59e67055",
   "metadata": {},
   "outputs": [],
   "source": []
  },
  {
   "cell_type": "code",
   "execution_count": 66,
   "id": "2fafc4fb-f0ee-409b-b0bf-130b758ebf7a",
   "metadata": {},
   "outputs": [
    {
     "data": {
      "text/plain": [
       "b'ok'"
      ]
     },
     "execution_count": 66,
     "metadata": {},
     "output_type": "execute_result"
    }
   ],
   "source": [
    "r.content"
   ]
  },
  {
   "cell_type": "code",
   "execution_count": 17,
   "id": "0571e4eb-d1ce-4565-9a0e-5278ec8ee308",
   "metadata": {},
   "outputs": [
    {
     "data": {
      "text/plain": [
       "'2024-10-12 01:17:10'"
      ]
     },
     "execution_count": 17,
     "metadata": {},
     "output_type": "execute_result"
    }
   ],
   "source": [
    "strftime(\"%Y-%m-%d %H:%M:%S\", gmtime())"
   ]
  },
  {
   "cell_type": "code",
   "execution_count": null,
   "id": "01cf7e40-ea2a-435c-b4a2-acf37e8c06df",
   "metadata": {},
   "outputs": [],
   "source": []
  }
 ],
 "metadata": {
  "kernelspec": {
   "display_name": "Python 3 (ipykernel)",
   "language": "python",
   "name": "python3"
  },
  "language_info": {
   "codemirror_mode": {
    "name": "ipython",
    "version": 3
   },
   "file_extension": ".py",
   "mimetype": "text/x-python",
   "name": "python",
   "nbconvert_exporter": "python",
   "pygments_lexer": "ipython3",
   "version": "3.9.19"
  }
 },
 "nbformat": 4,
 "nbformat_minor": 5
}
