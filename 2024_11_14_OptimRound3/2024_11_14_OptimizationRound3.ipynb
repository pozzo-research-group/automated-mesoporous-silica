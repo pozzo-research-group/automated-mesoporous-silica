{
 "cells": [
  {
   "cell_type": "markdown",
   "id": "110d0499-187d-47cb-b3bd-52e828f810d0",
   "metadata": {},
   "source": [
    "## Setup"
   ]
  },
  {
   "cell_type": "code",
   "execution_count": 1,
   "id": "023a9737-b2dd-4151-af0b-67ea2aeb7386",
   "metadata": {},
   "outputs": [],
   "source": [
    "%load_ext autoreload\n",
    "%autoreload 2"
   ]
  },
  {
   "cell_type": "code",
   "execution_count": 2,
   "id": "a8305f4f-98d9-46aa-b3a5-aef3875465c8",
   "metadata": {},
   "outputs": [],
   "source": [
    "import requests\n",
    "\n",
    "# ----------- Science Jubilee -------------\n",
    "from science_jubilee import Machine as Jub\n",
    "from science_jubilee.tools import HTTPSyringe as syringe\n",
    "from science_jubilee.tools import Pipette\n",
    "from science_jubilee.utils import Handlers\n",
    "import time\n",
    "import numpy as np\n",
    "import pandas as pd\n",
    "import logging\n",
    "import sys\n",
    "sys.path.append('..')\n",
    "import stober_synthesis_utils as stober"
   ]
  },
  {
   "cell_type": "code",
   "execution_count": 3,
   "id": "39e0dd27-900a-4151-ad77-cae178e545d7",
   "metadata": {},
   "outputs": [],
   "source": [
    "FORMAT = '%(asctime)s:%(levelname)s:%(name)s:%(message)s'\n",
    "logging.basicConfig(filename = '2024_10_10_random3try2.log', level = logging.INFO, format = FORMAT)\n",
    "logger = logging.getLogger(__name__)"
   ]
  },
  {
   "cell_type": "code",
   "execution_count": 4,
   "id": "bb05bc51-e88d-493a-b7ae-ec244bab05d1",
   "metadata": {
    "scrolled": true
   },
   "outputs": [],
   "source": [
    "jubilee = Jub.Machine(address='192.168.1.2', simulated = False, crash_detection = False) "
   ]
  },
  {
   "cell_type": "raw",
   "id": "23f14450-b2fd-46b7-82b2-a17b1061fde5",
   "metadata": {
    "scrolled": true
   },
   "source": [
    "jubilee.home_all()\n",
    "logger.info('Homed Jubilee')"
   ]
  },
  {
   "cell_type": "code",
   "execution_count": 5,
   "id": "7dd1d29b-638a-4d85-9cf3-986931deae0f",
   "metadata": {},
   "outputs": [],
   "source": [
    "deck = jubilee.load_deck('lab_automation_deck_AFL_bolton.json')"
   ]
  },
  {
   "cell_type": "code",
   "execution_count": 6,
   "id": "d2505692-e098-4cf7-954a-b2ac9d91e06f",
   "metadata": {},
   "outputs": [],
   "source": [
    "sample_table = pd.read_csv('SampleTable_2024_11_14_OptimizationRound3.csv')"
   ]
  },
  {
   "cell_type": "code",
   "execution_count": 7,
   "id": "9b530793-b2a2-4f5d-9825-b4d8c2028d96",
   "metadata": {},
   "outputs": [
    {
     "data": {
      "text/plain": [
       "{'teos_count': 1, 'ammonia_count': 1, 'water_count': 1, 'ethanol_count': 2}"
      ]
     },
     "execution_count": 7,
     "metadata": {},
     "output_type": "execute_result"
    }
   ],
   "source": [
    "stober.count_stock_vials(sample_table, 15000)"
   ]
  },
  {
   "cell_type": "code",
   "execution_count": 8,
   "id": "dd237516-a73b-4981-8a1a-1f17979c9dac",
   "metadata": {},
   "outputs": [
    {
     "data": {
      "text/plain": [
       "2.783978108884767"
      ]
     },
     "execution_count": 8,
     "metadata": {},
     "output_type": "execute_result"
    }
   ],
   "source": [
    "sample_table['ethanol_volume'].sum()/10000"
   ]
  },
  {
   "cell_type": "markdown",
   "id": "b8f140ff-c5f8-494d-bd58-093982edd086",
   "metadata": {},
   "source": [
    "## Load Tools"
   ]
  },
  {
   "cell_type": "code",
   "execution_count": 9,
   "id": "d73bac24-917c-4c8c-8c30-494146511312",
   "metadata": {},
   "outputs": [],
   "source": [
    "syringe_10 = syringe.HTTPSyringe.from_config(1, \"../../science-jubilee/src/science_jubilee/tools/configs/10cc_syringe.json\")\n",
    "syringe_1_1 = syringe.HTTPSyringe.from_config(2, \"../../science-jubilee/src/science_jubilee/tools/configs/1cc_1_syringe.json\")\n",
    "syringe_1_2 = syringe.HTTPSyringe.from_config(3, \"../../science-jubilee/src/science_jubilee/tools/configs/1cc_2_syringe.json\")\n",
    "syringe_1_3 = syringe.HTTPSyringe.from_config(4, \"../../science-jubilee/src/science_jubilee/tools/configs/1cc_3_syringe.json\")"
   ]
  },
  {
   "cell_type": "code",
   "execution_count": 10,
   "id": "9448524a-f60e-43fd-ae53-0a51c87e6035",
   "metadata": {
    "scrolled": true
   },
   "outputs": [],
   "source": [
    "jubilee.load_tool(syringe_10)\n",
    "jubilee.load_tool(syringe_1_1)\n",
    "jubilee.load_tool(syringe_1_2)\n",
    "jubilee.load_tool(syringe_1_3)"
   ]
  },
  {
   "cell_type": "code",
   "execution_count": 11,
   "id": "21127bbe-632c-4ec0-84f9-57d9772a90db",
   "metadata": {},
   "outputs": [],
   "source": [
    "mix_syringe = syringe_10\n",
    "water_syringe = syringe_1_1\n",
    "ammonia_syringe = syringe_1_2\n",
    "teos_syringe = syringe_1_3"
   ]
  },
  {
   "cell_type": "markdown",
   "id": "e1d880ae-d253-43f5-995f-d2619e29c78a",
   "metadata": {},
   "source": [
    "## Load water syringe with water"
   ]
  },
  {
   "cell_type": "code",
   "execution_count": 28,
   "id": "c2c5387a-b52d-4fd9-97b4-c69ae21a0c12",
   "metadata": {},
   "outputs": [
    {
     "name": "stdout",
     "output_type": "stream",
     "text": [
      "Loaded syringe, remaining volume 600 uL\n"
     ]
    }
   ],
   "source": [
    "water_syringe.load_syringe(600, 1500)"
   ]
  },
  {
   "cell_type": "code",
   "execution_count": 29,
   "id": "de905209-1c7b-49f5-8d35-1fd8092ec72f",
   "metadata": {
    "scrolled": true
   },
   "outputs": [],
   "source": [
    "water_syringe.set_pulsewidth(water_syringe.empty_position-1, s = 2000)"
   ]
  },
  {
   "cell_type": "code",
   "execution_count": 30,
   "id": "3ded8ddd-1034-4679-804b-1a9d6d47b3b6",
   "metadata": {},
   "outputs": [],
   "source": [
    "water_syringe.set_pulsewidth(water_syringe.full_position+1, s = 10)"
   ]
  },
  {
   "cell_type": "code",
   "execution_count": 31,
   "id": "1bb6d726-e6f0-435e-916a-717d8231ed4d",
   "metadata": {},
   "outputs": [],
   "source": [
    "water_syringe.set_pulsewidth(water_syringe.full_position+150, s = 500)"
   ]
  },
  {
   "cell_type": "code",
   "execution_count": 32,
   "id": "80aff25d-bae2-478d-bc07-4b4f11bd5e05",
   "metadata": {},
   "outputs": [
    {
     "name": "stdout",
     "output_type": "stream",
     "text": [
      "Loaded syringe, remaining volume 750 uL\n"
     ]
    }
   ],
   "source": [
    "water_syringe.load_syringe(750, water_syringe.full_position+150)"
   ]
  },
  {
   "cell_type": "markdown",
   "id": "8ea5df3b-0ad5-4dbb-ad3f-089a2d5f2bd1",
   "metadata": {},
   "source": [
    "## Load ammonia syringe"
   ]
  },
  {
   "cell_type": "code",
   "execution_count": 33,
   "id": "87a366e4-d389-4830-b923-0a932968add9",
   "metadata": {},
   "outputs": [],
   "source": [
    "ammonia_syringe.set_pulsewidth(1420, s = 10)"
   ]
  },
  {
   "cell_type": "code",
   "execution_count": 34,
   "id": "2577d8b0-b404-4e92-8480-89ecc9cfb9cb",
   "metadata": {},
   "outputs": [
    {
     "name": "stdout",
     "output_type": "stream",
     "text": [
      "Loaded syringe, remaining volume 600 uL\n"
     ]
    }
   ],
   "source": [
    "ammonia_syringe.load_syringe(600, 1500)"
   ]
  },
  {
   "cell_type": "code",
   "execution_count": 35,
   "id": "73b9205b-4f97-47a7-aad4-cb252a6726ec",
   "metadata": {},
   "outputs": [],
   "source": [
    "ammonia_syringe.set_pulsewidth(ammonia_syringe.empty_position-1, s = 2000)"
   ]
  },
  {
   "cell_type": "code",
   "execution_count": 36,
   "id": "5fe25b32-0448-49fc-8d48-210e01e293b1",
   "metadata": {},
   "outputs": [],
   "source": [
    "ammonia_syringe.set_pulsewidth(ammonia_syringe.full_position+1, s = 10)"
   ]
  },
  {
   "cell_type": "code",
   "execution_count": 37,
   "id": "e0d5f7c9-883e-48d6-86bf-a30bc8698332",
   "metadata": {},
   "outputs": [],
   "source": [
    "ammonia_syringe.set_pulsewidth(ammonia_syringe.full_position+350, s = 500)"
   ]
  },
  {
   "cell_type": "code",
   "execution_count": 38,
   "id": "b5be2527-8c06-4465-8e44-41f410149cd7",
   "metadata": {},
   "outputs": [
    {
     "name": "stdout",
     "output_type": "stream",
     "text": [
      "Loaded syringe, remaining volume 370 uL\n"
     ]
    }
   ],
   "source": [
    "ammonia_syringe.load_syringe(370, ammonia_syringe.full_position+350)"
   ]
  },
  {
   "cell_type": "markdown",
   "id": "e2c53ecf-d14a-4536-8062-9e7af8c51ba8",
   "metadata": {},
   "source": [
    "## Load TEOS syringe"
   ]
  },
  {
   "cell_type": "code",
   "execution_count": 39,
   "id": "639af747-f1f2-4294-849d-bb1661cd5c85",
   "metadata": {},
   "outputs": [
    {
     "name": "stdout",
     "output_type": "stream",
     "text": [
      "Loaded syringe, remaining volume 600 uL\n"
     ]
    }
   ],
   "source": [
    "teos_syringe.load_syringe(600, 1500)"
   ]
  },
  {
   "cell_type": "code",
   "execution_count": 40,
   "id": "c0f31c8b-1651-4872-806b-3dc1a8e208f2",
   "metadata": {},
   "outputs": [],
   "source": [
    "teos_syringe.set_pulsewidth(teos_syringe.empty_position-1, s = 2000)"
   ]
  },
  {
   "cell_type": "code",
   "execution_count": 41,
   "id": "b8f45e72-b019-41fe-b413-6b1e132edbee",
   "metadata": {},
   "outputs": [],
   "source": [
    "teos_syringe.set_pulsewidth(teos_syringe.full_position+1, s = 100)"
   ]
  },
  {
   "cell_type": "code",
   "execution_count": 42,
   "id": "1c9e3fdf-8999-4d1f-97ca-018afe8e8edd",
   "metadata": {},
   "outputs": [],
   "source": [
    "teos_syringe.set_pulsewidth(teos_syringe.full_position+200, s = 200)"
   ]
  },
  {
   "cell_type": "code",
   "execution_count": 43,
   "id": "cf5154eb-2d59-4bd8-90c2-86c3374a662d",
   "metadata": {},
   "outputs": [
    {
     "name": "stdout",
     "output_type": "stream",
     "text": [
      "Loaded syringe, remaining volume 690 uL\n"
     ]
    }
   ],
   "source": [
    "teos_syringe.load_syringe(690, teos_syringe.full_position+200)"
   ]
  },
  {
   "cell_type": "markdown",
   "id": "ad1ac96b-3d53-4da1-aa2c-a8c2386280f8",
   "metadata": {},
   "source": [
    "## load ethanol syringe"
   ]
  },
  {
   "cell_type": "code",
   "execution_count": 44,
   "id": "f1caaf1a-900c-43ed-a57b-754b0d62aa37",
   "metadata": {},
   "outputs": [],
   "source": [
    "#jubilee.park_tool()"
   ]
  },
  {
   "cell_type": "code",
   "execution_count": 45,
   "id": "6002eb8f-07a3-4c63-b6e6-ee4e3775b39e",
   "metadata": {},
   "outputs": [
    {
     "name": "stdout",
     "output_type": "stream",
     "text": [
      "Loaded syringe, remaining volume 0 uL\n"
     ]
    }
   ],
   "source": [
    "mix_syringe.load_syringe(0, mix_syringe.empty_position-1)"
   ]
  },
  {
   "cell_type": "code",
   "execution_count": 46,
   "id": "75d8f923-d8ff-4368-a589-7481a4f4f1bb",
   "metadata": {},
   "outputs": [],
   "source": [
    "mix_syringe.set_pulsewidth(mix_syringe.empty_position-1, s = 2000)\n"
   ]
  },
  {
   "cell_type": "code",
   "execution_count": 47,
   "id": "534ef3b4-9c24-4bcf-acbf-ac7d63225c9c",
   "metadata": {},
   "outputs": [],
   "source": [
    "mix_syringe.set_pulsewidth(mix_syringe.full_position+1, s = 10)"
   ]
  },
  {
   "cell_type": "code",
   "execution_count": 48,
   "id": "96d9a53e-24a0-4595-bb69-db89483176ce",
   "metadata": {},
   "outputs": [
    {
     "data": {
      "text/plain": [
       "1830"
      ]
     },
     "execution_count": 48,
     "metadata": {},
     "output_type": "execute_result"
    }
   ],
   "source": [
    "mix_syringe.empty_position"
   ]
  },
  {
   "cell_type": "code",
   "execution_count": 49,
   "id": "5a8312cd-872e-49bd-815a-d5968bb6b2ec",
   "metadata": {},
   "outputs": [],
   "source": [
    "mix_syringe.set_pulsewidth(mix_syringe.full_position+400, s = 500)"
   ]
  },
  {
   "cell_type": "code",
   "execution_count": 50,
   "id": "99ad1605-10c8-45a3-80cf-c6adfd7ae6a9",
   "metadata": {},
   "outputs": [
    {
     "name": "stdout",
     "output_type": "stream",
     "text": [
      "Loaded syringe, remaining volume 3000 uL\n"
     ]
    }
   ],
   "source": [
    "mix_syringe.load_syringe(3000, mix_syringe.full_position+400)"
   ]
  },
  {
   "cell_type": "markdown",
   "id": "43d1f97d-4c55-40d3-ac5b-9c3a3f1062ed",
   "metadata": {},
   "source": [
    "## Load labware\n"
   ]
  },
  {
   "cell_type": "code",
   "execution_count": 14,
   "id": "19b4bfa8-6878-4b0b-a564-369faa361b1c",
   "metadata": {
    "scrolled": true
   },
   "outputs": [
    {
     "name": "stdout",
     "output_type": "stream",
     "text": [
      "-0.004188629607457991\n",
      "New manual offset applied to septavialrev1_44_holder_2000ul\n"
     ]
    }
   ],
   "source": [
    "samples = jubilee.load_labware('septavialrev1_44_holder_2000ul.json', 2)\n",
    "samples.manual_offset([(17.7,173.0), (130.7, 173.3), (131.1, 103.4)])"
   ]
  },
  {
   "cell_type": "code",
   "execution_count": 15,
   "id": "19ad67cc-b0a8-4c1f-8d6a-60b173599c82",
   "metadata": {},
   "outputs": [
    {
     "name": "stdout",
     "output_type": "stream",
     "text": [
      "-0.006363292795721208\n",
      "New manual offset applied to 20mlscintillation_12_wellplate_18000ul\n"
     ]
    }
   ],
   "source": [
    "stocks = jubilee.load_labware('20mlscintillation_12_wellplate_18000ul.json', 4)\n",
    "stocks.manual_offset([(30.9, 262.3), (114.9, 262.3), (114.2, 207.3)])"
   ]
  },
  {
   "cell_type": "code",
   "execution_count": 16,
   "id": "1ef40a35-9802-4eb3-9a10-16255155b92d",
   "metadata": {},
   "outputs": [],
   "source": [
    "trash = jubilee.load_labware('agilent_1_reservoir_290ml.json', 1)"
   ]
  },
  {
   "cell_type": "code",
   "execution_count": 17,
   "id": "f7395271-1a02-4f11-883f-34a8456f0a05",
   "metadata": {},
   "outputs": [],
   "source": [
    "teos_stocks = [stocks[0]]\n",
    "ammonia_stocks = [stocks[1]]\n",
    "water_stocks = [stocks[2]]\n",
    "ethanol_stocks = [stocks[3], stocks[4], stocks[5], stocks[6], stocks[7], stocks[8]]\n",
    "rinse_stocks = [stocks[9], stocks[10], stocks[11]]"
   ]
  },
  {
   "cell_type": "markdown",
   "id": "4bd30fe3-5be6-4ea7-a61d-357272d3e8a4",
   "metadata": {},
   "source": [
    "## Check sample alignment"
   ]
  },
  {
   "cell_type": "code",
   "execution_count": 26,
   "id": "6341c596-5970-48b4-b3cc-44b5f8d7a9ff",
   "metadata": {},
   "outputs": [
    {
     "name": "stdin",
     "output_type": "stream",
     "text": [
      "Is the tip centered over well? \n",
      "Is the tip centered over well? \n",
      "Is the tip centered over well? \n",
      "Is the tip centered over well? \n",
      "Is the tip centered over well? \n",
      "Is the tip centered over well? \n",
      "Is the tip centered over well? \n",
      "Is the tip centered over well? \n",
      "Is the tip centered over well? \n",
      "Is the tip centered over well? \n",
      "Is the tip centered over well? \n",
      "Is the tip centered over well? \n"
     ]
    }
   ],
   "source": [
    "jubilee.pickup_tool(mix_syringe)\n",
    "for well in stocks:\n",
    "    jubilee.move_to(x = well.x, y = well.y)\n",
    "    jubilee.move_to(z = well.top_+7)\n",
    "    ans = input(f'Is the tip centered over well?')\n",
    "    if ans == 'y':\n",
    "        continue\n",
    "    else:\n",
    "        continue"
   ]
  },
  {
   "cell_type": "code",
   "execution_count": 24,
   "id": "25a4d272-6e56-4649-ba7a-5e04e922c043",
   "metadata": {},
   "outputs": [
    {
     "name": "stdin",
     "output_type": "stream",
     "text": [
      "Is the tip centered over sample A1? \n",
      "Is the tip centered over sample A2? \n",
      "Is the tip centered over sample A3? \n",
      "Is the tip centered over sample A4? \n",
      "Is the tip centered over sample A5? \n",
      "Is the tip centered over sample A6? \n",
      "Is the tip centered over sample A7? \n",
      "Is the tip centered over sample A8? \n",
      "Is the tip centered over sample B1? \n",
      "Is the tip centered over sample B3? \n",
      "Is the tip centered over sample B4? \n",
      "Is the tip centered over sample B5? \n",
      "Is the tip centered over sample B6? \n",
      "Is the tip centered over sample B8? \n",
      "Is the tip centered over sample C1? \n",
      "Is the tip centered over sample C2? \n",
      "Is the tip centered over sample C3? \n",
      "Is the tip centered over sample C4? \n",
      "Is the tip centered over sample C5? \n",
      "Is the tip centered over sample C6? \n"
     ]
    }
   ],
   "source": [
    "jubilee.pickup_tool(teos_syringe)\n",
    "for i, row in sample_table.iterrows():\n",
    "    loc = samples[row['well']]\n",
    "    jubilee.move_to(x = loc.x, y = loc.y)\n",
    "    jubilee.move_to(z = loc.top_+2)\n",
    "    curr_well = row['well']\n",
    "    ans = input(f'Is the tip centered over sample {curr_well}?')\n",
    "    if ans == 'y':\n",
    "        continue\n",
    "    else:\n",
    "        continue\n",
    "    "
   ]
  },
  {
   "cell_type": "code",
   "execution_count": 27,
   "id": "a52572b9-48d6-4bf1-acb2-19c7ac5c6fb8",
   "metadata": {},
   "outputs": [],
   "source": [
    "jubilee.park_tool()"
   ]
  },
  {
   "cell_type": "markdown",
   "id": "b9dff3f4-8be6-4f73-b343-6221f8df76dc",
   "metadata": {},
   "source": [
    "# Experiment\n"
   ]
  },
  {
   "cell_type": "code",
   "execution_count": 51,
   "id": "9d770745-931b-42d0-8b40-409a83411619",
   "metadata": {},
   "outputs": [],
   "source": [
    "location_lookup = {row['uuid']:samples[row['well']] for i, row in sample_table.iterrows()}"
   ]
  },
  {
   "cell_type": "code",
   "execution_count": 52,
   "id": "b2a12505-772e-4ca8-8d21-822a400835f9",
   "metadata": {},
   "outputs": [],
   "source": [
    "dilution_table = sample_table.copy()"
   ]
  },
  {
   "cell_type": "code",
   "execution_count": 53,
   "id": "bdd03979-152a-48dd-9d62-b73859c453c4",
   "metadata": {},
   "outputs": [],
   "source": [
    "dilution_table['well'] = dilution_table['dilute_well']"
   ]
  },
  {
   "cell_type": "code",
   "execution_count": 54,
   "id": "701c41f9-1eef-4ed1-ab07-c7b8257ddb96",
   "metadata": {},
   "outputs": [],
   "source": [
    "location_lookup_dilute = {row['uuid']:samples[row['well']] for i, row in dilution_table.iterrows()}"
   ]
  },
  {
   "cell_type": "markdown",
   "id": "e2ddb62c-d3f3-4c45-917a-e575189606c9",
   "metadata": {},
   "source": [
    "## add ethanol"
   ]
  },
  {
   "cell_type": "code",
   "execution_count": 81,
   "id": "759f8c8b-a1b4-4569-ac5f-38fc3d922a43",
   "metadata": {},
   "outputs": [],
   "source": [
    "jubilee.park_tool()"
   ]
  },
  {
   "cell_type": "code",
   "execution_count": 24,
   "id": "4765adc9-c66d-4763-9682-883d0eac18e1",
   "metadata": {},
   "outputs": [
    {
     "data": {
      "text/plain": [
       "3300"
      ]
     },
     "execution_count": 24,
     "metadata": {},
     "output_type": "execute_result"
    }
   ],
   "source": [
    "mix_syringe.remaining_volume"
   ]
  },
  {
   "cell_type": "code",
   "execution_count": 55,
   "id": "0f4144b3-a7f9-4650-886f-054cd544228a",
   "metadata": {},
   "outputs": [],
   "source": [
    "stober.add_reactants_batch(jubilee, mix_syringe, mix_syringe, sample_table, location_lookup, 'ethanol_volume', ethanol_stocks, stocks_usable_volume=15000, dwell_time = 10)"
   ]
  },
  {
   "cell_type": "code",
   "execution_count": 56,
   "id": "7d204157-ed65-4f49-acbc-d192222f0dc6",
   "metadata": {},
   "outputs": [],
   "source": [
    "#dispense remaining volume from etOH mix syringe\n",
    "jubilee.pickup_tool(mix_syringe)\n",
    "mix_syringe.dispense(mix_syringe.remaining_volume-1, trash[0])\n",
    "logger.info('Emptied ethanol syringe into trash')\n",
    "jubilee.park_tool()"
   ]
  },
  {
   "cell_type": "code",
   "execution_count": 57,
   "id": "2fc66aa1-bc70-4098-8e37-f148188c26c6",
   "metadata": {},
   "outputs": [],
   "source": [
    "mix_syringe.set_pulsewidth(mix_syringe.empty_position-1)"
   ]
  },
  {
   "cell_type": "markdown",
   "id": "9e35c96c-2ea8-438a-989d-f6d73c8f16ed",
   "metadata": {},
   "source": [
    "## Dispense water\n"
   ]
  },
  {
   "cell_type": "code",
   "execution_count": 58,
   "id": "9f765450-7f64-49e7-85f8-335e2fa0b666",
   "metadata": {},
   "outputs": [],
   "source": [
    "stober.add_reactants_batch(jubilee, water_syringe, mix_syringe, sample_table, location_lookup, 'water_volume', water_stocks, dwell_time = 7)"
   ]
  },
  {
   "cell_type": "markdown",
   "id": "cd60cc24-167e-46e5-9e73-a2457c8964de",
   "metadata": {},
   "source": [
    "## dispense Ammonia"
   ]
  },
  {
   "cell_type": "code",
   "execution_count": 59,
   "id": "7dc4c2ae-9e4e-40e0-929a-6e0a3e4bc240",
   "metadata": {},
   "outputs": [],
   "source": [
    "stober.add_reactants_batch(jubilee, ammonia_syringe, mix_syringe, sample_table, location_lookup, 'ammonia_volume', ammonia_stocks)"
   ]
  },
  {
   "cell_type": "markdown",
   "id": "bc8a34b3-acd7-4b89-a9ea-34b514cd3d8c",
   "metadata": {},
   "source": [
    "## mix precursors"
   ]
  },
  {
   "cell_type": "code",
   "execution_count": 60,
   "id": "f4f701c5-7908-489e-a1eb-9b2c60438c96",
   "metadata": {},
   "outputs": [],
   "source": [
    "stober.first_mix(jubilee, mix_syringe, 2000, location_lookup, rinse_stocks, 5)"
   ]
  },
  {
   "cell_type": "markdown",
   "id": "000c1369-b5a0-4183-97d4-fced54279516",
   "metadata": {},
   "source": [
    "## Add TEOS and mix"
   ]
  },
  {
   "cell_type": "code",
   "execution_count": 61,
   "id": "85496a20-bb2d-4363-a2c5-41685f0353f9",
   "metadata": {},
   "outputs": [],
   "source": [
    "teos_start_time = time.time()"
   ]
  },
  {
   "cell_type": "code",
   "execution_count": 62,
   "id": "efccb2d6-234a-4af8-a87d-4d904696a48e",
   "metadata": {},
   "outputs": [],
   "source": [
    "stober.add_reactants_batch(jubilee, teos_syringe, mix_syringe, sample_table, location_lookup, 'teos_volume', teos_stocks, mix_after=(2000, 5, rinse_stocks))"
   ]
  },
  {
   "cell_type": "markdown",
   "id": "cf654819-0ae6-452a-bdbe-5f2a008f1b1c",
   "metadata": {},
   "source": [
    "### Dilution"
   ]
  },
  {
   "cell_type": "code",
   "execution_count": 63,
   "id": "5c533083-99a5-4efe-8f99-0bd3b538c394",
   "metadata": {},
   "outputs": [],
   "source": [
    "hrs5 = 60*60*5\n",
    "while (time.time() - teos_start_time) < hrs5:\n",
    "    time.sleep(60)\n",
    "\n",
    "# dispese ethanol into dilution vials\n",
    "stober.add_reactants_batch(jubilee, mix_syringe, mix_syringe, dilution_table, location_lookup_dilute, 'ethanol_dilute_vol', ethanol_stocks[4:], stocks_usable_volume=15000, dwell_time = 10)\n",
    "\n",
    "jubilee.pickup_tool(mix_syringe)\n",
    "rinse_vol = 2000\n",
    "for i, row in dilution_table.iterrows():\n",
    "    uuid_val = row['uuid']\n",
    "    sample_well = location_lookup[uuid_val]\n",
    "    dilute_well = location_lookup_dilute[uuid_val]\n",
    "    vol = row['sample_dilute_vol']\n",
    "    \n",
    "    mix_syringe.aspirate(vol, sample_well.bottom(+5))\n",
    "    time.sleep(10)\n",
    "    mix_syringe.dispense(vol, dilute_well.bottom(+5))\n",
    "    time.sleep(10)\n",
    "    logger.info(f'Transferred {vol} uL from {sample_well} to {dilute_well}')\n",
    "\n",
    "    for stock in rinse_stocks:\n",
    "        mix_syringe.mix(rinse_vol, 5, stock.bottom(+10), t_hold = 3, s_aspirate = 2000, s_dispense = 500)\n",
    "\n",
    "    logger.info(f'Washed mix syringe in wash solutions {rinse_stocks}')\n",
    "\n",
    "    "
   ]
  },
  {
   "cell_type": "code",
   "execution_count": 64,
   "id": "ba89a036-92eb-41eb-8a62-7e9d7ac2c2b5",
   "metadata": {},
   "outputs": [
    {
     "data": {
      "text/html": [
       "<div>\n",
       "<style scoped>\n",
       "    .dataframe tbody tr th:only-of-type {\n",
       "        vertical-align: middle;\n",
       "    }\n",
       "\n",
       "    .dataframe tbody tr th {\n",
       "        vertical-align: top;\n",
       "    }\n",
       "\n",
       "    .dataframe thead th {\n",
       "        text-align: right;\n",
       "    }\n",
       "</style>\n",
       "<table border=\"1\" class=\"dataframe\">\n",
       "  <thead>\n",
       "    <tr style=\"text-align: right;\">\n",
       "      <th></th>\n",
       "      <th>Unnamed: 0</th>\n",
       "      <th>uuid</th>\n",
       "      <th>teos_volume</th>\n",
       "      <th>ammonia_volume</th>\n",
       "      <th>water_volume</th>\n",
       "      <th>ethanol_volume</th>\n",
       "      <th>dilution_volume_fraction</th>\n",
       "      <th>silica_mass_conc</th>\n",
       "      <th>silica_mass_fraction</th>\n",
       "      <th>ethanol_dilute_vol</th>\n",
       "      <th>sample_dilute_vol</th>\n",
       "      <th>well</th>\n",
       "      <th>dilute_well</th>\n",
       "    </tr>\n",
       "  </thead>\n",
       "  <tbody>\n",
       "    <tr>\n",
       "      <th>0</th>\n",
       "      <td>0</td>\n",
       "      <td>97eb1065-a266-4bf0-8d3d-70c6c45e135d</td>\n",
       "      <td>17.000000</td>\n",
       "      <td>59.886661</td>\n",
       "      <td>177.900108</td>\n",
       "      <td>1445.213231</td>\n",
       "      <td>2.232143</td>\n",
       "      <td>2.691584</td>\n",
       "      <td>0.003296</td>\n",
       "      <td>0.0</td>\n",
       "      <td>1700.0</td>\n",
       "      <td>A1</td>\n",
       "      <td>C7</td>\n",
       "    </tr>\n",
       "    <tr>\n",
       "      <th>1</th>\n",
       "      <td>1</td>\n",
       "      <td>e7968010-0689-42a7-8797-2a3e9b7ae66c</td>\n",
       "      <td>128.723552</td>\n",
       "      <td>59.976938</td>\n",
       "      <td>253.625649</td>\n",
       "      <td>1257.673861</td>\n",
       "      <td>0.294790</td>\n",
       "      <td>20.380603</td>\n",
       "      <td>0.024399</td>\n",
       "      <td>1199.0</td>\n",
       "      <td>501.0</td>\n",
       "      <td>A2</td>\n",
       "      <td>C8</td>\n",
       "    </tr>\n",
       "    <tr>\n",
       "      <th>2</th>\n",
       "      <td>2</td>\n",
       "      <td>fd6bad8e-aedb-430a-a5bd-e667c317cbb5</td>\n",
       "      <td>17.000000</td>\n",
       "      <td>8.500000</td>\n",
       "      <td>243.605258</td>\n",
       "      <td>1430.894743</td>\n",
       "      <td>2.232143</td>\n",
       "      <td>2.691584</td>\n",
       "      <td>0.003277</td>\n",
       "      <td>0.0</td>\n",
       "      <td>1700.0</td>\n",
       "      <td>A3</td>\n",
       "      <td>D1</td>\n",
       "    </tr>\n",
       "    <tr>\n",
       "      <th>3</th>\n",
       "      <td>3</td>\n",
       "      <td>9d522d04-006c-4226-847e-27f987ea389d</td>\n",
       "      <td>217.168911</td>\n",
       "      <td>125.968067</td>\n",
       "      <td>120.627048</td>\n",
       "      <td>1236.235975</td>\n",
       "      <td>0.174732</td>\n",
       "      <td>34.384022</td>\n",
       "      <td>0.041389</td>\n",
       "      <td>1403.0</td>\n",
       "      <td>297.0</td>\n",
       "      <td>A4</td>\n",
       "      <td>D2</td>\n",
       "    </tr>\n",
       "    <tr>\n",
       "      <th>4</th>\n",
       "      <td>4</td>\n",
       "      <td>9f62f2c7-89e5-4122-8d6c-f876026d5975</td>\n",
       "      <td>72.110605</td>\n",
       "      <td>81.826747</td>\n",
       "      <td>74.426442</td>\n",
       "      <td>1471.636206</td>\n",
       "      <td>0.526225</td>\n",
       "      <td>11.417162</td>\n",
       "      <td>0.014097</td>\n",
       "      <td>805.0</td>\n",
       "      <td>895.0</td>\n",
       "      <td>A5</td>\n",
       "      <td>D3</td>\n",
       "    </tr>\n",
       "    <tr>\n",
       "      <th>5</th>\n",
       "      <td>5</td>\n",
       "      <td>46a44e80-dbc4-4e33-906e-dcfc99b242f2</td>\n",
       "      <td>248.195589</td>\n",
       "      <td>102.837770</td>\n",
       "      <td>211.959846</td>\n",
       "      <td>1137.006795</td>\n",
       "      <td>0.152889</td>\n",
       "      <td>39.296428</td>\n",
       "      <td>0.046609</td>\n",
       "      <td>1440.0</td>\n",
       "      <td>260.0</td>\n",
       "      <td>A6</td>\n",
       "      <td>D4</td>\n",
       "    </tr>\n",
       "    <tr>\n",
       "      <th>6</th>\n",
       "      <td>6</td>\n",
       "      <td>23754685-93a7-40a9-aefd-34d561daf1a9</td>\n",
       "      <td>149.006813</td>\n",
       "      <td>65.518953</td>\n",
       "      <td>22.988700</td>\n",
       "      <td>1462.485534</td>\n",
       "      <td>0.254662</td>\n",
       "      <td>23.592021</td>\n",
       "      <td>0.029162</td>\n",
       "      <td>1267.0</td>\n",
       "      <td>433.0</td>\n",
       "      <td>A7</td>\n",
       "      <td>D5</td>\n",
       "    </tr>\n",
       "    <tr>\n",
       "      <th>7</th>\n",
       "      <td>7</td>\n",
       "      <td>c8a04429-83dd-4779-a587-8e58a018413f</td>\n",
       "      <td>225.206037</td>\n",
       "      <td>8.500000</td>\n",
       "      <td>199.486357</td>\n",
       "      <td>1266.807606</td>\n",
       "      <td>0.168496</td>\n",
       "      <td>35.656527</td>\n",
       "      <td>0.042781</td>\n",
       "      <td>1414.0</td>\n",
       "      <td>286.0</td>\n",
       "      <td>A8</td>\n",
       "      <td>D6</td>\n",
       "    </tr>\n",
       "    <tr>\n",
       "      <th>8</th>\n",
       "      <td>8</td>\n",
       "      <td>326de561-5b2e-46d0-a192-b9bff6174040</td>\n",
       "      <td>17.000000</td>\n",
       "      <td>186.999999</td>\n",
       "      <td>102.630764</td>\n",
       "      <td>1393.369238</td>\n",
       "      <td>2.232143</td>\n",
       "      <td>2.691584</td>\n",
       "      <td>0.003300</td>\n",
       "      <td>0.0</td>\n",
       "      <td>1700.0</td>\n",
       "      <td>B1</td>\n",
       "      <td>D7</td>\n",
       "    </tr>\n",
       "    <tr>\n",
       "      <th>9</th>\n",
       "      <td>9</td>\n",
       "      <td>ee49095a-c041-4633-b695-6863ffcee3fa</td>\n",
       "      <td>81.911343</td>\n",
       "      <td>138.443228</td>\n",
       "      <td>146.033549</td>\n",
       "      <td>1333.611880</td>\n",
       "      <td>0.463262</td>\n",
       "      <td>12.968898</td>\n",
       "      <td>0.015754</td>\n",
       "      <td>912.0</td>\n",
       "      <td>788.0</td>\n",
       "      <td>B3</td>\n",
       "      <td>D8</td>\n",
       "    </tr>\n",
       "    <tr>\n",
       "      <th>10</th>\n",
       "      <td>10</td>\n",
       "      <td>80a0d61f-b6eb-4ce7-87e3-fa6ae0e37e4c</td>\n",
       "      <td>149.516796</td>\n",
       "      <td>64.153680</td>\n",
       "      <td>95.685997</td>\n",
       "      <td>1390.643527</td>\n",
       "      <td>0.253794</td>\n",
       "      <td>23.672766</td>\n",
       "      <td>0.028943</td>\n",
       "      <td>1269.0</td>\n",
       "      <td>431.0</td>\n",
       "      <td>B4</td>\n",
       "      <td>E1</td>\n",
       "    </tr>\n",
       "    <tr>\n",
       "      <th>11</th>\n",
       "      <td>11</td>\n",
       "      <td>0b01d93a-fb4d-400b-aff8-0a7d907a56c8</td>\n",
       "      <td>17.000000</td>\n",
       "      <td>39.898860</td>\n",
       "      <td>118.061210</td>\n",
       "      <td>1525.039930</td>\n",
       "      <td>2.232143</td>\n",
       "      <td>2.691584</td>\n",
       "      <td>0.003332</td>\n",
       "      <td>0.0</td>\n",
       "      <td>1700.0</td>\n",
       "      <td>B5</td>\n",
       "      <td>E3</td>\n",
       "    </tr>\n",
       "    <tr>\n",
       "      <th>12</th>\n",
       "      <td>12</td>\n",
       "      <td>61d40454-5d5c-4663-a704-f6f59478e7b9</td>\n",
       "      <td>107.247712</td>\n",
       "      <td>95.055212</td>\n",
       "      <td>47.830573</td>\n",
       "      <td>1449.866503</td>\n",
       "      <td>0.353820</td>\n",
       "      <td>16.980366</td>\n",
       "      <td>0.020952</td>\n",
       "      <td>1099.0</td>\n",
       "      <td>601.0</td>\n",
       "      <td>B6</td>\n",
       "      <td>E4</td>\n",
       "    </tr>\n",
       "    <tr>\n",
       "      <th>13</th>\n",
       "      <td>13</td>\n",
       "      <td>ff80ecc0-2e1e-4fbd-ae0a-edeb9a9ff1dd</td>\n",
       "      <td>126.790760</td>\n",
       "      <td>32.998104</td>\n",
       "      <td>255.000010</td>\n",
       "      <td>1285.211126</td>\n",
       "      <td>0.299284</td>\n",
       "      <td>20.074587</td>\n",
       "      <td>0.024083</td>\n",
       "      <td>1191.0</td>\n",
       "      <td>509.0</td>\n",
       "      <td>B8</td>\n",
       "      <td>E5</td>\n",
       "    </tr>\n",
       "    <tr>\n",
       "      <th>14</th>\n",
       "      <td>14</td>\n",
       "      <td>a6621988-f817-478a-9202-f2eda1c99aef</td>\n",
       "      <td>210.617404</td>\n",
       "      <td>16.818312</td>\n",
       "      <td>78.019288</td>\n",
       "      <td>1394.544996</td>\n",
       "      <td>0.180168</td>\n",
       "      <td>33.346731</td>\n",
       "      <td>0.040775</td>\n",
       "      <td>1394.0</td>\n",
       "      <td>306.0</td>\n",
       "      <td>C1</td>\n",
       "      <td>E6</td>\n",
       "    </tr>\n",
       "    <tr>\n",
       "      <th>15</th>\n",
       "      <td>15</td>\n",
       "      <td>7f042b90-a311-4af9-bb43-69e8c874b62c</td>\n",
       "      <td>17.000000</td>\n",
       "      <td>49.949998</td>\n",
       "      <td>92.868942</td>\n",
       "      <td>1540.181060</td>\n",
       "      <td>2.232143</td>\n",
       "      <td>2.691584</td>\n",
       "      <td>0.003342</td>\n",
       "      <td>0.0</td>\n",
       "      <td>1700.0</td>\n",
       "      <td>C2</td>\n",
       "      <td>E8</td>\n",
       "    </tr>\n",
       "    <tr>\n",
       "      <th>16</th>\n",
       "      <td>16</td>\n",
       "      <td>a53538a9-2e62-41df-ab0b-de034c8bd0aa</td>\n",
       "      <td>17.000000</td>\n",
       "      <td>21.387521</td>\n",
       "      <td>165.744269</td>\n",
       "      <td>1495.868210</td>\n",
       "      <td>2.232143</td>\n",
       "      <td>2.691584</td>\n",
       "      <td>0.003313</td>\n",
       "      <td>0.0</td>\n",
       "      <td>1700.0</td>\n",
       "      <td>C3</td>\n",
       "      <td>F1</td>\n",
       "    </tr>\n",
       "    <tr>\n",
       "      <th>17</th>\n",
       "      <td>17</td>\n",
       "      <td>1a084599-bbe6-4de7-89ef-9791617c5e9f</td>\n",
       "      <td>17.000000</td>\n",
       "      <td>26.973989</td>\n",
       "      <td>130.216619</td>\n",
       "      <td>1525.809392</td>\n",
       "      <td>2.232143</td>\n",
       "      <td>2.691584</td>\n",
       "      <td>0.003329</td>\n",
       "      <td>0.0</td>\n",
       "      <td>1700.0</td>\n",
       "      <td>C4</td>\n",
       "      <td>F2</td>\n",
       "    </tr>\n",
       "    <tr>\n",
       "      <th>18</th>\n",
       "      <td>18</td>\n",
       "      <td>d8a17275-4162-4633-bb9d-09d514ab7cb9</td>\n",
       "      <td>17.000000</td>\n",
       "      <td>33.144234</td>\n",
       "      <td>144.481243</td>\n",
       "      <td>1505.374523</td>\n",
       "      <td>2.232143</td>\n",
       "      <td>2.691584</td>\n",
       "      <td>0.003320</td>\n",
       "      <td>0.0</td>\n",
       "      <td>1700.0</td>\n",
       "      <td>C5</td>\n",
       "      <td>F3</td>\n",
       "    </tr>\n",
       "    <tr>\n",
       "      <th>19</th>\n",
       "      <td>19</td>\n",
       "      <td>4cc6ca70-fd71-4099-a5dc-4f04f5a0558e</td>\n",
       "      <td>221.821330</td>\n",
       "      <td>38.788179</td>\n",
       "      <td>147.083736</td>\n",
       "      <td>1292.306754</td>\n",
       "      <td>0.171068</td>\n",
       "      <td>35.120632</td>\n",
       "      <td>0.042380</td>\n",
       "      <td>1409.0</td>\n",
       "      <td>291.0</td>\n",
       "      <td>C6</td>\n",
       "      <td>F4</td>\n",
       "    </tr>\n",
       "  </tbody>\n",
       "</table>\n",
       "</div>"
      ],
      "text/plain": [
       "    Unnamed: 0                                  uuid  teos_volume  \\\n",
       "0            0  97eb1065-a266-4bf0-8d3d-70c6c45e135d    17.000000   \n",
       "1            1  e7968010-0689-42a7-8797-2a3e9b7ae66c   128.723552   \n",
       "2            2  fd6bad8e-aedb-430a-a5bd-e667c317cbb5    17.000000   \n",
       "3            3  9d522d04-006c-4226-847e-27f987ea389d   217.168911   \n",
       "4            4  9f62f2c7-89e5-4122-8d6c-f876026d5975    72.110605   \n",
       "5            5  46a44e80-dbc4-4e33-906e-dcfc99b242f2   248.195589   \n",
       "6            6  23754685-93a7-40a9-aefd-34d561daf1a9   149.006813   \n",
       "7            7  c8a04429-83dd-4779-a587-8e58a018413f   225.206037   \n",
       "8            8  326de561-5b2e-46d0-a192-b9bff6174040    17.000000   \n",
       "9            9  ee49095a-c041-4633-b695-6863ffcee3fa    81.911343   \n",
       "10          10  80a0d61f-b6eb-4ce7-87e3-fa6ae0e37e4c   149.516796   \n",
       "11          11  0b01d93a-fb4d-400b-aff8-0a7d907a56c8    17.000000   \n",
       "12          12  61d40454-5d5c-4663-a704-f6f59478e7b9   107.247712   \n",
       "13          13  ff80ecc0-2e1e-4fbd-ae0a-edeb9a9ff1dd   126.790760   \n",
       "14          14  a6621988-f817-478a-9202-f2eda1c99aef   210.617404   \n",
       "15          15  7f042b90-a311-4af9-bb43-69e8c874b62c    17.000000   \n",
       "16          16  a53538a9-2e62-41df-ab0b-de034c8bd0aa    17.000000   \n",
       "17          17  1a084599-bbe6-4de7-89ef-9791617c5e9f    17.000000   \n",
       "18          18  d8a17275-4162-4633-bb9d-09d514ab7cb9    17.000000   \n",
       "19          19  4cc6ca70-fd71-4099-a5dc-4f04f5a0558e   221.821330   \n",
       "\n",
       "    ammonia_volume  water_volume  ethanol_volume  dilution_volume_fraction  \\\n",
       "0        59.886661    177.900108     1445.213231                  2.232143   \n",
       "1        59.976938    253.625649     1257.673861                  0.294790   \n",
       "2         8.500000    243.605258     1430.894743                  2.232143   \n",
       "3       125.968067    120.627048     1236.235975                  0.174732   \n",
       "4        81.826747     74.426442     1471.636206                  0.526225   \n",
       "5       102.837770    211.959846     1137.006795                  0.152889   \n",
       "6        65.518953     22.988700     1462.485534                  0.254662   \n",
       "7         8.500000    199.486357     1266.807606                  0.168496   \n",
       "8       186.999999    102.630764     1393.369238                  2.232143   \n",
       "9       138.443228    146.033549     1333.611880                  0.463262   \n",
       "10       64.153680     95.685997     1390.643527                  0.253794   \n",
       "11       39.898860    118.061210     1525.039930                  2.232143   \n",
       "12       95.055212     47.830573     1449.866503                  0.353820   \n",
       "13       32.998104    255.000010     1285.211126                  0.299284   \n",
       "14       16.818312     78.019288     1394.544996                  0.180168   \n",
       "15       49.949998     92.868942     1540.181060                  2.232143   \n",
       "16       21.387521    165.744269     1495.868210                  2.232143   \n",
       "17       26.973989    130.216619     1525.809392                  2.232143   \n",
       "18       33.144234    144.481243     1505.374523                  2.232143   \n",
       "19       38.788179    147.083736     1292.306754                  0.171068   \n",
       "\n",
       "    silica_mass_conc  silica_mass_fraction  ethanol_dilute_vol  \\\n",
       "0           2.691584              0.003296                 0.0   \n",
       "1          20.380603              0.024399              1199.0   \n",
       "2           2.691584              0.003277                 0.0   \n",
       "3          34.384022              0.041389              1403.0   \n",
       "4          11.417162              0.014097               805.0   \n",
       "5          39.296428              0.046609              1440.0   \n",
       "6          23.592021              0.029162              1267.0   \n",
       "7          35.656527              0.042781              1414.0   \n",
       "8           2.691584              0.003300                 0.0   \n",
       "9          12.968898              0.015754               912.0   \n",
       "10         23.672766              0.028943              1269.0   \n",
       "11          2.691584              0.003332                 0.0   \n",
       "12         16.980366              0.020952              1099.0   \n",
       "13         20.074587              0.024083              1191.0   \n",
       "14         33.346731              0.040775              1394.0   \n",
       "15          2.691584              0.003342                 0.0   \n",
       "16          2.691584              0.003313                 0.0   \n",
       "17          2.691584              0.003329                 0.0   \n",
       "18          2.691584              0.003320                 0.0   \n",
       "19         35.120632              0.042380              1409.0   \n",
       "\n",
       "    sample_dilute_vol well dilute_well  \n",
       "0              1700.0   A1          C7  \n",
       "1               501.0   A2          C8  \n",
       "2              1700.0   A3          D1  \n",
       "3               297.0   A4          D2  \n",
       "4               895.0   A5          D3  \n",
       "5               260.0   A6          D4  \n",
       "6               433.0   A7          D5  \n",
       "7               286.0   A8          D6  \n",
       "8              1700.0   B1          D7  \n",
       "9               788.0   B3          D8  \n",
       "10              431.0   B4          E1  \n",
       "11             1700.0   B5          E3  \n",
       "12              601.0   B6          E4  \n",
       "13              509.0   B8          E5  \n",
       "14              306.0   C1          E6  \n",
       "15             1700.0   C2          E8  \n",
       "16             1700.0   C3          F1  \n",
       "17             1700.0   C4          F2  \n",
       "18             1700.0   C5          F3  \n",
       "19              291.0   C6          F4  "
      ]
     },
     "execution_count": 64,
     "metadata": {},
     "output_type": "execute_result"
    }
   ],
   "source": [
    "sample_table"
   ]
  },
  {
   "cell_type": "code",
   "execution_count": 65,
   "id": "fc8002db-155a-4841-ba3c-25da7f73aafd",
   "metadata": {},
   "outputs": [],
   "source": [
    "jubilee.park_tool()"
   ]
  },
  {
   "cell_type": "code",
   "execution_count": 100,
   "id": "18d77df9-f5ab-4212-b386-c1eee378bc53",
   "metadata": {},
   "outputs": [],
   "source": [
    "water_syringe.set_pulsewidth(water_syringe.empty_position-1)"
   ]
  },
  {
   "cell_type": "code",
   "execution_count": 101,
   "id": "a69392e0-de9f-41c2-aac3-cb2fb9fb1230",
   "metadata": {},
   "outputs": [],
   "source": [
    "ammonia_syringe.set_pulsewidth(ammonia_syringe.empty_position-1)"
   ]
  },
  {
   "cell_type": "code",
   "execution_count": 102,
   "id": "1b5ff69f-ca4b-44d3-beb8-2d7899e510c5",
   "metadata": {},
   "outputs": [],
   "source": [
    "teos_syringe.set_pulsewidth(teos_syringe.empty_position-1)"
   ]
  },
  {
   "cell_type": "code",
   "execution_count": null,
   "id": "68c7ba68-419a-4676-8ff9-fe8bb1a1d8fd",
   "metadata": {},
   "outputs": [],
   "source": []
  }
 ],
 "metadata": {
  "kernelspec": {
   "display_name": "Python 3 (ipykernel)",
   "language": "python",
   "name": "python3"
  },
  "language_info": {
   "codemirror_mode": {
    "name": "ipython",
    "version": 3
   },
   "file_extension": ".py",
   "mimetype": "text/x-python",
   "name": "python",
   "nbconvert_exporter": "python",
   "pygments_lexer": "ipython3",
   "version": "3.9.19"
  }
 },
 "nbformat": 4,
 "nbformat_minor": 5
}
