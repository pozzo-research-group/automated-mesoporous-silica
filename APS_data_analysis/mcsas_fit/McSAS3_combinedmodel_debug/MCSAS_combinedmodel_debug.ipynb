{
 "cells": [
  {
   "cell_type": "code",
   "execution_count": 1,
   "id": "4f1e6acd-72dd-4ff0-878a-42862ef7ac7b",
   "metadata": {},
   "outputs": [],
   "source": [
    "%load_ext autoreload\n",
    "%autoreload 2"
   ]
  },
  {
   "cell_type": "code",
   "execution_count": 1,
   "id": "72afb122-86cb-43f0-9ea8-9c8f125a9564",
   "metadata": {},
   "outputs": [],
   "source": [
    "import pandas as pd\n",
    "import glob\n",
    "import os\n",
    "import numpy as np\n",
    "\n",
    "import argparse\n",
    "import logging\n",
    "import multiprocessing\n",
    "import sys  # , os\n",
    "from pathlib import Path\n",
    "from sys import platform\n",
    "\n",
    "import yaml\n",
    "from attrs import define, field, validators\n",
    "\n",
    "from mcsas3 import McData1D, McPlot  # , McData2D\n",
    "from mcsas3 import McHat\n",
    "from mcsas3.mcanalysis import McAnalysis"
   ]
  },
  {
   "cell_type": "code",
   "execution_count": 2,
   "id": "644d5032-14f6-468e-b8a1-b94a5383c5c0",
   "metadata": {},
   "outputs": [],
   "source": [
    "read_config_fp = './read_config_csv.yaml'\n",
    "run_config_fp = './run_config_brian.yaml'\n",
    "hist_config_fp = './hist_config_dual.yaml'\n",
    "\n",
    "dataFile = './2_5dfdbe5e-3f38-44de-b9db-65c72c27f02e_A3_1_2036.dat'"
   ]
  },
  {
   "cell_type": "code",
   "execution_count": 4,
   "id": "8a0912df-6bd9-4838-b192-a25029013bbc",
   "metadata": {},
   "outputs": [
    {
     "ename": "NotImplementedError",
     "evalue": "",
     "output_type": "error",
     "traceback": [
      "\u001b[31m---------------------------------------------------------------------------\u001b[39m",
      "\u001b[31mRemoteTraceback\u001b[39m                           Traceback (most recent call last)",
      "\u001b[31mRemoteTraceback\u001b[39m: \n\"\"\"\nTraceback (most recent call last):\n  File \"/Users/bgpelkie/miniconda3/envs/mcsas/lib/python3.11/multiprocessing/pool.py\", line 125, in worker\n    result = (True, func(*args, **kwds))\n                    ^^^^^^^^^^^^^^^^^^^\n  File \"/Users/bgpelkie/miniconda3/envs/mcsas/lib/python3.11/multiprocessing/pool.py\", line 51, in starmapstar\n    return list(itertools.starmap(args[0], args[1]))\n           ^^^^^^^^^^^^^^^^^^^^^^^^^^^^^^^^^^^^^^^^^\n  File \"/Users/bgpelkie/Code/McSAS3/src/mcsas3/McHat.py\", line 150, in runOnce\n    mc = McCore(measData, model=self._model, opt=self._opt, resultIndex=resultIndex)\n         ^^^^^^^^^^^^^^^^^^^^^^^^^^^^^^^^^^^^^^^^^^^^^^^^^^^^^^^^^^^^^^^^^^^^^^^^^^^\n  File \"/Users/bgpelkie/Code/McSAS3/src/mcsas3/mccore.py\", line 92, in __init__\n    self.initModelI()\n  File \"/Users/bgpelkie/Code/McSAS3/src/mcsas3/mccore.py\", line 127, in initModelI\n    I, V = self._model.calcModelIV(self._model.parameterSet.loc[0].to_dict())\n           ^^^^^^^^^^^^^^^^^^^^^^^^^^^^^^^^^^^^^^^^^^^^^^^^^^^^^^^^^^^^^^^^^^\n  File \"/Users/bgpelkie/Code/McSAS3/src/mcsas3/mcmodel.py\", line 382, in calcModelIV\n    F, Fsq, R_eff, V_shell, V_ratio = sasmodels.direct_model.call_Fq(\n                                      ^^^^^^^^^^^^^^^^^^^^^^^^^^^^^^^\n  File \"/Users/bgpelkie/miniconda3/envs/mcsas/lib/python3.11/site-packages/sasmodels/direct_model.py\", line 81, in call_Fq\n    return calculator.Fq(call_details, values, cutoff, is_magnetic, R_eff_type)\n           ^^^^^^^^^^^^^^^^^^^^^^^^^^^^^^^^^^^^^^^^^^^^^^^^^^^^^^^^^^^^^^^^^^^^\n  File \"/Users/bgpelkie/miniconda3/envs/mcsas/lib/python3.11/site-packages/sasmodels/kernel.py\", line 182, in Fq\n    self._call_kernel(call_details, values, cutoff, magnetic,\n  File \"/Users/bgpelkie/miniconda3/envs/mcsas/lib/python3.11/site-packages/sasmodels/kernel.py\", line 218, in _call_kernel\n    raise NotImplementedError()\nNotImplementedError\n\"\"\"",
      "\nThe above exception was the direct cause of the following exception:\n",
      "\u001b[31mNotImplementedError\u001b[39m                       Traceback (most recent call last)",
      "\u001b[36mCell\u001b[39m\u001b[36m \u001b[39m\u001b[32mIn[4]\u001b[39m\u001b[32m, line 21\u001b[39m\n\u001b[32m     19\u001b[39m mh = McHat.McHat(seed=\u001b[38;5;28;01mNone\u001b[39;00m, resultIndex=resultIndex, **optDict)\n\u001b[32m     20\u001b[39m md = mds.measData.copy()\n\u001b[32m---> \u001b[39m\u001b[32m21\u001b[39m \u001b[43mmh\u001b[49m\u001b[43m.\u001b[49m\u001b[43mrun\u001b[49m\u001b[43m(\u001b[49m\u001b[43mmd\u001b[49m\u001b[43m,\u001b[49m\u001b[43m \u001b[49m\u001b[43mresult_file\u001b[49m\u001b[43m,\u001b[49m\u001b[43m \u001b[49m\u001b[43mresultIndex\u001b[49m\u001b[43m \u001b[49m\u001b[43m=\u001b[49m\u001b[43m \u001b[49m\u001b[43mresultIndex\u001b[49m\u001b[43m)\u001b[49m\n",
      "\u001b[36mFile \u001b[39m\u001b[32m~/Code/McSAS3/src/mcsas3/McHat.py:116\u001b[39m, in \u001b[36mMcHat.run\u001b[39m\u001b[34m(self, measData, filename, resultIndex)\u001b[39m\n\u001b[32m    114\u001b[39m pool = multiprocessing.Pool(\u001b[38;5;28mself\u001b[39m.nCores, initializer=initStoreLock, initargs=(lock,))\n\u001b[32m    115\u001b[39m runArgs = [(measData, filename, r, \u001b[38;5;28;01mTrue\u001b[39;00m, resultIndex) \u001b[38;5;28;01mfor\u001b[39;00m r \u001b[38;5;129;01min\u001b[39;00m \u001b[38;5;28mrange\u001b[39m(\u001b[38;5;28mself\u001b[39m.nRep)]\n\u001b[32m--> \u001b[39m\u001b[32m116\u001b[39m outputs = \u001b[43mpool\u001b[49m\u001b[43m.\u001b[49m\u001b[43mstarmap\u001b[49m\u001b[43m(\u001b[49m\u001b[38;5;28;43mself\u001b[39;49m\u001b[43m.\u001b[49m\u001b[43mrunOnce\u001b[49m\u001b[43m,\u001b[49m\u001b[43m \u001b[49m\u001b[43mrunArgs\u001b[49m\u001b[43m)\u001b[49m\n\u001b[32m    117\u001b[39m pool.close()\n\u001b[32m    118\u001b[39m pool.join()\n",
      "\u001b[36mFile \u001b[39m\u001b[32m~/miniconda3/envs/mcsas/lib/python3.11/multiprocessing/pool.py:375\u001b[39m, in \u001b[36mPool.starmap\u001b[39m\u001b[34m(self, func, iterable, chunksize)\u001b[39m\n\u001b[32m    369\u001b[39m \u001b[38;5;28;01mdef\u001b[39;00m\u001b[38;5;250m \u001b[39m\u001b[34mstarmap\u001b[39m(\u001b[38;5;28mself\u001b[39m, func, iterable, chunksize=\u001b[38;5;28;01mNone\u001b[39;00m):\n\u001b[32m    370\u001b[39m \u001b[38;5;250m    \u001b[39m\u001b[33;03m'''\u001b[39;00m\n\u001b[32m    371\u001b[39m \u001b[33;03m    Like `map()` method but the elements of the `iterable` are expected to\u001b[39;00m\n\u001b[32m    372\u001b[39m \u001b[33;03m    be iterables as well and will be unpacked as arguments. Hence\u001b[39;00m\n\u001b[32m    373\u001b[39m \u001b[33;03m    `func` and (a, b) becomes func(a, b).\u001b[39;00m\n\u001b[32m    374\u001b[39m \u001b[33;03m    '''\u001b[39;00m\n\u001b[32m--> \u001b[39m\u001b[32m375\u001b[39m     \u001b[38;5;28;01mreturn\u001b[39;00m \u001b[38;5;28;43mself\u001b[39;49m\u001b[43m.\u001b[49m\u001b[43m_map_async\u001b[49m\u001b[43m(\u001b[49m\u001b[43mfunc\u001b[49m\u001b[43m,\u001b[49m\u001b[43m \u001b[49m\u001b[43miterable\u001b[49m\u001b[43m,\u001b[49m\u001b[43m \u001b[49m\u001b[43mstarmapstar\u001b[49m\u001b[43m,\u001b[49m\u001b[43m \u001b[49m\u001b[43mchunksize\u001b[49m\u001b[43m)\u001b[49m\u001b[43m.\u001b[49m\u001b[43mget\u001b[49m\u001b[43m(\u001b[49m\u001b[43m)\u001b[49m\n",
      "\u001b[36mFile \u001b[39m\u001b[32m~/miniconda3/envs/mcsas/lib/python3.11/multiprocessing/pool.py:774\u001b[39m, in \u001b[36mApplyResult.get\u001b[39m\u001b[34m(self, timeout)\u001b[39m\n\u001b[32m    772\u001b[39m     \u001b[38;5;28;01mreturn\u001b[39;00m \u001b[38;5;28mself\u001b[39m._value\n\u001b[32m    773\u001b[39m \u001b[38;5;28;01melse\u001b[39;00m:\n\u001b[32m--> \u001b[39m\u001b[32m774\u001b[39m     \u001b[38;5;28;01mraise\u001b[39;00m \u001b[38;5;28mself\u001b[39m._value\n",
      "\u001b[31mNotImplementedError\u001b[39m: "
     ]
    }
   ],
   "source": [
    "resultIndex = 1\n",
    "result_file = f\"./{dataFile.split('/')[-1].split('.')[0]}.nxs\"\n",
    "n_threads = 8\n",
    "\n",
    "\n",
    "# read the configuration file\n",
    "with open(read_config_fp, \"r\") as f:\n",
    "    readDict = yaml.safe_load(f)\n",
    "# load the data\n",
    "mds = McData1D.McData1D(filename=dataFile, resultIndex=resultIndex, **readDict)\n",
    "# store the full data in the result file:\n",
    "mds.store(result_file)\n",
    "# read the configuration file\n",
    "with open(run_config_fp, \"r\") as f:\n",
    "    optDict = yaml.safe_load(f)\n",
    "if n_threads > 0:\n",
    "    optDict[\"nCores\"] = n_threads\n",
    "# run the Monte Carlo method\n",
    "mh = McHat.McHat(seed=None, resultIndex=resultIndex, **optDict)\n",
    "md = mds.measData.copy()\n",
    "mh.run(md, result_file, resultIndex = resultIndex)"
   ]
  }
 ],
 "metadata": {
  "kernelspec": {
   "display_name": "Python 3 (ipykernel)",
   "language": "python",
   "name": "python3"
  },
  "language_info": {
   "codemirror_mode": {
    "name": "ipython",
    "version": 3
   },
   "file_extension": ".py",
   "mimetype": "text/x-python",
   "name": "python",
   "nbconvert_exporter": "python",
   "pygments_lexer": "ipython3",
   "version": "3.11.12"
  }
 },
 "nbformat": 4,
 "nbformat_minor": 5
}
