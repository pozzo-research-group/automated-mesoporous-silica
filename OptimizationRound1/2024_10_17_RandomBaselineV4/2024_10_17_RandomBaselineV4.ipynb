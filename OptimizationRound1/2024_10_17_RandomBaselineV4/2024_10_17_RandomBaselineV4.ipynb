{
 "cells": [
  {
   "cell_type": "markdown",
   "id": "110d0499-187d-47cb-b3bd-52e828f810d0",
   "metadata": {},
   "source": [
    "## Setup"
   ]
  },
  {
   "cell_type": "code",
   "execution_count": 1,
   "id": "023a9737-b2dd-4151-af0b-67ea2aeb7386",
   "metadata": {},
   "outputs": [],
   "source": [
    "%load_ext autoreload\n",
    "%autoreload 2"
   ]
  },
  {
   "cell_type": "code",
   "execution_count": 82,
   "id": "a8305f4f-98d9-46aa-b3a5-aef3875465c8",
   "metadata": {},
   "outputs": [],
   "source": [
    "import requests\n",
    "\n",
    "# ----------- Science Jubilee -------------\n",
    "from science_jubilee import Machine as Jub\n",
    "from science_jubilee.tools import HTTPSyringe as syringe\n",
    "from science_jubilee.tools import Pipette\n",
    "from science_jubilee.utils import Handlers\n",
    "import time\n",
    "import numpy as np\n",
    "import pandas as pd\n",
    "import logging\n",
    "import sys\n",
    "sys.path.append('..')\n",
    "import stober_synthesis_utils as stober"
   ]
  },
  {
   "cell_type": "code",
   "execution_count": 3,
   "id": "39e0dd27-900a-4151-ad77-cae178e545d7",
   "metadata": {},
   "outputs": [],
   "source": [
    "FORMAT = '%(asctime)s:%(levelname)s:%(name)s:%(message)s'\n",
    "logging.basicConfig(filename = '2024_10_10_random3try2.log', level = logging.INFO, format = FORMAT)\n",
    "logger = logging.getLogger(__name__)"
   ]
  },
  {
   "cell_type": "code",
   "execution_count": 4,
   "id": "ec7339a4-f397-424c-b8fe-dadf591dd460",
   "metadata": {},
   "outputs": [
    {
     "data": {
      "text/plain": [
       "<Logger __main__ (INFO)>"
      ]
     },
     "execution_count": 4,
     "metadata": {},
     "output_type": "execute_result"
    }
   ],
   "source": [
    "logger"
   ]
  },
  {
   "cell_type": "code",
   "execution_count": 83,
   "id": "70f5ba3b-1f7f-469f-9a6e-e2bbf165c8d7",
   "metadata": {},
   "outputs": [],
   "source": [
    "slack_handler = Handlers.SlackInputHandler(\"webook goes here\", notify='channel')"
   ]
  },
  {
   "cell_type": "code",
   "execution_count": 117,
   "id": "bb05bc51-e88d-493a-b7ae-ec244bab05d1",
   "metadata": {
    "scrolled": true
   },
   "outputs": [],
   "source": [
    "jubilee = Jub.Machine(address='192.168.1.2', simulated = False, crash_detection = True, crash_handler = slack_handler) "
   ]
  },
  {
   "cell_type": "code",
   "execution_count": 6,
   "id": "be879d07-88f1-44e2-b3ed-9d747dbcf08c",
   "metadata": {},
   "outputs": [],
   "source": [
    "logging.info('test')"
   ]
  },
  {
   "cell_type": "code",
   "execution_count": 8,
   "id": "8c90cdc0-c96e-48c3-972a-03b11576bdc1",
   "metadata": {
    "scrolled": true
   },
   "outputs": [],
   "source": [
    "#jubilee.home_all()\n",
    "logger.info('Homed Jubilee')"
   ]
  },
  {
   "cell_type": "code",
   "execution_count": 118,
   "id": "7dd1d29b-638a-4d85-9cf3-986931deae0f",
   "metadata": {},
   "outputs": [],
   "source": [
    "deck = jubilee.load_deck('lab_automation_deck_AFL_bolton.json')"
   ]
  },
  {
   "cell_type": "code",
   "execution_count": 119,
   "id": "d2505692-e098-4cf7-954a-b2ac9d91e06f",
   "metadata": {},
   "outputs": [],
   "source": [
    "sample_table = pd.read_csv('Sample_table_2024_10_17_RandomBaselineV4.csv')"
   ]
  },
  {
   "cell_type": "code",
   "execution_count": 120,
   "id": "9b530793-b2a2-4f5d-9825-b4d8c2028d96",
   "metadata": {},
   "outputs": [
    {
     "data": {
      "text/plain": [
       "{'teos_count': 1, 'ammonia_count': 1, 'water_count': 1, 'ethanol_count': 4}"
      ]
     },
     "execution_count": 120,
     "metadata": {},
     "output_type": "execute_result"
    }
   ],
   "source": [
    "stober.count_stock_vials(sample_table, 15000)"
   ]
  },
  {
   "cell_type": "code",
   "execution_count": 121,
   "id": "dd237516-a73b-4981-8a1a-1f17979c9dac",
   "metadata": {},
   "outputs": [
    {
     "data": {
      "text/plain": [
       "5.33953775722729"
      ]
     },
     "execution_count": 121,
     "metadata": {},
     "output_type": "execute_result"
    }
   ],
   "source": [
    "sample_table['ethanol_volume'].sum()/10000"
   ]
  },
  {
   "cell_type": "markdown",
   "id": "b8f140ff-c5f8-494d-bd58-093982edd086",
   "metadata": {},
   "source": [
    "## Load Tools"
   ]
  },
  {
   "cell_type": "code",
   "execution_count": 122,
   "id": "d73bac24-917c-4c8c-8c30-494146511312",
   "metadata": {},
   "outputs": [],
   "source": [
    "syringe_10 = syringe.HTTPSyringe.from_config(1, \"../../science-jubilee/src/science_jubilee/tools/configs/10cc_syringe.json\")\n",
    "syringe_1_1 = syringe.HTTPSyringe.from_config(2, \"../../science-jubilee/src/science_jubilee/tools/configs/1cc_1_syringe.json\")\n",
    "syringe_1_2 = syringe.HTTPSyringe.from_config(3, \"../../science-jubilee/src/science_jubilee/tools/configs/1cc_2_syringe.json\")\n",
    "syringe_1_3 = syringe.HTTPSyringe.from_config(4, \"../../science-jubilee/src/science_jubilee/tools/configs/1cc_3_syringe.json\")"
   ]
  },
  {
   "cell_type": "code",
   "execution_count": 123,
   "id": "9448524a-f60e-43fd-ae53-0a51c87e6035",
   "metadata": {
    "scrolled": true
   },
   "outputs": [],
   "source": [
    "jubilee.load_tool(syringe_10)\n",
    "jubilee.load_tool(syringe_1_1)\n",
    "jubilee.load_tool(syringe_1_2)\n",
    "jubilee.load_tool(syringe_1_3)"
   ]
  },
  {
   "cell_type": "code",
   "execution_count": 124,
   "id": "21127bbe-632c-4ec0-84f9-57d9772a90db",
   "metadata": {},
   "outputs": [],
   "source": [
    "mix_syringe = syringe_10\n",
    "water_syringe = syringe_1_1\n",
    "ammonia_syringe = syringe_1_2\n",
    "teos_syringe = syringe_1_3"
   ]
  },
  {
   "cell_type": "markdown",
   "id": "e1d880ae-d253-43f5-995f-d2619e29c78a",
   "metadata": {},
   "source": [
    "## Load water syringe with water"
   ]
  },
  {
   "cell_type": "code",
   "execution_count": 125,
   "id": "c2c5387a-b52d-4fd9-97b4-c69ae21a0c12",
   "metadata": {},
   "outputs": [
    {
     "name": "stdout",
     "output_type": "stream",
     "text": [
      "Loaded syringe, remaining volume 600 uL\n"
     ]
    }
   ],
   "source": [
    "water_syringe.load_syringe(600, 1500)"
   ]
  },
  {
   "cell_type": "code",
   "execution_count": 156,
   "id": "de905209-1c7b-49f5-8d35-1fd8092ec72f",
   "metadata": {
    "scrolled": true
   },
   "outputs": [],
   "source": [
    "water_syringe.set_pulsewidth(water_syringe.empty_position-1, s = 2000)"
   ]
  },
  {
   "cell_type": "code",
   "execution_count": 19,
   "id": "3ded8ddd-1034-4679-804b-1a9d6d47b3b6",
   "metadata": {},
   "outputs": [],
   "source": [
    "water_syringe.set_pulsewidth(water_syringe.full_position+1, s = 10)"
   ]
  },
  {
   "cell_type": "code",
   "execution_count": 20,
   "id": "1bb6d726-e6f0-435e-916a-717d8231ed4d",
   "metadata": {},
   "outputs": [],
   "source": [
    "water_syringe.set_pulsewidth(water_syringe.full_position+150, s = 500)"
   ]
  },
  {
   "cell_type": "code",
   "execution_count": 126,
   "id": "80aff25d-bae2-478d-bc07-4b4f11bd5e05",
   "metadata": {},
   "outputs": [
    {
     "name": "stdout",
     "output_type": "stream",
     "text": [
      "Loaded syringe, remaining volume 750 uL\n"
     ]
    }
   ],
   "source": [
    "water_syringe.load_syringe(750, water_syringe.full_position+150)"
   ]
  },
  {
   "cell_type": "markdown",
   "id": "8ea5df3b-0ad5-4dbb-ad3f-089a2d5f2bd1",
   "metadata": {},
   "source": [
    "## Load ammonia syringe"
   ]
  },
  {
   "cell_type": "code",
   "execution_count": 22,
   "id": "87a366e4-d389-4830-b923-0a932968add9",
   "metadata": {},
   "outputs": [],
   "source": [
    "ammonia_syringe.set_pulsewidth(1420, s = 10)"
   ]
  },
  {
   "cell_type": "code",
   "execution_count": 23,
   "id": "2577d8b0-b404-4e92-8480-89ecc9cfb9cb",
   "metadata": {},
   "outputs": [
    {
     "name": "stdout",
     "output_type": "stream",
     "text": [
      "Loaded syringe, remaining volume 600 uL\n"
     ]
    }
   ],
   "source": [
    "ammonia_syringe.load_syringe(600, 1500)"
   ]
  },
  {
   "cell_type": "code",
   "execution_count": 157,
   "id": "73b9205b-4f97-47a7-aad4-cb252a6726ec",
   "metadata": {},
   "outputs": [],
   "source": [
    "ammonia_syringe.set_pulsewidth(ammonia_syringe.empty_position-1, s = 2000)"
   ]
  },
  {
   "cell_type": "code",
   "execution_count": 25,
   "id": "5fe25b32-0448-49fc-8d48-210e01e293b1",
   "metadata": {},
   "outputs": [],
   "source": [
    "ammonia_syringe.set_pulsewidth(ammonia_syringe.full_position+1, s = 10)"
   ]
  },
  {
   "cell_type": "code",
   "execution_count": 27,
   "id": "e0d5f7c9-883e-48d6-86bf-a30bc8698332",
   "metadata": {},
   "outputs": [],
   "source": [
    "ammonia_syringe.set_pulsewidth(ammonia_syringe.full_position+350, s = 500)"
   ]
  },
  {
   "cell_type": "code",
   "execution_count": 127,
   "id": "b5be2527-8c06-4465-8e44-41f410149cd7",
   "metadata": {},
   "outputs": [
    {
     "name": "stdout",
     "output_type": "stream",
     "text": [
      "Loaded syringe, remaining volume 370 uL\n"
     ]
    }
   ],
   "source": [
    "ammonia_syringe.load_syringe(370, ammonia_syringe.full_position+350)"
   ]
  },
  {
   "cell_type": "markdown",
   "id": "e2c53ecf-d14a-4536-8062-9e7af8c51ba8",
   "metadata": {},
   "source": [
    "## Load TEOS syringe"
   ]
  },
  {
   "cell_type": "code",
   "execution_count": 29,
   "id": "639af747-f1f2-4294-849d-bb1661cd5c85",
   "metadata": {},
   "outputs": [
    {
     "name": "stdout",
     "output_type": "stream",
     "text": [
      "Loaded syringe, remaining volume 600 uL\n"
     ]
    }
   ],
   "source": [
    "teos_syringe.load_syringe(600, 1500)"
   ]
  },
  {
   "cell_type": "code",
   "execution_count": 158,
   "id": "c0f31c8b-1651-4872-806b-3dc1a8e208f2",
   "metadata": {},
   "outputs": [],
   "source": [
    "teos_syringe.set_pulsewidth(teos_syringe.empty_position-1, s = 2000)"
   ]
  },
  {
   "cell_type": "code",
   "execution_count": 31,
   "id": "b8f45e72-b019-41fe-b413-6b1e132edbee",
   "metadata": {},
   "outputs": [],
   "source": [
    "teos_syringe.set_pulsewidth(teos_syringe.full_position+1, s = 100)"
   ]
  },
  {
   "cell_type": "code",
   "execution_count": 32,
   "id": "1c9e3fdf-8999-4d1f-97ca-018afe8e8edd",
   "metadata": {},
   "outputs": [],
   "source": [
    "teos_syringe.set_pulsewidth(teos_syringe.full_position+200, s = 200)"
   ]
  },
  {
   "cell_type": "code",
   "execution_count": 128,
   "id": "cf5154eb-2d59-4bd8-90c2-86c3374a662d",
   "metadata": {},
   "outputs": [
    {
     "name": "stdout",
     "output_type": "stream",
     "text": [
      "Loaded syringe, remaining volume 690 uL\n"
     ]
    }
   ],
   "source": [
    "teos_syringe.load_syringe(690, teos_syringe.full_position+200)"
   ]
  },
  {
   "cell_type": "markdown",
   "id": "ad1ac96b-3d53-4da1-aa2c-a8c2386280f8",
   "metadata": {},
   "source": [
    "## load ethanol syringe"
   ]
  },
  {
   "cell_type": "code",
   "execution_count": 71,
   "id": "f1caaf1a-900c-43ed-a57b-754b0d62aa37",
   "metadata": {},
   "outputs": [],
   "source": [
    "#jubilee.park_tool()"
   ]
  },
  {
   "cell_type": "code",
   "execution_count": 129,
   "id": "6002eb8f-07a3-4c63-b6e6-ee4e3775b39e",
   "metadata": {},
   "outputs": [
    {
     "name": "stdout",
     "output_type": "stream",
     "text": [
      "Loaded syringe, remaining volume 0 uL\n"
     ]
    }
   ],
   "source": [
    "mix_syringe.load_syringe(0, mix_syringe.full_position+200)"
   ]
  },
  {
   "cell_type": "code",
   "execution_count": 155,
   "id": "75d8f923-d8ff-4368-a589-7481a4f4f1bb",
   "metadata": {},
   "outputs": [],
   "source": [
    "mix_syringe.set_pulsewidth(mix_syringe.empty_position-1, s = 2000)\n"
   ]
  },
  {
   "cell_type": "code",
   "execution_count": 109,
   "id": "534ef3b4-9c24-4bcf-acbf-ac7d63225c9c",
   "metadata": {},
   "outputs": [],
   "source": [
    "mix_syringe.set_pulsewidth(mix_syringe.full_position+1, s = 10)"
   ]
  },
  {
   "cell_type": "code",
   "execution_count": 104,
   "id": "96d9a53e-24a0-4595-bb69-db89483176ce",
   "metadata": {},
   "outputs": [
    {
     "data": {
      "text/plain": [
       "1830"
      ]
     },
     "execution_count": 104,
     "metadata": {},
     "output_type": "execute_result"
    }
   ],
   "source": [
    "mix_syringe.empty_position"
   ]
  },
  {
   "cell_type": "code",
   "execution_count": 130,
   "id": "5a8312cd-872e-49bd-815a-d5968bb6b2ec",
   "metadata": {},
   "outputs": [],
   "source": [
    "mix_syringe.set_pulsewidth(mix_syringe.full_position+400, s = 500)"
   ]
  },
  {
   "cell_type": "code",
   "execution_count": 131,
   "id": "99ad1605-10c8-45a3-80cf-c6adfd7ae6a9",
   "metadata": {},
   "outputs": [
    {
     "name": "stdout",
     "output_type": "stream",
     "text": [
      "Loaded syringe, remaining volume 3300 uL\n"
     ]
    }
   ],
   "source": [
    "mix_syringe.load_syringe(3300, mix_syringe.full_position+400)"
   ]
  },
  {
   "cell_type": "markdown",
   "id": "43d1f97d-4c55-40d3-ac5b-9c3a3f1062ed",
   "metadata": {},
   "source": [
    "## Load labware\n"
   ]
  },
  {
   "cell_type": "code",
   "execution_count": 132,
   "id": "19b4bfa8-6878-4b0b-a564-369faa361b1c",
   "metadata": {
    "scrolled": true
   },
   "outputs": [
    {
     "name": "stdout",
     "output_type": "stream",
     "text": [
      "-0.006555332179288959\n",
      "New manual offset applied to septavialrev1_44_holder_2000ul\n"
     ]
    }
   ],
   "source": [
    "samples = jubilee.load_labware('septavialrev1_44_holder_2000ul.json', 2)\n",
    "samples.manual_offset([(17.8, 174.3), (130.8, 175.3), (131.1, 104.9)])"
   ]
  },
  {
   "cell_type": "code",
   "execution_count": 133,
   "id": "19ad67cc-b0a8-4c1f-8d6a-60b173599c82",
   "metadata": {},
   "outputs": [
    {
     "name": "stdout",
     "output_type": "stream",
     "text": [
      "-0.009089907536490804\n",
      "New manual offset applied to 20mlscintillation_12_wellplate_18000ul\n"
     ]
    }
   ],
   "source": [
    "stocks = jubilee.load_labware('20mlscintillation_12_wellplate_18000ul.json', 4)\n",
    "stocks.manual_offset([(31.2, 263.9),(115.3, 263.9),(116.3, 208.9)])"
   ]
  },
  {
   "cell_type": "code",
   "execution_count": 134,
   "id": "1ef40a35-9802-4eb3-9a10-16255155b92d",
   "metadata": {},
   "outputs": [],
   "source": [
    "trash = jubilee.load_labware('agilent_1_reservoir_290ml.json', 1)"
   ]
  },
  {
   "cell_type": "code",
   "execution_count": 135,
   "id": "f7395271-1a02-4f11-883f-34a8456f0a05",
   "metadata": {},
   "outputs": [],
   "source": [
    "teos_stocks = [stocks[0]]\n",
    "ammonia_stocks = [stocks[1]]\n",
    "water_stocks = [stocks[2]]\n",
    "ethanol_stocks = [stocks[3], stocks[4], stocks[5], stocks[6], stocks[7], stocks[8]]\n",
    "rinse_stocks = [stocks[9], stocks[10], stocks[11]]"
   ]
  },
  {
   "cell_type": "code",
   "execution_count": 136,
   "id": "ff0249ac-a57e-4fb2-9b2f-6132c6739713",
   "metadata": {},
   "outputs": [
    {
     "data": {
      "text/plain": [
       "175.04077623607347"
      ]
     },
     "execution_count": 136,
     "metadata": {},
     "output_type": "execute_result"
    }
   ],
   "source": [
    "samples['A8'].y"
   ]
  },
  {
   "cell_type": "code",
   "execution_count": 137,
   "id": "265bd171-c7d5-4ca6-84c4-a707d57ef365",
   "metadata": {},
   "outputs": [
    {
     "data": {
      "text/plain": [
       "104.64164967052236"
      ]
     },
     "execution_count": 137,
     "metadata": {},
     "output_type": "execute_result"
    }
   ],
   "source": [
    "samples['F8'].y"
   ]
  },
  {
   "cell_type": "markdown",
   "id": "4bd30fe3-5be6-4ea7-a61d-357272d3e8a4",
   "metadata": {},
   "source": [
    "## Check sample alignment"
   ]
  },
  {
   "cell_type": "code",
   "execution_count": 66,
   "id": "6341c596-5970-48b4-b3cc-44b5f8d7a9ff",
   "metadata": {},
   "outputs": [
    {
     "name": "stdin",
     "output_type": "stream",
     "text": [
      "Is the tip centered over well? \n",
      "Is the tip centered over well? \n",
      "Is the tip centered over well? \n"
     ]
    },
    {
     "name": "stderr",
     "output_type": "stream",
     "text": [
      "\n",
      "KeyboardInterrupt\n",
      "\n"
     ]
    }
   ],
   "source": [
    "jubilee.pickup_tool(mix_syringe)\n",
    "for well in stocks:\n",
    "    jubilee.move_to(x = well.x, y = well.y)\n",
    "    jubilee.move_to(z = well.top_+7)\n",
    "    ans = input(f'Is the tip centered over well?')\n",
    "    if ans == 'y':\n",
    "        continue\n",
    "    else:\n",
    "        continue"
   ]
  },
  {
   "cell_type": "code",
   "execution_count": 138,
   "id": "25a4d272-6e56-4649-ba7a-5e04e922c043",
   "metadata": {},
   "outputs": [
    {
     "name": "stdin",
     "output_type": "stream",
     "text": [
      "Is the tip centered over sample A1? \n",
      "Is the tip centered over sample A2? \n",
      "Is the tip centered over sample A3? \n",
      "Is the tip centered over sample A4? \n",
      "Is the tip centered over sample A5? \n",
      "Is the tip centered over sample A6? \n",
      "Is the tip centered over sample A7? \n",
      "Is the tip centered over sample A8? \n",
      "Is the tip centered over sample B1? \n",
      "Is the tip centered over sample B3? \n",
      "Is the tip centered over sample B4? \n",
      "Is the tip centered over sample B5? \n",
      "Is the tip centered over sample B6? \n",
      "Is the tip centered over sample B8? \n",
      "Is the tip centered over sample C1? \n",
      "Is the tip centered over sample C2? \n",
      "Is the tip centered over sample C3? \n",
      "Is the tip centered over sample C4? \n",
      "Is the tip centered over sample C5? \n",
      "Is the tip centered over sample C6? \n",
      "Is the tip centered over sample C7? \n",
      "Is the tip centered over sample C8? \n",
      "Is the tip centered over sample D1? \n",
      "Is the tip centered over sample D2? \n",
      "Is the tip centered over sample D3? \n",
      "Is the tip centered over sample D4? \n",
      "Is the tip centered over sample D5? \n",
      "Is the tip centered over sample D6? \n",
      "Is the tip centered over sample D7? \n",
      "Is the tip centered over sample D8? \n",
      "Is the tip centered over sample E1? \n",
      "Is the tip centered over sample E3? \n",
      "Is the tip centered over sample E4? \n",
      "Is the tip centered over sample E5? \n",
      "Is the tip centered over sample E6? \n",
      "Is the tip centered over sample E8? \n",
      "Is the tip centered over sample F1? \n",
      "Is the tip centered over sample F2? \n",
      "Is the tip centered over sample F3? \n",
      "Is the tip centered over sample F4? \n"
     ]
    }
   ],
   "source": [
    "jubilee.pickup_tool(mix_syringe)\n",
    "for i, row in sample_table.iterrows():\n",
    "    loc = samples[row['well']]\n",
    "    jubilee.move_to(x = loc.x, y = loc.y)\n",
    "    jubilee.move_to(z = loc.top_+2)\n",
    "    curr_well = row['well']\n",
    "    ans = input(f'Is the tip centered over sample {curr_well}?')\n",
    "    if ans == 'y':\n",
    "        continue\n",
    "    else:\n",
    "        continue\n",
    "    "
   ]
  },
  {
   "cell_type": "code",
   "execution_count": null,
   "id": "48d38665-e784-41bf-b95c-aab75d4783bd",
   "metadata": {},
   "outputs": [],
   "source": [
    "\n",
    "\n",
    "## also check all 4 tools move to last position correctly"
   ]
  },
  {
   "cell_type": "code",
   "execution_count": 139,
   "id": "a52572b9-48d6-4bf1-acb2-19c7ac5c6fb8",
   "metadata": {},
   "outputs": [],
   "source": [
    "jubilee.park_tool()"
   ]
  },
  {
   "cell_type": "markdown",
   "id": "b9dff3f4-8be6-4f73-b343-6221f8df76dc",
   "metadata": {},
   "source": [
    "# Experiment\n"
   ]
  },
  {
   "cell_type": "code",
   "execution_count": 140,
   "id": "9d770745-931b-42d0-8b40-409a83411619",
   "metadata": {},
   "outputs": [],
   "source": [
    "location_lookup = {row['uuid']:samples[row['well']] for i, row in sample_table.iterrows()}"
   ]
  },
  {
   "cell_type": "markdown",
   "id": "e2ddb62c-d3f3-4c45-917a-e575189606c9",
   "metadata": {},
   "source": [
    "## add ethanol"
   ]
  },
  {
   "cell_type": "code",
   "execution_count": 81,
   "id": "759f8c8b-a1b4-4569-ac5f-38fc3d922a43",
   "metadata": {},
   "outputs": [],
   "source": [
    "jubilee.park_tool()"
   ]
  },
  {
   "cell_type": "code",
   "execution_count": 78,
   "id": "4765adc9-c66d-4763-9682-883d0eac18e1",
   "metadata": {},
   "outputs": [
    {
     "data": {
      "text/plain": [
       "3874.4048383731597"
      ]
     },
     "execution_count": 78,
     "metadata": {},
     "output_type": "execute_result"
    }
   ],
   "source": [
    "mix_syringe.remaining_volume"
   ]
  },
  {
   "cell_type": "code",
   "execution_count": 141,
   "id": "0f4144b3-a7f9-4650-886f-054cd544228a",
   "metadata": {},
   "outputs": [
    {
     "name": "stdout",
     "output_type": "stream",
     "text": [
      "<Response [200]>\n"
     ]
    },
    {
     "name": "stdin",
     "output_type": "stream",
     "text": [
      "Is the crash resolved? Enter \"All clear\" to resume experiment y\n",
      "Is the crash resolved? Enter \"All clear\" to resume experiment All clear\n"
     ]
    },
    {
     "name": "stdout",
     "output_type": "stream",
     "text": [
      "<Response [200]>\n"
     ]
    },
    {
     "name": "stdin",
     "output_type": "stream",
     "text": [
      "Is the crash resolved? Enter \"All clear\" to resume experiment All clear\n"
     ]
    }
   ],
   "source": [
    "stober.add_reactants_batch(jubilee, mix_syringe, mix_syringe, sample_table, location_lookup, 'ethanol_volume', ethanol_stocks, stocks_usable_volume=15000, dwell_time = 10)"
   ]
  },
  {
   "cell_type": "code",
   "execution_count": 80,
   "id": "c45249bc-93c8-4398-b076-414b50702a09",
   "metadata": {},
   "outputs": [
    {
     "data": {
      "text/plain": [
       "'10.990'"
      ]
     },
     "execution_count": 80,
     "metadata": {},
     "output_type": "execute_result"
    }
   ],
   "source": [
    "jubilee.get_position()['Z']"
   ]
  },
  {
   "cell_type": "code",
   "execution_count": 142,
   "id": "7d204157-ed65-4f49-acbc-d192222f0dc6",
   "metadata": {},
   "outputs": [
    {
     "name": "stdout",
     "output_type": "stream",
     "text": [
      "<Response [200]>\n"
     ]
    },
    {
     "name": "stdin",
     "output_type": "stream",
     "text": [
      "Is the crash resolved? Enter \"All clear\" to resume experiment All clear\n"
     ]
    },
    {
     "name": "stdout",
     "output_type": "stream",
     "text": [
      "<Response [200]>\n"
     ]
    },
    {
     "name": "stdin",
     "output_type": "stream",
     "text": [
      "Is the crash resolved? Enter \"All clear\" to resume experiment All clear\n"
     ]
    }
   ],
   "source": [
    "#dispense remaining volume from etOH mix syringe\n",
    "jubilee.pickup_tool(mix_syringe)\n",
    "mix_syringe.dispense(mix_syringe.remaining_volume-1, trash[0])\n",
    "logger.info('Emptied ethanol syringe into trash')\n",
    "jubilee.park_tool()"
   ]
  },
  {
   "cell_type": "code",
   "execution_count": 143,
   "id": "2fc66aa1-bc70-4098-8e37-f148188c26c6",
   "metadata": {},
   "outputs": [],
   "source": [
    "mix_syringe.set_pulsewidth(mix_syringe.empty_position-1)"
   ]
  },
  {
   "cell_type": "markdown",
   "id": "9e35c96c-2ea8-438a-989d-f6d73c8f16ed",
   "metadata": {},
   "source": [
    "## Dispense water\n"
   ]
  },
  {
   "cell_type": "code",
   "execution_count": 144,
   "id": "9f765450-7f64-49e7-85f8-335e2fa0b666",
   "metadata": {},
   "outputs": [],
   "source": [
    "stober.add_reactants_batch(jubilee, water_syringe, mix_syringe, sample_table, location_lookup, 'water_volume', water_stocks, dwell_time = 7)"
   ]
  },
  {
   "cell_type": "markdown",
   "id": "cd60cc24-167e-46e5-9e73-a2457c8964de",
   "metadata": {},
   "source": [
    "## dispense Ammonia"
   ]
  },
  {
   "cell_type": "code",
   "execution_count": 145,
   "id": "7dc4c2ae-9e4e-40e0-929a-6e0a3e4bc240",
   "metadata": {},
   "outputs": [],
   "source": [
    "stober.add_reactants_batch(jubilee, ammonia_syringe, mix_syringe, sample_table, location_lookup, 'ammonia_volume', ammonia_stocks)"
   ]
  },
  {
   "cell_type": "markdown",
   "id": "bc8a34b3-acd7-4b89-a9ea-34b514cd3d8c",
   "metadata": {},
   "source": [
    "## mix precursors"
   ]
  },
  {
   "cell_type": "code",
   "execution_count": 146,
   "id": "f4f701c5-7908-489e-a1eb-9b2c60438c96",
   "metadata": {},
   "outputs": [],
   "source": [
    "stober.first_mix(jubilee, mix_syringe, 2000, location_lookup, rinse_stocks, 5)"
   ]
  },
  {
   "cell_type": "markdown",
   "id": "000c1369-b5a0-4183-97d4-fced54279516",
   "metadata": {},
   "source": [
    "## Add TEOS and mix"
   ]
  },
  {
   "cell_type": "code",
   "execution_count": null,
   "id": "efccb2d6-234a-4af8-a87d-4d904696a48e",
   "metadata": {},
   "outputs": [],
   "source": [
    "stober.add_reactants_batch(jubilee, teos_syringe, mix_syringe, sample_table, location_lookup, 'teos_volume', teos_stocks, mix_after=(2000, 5, rinse_stocks))"
   ]
  },
  {
   "cell_type": "markdown",
   "id": "cf654819-0ae6-452a-bdbe-5f2a008f1b1c",
   "metadata": {},
   "source": [
    "### Dilution"
   ]
  },
  {
   "cell_type": "markdown",
   "id": "0fd08f57-b814-44a7-a083-0310c9f7fbe2",
   "metadata": {},
   "source": [
    "#### Double dilution volume fraction"
   ]
  },
  {
   "cell_type": "code",
   "execution_count": 150,
   "id": "8335458b-950a-4208-b379-5f97f1f14377",
   "metadata": {},
   "outputs": [],
   "source": [
    "dilution_table = sample_table.iloc[0:24]"
   ]
  },
  {
   "cell_type": "code",
   "execution_count": 151,
   "id": "1a965e59-1b59-44b6-94c7-ec1337d8c011",
   "metadata": {},
   "outputs": [
    {
     "data": {
      "text/html": [
       "<div>\n",
       "<style scoped>\n",
       "    .dataframe tbody tr th:only-of-type {\n",
       "        vertical-align: middle;\n",
       "    }\n",
       "\n",
       "    .dataframe tbody tr th {\n",
       "        vertical-align: top;\n",
       "    }\n",
       "\n",
       "    .dataframe thead th {\n",
       "        text-align: right;\n",
       "    }\n",
       "</style>\n",
       "<table border=\"1\" class=\"dataframe\">\n",
       "  <thead>\n",
       "    <tr style=\"text-align: right;\">\n",
       "      <th></th>\n",
       "      <th>Unnamed: 0</th>\n",
       "      <th>uuid</th>\n",
       "      <th>teos_volume</th>\n",
       "      <th>ammonia_volume</th>\n",
       "      <th>water_volume</th>\n",
       "      <th>ethanol_volume</th>\n",
       "      <th>dilution_volume_fraction</th>\n",
       "      <th>silica_mass_conc</th>\n",
       "      <th>silica_mass_fraction</th>\n",
       "      <th>well</th>\n",
       "      <th>ethanol_dilute_vol</th>\n",
       "      <th>sample_dilute_vol</th>\n",
       "    </tr>\n",
       "  </thead>\n",
       "  <tbody>\n",
       "    <tr>\n",
       "      <th>0</th>\n",
       "      <td>0</td>\n",
       "      <td>0cbe4677-2659-4e7f-993b-222b31ebcb86</td>\n",
       "      <td>155.646255</td>\n",
       "      <td>86.949789</td>\n",
       "      <td>191.735378</td>\n",
       "      <td>1265.668577</td>\n",
       "      <td>0.175535</td>\n",
       "      <td>24.643233</td>\n",
       "      <td>0.029629</td>\n",
       "      <td>A1</td>\n",
       "      <td>1402.0</td>\n",
       "      <td>298.0</td>\n",
       "    </tr>\n",
       "    <tr>\n",
       "      <th>1</th>\n",
       "      <td>1</td>\n",
       "      <td>ad84fa96-1a1d-4b08-906a-64405d8b14c4</td>\n",
       "      <td>22.547910</td>\n",
       "      <td>101.933261</td>\n",
       "      <td>210.378803</td>\n",
       "      <td>1365.140026</td>\n",
       "      <td>1.211706</td>\n",
       "      <td>3.569976</td>\n",
       "      <td>0.004334</td>\n",
       "      <td>A2</td>\n",
       "      <td>-360.0</td>\n",
       "      <td>2060.0</td>\n",
       "    </tr>\n",
       "    <tr>\n",
       "      <th>2</th>\n",
       "      <td>2</td>\n",
       "      <td>50d45172-6479-4d31-9ef6-bea791278606</td>\n",
       "      <td>129.369928</td>\n",
       "      <td>48.849693</td>\n",
       "      <td>126.993821</td>\n",
       "      <td>1394.786558</td>\n",
       "      <td>0.211188</td>\n",
       "      <td>20.482943</td>\n",
       "      <td>0.025008</td>\n",
       "      <td>A3</td>\n",
       "      <td>1341.0</td>\n",
       "      <td>359.0</td>\n",
       "    </tr>\n",
       "    <tr>\n",
       "      <th>3</th>\n",
       "      <td>3</td>\n",
       "      <td>bc2a0ee6-c1d0-4437-bf7c-9c3184bef73f</td>\n",
       "      <td>168.442643</td>\n",
       "      <td>126.517466</td>\n",
       "      <td>169.559498</td>\n",
       "      <td>1235.480393</td>\n",
       "      <td>0.162200</td>\n",
       "      <td>26.669266</td>\n",
       "      <td>0.032028</td>\n",
       "      <td>A4</td>\n",
       "      <td>1424.0</td>\n",
       "      <td>276.0</td>\n",
       "    </tr>\n",
       "    <tr>\n",
       "      <th>4</th>\n",
       "      <td>4</td>\n",
       "      <td>517c3f17-e084-4ef0-a79f-a7ee9183f4b9</td>\n",
       "      <td>123.012078</td>\n",
       "      <td>106.478926</td>\n",
       "      <td>25.367677</td>\n",
       "      <td>1445.141318</td>\n",
       "      <td>0.222104</td>\n",
       "      <td>19.476314</td>\n",
       "      <td>0.024052</td>\n",
       "      <td>A5</td>\n",
       "      <td>1322.0</td>\n",
       "      <td>378.0</td>\n",
       "    </tr>\n",
       "    <tr>\n",
       "      <th>5</th>\n",
       "      <td>5</td>\n",
       "      <td>2811e6fa-3ff3-42bc-a3cf-bcc61a8cf0fd</td>\n",
       "      <td>160.329582</td>\n",
       "      <td>133.863755</td>\n",
       "      <td>140.370254</td>\n",
       "      <td>1265.436409</td>\n",
       "      <td>0.170408</td>\n",
       "      <td>25.384738</td>\n",
       "      <td>0.030625</td>\n",
       "      <td>A6</td>\n",
       "      <td>1410.0</td>\n",
       "      <td>290.0</td>\n",
       "    </tr>\n",
       "    <tr>\n",
       "      <th>6</th>\n",
       "      <td>6</td>\n",
       "      <td>cf246b70-a191-4b99-bd9b-0847ce01744b</td>\n",
       "      <td>190.431587</td>\n",
       "      <td>106.917269</td>\n",
       "      <td>116.983255</td>\n",
       "      <td>1285.667890</td>\n",
       "      <td>0.143471</td>\n",
       "      <td>30.150742</td>\n",
       "      <td>0.036467</td>\n",
       "      <td>A7</td>\n",
       "      <td>1456.0</td>\n",
       "      <td>244.0</td>\n",
       "    </tr>\n",
       "    <tr>\n",
       "      <th>7</th>\n",
       "      <td>7</td>\n",
       "      <td>61c91192-9f3f-4836-8619-c4a50808f7b6</td>\n",
       "      <td>46.987089</td>\n",
       "      <td>83.065410</td>\n",
       "      <td>217.468843</td>\n",
       "      <td>1352.478658</td>\n",
       "      <td>0.581467</td>\n",
       "      <td>7.439394</td>\n",
       "      <td>0.009013</td>\n",
       "      <td>A8</td>\n",
       "      <td>712.0</td>\n",
       "      <td>988.0</td>\n",
       "    </tr>\n",
       "    <tr>\n",
       "      <th>8</th>\n",
       "      <td>8</td>\n",
       "      <td>5a63723b-d247-4738-8b0e-5130a06e53d0</td>\n",
       "      <td>150.412449</td>\n",
       "      <td>108.958638</td>\n",
       "      <td>69.488722</td>\n",
       "      <td>1371.140191</td>\n",
       "      <td>0.181643</td>\n",
       "      <td>23.814573</td>\n",
       "      <td>0.029124</td>\n",
       "      <td>B1</td>\n",
       "      <td>1391.0</td>\n",
       "      <td>309.0</td>\n",
       "    </tr>\n",
       "    <tr>\n",
       "      <th>9</th>\n",
       "      <td>9</td>\n",
       "      <td>8209442c-5fed-4dc0-ad42-c083465e58eb</td>\n",
       "      <td>90.909733</td>\n",
       "      <td>12.620472</td>\n",
       "      <td>179.188913</td>\n",
       "      <td>1417.280881</td>\n",
       "      <td>0.300534</td>\n",
       "      <td>14.393599</td>\n",
       "      <td>0.017556</td>\n",
       "      <td>B3</td>\n",
       "      <td>1189.0</td>\n",
       "      <td>511.0</td>\n",
       "    </tr>\n",
       "    <tr>\n",
       "      <th>10</th>\n",
       "      <td>10</td>\n",
       "      <td>bb19470e-967e-4dcd-970d-4fd3588246f3</td>\n",
       "      <td>223.676832</td>\n",
       "      <td>19.632592</td>\n",
       "      <td>43.616453</td>\n",
       "      <td>1413.074123</td>\n",
       "      <td>0.122147</td>\n",
       "      <td>35.414411</td>\n",
       "      <td>0.043460</td>\n",
       "      <td>B4</td>\n",
       "      <td>1492.0</td>\n",
       "      <td>208.0</td>\n",
       "    </tr>\n",
       "    <tr>\n",
       "      <th>11</th>\n",
       "      <td>11</td>\n",
       "      <td>decddea8-7eee-4ca3-9344-5b6f201057b3</td>\n",
       "      <td>199.260638</td>\n",
       "      <td>54.893950</td>\n",
       "      <td>221.488853</td>\n",
       "      <td>1224.356559</td>\n",
       "      <td>0.137114</td>\n",
       "      <td>31.548632</td>\n",
       "      <td>0.037692</td>\n",
       "      <td>B5</td>\n",
       "      <td>1467.0</td>\n",
       "      <td>233.0</td>\n",
       "    </tr>\n",
       "    <tr>\n",
       "      <th>12</th>\n",
       "      <td>12</td>\n",
       "      <td>551d8cf4-45f3-4211-bff9-bac1f9870ec6</td>\n",
       "      <td>203.982280</td>\n",
       "      <td>68.185271</td>\n",
       "      <td>139.328012</td>\n",
       "      <td>1288.504438</td>\n",
       "      <td>0.133940</td>\n",
       "      <td>32.296202</td>\n",
       "      <td>0.038998</td>\n",
       "      <td>B6</td>\n",
       "      <td>1472.0</td>\n",
       "      <td>228.0</td>\n",
       "    </tr>\n",
       "    <tr>\n",
       "      <th>13</th>\n",
       "      <td>13</td>\n",
       "      <td>44e72ee1-8a86-4ffd-8aca-07ceafe5a474</td>\n",
       "      <td>81.610511</td>\n",
       "      <td>120.616714</td>\n",
       "      <td>140.171723</td>\n",
       "      <td>1357.601052</td>\n",
       "      <td>0.334778</td>\n",
       "      <td>12.921267</td>\n",
       "      <td>0.015732</td>\n",
       "      <td>B8</td>\n",
       "      <td>1131.0</td>\n",
       "      <td>569.0</td>\n",
       "    </tr>\n",
       "    <tr>\n",
       "      <th>14</th>\n",
       "      <td>14</td>\n",
       "      <td>7586d345-a4e0-455e-aaf8-ee04edab6bdd</td>\n",
       "      <td>126.995177</td>\n",
       "      <td>132.780056</td>\n",
       "      <td>177.590993</td>\n",
       "      <td>1262.633774</td>\n",
       "      <td>0.215138</td>\n",
       "      <td>20.106952</td>\n",
       "      <td>0.024209</td>\n",
       "      <td>C1</td>\n",
       "      <td>1334.0</td>\n",
       "      <td>366.0</td>\n",
       "    </tr>\n",
       "    <tr>\n",
       "      <th>15</th>\n",
       "      <td>15</td>\n",
       "      <td>56451304-05fb-48e6-a226-ce4c2bbd1de3</td>\n",
       "      <td>110.363248</td>\n",
       "      <td>176.794705</td>\n",
       "      <td>43.220118</td>\n",
       "      <td>1369.621929</td>\n",
       "      <td>0.247559</td>\n",
       "      <td>17.473644</td>\n",
       "      <td>0.021427</td>\n",
       "      <td>C2</td>\n",
       "      <td>1279.0</td>\n",
       "      <td>421.0</td>\n",
       "    </tr>\n",
       "    <tr>\n",
       "      <th>16</th>\n",
       "      <td>16</td>\n",
       "      <td>bcd48064-47e5-45b2-86b0-cf53533c584a</td>\n",
       "      <td>88.619563</td>\n",
       "      <td>86.983674</td>\n",
       "      <td>165.891373</td>\n",
       "      <td>1358.505390</td>\n",
       "      <td>0.308300</td>\n",
       "      <td>14.031000</td>\n",
       "      <td>0.017051</td>\n",
       "      <td>C3</td>\n",
       "      <td>1176.0</td>\n",
       "      <td>524.0</td>\n",
       "    </tr>\n",
       "    <tr>\n",
       "      <th>17</th>\n",
       "      <td>17</td>\n",
       "      <td>ced08f31-8bee-4e63-96d4-cdb059f6ab5c</td>\n",
       "      <td>96.775846</td>\n",
       "      <td>80.746716</td>\n",
       "      <td>230.217738</td>\n",
       "      <td>1292.259700</td>\n",
       "      <td>0.282317</td>\n",
       "      <td>15.322372</td>\n",
       "      <td>0.018437</td>\n",
       "      <td>C4</td>\n",
       "      <td>1220.0</td>\n",
       "      <td>480.0</td>\n",
       "    </tr>\n",
       "    <tr>\n",
       "      <th>18</th>\n",
       "      <td>18</td>\n",
       "      <td>8bba99d5-9522-404d-8c7c-f9c527c491bd</td>\n",
       "      <td>167.339021</td>\n",
       "      <td>78.828685</td>\n",
       "      <td>140.588813</td>\n",
       "      <td>1313.243481</td>\n",
       "      <td>0.163270</td>\n",
       "      <td>26.494531</td>\n",
       "      <td>0.032079</td>\n",
       "      <td>C5</td>\n",
       "      <td>1422.0</td>\n",
       "      <td>278.0</td>\n",
       "    </tr>\n",
       "    <tr>\n",
       "      <th>19</th>\n",
       "      <td>19</td>\n",
       "      <td>8a0bd2de-3c21-4148-b402-efebe0043e63</td>\n",
       "      <td>113.030593</td>\n",
       "      <td>63.731619</td>\n",
       "      <td>237.950905</td>\n",
       "      <td>1285.286883</td>\n",
       "      <td>0.241717</td>\n",
       "      <td>17.895961</td>\n",
       "      <td>0.021502</td>\n",
       "      <td>C6</td>\n",
       "      <td>1289.0</td>\n",
       "      <td>411.0</td>\n",
       "    </tr>\n",
       "    <tr>\n",
       "      <th>20</th>\n",
       "      <td>20</td>\n",
       "      <td>e0ec3c4c-a1d6-4cbc-8c5c-3ed0b7a0f7eb</td>\n",
       "      <td>146.446875</td>\n",
       "      <td>158.741058</td>\n",
       "      <td>36.056991</td>\n",
       "      <td>1358.755076</td>\n",
       "      <td>0.186562</td>\n",
       "      <td>23.186710</td>\n",
       "      <td>0.028398</td>\n",
       "      <td>C7</td>\n",
       "      <td>1383.0</td>\n",
       "      <td>317.0</td>\n",
       "    </tr>\n",
       "    <tr>\n",
       "      <th>21</th>\n",
       "      <td>21</td>\n",
       "      <td>b59dad1a-4440-453a-b36a-9efd6e49a282</td>\n",
       "      <td>238.200378</td>\n",
       "      <td>76.128058</td>\n",
       "      <td>50.552195</td>\n",
       "      <td>1335.119368</td>\n",
       "      <td>0.114699</td>\n",
       "      <td>37.713902</td>\n",
       "      <td>0.045956</td>\n",
       "      <td>C8</td>\n",
       "      <td>1505.0</td>\n",
       "      <td>195.0</td>\n",
       "    </tr>\n",
       "    <tr>\n",
       "      <th>22</th>\n",
       "      <td>22</td>\n",
       "      <td>d0e19177-de83-4147-ad9f-8c5e3a0aeedd</td>\n",
       "      <td>141.247887</td>\n",
       "      <td>170.845489</td>\n",
       "      <td>237.481059</td>\n",
       "      <td>1150.425564</td>\n",
       "      <td>0.193429</td>\n",
       "      <td>22.363562</td>\n",
       "      <td>0.026572</td>\n",
       "      <td>D1</td>\n",
       "      <td>1371.0</td>\n",
       "      <td>329.0</td>\n",
       "    </tr>\n",
       "    <tr>\n",
       "      <th>23</th>\n",
       "      <td>23</td>\n",
       "      <td>759bc1ef-f128-4db0-afec-489804bd5a62</td>\n",
       "      <td>95.170879</td>\n",
       "      <td>33.458584</td>\n",
       "      <td>217.258474</td>\n",
       "      <td>1354.112063</td>\n",
       "      <td>0.287078</td>\n",
       "      <td>15.068260</td>\n",
       "      <td>0.018237</td>\n",
       "      <td>D2</td>\n",
       "      <td>1212.0</td>\n",
       "      <td>488.0</td>\n",
       "    </tr>\n",
       "  </tbody>\n",
       "</table>\n",
       "</div>"
      ],
      "text/plain": [
       "    Unnamed: 0                                  uuid  teos_volume  \\\n",
       "0            0  0cbe4677-2659-4e7f-993b-222b31ebcb86   155.646255   \n",
       "1            1  ad84fa96-1a1d-4b08-906a-64405d8b14c4    22.547910   \n",
       "2            2  50d45172-6479-4d31-9ef6-bea791278606   129.369928   \n",
       "3            3  bc2a0ee6-c1d0-4437-bf7c-9c3184bef73f   168.442643   \n",
       "4            4  517c3f17-e084-4ef0-a79f-a7ee9183f4b9   123.012078   \n",
       "5            5  2811e6fa-3ff3-42bc-a3cf-bcc61a8cf0fd   160.329582   \n",
       "6            6  cf246b70-a191-4b99-bd9b-0847ce01744b   190.431587   \n",
       "7            7  61c91192-9f3f-4836-8619-c4a50808f7b6    46.987089   \n",
       "8            8  5a63723b-d247-4738-8b0e-5130a06e53d0   150.412449   \n",
       "9            9  8209442c-5fed-4dc0-ad42-c083465e58eb    90.909733   \n",
       "10          10  bb19470e-967e-4dcd-970d-4fd3588246f3   223.676832   \n",
       "11          11  decddea8-7eee-4ca3-9344-5b6f201057b3   199.260638   \n",
       "12          12  551d8cf4-45f3-4211-bff9-bac1f9870ec6   203.982280   \n",
       "13          13  44e72ee1-8a86-4ffd-8aca-07ceafe5a474    81.610511   \n",
       "14          14  7586d345-a4e0-455e-aaf8-ee04edab6bdd   126.995177   \n",
       "15          15  56451304-05fb-48e6-a226-ce4c2bbd1de3   110.363248   \n",
       "16          16  bcd48064-47e5-45b2-86b0-cf53533c584a    88.619563   \n",
       "17          17  ced08f31-8bee-4e63-96d4-cdb059f6ab5c    96.775846   \n",
       "18          18  8bba99d5-9522-404d-8c7c-f9c527c491bd   167.339021   \n",
       "19          19  8a0bd2de-3c21-4148-b402-efebe0043e63   113.030593   \n",
       "20          20  e0ec3c4c-a1d6-4cbc-8c5c-3ed0b7a0f7eb   146.446875   \n",
       "21          21  b59dad1a-4440-453a-b36a-9efd6e49a282   238.200378   \n",
       "22          22  d0e19177-de83-4147-ad9f-8c5e3a0aeedd   141.247887   \n",
       "23          23  759bc1ef-f128-4db0-afec-489804bd5a62    95.170879   \n",
       "\n",
       "    ammonia_volume  water_volume  ethanol_volume  dilution_volume_fraction  \\\n",
       "0        86.949789    191.735378     1265.668577                  0.175535   \n",
       "1       101.933261    210.378803     1365.140026                  1.211706   \n",
       "2        48.849693    126.993821     1394.786558                  0.211188   \n",
       "3       126.517466    169.559498     1235.480393                  0.162200   \n",
       "4       106.478926     25.367677     1445.141318                  0.222104   \n",
       "5       133.863755    140.370254     1265.436409                  0.170408   \n",
       "6       106.917269    116.983255     1285.667890                  0.143471   \n",
       "7        83.065410    217.468843     1352.478658                  0.581467   \n",
       "8       108.958638     69.488722     1371.140191                  0.181643   \n",
       "9        12.620472    179.188913     1417.280881                  0.300534   \n",
       "10       19.632592     43.616453     1413.074123                  0.122147   \n",
       "11       54.893950    221.488853     1224.356559                  0.137114   \n",
       "12       68.185271    139.328012     1288.504438                  0.133940   \n",
       "13      120.616714    140.171723     1357.601052                  0.334778   \n",
       "14      132.780056    177.590993     1262.633774                  0.215138   \n",
       "15      176.794705     43.220118     1369.621929                  0.247559   \n",
       "16       86.983674    165.891373     1358.505390                  0.308300   \n",
       "17       80.746716    230.217738     1292.259700                  0.282317   \n",
       "18       78.828685    140.588813     1313.243481                  0.163270   \n",
       "19       63.731619    237.950905     1285.286883                  0.241717   \n",
       "20      158.741058     36.056991     1358.755076                  0.186562   \n",
       "21       76.128058     50.552195     1335.119368                  0.114699   \n",
       "22      170.845489    237.481059     1150.425564                  0.193429   \n",
       "23       33.458584    217.258474     1354.112063                  0.287078   \n",
       "\n",
       "    silica_mass_conc  silica_mass_fraction well  ethanol_dilute_vol  \\\n",
       "0          24.643233              0.029629   A1              1402.0   \n",
       "1           3.569976              0.004334   A2              -360.0   \n",
       "2          20.482943              0.025008   A3              1341.0   \n",
       "3          26.669266              0.032028   A4              1424.0   \n",
       "4          19.476314              0.024052   A5              1322.0   \n",
       "5          25.384738              0.030625   A6              1410.0   \n",
       "6          30.150742              0.036467   A7              1456.0   \n",
       "7           7.439394              0.009013   A8               712.0   \n",
       "8          23.814573              0.029124   B1              1391.0   \n",
       "9          14.393599              0.017556   B3              1189.0   \n",
       "10         35.414411              0.043460   B4              1492.0   \n",
       "11         31.548632              0.037692   B5              1467.0   \n",
       "12         32.296202              0.038998   B6              1472.0   \n",
       "13         12.921267              0.015732   B8              1131.0   \n",
       "14         20.106952              0.024209   C1              1334.0   \n",
       "15         17.473644              0.021427   C2              1279.0   \n",
       "16         14.031000              0.017051   C3              1176.0   \n",
       "17         15.322372              0.018437   C4              1220.0   \n",
       "18         26.494531              0.032079   C5              1422.0   \n",
       "19         17.895961              0.021502   C6              1289.0   \n",
       "20         23.186710              0.028398   C7              1383.0   \n",
       "21         37.713902              0.045956   C8              1505.0   \n",
       "22         22.363562              0.026572   D1              1371.0   \n",
       "23         15.068260              0.018237   D2              1212.0   \n",
       "\n",
       "    sample_dilute_vol  \n",
       "0               298.0  \n",
       "1              2060.0  \n",
       "2               359.0  \n",
       "3               276.0  \n",
       "4               378.0  \n",
       "5               290.0  \n",
       "6               244.0  \n",
       "7               988.0  \n",
       "8               309.0  \n",
       "9               511.0  \n",
       "10              208.0  \n",
       "11              233.0  \n",
       "12              228.0  \n",
       "13              569.0  \n",
       "14              366.0  \n",
       "15              421.0  \n",
       "16              524.0  \n",
       "17              480.0  \n",
       "18              278.0  \n",
       "19              411.0  \n",
       "20              317.0  \n",
       "21              195.0  \n",
       "22              329.0  \n",
       "23              488.0  "
      ]
     },
     "execution_count": 151,
     "metadata": {},
     "output_type": "execute_result"
    }
   ],
   "source": [
    "dilution_table"
   ]
  },
  {
   "cell_type": "markdown",
   "id": "31d4c08e-5217-4865-b799-6b98cdf2da28",
   "metadata": {},
   "source": [
    "#### calculate target ethanol and sample volumes"
   ]
  },
  {
   "cell_type": "code",
   "execution_count": 153,
   "id": "26c98bb6-f6dc-48c3-9564-855007e54de9",
   "metadata": {},
   "outputs": [
    {
     "data": {
      "text/html": [
       "<div>\n",
       "<style scoped>\n",
       "    .dataframe tbody tr th:only-of-type {\n",
       "        vertical-align: middle;\n",
       "    }\n",
       "\n",
       "    .dataframe tbody tr th {\n",
       "        vertical-align: top;\n",
       "    }\n",
       "\n",
       "    .dataframe thead th {\n",
       "        text-align: right;\n",
       "    }\n",
       "</style>\n",
       "<table border=\"1\" class=\"dataframe\">\n",
       "  <thead>\n",
       "    <tr style=\"text-align: right;\">\n",
       "      <th></th>\n",
       "      <th>uuid</th>\n",
       "      <th>well</th>\n",
       "      <th>sample_dilute_vol</th>\n",
       "      <th>ethanol_dilute_vol</th>\n",
       "    </tr>\n",
       "  </thead>\n",
       "  <tbody>\n",
       "    <tr>\n",
       "      <th>0</th>\n",
       "      <td>0cbe4677-2659-4e7f-993b-222b31ebcb86</td>\n",
       "      <td>A1</td>\n",
       "      <td>298.0</td>\n",
       "      <td>1402.0</td>\n",
       "    </tr>\n",
       "    <tr>\n",
       "      <th>1</th>\n",
       "      <td>ad84fa96-1a1d-4b08-906a-64405d8b14c4</td>\n",
       "      <td>A2</td>\n",
       "      <td>2060.0</td>\n",
       "      <td>-360.0</td>\n",
       "    </tr>\n",
       "    <tr>\n",
       "      <th>2</th>\n",
       "      <td>50d45172-6479-4d31-9ef6-bea791278606</td>\n",
       "      <td>A3</td>\n",
       "      <td>359.0</td>\n",
       "      <td>1341.0</td>\n",
       "    </tr>\n",
       "    <tr>\n",
       "      <th>3</th>\n",
       "      <td>bc2a0ee6-c1d0-4437-bf7c-9c3184bef73f</td>\n",
       "      <td>A4</td>\n",
       "      <td>276.0</td>\n",
       "      <td>1424.0</td>\n",
       "    </tr>\n",
       "    <tr>\n",
       "      <th>4</th>\n",
       "      <td>517c3f17-e084-4ef0-a79f-a7ee9183f4b9</td>\n",
       "      <td>A5</td>\n",
       "      <td>378.0</td>\n",
       "      <td>1322.0</td>\n",
       "    </tr>\n",
       "    <tr>\n",
       "      <th>5</th>\n",
       "      <td>2811e6fa-3ff3-42bc-a3cf-bcc61a8cf0fd</td>\n",
       "      <td>A6</td>\n",
       "      <td>290.0</td>\n",
       "      <td>1410.0</td>\n",
       "    </tr>\n",
       "    <tr>\n",
       "      <th>6</th>\n",
       "      <td>cf246b70-a191-4b99-bd9b-0847ce01744b</td>\n",
       "      <td>A7</td>\n",
       "      <td>244.0</td>\n",
       "      <td>1456.0</td>\n",
       "    </tr>\n",
       "    <tr>\n",
       "      <th>7</th>\n",
       "      <td>61c91192-9f3f-4836-8619-c4a50808f7b6</td>\n",
       "      <td>A8</td>\n",
       "      <td>988.0</td>\n",
       "      <td>712.0</td>\n",
       "    </tr>\n",
       "    <tr>\n",
       "      <th>8</th>\n",
       "      <td>5a63723b-d247-4738-8b0e-5130a06e53d0</td>\n",
       "      <td>B1</td>\n",
       "      <td>309.0</td>\n",
       "      <td>1391.0</td>\n",
       "    </tr>\n",
       "    <tr>\n",
       "      <th>9</th>\n",
       "      <td>8209442c-5fed-4dc0-ad42-c083465e58eb</td>\n",
       "      <td>B3</td>\n",
       "      <td>511.0</td>\n",
       "      <td>1189.0</td>\n",
       "    </tr>\n",
       "    <tr>\n",
       "      <th>10</th>\n",
       "      <td>bb19470e-967e-4dcd-970d-4fd3588246f3</td>\n",
       "      <td>B4</td>\n",
       "      <td>208.0</td>\n",
       "      <td>1492.0</td>\n",
       "    </tr>\n",
       "    <tr>\n",
       "      <th>11</th>\n",
       "      <td>decddea8-7eee-4ca3-9344-5b6f201057b3</td>\n",
       "      <td>B5</td>\n",
       "      <td>233.0</td>\n",
       "      <td>1467.0</td>\n",
       "    </tr>\n",
       "    <tr>\n",
       "      <th>12</th>\n",
       "      <td>551d8cf4-45f3-4211-bff9-bac1f9870ec6</td>\n",
       "      <td>B6</td>\n",
       "      <td>228.0</td>\n",
       "      <td>1472.0</td>\n",
       "    </tr>\n",
       "    <tr>\n",
       "      <th>13</th>\n",
       "      <td>44e72ee1-8a86-4ffd-8aca-07ceafe5a474</td>\n",
       "      <td>B8</td>\n",
       "      <td>569.0</td>\n",
       "      <td>1131.0</td>\n",
       "    </tr>\n",
       "    <tr>\n",
       "      <th>14</th>\n",
       "      <td>7586d345-a4e0-455e-aaf8-ee04edab6bdd</td>\n",
       "      <td>C1</td>\n",
       "      <td>366.0</td>\n",
       "      <td>1334.0</td>\n",
       "    </tr>\n",
       "    <tr>\n",
       "      <th>15</th>\n",
       "      <td>56451304-05fb-48e6-a226-ce4c2bbd1de3</td>\n",
       "      <td>C2</td>\n",
       "      <td>421.0</td>\n",
       "      <td>1279.0</td>\n",
       "    </tr>\n",
       "    <tr>\n",
       "      <th>16</th>\n",
       "      <td>bcd48064-47e5-45b2-86b0-cf53533c584a</td>\n",
       "      <td>C3</td>\n",
       "      <td>524.0</td>\n",
       "      <td>1176.0</td>\n",
       "    </tr>\n",
       "    <tr>\n",
       "      <th>17</th>\n",
       "      <td>ced08f31-8bee-4e63-96d4-cdb059f6ab5c</td>\n",
       "      <td>C4</td>\n",
       "      <td>480.0</td>\n",
       "      <td>1220.0</td>\n",
       "    </tr>\n",
       "    <tr>\n",
       "      <th>18</th>\n",
       "      <td>8bba99d5-9522-404d-8c7c-f9c527c491bd</td>\n",
       "      <td>C5</td>\n",
       "      <td>278.0</td>\n",
       "      <td>1422.0</td>\n",
       "    </tr>\n",
       "    <tr>\n",
       "      <th>19</th>\n",
       "      <td>8a0bd2de-3c21-4148-b402-efebe0043e63</td>\n",
       "      <td>C6</td>\n",
       "      <td>411.0</td>\n",
       "      <td>1289.0</td>\n",
       "    </tr>\n",
       "    <tr>\n",
       "      <th>20</th>\n",
       "      <td>e0ec3c4c-a1d6-4cbc-8c5c-3ed0b7a0f7eb</td>\n",
       "      <td>C7</td>\n",
       "      <td>317.0</td>\n",
       "      <td>1383.0</td>\n",
       "    </tr>\n",
       "    <tr>\n",
       "      <th>21</th>\n",
       "      <td>b59dad1a-4440-453a-b36a-9efd6e49a282</td>\n",
       "      <td>C8</td>\n",
       "      <td>195.0</td>\n",
       "      <td>1505.0</td>\n",
       "    </tr>\n",
       "    <tr>\n",
       "      <th>22</th>\n",
       "      <td>d0e19177-de83-4147-ad9f-8c5e3a0aeedd</td>\n",
       "      <td>D1</td>\n",
       "      <td>329.0</td>\n",
       "      <td>1371.0</td>\n",
       "    </tr>\n",
       "    <tr>\n",
       "      <th>23</th>\n",
       "      <td>759bc1ef-f128-4db0-afec-489804bd5a62</td>\n",
       "      <td>D2</td>\n",
       "      <td>488.0</td>\n",
       "      <td>1212.0</td>\n",
       "    </tr>\n",
       "  </tbody>\n",
       "</table>\n",
       "</div>"
      ],
      "text/plain": [
       "                                    uuid well  sample_dilute_vol  \\\n",
       "0   0cbe4677-2659-4e7f-993b-222b31ebcb86   A1              298.0   \n",
       "1   ad84fa96-1a1d-4b08-906a-64405d8b14c4   A2             2060.0   \n",
       "2   50d45172-6479-4d31-9ef6-bea791278606   A3              359.0   \n",
       "3   bc2a0ee6-c1d0-4437-bf7c-9c3184bef73f   A4              276.0   \n",
       "4   517c3f17-e084-4ef0-a79f-a7ee9183f4b9   A5              378.0   \n",
       "5   2811e6fa-3ff3-42bc-a3cf-bcc61a8cf0fd   A6              290.0   \n",
       "6   cf246b70-a191-4b99-bd9b-0847ce01744b   A7              244.0   \n",
       "7   61c91192-9f3f-4836-8619-c4a50808f7b6   A8              988.0   \n",
       "8   5a63723b-d247-4738-8b0e-5130a06e53d0   B1              309.0   \n",
       "9   8209442c-5fed-4dc0-ad42-c083465e58eb   B3              511.0   \n",
       "10  bb19470e-967e-4dcd-970d-4fd3588246f3   B4              208.0   \n",
       "11  decddea8-7eee-4ca3-9344-5b6f201057b3   B5              233.0   \n",
       "12  551d8cf4-45f3-4211-bff9-bac1f9870ec6   B6              228.0   \n",
       "13  44e72ee1-8a86-4ffd-8aca-07ceafe5a474   B8              569.0   \n",
       "14  7586d345-a4e0-455e-aaf8-ee04edab6bdd   C1              366.0   \n",
       "15  56451304-05fb-48e6-a226-ce4c2bbd1de3   C2              421.0   \n",
       "16  bcd48064-47e5-45b2-86b0-cf53533c584a   C3              524.0   \n",
       "17  ced08f31-8bee-4e63-96d4-cdb059f6ab5c   C4              480.0   \n",
       "18  8bba99d5-9522-404d-8c7c-f9c527c491bd   C5              278.0   \n",
       "19  8a0bd2de-3c21-4148-b402-efebe0043e63   C6              411.0   \n",
       "20  e0ec3c4c-a1d6-4cbc-8c5c-3ed0b7a0f7eb   C7              317.0   \n",
       "21  b59dad1a-4440-453a-b36a-9efd6e49a282   C8              195.0   \n",
       "22  d0e19177-de83-4147-ad9f-8c5e3a0aeedd   D1              329.0   \n",
       "23  759bc1ef-f128-4db0-afec-489804bd5a62   D2              488.0   \n",
       "\n",
       "    ethanol_dilute_vol  \n",
       "0               1402.0  \n",
       "1               -360.0  \n",
       "2               1341.0  \n",
       "3               1424.0  \n",
       "4               1322.0  \n",
       "5               1410.0  \n",
       "6               1456.0  \n",
       "7                712.0  \n",
       "8               1391.0  \n",
       "9               1189.0  \n",
       "10              1492.0  \n",
       "11              1467.0  \n",
       "12              1472.0  \n",
       "13              1131.0  \n",
       "14              1334.0  \n",
       "15              1279.0  \n",
       "16              1176.0  \n",
       "17              1220.0  \n",
       "18              1422.0  \n",
       "19              1289.0  \n",
       "20              1383.0  \n",
       "21              1505.0  \n",
       "22              1371.0  \n",
       "23              1212.0  "
      ]
     },
     "execution_count": 153,
     "metadata": {},
     "output_type": "execute_result"
    }
   ],
   "source": [
    "dilution_table[['uuid', 'well', 'sample_dilute_vol', 'ethanol_dilute_vol']]"
   ]
  },
  {
   "cell_type": "code",
   "execution_count": 154,
   "id": "a798b966-9a36-49f1-9966-e5bc86354aa8",
   "metadata": {},
   "outputs": [],
   "source": [
    "# dispese ethanol into dilution vials\n",
    "stober.add_reactants_batch(jubilee, mix_syringe, mix_syringe, dilution_table, location_lookup, 'ethanol_dilute_vol', ethanol_stocks, stocks_usable_volume=15000, dwell_time = 1)"
   ]
  },
  {
   "cell_type": "code",
   "execution_count": null,
   "id": "1204f8bb-59eb-4006-90bc-ebf8d02d75b7",
   "metadata": {},
   "outputs": [],
   "source": []
  }
 ],
 "metadata": {
  "kernelspec": {
   "display_name": "Python 3 (ipykernel)",
   "language": "python",
   "name": "python3"
  },
  "language_info": {
   "codemirror_mode": {
    "name": "ipython",
    "version": 3
   },
   "file_extension": ".py",
   "mimetype": "text/x-python",
   "name": "python",
   "nbconvert_exporter": "python",
   "pygments_lexer": "ipython3",
   "version": "3.12.7"
  }
 },
 "nbformat": 4,
 "nbformat_minor": 5
}
