{
 "cells": [
  {
   "cell_type": "markdown",
   "id": "110d0499-187d-47cb-b3bd-52e828f810d0",
   "metadata": {},
   "source": [
    "## Setup"
   ]
  },
  {
   "cell_type": "code",
   "execution_count": 1,
   "id": "023a9737-b2dd-4151-af0b-67ea2aeb7386",
   "metadata": {},
   "outputs": [],
   "source": [
    "%load_ext autoreload\n",
    "%autoreload 2"
   ]
  },
  {
   "cell_type": "code",
   "execution_count": 61,
   "id": "a8305f4f-98d9-46aa-b3a5-aef3875465c8",
   "metadata": {},
   "outputs": [],
   "source": [
    "import requests\n",
    "\n",
    "# ----------- Science Jubilee -------------\n",
    "from science_jubilee import Machine as Jub\n",
    "from science_jubilee.tools import HTTPSyringe as syringe\n",
    "from science_jubilee.tools import Pipette, PneumaticSampleLoader\n",
    "from science_jubilee.utils import Handlers\n",
    "import time\n",
    "import numpy as np\n",
    "import pandas as pd\n",
    "import logging\n",
    "import sys\n",
    "sys.path.append('../..')\n",
    "import stober_synthesis_utils as stober"
   ]
  },
  {
   "cell_type": "code",
   "execution_count": 4,
   "id": "39e0dd27-900a-4151-ad77-cae178e545d7",
   "metadata": {},
   "outputs": [],
   "source": [
    "FORMAT = '%(asctime)s:%(levelname)s:%(name)s:%(message)s'\n",
    "logging.basicConfig(filename = '2025_03_11_mesoporoustest.log', level = logging.INFO, format = FORMAT)\n",
    "logger = logging.getLogger(__name__)"
   ]
  },
  {
   "cell_type": "code",
   "execution_count": 5,
   "id": "bb05bc51-e88d-493a-b7ae-ec244bab05d1",
   "metadata": {
    "scrolled": true
   },
   "outputs": [
    {
     "name": "stdout",
     "output_type": "stream",
     "text": [
      "0\n",
      "gcode cmd:  M409 K\"move.axes[].homed\"\n",
      "response in connect:  [True, True, True, True]\n",
      "gcode cmd:  M409 K\"move.axes[]\"\n",
      "gcode cmd:  T\n",
      "gcode cmd:  M409 K\"tools\"\n",
      "gcode cmd:  M409 K\"move.axes\"\n",
      "gcode cmd:  G90\n",
      "gcode cmd:  G90\n"
     ]
    }
   ],
   "source": [
    "jubilee = Jub.Machine(address='192.168.1.2', simulated = False, crash_detection = False) "
   ]
  },
  {
   "cell_type": "raw",
   "id": "23f14450-b2fd-46b7-82b2-a17b1061fde5",
   "metadata": {
    "scrolled": true
   },
   "source": [
    "[(31.1, 169.0), (121.1, 169.0), (121.1, 113.0)]#jubilee.home_all()\n",
    "logger.info('Homed Jubilee')"
   ]
  },
  {
   "cell_type": "code",
   "execution_count": 7,
   "id": "d2505692-e098-4cf7-954a-b2ac9d91e06f",
   "metadata": {},
   "outputs": [],
   "source": [
    "sample_table = pd.read_csv('2025_03_11_mesoporous_sampletable - Sheet1.csv')\n",
    "#sample_table_2 = pd.read_csv('SampleTable_ReproReplicates_10000.csv')\n"
   ]
  },
  {
   "cell_type": "code",
   "execution_count": 8,
   "id": "3fa12ac1-cd52-42b9-829b-1eca23762195",
   "metadata": {},
   "outputs": [],
   "source": [
    "deck = jubilee.load_deck('lab_automation_deck_AFL_bolton.json')"
   ]
  },
  {
   "cell_type": "code",
   "execution_count": 9,
   "id": "2c839229-1542-4c4b-9078-419dab9e6cce",
   "metadata": {},
   "outputs": [],
   "source": [
    "sample_table['well'] = ['A1', 'A2', 'A3', 'A4', 'B1']"
   ]
  },
  {
   "cell_type": "code",
   "execution_count": 10,
   "id": "76e34c1c-e861-4c5e-95f4-e4ac7ed4bae8",
   "metadata": {},
   "outputs": [
    {
     "data": {
      "text/html": [
       "<div>\n",
       "<style scoped>\n",
       "    .dataframe tbody tr th:only-of-type {\n",
       "        vertical-align: middle;\n",
       "    }\n",
       "\n",
       "    .dataframe tbody tr th {\n",
       "        vertical-align: top;\n",
       "    }\n",
       "\n",
       "    .dataframe thead th {\n",
       "        text-align: right;\n",
       "    }\n",
       "</style>\n",
       "<table border=\"1\" class=\"dataframe\">\n",
       "  <thead>\n",
       "    <tr style=\"text-align: right;\">\n",
       "      <th></th>\n",
       "      <th>uuid</th>\n",
       "      <th>teos_volume</th>\n",
       "      <th>ammonia_volume</th>\n",
       "      <th>water_volume</th>\n",
       "      <th>ethanol_volume</th>\n",
       "      <th>ctab_volume</th>\n",
       "      <th>f127_voume</th>\n",
       "      <th>well</th>\n",
       "    </tr>\n",
       "  </thead>\n",
       "  <tbody>\n",
       "    <tr>\n",
       "      <th>0</th>\n",
       "      <td>1</td>\n",
       "      <td>371</td>\n",
       "      <td>733</td>\n",
       "      <td>1420</td>\n",
       "      <td>2590</td>\n",
       "      <td>2190</td>\n",
       "      <td>2700</td>\n",
       "      <td>A1</td>\n",
       "    </tr>\n",
       "    <tr>\n",
       "      <th>1</th>\n",
       "      <td>2</td>\n",
       "      <td>371</td>\n",
       "      <td>733</td>\n",
       "      <td>1420</td>\n",
       "      <td>2590</td>\n",
       "      <td>2190</td>\n",
       "      <td>2700</td>\n",
       "      <td>A2</td>\n",
       "    </tr>\n",
       "    <tr>\n",
       "      <th>2</th>\n",
       "      <td>3</td>\n",
       "      <td>371</td>\n",
       "      <td>733</td>\n",
       "      <td>1420</td>\n",
       "      <td>2590</td>\n",
       "      <td>2190</td>\n",
       "      <td>2700</td>\n",
       "      <td>A3</td>\n",
       "    </tr>\n",
       "    <tr>\n",
       "      <th>3</th>\n",
       "      <td>4</td>\n",
       "      <td>371</td>\n",
       "      <td>733</td>\n",
       "      <td>1420</td>\n",
       "      <td>2590</td>\n",
       "      <td>2190</td>\n",
       "      <td>2700</td>\n",
       "      <td>A4</td>\n",
       "    </tr>\n",
       "    <tr>\n",
       "      <th>4</th>\n",
       "      <td>5</td>\n",
       "      <td>371</td>\n",
       "      <td>733</td>\n",
       "      <td>1420</td>\n",
       "      <td>2590</td>\n",
       "      <td>2190</td>\n",
       "      <td>2700</td>\n",
       "      <td>B1</td>\n",
       "    </tr>\n",
       "  </tbody>\n",
       "</table>\n",
       "</div>"
      ],
      "text/plain": [
       "   uuid  teos_volume  ammonia_volume  water_volume  ethanol_volume  \\\n",
       "0     1          371             733          1420            2590   \n",
       "1     2          371             733          1420            2590   \n",
       "2     3          371             733          1420            2590   \n",
       "3     4          371             733          1420            2590   \n",
       "4     5          371             733          1420            2590   \n",
       "\n",
       "   ctab_volume  f127_voume well  \n",
       "0         2190        2700   A1  \n",
       "1         2190        2700   A2  \n",
       "2         2190        2700   A3  \n",
       "3         2190        2700   A4  \n",
       "4         2190        2700   B1  "
      ]
     },
     "execution_count": 10,
     "metadata": {},
     "output_type": "execute_result"
    }
   ],
   "source": [
    "sample_table"
   ]
  },
  {
   "cell_type": "code",
   "execution_count": 143,
   "id": "1b0ac340-6814-43bb-b6e9-93861ebd0264",
   "metadata": {},
   "outputs": [
    {
     "name": "stdout",
     "output_type": "stream",
     "text": [
      "gcode cmd:  M114\n",
      "gcode cmd:  T-1\n"
     ]
    }
   ],
   "source": [
    "jubilee.park_tool()"
   ]
  },
  {
   "cell_type": "code",
   "execution_count": 11,
   "id": "32f944e6-f983-467d-ae83-c3a5038ba7b3",
   "metadata": {},
   "outputs": [
    {
     "data": {
      "text/plain": [
       "7100"
      ]
     },
     "execution_count": 11,
     "metadata": {},
     "output_type": "execute_result"
    }
   ],
   "source": [
    "sample_table['water_volume'].sum()"
   ]
  },
  {
   "cell_type": "markdown",
   "id": "b8f140ff-c5f8-494d-bd58-093982edd086",
   "metadata": {},
   "source": [
    "## Load Tools"
   ]
  },
  {
   "cell_type": "code",
   "execution_count": 94,
   "id": "d73bac24-917c-4c8c-8c30-494146511312",
   "metadata": {},
   "outputs": [
    {
     "name": "stdout",
     "output_type": "stream",
     "text": [
      "Syringe name:  10cc_1\n",
      "{'capacity': 10000, 'empty_position': 1830, 'full_position': 1217, 'name': '10cc_1'}\n",
      "Syringe name:  1cc_1\n",
      "{'capacity': 1000, 'empty_position': 1845, 'full_position': 1240, 'name': '1cc_1'}\n",
      "Syringe name:  1cc_2_hamilton\n",
      "{'capacity': 1000, 'empty_position': 1753, 'full_position': 1120, 'name': '1cc_2_hamilton'}\n",
      "Syringe name:  1cc_3_hamilton\n",
      "{'capacity': 1000, 'empty_position': 1753, 'full_position': 1120, 'name': '1cc_3_hamilton'}\n",
      "Syringe name:  1cc_4\n",
      "{'capacity': 1000, 'empty_position': 1845, 'full_position': 1240, 'name': '1cc_4'}\n"
     ]
    }
   ],
   "source": [
    "syringe_10 = syringe.HTTPSyringe.from_config(2, \"../../../science-jubilee/src/science_jubilee/tools/configs/10cc_syringe.json\")\n",
    "syringe_1_1 = syringe.HTTPSyringe.from_config(1, \"../../../science-jubilee/src/science_jubilee/tools/configs/1cc_1_syringe.json\")\n",
    "syringe_1_2 = syringe.HTTPSyringe.from_config(3, \"../../../science-jubilee/src/science_jubilee/tools/configs/1cc_2_Hamiltonsyringe.json\")\n",
    "syringe_1_3 = syringe.HTTPSyringe.from_config(4, \"../../../science-jubilee/src/science_jubilee/tools/configs/1cc_3_Hamiltonsyringe.json\")\n",
    "syringe_1_4 = syringe.HTTPSyringe.from_config(0, '../../../science-jubilee/src/science_jubilee/tools/configs/1cc_4_syringe.json')"
   ]
  },
  {
   "cell_type": "code",
   "execution_count": null,
   "id": "eff9355f-e5f8-4b67-bc17-6bc8aa4e41d9",
   "metadata": {},
   "outputs": [],
   "source": []
  },
  {
   "cell_type": "code",
   "execution_count": 96,
   "id": "9448524a-f60e-43fd-ae53-0a51c87e6035",
   "metadata": {
    "scrolled": true
   },
   "outputs": [
    {
     "name": "stdout",
     "output_type": "stream",
     "text": [
      "gcode cmd:  M409 K\"tools\"\n",
      "gcode cmd:  M409 K\"tools\"\n",
      "gcode cmd:  M409 K\"tools\"\n",
      "gcode cmd:  M409 K\"tools\"\n",
      "gcode cmd:  M409 K\"tools\"\n"
     ]
    }
   ],
   "source": [
    "jubilee.load_tool(syringe_10)\n",
    "jubilee.load_tool(syringe_1_1)\n",
    "jubilee.load_tool(syringe_1_2)\n",
    "jubilee.load_tool(syringe_1_3)\n",
    "jubilee.load_tool(syringe_1_4)"
   ]
  },
  {
   "cell_type": "code",
   "execution_count": 97,
   "id": "21127bbe-632c-4ec0-84f9-57d9772a90db",
   "metadata": {},
   "outputs": [],
   "source": [
    "mix_syringe = syringe_10\n",
    "water_syringe = syringe_1_1\n",
    "ammonia_syringe = syringe_1_2\n",
    "teos_syringe = syringe_1_3\n",
    "surfactant_syringe = syringe_1_4"
   ]
  },
  {
   "cell_type": "markdown",
   "id": "e1d880ae-d253-43f5-995f-d2619e29c78a",
   "metadata": {},
   "source": [
    "## Load water syringe with water"
   ]
  },
  {
   "cell_type": "code",
   "execution_count": 16,
   "id": "fa91aafe-663a-4ea2-86df-e996c41d8f37",
   "metadata": {},
   "outputs": [
    {
     "name": "stdout",
     "output_type": "stream",
     "text": [
      "Loaded syringe, remaining volume 600 uL\n"
     ]
    }
   ],
   "source": [
    "water_syringe.load_syringe(600, 1500)"
   ]
  },
  {
   "cell_type": "code",
   "execution_count": 144,
   "id": "bb1ecb81-f858-4ab6-8a1e-b5a85f432f54",
   "metadata": {
    "scrolled": true
   },
   "outputs": [],
   "source": [
    "water_syringe.set_pulsewidth(water_syringe.empty_position-1, s = 2000)"
   ]
  },
  {
   "cell_type": "code",
   "execution_count": 24,
   "id": "b78aa9f3-0da5-4987-9da3-171f4e5ae2b1",
   "metadata": {},
   "outputs": [],
   "source": [
    "water_syringe.set_pulsewidth(water_syringe.full_position+1, s = 150)"
   ]
  },
  {
   "cell_type": "code",
   "execution_count": 25,
   "id": "e08edebd-a82b-4e35-a662-def2994a8f00",
   "metadata": {},
   "outputs": [],
   "source": [
    "water_syringe.set_pulsewidth(water_syringe.full_position+250, s = 500)"
   ]
  },
  {
   "cell_type": "code",
   "execution_count": 98,
   "id": "80aff25d-bae2-478d-bc07-4b4f11bd5e05",
   "metadata": {},
   "outputs": [
    {
     "name": "stdout",
     "output_type": "stream",
     "text": [
      "Loaded syringe, remaining volume 590 uL\n"
     ]
    }
   ],
   "source": [
    "water_syringe.load_syringe(590, water_syringe.full_position+250)"
   ]
  },
  {
   "cell_type": "markdown",
   "id": "8ea5df3b-0ad5-4dbb-ad3f-089a2d5f2bd1",
   "metadata": {},
   "source": [
    "## Load ammonia syringe"
   ]
  },
  {
   "cell_type": "code",
   "execution_count": 26,
   "id": "87a366e4-d389-4830-b923-0a932968add9",
   "metadata": {},
   "outputs": [],
   "source": [
    "#ammonia_syringe.set_pulsewidth(1420, s = 10)"
   ]
  },
  {
   "cell_type": "code",
   "execution_count": 37,
   "id": "0b36ffcf-ec60-4ee2-b2ae-5fb6895fd16c",
   "metadata": {},
   "outputs": [
    {
     "name": "stdout",
     "output_type": "stream",
     "text": [
      "Loaded syringe, remaining volume 600 uL\n"
     ]
    }
   ],
   "source": [
    "ammonia_syringe.load_syringe(600, 1500)"
   ]
  },
  {
   "cell_type": "code",
   "execution_count": 145,
   "id": "497e2cad-9387-4815-9398-58651b8d9826",
   "metadata": {},
   "outputs": [],
   "source": [
    "ammonia_syringe.set_pulsewidth(ammonia_syringe.empty_position-1, s = 2000)"
   ]
  },
  {
   "cell_type": "code",
   "execution_count": 45,
   "id": "a0c7e519-e4e1-4a6a-a40d-3a5125503194",
   "metadata": {},
   "outputs": [],
   "source": [
    "ammonia_syringe.set_pulsewidth(ammonia_syringe.full_position+1, s = 200)"
   ]
  },
  {
   "cell_type": "code",
   "execution_count": 46,
   "id": "460e8b6d-261f-4e06-b587-a978291d57f7",
   "metadata": {},
   "outputs": [],
   "source": [
    "ammonia_syringe.set_pulsewidth(ammonia_syringe.full_position+250, s = 500)"
   ]
  },
  {
   "cell_type": "code",
   "execution_count": 99,
   "id": "b5be2527-8c06-4465-8e44-41f410149cd7",
   "metadata": {},
   "outputs": [
    {
     "name": "stdout",
     "output_type": "stream",
     "text": [
      "Loaded syringe, remaining volume 560 uL\n"
     ]
    }
   ],
   "source": [
    "ammonia_syringe.load_syringe(560, ammonia_syringe.full_position+250)"
   ]
  },
  {
   "cell_type": "markdown",
   "id": "e2c53ecf-d14a-4536-8062-9e7af8c51ba8",
   "metadata": {},
   "source": [
    "## Load TEOS syringe"
   ]
  },
  {
   "cell_type": "code",
   "execution_count": 48,
   "id": "22a73a10-c727-45c9-a653-1716b97e7d51",
   "metadata": {},
   "outputs": [
    {
     "name": "stdout",
     "output_type": "stream",
     "text": [
      "Loaded syringe, remaining volume 600 uL\n"
     ]
    }
   ],
   "source": [
    "teos_syringe.load_syringe(600, 1500)"
   ]
  },
  {
   "cell_type": "code",
   "execution_count": 146,
   "id": "2a4274ac-3472-452b-9368-56f36ed8d078",
   "metadata": {},
   "outputs": [],
   "source": [
    "teos_syringe.set_pulsewidth(teos_syringe.empty_position-1, s = 2000)"
   ]
  },
  {
   "cell_type": "code",
   "execution_count": 56,
   "id": "63453a13-e4ed-47a9-8d35-3368c1a83daf",
   "metadata": {},
   "outputs": [],
   "source": [
    "teos_syringe.set_pulsewidth(teos_syringe.full_position+1, s = 200)"
   ]
  },
  {
   "cell_type": "code",
   "execution_count": 57,
   "id": "7d22ae98-d92e-4ee2-aa1e-dbd7090f7778",
   "metadata": {},
   "outputs": [],
   "source": [
    "teos_syringe.set_pulsewidth(teos_syringe.full_position+300, s = 200)"
   ]
  },
  {
   "cell_type": "code",
   "execution_count": 100,
   "id": "cf5154eb-2d59-4bd8-90c2-86c3374a662d",
   "metadata": {},
   "outputs": [
    {
     "name": "stdout",
     "output_type": "stream",
     "text": [
      "Loaded syringe, remaining volume 480 uL\n"
     ]
    }
   ],
   "source": [
    "teos_syringe.load_syringe(480, teos_syringe.full_position+300)"
   ]
  },
  {
   "cell_type": "markdown",
   "id": "ad1ac96b-3d53-4da1-aa2c-a8c2386280f8",
   "metadata": {},
   "source": [
    "## load ethanol syringe"
   ]
  },
  {
   "cell_type": "code",
   "execution_count": 51,
   "id": "f1caaf1a-900c-43ed-a57b-754b0d62aa37",
   "metadata": {},
   "outputs": [],
   "source": [
    "#jubilee.park_tool()"
   ]
  },
  {
   "cell_type": "code",
   "execution_count": 26,
   "id": "94db4b0e-3075-4b45-91f7-9bc2817a2e31",
   "metadata": {},
   "outputs": [
    {
     "name": "stdout",
     "output_type": "stream",
     "text": [
      "Loaded syringe, remaining volume 0 uL\n"
     ]
    }
   ],
   "source": [
    "mix_syringe.load_syringe(0, mix_syringe.empty_position-1)"
   ]
  },
  {
   "cell_type": "code",
   "execution_count": 33,
   "id": "f53b6f7e-62d6-43fc-b2bf-a2e1aebdf313",
   "metadata": {},
   "outputs": [],
   "source": [
    "mix_syringe.set_pulsewidth(mix_syringe.empty_position-1, s = 2000)\n"
   ]
  },
  {
   "cell_type": "code",
   "execution_count": 34,
   "id": "c0904b15-1ceb-4e5b-aa62-2706e79634e6",
   "metadata": {},
   "outputs": [],
   "source": [
    "mix_syringe.set_pulsewidth(mix_syringe.full_position+1, s = 1000)"
   ]
  },
  {
   "cell_type": "code",
   "execution_count": 35,
   "id": "96d9a53e-24a0-4595-bb69-db89483176ce",
   "metadata": {},
   "outputs": [],
   "source": [
    "#mix_syringe.empty_position"
   ]
  },
  {
   "cell_type": "code",
   "execution_count": 36,
   "id": "8f8a67fa-ed88-45db-a2df-72720c31beff",
   "metadata": {},
   "outputs": [],
   "source": [
    "mix_syringe.set_pulsewidth(mix_syringe.full_position+250, s = 500)"
   ]
  },
  {
   "cell_type": "code",
   "execution_count": 101,
   "id": "99ad1605-10c8-45a3-80cf-c6adfd7ae6a9",
   "metadata": {},
   "outputs": [
    {
     "name": "stdout",
     "output_type": "stream",
     "text": [
      "Loaded syringe, remaining volume 6100 uL\n"
     ]
    }
   ],
   "source": [
    "mix_syringe.load_syringe(6100, mix_syringe.full_position+250)"
   ]
  },
  {
   "cell_type": "markdown",
   "id": "2ef32544-c669-418b-a7c1-8fd75339d5dd",
   "metadata": {},
   "source": [
    "## Don't need to load surfactant syringe"
   ]
  },
  {
   "cell_type": "code",
   "execution_count": 102,
   "id": "41b13b04-c72e-4861-a124-ea99f567d762",
   "metadata": {},
   "outputs": [
    {
     "name": "stdout",
     "output_type": "stream",
     "text": [
      "Loaded syringe, remaining volume 0 uL\n"
     ]
    }
   ],
   "source": [
    "surfactant_syringe.set_pulsewidth(surfactant_syringe.empty_position-1)\n",
    "surfactant_syringe.load_syringe(0, surfactant_syringe.empty_position-1)"
   ]
  },
  {
   "cell_type": "markdown",
   "id": "080da025-a378-489d-a6db-17613e9c11dc",
   "metadata": {},
   "source": [
    "## Load AFL"
   ]
  },
  {
   "cell_type": "code",
   "execution_count": 135,
   "id": "801f27e5-a789-4c82-82bd-311b6de0dd7e",
   "metadata": {},
   "outputs": [],
   "source": [
    "safe_pos = (5, 200, 100)\n",
    "cell_pos = (217.5, 69.0, 61.5)\n",
    "url = 'http://192.168.1.4'\n",
    "port = '5000'\n",
    "name = 'PSL'\n",
    "username = 'test'\n",
    "password = 'domo_arigato'"
   ]
  },
  {
   "cell_type": "code",
   "execution_count": 136,
   "id": "85783550-a77a-476a-81db-9e5f41bbccf7",
   "metadata": {},
   "outputs": [
    {
     "name": "stdout",
     "output_type": "stream",
     "text": [
      "status r code 200\n",
      "status:  b'[\"State: READY\",\"Arm State: UP\",\"Rinse 1 tank: 950 mL\",\"Rinse 2 tank: 950 mL\",\"Waste tank: 0 mL\",\"Relay status: {\\'arm-up\\': True, \\'arm-down\\': False, \\'rinse1\\': False, \\'rinse2\\': False, \\'blow\\': False, \\'piston-vent\\': True, \\'postsample\\': False}\",\"Not Rinsing\",\"No action yet...\"]\\n'\n"
     ]
    }
   ],
   "source": [
    "psl = PneumaticSampleLoader.PneumaticSampleLoader(url, port, name, cell_pos, safe_pos, username, password)"
   ]
  },
  {
   "cell_type": "code",
   "execution_count": 137,
   "id": "fdf50ad8-4755-4597-99f0-141dc5c43fb7",
   "metadata": {},
   "outputs": [],
   "source": [
    "jubilee.load_tool(psl)"
   ]
  },
  {
   "cell_type": "code",
   "execution_count": null,
   "id": "0455bc8c-9cb8-4c97-b315-9570364685a8",
   "metadata": {},
   "outputs": [],
   "source": []
  },
  {
   "cell_type": "code",
   "execution_count": null,
   "id": "1b982ff7-2787-49f4-b231-fc05a7ec1ec4",
   "metadata": {},
   "outputs": [],
   "source": []
  },
  {
   "cell_type": "code",
   "execution_count": null,
   "id": "efe67070-c469-4939-9d94-08df95a97960",
   "metadata": {},
   "outputs": [],
   "source": []
  },
  {
   "cell_type": "markdown",
   "id": "43d1f97d-4c55-40d3-ac5b-9c3a3f1062ed",
   "metadata": {},
   "source": [
    "## Load labware\n"
   ]
  },
  {
   "cell_type": "code",
   "execution_count": 63,
   "id": "19b4bfa8-6878-4b0b-a564-369faa361b1c",
   "metadata": {
    "scrolled": true
   },
   "outputs": [
    {
     "name": "stdout",
     "output_type": "stream",
     "text": [
      "New manual offset applied to 20mlscintillation_12_wellplate_18000ul\n"
     ]
    }
   ],
   "source": [
    "samples = jubilee.load_labware('20mlscintillation_12_wellplate_18000ul.json', 2)\n",
    "samples.manual_offset([(31.1, 169.0), (121.1, 169.0), (121.1, 113.0)])"
   ]
  },
  {
   "cell_type": "code",
   "execution_count": 64,
   "id": "19ad67cc-b0a8-4c1f-8d6a-60b173599c82",
   "metadata": {},
   "outputs": [
    {
     "name": "stdout",
     "output_type": "stream",
     "text": [
      "New manual offset applied to 20mlscintillation_12_wellplate_18000ul\n"
     ]
    }
   ],
   "source": [
    "stocks_main = jubilee.load_labware('20mlscintillation_12_wellplate_18000ul.json', 4)\n",
    "stocks_main.manual_offset([(30.5, 266.0),  (120.5, 266.0), (120.5, 210.0)])"
   ]
  },
  {
   "cell_type": "raw",
   "id": "75302623-3364-404f-9da4-f85e63eadbe1",
   "metadata": {},
   "source": [
    "stocks_extra = jubilee.load_labware('20mlscintillation_12_wellplate_18000ul.json', 5)\n",
    "stocks_extra.manual_offset([(171.1, 264.1), (256.9, 265.0), (256.7, 208.5)])\n"
   ]
  },
  {
   "cell_type": "code",
   "execution_count": 82,
   "id": "f7395271-1a02-4f11-883f-34a8456f0a05",
   "metadata": {},
   "outputs": [],
   "source": [
    "teos_stocks = [stocks_main[0]]\n",
    "ammonia_stocks = [stocks_main[1]]\n",
    "water_stocks = [stocks_main[2]]\n",
    "ethanol_stocks = [stocks_main[5]]\n",
    "ctab_stocks = [stocks_main[3]]\n",
    "f127_stocks = [stocks_main[4]]\n",
    "rinse_stocks_apdist = [stocks_main[9], stocks_main[10], stocks_main[11]]"
   ]
  },
  {
   "cell_type": "markdown",
   "id": "4bd30fe3-5be6-4ea7-a61d-357272d3e8a4",
   "metadata": {},
   "source": [
    "## Check sample alignment"
   ]
  },
  {
   "cell_type": "code",
   "execution_count": 47,
   "id": "25a4d272-6e56-4649-ba7a-5e04e922c043",
   "metadata": {},
   "outputs": [
    {
     "name": "stdout",
     "output_type": "stream",
     "text": [
      "169.0\n"
     ]
    },
    {
     "name": "stdin",
     "output_type": "stream",
     "text": [
      "Is the tip centered over sample A1? \n"
     ]
    },
    {
     "name": "stdout",
     "output_type": "stream",
     "text": [
      "169.0\n"
     ]
    },
    {
     "name": "stdin",
     "output_type": "stream",
     "text": [
      "Is the tip centered over sample A2? \n"
     ]
    },
    {
     "name": "stdout",
     "output_type": "stream",
     "text": [
      "169.0\n"
     ]
    },
    {
     "name": "stdin",
     "output_type": "stream",
     "text": [
      "Is the tip centered over sample A3? \n",
      "Is the tip centered over sample A4? \n"
     ]
    },
    {
     "name": "stdout",
     "output_type": "stream",
     "text": [
      "169.0\n",
      "141.0\n"
     ]
    },
    {
     "name": "stdin",
     "output_type": "stream",
     "text": [
      "Is the tip centered over sample B1? \n"
     ]
    },
    {
     "name": "stdout",
     "output_type": "stream",
     "text": [
      "141.0\n"
     ]
    },
    {
     "name": "stdin",
     "output_type": "stream",
     "text": [
      "Is the tip centered over sample B2? \n"
     ]
    },
    {
     "name": "stdout",
     "output_type": "stream",
     "text": [
      "141.0\n"
     ]
    },
    {
     "name": "stdin",
     "output_type": "stream",
     "text": [
      "Is the tip centered over sample B3? \n"
     ]
    },
    {
     "name": "stdout",
     "output_type": "stream",
     "text": [
      "141.0\n"
     ]
    },
    {
     "name": "stdin",
     "output_type": "stream",
     "text": [
      "Is the tip centered over sample B4? \n"
     ]
    },
    {
     "name": "stdout",
     "output_type": "stream",
     "text": [
      "113.0\n"
     ]
    },
    {
     "name": "stdin",
     "output_type": "stream",
     "text": [
      "Is the tip centered over sample C1? \n"
     ]
    },
    {
     "name": "stdout",
     "output_type": "stream",
     "text": [
      "113.0\n"
     ]
    },
    {
     "name": "stdin",
     "output_type": "stream",
     "text": [
      "Is the tip centered over sample C2? \n"
     ]
    }
   ],
   "source": [
    "jubilee.pickup_tool(mix_syringe)\n",
    "for i, row in sample_table.iterrows():\n",
    "    loc = samples[row['well']]\n",
    "    jubilee.move_to(x = loc.x, y = loc.y)\n",
    "    print(loc.y)\n",
    "    jubilee.move_to(z = loc.top_+7)\n",
    "    curr_well = row['well']\n",
    "    ans = input(f'Is the tip centered over sample {curr_well}?')\n",
    "    if ans == 'y':\n",
    "        continue\n",
    "    else:\n",
    "        continue\n",
    "    "
   ]
  },
  {
   "cell_type": "code",
   "execution_count": 49,
   "id": "79b6af8b-5894-4549-80bf-8187ea5963ee",
   "metadata": {},
   "outputs": [
    {
     "data": {
      "text/html": [
       "<div>\n",
       "<style scoped>\n",
       "    .dataframe tbody tr th:only-of-type {\n",
       "        vertical-align: middle;\n",
       "    }\n",
       "\n",
       "    .dataframe tbody tr th {\n",
       "        vertical-align: top;\n",
       "    }\n",
       "\n",
       "    .dataframe thead th {\n",
       "        text-align: right;\n",
       "    }\n",
       "</style>\n",
       "<table border=\"1\" class=\"dataframe\">\n",
       "  <thead>\n",
       "    <tr style=\"text-align: right;\">\n",
       "      <th></th>\n",
       "      <th>Unnamed: 0</th>\n",
       "      <th>uuid</th>\n",
       "      <th>teos_volume</th>\n",
       "      <th>ammonia_volume</th>\n",
       "      <th>water_volume</th>\n",
       "      <th>ethanol_volume</th>\n",
       "      <th>dilution_volume_fraction</th>\n",
       "      <th>silica_mass_conc</th>\n",
       "      <th>silica_mass_fraction</th>\n",
       "      <th>well</th>\n",
       "    </tr>\n",
       "  </thead>\n",
       "  <tbody>\n",
       "    <tr>\n",
       "      <th>0</th>\n",
       "      <td>0</td>\n",
       "      <td>82c085e1-a523-40ce-9e89-4fa0bf546525</td>\n",
       "      <td>214.491</td>\n",
       "      <td>538.3935</td>\n",
       "      <td>1249.9815</td>\n",
       "      <td>7997.134</td>\n",
       "      <td>2.965909</td>\n",
       "      <td>2.025686</td>\n",
       "      <td>0.002527</td>\n",
       "      <td>B2</td>\n",
       "    </tr>\n",
       "    <tr>\n",
       "      <th>1</th>\n",
       "      <td>1</td>\n",
       "      <td>747534b1-7370-49a5-bdc1-4fce5227f391</td>\n",
       "      <td>214.491</td>\n",
       "      <td>538.3935</td>\n",
       "      <td>1249.9815</td>\n",
       "      <td>7997.134</td>\n",
       "      <td>2.965909</td>\n",
       "      <td>2.025686</td>\n",
       "      <td>0.002527</td>\n",
       "      <td>B3</td>\n",
       "    </tr>\n",
       "    <tr>\n",
       "      <th>2</th>\n",
       "      <td>2</td>\n",
       "      <td>e5f6e82f-0282-46c8-be77-d8914adca9b5</td>\n",
       "      <td>214.491</td>\n",
       "      <td>538.3935</td>\n",
       "      <td>1249.9815</td>\n",
       "      <td>7997.134</td>\n",
       "      <td>2.965909</td>\n",
       "      <td>2.025686</td>\n",
       "      <td>0.002527</td>\n",
       "      <td>B4</td>\n",
       "    </tr>\n",
       "    <tr>\n",
       "      <th>3</th>\n",
       "      <td>3</td>\n",
       "      <td>c87ac840-ddde-43ab-a8e3-b5e3eb5a273d</td>\n",
       "      <td>214.491</td>\n",
       "      <td>538.3935</td>\n",
       "      <td>1249.9815</td>\n",
       "      <td>7997.134</td>\n",
       "      <td>2.965909</td>\n",
       "      <td>2.025686</td>\n",
       "      <td>0.002527</td>\n",
       "      <td>C1</td>\n",
       "    </tr>\n",
       "    <tr>\n",
       "      <th>4</th>\n",
       "      <td>4</td>\n",
       "      <td>d034d82c-e329-484c-91cc-75ea655a1446</td>\n",
       "      <td>214.491</td>\n",
       "      <td>538.3935</td>\n",
       "      <td>1249.9815</td>\n",
       "      <td>7997.134</td>\n",
       "      <td>2.965909</td>\n",
       "      <td>2.025686</td>\n",
       "      <td>0.002527</td>\n",
       "      <td>C2</td>\n",
       "    </tr>\n",
       "  </tbody>\n",
       "</table>\n",
       "</div>"
      ],
      "text/plain": [
       "   Unnamed: 0                                  uuid  teos_volume  \\\n",
       "0           0  82c085e1-a523-40ce-9e89-4fa0bf546525      214.491   \n",
       "1           1  747534b1-7370-49a5-bdc1-4fce5227f391      214.491   \n",
       "2           2  e5f6e82f-0282-46c8-be77-d8914adca9b5      214.491   \n",
       "3           3  c87ac840-ddde-43ab-a8e3-b5e3eb5a273d      214.491   \n",
       "4           4  d034d82c-e329-484c-91cc-75ea655a1446      214.491   \n",
       "\n",
       "   ammonia_volume  water_volume  ethanol_volume  dilution_volume_fraction  \\\n",
       "0        538.3935     1249.9815        7997.134                  2.965909   \n",
       "1        538.3935     1249.9815        7997.134                  2.965909   \n",
       "2        538.3935     1249.9815        7997.134                  2.965909   \n",
       "3        538.3935     1249.9815        7997.134                  2.965909   \n",
       "4        538.3935     1249.9815        7997.134                  2.965909   \n",
       "\n",
       "   silica_mass_conc  silica_mass_fraction well  \n",
       "0          2.025686              0.002527   B2  \n",
       "1          2.025686              0.002527   B3  \n",
       "2          2.025686              0.002527   B4  \n",
       "3          2.025686              0.002527   C1  \n",
       "4          2.025686              0.002527   C2  "
      ]
     },
     "execution_count": 49,
     "metadata": {},
     "output_type": "execute_result"
    }
   ],
   "source": [
    "sample_table"
   ]
  },
  {
   "cell_type": "code",
   "execution_count": 57,
   "id": "a52572b9-48d6-4bf1-acb2-19c7ac5c6fb8",
   "metadata": {},
   "outputs": [],
   "source": [
    "jubilee.park_tool()\n"
   ]
  },
  {
   "cell_type": "code",
   "execution_count": 106,
   "id": "2b09450e-d3bd-4e25-b944-993721a3b997",
   "metadata": {},
   "outputs": [
    {
     "name": "stdout",
     "output_type": "stream",
     "text": [
      "175.8614659806774\n"
     ]
    }
   ],
   "source": [
    "loc = samples['A8']\n",
    "jubilee.move_to(x = loc.x, y = loc.y)\n",
    "print(loc.y)\n",
    "jubilee.move_to(z = loc.top_+7)"
   ]
  },
  {
   "cell_type": "markdown",
   "id": "b9dff3f4-8be6-4f73-b343-6221f8df76dc",
   "metadata": {},
   "source": [
    "# Experiment\n"
   ]
  },
  {
   "cell_type": "code",
   "execution_count": 69,
   "id": "9d770745-931b-42d0-8b40-409a83411619",
   "metadata": {},
   "outputs": [],
   "source": [
    "location_lookup = {row['uuid']:samples[row['well']] for i, row in sample_table.iterrows()}\n"
   ]
  },
  {
   "cell_type": "code",
   "execution_count": 70,
   "id": "30502878-2c56-4f8a-94dc-e7ad55f92927",
   "metadata": {},
   "outputs": [
    {
     "data": {
      "text/plain": [
       "12950"
      ]
     },
     "execution_count": 70,
     "metadata": {},
     "output_type": "execute_result"
    }
   ],
   "source": [
    "sample_table['ethanol_volume'].sum()"
   ]
  },
  {
   "cell_type": "code",
   "execution_count": 71,
   "id": "6c62bea3-7c5b-4d85-8420-5a0c358bdccb",
   "metadata": {},
   "outputs": [
    {
     "data": {
      "text/html": [
       "<div>\n",
       "<style scoped>\n",
       "    .dataframe tbody tr th:only-of-type {\n",
       "        vertical-align: middle;\n",
       "    }\n",
       "\n",
       "    .dataframe tbody tr th {\n",
       "        vertical-align: top;\n",
       "    }\n",
       "\n",
       "    .dataframe thead th {\n",
       "        text-align: right;\n",
       "    }\n",
       "</style>\n",
       "<table border=\"1\" class=\"dataframe\">\n",
       "  <thead>\n",
       "    <tr style=\"text-align: right;\">\n",
       "      <th></th>\n",
       "      <th>uuid</th>\n",
       "      <th>teos_volume</th>\n",
       "      <th>ammonia_volume</th>\n",
       "      <th>water_volume</th>\n",
       "      <th>ethanol_volume</th>\n",
       "      <th>ctab_volume</th>\n",
       "      <th>f127_voume</th>\n",
       "      <th>well</th>\n",
       "    </tr>\n",
       "  </thead>\n",
       "  <tbody>\n",
       "    <tr>\n",
       "      <th>4</th>\n",
       "      <td>5</td>\n",
       "      <td>371</td>\n",
       "      <td>733</td>\n",
       "      <td>1420</td>\n",
       "      <td>2590</td>\n",
       "      <td>2190</td>\n",
       "      <td>2700</td>\n",
       "      <td>B1</td>\n",
       "    </tr>\n",
       "  </tbody>\n",
       "</table>\n",
       "</div>"
      ],
      "text/plain": [
       "   uuid  teos_volume  ammonia_volume  water_volume  ethanol_volume  \\\n",
       "4     5          371             733          1420            2590   \n",
       "\n",
       "   ctab_volume  f127_voume well  \n",
       "4         2190        2700   B1  "
      ]
     },
     "execution_count": 71,
     "metadata": {},
     "output_type": "execute_result"
    }
   ],
   "source": [
    "sample_table.iloc[-1:]"
   ]
  },
  {
   "cell_type": "code",
   "execution_count": 72,
   "id": "edc16011-67bc-4bb0-a857-95afc6fabc07",
   "metadata": {},
   "outputs": [
    {
     "data": {
      "text/plain": [
       "[Well B4 form 20mLscintillation 12 Well Plate 18000 µL on slot 4]"
      ]
     },
     "execution_count": 72,
     "metadata": {},
     "output_type": "execute_result"
    }
   ],
   "source": [
    "ethanol_stocks_apdist[-1:]"
   ]
  },
  {
   "cell_type": "code",
   "execution_count": 73,
   "id": "48bd5bef-7fc3-41a1-b780-0101fd6ea6d8",
   "metadata": {},
   "outputs": [],
   "source": [
    "sample_number = 0"
   ]
  },
  {
   "cell_type": "code",
   "execution_count": 78,
   "id": "226cdb7e-2a44-420e-9fe6-bd1fbbfc2a33",
   "metadata": {},
   "outputs": [],
   "source": [
    "sample_table_select = sample_table.iloc[sample_number:sample_number+1]"
   ]
  },
  {
   "cell_type": "code",
   "execution_count": 79,
   "id": "faf84fb7-c64b-4baf-a182-7ef1bfd5ec3e",
   "metadata": {},
   "outputs": [
    {
     "data": {
      "text/html": [
       "<div>\n",
       "<style scoped>\n",
       "    .dataframe tbody tr th:only-of-type {\n",
       "        vertical-align: middle;\n",
       "    }\n",
       "\n",
       "    .dataframe tbody tr th {\n",
       "        vertical-align: top;\n",
       "    }\n",
       "\n",
       "    .dataframe thead th {\n",
       "        text-align: right;\n",
       "    }\n",
       "</style>\n",
       "<table border=\"1\" class=\"dataframe\">\n",
       "  <thead>\n",
       "    <tr style=\"text-align: right;\">\n",
       "      <th></th>\n",
       "      <th>uuid</th>\n",
       "      <th>teos_volume</th>\n",
       "      <th>ammonia_volume</th>\n",
       "      <th>water_volume</th>\n",
       "      <th>ethanol_volume</th>\n",
       "      <th>ctab_volume</th>\n",
       "      <th>f127_voume</th>\n",
       "      <th>well</th>\n",
       "    </tr>\n",
       "  </thead>\n",
       "  <tbody>\n",
       "    <tr>\n",
       "      <th>0</th>\n",
       "      <td>1</td>\n",
       "      <td>371</td>\n",
       "      <td>733</td>\n",
       "      <td>1420</td>\n",
       "      <td>2590</td>\n",
       "      <td>2190</td>\n",
       "      <td>2700</td>\n",
       "      <td>A1</td>\n",
       "    </tr>\n",
       "  </tbody>\n",
       "</table>\n",
       "</div>"
      ],
      "text/plain": [
       "   uuid  teos_volume  ammonia_volume  water_volume  ethanol_volume  \\\n",
       "0     1          371             733          1420            2590   \n",
       "\n",
       "   ctab_volume  f127_voume well  \n",
       "0         2190        2700   A1  "
      ]
     },
     "execution_count": 79,
     "metadata": {},
     "output_type": "execute_result"
    }
   ],
   "source": [
    "sample_table_select"
   ]
  },
  {
   "cell_type": "code",
   "execution_count": 84,
   "id": "3325d44c-fd6b-4a97-a659-e2aa82060e20",
   "metadata": {},
   "outputs": [
    {
     "data": {
      "text/plain": [
       "[Well B2 form 20mLscintillation 12 Well Plate 18000 µL on slot 4]"
      ]
     },
     "execution_count": 84,
     "metadata": {},
     "output_type": "execute_result"
    }
   ],
   "source": [
    "ethanol_stocks"
   ]
  },
  {
   "cell_type": "code",
   "execution_count": 88,
   "id": "b80ea790-0074-4702-b1ee-a3b0098753fc",
   "metadata": {},
   "outputs": [
    {
     "data": {
      "text/plain": [
       "[Well B2 form 20mLscintillation 12 Well Plate 18000 µL on slot 4]"
      ]
     },
     "execution_count": 88,
     "metadata": {},
     "output_type": "execute_result"
    }
   ],
   "source": [
    "ethanol_stocks"
   ]
  },
  {
   "cell_type": "markdown",
   "id": "e2ddb62c-d3f3-4c45-917a-e575189606c9",
   "metadata": {},
   "source": [
    "## add ethanol"
   ]
  },
  {
   "cell_type": "code",
   "execution_count": 103,
   "id": "a6c28415-6603-4bff-aad2-fd7fe99dd604",
   "metadata": {},
   "outputs": [
    {
     "name": "stdout",
     "output_type": "stream",
     "text": [
      "gcode cmd:  M114\n",
      "gcode cmd:  T2\n",
      "gcode cmd:  M114\n",
      "gcode cmd:  G90\n",
      "gcode cmd:  G0  X31.10 Y169.00   F6000.00 \n",
      "gcode cmd:  M400\n",
      "gcode cmd:  G90\n",
      "gcode cmd:  G0 Z12.50     F6000.00 \n",
      "gcode cmd:  M400\n",
      "gcode cmd:  M114\n",
      "gcode cmd:  G90\n",
      "gcode cmd:  G0 Z80.50     F6000.00 \n",
      "gcode cmd:  M400\n",
      "gcode cmd:  T-1\n"
     ]
    }
   ],
   "source": [
    "stober.add_reactants_batch(jubilee, mix_syringe, mix_syringe, sample_table_select, location_lookup, 'ethanol_volume', ethanol_stocks, stocks_usable_volume=15000, dwell_time = 10)"
   ]
  },
  {
   "cell_type": "code",
   "execution_count": 104,
   "id": "2fc66aa1-bc70-4098-8e37-f148188c26c6",
   "metadata": {},
   "outputs": [],
   "source": [
    "mix_syringe.set_pulsewidth(mix_syringe.empty_position-1)"
   ]
  },
  {
   "cell_type": "code",
   "execution_count": 106,
   "id": "e709c459-5f0e-4b80-b61d-3cd6fee7ec70",
   "metadata": {},
   "outputs": [
    {
     "name": "stdout",
     "output_type": "stream",
     "text": [
      "Loaded syringe, remaining volume 0 uL\n"
     ]
    }
   ],
   "source": [
    "mix_syringe.load_syringe(0, mix_syringe.empty_position-1)"
   ]
  },
  {
   "cell_type": "markdown",
   "id": "9e35c96c-2ea8-438a-989d-f6d73c8f16ed",
   "metadata": {},
   "source": [
    "## Dispense water\n"
   ]
  },
  {
   "cell_type": "code",
   "execution_count": 107,
   "id": "9f765450-7f64-49e7-85f8-335e2fa0b666",
   "metadata": {},
   "outputs": [
    {
     "name": "stdout",
     "output_type": "stream",
     "text": [
      "gcode cmd:  M114\n",
      "gcode cmd:  T1\n",
      "gcode cmd:  M114\n",
      "gcode cmd:  G90\n",
      "gcode cmd:  G0  X90.50 Y266.00   F6000.00 \n",
      "gcode cmd:  M400\n",
      "gcode cmd:  G90\n",
      "gcode cmd:  G0 Z12.50     F6000.00 \n",
      "gcode cmd:  M400\n",
      "gcode cmd:  M114\n",
      "gcode cmd:  G90\n",
      "gcode cmd:  G0 Z80.50     F6000.00 \n",
      "gcode cmd:  M400\n",
      "gcode cmd:  G90\n",
      "gcode cmd:  G0  X90.50 Y266.00   F6000.00 \n",
      "gcode cmd:  M400\n",
      "gcode cmd:  G90\n",
      "gcode cmd:  G0 Z12.50     F6000.00 \n",
      "gcode cmd:  M400\n",
      "gcode cmd:  M114\n",
      "gcode cmd:  G90\n",
      "gcode cmd:  G0 Z80.50     F6000.00 \n",
      "gcode cmd:  M400\n",
      "gcode cmd:  G90\n",
      "gcode cmd:  G0  X31.10 Y169.00   F6000.00 \n",
      "gcode cmd:  M400\n",
      "gcode cmd:  G90\n",
      "gcode cmd:  G0 Z12.50     F6000.00 \n",
      "gcode cmd:  M400\n",
      "gcode cmd:  M114\n",
      "gcode cmd:  G90\n",
      "gcode cmd:  G0 Z80.50     F6000.00 \n",
      "gcode cmd:  M400\n",
      "gcode cmd:  G90\n",
      "gcode cmd:  G0  X90.50 Y266.00   F6000.00 \n",
      "gcode cmd:  M400\n",
      "gcode cmd:  G90\n",
      "gcode cmd:  G0 Z12.50     F6000.00 \n",
      "gcode cmd:  M400\n",
      "gcode cmd:  M114\n",
      "gcode cmd:  G90\n",
      "gcode cmd:  G0 Z80.50     F6000.00 \n",
      "gcode cmd:  M400\n",
      "gcode cmd:  G90\n",
      "gcode cmd:  G0  X90.50 Y266.00   F6000.00 \n",
      "gcode cmd:  M400\n",
      "gcode cmd:  G90\n",
      "gcode cmd:  G0 Z12.50     F6000.00 \n",
      "gcode cmd:  M400\n",
      "gcode cmd:  M114\n",
      "gcode cmd:  G90\n",
      "gcode cmd:  G0 Z80.50     F6000.00 \n",
      "gcode cmd:  M400\n",
      "gcode cmd:  G90\n",
      "gcode cmd:  G0  X31.10 Y169.00   F6000.00 \n",
      "gcode cmd:  M400\n",
      "gcode cmd:  G90\n",
      "gcode cmd:  G0 Z12.50     F6000.00 \n",
      "gcode cmd:  M400\n",
      "gcode cmd:  M114\n",
      "gcode cmd:  G90\n",
      "gcode cmd:  G0 Z80.50     F6000.00 \n",
      "gcode cmd:  M400\n",
      "gcode cmd:  T-1\n"
     ]
    }
   ],
   "source": [
    "stober.add_reactants_batch(jubilee, water_syringe, mix_syringe, sample_table_select, location_lookup, 'water_volume', water_stocks, dwell_time = 7)"
   ]
  },
  {
   "cell_type": "markdown",
   "id": "cd60cc24-167e-46e5-9e73-a2457c8964de",
   "metadata": {},
   "source": [
    "## dispense Ammonia"
   ]
  },
  {
   "cell_type": "code",
   "execution_count": null,
   "id": "f01c8bfa-0558-4607-a477-1f6f6047c5ce",
   "metadata": {},
   "outputs": [],
   "source": []
  },
  {
   "cell_type": "code",
   "execution_count": 108,
   "id": "7dc4c2ae-9e4e-40e0-929a-6e0a3e4bc240",
   "metadata": {},
   "outputs": [
    {
     "name": "stdout",
     "output_type": "stream",
     "text": [
      "gcode cmd:  M114\n",
      "gcode cmd:  T3\n",
      "gcode cmd:  M114\n",
      "gcode cmd:  G90\n",
      "gcode cmd:  G0  X60.50 Y266.00   F6000.00 \n",
      "gcode cmd:  M400\n",
      "gcode cmd:  G90\n",
      "gcode cmd:  G0 Z12.50     F6000.00 \n",
      "gcode cmd:  M400\n",
      "gcode cmd:  M114\n",
      "gcode cmd:  G90\n",
      "gcode cmd:  G0 Z80.50     F6000.00 \n",
      "gcode cmd:  M400\n",
      "gcode cmd:  G90\n",
      "gcode cmd:  G0  X60.50 Y266.00   F6000.00 \n",
      "gcode cmd:  M400\n",
      "gcode cmd:  G90\n",
      "gcode cmd:  G0 Z12.50     F6000.00 \n",
      "gcode cmd:  M400\n",
      "gcode cmd:  M114\n",
      "gcode cmd:  G90\n",
      "gcode cmd:  G0 Z80.50     F6000.00 \n",
      "gcode cmd:  M400\n",
      "gcode cmd:  G90\n",
      "gcode cmd:  G0  X31.10 Y169.00   F6000.00 \n",
      "gcode cmd:  M400\n",
      "gcode cmd:  G90\n",
      "gcode cmd:  G0 Z12.50     F6000.00 \n",
      "gcode cmd:  M400\n",
      "gcode cmd:  M114\n",
      "gcode cmd:  G90\n",
      "gcode cmd:  G0 Z80.50     F6000.00 \n",
      "gcode cmd:  M400\n",
      "gcode cmd:  T-1\n"
     ]
    }
   ],
   "source": [
    "stober.add_reactants_batch(jubilee, ammonia_syringe, mix_syringe, sample_table_select, location_lookup, 'ammonia_volume', ammonia_stocks, refill_dwell = 10)"
   ]
  },
  {
   "cell_type": "markdown",
   "id": "b722b7d9-ec53-4d4a-b515-36058c7089d8",
   "metadata": {},
   "source": [
    "## dispense F127"
   ]
  },
  {
   "cell_type": "code",
   "execution_count": 112,
   "id": "e0252cb0-fbbe-4b63-b56b-5f486790d106",
   "metadata": {},
   "outputs": [
    {
     "name": "stdout",
     "output_type": "stream",
     "text": [
      "gcode cmd:  M114\n",
      "gcode cmd:  T0\n",
      "gcode cmd:  M114\n",
      "gcode cmd:  G90\n",
      "gcode cmd:  G0  X30.50 Y238.00   F6000.00 \n",
      "gcode cmd:  M400\n",
      "gcode cmd:  G90\n",
      "gcode cmd:  G0 Z12.50     F6000.00 \n",
      "gcode cmd:  M400\n",
      "gcode cmd:  M114\n",
      "gcode cmd:  G90\n",
      "gcode cmd:  G0 Z80.50     F6000.00 \n",
      "gcode cmd:  M400\n",
      "gcode cmd:  G90\n",
      "gcode cmd:  G0  X30.50 Y238.00   F6000.00 \n",
      "gcode cmd:  M400\n",
      "gcode cmd:  G90\n",
      "gcode cmd:  G0 Z12.50     F6000.00 \n",
      "gcode cmd:  M400\n",
      "gcode cmd:  M114\n",
      "gcode cmd:  G90\n",
      "gcode cmd:  G0 Z80.50     F6000.00 \n",
      "gcode cmd:  M400\n",
      "gcode cmd:  G90\n",
      "gcode cmd:  G0  X31.10 Y169.00   F6000.00 \n",
      "gcode cmd:  M400\n",
      "gcode cmd:  G90\n",
      "gcode cmd:  G0 Z12.50     F6000.00 \n",
      "gcode cmd:  M400\n",
      "gcode cmd:  M114\n",
      "gcode cmd:  G90\n",
      "gcode cmd:  G0 Z80.50     F6000.00 \n",
      "gcode cmd:  M400\n",
      "gcode cmd:  G90\n",
      "gcode cmd:  G0  X30.50 Y238.00   F6000.00 \n",
      "gcode cmd:  M400\n",
      "gcode cmd:  G90\n",
      "gcode cmd:  G0 Z12.50     F6000.00 \n",
      "gcode cmd:  M400\n",
      "gcode cmd:  M114\n",
      "gcode cmd:  G90\n",
      "gcode cmd:  G0 Z80.50     F6000.00 \n",
      "gcode cmd:  M400\n",
      "gcode cmd:  G90\n",
      "gcode cmd:  G0  X30.50 Y238.00   F6000.00 \n",
      "gcode cmd:  M400\n",
      "gcode cmd:  G90\n",
      "gcode cmd:  G0 Z12.50     F6000.00 \n",
      "gcode cmd:  M400\n",
      "gcode cmd:  M114\n",
      "gcode cmd:  G90\n",
      "gcode cmd:  G0 Z80.50     F6000.00 \n",
      "gcode cmd:  M400\n",
      "gcode cmd:  G90\n",
      "gcode cmd:  G0  X31.10 Y169.00   F6000.00 \n",
      "gcode cmd:  M400\n",
      "gcode cmd:  G90\n",
      "gcode cmd:  G0 Z12.50     F6000.00 \n",
      "gcode cmd:  M400\n",
      "gcode cmd:  M114\n",
      "gcode cmd:  G90\n",
      "gcode cmd:  G0 Z80.50     F6000.00 \n",
      "gcode cmd:  M400\n",
      "gcode cmd:  G90\n",
      "gcode cmd:  G0  X30.50 Y238.00   F6000.00 \n",
      "gcode cmd:  M400\n",
      "gcode cmd:  G90\n",
      "gcode cmd:  G0 Z12.50     F6000.00 \n",
      "gcode cmd:  M400\n",
      "gcode cmd:  M114\n",
      "gcode cmd:  G90\n",
      "gcode cmd:  G0 Z80.50     F6000.00 \n",
      "gcode cmd:  M400\n",
      "gcode cmd:  G90\n",
      "gcode cmd:  G0  X30.50 Y238.00   F6000.00 \n",
      "gcode cmd:  M400\n",
      "gcode cmd:  G90\n",
      "gcode cmd:  G0 Z12.50     F6000.00 \n",
      "gcode cmd:  M400\n",
      "gcode cmd:  M114\n",
      "gcode cmd:  G90\n",
      "gcode cmd:  G0 Z80.50     F6000.00 \n",
      "gcode cmd:  M400\n",
      "gcode cmd:  G90\n",
      "gcode cmd:  G0  X31.10 Y169.00   F6000.00 \n",
      "gcode cmd:  M400\n",
      "gcode cmd:  G90\n",
      "gcode cmd:  G0 Z12.50     F6000.00 \n",
      "gcode cmd:  M400\n",
      "gcode cmd:  M114\n",
      "gcode cmd:  G90\n",
      "gcode cmd:  G0 Z80.50     F6000.00 \n",
      "gcode cmd:  M400\n",
      "gcode cmd:  T-1\n"
     ]
    }
   ],
   "source": [
    "stober.add_reactants_batch(jubilee, surfactant_syringe, mix_syringe, sample_table_select, location_lookup, 'f127_voume', f127_stocks, refill_dwell = 10)"
   ]
  },
  {
   "cell_type": "code",
   "execution_count": 111,
   "id": "c823aa6a-608f-44d0-abcf-fe41c570b85e",
   "metadata": {},
   "outputs": [
    {
     "data": {
      "text/html": [
       "<div>\n",
       "<style scoped>\n",
       "    .dataframe tbody tr th:only-of-type {\n",
       "        vertical-align: middle;\n",
       "    }\n",
       "\n",
       "    .dataframe tbody tr th {\n",
       "        vertical-align: top;\n",
       "    }\n",
       "\n",
       "    .dataframe thead th {\n",
       "        text-align: right;\n",
       "    }\n",
       "</style>\n",
       "<table border=\"1\" class=\"dataframe\">\n",
       "  <thead>\n",
       "    <tr style=\"text-align: right;\">\n",
       "      <th></th>\n",
       "      <th>uuid</th>\n",
       "      <th>teos_volume</th>\n",
       "      <th>ammonia_volume</th>\n",
       "      <th>water_volume</th>\n",
       "      <th>ethanol_volume</th>\n",
       "      <th>ctab_volume</th>\n",
       "      <th>f127_voume</th>\n",
       "      <th>well</th>\n",
       "    </tr>\n",
       "  </thead>\n",
       "  <tbody>\n",
       "    <tr>\n",
       "      <th>0</th>\n",
       "      <td>1</td>\n",
       "      <td>371</td>\n",
       "      <td>733</td>\n",
       "      <td>1420</td>\n",
       "      <td>2590</td>\n",
       "      <td>2190</td>\n",
       "      <td>2700</td>\n",
       "      <td>A1</td>\n",
       "    </tr>\n",
       "    <tr>\n",
       "      <th>1</th>\n",
       "      <td>2</td>\n",
       "      <td>371</td>\n",
       "      <td>733</td>\n",
       "      <td>1420</td>\n",
       "      <td>2590</td>\n",
       "      <td>2190</td>\n",
       "      <td>2700</td>\n",
       "      <td>A2</td>\n",
       "    </tr>\n",
       "    <tr>\n",
       "      <th>2</th>\n",
       "      <td>3</td>\n",
       "      <td>371</td>\n",
       "      <td>733</td>\n",
       "      <td>1420</td>\n",
       "      <td>2590</td>\n",
       "      <td>2190</td>\n",
       "      <td>2700</td>\n",
       "      <td>A3</td>\n",
       "    </tr>\n",
       "    <tr>\n",
       "      <th>3</th>\n",
       "      <td>4</td>\n",
       "      <td>371</td>\n",
       "      <td>733</td>\n",
       "      <td>1420</td>\n",
       "      <td>2590</td>\n",
       "      <td>2190</td>\n",
       "      <td>2700</td>\n",
       "      <td>A4</td>\n",
       "    </tr>\n",
       "    <tr>\n",
       "      <th>4</th>\n",
       "      <td>5</td>\n",
       "      <td>371</td>\n",
       "      <td>733</td>\n",
       "      <td>1420</td>\n",
       "      <td>2590</td>\n",
       "      <td>2190</td>\n",
       "      <td>2700</td>\n",
       "      <td>B1</td>\n",
       "    </tr>\n",
       "  </tbody>\n",
       "</table>\n",
       "</div>"
      ],
      "text/plain": [
       "   uuid  teos_volume  ammonia_volume  water_volume  ethanol_volume  \\\n",
       "0     1          371             733          1420            2590   \n",
       "1     2          371             733          1420            2590   \n",
       "2     3          371             733          1420            2590   \n",
       "3     4          371             733          1420            2590   \n",
       "4     5          371             733          1420            2590   \n",
       "\n",
       "   ctab_volume  f127_voume well  \n",
       "0         2190        2700   A1  \n",
       "1         2190        2700   A2  \n",
       "2         2190        2700   A3  \n",
       "3         2190        2700   A4  \n",
       "4         2190        2700   B1  "
      ]
     },
     "execution_count": 111,
     "metadata": {},
     "output_type": "execute_result"
    }
   ],
   "source": [
    "sample_table"
   ]
  },
  {
   "cell_type": "code",
   "execution_count": 119,
   "id": "c71f69c6-a2a3-406d-a1f2-818b29450e84",
   "metadata": {},
   "outputs": [
    {
     "name": "stdout",
     "output_type": "stream",
     "text": [
      "Loaded syringe, remaining volume 0 uL\n",
      "gcode cmd:  M114\n",
      "gcode cmd:  G90\n",
      "gcode cmd:  G0 Z80.50     F6000.00 \n",
      "gcode cmd:  M400\n",
      "gcode cmd:  T0\n",
      "gcode cmd:  M114\n",
      "gcode cmd:  G90\n",
      "gcode cmd:  G0  X120.50 Y210.00   F6000.00 \n",
      "gcode cmd:  M400\n",
      "gcode cmd:  G90\n",
      "gcode cmd:  G0 Z7.50     F6000.00 \n",
      "gcode cmd:  M400\n",
      "gcode cmd:  M114\n",
      "gcode cmd:  G90\n",
      "gcode cmd:  G0 Z80.50     F6000.00 \n",
      "gcode cmd:  M400\n"
     ]
    },
    {
     "ename": "TypeError",
     "evalue": "park_tool() takes 1 positional argument but 2 were given",
     "output_type": "error",
     "traceback": [
      "\u001b[0;31m---------------------------------------------------------------------------\u001b[0m",
      "\u001b[0;31mTypeError\u001b[0m                                 Traceback (most recent call last)",
      "Cell \u001b[0;32mIn[119], line 6\u001b[0m\n\u001b[1;32m      4\u001b[0m \u001b[38;5;28;01mfor\u001b[39;00m stock \u001b[38;5;129;01min\u001b[39;00m rinse_stocks_apdist[\u001b[38;5;241m2\u001b[39m:]:\n\u001b[1;32m      5\u001b[0m     surfactant_syringe\u001b[38;5;241m.\u001b[39mmix(\u001b[38;5;241m900\u001b[39m, \u001b[38;5;241m2\u001b[39m, stock)\n\u001b[0;32m----> 6\u001b[0m \u001b[43mjubilee\u001b[49m\u001b[38;5;241;43m.\u001b[39;49m\u001b[43mpark_tool\u001b[49m\u001b[43m(\u001b[49m\u001b[43msurfactant_syringe\u001b[49m\u001b[43m)\u001b[49m\n",
      "File \u001b[0;32m~/Code/science-jubilee/src/science_jubilee/Machine.py:91\u001b[0m, in \u001b[0;36mrequires_safe_z.<locals>.z_check\u001b[0;34m(self, *args, **kwds)\u001b[0m\n\u001b[1;32m     89\u001b[0m \u001b[38;5;28;01mif\u001b[39;00m current_z \u001b[38;5;241m<\u001b[39m safe_z:\n\u001b[1;32m     90\u001b[0m     \u001b[38;5;28mself\u001b[39m\u001b[38;5;241m.\u001b[39mmove_to(z\u001b[38;5;241m=\u001b[39msafe_z \u001b[38;5;241m+\u001b[39m \u001b[38;5;241m20\u001b[39m)\n\u001b[0;32m---> 91\u001b[0m \u001b[38;5;28;01mreturn\u001b[39;00m \u001b[43mfunc\u001b[49m\u001b[43m(\u001b[49m\u001b[38;5;28;43mself\u001b[39;49m\u001b[43m,\u001b[49m\u001b[43m \u001b[49m\u001b[38;5;241;43m*\u001b[39;49m\u001b[43margs\u001b[49m\u001b[43m,\u001b[49m\u001b[43m \u001b[49m\u001b[38;5;241;43m*\u001b[39;49m\u001b[38;5;241;43m*\u001b[39;49m\u001b[43mkwds\u001b[49m\u001b[43m)\u001b[49m\n",
      "\u001b[0;31mTypeError\u001b[0m: park_tool() takes 1 positional argument but 2 were given"
     ]
    }
   ],
   "source": [
    "surfactant_syringe.set_pulsewidth(surfactant_syringe.empty_position-1)\n",
    "surfactant_syringe.load_syringe(0, surfactant_syringe.empty_position-1)\n",
    "jubilee.pickup_tool(surfactant_syringe)\n",
    "for stock in rinse_stocks_apdist[2:]:\n",
    "    surfactant_syringe.mix(900, 2, stock)\n",
    "jubilee.park_tool()"
   ]
  },
  {
   "cell_type": "code",
   "execution_count": 120,
   "id": "ea7154e1-d22e-4dcd-9b5b-0f93826819f6",
   "metadata": {},
   "outputs": [
    {
     "name": "stdout",
     "output_type": "stream",
     "text": [
      "gcode cmd:  M114\n",
      "gcode cmd:  T-1\n"
     ]
    }
   ],
   "source": [
    "jubilee.park_tool()"
   ]
  },
  {
   "cell_type": "markdown",
   "id": "2da09eda-bdba-48ee-a463-76569bdfb900",
   "metadata": {},
   "source": [
    "## Dispense CTAB"
   ]
  },
  {
   "cell_type": "code",
   "execution_count": 122,
   "id": "a179ef71-0961-4ace-8a32-3a603597d9c0",
   "metadata": {},
   "outputs": [
    {
     "name": "stdout",
     "output_type": "stream",
     "text": [
      "gcode cmd:  M114\n",
      "gcode cmd:  T0\n",
      "gcode cmd:  M114\n",
      "gcode cmd:  G90\n",
      "gcode cmd:  G0  X120.50 Y266.00   F6000.00 \n",
      "gcode cmd:  M400\n",
      "gcode cmd:  G90\n",
      "gcode cmd:  G0 Z12.50     F6000.00 \n",
      "gcode cmd:  M400\n",
      "gcode cmd:  M114\n",
      "gcode cmd:  G90\n",
      "gcode cmd:  G0 Z80.50     F6000.00 \n",
      "gcode cmd:  M400\n",
      "gcode cmd:  G90\n",
      "gcode cmd:  G0  X120.50 Y266.00   F6000.00 \n",
      "gcode cmd:  M400\n",
      "gcode cmd:  G90\n",
      "gcode cmd:  G0 Z12.50     F6000.00 \n",
      "gcode cmd:  M400\n",
      "gcode cmd:  M114\n",
      "gcode cmd:  G90\n",
      "gcode cmd:  G0 Z80.50     F6000.00 \n",
      "gcode cmd:  M400\n",
      "gcode cmd:  G90\n",
      "gcode cmd:  G0  X31.10 Y169.00   F6000.00 \n",
      "gcode cmd:  M400\n",
      "gcode cmd:  G90\n",
      "gcode cmd:  G0 Z12.50     F6000.00 \n",
      "gcode cmd:  M400\n",
      "gcode cmd:  M114\n",
      "gcode cmd:  G90\n",
      "gcode cmd:  G0 Z80.50     F6000.00 \n",
      "gcode cmd:  M400\n",
      "gcode cmd:  G90\n",
      "gcode cmd:  G0  X120.50 Y266.00   F6000.00 \n",
      "gcode cmd:  M400\n",
      "gcode cmd:  G90\n",
      "gcode cmd:  G0 Z12.50     F6000.00 \n",
      "gcode cmd:  M400\n",
      "gcode cmd:  M114\n",
      "gcode cmd:  G90\n",
      "gcode cmd:  G0 Z80.50     F6000.00 \n",
      "gcode cmd:  M400\n",
      "gcode cmd:  G90\n",
      "gcode cmd:  G0  X120.50 Y266.00   F6000.00 \n",
      "gcode cmd:  M400\n",
      "gcode cmd:  G90\n",
      "gcode cmd:  G0 Z12.50     F6000.00 \n",
      "gcode cmd:  M400\n",
      "gcode cmd:  M114\n",
      "gcode cmd:  G90\n",
      "gcode cmd:  G0 Z80.50     F6000.00 \n",
      "gcode cmd:  M400\n",
      "gcode cmd:  G90\n",
      "gcode cmd:  G0  X31.10 Y169.00   F6000.00 \n",
      "gcode cmd:  M400\n",
      "gcode cmd:  G90\n",
      "gcode cmd:  G0 Z12.50     F6000.00 \n",
      "gcode cmd:  M400\n",
      "gcode cmd:  M114\n",
      "gcode cmd:  G90\n",
      "gcode cmd:  G0 Z80.50     F6000.00 \n",
      "gcode cmd:  M400\n",
      "gcode cmd:  G90\n",
      "gcode cmd:  G0  X120.50 Y266.00   F6000.00 \n",
      "gcode cmd:  M400\n",
      "gcode cmd:  G90\n",
      "gcode cmd:  G0 Z12.50     F6000.00 \n",
      "gcode cmd:  M400\n",
      "gcode cmd:  M114\n",
      "gcode cmd:  G90\n",
      "gcode cmd:  G0 Z80.50     F6000.00 \n",
      "gcode cmd:  M400\n",
      "gcode cmd:  G90\n",
      "gcode cmd:  G0  X120.50 Y266.00   F6000.00 \n",
      "gcode cmd:  M400\n",
      "gcode cmd:  G90\n",
      "gcode cmd:  G0 Z12.50     F6000.00 \n",
      "gcode cmd:  M400\n",
      "gcode cmd:  M114\n",
      "gcode cmd:  G90\n",
      "gcode cmd:  G0 Z80.50     F6000.00 \n",
      "gcode cmd:  M400\n",
      "gcode cmd:  G90\n",
      "gcode cmd:  G0  X31.10 Y169.00   F6000.00 \n",
      "gcode cmd:  M400\n",
      "gcode cmd:  G90\n",
      "gcode cmd:  G0 Z12.50     F6000.00 \n",
      "gcode cmd:  M400\n",
      "gcode cmd:  M114\n",
      "gcode cmd:  G90\n",
      "gcode cmd:  G0 Z80.50     F6000.00 \n",
      "gcode cmd:  M400\n",
      "gcode cmd:  T-1\n"
     ]
    }
   ],
   "source": [
    "stober.add_reactants_batch(jubilee, surfactant_syringe, mix_syringe, sample_table_select, location_lookup, 'ctab_volume', ctab_stocks, refill_dwell = 10)"
   ]
  },
  {
   "cell_type": "code",
   "execution_count": 123,
   "id": "3f87f9ab-f582-4e8d-9b8f-864a0a8ca968",
   "metadata": {},
   "outputs": [
    {
     "name": "stdout",
     "output_type": "stream",
     "text": [
      "Loaded syringe, remaining volume 0 uL\n",
      "gcode cmd:  M114\n",
      "gcode cmd:  T0\n",
      "gcode cmd:  M114\n",
      "gcode cmd:  G90\n",
      "gcode cmd:  G0  X60.50 Y210.00   F6000.00 \n",
      "gcode cmd:  M400\n",
      "gcode cmd:  G90\n",
      "gcode cmd:  G0 Z7.50     F6000.00 \n",
      "gcode cmd:  M400\n",
      "gcode cmd:  M114\n",
      "gcode cmd:  G90\n",
      "gcode cmd:  G0 Z80.50     F6000.00 \n",
      "gcode cmd:  M400\n",
      "gcode cmd:  G90\n",
      "gcode cmd:  G0  X90.50 Y210.00   F6000.00 \n",
      "gcode cmd:  M400\n",
      "gcode cmd:  G90\n",
      "gcode cmd:  G0 Z7.50     F6000.00 \n",
      "gcode cmd:  M400\n",
      "gcode cmd:  M114\n",
      "gcode cmd:  G90\n",
      "gcode cmd:  G0 Z80.50     F6000.00 \n",
      "gcode cmd:  M400\n",
      "gcode cmd:  G90\n",
      "gcode cmd:  G0  X120.50 Y210.00   F6000.00 \n",
      "gcode cmd:  M400\n",
      "gcode cmd:  G90\n",
      "gcode cmd:  G0 Z7.50     F6000.00 \n",
      "gcode cmd:  M400\n",
      "gcode cmd:  M114\n",
      "gcode cmd:  G90\n",
      "gcode cmd:  G0 Z80.50     F6000.00 \n",
      "gcode cmd:  M400\n",
      "gcode cmd:  T-1\n"
     ]
    }
   ],
   "source": [
    "surfactant_syringe.set_pulsewidth(surfactant_syringe.empty_position-1)\n",
    "surfactant_syringe.load_syringe(0, surfactant_syringe.empty_position-1)\n",
    "jubilee.pickup_tool(surfactant_syringe)\n",
    "for stock in rinse_stocks_apdist:\n",
    "    surfactant_syringe.mix(900, 2, stock)\n",
    "jubilee.park_tool()"
   ]
  },
  {
   "cell_type": "markdown",
   "id": "bc8a34b3-acd7-4b89-a9ea-34b514cd3d8c",
   "metadata": {},
   "source": [
    "## mix precursors"
   ]
  },
  {
   "cell_type": "code",
   "execution_count": 124,
   "id": "f4f701c5-7908-489e-a1eb-9b2c60438c96",
   "metadata": {},
   "outputs": [
    {
     "name": "stdout",
     "output_type": "stream",
     "text": [
      "gcode cmd:  M114\n",
      "gcode cmd:  T2\n",
      "gcode cmd:  M114\n",
      "gcode cmd:  G90\n",
      "gcode cmd:  G0  X31.10 Y169.00   F6000.00 \n",
      "gcode cmd:  M400\n",
      "gcode cmd:  G90\n",
      "gcode cmd:  G0 Z12.50     F6000.00 \n",
      "gcode cmd:  M400\n",
      "gcode cmd:  M114\n",
      "gcode cmd:  G90\n",
      "gcode cmd:  G0 Z80.50     F6000.00 \n",
      "gcode cmd:  M400\n",
      "gcode cmd:  G90\n",
      "gcode cmd:  G0  X60.50 Y210.00   F6000.00 \n",
      "gcode cmd:  M400\n",
      "gcode cmd:  G90\n",
      "gcode cmd:  G0 Z17.50     F6000.00 \n",
      "gcode cmd:  M400\n",
      "gcode cmd:  M114\n",
      "gcode cmd:  G90\n",
      "gcode cmd:  G0 Z80.50     F6000.00 \n",
      "gcode cmd:  M400\n",
      "gcode cmd:  G90\n",
      "gcode cmd:  G0  X90.50 Y210.00   F6000.00 \n",
      "gcode cmd:  M400\n",
      "gcode cmd:  G90\n",
      "gcode cmd:  G0 Z17.50     F6000.00 \n",
      "gcode cmd:  M400\n",
      "gcode cmd:  M114\n",
      "gcode cmd:  G90\n",
      "gcode cmd:  G0 Z80.50     F6000.00 \n",
      "gcode cmd:  M400\n",
      "gcode cmd:  G90\n",
      "gcode cmd:  G0  X120.50 Y210.00   F6000.00 \n",
      "gcode cmd:  M400\n",
      "gcode cmd:  G90\n",
      "gcode cmd:  G0 Z17.50     F6000.00 \n",
      "gcode cmd:  M400\n",
      "gcode cmd:  M114\n",
      "gcode cmd:  G90\n",
      "gcode cmd:  G0 Z80.50     F6000.00 \n",
      "gcode cmd:  M400\n",
      "gcode cmd:  G90\n",
      "gcode cmd:  G0  X61.10 Y169.00   F6000.00 \n",
      "gcode cmd:  M400\n",
      "gcode cmd:  G90\n",
      "gcode cmd:  G0 Z12.50     F6000.00 \n",
      "gcode cmd:  M400\n"
     ]
    },
    {
     "ename": "KeyboardInterrupt",
     "evalue": "",
     "output_type": "error",
     "traceback": [
      "\u001b[0;31m---------------------------------------------------------------------------\u001b[0m",
      "\u001b[0;31mKeyboardInterrupt\u001b[0m                         Traceback (most recent call last)",
      "Cell \u001b[0;32mIn[124], line 1\u001b[0m\n\u001b[0;32m----> 1\u001b[0m \u001b[43mstober\u001b[49m\u001b[38;5;241;43m.\u001b[39;49m\u001b[43mfirst_mix\u001b[49m\u001b[43m(\u001b[49m\u001b[43mjubilee\u001b[49m\u001b[43m,\u001b[49m\u001b[43m \u001b[49m\u001b[43mmix_syringe\u001b[49m\u001b[43m,\u001b[49m\u001b[43m \u001b[49m\u001b[38;5;241;43m5000\u001b[39;49m\u001b[43m,\u001b[49m\u001b[43m \u001b[49m\u001b[43mlocation_lookup\u001b[49m\u001b[43m,\u001b[49m\u001b[43m \u001b[49m\u001b[43mrinse_stocks_apdist\u001b[49m\u001b[43m,\u001b[49m\u001b[43m \u001b[49m\u001b[38;5;241;43m5\u001b[39;49m\u001b[43m)\u001b[49m\n",
      "File \u001b[0;32m~/Code/silica-np-synthesis/mesoporous/2025_03_11_InitialJubileesetup/../../stober_synthesis_utils.py:155\u001b[0m, in \u001b[0;36mfirst_mix\u001b[0;34m(jubilee, mix_syringe, mix_vol, location_lookup, wash_stocks, n_mix)\u001b[0m\n\u001b[1;32m    152\u001b[0m jubilee\u001b[38;5;241m.\u001b[39mpickup_tool(mix_syringe)\n\u001b[1;32m    154\u001b[0m \u001b[38;5;28;01mfor\u001b[39;00m name, well \u001b[38;5;129;01min\u001b[39;00m location_lookup\u001b[38;5;241m.\u001b[39mitems():\n\u001b[0;32m--> 155\u001b[0m     \u001b[43mmix_syringe\u001b[49m\u001b[38;5;241;43m.\u001b[39;49m\u001b[43mmix\u001b[49m\u001b[43m(\u001b[49m\u001b[43mmix_vol\u001b[49m\u001b[43m,\u001b[49m\u001b[43m \u001b[49m\u001b[43mn_mix\u001b[49m\u001b[43m,\u001b[49m\u001b[43m \u001b[49m\u001b[43mwell\u001b[49m\u001b[38;5;241;43m.\u001b[39;49m\u001b[43mbottom\u001b[49m\u001b[43m(\u001b[49m\u001b[38;5;241;43m+\u001b[39;49m\u001b[38;5;241;43m5\u001b[39;49m\u001b[43m)\u001b[49m\u001b[43m,\u001b[49m\u001b[43m \u001b[49m\u001b[43ms_aspirate\u001b[49m\u001b[43m \u001b[49m\u001b[38;5;241;43m=\u001b[39;49m\u001b[43m \u001b[49m\u001b[38;5;241;43m2000\u001b[39;49m\u001b[43m,\u001b[49m\u001b[43m \u001b[49m\u001b[43ms_dispense\u001b[49m\u001b[43m \u001b[49m\u001b[38;5;241;43m=\u001b[39;49m\u001b[43m \u001b[49m\u001b[38;5;241;43m500\u001b[39;49m\u001b[43m)\u001b[49m\n\u001b[1;32m    156\u001b[0m     logger\u001b[38;5;241m.\u001b[39minfo(\u001b[38;5;124mf\u001b[39m\u001b[38;5;124m'\u001b[39m\u001b[38;5;124mMixed well \u001b[39m\u001b[38;5;132;01m{\u001b[39;00mwell\u001b[38;5;132;01m}\u001b[39;00m\u001b[38;5;124m \u001b[39m\u001b[38;5;132;01m{\u001b[39;00mn_mix\u001b[38;5;132;01m}\u001b[39;00m\u001b[38;5;124m times, \u001b[39m\u001b[38;5;132;01m{\u001b[39;00mmix_vol\u001b[38;5;132;01m}\u001b[39;00m\u001b[38;5;124m uL per cycle\u001b[39m\u001b[38;5;124m'\u001b[39m)\n\u001b[1;32m    158\u001b[0m     \u001b[38;5;28;01mfor\u001b[39;00m stock \u001b[38;5;129;01min\u001b[39;00m wash_stocks:\n",
      "File \u001b[0;32m~/Code/science-jubilee/src/science_jubilee/tools/Tool.py:49\u001b[0m, in \u001b[0;36mrequires_active_tool.<locals>.wrapper\u001b[0;34m(self, *args, **kwargs)\u001b[0m\n\u001b[1;32m     45\u001b[0m     \u001b[38;5;28;01mraise\u001b[39;00m ToolStateError(\n\u001b[1;32m     46\u001b[0m         \u001b[38;5;124mf\u001b[39m\u001b[38;5;124m\"\u001b[39m\u001b[38;5;124mError: Tool \u001b[39m\u001b[38;5;132;01m{\u001b[39;00m\u001b[38;5;28mself\u001b[39m\u001b[38;5;241m.\u001b[39mname\u001b[38;5;132;01m}\u001b[39;00m\u001b[38;5;124m is not the current `Active Tool`. Cannot perform this action\u001b[39m\u001b[38;5;124m\"\u001b[39m\n\u001b[1;32m     47\u001b[0m     )\n\u001b[1;32m     48\u001b[0m \u001b[38;5;28;01melse\u001b[39;00m:\n\u001b[0;32m---> 49\u001b[0m     \u001b[38;5;28;01mreturn\u001b[39;00m \u001b[43mfunc\u001b[49m\u001b[43m(\u001b[49m\u001b[38;5;28;43mself\u001b[39;49m\u001b[43m,\u001b[49m\u001b[43m \u001b[49m\u001b[38;5;241;43m*\u001b[39;49m\u001b[43margs\u001b[49m\u001b[43m,\u001b[49m\u001b[43m \u001b[49m\u001b[38;5;241;43m*\u001b[39;49m\u001b[38;5;241;43m*\u001b[39;49m\u001b[43mkwargs\u001b[49m\u001b[43m)\u001b[49m\n",
      "File \u001b[0;32m~/Code/science-jubilee/src/science_jubilee/tools/HTTPSyringe.py:246\u001b[0m, in \u001b[0;36mHTTPSyringe.mix\u001b[0;34m(self, vol, n_mix, location, t_hold, s_aspirate, s_dispense)\u001b[0m\n\u001b[1;32m    244\u001b[0m     time\u001b[38;5;241m.\u001b[39msleep(t_hold)\n\u001b[1;32m    245\u001b[0m     \u001b[38;5;28mself\u001b[39m\u001b[38;5;241m.\u001b[39m_dispense(vol, s_dispense)\n\u001b[0;32m--> 246\u001b[0m     \u001b[43mtime\u001b[49m\u001b[38;5;241;43m.\u001b[39;49m\u001b[43msleep\u001b[49m\u001b[43m(\u001b[49m\u001b[43mt_hold\u001b[49m\u001b[43m)\u001b[49m\n\u001b[1;32m    248\u001b[0m \u001b[38;5;28mself\u001b[39m\u001b[38;5;241m.\u001b[39m_dispense(\u001b[38;5;28mself\u001b[39m\u001b[38;5;241m.\u001b[39mcapacity\u001b[38;5;241m*\u001b[39m\u001b[38;5;241m0.05\u001b[39m, s_dispense)\n",
      "\u001b[0;31mKeyboardInterrupt\u001b[0m: "
     ]
    }
   ],
   "source": [
    "stober.first_mix(jubilee, mix_syringe, 5000, location_lookup, rinse_stocks_apdist, 5)"
   ]
  },
  {
   "cell_type": "code",
   "execution_count": 125,
   "id": "252cc503-e643-4a46-aa01-c91cf7dcd050",
   "metadata": {},
   "outputs": [
    {
     "name": "stdout",
     "output_type": "stream",
     "text": [
      "gcode cmd:  M114\n",
      "gcode cmd:  G90\n",
      "gcode cmd:  G0 Z80.50     F6000.00 \n",
      "gcode cmd:  M400\n",
      "gcode cmd:  T-1\n"
     ]
    }
   ],
   "source": [
    "jubilee.park_tool()"
   ]
  },
  {
   "cell_type": "markdown",
   "id": "000c1369-b5a0-4183-97d4-fced54279516",
   "metadata": {},
   "source": [
    "## Add TEOS and mix"
   ]
  },
  {
   "cell_type": "code",
   "execution_count": 126,
   "id": "efccb2d6-234a-4af8-a87d-4d904696a48e",
   "metadata": {},
   "outputs": [
    {
     "name": "stdout",
     "output_type": "stream",
     "text": [
      "gcode cmd:  M114\n",
      "gcode cmd:  T4\n",
      "gcode cmd:  M114\n",
      "gcode cmd:  G90\n",
      "gcode cmd:  G0  X31.10 Y169.00   F6000.00 \n",
      "gcode cmd:  M400\n",
      "gcode cmd:  G90\n",
      "gcode cmd:  G0 Z12.50     F6000.00 \n",
      "gcode cmd:  M400\n",
      "gcode cmd:  M114\n",
      "gcode cmd:  G90\n",
      "gcode cmd:  G0 Z80.50     F6000.00 \n",
      "gcode cmd:  M400\n",
      "gcode cmd:  T-1\n",
      "gcode cmd:  M114\n",
      "gcode cmd:  T2\n",
      "gcode cmd:  M114\n",
      "gcode cmd:  G90\n",
      "gcode cmd:  G0  X31.10 Y169.00   F6000.00 \n",
      "gcode cmd:  M400\n",
      "gcode cmd:  G90\n",
      "gcode cmd:  G0 Z12.50     F6000.00 \n",
      "gcode cmd:  M400\n",
      "gcode cmd:  M114\n",
      "gcode cmd:  G90\n",
      "gcode cmd:  G0 Z80.50     F6000.00 \n",
      "gcode cmd:  M400\n",
      "gcode cmd:  G90\n",
      "gcode cmd:  G0  X60.50 Y210.00   F6000.00 \n",
      "gcode cmd:  M400\n",
      "gcode cmd:  G90\n",
      "gcode cmd:  G0 Z17.50     F6000.00 \n",
      "gcode cmd:  M400\n",
      "gcode cmd:  M114\n",
      "gcode cmd:  G90\n",
      "gcode cmd:  G0 Z80.50     F6000.00 \n",
      "gcode cmd:  M400\n",
      "gcode cmd:  G90\n",
      "gcode cmd:  G0  X90.50 Y210.00   F6000.00 \n",
      "gcode cmd:  M400\n",
      "gcode cmd:  G90\n",
      "gcode cmd:  G0 Z17.50     F6000.00 \n",
      "gcode cmd:  M400\n",
      "gcode cmd:  M114\n",
      "gcode cmd:  G90\n",
      "gcode cmd:  G0 Z80.50     F6000.00 \n",
      "gcode cmd:  M400\n",
      "gcode cmd:  G90\n",
      "gcode cmd:  G0  X120.50 Y210.00   F6000.00 \n",
      "gcode cmd:  M400\n",
      "gcode cmd:  G90\n",
      "gcode cmd:  G0 Z17.50     F6000.00 \n",
      "gcode cmd:  M400\n",
      "gcode cmd:  M114\n",
      "gcode cmd:  G90\n",
      "gcode cmd:  G0 Z80.50     F6000.00 \n",
      "gcode cmd:  M400\n",
      "gcode cmd:  T-1\n",
      "gcode cmd:  M114\n",
      "gcode cmd:  T4\n",
      "gcode cmd:  M114\n",
      "gcode cmd:  T-1\n"
     ]
    }
   ],
   "source": [
    "stober.add_reactants_batch(jubilee, teos_syringe, mix_syringe, sample_table_select, location_lookup, 'teos_volume', teos_stocks, mix_after=(8000, 5, rinse_stocks_apdist), wait = False)"
   ]
  },
  {
   "cell_type": "code",
   "execution_count": null,
   "id": "af86c76c-3213-4b8e-971f-e332196f4b6e",
   "metadata": {},
   "outputs": [],
   "source": [
    "time.sleep(5*60)"
   ]
  },
  {
   "cell_type": "markdown",
   "id": "1d4593f4-10f2-403b-b686-e9c641c4a283",
   "metadata": {},
   "source": [
    "## Load cell"
   ]
  },
  {
   "cell_type": "code",
   "execution_count": null,
   "id": "74fd5c9f-753c-489a-a098-4823b0530c8d",
   "metadata": {},
   "outputs": [],
   "source": [
    "psl.load_sample(mix_syringe, samples['A1'], 1000)"
   ]
  },
  {
   "cell_type": "code",
   "execution_count": 134,
   "id": "96d78f73-f963-4968-8e2a-7a52ea967be1",
   "metadata": {},
   "outputs": [
    {
     "data": {
      "text/plain": [
       "(200, 50, 20)"
      ]
     },
     "execution_count": 134,
     "metadata": {},
     "output_type": "execute_result"
    }
   ],
   "source": [
    "cell_pos"
   ]
  },
  {
   "cell_type": "code",
   "execution_count": 138,
   "id": "55f42f4b-fce4-466c-8ade-87ee05875620",
   "metadata": {},
   "outputs": [
    {
     "name": "stdout",
     "output_type": "stream",
     "text": [
      "gcode cmd:  G90\n",
      "gcode cmd:  G0  X217.50 Y69.00   F6000.00 \n",
      "gcode cmd:  M400\n"
     ]
    }
   ],
   "source": [
    "jubilee.move_to(x = cell_pos[0], y = cell_pos[1])"
   ]
  },
  {
   "cell_type": "code",
   "execution_count": null,
   "id": "9eba49c0-0315-47b7-bd30-f286618874ba",
   "metadata": {},
   "outputs": [],
   "source": []
  }
 ],
 "metadata": {
  "kernelspec": {
   "display_name": "Python 3 (ipykernel)",
   "language": "python",
   "name": "python3"
  },
  "language_info": {
   "codemirror_mode": {
    "name": "ipython",
    "version": 3
   },
   "file_extension": ".py",
   "mimetype": "text/x-python",
   "name": "python",
   "nbconvert_exporter": "python",
   "pygments_lexer": "ipython3",
   "version": "3.9.19"
  }
 },
 "nbformat": 4,
 "nbformat_minor": 5
}
