{
 "cells": [
  {
   "cell_type": "code",
   "execution_count": 1,
   "id": "ae973f79-8e97-4619-84de-18f4270851ba",
   "metadata": {},
   "outputs": [],
   "source": [
    "%load_ext autoreload\n",
    "%autoreload 2"
   ]
  },
  {
   "cell_type": "code",
   "execution_count": 2,
   "id": "d26b03db-4d97-4405-8ac5-cc325fbc2123",
   "metadata": {},
   "outputs": [],
   "source": [
    "import requests\n",
    "\n",
    "# ----------- Science Jubilee -------------\n",
    "from science_jubilee import Machine as Jub\n",
    "from science_jubilee.tools import HTTPSyringe as syringe\n",
    "from science_jubilee.tools import Pipette\n",
    "import time\n",
    "import numpy as np"
   ]
  },
  {
   "cell_type": "markdown",
   "id": "d05d2cc6-074d-4c91-a6f5-f07bf4de5142",
   "metadata": {},
   "source": [
    "## Machine setup"
   ]
  },
  {
   "cell_type": "code",
   "execution_count": 3,
   "id": "9eeebfa0-00fb-407c-b5c5-6f9678fe1f5d",
   "metadata": {},
   "outputs": [],
   "source": [
    "jubilee = Jub.Machine(address='192.168.1.2', simulated = False) "
   ]
  },
  {
   "cell_type": "code",
   "execution_count": 4,
   "id": "f12e2f1e-1330-4fa7-823c-17bc8995caf4",
   "metadata": {},
   "outputs": [],
   "source": [
    "deck = jubilee.load_deck('lab_automation_deck_AFL_bolton.json')"
   ]
  },
  {
   "cell_type": "code",
   "execution_count": 19,
   "id": "4d72047d-eac0-437a-94b3-b8c89ac22bc0",
   "metadata": {},
   "outputs": [
    {
     "name": "stdout",
     "output_type": "stream",
     "text": [
      "New manual offset applied to septavialrev1_44_holder_2000ul\n"
     ]
    }
   ],
   "source": [
    "samples = jubilee.load_labware('septavialrev1_44_holder_2000ul.json', 2)\n",
    "samples.manual_offset([(19.8,178.1),(132.5,177.6),(132.5,106.6)])"
   ]
  },
  {
   "cell_type": "code",
   "execution_count": null,
   "id": "bda59d3c-4a15-40c8-bdcf-0ed283db8f04",
   "metadata": {},
   "outputs": [],
   "source": []
  },
  {
   "cell_type": "code",
   "execution_count": 6,
   "id": "a1c4f057-89ab-4d0f-ba6b-657c6a13bece",
   "metadata": {},
   "outputs": [],
   "source": [
    "syringe_10 = syringe.HTTPSyringe.from_config(1, \"../science-jubilee/src/science_jubilee/tools/configs/10cc_syringe.json\")\n",
    "syringe_1_1 = syringe.HTTPSyringe.from_config(2, \"../science-jubilee/src/science_jubilee/tools/configs/1cc_1_syringe.json\")"
   ]
  },
  {
   "cell_type": "code",
   "execution_count": 7,
   "id": "b8a8ca8b-0d9d-4111-98ba-2240baa8c588",
   "metadata": {},
   "outputs": [],
   "source": [
    "jubilee.load_tool(syringe_10)\n",
    "jubilee.load_tool(syringe_1_1)"
   ]
  },
  {
   "cell_type": "markdown",
   "id": "920a9852-6ce9-4eb7-84ec-9bbda0d12cab",
   "metadata": {},
   "source": [
    "## Bleed 1cc syringe"
   ]
  },
  {
   "cell_type": "code",
   "execution_count": 22,
   "id": "bcaf571b-24f9-4cc2-931f-e8b8098f85a4",
   "metadata": {},
   "outputs": [
    {
     "name": "stdout",
     "output_type": "stream",
     "text": [
      "Loaded syringe, remaining volume 600 uL\n"
     ]
    }
   ],
   "source": [
    "syringe_1_1.load_syringe(600, 1500)"
   ]
  },
  {
   "cell_type": "code",
   "execution_count": 57,
   "id": "9dcad6a7-8935-40b4-a266-66fa00438f5c",
   "metadata": {},
   "outputs": [],
   "source": [
    "syringe_1_1.set_pulsewidth(syringe_1_1.empty_position-1, s = 2000)"
   ]
  },
  {
   "cell_type": "code",
   "execution_count": 52,
   "id": "260cd721-df76-4a88-9088-5099a21ae431",
   "metadata": {},
   "outputs": [],
   "source": [
    "syringe_1_1.set_pulsewidth(syringe_1_1.full_position+1, s = 10)"
   ]
  },
  {
   "cell_type": "code",
   "execution_count": 54,
   "id": "bc78228b-ea39-4533-a350-0ac45aacce06",
   "metadata": {},
   "outputs": [],
   "source": [
    "syringe_1_1.set_pulsewidth(syringe_1_1.full_position+200, s = 500)"
   ]
  },
  {
   "cell_type": "code",
   "execution_count": 55,
   "id": "5cd744a4-4d68-4cdb-98ce-6ef388ac6307",
   "metadata": {},
   "outputs": [
    {
     "name": "stdout",
     "output_type": "stream",
     "text": [
      "Loaded syringe, remaining volume 800 uL\n"
     ]
    }
   ],
   "source": [
    "syringe_1_1.load_syringe(800, syringe_1_1.full_position+200)"
   ]
  },
  {
   "cell_type": "markdown",
   "id": "d14b29cb-955f-4ea8-8a99-6be4dba1768e",
   "metadata": {},
   "source": [
    "## Run dispenses with 1cc syringe"
   ]
  },
  {
   "cell_type": "code",
   "execution_count": 56,
   "id": "6adca841-ddb0-4a71-8c36-c40b3fd26013",
   "metadata": {},
   "outputs": [],
   "source": [
    "################\n",
    "## modify here ##\n",
    "volume = 500\n",
    "sample_wells = ['F4']#, 'E3', 'E4', 'E5', 'E6']\n",
    "###################\n",
    "jubilee.pickup_tool(syringe_1_1)\n",
    "for well_name in sample_wells:\n",
    "    well = samples[well_name]\n",
    "    syringe_1_1.dispense(volume, well.bottom(+20), s = 10)\n",
    "    time.sleep(3)\n",
    "\n",
    "jubilee.park_tool()\n",
    "    "
   ]
  },
  {
   "cell_type": "code",
   "execution_count": null,
   "id": "3e2238e2-b8d3-4d7b-9b72-deecd390a31c",
   "metadata": {},
   "outputs": [],
   "source": []
  }
 ],
 "metadata": {
  "kernelspec": {
   "display_name": "Python 3 (ipykernel)",
   "language": "python",
   "name": "python3"
  },
  "language_info": {
   "codemirror_mode": {
    "name": "ipython",
    "version": 3
   },
   "file_extension": ".py",
   "mimetype": "text/x-python",
   "name": "python",
   "nbconvert_exporter": "python",
   "pygments_lexer": "ipython3",
   "version": "3.9.19"
  }
 },
 "nbformat": 4,
 "nbformat_minor": 5
}
