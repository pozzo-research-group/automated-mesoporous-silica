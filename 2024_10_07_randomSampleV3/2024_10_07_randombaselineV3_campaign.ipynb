{
 "cells": [
  {
   "cell_type": "markdown",
   "id": "110d0499-187d-47cb-b3bd-52e828f810d0",
   "metadata": {},
   "source": [
    "## Setup"
   ]
  },
  {
   "cell_type": "code",
   "execution_count": 1,
   "id": "023a9737-b2dd-4151-af0b-67ea2aeb7386",
   "metadata": {},
   "outputs": [],
   "source": [
    "%load_ext autoreload\n",
    "%autoreload 2"
   ]
  },
  {
   "cell_type": "code",
   "execution_count": 2,
   "id": "a8305f4f-98d9-46aa-b3a5-aef3875465c8",
   "metadata": {},
   "outputs": [],
   "source": [
    "import requests\n",
    "\n",
    "# ----------- Science Jubilee -------------\n",
    "from science_jubilee import Machine as Jub\n",
    "from science_jubilee.tools import HTTPSyringe as syringe\n",
    "from science_jubilee.tools import Pipette\n",
    "import time\n",
    "import numpy as np\n",
    "import pandas as pd\n",
    "import logging\n",
    "import sys\n",
    "sys.path.append('..')\n",
    "import stober_synthesis_utils as stober"
   ]
  },
  {
   "cell_type": "code",
   "execution_count": 3,
   "id": "39e0dd27-900a-4151-ad77-cae178e545d7",
   "metadata": {},
   "outputs": [],
   "source": [
    "FORMAT = '%(asctime)s:%(levelname)s:%(name)s:%(message)s'\n",
    "logging.basicConfig(filename = '2024_10_09_crashtest.log', level = logging.INFO, format = FORMAT)\n",
    "logger = logging.getLogger(__name__)"
   ]
  },
  {
   "cell_type": "code",
   "execution_count": 4,
   "id": "ec7339a4-f397-424c-b8fe-dadf591dd460",
   "metadata": {},
   "outputs": [
    {
     "data": {
      "text/plain": [
       "<Logger __main__ (INFO)>"
      ]
     },
     "execution_count": 4,
     "metadata": {},
     "output_type": "execute_result"
    }
   ],
   "source": [
    "logger"
   ]
  },
  {
   "cell_type": "code",
   "execution_count": 5,
   "id": "bb05bc51-e88d-493a-b7ae-ec244bab05d1",
   "metadata": {
    "scrolled": true
   },
   "outputs": [],
   "source": [
    "jubilee = Jub.Machine(address='192.168.1.2', simulated = False) "
   ]
  },
  {
   "cell_type": "code",
   "execution_count": 6,
   "id": "be879d07-88f1-44e2-b3ed-9d747dbcf08c",
   "metadata": {},
   "outputs": [],
   "source": [
    "logging.info('test')"
   ]
  },
  {
   "cell_type": "code",
   "execution_count": 7,
   "id": "8c90cdc0-c96e-48c3-972a-03b11576bdc1",
   "metadata": {
    "scrolled": true
   },
   "outputs": [],
   "source": [
    "jubilee.home_all()\n",
    "logger.info('Homed Jubilee')"
   ]
  },
  {
   "cell_type": "code",
   "execution_count": 6,
   "id": "7dd1d29b-638a-4d85-9cf3-986931deae0f",
   "metadata": {},
   "outputs": [],
   "source": [
    "deck = jubilee.load_deck('lab_automation_deck_AFL_bolton.json')"
   ]
  },
  {
   "cell_type": "code",
   "execution_count": 7,
   "id": "475cb5e3-e654-4862-bda5-7331a19949e0",
   "metadata": {},
   "outputs": [],
   "source": [
    "sample_table = pd.read_csv('Sample_table_2024_10_07_randomsampleV3.csv')"
   ]
  },
  {
   "cell_type": "code",
   "execution_count": 8,
   "id": "d0d05dfd-6cff-4a48-bb66-d9c4418091a6",
   "metadata": {},
   "outputs": [
    {
     "data": {
      "text/html": [
       "<div>\n",
       "<style scoped>\n",
       "    .dataframe tbody tr th:only-of-type {\n",
       "        vertical-align: middle;\n",
       "    }\n",
       "\n",
       "    .dataframe tbody tr th {\n",
       "        vertical-align: top;\n",
       "    }\n",
       "\n",
       "    .dataframe thead th {\n",
       "        text-align: right;\n",
       "    }\n",
       "</style>\n",
       "<table border=\"1\" class=\"dataframe\">\n",
       "  <thead>\n",
       "    <tr style=\"text-align: right;\">\n",
       "      <th></th>\n",
       "      <th>Unnamed: 0</th>\n",
       "      <th>uuid</th>\n",
       "      <th>teos_volume</th>\n",
       "      <th>ammonia_volume</th>\n",
       "      <th>water_volume</th>\n",
       "      <th>ethanol_volume</th>\n",
       "      <th>dilution_volume_fraction</th>\n",
       "      <th>silica_mass_conc</th>\n",
       "      <th>silica_mass_fraction</th>\n",
       "      <th>well</th>\n",
       "    </tr>\n",
       "  </thead>\n",
       "  <tbody>\n",
       "    <tr>\n",
       "      <th>0</th>\n",
       "      <td>0</td>\n",
       "      <td>6abcfcc8-cf8d-4a5e-a92f-f3afd8023fbd</td>\n",
       "      <td>127.000499</td>\n",
       "      <td>157.643741</td>\n",
       "      <td>59.867941</td>\n",
       "      <td>1355.487819</td>\n",
       "      <td>0.143419</td>\n",
       "      <td>20.107795</td>\n",
       "      <td>0.024591</td>\n",
       "      <td>A1</td>\n",
       "    </tr>\n",
       "    <tr>\n",
       "      <th>1</th>\n",
       "      <td>1</td>\n",
       "      <td>8559907a-1b27-4673-ae0e-602b83d86deb</td>\n",
       "      <td>23.367555</td>\n",
       "      <td>32.593166</td>\n",
       "      <td>18.964661</td>\n",
       "      <td>1625.074618</td>\n",
       "      <td>0.779469</td>\n",
       "      <td>3.699749</td>\n",
       "      <td>0.004650</td>\n",
       "      <td>A2</td>\n",
       "    </tr>\n",
       "    <tr>\n",
       "      <th>2</th>\n",
       "      <td>2</td>\n",
       "      <td>b683d769-9cd7-454a-b546-4e86afe5e3f4</td>\n",
       "      <td>38.570242</td>\n",
       "      <td>137.340360</td>\n",
       "      <td>186.478240</td>\n",
       "      <td>1337.611158</td>\n",
       "      <td>0.472237</td>\n",
       "      <td>6.106767</td>\n",
       "      <td>0.007407</td>\n",
       "      <td>A3</td>\n",
       "    </tr>\n",
       "    <tr>\n",
       "      <th>3</th>\n",
       "      <td>3</td>\n",
       "      <td>a6974af8-5b2d-431a-94df-d35c0be3ee54</td>\n",
       "      <td>107.903925</td>\n",
       "      <td>91.498603</td>\n",
       "      <td>93.287086</td>\n",
       "      <td>1407.310386</td>\n",
       "      <td>0.168801</td>\n",
       "      <td>17.084263</td>\n",
       "      <td>0.020940</td>\n",
       "      <td>A4</td>\n",
       "    </tr>\n",
       "    <tr>\n",
       "      <th>4</th>\n",
       "      <td>4</td>\n",
       "      <td>81f8f6c2-0e42-4680-bc11-c0be02bfd641</td>\n",
       "      <td>143.157676</td>\n",
       "      <td>177.119777</td>\n",
       "      <td>170.281281</td>\n",
       "      <td>1209.441267</td>\n",
       "      <td>0.127232</td>\n",
       "      <td>22.665936</td>\n",
       "      <td>0.027180</td>\n",
       "      <td>A5</td>\n",
       "    </tr>\n",
       "    <tr>\n",
       "      <th>5</th>\n",
       "      <td>5</td>\n",
       "      <td>f5e32498-0689-4e74-9a45-9c17edf776b9</td>\n",
       "      <td>146.378606</td>\n",
       "      <td>130.175842</td>\n",
       "      <td>34.756283</td>\n",
       "      <td>1388.689270</td>\n",
       "      <td>0.124433</td>\n",
       "      <td>23.175901</td>\n",
       "      <td>0.028456</td>\n",
       "      <td>A6</td>\n",
       "    </tr>\n",
       "    <tr>\n",
       "      <th>6</th>\n",
       "      <td>6</td>\n",
       "      <td>1c809d50-4605-4865-aa13-13649203ede8</td>\n",
       "      <td>205.127377</td>\n",
       "      <td>67.974333</td>\n",
       "      <td>228.268729</td>\n",
       "      <td>1198.629561</td>\n",
       "      <td>0.088795</td>\n",
       "      <td>32.477504</td>\n",
       "      <td>0.038701</td>\n",
       "      <td>A7</td>\n",
       "    </tr>\n",
       "    <tr>\n",
       "      <th>7</th>\n",
       "      <td>7</td>\n",
       "      <td>fe8e4a28-cb6b-4396-adc3-a51f49838d54</td>\n",
       "      <td>69.179573</td>\n",
       "      <td>19.290491</td>\n",
       "      <td>32.984592</td>\n",
       "      <td>1578.545345</td>\n",
       "      <td>0.263290</td>\n",
       "      <td>10.953096</td>\n",
       "      <td>0.013684</td>\n",
       "      <td>A8</td>\n",
       "    </tr>\n",
       "    <tr>\n",
       "      <th>8</th>\n",
       "      <td>8</td>\n",
       "      <td>89b8593e-8436-4dfb-8430-1367d273cbc2</td>\n",
       "      <td>19.326118</td>\n",
       "      <td>48.380130</td>\n",
       "      <td>160.406202</td>\n",
       "      <td>1471.887550</td>\n",
       "      <td>0.942470</td>\n",
       "      <td>3.059875</td>\n",
       "      <td>0.003760</td>\n",
       "      <td>B1</td>\n",
       "    </tr>\n",
       "    <tr>\n",
       "      <th>9</th>\n",
       "      <td>9</td>\n",
       "      <td>403cbac3-a2e0-44f0-aca4-9313b8775a4e</td>\n",
       "      <td>83.071168</td>\n",
       "      <td>102.074192</td>\n",
       "      <td>41.693625</td>\n",
       "      <td>1473.161015</td>\n",
       "      <td>0.219261</td>\n",
       "      <td>13.152531</td>\n",
       "      <td>0.016276</td>\n",
       "      <td>B3</td>\n",
       "    </tr>\n",
       "    <tr>\n",
       "      <th>10</th>\n",
       "      <td>10</td>\n",
       "      <td>47d95862-b511-4a42-b8b1-961b605f26a3</td>\n",
       "      <td>90.821445</td>\n",
       "      <td>13.532396</td>\n",
       "      <td>120.984736</td>\n",
       "      <td>1474.661422</td>\n",
       "      <td>0.200550</td>\n",
       "      <td>14.379621</td>\n",
       "      <td>0.017693</td>\n",
       "      <td>B4</td>\n",
       "    </tr>\n",
       "    <tr>\n",
       "      <th>11</th>\n",
       "      <td>11</td>\n",
       "      <td>649ddf37-37fe-4a30-896b-010286133a28</td>\n",
       "      <td>229.965296</td>\n",
       "      <td>158.889892</td>\n",
       "      <td>58.546510</td>\n",
       "      <td>1252.598302</td>\n",
       "      <td>0.079204</td>\n",
       "      <td>36.410054</td>\n",
       "      <td>0.044062</td>\n",
       "      <td>B5</td>\n",
       "    </tr>\n",
       "    <tr>\n",
       "      <th>12</th>\n",
       "      <td>12</td>\n",
       "      <td>a9d67fc5-2e59-4f51-a904-9cac957c9e73</td>\n",
       "      <td>80.173004</td>\n",
       "      <td>36.708232</td>\n",
       "      <td>40.449225</td>\n",
       "      <td>1542.669538</td>\n",
       "      <td>0.227187</td>\n",
       "      <td>12.693669</td>\n",
       "      <td>0.015799</td>\n",
       "      <td>B6</td>\n",
       "    </tr>\n",
       "    <tr>\n",
       "      <th>13</th>\n",
       "      <td>13</td>\n",
       "      <td>5d67ff81-9548-4a2f-9496-5d3c3c25b3eb</td>\n",
       "      <td>238.391847</td>\n",
       "      <td>121.696297</td>\n",
       "      <td>216.011370</td>\n",
       "      <td>1123.900486</td>\n",
       "      <td>0.076405</td>\n",
       "      <td>37.744216</td>\n",
       "      <td>0.044720</td>\n",
       "      <td>B8</td>\n",
       "    </tr>\n",
       "    <tr>\n",
       "      <th>14</th>\n",
       "      <td>14</td>\n",
       "      <td>289532b3-a4c8-4db7-93ff-9edc14d5d2c8</td>\n",
       "      <td>100.720734</td>\n",
       "      <td>56.410039</td>\n",
       "      <td>229.213855</td>\n",
       "      <td>1313.655373</td>\n",
       "      <td>0.180839</td>\n",
       "      <td>15.946960</td>\n",
       "      <td>0.019220</td>\n",
       "      <td>C1</td>\n",
       "    </tr>\n",
       "    <tr>\n",
       "      <th>15</th>\n",
       "      <td>15</td>\n",
       "      <td>43cd6089-f940-463f-bd40-a1f2bf168f67</td>\n",
       "      <td>63.326538</td>\n",
       "      <td>104.920408</td>\n",
       "      <td>116.357427</td>\n",
       "      <td>1415.395628</td>\n",
       "      <td>0.287625</td>\n",
       "      <td>10.026394</td>\n",
       "      <td>0.012290</td>\n",
       "      <td>C2</td>\n",
       "    </tr>\n",
       "    <tr>\n",
       "      <th>16</th>\n",
       "      <td>16</td>\n",
       "      <td>fedab157-3d87-4f8b-b09b-590c966aa0ba</td>\n",
       "      <td>79.174558</td>\n",
       "      <td>63.512307</td>\n",
       "      <td>236.203452</td>\n",
       "      <td>1321.109683</td>\n",
       "      <td>0.230052</td>\n",
       "      <td>12.535587</td>\n",
       "      <td>0.015118</td>\n",
       "      <td>C3</td>\n",
       "    </tr>\n",
       "    <tr>\n",
       "      <th>17</th>\n",
       "      <td>17</td>\n",
       "      <td>48117328-d486-4f9f-96ab-b0034fe30cd5</td>\n",
       "      <td>213.960233</td>\n",
       "      <td>37.943678</td>\n",
       "      <td>109.143685</td>\n",
       "      <td>1338.952404</td>\n",
       "      <td>0.085129</td>\n",
       "      <td>33.875996</td>\n",
       "      <td>0.041146</td>\n",
       "      <td>C4</td>\n",
       "    </tr>\n",
       "    <tr>\n",
       "      <th>18</th>\n",
       "      <td>18</td>\n",
       "      <td>2027f32f-4921-4edd-95bb-849ab8220e8c</td>\n",
       "      <td>136.050417</td>\n",
       "      <td>77.735212</td>\n",
       "      <td>163.253807</td>\n",
       "      <td>1322.960564</td>\n",
       "      <td>0.133879</td>\n",
       "      <td>21.540654</td>\n",
       "      <td>0.026079</td>\n",
       "      <td>C5</td>\n",
       "    </tr>\n",
       "    <tr>\n",
       "      <th>19</th>\n",
       "      <td>19</td>\n",
       "      <td>1e52819b-5c95-48c2-8f70-d460a28eff49</td>\n",
       "      <td>207.601998</td>\n",
       "      <td>178.070892</td>\n",
       "      <td>45.094509</td>\n",
       "      <td>1269.232601</td>\n",
       "      <td>0.087737</td>\n",
       "      <td>32.869307</td>\n",
       "      <td>0.039888</td>\n",
       "      <td>C6</td>\n",
       "    </tr>\n",
       "    <tr>\n",
       "      <th>20</th>\n",
       "      <td>20</td>\n",
       "      <td>ecc20fb9-daca-4f65-97ce-f1329696f7ec</td>\n",
       "      <td>32.662672</td>\n",
       "      <td>146.576194</td>\n",
       "      <td>137.530597</td>\n",
       "      <td>1383.230537</td>\n",
       "      <td>0.557648</td>\n",
       "      <td>5.171431</td>\n",
       "      <td>0.006318</td>\n",
       "      <td>C7</td>\n",
       "    </tr>\n",
       "    <tr>\n",
       "      <th>21</th>\n",
       "      <td>21</td>\n",
       "      <td>f59733f7-c03c-4712-934e-fb6ea464b604</td>\n",
       "      <td>31.895007</td>\n",
       "      <td>130.294617</td>\n",
       "      <td>89.353139</td>\n",
       "      <td>1448.457237</td>\n",
       "      <td>0.571070</td>\n",
       "      <td>5.049888</td>\n",
       "      <td>0.006223</td>\n",
       "      <td>C8</td>\n",
       "    </tr>\n",
       "    <tr>\n",
       "      <th>22</th>\n",
       "      <td>22</td>\n",
       "      <td>c2755e87-75e2-48c6-b27a-739971d1775c</td>\n",
       "      <td>78.227902</td>\n",
       "      <td>134.935603</td>\n",
       "      <td>66.516484</td>\n",
       "      <td>1420.320011</td>\n",
       "      <td>0.232836</td>\n",
       "      <td>12.385704</td>\n",
       "      <td>0.015236</td>\n",
       "      <td>D1</td>\n",
       "    </tr>\n",
       "    <tr>\n",
       "      <th>23</th>\n",
       "      <td>23</td>\n",
       "      <td>2a988138-57f5-40bf-851c-3df09f642f05</td>\n",
       "      <td>93.963429</td>\n",
       "      <td>53.954639</td>\n",
       "      <td>129.829723</td>\n",
       "      <td>1422.252209</td>\n",
       "      <td>0.193844</td>\n",
       "      <td>14.877086</td>\n",
       "      <td>0.018215</td>\n",
       "      <td>D2</td>\n",
       "    </tr>\n",
       "    <tr>\n",
       "      <th>24</th>\n",
       "      <td>24</td>\n",
       "      <td>0d339e3d-c04d-4f61-8cb0-2fd1f18006e9</td>\n",
       "      <td>34.809373</td>\n",
       "      <td>115.622550</td>\n",
       "      <td>136.558375</td>\n",
       "      <td>1413.009702</td>\n",
       "      <td>0.523258</td>\n",
       "      <td>5.511315</td>\n",
       "      <td>0.006749</td>\n",
       "      <td>D3</td>\n",
       "    </tr>\n",
       "    <tr>\n",
       "      <th>25</th>\n",
       "      <td>25</td>\n",
       "      <td>320cdd85-691d-48fb-9eac-d27b2fc5e5f5</td>\n",
       "      <td>222.508639</td>\n",
       "      <td>10.347905</td>\n",
       "      <td>136.580988</td>\n",
       "      <td>1330.562468</td>\n",
       "      <td>0.081859</td>\n",
       "      <td>35.229452</td>\n",
       "      <td>0.042671</td>\n",
       "      <td>D4</td>\n",
       "    </tr>\n",
       "    <tr>\n",
       "      <th>26</th>\n",
       "      <td>26</td>\n",
       "      <td>a9ad98c9-82d7-4c69-851e-56ddb16bd5f5</td>\n",
       "      <td>185.541494</td>\n",
       "      <td>121.305703</td>\n",
       "      <td>91.558783</td>\n",
       "      <td>1301.594020</td>\n",
       "      <td>0.098168</td>\n",
       "      <td>29.376501</td>\n",
       "      <td>0.035643</td>\n",
       "      <td>D5</td>\n",
       "    </tr>\n",
       "    <tr>\n",
       "      <th>27</th>\n",
       "      <td>27</td>\n",
       "      <td>bf04b495-3291-4508-a497-e6d96dc52362</td>\n",
       "      <td>150.042999</td>\n",
       "      <td>31.670999</td>\n",
       "      <td>156.004950</td>\n",
       "      <td>1362.281052</td>\n",
       "      <td>0.121394</td>\n",
       "      <td>23.756079</td>\n",
       "      <td>0.028856</td>\n",
       "      <td>D6</td>\n",
       "    </tr>\n",
       "    <tr>\n",
       "      <th>28</th>\n",
       "      <td>28</td>\n",
       "      <td>f5458994-6b3e-4176-9427-7cef2bb6c7d5</td>\n",
       "      <td>183.750916</td>\n",
       "      <td>76.544887</td>\n",
       "      <td>18.999017</td>\n",
       "      <td>1420.705179</td>\n",
       "      <td>0.099125</td>\n",
       "      <td>29.093002</td>\n",
       "      <td>0.035821</td>\n",
       "      <td>D7</td>\n",
       "    </tr>\n",
       "    <tr>\n",
       "      <th>29</th>\n",
       "      <td>29</td>\n",
       "      <td>3ae01d8c-6757-4aa4-8701-a4f231f6a81c</td>\n",
       "      <td>68.290576</td>\n",
       "      <td>93.940491</td>\n",
       "      <td>85.887345</td>\n",
       "      <td>1451.881589</td>\n",
       "      <td>0.266717</td>\n",
       "      <td>10.812342</td>\n",
       "      <td>0.013320</td>\n",
       "      <td>D8</td>\n",
       "    </tr>\n",
       "    <tr>\n",
       "      <th>30</th>\n",
       "      <td>30</td>\n",
       "      <td>9aed2e5c-7127-46bd-8331-51407d127d8f</td>\n",
       "      <td>152.070930</td>\n",
       "      <td>52.733501</td>\n",
       "      <td>102.305772</td>\n",
       "      <td>1392.889797</td>\n",
       "      <td>0.119775</td>\n",
       "      <td>24.077158</td>\n",
       "      <td>0.029427</td>\n",
       "      <td>E1</td>\n",
       "    </tr>\n",
       "    <tr>\n",
       "      <th>31</th>\n",
       "      <td>31</td>\n",
       "      <td>48c60f84-a45b-4017-9430-12b3234fdc0e</td>\n",
       "      <td>164.006821</td>\n",
       "      <td>168.066902</td>\n",
       "      <td>240.532997</td>\n",
       "      <td>1127.393280</td>\n",
       "      <td>0.111058</td>\n",
       "      <td>25.966949</td>\n",
       "      <td>0.030776</td>\n",
       "      <td>E3</td>\n",
       "    </tr>\n",
       "    <tr>\n",
       "      <th>32</th>\n",
       "      <td>32</td>\n",
       "      <td>5175dc78-a900-486e-8b14-6b0441555fe2</td>\n",
       "      <td>138.787911</td>\n",
       "      <td>124.847674</td>\n",
       "      <td>165.157363</td>\n",
       "      <td>1271.207052</td>\n",
       "      <td>0.131238</td>\n",
       "      <td>21.974078</td>\n",
       "      <td>0.026490</td>\n",
       "      <td>E4</td>\n",
       "    </tr>\n",
       "    <tr>\n",
       "      <th>33</th>\n",
       "      <td>33</td>\n",
       "      <td>9694a191-11f7-482c-bb4c-e119489126a4</td>\n",
       "      <td>79.933839</td>\n",
       "      <td>154.241547</td>\n",
       "      <td>162.558164</td>\n",
       "      <td>1303.266450</td>\n",
       "      <td>0.227867</td>\n",
       "      <td>12.655802</td>\n",
       "      <td>0.015319</td>\n",
       "      <td>E5</td>\n",
       "    </tr>\n",
       "    <tr>\n",
       "      <th>34</th>\n",
       "      <td>34</td>\n",
       "      <td>2a0a2e87-67a7-401a-943d-423159a4a939</td>\n",
       "      <td>238.503837</td>\n",
       "      <td>60.767154</td>\n",
       "      <td>222.636539</td>\n",
       "      <td>1178.092471</td>\n",
       "      <td>0.076369</td>\n",
       "      <td>37.761948</td>\n",
       "      <td>0.044909</td>\n",
       "      <td>E6</td>\n",
       "    </tr>\n",
       "    <tr>\n",
       "      <th>35</th>\n",
       "      <td>35</td>\n",
       "      <td>9b9c349b-8f9d-4f0c-829c-fa99e67e90fb</td>\n",
       "      <td>63.148878</td>\n",
       "      <td>82.511066</td>\n",
       "      <td>119.578941</td>\n",
       "      <td>1434.761115</td>\n",
       "      <td>0.288434</td>\n",
       "      <td>9.998265</td>\n",
       "      <td>0.012272</td>\n",
       "      <td>E8</td>\n",
       "    </tr>\n",
       "    <tr>\n",
       "      <th>36</th>\n",
       "      <td>36</td>\n",
       "      <td>ff3ac045-3c39-4fb0-b2c9-bf69d7600548</td>\n",
       "      <td>183.497867</td>\n",
       "      <td>78.521888</td>\n",
       "      <td>183.477119</td>\n",
       "      <td>1254.503126</td>\n",
       "      <td>0.099262</td>\n",
       "      <td>29.052937</td>\n",
       "      <td>0.034897</td>\n",
       "      <td>F1</td>\n",
       "    </tr>\n",
       "    <tr>\n",
       "      <th>37</th>\n",
       "      <td>37</td>\n",
       "      <td>1edc0740-a22f-4216-bd49-d80627b2fb63</td>\n",
       "      <td>234.048146</td>\n",
       "      <td>98.087723</td>\n",
       "      <td>9.360751</td>\n",
       "      <td>1358.503380</td>\n",
       "      <td>0.077823</td>\n",
       "      <td>37.056485</td>\n",
       "      <td>0.045376</td>\n",
       "      <td>F2</td>\n",
       "    </tr>\n",
       "    <tr>\n",
       "      <th>38</th>\n",
       "      <td>38</td>\n",
       "      <td>5452fa4a-b64c-46d7-ace2-bf1b31afc3b3</td>\n",
       "      <td>161.957486</td>\n",
       "      <td>64.063945</td>\n",
       "      <td>250.673888</td>\n",
       "      <td>1223.304681</td>\n",
       "      <td>0.112463</td>\n",
       "      <td>25.642481</td>\n",
       "      <td>0.030598</td>\n",
       "      <td>F3</td>\n",
       "    </tr>\n",
       "    <tr>\n",
       "      <th>39</th>\n",
       "      <td>39</td>\n",
       "      <td>5edc0763-1f2c-44f2-bf68-db785ae258b0</td>\n",
       "      <td>85.988615</td>\n",
       "      <td>178.398139</td>\n",
       "      <td>108.319297</td>\n",
       "      <td>1327.293949</td>\n",
       "      <td>0.211822</td>\n",
       "      <td>13.614446</td>\n",
       "      <td>0.016572</td>\n",
       "      <td>F4</td>\n",
       "    </tr>\n",
       "  </tbody>\n",
       "</table>\n",
       "</div>"
      ],
      "text/plain": [
       "    Unnamed: 0                                  uuid  teos_volume  \\\n",
       "0            0  6abcfcc8-cf8d-4a5e-a92f-f3afd8023fbd   127.000499   \n",
       "1            1  8559907a-1b27-4673-ae0e-602b83d86deb    23.367555   \n",
       "2            2  b683d769-9cd7-454a-b546-4e86afe5e3f4    38.570242   \n",
       "3            3  a6974af8-5b2d-431a-94df-d35c0be3ee54   107.903925   \n",
       "4            4  81f8f6c2-0e42-4680-bc11-c0be02bfd641   143.157676   \n",
       "5            5  f5e32498-0689-4e74-9a45-9c17edf776b9   146.378606   \n",
       "6            6  1c809d50-4605-4865-aa13-13649203ede8   205.127377   \n",
       "7            7  fe8e4a28-cb6b-4396-adc3-a51f49838d54    69.179573   \n",
       "8            8  89b8593e-8436-4dfb-8430-1367d273cbc2    19.326118   \n",
       "9            9  403cbac3-a2e0-44f0-aca4-9313b8775a4e    83.071168   \n",
       "10          10  47d95862-b511-4a42-b8b1-961b605f26a3    90.821445   \n",
       "11          11  649ddf37-37fe-4a30-896b-010286133a28   229.965296   \n",
       "12          12  a9d67fc5-2e59-4f51-a904-9cac957c9e73    80.173004   \n",
       "13          13  5d67ff81-9548-4a2f-9496-5d3c3c25b3eb   238.391847   \n",
       "14          14  289532b3-a4c8-4db7-93ff-9edc14d5d2c8   100.720734   \n",
       "15          15  43cd6089-f940-463f-bd40-a1f2bf168f67    63.326538   \n",
       "16          16  fedab157-3d87-4f8b-b09b-590c966aa0ba    79.174558   \n",
       "17          17  48117328-d486-4f9f-96ab-b0034fe30cd5   213.960233   \n",
       "18          18  2027f32f-4921-4edd-95bb-849ab8220e8c   136.050417   \n",
       "19          19  1e52819b-5c95-48c2-8f70-d460a28eff49   207.601998   \n",
       "20          20  ecc20fb9-daca-4f65-97ce-f1329696f7ec    32.662672   \n",
       "21          21  f59733f7-c03c-4712-934e-fb6ea464b604    31.895007   \n",
       "22          22  c2755e87-75e2-48c6-b27a-739971d1775c    78.227902   \n",
       "23          23  2a988138-57f5-40bf-851c-3df09f642f05    93.963429   \n",
       "24          24  0d339e3d-c04d-4f61-8cb0-2fd1f18006e9    34.809373   \n",
       "25          25  320cdd85-691d-48fb-9eac-d27b2fc5e5f5   222.508639   \n",
       "26          26  a9ad98c9-82d7-4c69-851e-56ddb16bd5f5   185.541494   \n",
       "27          27  bf04b495-3291-4508-a497-e6d96dc52362   150.042999   \n",
       "28          28  f5458994-6b3e-4176-9427-7cef2bb6c7d5   183.750916   \n",
       "29          29  3ae01d8c-6757-4aa4-8701-a4f231f6a81c    68.290576   \n",
       "30          30  9aed2e5c-7127-46bd-8331-51407d127d8f   152.070930   \n",
       "31          31  48c60f84-a45b-4017-9430-12b3234fdc0e   164.006821   \n",
       "32          32  5175dc78-a900-486e-8b14-6b0441555fe2   138.787911   \n",
       "33          33  9694a191-11f7-482c-bb4c-e119489126a4    79.933839   \n",
       "34          34  2a0a2e87-67a7-401a-943d-423159a4a939   238.503837   \n",
       "35          35  9b9c349b-8f9d-4f0c-829c-fa99e67e90fb    63.148878   \n",
       "36          36  ff3ac045-3c39-4fb0-b2c9-bf69d7600548   183.497867   \n",
       "37          37  1edc0740-a22f-4216-bd49-d80627b2fb63   234.048146   \n",
       "38          38  5452fa4a-b64c-46d7-ace2-bf1b31afc3b3   161.957486   \n",
       "39          39  5edc0763-1f2c-44f2-bf68-db785ae258b0    85.988615   \n",
       "\n",
       "    ammonia_volume  water_volume  ethanol_volume  dilution_volume_fraction  \\\n",
       "0       157.643741     59.867941     1355.487819                  0.143419   \n",
       "1        32.593166     18.964661     1625.074618                  0.779469   \n",
       "2       137.340360    186.478240     1337.611158                  0.472237   \n",
       "3        91.498603     93.287086     1407.310386                  0.168801   \n",
       "4       177.119777    170.281281     1209.441267                  0.127232   \n",
       "5       130.175842     34.756283     1388.689270                  0.124433   \n",
       "6        67.974333    228.268729     1198.629561                  0.088795   \n",
       "7        19.290491     32.984592     1578.545345                  0.263290   \n",
       "8        48.380130    160.406202     1471.887550                  0.942470   \n",
       "9       102.074192     41.693625     1473.161015                  0.219261   \n",
       "10       13.532396    120.984736     1474.661422                  0.200550   \n",
       "11      158.889892     58.546510     1252.598302                  0.079204   \n",
       "12       36.708232     40.449225     1542.669538                  0.227187   \n",
       "13      121.696297    216.011370     1123.900486                  0.076405   \n",
       "14       56.410039    229.213855     1313.655373                  0.180839   \n",
       "15      104.920408    116.357427     1415.395628                  0.287625   \n",
       "16       63.512307    236.203452     1321.109683                  0.230052   \n",
       "17       37.943678    109.143685     1338.952404                  0.085129   \n",
       "18       77.735212    163.253807     1322.960564                  0.133879   \n",
       "19      178.070892     45.094509     1269.232601                  0.087737   \n",
       "20      146.576194    137.530597     1383.230537                  0.557648   \n",
       "21      130.294617     89.353139     1448.457237                  0.571070   \n",
       "22      134.935603     66.516484     1420.320011                  0.232836   \n",
       "23       53.954639    129.829723     1422.252209                  0.193844   \n",
       "24      115.622550    136.558375     1413.009702                  0.523258   \n",
       "25       10.347905    136.580988     1330.562468                  0.081859   \n",
       "26      121.305703     91.558783     1301.594020                  0.098168   \n",
       "27       31.670999    156.004950     1362.281052                  0.121394   \n",
       "28       76.544887     18.999017     1420.705179                  0.099125   \n",
       "29       93.940491     85.887345     1451.881589                  0.266717   \n",
       "30       52.733501    102.305772     1392.889797                  0.119775   \n",
       "31      168.066902    240.532997     1127.393280                  0.111058   \n",
       "32      124.847674    165.157363     1271.207052                  0.131238   \n",
       "33      154.241547    162.558164     1303.266450                  0.227867   \n",
       "34       60.767154    222.636539     1178.092471                  0.076369   \n",
       "35       82.511066    119.578941     1434.761115                  0.288434   \n",
       "36       78.521888    183.477119     1254.503126                  0.099262   \n",
       "37       98.087723      9.360751     1358.503380                  0.077823   \n",
       "38       64.063945    250.673888     1223.304681                  0.112463   \n",
       "39      178.398139    108.319297     1327.293949                  0.211822   \n",
       "\n",
       "    silica_mass_conc  silica_mass_fraction well  \n",
       "0          20.107795              0.024591   A1  \n",
       "1           3.699749              0.004650   A2  \n",
       "2           6.106767              0.007407   A3  \n",
       "3          17.084263              0.020940   A4  \n",
       "4          22.665936              0.027180   A5  \n",
       "5          23.175901              0.028456   A6  \n",
       "6          32.477504              0.038701   A7  \n",
       "7          10.953096              0.013684   A8  \n",
       "8           3.059875              0.003760   B1  \n",
       "9          13.152531              0.016276   B3  \n",
       "10         14.379621              0.017693   B4  \n",
       "11         36.410054              0.044062   B5  \n",
       "12         12.693669              0.015799   B6  \n",
       "13         37.744216              0.044720   B8  \n",
       "14         15.946960              0.019220   C1  \n",
       "15         10.026394              0.012290   C2  \n",
       "16         12.535587              0.015118   C3  \n",
       "17         33.875996              0.041146   C4  \n",
       "18         21.540654              0.026079   C5  \n",
       "19         32.869307              0.039888   C6  \n",
       "20          5.171431              0.006318   C7  \n",
       "21          5.049888              0.006223   C8  \n",
       "22         12.385704              0.015236   D1  \n",
       "23         14.877086              0.018215   D2  \n",
       "24          5.511315              0.006749   D3  \n",
       "25         35.229452              0.042671   D4  \n",
       "26         29.376501              0.035643   D5  \n",
       "27         23.756079              0.028856   D6  \n",
       "28         29.093002              0.035821   D7  \n",
       "29         10.812342              0.013320   D8  \n",
       "30         24.077158              0.029427   E1  \n",
       "31         25.966949              0.030776   E3  \n",
       "32         21.974078              0.026490   E4  \n",
       "33         12.655802              0.015319   E5  \n",
       "34         37.761948              0.044909   E6  \n",
       "35          9.998265              0.012272   E8  \n",
       "36         29.052937              0.034897   F1  \n",
       "37         37.056485              0.045376   F2  \n",
       "38         25.642481              0.030598   F3  \n",
       "39         13.614446              0.016572   F4  "
      ]
     },
     "execution_count": 8,
     "metadata": {},
     "output_type": "execute_result"
    }
   ],
   "source": [
    "sample_table"
   ]
  },
  {
   "cell_type": "code",
   "execution_count": 9,
   "id": "9b530793-b2a2-4f5d-9825-b4d8c2028d96",
   "metadata": {},
   "outputs": [
    {
     "data": {
      "text/plain": [
       "{'teos_count': 1, 'ammonia_count': 1, 'water_count': 1, 'ethanol_count': 4}"
      ]
     },
     "execution_count": 9,
     "metadata": {},
     "output_type": "execute_result"
    }
   ],
   "source": [
    "stober.count_stock_vials(sample_table, 15000)"
   ]
  },
  {
   "cell_type": "markdown",
   "id": "b8f140ff-c5f8-494d-bd58-093982edd086",
   "metadata": {},
   "source": [
    "## Load Tools"
   ]
  },
  {
   "cell_type": "code",
   "execution_count": 10,
   "id": "d73bac24-917c-4c8c-8c30-494146511312",
   "metadata": {},
   "outputs": [],
   "source": [
    "syringe_10 = syringe.HTTPSyringe.from_config(1, \"../../science-jubilee/src/science_jubilee/tools/configs/10cc_syringe.json\")\n",
    "syringe_1_1 = syringe.HTTPSyringe.from_config(2, \"../../science-jubilee/src/science_jubilee/tools/configs/1cc_1_syringe.json\")\n",
    "syringe_1_2 = syringe.HTTPSyringe.from_config(3, \"../../science-jubilee/src/science_jubilee/tools/configs/1cc_2_syringe.json\")\n",
    "syringe_1_3 = syringe.HTTPSyringe.from_config(4, \"../../science-jubilee/src/science_jubilee/tools/configs/1cc_3_syringe.json\")"
   ]
  },
  {
   "cell_type": "code",
   "execution_count": 11,
   "id": "9448524a-f60e-43fd-ae53-0a51c87e6035",
   "metadata": {
    "scrolled": true
   },
   "outputs": [],
   "source": [
    "jubilee.load_tool(syringe_10)\n",
    "jubilee.load_tool(syringe_1_1)\n",
    "jubilee.load_tool(syringe_1_2)\n",
    "jubilee.load_tool(syringe_1_3)"
   ]
  },
  {
   "cell_type": "code",
   "execution_count": 12,
   "id": "21127bbe-632c-4ec0-84f9-57d9772a90db",
   "metadata": {},
   "outputs": [],
   "source": [
    "mix_syringe = syringe_10\n",
    "water_syringe = syringe_1_1\n",
    "ammonia_syringe = syringe_1_2\n",
    "teos_syringe = syringe_1_3"
   ]
  },
  {
   "cell_type": "markdown",
   "id": "e1d880ae-d253-43f5-995f-d2619e29c78a",
   "metadata": {},
   "source": [
    "## Load water syringe with water"
   ]
  },
  {
   "cell_type": "code",
   "execution_count": 13,
   "id": "c2c5387a-b52d-4fd9-97b4-c69ae21a0c12",
   "metadata": {},
   "outputs": [
    {
     "name": "stdout",
     "output_type": "stream",
     "text": [
      "Loaded syringe, remaining volume 600 uL\n"
     ]
    }
   ],
   "source": [
    "water_syringe.load_syringe(600, 1500)"
   ]
  },
  {
   "cell_type": "code",
   "execution_count": 16,
   "id": "de905209-1c7b-49f5-8d35-1fd8092ec72f",
   "metadata": {
    "scrolled": true
   },
   "outputs": [],
   "source": [
    "water_syringe.set_pulsewidth(water_syringe.empty_position-1, s = 2000)"
   ]
  },
  {
   "cell_type": "code",
   "execution_count": 17,
   "id": "3ded8ddd-1034-4679-804b-1a9d6d47b3b6",
   "metadata": {},
   "outputs": [],
   "source": [
    "water_syringe.set_pulsewidth(water_syringe.full_position+1, s = 10)"
   ]
  },
  {
   "cell_type": "code",
   "execution_count": 14,
   "id": "1bb6d726-e6f0-435e-916a-717d8231ed4d",
   "metadata": {},
   "outputs": [],
   "source": [
    "water_syringe.set_pulsewidth(water_syringe.full_position+150, s = 500)"
   ]
  },
  {
   "cell_type": "code",
   "execution_count": 15,
   "id": "80aff25d-bae2-478d-bc07-4b4f11bd5e05",
   "metadata": {},
   "outputs": [
    {
     "name": "stdout",
     "output_type": "stream",
     "text": [
      "Loaded syringe, remaining volume 750 uL\n"
     ]
    }
   ],
   "source": [
    "water_syringe.load_syringe(750, water_syringe.full_position+150)"
   ]
  },
  {
   "cell_type": "markdown",
   "id": "8ea5df3b-0ad5-4dbb-ad3f-089a2d5f2bd1",
   "metadata": {},
   "source": [
    "## Load ammonia syringe"
   ]
  },
  {
   "cell_type": "code",
   "execution_count": 16,
   "id": "87a366e4-d389-4830-b923-0a932968add9",
   "metadata": {},
   "outputs": [],
   "source": [
    "ammonia_syringe.set_pulsewidth(1420, s = 10)"
   ]
  },
  {
   "cell_type": "code",
   "execution_count": 21,
   "id": "2577d8b0-b404-4e92-8480-89ecc9cfb9cb",
   "metadata": {},
   "outputs": [
    {
     "name": "stdout",
     "output_type": "stream",
     "text": [
      "Loaded syringe, remaining volume 600 uL\n"
     ]
    }
   ],
   "source": [
    "ammonia_syringe.load_syringe(600, 1500)"
   ]
  },
  {
   "cell_type": "code",
   "execution_count": 22,
   "id": "73b9205b-4f97-47a7-aad4-cb252a6726ec",
   "metadata": {},
   "outputs": [],
   "source": [
    "ammonia_syringe.set_pulsewidth(ammonia_syringe.empty_position-1, s = 2000)"
   ]
  },
  {
   "cell_type": "code",
   "execution_count": 23,
   "id": "5fe25b32-0448-49fc-8d48-210e01e293b1",
   "metadata": {},
   "outputs": [],
   "source": [
    "ammonia_syringe.set_pulsewidth(ammonia_syringe.full_position+1, s = 10)"
   ]
  },
  {
   "cell_type": "code",
   "execution_count": 17,
   "id": "e0d5f7c9-883e-48d6-86bf-a30bc8698332",
   "metadata": {},
   "outputs": [],
   "source": [
    "ammonia_syringe.set_pulsewidth(ammonia_syringe.full_position+300, s = 500)"
   ]
  },
  {
   "cell_type": "code",
   "execution_count": 18,
   "id": "b5be2527-8c06-4465-8e44-41f410149cd7",
   "metadata": {},
   "outputs": [
    {
     "name": "stdout",
     "output_type": "stream",
     "text": [
      "Loaded syringe, remaining volume 450 uL\n"
     ]
    }
   ],
   "source": [
    "ammonia_syringe.load_syringe(450, ammonia_syringe.full_position+300)"
   ]
  },
  {
   "cell_type": "markdown",
   "id": "e2c53ecf-d14a-4536-8062-9e7af8c51ba8",
   "metadata": {},
   "source": [
    "## Load TEOS syringe"
   ]
  },
  {
   "cell_type": "code",
   "execution_count": 19,
   "id": "639af747-f1f2-4294-849d-bb1661cd5c85",
   "metadata": {},
   "outputs": [
    {
     "name": "stdout",
     "output_type": "stream",
     "text": [
      "Loaded syringe, remaining volume 600 uL\n"
     ]
    }
   ],
   "source": [
    "teos_syringe.load_syringe(600, 1500)"
   ]
  },
  {
   "cell_type": "code",
   "execution_count": 27,
   "id": "c0f31c8b-1651-4872-806b-3dc1a8e208f2",
   "metadata": {},
   "outputs": [],
   "source": [
    "teos_syringe.set_pulsewidth(teos_syringe.empty_position-1, s = 2000)"
   ]
  },
  {
   "cell_type": "code",
   "execution_count": 28,
   "id": "b8f45e72-b019-41fe-b413-6b1e132edbee",
   "metadata": {},
   "outputs": [],
   "source": [
    "teos_syringe.set_pulsewidth(teos_syringe.full_position+1, s = 100)"
   ]
  },
  {
   "cell_type": "code",
   "execution_count": 20,
   "id": "1c9e3fdf-8999-4d1f-97ca-018afe8e8edd",
   "metadata": {},
   "outputs": [],
   "source": [
    "teos_syringe.set_pulsewidth(teos_syringe.full_position+200, s = 200)"
   ]
  },
  {
   "cell_type": "code",
   "execution_count": 21,
   "id": "cf5154eb-2d59-4bd8-90c2-86c3374a662d",
   "metadata": {},
   "outputs": [
    {
     "name": "stdout",
     "output_type": "stream",
     "text": [
      "Loaded syringe, remaining volume 690 uL\n"
     ]
    }
   ],
   "source": [
    "teos_syringe.load_syringe(690, teos_syringe.full_position+200)"
   ]
  },
  {
   "cell_type": "markdown",
   "id": "ad1ac96b-3d53-4da1-aa2c-a8c2386280f8",
   "metadata": {},
   "source": [
    "## load ethanol syringe"
   ]
  },
  {
   "cell_type": "code",
   "execution_count": 71,
   "id": "f1caaf1a-900c-43ed-a57b-754b0d62aa37",
   "metadata": {},
   "outputs": [],
   "source": [
    "jubilee.park_tool()"
   ]
  },
  {
   "cell_type": "code",
   "execution_count": 31,
   "id": "6002eb8f-07a3-4c63-b6e6-ee4e3775b39e",
   "metadata": {},
   "outputs": [
    {
     "name": "stdout",
     "output_type": "stream",
     "text": [
      "Loaded syringe, remaining volume 0 uL\n"
     ]
    }
   ],
   "source": [
    "mix_syringe.load_syringe(0, 1829)"
   ]
  },
  {
   "cell_type": "code",
   "execution_count": 32,
   "id": "75d8f923-d8ff-4368-a589-7481a4f4f1bb",
   "metadata": {},
   "outputs": [],
   "source": [
    "mix_syringe.set_pulsewidth(mix_syringe.empty_position-1, s = 2000)\n"
   ]
  },
  {
   "cell_type": "code",
   "execution_count": 33,
   "id": "534ef3b4-9c24-4bcf-acbf-ac7d63225c9c",
   "metadata": {},
   "outputs": [],
   "source": [
    "mix_syringe.set_pulsewidth(mix_syringe.full_position+1, s = 10)"
   ]
  },
  {
   "cell_type": "code",
   "execution_count": 22,
   "id": "5a8312cd-872e-49bd-815a-d5968bb6b2ec",
   "metadata": {},
   "outputs": [],
   "source": [
    "mix_syringe.set_pulsewidth(mix_syringe.full_position+100, s = 500)"
   ]
  },
  {
   "cell_type": "code",
   "execution_count": 23,
   "id": "99ad1605-10c8-45a3-80cf-c6adfd7ae6a9",
   "metadata": {},
   "outputs": [
    {
     "name": "stdout",
     "output_type": "stream",
     "text": [
      "Loaded syringe, remaining volume 7900 uL\n"
     ]
    }
   ],
   "source": [
    "mix_syringe.load_syringe(7900, mix_syringe.full_position+100)"
   ]
  },
  {
   "cell_type": "markdown",
   "id": "43d1f97d-4c55-40d3-ac5b-9c3a3f1062ed",
   "metadata": {},
   "source": [
    "## Load labware\n"
   ]
  },
  {
   "cell_type": "code",
   "execution_count": 24,
   "id": "19b4bfa8-6878-4b0b-a564-369faa361b1c",
   "metadata": {
    "scrolled": true
   },
   "outputs": [
    {
     "name": "stdout",
     "output_type": "stream",
     "text": [
      "Well A1 form septavialrev1_44_holder_2000ul on slot 2\n",
      "18.4 178.4\n",
      "Well A2 form septavialrev1_44_holder_2000ul on slot 2\n",
      "34.61419759887644 178.33938832117448\n",
      "Well A3 form septavialrev1_44_holder_2000ul on slot 2\n",
      "50.828395197752876 178.27877664234893\n",
      "Well A4 form septavialrev1_44_holder_2000ul on slot 2\n",
      "67.04259279662931 178.2181649635234\n",
      "Well A5 form septavialrev1_44_holder_2000ul on slot 2\n",
      "83.25679039550576 178.15755328469785\n",
      "Well A6 form septavialrev1_44_holder_2000ul on slot 2\n",
      "99.4709879943822 178.09694160587233\n",
      "Well A7 form septavialrev1_44_holder_2000ul on slot 2\n",
      "115.68518559325861 178.03632992704678\n",
      "Well A8 form septavialrev1_44_holder_2000ul on slot 2\n",
      "131.89938319213505 177.97571824822126\n",
      "Well B1 form septavialrev1_44_holder_2000ul on slot 2\n",
      "18.347664913825877 164.39986924922647\n",
      "Well B2 form septavialrev1_44_holder_2000ul on slot 2\n",
      "34.56186251270232 164.33925757040092\n",
      "Well B3 form septavialrev1_44_holder_2000ul on slot 2\n",
      "50.77606011157876 164.2786458915754\n",
      "Well B4 form septavialrev1_44_holder_2000ul on slot 2\n",
      "66.99025771045518 164.21803421274984\n",
      "Well B5 form septavialrev1_44_holder_2000ul on slot 2\n",
      "83.20445530933164 164.15742253392432\n",
      "Well B6 form septavialrev1_44_holder_2000ul on slot 2\n",
      "99.41865290820807 164.09681085509877\n",
      "Well B7 form septavialrev1_44_holder_2000ul on slot 2\n",
      "115.63285050708448 164.03619917627324\n",
      "Well B8 form septavialrev1_44_holder_2000ul on slot 2\n",
      "131.84704810596094 163.9755874974477\n",
      "Well C1 form septavialrev1_44_holder_2000ul on slot 2\n",
      "18.29532982765176 150.3997384984529\n",
      "Well C2 form septavialrev1_44_holder_2000ul on slot 2\n",
      "34.509527426528194 150.33912681962738\n",
      "Well C3 form septavialrev1_44_holder_2000ul on slot 2\n",
      "50.72372502540463 150.27851514080183\n",
      "Well C4 form septavialrev1_44_holder_2000ul on slot 2\n",
      "66.93792262428107 150.21790346197628\n",
      "Well C5 form septavialrev1_44_holder_2000ul on slot 2\n",
      "83.15212022315752 150.15729178315075\n",
      "Well C6 form septavialrev1_44_holder_2000ul on slot 2\n",
      "99.36631782203396 150.09668010432523\n",
      "Well C7 form septavialrev1_44_holder_2000ul on slot 2\n",
      "115.58051542091037 150.03606842549968\n",
      "Well C8 form septavialrev1_44_holder_2000ul on slot 2\n",
      "131.7947130197868 149.97545674667415\n",
      "Well D1 form septavialrev1_44_holder_2000ul on slot 2\n",
      "18.242994741477638 136.39960774767934\n",
      "Well D2 form septavialrev1_44_holder_2000ul on slot 2\n",
      "34.45719234035408 136.33899606885382\n",
      "Well D3 form septavialrev1_44_holder_2000ul on slot 2\n",
      "50.671389939230515 136.2783843900283\n",
      "Well D4 form septavialrev1_44_holder_2000ul on slot 2\n",
      "66.88558753810695 136.21777271120274\n",
      "Well D5 form septavialrev1_44_holder_2000ul on slot 2\n",
      "83.0997851369834 136.1571610323772\n",
      "Well D6 form septavialrev1_44_holder_2000ul on slot 2\n",
      "99.31398273585984 136.09654935355167\n",
      "Well D7 form septavialrev1_44_holder_2000ul on slot 2\n",
      "115.52818033473625 136.03593767472614\n",
      "Well D8 form septavialrev1_44_holder_2000ul on slot 2\n",
      "131.7423779336127 135.9753259959006\n",
      "Well E1 form septavialrev1_44_holder_2000ul on slot 2\n",
      "18.190659655303516 122.3994769969058\n",
      "Well E2 form septavialrev1_44_holder_2000ul on slot 2\n",
      "34.40485725417996 122.33886531808027\n",
      "Well E3 form septavialrev1_44_holder_2000ul on slot 2\n",
      "50.6190548530564 122.27825363925473\n",
      "Well E4 form septavialrev1_44_holder_2000ul on slot 2\n",
      "66.83325245193282 122.21764196042919\n",
      "Well E5 form septavialrev1_44_holder_2000ul on slot 2\n",
      "83.04745005080927 122.15703028160365\n",
      "Well E6 form septavialrev1_44_holder_2000ul on slot 2\n",
      "99.26164764968571 122.09641860277812\n",
      "Well E7 form septavialrev1_44_holder_2000ul on slot 2\n",
      "115.47584524856212 122.03580692395258\n",
      "Well E8 form septavialrev1_44_holder_2000ul on slot 2\n",
      "131.69004284743858 121.97519524512704\n",
      "Well F1 form septavialrev1_44_holder_2000ul on slot 2\n",
      "18.138324569129395 108.39934624613225\n",
      "Well F2 form septavialrev1_44_holder_2000ul on slot 2\n",
      "34.352522168005834 108.33873456730672\n",
      "Well F3 form septavialrev1_44_holder_2000ul on slot 2\n",
      "50.56671976688227 108.27812288848118\n",
      "Well F4 form septavialrev1_44_holder_2000ul on slot 2\n",
      "66.78091736575871 108.21751120965564\n",
      "Well F5 form septavialrev1_44_holder_2000ul on slot 2\n",
      "82.99511496463516 108.1568995308301\n",
      "Well F6 form septavialrev1_44_holder_2000ul on slot 2\n",
      "99.2093125635116 108.09628785200456\n",
      "Well F7 form septavialrev1_44_holder_2000ul on slot 2\n",
      "115.42351016238801 108.03567617317903\n",
      "Well F8 form septavialrev1_44_holder_2000ul on slot 2\n",
      "131.63770776126444 107.97506449435349\n",
      "New manual offset applied to septavialrev1_44_holder_2000ul\n"
     ]
    }
   ],
   "source": [
    "samples = jubilee.load_labware('septavialrev1_44_holder_2000ul.json', 2)\n",
    "samples.manual_offset([(18.4, 178.4),(131.9, 178.6),(132.3, 108.6)])"
   ]
  },
  {
   "cell_type": "code",
   "execution_count": 25,
   "id": "ae25ae3c-41e7-4d2a-bb1e-028b99c9e4e8",
   "metadata": {},
   "outputs": [
    {
     "data": {
      "text/plain": [
       "18.4"
      ]
     },
     "execution_count": 25,
     "metadata": {},
     "output_type": "execute_result"
    }
   ],
   "source": [
    "samples[0].x"
   ]
  },
  {
   "cell_type": "code",
   "execution_count": 26,
   "id": "19ad67cc-b0a8-4c1f-8d6a-60b173599c82",
   "metadata": {},
   "outputs": [
    {
     "name": "stdout",
     "output_type": "stream",
     "text": [
      "Well A1 form 20mLscintillation 12 Well Plate 18000 µL on slot 4\n",
      "31.4 268.5\n",
      "Well A2 form 20mLscintillation 12 Well Plate 18000 µL on slot 4\n",
      "59.99978946537078 267.98809909507156\n",
      "Well A3 form 20mLscintillation 12 Well Plate 18000 µL on slot 4\n",
      "88.59957893074156 267.4761981901431\n",
      "Well A4 form 20mLscintillation 12 Well Plate 18000 µL on slot 4\n",
      "117.19936839611233 266.9642972852147\n",
      "Well B1 form 20mLscintillation 12 Well Plate 18000 µL on slot 4\n",
      "30.911360039313585 241.199794305009\n",
      "Well B2 form 20mLscintillation 12 Well Plate 18000 µL on slot 4\n",
      "59.51114950468437 240.68789340008053\n",
      "Well B3 form 20mLscintillation 12 Well Plate 18000 µL on slot 4\n",
      "88.11093897005514 240.1759924951521\n",
      "Well B4 form 20mLscintillation 12 Well Plate 18000 µL on slot 4\n",
      "116.71072843542592 239.66409159022365\n",
      "Well C1 form 20mLscintillation 12 Well Plate 18000 µL on slot 4\n",
      "30.422720078627172 213.89958861001796\n",
      "Well C2 form 20mLscintillation 12 Well Plate 18000 µL on slot 4\n",
      "59.022509543997955 213.38768770508952\n",
      "Well C3 form 20mLscintillation 12 Well Plate 18000 µL on slot 4\n",
      "87.62229900936873 212.87578680016108\n",
      "Well C4 form 20mLscintillation 12 Well Plate 18000 µL on slot 4\n",
      "116.22208847473951 212.36388589523264\n",
      "New manual offset applied to 20mlscintillation_12_wellplate_18000ul\n"
     ]
    }
   ],
   "source": [
    "stocks = jubilee.load_labware('20mlscintillation_12_wellplate_18000ul.json', 4)\n",
    "stocks.manual_offset([(31.4, 268.5),(117.2, 267.0),(116.2, 212.4)])"
   ]
  },
  {
   "cell_type": "code",
   "execution_count": 27,
   "id": "1ef40a35-9802-4eb3-9a10-16255155b92d",
   "metadata": {},
   "outputs": [],
   "source": [
    "trash = jubilee.load_labware('agilent_1_reservoir_290ml.json', 1)"
   ]
  },
  {
   "cell_type": "code",
   "execution_count": 28,
   "id": "f7395271-1a02-4f11-883f-34a8456f0a05",
   "metadata": {},
   "outputs": [],
   "source": [
    "teos_stocks = [stocks[0]]\n",
    "ammonia_stocks = [stocks[1]]\n",
    "water_stocks = [stocks[2]]\n",
    "ethanol_stocks = [stocks[3], stocks[4]]\n",
    "rinse_stocks = [stocks[7], stocks[8], stocks[9]]"
   ]
  },
  {
   "cell_type": "code",
   "execution_count": 29,
   "id": "2df51be5-3495-4cb9-9f12-f572bd43b01a",
   "metadata": {},
   "outputs": [
    {
     "data": {
      "text/plain": [
       "[Well A2 form 20mLscintillation 12 Well Plate 18000 µL on slot 4]"
      ]
     },
     "execution_count": 29,
     "metadata": {},
     "output_type": "execute_result"
    }
   ],
   "source": [
    "ammonia_stocks"
   ]
  },
  {
   "cell_type": "code",
   "execution_count": null,
   "id": "94cb74b0-3afe-47b0-8c1d-92b1907cf731",
   "metadata": {},
   "outputs": [],
   "source": [
    "#water_syringe.set_pulsewidth(1350, s = 10)"
   ]
  },
  {
   "cell_type": "markdown",
   "id": "b9dff3f4-8be6-4f73-b343-6221f8df76dc",
   "metadata": {},
   "source": [
    "# Experiment\n"
   ]
  },
  {
   "cell_type": "code",
   "execution_count": 31,
   "id": "9d770745-931b-42d0-8b40-409a83411619",
   "metadata": {},
   "outputs": [],
   "source": [
    "location_lookup = {row['uuid']:samples[row['well']] for i, row in sample_table.iterrows()}"
   ]
  },
  {
   "cell_type": "code",
   "execution_count": 32,
   "id": "5e8a7a59-2145-4f2c-9c49-f8acb337303d",
   "metadata": {},
   "outputs": [],
   "source": [
    "sample_table_etoh = sample_table.iloc[33:]"
   ]
  },
  {
   "cell_type": "code",
   "execution_count": 33,
   "id": "78141639-8163-47d5-a870-6eab7588a1c5",
   "metadata": {},
   "outputs": [
    {
     "data": {
      "text/html": [
       "<div>\n",
       "<style scoped>\n",
       "    .dataframe tbody tr th:only-of-type {\n",
       "        vertical-align: middle;\n",
       "    }\n",
       "\n",
       "    .dataframe tbody tr th {\n",
       "        vertical-align: top;\n",
       "    }\n",
       "\n",
       "    .dataframe thead th {\n",
       "        text-align: right;\n",
       "    }\n",
       "</style>\n",
       "<table border=\"1\" class=\"dataframe\">\n",
       "  <thead>\n",
       "    <tr style=\"text-align: right;\">\n",
       "      <th></th>\n",
       "      <th>Unnamed: 0</th>\n",
       "      <th>uuid</th>\n",
       "      <th>teos_volume</th>\n",
       "      <th>ammonia_volume</th>\n",
       "      <th>water_volume</th>\n",
       "      <th>ethanol_volume</th>\n",
       "      <th>dilution_volume_fraction</th>\n",
       "      <th>silica_mass_conc</th>\n",
       "      <th>silica_mass_fraction</th>\n",
       "      <th>well</th>\n",
       "    </tr>\n",
       "  </thead>\n",
       "  <tbody>\n",
       "    <tr>\n",
       "      <th>33</th>\n",
       "      <td>33</td>\n",
       "      <td>9694a191-11f7-482c-bb4c-e119489126a4</td>\n",
       "      <td>79.933839</td>\n",
       "      <td>154.241547</td>\n",
       "      <td>162.558164</td>\n",
       "      <td>1303.266450</td>\n",
       "      <td>0.227867</td>\n",
       "      <td>12.655802</td>\n",
       "      <td>0.015319</td>\n",
       "      <td>E5</td>\n",
       "    </tr>\n",
       "    <tr>\n",
       "      <th>34</th>\n",
       "      <td>34</td>\n",
       "      <td>2a0a2e87-67a7-401a-943d-423159a4a939</td>\n",
       "      <td>238.503837</td>\n",
       "      <td>60.767154</td>\n",
       "      <td>222.636539</td>\n",
       "      <td>1178.092471</td>\n",
       "      <td>0.076369</td>\n",
       "      <td>37.761948</td>\n",
       "      <td>0.044909</td>\n",
       "      <td>E6</td>\n",
       "    </tr>\n",
       "    <tr>\n",
       "      <th>35</th>\n",
       "      <td>35</td>\n",
       "      <td>9b9c349b-8f9d-4f0c-829c-fa99e67e90fb</td>\n",
       "      <td>63.148878</td>\n",
       "      <td>82.511066</td>\n",
       "      <td>119.578941</td>\n",
       "      <td>1434.761115</td>\n",
       "      <td>0.288434</td>\n",
       "      <td>9.998265</td>\n",
       "      <td>0.012272</td>\n",
       "      <td>E8</td>\n",
       "    </tr>\n",
       "    <tr>\n",
       "      <th>36</th>\n",
       "      <td>36</td>\n",
       "      <td>ff3ac045-3c39-4fb0-b2c9-bf69d7600548</td>\n",
       "      <td>183.497867</td>\n",
       "      <td>78.521888</td>\n",
       "      <td>183.477119</td>\n",
       "      <td>1254.503126</td>\n",
       "      <td>0.099262</td>\n",
       "      <td>29.052937</td>\n",
       "      <td>0.034897</td>\n",
       "      <td>F1</td>\n",
       "    </tr>\n",
       "    <tr>\n",
       "      <th>37</th>\n",
       "      <td>37</td>\n",
       "      <td>1edc0740-a22f-4216-bd49-d80627b2fb63</td>\n",
       "      <td>234.048146</td>\n",
       "      <td>98.087723</td>\n",
       "      <td>9.360751</td>\n",
       "      <td>1358.503380</td>\n",
       "      <td>0.077823</td>\n",
       "      <td>37.056485</td>\n",
       "      <td>0.045376</td>\n",
       "      <td>F2</td>\n",
       "    </tr>\n",
       "    <tr>\n",
       "      <th>38</th>\n",
       "      <td>38</td>\n",
       "      <td>5452fa4a-b64c-46d7-ace2-bf1b31afc3b3</td>\n",
       "      <td>161.957486</td>\n",
       "      <td>64.063945</td>\n",
       "      <td>250.673888</td>\n",
       "      <td>1223.304681</td>\n",
       "      <td>0.112463</td>\n",
       "      <td>25.642481</td>\n",
       "      <td>0.030598</td>\n",
       "      <td>F3</td>\n",
       "    </tr>\n",
       "    <tr>\n",
       "      <th>39</th>\n",
       "      <td>39</td>\n",
       "      <td>5edc0763-1f2c-44f2-bf68-db785ae258b0</td>\n",
       "      <td>85.988615</td>\n",
       "      <td>178.398139</td>\n",
       "      <td>108.319297</td>\n",
       "      <td>1327.293949</td>\n",
       "      <td>0.211822</td>\n",
       "      <td>13.614446</td>\n",
       "      <td>0.016572</td>\n",
       "      <td>F4</td>\n",
       "    </tr>\n",
       "  </tbody>\n",
       "</table>\n",
       "</div>"
      ],
      "text/plain": [
       "    Unnamed: 0                                  uuid  teos_volume  \\\n",
       "33          33  9694a191-11f7-482c-bb4c-e119489126a4    79.933839   \n",
       "34          34  2a0a2e87-67a7-401a-943d-423159a4a939   238.503837   \n",
       "35          35  9b9c349b-8f9d-4f0c-829c-fa99e67e90fb    63.148878   \n",
       "36          36  ff3ac045-3c39-4fb0-b2c9-bf69d7600548   183.497867   \n",
       "37          37  1edc0740-a22f-4216-bd49-d80627b2fb63   234.048146   \n",
       "38          38  5452fa4a-b64c-46d7-ace2-bf1b31afc3b3   161.957486   \n",
       "39          39  5edc0763-1f2c-44f2-bf68-db785ae258b0    85.988615   \n",
       "\n",
       "    ammonia_volume  water_volume  ethanol_volume  dilution_volume_fraction  \\\n",
       "33      154.241547    162.558164     1303.266450                  0.227867   \n",
       "34       60.767154    222.636539     1178.092471                  0.076369   \n",
       "35       82.511066    119.578941     1434.761115                  0.288434   \n",
       "36       78.521888    183.477119     1254.503126                  0.099262   \n",
       "37       98.087723      9.360751     1358.503380                  0.077823   \n",
       "38       64.063945    250.673888     1223.304681                  0.112463   \n",
       "39      178.398139    108.319297     1327.293949                  0.211822   \n",
       "\n",
       "    silica_mass_conc  silica_mass_fraction well  \n",
       "33         12.655802              0.015319   E5  \n",
       "34         37.761948              0.044909   E6  \n",
       "35          9.998265              0.012272   E8  \n",
       "36         29.052937              0.034897   F1  \n",
       "37         37.056485              0.045376   F2  \n",
       "38         25.642481              0.030598   F3  \n",
       "39         13.614446              0.016572   F4  "
      ]
     },
     "execution_count": 33,
     "metadata": {},
     "output_type": "execute_result"
    }
   ],
   "source": [
    "sample_table.iloc[33:]"
   ]
  },
  {
   "cell_type": "markdown",
   "id": "e2ddb62c-d3f3-4c45-917a-e575189606c9",
   "metadata": {},
   "source": [
    "## add ethanol"
   ]
  },
  {
   "cell_type": "code",
   "execution_count": 35,
   "id": "0f4144b3-a7f9-4650-886f-054cd544228a",
   "metadata": {},
   "outputs": [
    {
     "ename": "KeyboardInterrupt",
     "evalue": "",
     "output_type": "error",
     "traceback": [
      "\u001b[0;31m---------------------------------------------------------------------------\u001b[0m",
      "\u001b[0;31mKeyboardInterrupt\u001b[0m                         Traceback (most recent call last)",
      "Cell \u001b[0;32mIn[35], line 1\u001b[0m\n\u001b[0;32m----> 1\u001b[0m \u001b[43mstober\u001b[49m\u001b[38;5;241;43m.\u001b[39;49m\u001b[43madd_reactants_batch\u001b[49m\u001b[43m(\u001b[49m\u001b[43mjubilee\u001b[49m\u001b[43m,\u001b[49m\u001b[43m \u001b[49m\u001b[43mmix_syringe\u001b[49m\u001b[43m,\u001b[49m\u001b[43m \u001b[49m\u001b[43mmix_syringe\u001b[49m\u001b[43m,\u001b[49m\u001b[43m \u001b[49m\u001b[43msample_table\u001b[49m\u001b[43m,\u001b[49m\u001b[43m \u001b[49m\u001b[43mlocation_lookup\u001b[49m\u001b[43m,\u001b[49m\u001b[43m \u001b[49m\u001b[38;5;124;43m'\u001b[39;49m\u001b[38;5;124;43methanol_volume\u001b[39;49m\u001b[38;5;124;43m'\u001b[39;49m\u001b[43m,\u001b[49m\u001b[43m \u001b[49m\u001b[43methanol_stocks\u001b[49m\u001b[43m,\u001b[49m\u001b[43m \u001b[49m\u001b[43mstocks_usable_volume\u001b[49m\u001b[38;5;241;43m=\u001b[39;49m\u001b[38;5;241;43m15000\u001b[39;49m\u001b[43m,\u001b[49m\u001b[43m \u001b[49m\u001b[43mdwell_time\u001b[49m\u001b[43m \u001b[49m\u001b[38;5;241;43m=\u001b[39;49m\u001b[43m \u001b[49m\u001b[38;5;241;43m10\u001b[39;49m\u001b[43m)\u001b[49m\n",
      "File \u001b[0;32m~/Code/silica-np-synthesis/2024_10_07_randomSampleV3/../stober_synthesis_utils.py:116\u001b[0m, in \u001b[0;36madd_reactants_batch\u001b[0;34m(jubilee, reactant_syringe, mix_syringe, sample_table, location_lookup, reactant_name, stocks, stocks_usable_volume, mix_after, dwell_time)\u001b[0m\n\u001b[1;32m    113\u001b[0m     stock_volumes \u001b[38;5;241m=\u001b[39m _refill_syringe(reactant_syringe, stocks, stock_volumes)\n\u001b[1;32m    115\u001b[0m reactant_syringe\u001b[38;5;241m.\u001b[39mdispense(dispense_volume, dispense_location, s \u001b[38;5;241m=\u001b[39m \u001b[38;5;241m20\u001b[39m)\n\u001b[0;32m--> 116\u001b[0m \u001b[43mtime\u001b[49m\u001b[38;5;241;43m.\u001b[39;49m\u001b[43msleep\u001b[49m\u001b[43m(\u001b[49m\u001b[43mdwell_time\u001b[49m\u001b[43m)\u001b[49m\n\u001b[1;32m    117\u001b[0m logger\u001b[38;5;241m.\u001b[39minfo(\u001b[38;5;124mf\u001b[39m\u001b[38;5;124m'\u001b[39m\u001b[38;5;124mDispensed \u001b[39m\u001b[38;5;132;01m{\u001b[39;00mdispense_volume\u001b[38;5;132;01m}\u001b[39;00m\u001b[38;5;124m uL of \u001b[39m\u001b[38;5;132;01m{\u001b[39;00mreactant_name\u001b[38;5;132;01m}\u001b[39;00m\u001b[38;5;124m into \u001b[39m\u001b[38;5;132;01m{\u001b[39;00mdispense_location\u001b[38;5;132;01m}\u001b[39;00m\u001b[38;5;124m'\u001b[39m)\n\u001b[1;32m    119\u001b[0m \u001b[38;5;28;01mif\u001b[39;00m mix_after \u001b[38;5;129;01mis\u001b[39;00m \u001b[38;5;129;01mnot\u001b[39;00m \u001b[38;5;28;01mNone\u001b[39;00m:\n",
      "\u001b[0;31mKeyboardInterrupt\u001b[0m: "
     ]
    }
   ],
   "source": [
    "stober.add_reactants_batch(jubilee, mix_syringe, mix_syringe, sample_table, location_lookup, 'ethanol_volume', ethanol_stocks, stocks_usable_volume=15000, dwell_time = 10)"
   ]
  },
  {
   "cell_type": "code",
   "execution_count": 57,
   "id": "6347a337-b7d1-4032-8b67-d5cbbd0cd0e0",
   "metadata": {},
   "outputs": [],
   "source": [
    "# ran out of ethanol, finalize last few samples:\n",
    "jubilee.park_tool()\n",
    "stober.add_reactants_batch(jubilee, mix_syringe, mix_syringe, sample_table_etoh, location_lookup, 'ethanol_volume', ethanol_stocks, stocks_usable_volume=15000, dwell_time = 10)"
   ]
  },
  {
   "cell_type": "code",
   "execution_count": 58,
   "id": "7d204157-ed65-4f49-acbc-d192222f0dc6",
   "metadata": {},
   "outputs": [],
   "source": [
    "#dispense remaining volume from etOH mix syringe\n",
    "jubilee.pickup_tool(mix_syringe)\n",
    "mix_syringe.dispense(mix_syringe.remaining_volume-1, trash[0])\n",
    "logger.info('Emptied ethanol syringe into trash')\n",
    "jubilee.park_tool()"
   ]
  },
  {
   "cell_type": "code",
   "execution_count": 59,
   "id": "2fc66aa1-bc70-4098-8e37-f148188c26c6",
   "metadata": {},
   "outputs": [],
   "source": [
    "mix_syringe.set_pulsewidth(mix_syringe.empty_position-1)"
   ]
  },
  {
   "cell_type": "markdown",
   "id": "9e35c96c-2ea8-438a-989d-f6d73c8f16ed",
   "metadata": {},
   "source": [
    "## Dispense water\n"
   ]
  },
  {
   "cell_type": "code",
   "execution_count": 60,
   "id": "9f765450-7f64-49e7-85f8-335e2fa0b666",
   "metadata": {},
   "outputs": [],
   "source": [
    "stober.add_reactants_batch(jubilee, water_syringe, mix_syringe, sample_table, location_lookup, 'water_volume', water_stocks, dwell_time = 7)"
   ]
  },
  {
   "cell_type": "markdown",
   "id": "cd60cc24-167e-46e5-9e73-a2457c8964de",
   "metadata": {},
   "source": [
    "## dispense Ammonia"
   ]
  },
  {
   "cell_type": "code",
   "execution_count": 61,
   "id": "7dc4c2ae-9e4e-40e0-929a-6e0a3e4bc240",
   "metadata": {},
   "outputs": [],
   "source": [
    "stober.add_reactants_batch(jubilee, ammonia_syringe, mix_syringe, sample_table, location_lookup, 'ammonia_volume', ammonia_stocks)"
   ]
  },
  {
   "cell_type": "markdown",
   "id": "bc8a34b3-acd7-4b89-a9ea-34b514cd3d8c",
   "metadata": {},
   "source": [
    "## mix precursors"
   ]
  },
  {
   "cell_type": "code",
   "execution_count": 62,
   "id": "f4f701c5-7908-489e-a1eb-9b2c60438c96",
   "metadata": {},
   "outputs": [],
   "source": [
    "stober.first_mix(jubilee, mix_syringe, 2000, location_lookup, rinse_stocks, 5)"
   ]
  },
  {
   "cell_type": "markdown",
   "id": "000c1369-b5a0-4183-97d4-fced54279516",
   "metadata": {},
   "source": [
    "## Add TEOS and mix"
   ]
  },
  {
   "cell_type": "code",
   "execution_count": 63,
   "id": "efccb2d6-234a-4af8-a87d-4d904696a48e",
   "metadata": {},
   "outputs": [],
   "source": [
    "stober.add_reactants_batch(jubilee, teos_syringe, mix_syringe, sample_table, location_lookup, 'teos_volume', teos_stocks, mix_after=(2000, 5, rinse_stocks))"
   ]
  },
  {
   "cell_type": "code",
   "execution_count": null,
   "id": "c0c70507-0380-4a34-806f-27e3dd438158",
   "metadata": {},
   "outputs": [],
   "source": []
  }
 ],
 "metadata": {
  "kernelspec": {
   "display_name": "Python 3 (ipykernel)",
   "language": "python",
   "name": "python3"
  },
  "language_info": {
   "codemirror_mode": {
    "name": "ipython",
    "version": 3
   },
   "file_extension": ".py",
   "mimetype": "text/x-python",
   "name": "python",
   "nbconvert_exporter": "python",
   "pygments_lexer": "ipython3",
   "version": "3.9.19"
  }
 },
 "nbformat": 4,
 "nbformat_minor": 5
}
