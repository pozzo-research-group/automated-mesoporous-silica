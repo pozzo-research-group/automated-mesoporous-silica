{
 "cells": [
  {
   "cell_type": "code",
   "execution_count": 1,
   "id": "3792e796-8bdf-4992-a00a-9413608bca90",
   "metadata": {},
   "outputs": [],
   "source": [
    "%load_ext autoreload\n",
    "%autoreload 2"
   ]
  },
  {
   "cell_type": "code",
   "execution_count": 2,
   "id": "2496b484-ef9d-47c6-9f1c-0896de577897",
   "metadata": {},
   "outputs": [],
   "source": [
    "import requests\n",
    "\n",
    "# ----------- Science Jubilee -------------\n",
    "from science_jubilee import Machine as Jub\n",
    "from science_jubilee.tools import HTTPSyringe as syringe\n",
    "from science_jubilee.tools import Pipette\n",
    "from science_jubilee.utils import Handlers\n",
    "import time\n",
    "import numpy as np\n",
    "import pandas as pd\n",
    "import logging\n",
    "import sys\n",
    "sys.path.append('..')\n",
    "import stober_synthesis_utils as stober"
   ]
  },
  {
   "cell_type": "code",
   "execution_count": 3,
   "id": "042a7c9a-06d2-4ced-9990-f87367c83911",
   "metadata": {},
   "outputs": [],
   "source": [
    "jubilee = Jub.Machine(address='192.168.1.2', simulated = False, crash_detection = False) "
   ]
  },
  {
   "cell_type": "code",
   "execution_count": 4,
   "id": "d1640534-d4c9-47ba-9117-f41dd1b73f37",
   "metadata": {},
   "outputs": [],
   "source": [
    "deck = jubilee.load_deck('lab_automation_deck_AFL_bolton.json')"
   ]
  },
  {
   "cell_type": "code",
   "execution_count": 5,
   "id": "50e1eaf7-b7ba-4105-9a4a-1ba67d4aa719",
   "metadata": {},
   "outputs": [],
   "source": [
    "syringe_hamilton = syringe.HTTPSyringe.from_config(4, \"../../science-jubilee/src/science_jubilee/tools/configs/1cc_3_Hamiltonsyringe.json\")"
   ]
  },
  {
   "cell_type": "code",
   "execution_count": 6,
   "id": "8eb44ecd-2277-47d0-af57-9b583c5ee6de",
   "metadata": {},
   "outputs": [],
   "source": [
    "syringe_10cc_glass = syringe.HTTPSyringe.from_config(2, \"../../science-jubilee/src/science_jubilee/tools/configs/10cc_glass_syringe.json\")"
   ]
  },
  {
   "cell_type": "code",
   "execution_count": 7,
   "id": "c690cf51-b0c4-45d6-b482-f4e487eb9fe6",
   "metadata": {},
   "outputs": [],
   "source": [
    "jubilee.load_tool(syringe_hamilton)\n",
    "jubilee.load_tool(syringe_10cc_glass)"
   ]
  },
  {
   "cell_type": "markdown",
   "id": "25829b9f-c54f-4ffd-a7cd-02a9cc8ef98e",
   "metadata": {},
   "source": [
    "## Fill 1cc syringe"
   ]
  },
  {
   "cell_type": "code",
   "execution_count": 8,
   "id": "16b95a6e-4c7a-43a9-a770-ff0149a121ad",
   "metadata": {},
   "outputs": [
    {
     "name": "stdout",
     "output_type": "stream",
     "text": [
      "Loaded syringe, remaining volume 1 uL\n"
     ]
    }
   ],
   "source": [
    "syringe_hamilton.load_syringe(1, 1600)"
   ]
  },
  {
   "cell_type": "code",
   "execution_count": 11,
   "id": "fdb626e2-973a-4906-a243-9cd05e743c05",
   "metadata": {},
   "outputs": [],
   "source": [
    "syringe_hamilton.set_pulsewidth(syringe_hamilton.empty_position-1, s = 2000)"
   ]
  },
  {
   "cell_type": "code",
   "execution_count": 9,
   "id": "90854d56-8595-43c6-93db-7144eb60533d",
   "metadata": {},
   "outputs": [],
   "source": [
    "syringe_hamilton.set_pulsewidth(syringe_hamilton.full_position+1, s = 10)"
   ]
  },
  {
   "cell_type": "code",
   "execution_count": 10,
   "id": "0f2ee1be-6427-4cbe-9d5d-ddf2aed2f958",
   "metadata": {},
   "outputs": [],
   "source": [
    "syringe_hamilton.set_pulsewidth(syringe_hamilton.full_position+400, s = 500)"
   ]
  },
  {
   "cell_type": "code",
   "execution_count": 11,
   "id": "8016251a-661c-4a35-8501-f15ed83512d1",
   "metadata": {},
   "outputs": [
    {
     "name": "stdout",
     "output_type": "stream",
     "text": [
      "Loaded syringe, remaining volume 380 uL\n"
     ]
    }
   ],
   "source": [
    "syringe_hamilton.load_syringe(380, syringe_hamilton.full_position+400)"
   ]
  },
  {
   "cell_type": "markdown",
   "id": "6e3adca4-e490-4822-ba1d-b15b38f57ce4",
   "metadata": {},
   "source": [
    "## Fill 10cc syringe"
   ]
  },
  {
   "cell_type": "code",
   "execution_count": 12,
   "id": "1705e87e-d49d-4381-9a0c-92e1c854b0b6",
   "metadata": {},
   "outputs": [
    {
     "name": "stdout",
     "output_type": "stream",
     "text": [
      "Loaded syringe, remaining volume 1 uL\n"
     ]
    }
   ],
   "source": [
    "syringe_10cc_glass.load_syringe(1, 1600)"
   ]
  },
  {
   "cell_type": "code",
   "execution_count": 20,
   "id": "3905d3fe-e30e-4d03-9384-f90929ef61bb",
   "metadata": {},
   "outputs": [],
   "source": [
    "syringe_10cc_glass.set_pulsewidth(syringe_10cc_glass.empty_position-1, s = 2000)"
   ]
  },
  {
   "cell_type": "code",
   "execution_count": 13,
   "id": "376c0da9-22af-450f-866b-9e308bc1f78d",
   "metadata": {},
   "outputs": [],
   "source": [
    "syringe_10cc_glass.set_pulsewidth(syringe_10cc_glass.full_position+1, s = 10)"
   ]
  },
  {
   "cell_type": "code",
   "execution_count": 14,
   "id": "76f0e77b-2c45-4e24-9a9b-9031ed469ad9",
   "metadata": {},
   "outputs": [],
   "source": [
    "syringe_10cc_glass.set_pulsewidth(syringe_10cc_glass.full_position+250, s = 500)"
   ]
  },
  {
   "cell_type": "code",
   "execution_count": 15,
   "id": "a0dc1fbe-bb9d-45f9-a3a5-0f32c6641547",
   "metadata": {},
   "outputs": [
    {
     "name": "stdout",
     "output_type": "stream",
     "text": [
      "Loaded syringe, remaining volume 5900 uL\n"
     ]
    }
   ],
   "source": [
    "syringe_10cc_glass.load_syringe(5900, syringe_10cc_glass.full_position+250)"
   ]
  },
  {
   "cell_type": "markdown",
   "id": "53f92ca8-482d-4b9a-855b-b90c192ac89b",
   "metadata": {},
   "source": [
    "## Load labware"
   ]
  },
  {
   "cell_type": "code",
   "execution_count": 16,
   "id": "78e5933e-dfb1-40ee-b455-c314c98c592e",
   "metadata": {},
   "outputs": [
    {
     "name": "stdout",
     "output_type": "stream",
     "text": [
      "New manual offset applied to septavialrev1_44_holder_2000ul\n"
     ]
    }
   ],
   "source": [
    "samples = jubilee.load_labware('septavialrev1_44_holder_2000ul.json', 2)\n",
    "samples.manual_offset([(17.8,  174.6), (131.2, 175.3), (131.6, 105.4)])"
   ]
  },
  {
   "cell_type": "code",
   "execution_count": 17,
   "id": "0af25b29-ffe9-4f96-9e88-d160a3a15dab",
   "metadata": {},
   "outputs": [
    {
     "name": "stdout",
     "output_type": "stream",
     "text": [
      "New manual offset applied to 20mlscintillation_12_wellplate_18000ul\n"
     ]
    }
   ],
   "source": [
    "stocks = jubilee.load_labware('20mlscintillation_12_wellplate_18000ul.json', 4)\n",
    "stocks.manual_offset([(30.6, 264.2), (116.2, 264.8),  (117.0, 208.6)])"
   ]
  },
  {
   "cell_type": "code",
   "execution_count": 18,
   "id": "86dc6d43-313b-4293-9a44-6465d0738492",
   "metadata": {},
   "outputs": [],
   "source": [
    "rows = ['A', 'B', 'C', 'D', 'E', 'F']\n",
    "cols = [1, 2, 3, 4, 5, 6, 7, 8]\n",
    "\n",
    "wells = []\n",
    "for row in rows:\n",
    "    for col in cols:\n",
    "        if row in ['B', 'E'] and col in [2, 7]:\n",
    "            pass\n",
    "        else:\n",
    "            wells.append(row + str(col))"
   ]
  },
  {
   "cell_type": "code",
   "execution_count": 65,
   "id": "be3003e4-7f73-4209-a2d5-823427ba0b12",
   "metadata": {},
   "outputs": [
    {
     "name": "stdout",
     "output_type": "stream",
     "text": [
      "174.6\n"
     ]
    },
    {
     "name": "stdin",
     "output_type": "stream",
     "text": [
      "Is the tip centered over sample A1? \n"
     ]
    },
    {
     "name": "stdout",
     "output_type": "stream",
     "text": [
      "174.69635205793185\n"
     ]
    },
    {
     "name": "stdin",
     "output_type": "stream",
     "text": [
      "Is the tip centered over sample A2? \n"
     ]
    },
    {
     "name": "stdout",
     "output_type": "stream",
     "text": [
      "174.7927041158637\n"
     ]
    },
    {
     "name": "stdin",
     "output_type": "stream",
     "text": [
      "Is the tip centered over sample A3? \n"
     ]
    },
    {
     "name": "stdout",
     "output_type": "stream",
     "text": [
      "174.88905617379558\n"
     ]
    },
    {
     "name": "stdin",
     "output_type": "stream",
     "text": [
      "Is the tip centered over sample A4? \n"
     ]
    },
    {
     "name": "stdout",
     "output_type": "stream",
     "text": [
      "174.98540823172743\n"
     ]
    },
    {
     "name": "stdin",
     "output_type": "stream",
     "text": [
      "Is the tip centered over sample A5? \n"
     ]
    },
    {
     "name": "stdout",
     "output_type": "stream",
     "text": [
      "175.0817602896593\n"
     ]
    },
    {
     "name": "stdin",
     "output_type": "stream",
     "text": [
      "Is the tip centered over sample A6? \n"
     ]
    },
    {
     "name": "stdout",
     "output_type": "stream",
     "text": [
      "175.17811234759114\n"
     ]
    },
    {
     "name": "stdin",
     "output_type": "stream",
     "text": [
      "Is the tip centered over sample A7? \n"
     ]
    },
    {
     "name": "stdout",
     "output_type": "stream",
     "text": [
      "175.27446440552302\n"
     ]
    },
    {
     "name": "stdin",
     "output_type": "stream",
     "text": [
      "Is the tip centered over sample A8? \n"
     ]
    },
    {
     "name": "stdout",
     "output_type": "stream",
     "text": [
      "160.62001836895595\n"
     ]
    },
    {
     "name": "stdin",
     "output_type": "stream",
     "text": [
      "Is the tip centered over sample B1? \n"
     ]
    },
    {
     "name": "stdout",
     "output_type": "stream",
     "text": [
      "160.81272248481966\n"
     ]
    },
    {
     "name": "stdin",
     "output_type": "stream",
     "text": [
      "Is the tip centered over sample B3? \n",
      "Is the tip centered over sample B4? \n"
     ]
    },
    {
     "name": "stdout",
     "output_type": "stream",
     "text": [
      "160.90907454275154\n",
      "161.0054266006834\n"
     ]
    },
    {
     "name": "stdin",
     "output_type": "stream",
     "text": [
      "Is the tip centered over sample B5? \n"
     ]
    },
    {
     "name": "stdout",
     "output_type": "stream",
     "text": [
      "161.10177865861525\n"
     ]
    },
    {
     "name": "stdin",
     "output_type": "stream",
     "text": [
      "Is the tip centered over sample B6? \n"
     ]
    },
    {
     "name": "stdout",
     "output_type": "stream",
     "text": [
      "161.29448277447898\n"
     ]
    },
    {
     "ename": "KeyboardInterrupt",
     "evalue": "Interrupted by user",
     "output_type": "error",
     "traceback": [
      "\u001b[0;31m---------------------------------------------------------------------------\u001b[0m",
      "\u001b[0;31mKeyboardInterrupt\u001b[0m                         Traceback (most recent call last)",
      "Cell \u001b[0;32mIn[65], line 7\u001b[0m\n\u001b[1;32m      5\u001b[0m jubilee\u001b[38;5;241m.\u001b[39mmove_to(z \u001b[38;5;241m=\u001b[39m loc\u001b[38;5;241m.\u001b[39mtop_\u001b[38;5;241m+\u001b[39m\u001b[38;5;241m7\u001b[39m)\n\u001b[1;32m      6\u001b[0m curr_well \u001b[38;5;241m=\u001b[39m well\n\u001b[0;32m----> 7\u001b[0m ans \u001b[38;5;241m=\u001b[39m \u001b[38;5;28;43minput\u001b[39;49m\u001b[43m(\u001b[49m\u001b[38;5;124;43mf\u001b[39;49m\u001b[38;5;124;43m'\u001b[39;49m\u001b[38;5;124;43mIs the tip centered over sample \u001b[39;49m\u001b[38;5;132;43;01m{\u001b[39;49;00m\u001b[43mcurr_well\u001b[49m\u001b[38;5;132;43;01m}\u001b[39;49;00m\u001b[38;5;124;43m?\u001b[39;49m\u001b[38;5;124;43m'\u001b[39;49m\u001b[43m)\u001b[49m\n\u001b[1;32m      8\u001b[0m \u001b[38;5;28;01mif\u001b[39;00m ans \u001b[38;5;241m==\u001b[39m \u001b[38;5;124m'\u001b[39m\u001b[38;5;124my\u001b[39m\u001b[38;5;124m'\u001b[39m:\n\u001b[1;32m      9\u001b[0m     \u001b[38;5;28;01mcontinue\u001b[39;00m\n",
      "File \u001b[0;32m~/miniconda3/envs/jubilee/lib/python3.9/site-packages/ipykernel/kernelbase.py:1262\u001b[0m, in \u001b[0;36mKernel.raw_input\u001b[0;34m(self, prompt)\u001b[0m\n\u001b[1;32m   1260\u001b[0m     msg \u001b[38;5;241m=\u001b[39m \u001b[38;5;124m\"\u001b[39m\u001b[38;5;124mraw_input was called, but this frontend does not support input requests.\u001b[39m\u001b[38;5;124m\"\u001b[39m\n\u001b[1;32m   1261\u001b[0m     \u001b[38;5;28;01mraise\u001b[39;00m StdinNotImplementedError(msg)\n\u001b[0;32m-> 1262\u001b[0m \u001b[38;5;28;01mreturn\u001b[39;00m \u001b[38;5;28;43mself\u001b[39;49m\u001b[38;5;241;43m.\u001b[39;49m\u001b[43m_input_request\u001b[49m\u001b[43m(\u001b[49m\n\u001b[1;32m   1263\u001b[0m \u001b[43m    \u001b[49m\u001b[38;5;28;43mstr\u001b[39;49m\u001b[43m(\u001b[49m\u001b[43mprompt\u001b[49m\u001b[43m)\u001b[49m\u001b[43m,\u001b[49m\n\u001b[1;32m   1264\u001b[0m \u001b[43m    \u001b[49m\u001b[38;5;28;43mself\u001b[39;49m\u001b[38;5;241;43m.\u001b[39;49m\u001b[43m_parent_ident\u001b[49m\u001b[43m[\u001b[49m\u001b[38;5;124;43m\"\u001b[39;49m\u001b[38;5;124;43mshell\u001b[39;49m\u001b[38;5;124;43m\"\u001b[39;49m\u001b[43m]\u001b[49m\u001b[43m,\u001b[49m\n\u001b[1;32m   1265\u001b[0m \u001b[43m    \u001b[49m\u001b[38;5;28;43mself\u001b[39;49m\u001b[38;5;241;43m.\u001b[39;49m\u001b[43mget_parent\u001b[49m\u001b[43m(\u001b[49m\u001b[38;5;124;43m\"\u001b[39;49m\u001b[38;5;124;43mshell\u001b[39;49m\u001b[38;5;124;43m\"\u001b[39;49m\u001b[43m)\u001b[49m\u001b[43m,\u001b[49m\n\u001b[1;32m   1266\u001b[0m \u001b[43m    \u001b[49m\u001b[43mpassword\u001b[49m\u001b[38;5;241;43m=\u001b[39;49m\u001b[38;5;28;43;01mFalse\u001b[39;49;00m\u001b[43m,\u001b[49m\n\u001b[1;32m   1267\u001b[0m \u001b[43m\u001b[49m\u001b[43m)\u001b[49m\n",
      "File \u001b[0;32m~/miniconda3/envs/jubilee/lib/python3.9/site-packages/ipykernel/kernelbase.py:1305\u001b[0m, in \u001b[0;36mKernel._input_request\u001b[0;34m(self, prompt, ident, parent, password)\u001b[0m\n\u001b[1;32m   1302\u001b[0m \u001b[38;5;28;01mexcept\u001b[39;00m \u001b[38;5;167;01mKeyboardInterrupt\u001b[39;00m:\n\u001b[1;32m   1303\u001b[0m     \u001b[38;5;66;03m# re-raise KeyboardInterrupt, to truncate traceback\u001b[39;00m\n\u001b[1;32m   1304\u001b[0m     msg \u001b[38;5;241m=\u001b[39m \u001b[38;5;124m\"\u001b[39m\u001b[38;5;124mInterrupted by user\u001b[39m\u001b[38;5;124m\"\u001b[39m\n\u001b[0;32m-> 1305\u001b[0m     \u001b[38;5;28;01mraise\u001b[39;00m \u001b[38;5;167;01mKeyboardInterrupt\u001b[39;00m(msg) \u001b[38;5;28;01mfrom\u001b[39;00m \u001b[38;5;28;01mNone\u001b[39;00m\n\u001b[1;32m   1306\u001b[0m \u001b[38;5;28;01mexcept\u001b[39;00m \u001b[38;5;167;01mException\u001b[39;00m:\n\u001b[1;32m   1307\u001b[0m     \u001b[38;5;28mself\u001b[39m\u001b[38;5;241m.\u001b[39mlog\u001b[38;5;241m.\u001b[39mwarning(\u001b[38;5;124m\"\u001b[39m\u001b[38;5;124mInvalid Message:\u001b[39m\u001b[38;5;124m\"\u001b[39m, exc_info\u001b[38;5;241m=\u001b[39m\u001b[38;5;28;01mTrue\u001b[39;00m)\n",
      "\u001b[0;31mKeyboardInterrupt\u001b[0m: Interrupted by user"
     ]
    }
   ],
   "source": [
    "for i, well in enumerate(wells):\n",
    "    loc = samples[well]\n",
    "    jubilee.move_to(x = loc.x, y = loc.y)\n",
    "    print(loc.y)\n",
    "    jubilee.move_to(z = loc.top_+7)\n",
    "    curr_well = well\n",
    "    ans = input(f'Is the tip centered over sample {curr_well}?')\n",
    "    if ans == 'y':\n",
    "        continue\n",
    "    else:\n",
    "        continue"
   ]
  },
  {
   "cell_type": "markdown",
   "id": "ab025351-e0ba-49f1-bb45-d80783adde51",
   "metadata": {},
   "source": [
    "# Calibration"
   ]
  },
  {
   "cell_type": "code",
   "execution_count": 20,
   "id": "55c8ffd9-e715-4a17-9087-b8e3e1b161a4",
   "metadata": {},
   "outputs": [],
   "source": [
    "water_stocks = [stocks[0], stocks[1], stocks[2], stocks[3], stocks[4], stocks[5], stocks[6], stocks[7]]"
   ]
  },
  {
   "cell_type": "code",
   "execution_count": 73,
   "id": "b9757c3c-7f52-4af7-947d-b5b539017a1d",
   "metadata": {},
   "outputs": [],
   "source": [
    "pulsewidths = [10, 50, 100]"
   ]
  },
  {
   "cell_type": "code",
   "execution_count": 68,
   "id": "e12e5cca-e46b-40bd-b0a0-05a7b69dfba9",
   "metadata": {},
   "outputs": [
    {
     "name": "stdout",
     "output_type": "stream",
     "text": [
      "dispensing 10 in well A1\n",
      "dispensing 10 in well A2\n",
      "dispensing 10 in well A3\n",
      "dispensing 10 in well A4\n",
      "dispensing 10 in well A5\n",
      "dispensing 50 in well A6\n",
      "dispensing 50 in well A7\n",
      "dispensing 50 in well A8\n",
      "dispensing 50 in well B1\n",
      "dispensing 50 in well B3\n",
      "dispensing 100 in well B4\n",
      "dispensing 100 in well B5\n",
      "dispensing 100 in well B6\n",
      "dispensing 100 in well B8\n",
      "dispensing 100 in well C1\n"
     ]
    }
   ],
   "source": [
    "jubilee.safe_z_movement()\n",
    "jubilee.pickup_tool(syringe_hamilton)\n",
    "\n",
    "for i, pw in enumerate(pulsewidths):\n",
    "    jubilee.move_to(z = jubilee.deck.safe_z+10)\n",
    "    jubilee.move_to(x = water_stocks[i].x, y = water_stocks[i].y)\n",
    "    jubilee.move_to(z = water_stocks[i].bottom(+5).point[2])\n",
    "    syringe_hamilton.set_pulsewidth(syringe_hamilton.full_position+1)\n",
    "    jubilee.safe_z_movement()\n",
    "    current_pw = syringe_hamilton.full_position+1\n",
    "    for j in range(5):\n",
    "        well = wells[i*5+j]\n",
    "        loc = samples[well]\n",
    "        print(f'dispensing {pw} in well {well}')\n",
    "        jubilee.safe_z_movement()\n",
    "        jubilee.move_to(x = loc.x, y = loc.y)\n",
    "        jubilee.move_to(z = loc.bottom(+5).point[2])\n",
    "        syringe_hamilton.set_pulsewidth(current_pw + pw)\n",
    "        current_pw += pw\n",
    "        time.sleep(10)\n",
    "        jubilee.safe_z_movement()"
   ]
  },
  {
   "cell_type": "code",
   "execution_count": 70,
   "id": "9879295b-273f-43a8-af07-4e54a16140aa",
   "metadata": {},
   "outputs": [
    {
     "name": "stdout",
     "output_type": "stream",
     "text": [
      "dispensing 500 in well C2\n",
      "dispensing 500 in well C3\n",
      "dispensing 500 in well C4\n",
      "dispensing 500 in well C5\n",
      "dispensing 500 in well C6\n"
     ]
    }
   ],
   "source": [
    "pw = 500\n",
    "for j in range(5):\n",
    "    #refill\n",
    "    jubilee.move_to(z = jubilee.deck.safe_z+10)\n",
    "    jubilee.move_to(x = water_stocks[3].x, y = water_stocks[i].y)\n",
    "    jubilee.move_to(z = water_stocks[3].bottom(+5).point[2])\n",
    "    syringe_hamilton.set_pulsewidth(syringe_hamilton.full_position+1)\n",
    "    jubilee.safe_z_movement()\n",
    "    current_pw = syringe_hamilton.full_position+1\n",
    "\n",
    "    \n",
    "    well = wells[15+j]\n",
    "    loc = samples[well]\n",
    "    print(f'dispensing {pw} in well {well}')\n",
    "    jubilee.safe_z_movement()\n",
    "    jubilee.move_to(x = loc.x, y = loc.y)\n",
    "    jubilee.move_to(z = loc.bottom(+5).point[2])\n",
    "    syringe_hamilton.set_pulsewidth(current_pw + pw)\n",
    "    current_pw += pw\n",
    "    time.sleep(10)\n",
    "    jubilee.safe_z_movement()"
   ]
  },
  {
   "cell_type": "code",
   "execution_count": 69,
   "id": "9081c110-15ae-4fcf-a143-4d367a1afad6",
   "metadata": {},
   "outputs": [
    {
     "data": {
      "text/plain": [
       "'C2'"
      ]
     },
     "execution_count": 69,
     "metadata": {},
     "output_type": "execute_result"
    }
   ],
   "source": [
    "wells[15]"
   ]
  },
  {
   "cell_type": "code",
   "execution_count": 42,
   "id": "c454e7c5-5f47-4621-bdea-f44d75594999",
   "metadata": {},
   "outputs": [
    {
     "data": {
      "text/plain": [
       "12.5"
      ]
     },
     "execution_count": 42,
     "metadata": {},
     "output_type": "execute_result"
    }
   ],
   "source": [
    "water_stocks[i].bottom(+5).point[2]"
   ]
  },
  {
   "cell_type": "code",
   "execution_count": 50,
   "id": "f0b359d0-8bc6-4e29-9a7e-6bddf6c80c19",
   "metadata": {},
   "outputs": [],
   "source": [
    "jubilee.move_to(x = water_stocks[i].x, y = water_stocks[i].y)"
   ]
  },
  {
   "cell_type": "code",
   "execution_count": 57,
   "id": "a4a244c3-41b6-48d8-b8ce-b362b3ffce2a",
   "metadata": {},
   "outputs": [],
   "source": [
    "jubilee.move_to(z = water_stocks[i].bottom(+5).point[2])\n",
    "syringe_hamilton.set_pulsewidth(syringe_hamilton.full_position+1)"
   ]
  },
  {
   "cell_type": "code",
   "execution_count": 58,
   "id": "50d12129-f9db-4f56-83c8-a12f622264bc",
   "metadata": {},
   "outputs": [],
   "source": [
    "jubilee.safe_z_movement()"
   ]
  },
  {
   "cell_type": "code",
   "execution_count": 56,
   "id": "cb3108ea-55a9-4278-a58f-ca673c38e992",
   "metadata": {},
   "outputs": [],
   "source": [
    "syringe_hamilton.set_pulsewidth(syringe_hamilton.full_position + 500, s = 2000)"
   ]
  },
  {
   "cell_type": "code",
   "execution_count": 71,
   "id": "05f099c6-532c-4f01-acfb-06d06e22a042",
   "metadata": {},
   "outputs": [],
   "source": [
    "jubilee.park_tool()"
   ]
  },
  {
   "cell_type": "markdown",
   "id": "9eb1998d-520d-4f69-ad0a-940c80918055",
   "metadata": {},
   "source": [
    "## 10cc "
   ]
  },
  {
   "cell_type": "code",
   "execution_count": 74,
   "id": "1dcd13b2-d31e-4676-9144-cd1c461d2e5f",
   "metadata": {},
   "outputs": [],
   "source": [
    "wells = wells[20:]"
   ]
  },
  {
   "cell_type": "code",
   "execution_count": null,
   "id": "66caba46-9f76-4358-b9a9-cae7411e8715",
   "metadata": {},
   "outputs": [],
   "source": [
    "pulsewidths = [10, 50, 100]"
   ]
  },
  {
   "cell_type": "code",
   "execution_count": 81,
   "id": "79a8dc13-86cc-4943-9510-12eb5971ffe3",
   "metadata": {},
   "outputs": [
    {
     "name": "stdout",
     "output_type": "stream",
     "text": [
      "dispensing 10 in well C7\n",
      "dispensing 10 in well C8\n",
      "dispensing 10 in well D1\n",
      "dispensing 10 in well D2\n",
      "dispensing 10 in well D3\n",
      "dispensing 50 in well D4\n",
      "dispensing 50 in well D5\n",
      "dispensing 50 in well D6\n",
      "dispensing 50 in well D7\n",
      "dispensing 50 in well D8\n",
      "dispensing 100 in well E1\n",
      "dispensing 100 in well E3\n",
      "dispensing 100 in well E4\n",
      "dispensing 100 in well E5\n",
      "dispensing 100 in well E6\n"
     ]
    }
   ],
   "source": [
    "jubilee.safe_z_movement()\n",
    "jubilee.pickup_tool(syringe_10cc_glass)\n",
    "\n",
    "for i, pw in enumerate(pulsewidths):\n",
    "    jubilee.move_to(z = jubilee.deck.safe_z+10)\n",
    "    jubilee.move_to(x = water_stocks[i].x, y = water_stocks[i].y)\n",
    "    jubilee.move_to(z = water_stocks[i].bottom(+5).point[2])\n",
    "    syringe_10cc_glass.set_pulsewidth(syringe_10cc_glass.full_position+1)\n",
    "    #backlash correction\n",
    "    syringe_10cc_glass.set_pulsewidth(syringe_10cc_glass.full_position+15)\n",
    "    jubilee.safe_z_movement()\n",
    "    current_pw = syringe_10cc_glass.full_position+15\n",
    "    for j in range(5):\n",
    "        well = wells[i*5+j]\n",
    "        loc = samples[well]\n",
    "        print(f'dispensing {pw} in well {well}')\n",
    "        jubilee.safe_z_movement()\n",
    "        jubilee.move_to(x = loc.x, y = loc.y)\n",
    "        jubilee.move_to(z = loc.bottom(+5).point[2])\n",
    "        syringe_10cc_glass.set_pulsewidth(current_pw + pw)\n",
    "        current_pw += pw\n",
    "        time.sleep(10)\n",
    "        jubilee.safe_z_movement()"
   ]
  },
  {
   "cell_type": "code",
   "execution_count": 82,
   "id": "039971e0-f27f-4ad3-897a-e14d47617871",
   "metadata": {},
   "outputs": [],
   "source": [
    "jubilee.park_tool()"
   ]
  },
  {
   "cell_type": "markdown",
   "id": "8d32883c-2cac-4695-b608-87fb2e864434",
   "metadata": {},
   "source": [
    "# Validation"
   ]
  },
  {
   "cell_type": "code",
   "execution_count": 33,
   "id": "f34d508b-58c2-4417-ba05-29bbceb2bad4",
   "metadata": {},
   "outputs": [
    {
     "name": "stdout",
     "output_type": "stream",
     "text": [
      "dispensing 50 into Well A1 form septavialrev1_44_holder_2000ul on slot 2\n",
      "dispensing 50 into Well A2 form septavialrev1_44_holder_2000ul on slot 2\n",
      "dispensing 50 into Well A3 form septavialrev1_44_holder_2000ul on slot 2\n",
      "dispensing 50 into Well A4 form septavialrev1_44_holder_2000ul on slot 2\n",
      "dispensing 50 into Well A5 form septavialrev1_44_holder_2000ul on slot 2\n",
      "dispensing 100 into Well A6 form septavialrev1_44_holder_2000ul on slot 2\n",
      "dispensing 100 into Well A7 form septavialrev1_44_holder_2000ul on slot 2\n",
      "dispensing 100 into Well A8 form septavialrev1_44_holder_2000ul on slot 2\n",
      "dispensing 100 into Well B1 form septavialrev1_44_holder_2000ul on slot 2\n",
      "dispensing 100 into Well B3 form septavialrev1_44_holder_2000ul on slot 2\n",
      "dispensing 250 into Well B4 form septavialrev1_44_holder_2000ul on slot 2\n",
      "dispensing 250 into Well B5 form septavialrev1_44_holder_2000ul on slot 2\n",
      "dispensing 250 into Well B6 form septavialrev1_44_holder_2000ul on slot 2\n",
      "dispensing 250 into Well B8 form septavialrev1_44_holder_2000ul on slot 2\n",
      "dispensing 250 into Well C1 form septavialrev1_44_holder_2000ul on slot 2\n",
      "dispensing 500 into Well C2 form septavialrev1_44_holder_2000ul on slot 2\n",
      "dispensing 500 into Well C3 form septavialrev1_44_holder_2000ul on slot 2\n",
      "dispensing 500 into Well C4 form septavialrev1_44_holder_2000ul on slot 2\n",
      "dispensing 500 into Well C5 form septavialrev1_44_holder_2000ul on slot 2\n",
      "dispensing 500 into Well C6 form septavialrev1_44_holder_2000ul on slot 2\n",
      "dispensing 1000 into Well C7 form septavialrev1_44_holder_2000ul on slot 2\n",
      "dispensing 1000 into Well C8 form septavialrev1_44_holder_2000ul on slot 2\n",
      "dispensing 1000 into Well D1 form septavialrev1_44_holder_2000ul on slot 2\n",
      "dispensing 1000 into Well D2 form septavialrev1_44_holder_2000ul on slot 2\n",
      "dispensing 1000 into Well D3 form septavialrev1_44_holder_2000ul on slot 2\n"
     ]
    }
   ],
   "source": [
    "################\n",
    "## modify here ##\n",
    "volumes = [50, 100, 250, 500, 1000]\n",
    "\n",
    "###################\n",
    "jubilee.pickup_tool(syringe_10cc_glass)\n",
    "for i, vol in enumerate(volumes):\n",
    "    syringe_10cc_glass.aspirate(syringe_10cc_glass.capacity - syringe_10cc_glass.remaining_volume - 1, water_stocks[i].bottom(+5))\n",
    "    syringe_10cc_glass.dispense(500, stocks[11].bottom(+5), s = 10)\n",
    "    for j in range(5):\n",
    "        well = samples[wells[i*5+j]]\n",
    "        print(f'dispensing {vol} into {well}')\n",
    "        syringe_10cc_glass.dispense(vol, well.bottom(+20), s = 10)\n",
    "        time.sleep(10)\n",
    "\n",
    "jubilee.park_tool()"
   ]
  },
  {
   "cell_type": "code",
   "execution_count": 27,
   "id": "5d16b4b8-25a5-479f-be66-d961996891c6",
   "metadata": {},
   "outputs": [
    {
     "data": {
      "text/plain": [
       "Location(point=(116.79425573017066, 208.90668865837435, 27.5), labware=Well C4 form 20mLscintillation 12 Well Plate 18000 µL on slot 4)"
      ]
     },
     "execution_count": 27,
     "metadata": {},
     "output_type": "execute_result"
    }
   ],
   "source": [
    "stocks[11].bottom(+20)"
   ]
  },
  {
   "cell_type": "code",
   "execution_count": 31,
   "id": "7e9a077d-560b-44cb-af17-b00dcb200861",
   "metadata": {},
   "outputs": [],
   "source": [
    "jubilee.park_tool()"
   ]
  },
  {
   "cell_type": "code",
   "execution_count": null,
   "id": "6401b6a2-1adb-4e6b-b52c-cfe60ea224be",
   "metadata": {},
   "outputs": [],
   "source": []
  }
 ],
 "metadata": {
  "kernelspec": {
   "display_name": "Python 3 (ipykernel)",
   "language": "python",
   "name": "python3"
  },
  "language_info": {
   "codemirror_mode": {
    "name": "ipython",
    "version": 3
   },
   "file_extension": ".py",
   "mimetype": "text/x-python",
   "name": "python",
   "nbconvert_exporter": "python",
   "pygments_lexer": "ipython3",
   "version": "3.9.19"
  }
 },
 "nbformat": 4,
 "nbformat_minor": 5
}
