{
 "cells": [
  {
   "cell_type": "markdown",
   "id": "110d0499-187d-47cb-b3bd-52e828f810d0",
   "metadata": {},
   "source": [
    "## Setup"
   ]
  },
  {
   "cell_type": "code",
   "execution_count": 1,
   "id": "023a9737-b2dd-4151-af0b-67ea2aeb7386",
   "metadata": {},
   "outputs": [],
   "source": [
    "%load_ext autoreload\n",
    "%autoreload 2"
   ]
  },
  {
   "cell_type": "code",
   "execution_count": 2,
   "id": "a8305f4f-98d9-46aa-b3a5-aef3875465c8",
   "metadata": {},
   "outputs": [],
   "source": [
    "import requests\n",
    "\n",
    "# ----------- Science Jubilee -------------\n",
    "from science_jubilee import Machine as Jub\n",
    "from science_jubilee.tools import HTTPSyringe as syringe\n",
    "from science_jubilee.tools import Pipette, PneumaticSampleLoader\n",
    "from science_jubilee.utils import Handlers\n",
    "import time\n",
    "import numpy as np\n",
    "import pandas as pd\n",
    "import logging\n",
    "import sys\n",
    "import json\n",
    "sys.path.append('..')\n",
    "import stober_synthesis_utils as stober\n",
    "import usaxs_utils"
   ]
  },
  {
   "cell_type": "code",
   "execution_count": 3,
   "id": "39e0dd27-900a-4151-ad77-cae178e545d7",
   "metadata": {},
   "outputs": [],
   "source": [
    "FORMAT = '%(asctime)s:%(levelname)s:%(name)s:%(message)s'\n",
    "logging.basicConfig(filename = 'APSsetup.log', level = logging.INFO, format = FORMAT)\n",
    "logger = logging.getLogger(__name__)"
   ]
  },
  {
   "cell_type": "code",
   "execution_count": 4,
   "id": "bb05bc51-e88d-493a-b7ae-ec244bab05d1",
   "metadata": {
    "scrolled": true
   },
   "outputs": [
    {
     "name": "stdout",
     "output_type": "stream",
     "text": [
      "0\n",
      "response in connect:  [True, True, True, True]\n"
     ]
    }
   ],
   "source": [
    "jubilee = Jub.Machine(address='192.168.1.2', simulated = False, crash_detection = False) "
   ]
  },
  {
   "cell_type": "raw",
   "id": "23f14450-b2fd-46b7-82b2-a17b1061fde5",
   "metadata": {
    "scrolled": true
   },
   "source": [
    "[(31.1, 169.0), (121.1, 169.0), (121.1, 113.0)]#jubilee.home_all()\n",
    "logger.info('Homed Jubilee')"
   ]
  },
  {
   "cell_type": "code",
   "execution_count": 5,
   "id": "782ddc16-c02d-4eb6-ad40-b58bbbbb1fd4",
   "metadata": {},
   "outputs": [],
   "source": [
    "safe_pos = (5, 200, 100)\n",
    "cell_pos = (217.5, 69.0, 61.5)\n",
    "url = 'http://192.168.1.4'\n",
    "port = '5000'\n",
    "name = 'PSL'\n",
    "username = 'test'\n",
    "password = 'domo_arigato'"
   ]
  },
  {
   "cell_type": "code",
   "execution_count": 6,
   "id": "6794bed5-865e-403e-9013-3ce0035917e3",
   "metadata": {},
   "outputs": [
    {
     "name": "stdout",
     "output_type": "stream",
     "text": [
      "status r code 200\n",
      "status:  b'[\"State: RINSING\",\"Arm State: DOWN\",\"Rinse 1 tank: 950 mL\",\"Rinse 2 tank: 950 mL\",\"Waste tank: 0 mL\",\"Relay status: {\\'arm-up\\': False, \\'arm-down\\': True, \\'rinse1\\': False, \\'rinse2\\': False, \\'blow\\': True, \\'piston-vent\\': False, \\'postsample\\': True}\",\"Rinse Program Step 3/6: blow for 15s\",\"[250318-03:11:03] Load stopped at voltage mean = 3.7568305206298827 and stdev = 1.1343200899231254\"]\\n'\n"
     ]
    }
   ],
   "source": [
    "psl = PneumaticSampleLoader.PneumaticSampleLoader(url, port, name, cell_pos, safe_pos, username, password)"
   ]
  },
  {
   "cell_type": "code",
   "execution_count": 7,
   "id": "8eeea6c1-422d-47ec-9895-fe022e016483",
   "metadata": {},
   "outputs": [],
   "source": [
    "jubilee.load_tool(psl)"
   ]
  },
  {
   "cell_type": "code",
   "execution_count": 9,
   "id": "d2505692-e098-4cf7-954a-b2ac9d91e06f",
   "metadata": {},
   "outputs": [],
   "source": [
    "sample_table = pd.read_csv('APS_InitialSetupSamples - Sheet1.csv')\n",
    "#sample_table_2 = pd.read_csv('SampleTable_ReproReplicates_10000.csv')\n"
   ]
  },
  {
   "cell_type": "code",
   "execution_count": 10,
   "id": "3fa12ac1-cd52-42b9-829b-1eca23762195",
   "metadata": {},
   "outputs": [],
   "source": [
    "deck = jubilee.load_deck('lab_automation_deck_AFL_bolton.json')"
   ]
  },
  {
   "cell_type": "code",
   "execution_count": 11,
   "id": "76e34c1c-e861-4c5e-95f4-e4ac7ed4bae8",
   "metadata": {},
   "outputs": [],
   "source": [
    "sample_table['well'] = ['A1', 'A2', 'A3', 'A4']"
   ]
  },
  {
   "cell_type": "code",
   "execution_count": null,
   "id": "837e0e81-efec-4bef-a622-8f41dfce8f89",
   "metadata": {},
   "outputs": [],
   "source": []
  },
  {
   "cell_type": "code",
   "execution_count": 12,
   "id": "bf2186e5-a32d-4ab2-a20b-b481032efaf0",
   "metadata": {},
   "outputs": [
    {
     "data": {
      "text/html": [
       "<div>\n",
       "<style scoped>\n",
       "    .dataframe tbody tr th:only-of-type {\n",
       "        vertical-align: middle;\n",
       "    }\n",
       "\n",
       "    .dataframe tbody tr th {\n",
       "        vertical-align: top;\n",
       "    }\n",
       "\n",
       "    .dataframe thead th {\n",
       "        text-align: right;\n",
       "    }\n",
       "</style>\n",
       "<table border=\"1\" class=\"dataframe\">\n",
       "  <thead>\n",
       "    <tr style=\"text-align: right;\">\n",
       "      <th></th>\n",
       "      <th>sample_name</th>\n",
       "      <th>uuid</th>\n",
       "      <th>teos_volume</th>\n",
       "      <th>ammonia_volume</th>\n",
       "      <th>water_volume</th>\n",
       "      <th>ethanol_volume</th>\n",
       "      <th>ctab_volume</th>\n",
       "      <th>f127_volume</th>\n",
       "      <th>well</th>\n",
       "    </tr>\n",
       "  </thead>\n",
       "  <tbody>\n",
       "    <tr>\n",
       "      <th>0</th>\n",
       "      <td>silica_free_blank</td>\n",
       "      <td>1</td>\n",
       "      <td>0</td>\n",
       "      <td>733</td>\n",
       "      <td>1504</td>\n",
       "      <td>2746</td>\n",
       "      <td>2190</td>\n",
       "      <td>2700</td>\n",
       "      <td>A1</td>\n",
       "    </tr>\n",
       "    <tr>\n",
       "      <th>1</th>\n",
       "      <td>control_1</td>\n",
       "      <td>2</td>\n",
       "      <td>131</td>\n",
       "      <td>733</td>\n",
       "      <td>1504</td>\n",
       "      <td>2746</td>\n",
       "      <td>2190</td>\n",
       "      <td>2700</td>\n",
       "      <td>A2</td>\n",
       "    </tr>\n",
       "    <tr>\n",
       "      <th>2</th>\n",
       "      <td>control_2</td>\n",
       "      <td>3</td>\n",
       "      <td>131</td>\n",
       "      <td>733</td>\n",
       "      <td>1504</td>\n",
       "      <td>2746</td>\n",
       "      <td>2190</td>\n",
       "      <td>2700</td>\n",
       "      <td>A3</td>\n",
       "    </tr>\n",
       "    <tr>\n",
       "      <th>3</th>\n",
       "      <td>control_3</td>\n",
       "      <td>4</td>\n",
       "      <td>131</td>\n",
       "      <td>733</td>\n",
       "      <td>1504</td>\n",
       "      <td>2746</td>\n",
       "      <td>2190</td>\n",
       "      <td>2700</td>\n",
       "      <td>A4</td>\n",
       "    </tr>\n",
       "  </tbody>\n",
       "</table>\n",
       "</div>"
      ],
      "text/plain": [
       "         sample_name  uuid  teos_volume  ammonia_volume  water_volume  \\\n",
       "0  silica_free_blank     1            0             733          1504   \n",
       "1          control_1     2          131             733          1504   \n",
       "2          control_2     3          131             733          1504   \n",
       "3          control_3     4          131             733          1504   \n",
       "\n",
       "   ethanol_volume  ctab_volume  f127_volume well  \n",
       "0            2746         2190         2700   A1  \n",
       "1            2746         2190         2700   A2  \n",
       "2            2746         2190         2700   A3  \n",
       "3            2746         2190         2700   A4  "
      ]
     },
     "execution_count": 12,
     "metadata": {},
     "output_type": "execute_result"
    }
   ],
   "source": [
    "sample_table"
   ]
  },
  {
   "cell_type": "code",
   "execution_count": null,
   "id": "27daedae-50d1-48d0-8796-1a3c4ce5cde5",
   "metadata": {},
   "outputs": [],
   "source": []
  },
  {
   "cell_type": "code",
   "execution_count": 13,
   "id": "32f944e6-f983-467d-ae83-c3a5038ba7b3",
   "metadata": {},
   "outputs": [
    {
     "data": {
      "text/plain": [
       "6016"
      ]
     },
     "execution_count": 13,
     "metadata": {},
     "output_type": "execute_result"
    }
   ],
   "source": [
    "sample_table['water_volume'].sum()"
   ]
  },
  {
   "cell_type": "markdown",
   "id": "b8f140ff-c5f8-494d-bd58-093982edd086",
   "metadata": {},
   "source": [
    "## Load Tools"
   ]
  },
  {
   "cell_type": "code",
   "execution_count": 15,
   "id": "d73bac24-917c-4c8c-8c30-494146511312",
   "metadata": {},
   "outputs": [
    {
     "name": "stdout",
     "output_type": "stream",
     "text": [
      "Syringe name:  10cc_1\n",
      "{'capacity': 10000, 'empty_position': 1830, 'full_position': 1217, 'name': '10cc_1'}\n",
      "Syringe name:  1cc_1\n",
      "{'capacity': 1000, 'empty_position': 1845, 'full_position': 1240, 'name': '1cc_1'}\n",
      "Syringe name:  1cc_2_hamilton\n",
      "{'capacity': 1000, 'empty_position': 1753, 'full_position': 1120, 'name': '1cc_2_hamilton'}\n",
      "Syringe name:  1cc_3_hamilton\n",
      "{'capacity': 1000, 'empty_position': 1753, 'full_position': 1120, 'name': '1cc_3_hamilton'}\n",
      "Syringe name:  1cc_4\n",
      "{'capacity': 1000, 'empty_position': 1845, 'full_position': 1240, 'name': '1cc_4'}\n"
     ]
    }
   ],
   "source": [
    "syringe_10 = syringe.HTTPSyringe.from_config(2, \"../../science-jubilee/src/science_jubilee/tools/configs/10cc_syringe.json\")\n",
    "syringe_1_1 = syringe.HTTPSyringe.from_config(1, \"../../science-jubilee/src/science_jubilee/tools/configs/1cc_1_syringe.json\")\n",
    "syringe_1_2 = syringe.HTTPSyringe.from_config(3, \"../../science-jubilee/src/science_jubilee/tools/configs/1cc_2_Hamiltonsyringe.json\")\n",
    "syringe_1_3 = syringe.HTTPSyringe.from_config(4, \"../../science-jubilee/src/science_jubilee/tools/configs/1cc_3_Hamiltonsyringe.json\")\n",
    "syringe_1_4 = syringe.HTTPSyringe.from_config(0, '../../science-jubilee/src/science_jubilee/tools/configs/1cc_4_syringe.json')"
   ]
  },
  {
   "cell_type": "code",
   "execution_count": 16,
   "id": "9448524a-f60e-43fd-ae53-0a51c87e6035",
   "metadata": {
    "scrolled": true
   },
   "outputs": [],
   "source": [
    "jubilee.load_tool(syringe_10)\n",
    "jubilee.load_tool(syringe_1_1)\n",
    "jubilee.load_tool(syringe_1_2)\n",
    "jubilee.load_tool(syringe_1_3)\n",
    "jubilee.load_tool(syringe_1_4)"
   ]
  },
  {
   "cell_type": "code",
   "execution_count": 17,
   "id": "21127bbe-632c-4ec0-84f9-57d9772a90db",
   "metadata": {},
   "outputs": [],
   "source": [
    "mix_syringe = syringe_10\n",
    "water_syringe = syringe_1_1\n",
    "ammonia_syringe = syringe_1_2\n",
    "teos_syringe = syringe_1_3\n",
    "surfactant_syringe = syringe_1_4"
   ]
  },
  {
   "cell_type": "markdown",
   "id": "e1d880ae-d253-43f5-995f-d2619e29c78a",
   "metadata": {},
   "source": [
    "## Load water syringe with water"
   ]
  },
  {
   "cell_type": "code",
   "execution_count": 18,
   "id": "fa91aafe-663a-4ea2-86df-e996c41d8f37",
   "metadata": {},
   "outputs": [
    {
     "name": "stdout",
     "output_type": "stream",
     "text": [
      "Loaded syringe, remaining volume 600 uL\n"
     ]
    }
   ],
   "source": [
    "water_syringe.load_syringe(600, 1500)"
   ]
  },
  {
   "cell_type": "code",
   "execution_count": 19,
   "id": "bb1ecb81-f858-4ab6-8a1e-b5a85f432f54",
   "metadata": {
    "scrolled": true
   },
   "outputs": [],
   "source": [
    "water_syringe.set_pulsewidth(water_syringe.empty_position-1, s = 2000)"
   ]
  },
  {
   "cell_type": "code",
   "execution_count": 20,
   "id": "80aff25d-bae2-478d-bc07-4b4f11bd5e05",
   "metadata": {},
   "outputs": [
    {
     "name": "stdout",
     "output_type": "stream",
     "text": [
      "Loaded syringe, remaining volume 0 uL\n"
     ]
    }
   ],
   "source": [
    "water_syringe.load_syringe(0, water_syringe.empty_position-1)"
   ]
  },
  {
   "cell_type": "markdown",
   "id": "8ea5df3b-0ad5-4dbb-ad3f-089a2d5f2bd1",
   "metadata": {},
   "source": [
    "## Load ammonia syringe"
   ]
  },
  {
   "cell_type": "code",
   "execution_count": 21,
   "id": "87a366e4-d389-4830-b923-0a932968add9",
   "metadata": {},
   "outputs": [],
   "source": [
    "#ammonia_syringe.set_pulsewidth(1420, s = 10)"
   ]
  },
  {
   "cell_type": "code",
   "execution_count": 22,
   "id": "0b36ffcf-ec60-4ee2-b2ae-5fb6895fd16c",
   "metadata": {},
   "outputs": [
    {
     "name": "stdout",
     "output_type": "stream",
     "text": [
      "Loaded syringe, remaining volume 600 uL\n"
     ]
    }
   ],
   "source": [
    "ammonia_syringe.load_syringe(600, 1500)"
   ]
  },
  {
   "cell_type": "code",
   "execution_count": 89,
   "id": "497e2cad-9387-4815-9398-58651b8d9826",
   "metadata": {},
   "outputs": [],
   "source": [
    "ammonia_syringe.set_pulsewidth(ammonia_syringe.empty_position-1, s = 2000)"
   ]
  },
  {
   "cell_type": "code",
   "execution_count": 91,
   "id": "977a0aa9-0c2f-4625-8765-dcc32bbb60a7",
   "metadata": {},
   "outputs": [],
   "source": [
    "ammonia_syringe.set_pulsewidth(ammonia_syringe.full_position+1, s = 10)"
   ]
  },
  {
   "cell_type": "code",
   "execution_count": null,
   "id": "7762afd8-2300-4277-820e-80f3c5283f78",
   "metadata": {},
   "outputs": [],
   "source": []
  },
  {
   "cell_type": "code",
   "execution_count": 92,
   "id": "b5be2527-8c06-4465-8e44-41f410149cd7",
   "metadata": {},
   "outputs": [
    {
     "name": "stdout",
     "output_type": "stream",
     "text": [
      "Loaded syringe, remaining volume 850 uL\n"
     ]
    }
   ],
   "source": [
    "ammonia_syringe.load_syringe(850, ammonia_syringe.full_position-1)"
   ]
  },
  {
   "cell_type": "markdown",
   "id": "e2c53ecf-d14a-4536-8062-9e7af8c51ba8",
   "metadata": {},
   "source": [
    "## Load TEOS syringe"
   ]
  },
  {
   "cell_type": "code",
   "execution_count": 26,
   "id": "22a73a10-c727-45c9-a653-1716b97e7d51",
   "metadata": {},
   "outputs": [
    {
     "name": "stdout",
     "output_type": "stream",
     "text": [
      "Loaded syringe, remaining volume 600 uL\n"
     ]
    }
   ],
   "source": [
    "teos_syringe.load_syringe(600, 1500)"
   ]
  },
  {
   "cell_type": "code",
   "execution_count": 27,
   "id": "2a4274ac-3472-452b-9368-56f36ed8d078",
   "metadata": {},
   "outputs": [],
   "source": [
    "teos_syringe.set_pulsewidth(teos_syringe.empty_position-1, s = 2000)"
   ]
  },
  {
   "cell_type": "code",
   "execution_count": 28,
   "id": "cf5154eb-2d59-4bd8-90c2-86c3374a662d",
   "metadata": {},
   "outputs": [
    {
     "name": "stdout",
     "output_type": "stream",
     "text": [
      "Loaded syringe, remaining volume 0 uL\n"
     ]
    }
   ],
   "source": [
    "teos_syringe.load_syringe(0, teos_syringe.empty_position - 1)"
   ]
  },
  {
   "cell_type": "markdown",
   "id": "ad1ac96b-3d53-4da1-aa2c-a8c2386280f8",
   "metadata": {},
   "source": [
    "## load ethanol syringe"
   ]
  },
  {
   "cell_type": "code",
   "execution_count": 29,
   "id": "f1caaf1a-900c-43ed-a57b-754b0d62aa37",
   "metadata": {},
   "outputs": [],
   "source": [
    "#jubilee.park_tool()"
   ]
  },
  {
   "cell_type": "code",
   "execution_count": 30,
   "id": "94db4b0e-3075-4b45-91f7-9bc2817a2e31",
   "metadata": {},
   "outputs": [
    {
     "name": "stdout",
     "output_type": "stream",
     "text": [
      "Loaded syringe, remaining volume 0 uL\n"
     ]
    }
   ],
   "source": [
    "mix_syringe.load_syringe(0, mix_syringe.empty_position-1)"
   ]
  },
  {
   "cell_type": "code",
   "execution_count": 31,
   "id": "f53b6f7e-62d6-43fc-b2bf-a2e1aebdf313",
   "metadata": {},
   "outputs": [],
   "source": [
    "mix_syringe.set_pulsewidth(mix_syringe.empty_position-1, s = 2000)\n"
   ]
  },
  {
   "cell_type": "markdown",
   "id": "2ef32544-c669-418b-a7c1-8fd75339d5dd",
   "metadata": {},
   "source": [
    "## Don't need to load surfactant syringe"
   ]
  },
  {
   "cell_type": "code",
   "execution_count": 32,
   "id": "41b13b04-c72e-4861-a124-ea99f567d762",
   "metadata": {},
   "outputs": [
    {
     "name": "stdout",
     "output_type": "stream",
     "text": [
      "Loaded syringe, remaining volume 0 uL\n"
     ]
    }
   ],
   "source": [
    "surfactant_syringe.set_pulsewidth(surfactant_syringe.empty_position-1)\n",
    "surfactant_syringe.load_syringe(0, surfactant_syringe.empty_position-1)"
   ]
  },
  {
   "cell_type": "markdown",
   "id": "080da025-a378-489d-a6db-17613e9c11dc",
   "metadata": {},
   "source": [
    "## Load AFL"
   ]
  },
  {
   "cell_type": "markdown",
   "id": "43d1f97d-4c55-40d3-ac5b-9c3a3f1062ed",
   "metadata": {},
   "source": [
    "## Load labware\n"
   ]
  },
  {
   "cell_type": "code",
   "execution_count": 34,
   "id": "19b4bfa8-6878-4b0b-a564-369faa361b1c",
   "metadata": {
    "scrolled": true
   },
   "outputs": [
    {
     "name": "stdout",
     "output_type": "stream",
     "text": [
      "New manual offset applied to 20mlscintillation_12_wellplate_18000ul\n"
     ]
    }
   ],
   "source": [
    "samples_1 = jubilee.load_labware('20mlscintillation_12_wellplate_18000ul.json', 2)\n",
    "samples_1.manual_offset([(30.3, 168.4), (120.1, 169.4), (121.6, 112.4)])"
   ]
  },
  {
   "cell_type": "code",
   "execution_count": 35,
   "id": "eeaf680f-2721-4770-b8e4-96214e7d26c8",
   "metadata": {},
   "outputs": [
    {
     "name": "stdout",
     "output_type": "stream",
     "text": [
      "New manual offset applied to 20mlscintillation_12_wellplate_18000ul\n"
     ]
    }
   ],
   "source": [
    "samples_2 = jubilee.load_labware('20mlscintillation_12_wellplate_18000ul.json', 0)\n",
    "samples_2.manual_offset([(31.4, 72.4), (121.1, 71.9), (122.9, 16.9)])"
   ]
  },
  {
   "cell_type": "code",
   "execution_count": 37,
   "id": "19ad67cc-b0a8-4c1f-8d6a-60b173599c82",
   "metadata": {},
   "outputs": [
    {
     "name": "stdout",
     "output_type": "stream",
     "text": [
      "New manual offset applied to 20mlscintillation_12_wellplate_18000ul\n"
     ]
    }
   ],
   "source": [
    "stocks_1 = jubilee.load_labware('20mlscintillation_12_wellplate_18000ul.json', 4)\n",
    "stocks_1.manual_offset([(29.1, 265.0), (119.8, 265.0), (120.8, 209.6)])"
   ]
  },
  {
   "cell_type": "markdown",
   "id": "2b9c19a4-b135-4e35-a33e-65c5c170c493",
   "metadata": {},
   "source": [
    "stocks_2 = jubilee.load_labware('20mlscintillation_12_wellplate_18000ul.json', 4)\n",
    "stocks_2.manual_offset([(169.8, 265.2), (260.3, 265.2), (260.3, 210.2)])"
   ]
  },
  {
   "cell_type": "code",
   "execution_count": 45,
   "id": "f7395271-1a02-4f11-883f-34a8456f0a05",
   "metadata": {},
   "outputs": [],
   "source": [
    "teos_stocks = stober.Stocks([stocks_1[0]], usable_volume= 17000)\n",
    "ammonia_stocks = stober.Stocks([stocks_1[1], stocks_1[2]], usable_volume= 17000)\n",
    "water_stocks = stober.Stocks([stocks_1[3], stocks_1[4], stocks_1[5], stocks_1[6]], usable_volume= 17000)\n",
    "ethanol_stocks = stober.Stocks([stocks_1[7], stocks_1[8], stocks_1[9], stocks_1[10], stocks_1[11]], usable_volume = 17000)\n",
    "f127_stocks = stober.Stocks([stocks_2[0], stocks_2[1], stocks_2[2]], usable_volume = 17000)\n",
    "ctab_stocks = stober.Stocks([stocks_2[3], stocks_2[4]], usable_volume= 17000)\n",
    "\n",
    "rinse_stocks_precursor = [stocks_2[5], stocks_2[6], stocks_2[7]]\n",
    "rinse_stocks_teos = [stocks_2[8], stocks_2[9], stocks_2[10]]"
   ]
  },
  {
   "cell_type": "markdown",
   "id": "4bd30fe3-5be6-4ea7-a61d-357272d3e8a4",
   "metadata": {
    "jp-MarkdownHeadingCollapsed": true
   },
   "source": [
    "## Check sample alignment"
   ]
  },
  {
   "cell_type": "code",
   "execution_count": null,
   "id": "2327a808-30c9-49a6-8448-3c4806f411c3",
   "metadata": {},
   "outputs": [],
   "source": []
  },
  {
   "cell_type": "code",
   "execution_count": 47,
   "id": "25a4d272-6e56-4649-ba7a-5e04e922c043",
   "metadata": {},
   "outputs": [
    {
     "name": "stdout",
     "output_type": "stream",
     "text": [
      "169.0\n"
     ]
    },
    {
     "name": "stdin",
     "output_type": "stream",
     "text": [
      "Is the tip centered over sample A1? \n"
     ]
    },
    {
     "name": "stdout",
     "output_type": "stream",
     "text": [
      "169.0\n"
     ]
    },
    {
     "name": "stdin",
     "output_type": "stream",
     "text": [
      "Is the tip centered over sample A2? \n"
     ]
    },
    {
     "name": "stdout",
     "output_type": "stream",
     "text": [
      "169.0\n"
     ]
    },
    {
     "name": "stdin",
     "output_type": "stream",
     "text": [
      "Is the tip centered over sample A3? \n",
      "Is the tip centered over sample A4? \n"
     ]
    },
    {
     "name": "stdout",
     "output_type": "stream",
     "text": [
      "169.0\n",
      "141.0\n"
     ]
    },
    {
     "name": "stdin",
     "output_type": "stream",
     "text": [
      "Is the tip centered over sample B1? \n"
     ]
    },
    {
     "name": "stdout",
     "output_type": "stream",
     "text": [
      "141.0\n"
     ]
    },
    {
     "name": "stdin",
     "output_type": "stream",
     "text": [
      "Is the tip centered over sample B2? \n"
     ]
    },
    {
     "name": "stdout",
     "output_type": "stream",
     "text": [
      "141.0\n"
     ]
    },
    {
     "name": "stdin",
     "output_type": "stream",
     "text": [
      "Is the tip centered over sample B3? \n"
     ]
    },
    {
     "name": "stdout",
     "output_type": "stream",
     "text": [
      "141.0\n"
     ]
    },
    {
     "name": "stdin",
     "output_type": "stream",
     "text": [
      "Is the tip centered over sample B4? \n"
     ]
    },
    {
     "name": "stdout",
     "output_type": "stream",
     "text": [
      "113.0\n"
     ]
    },
    {
     "name": "stdin",
     "output_type": "stream",
     "text": [
      "Is the tip centered over sample C1? \n"
     ]
    },
    {
     "name": "stdout",
     "output_type": "stream",
     "text": [
      "113.0\n"
     ]
    },
    {
     "name": "stdin",
     "output_type": "stream",
     "text": [
      "Is the tip centered over sample C2? \n"
     ]
    }
   ],
   "source": [
    "jubilee.pickup_tool(mix_syringe)\n",
    "for i, row in sample_table.iterrows():\n",
    "    loc = samples[row['well']]\n",
    "    jubilee.move_to(x = loc.x, y = loc.y)\n",
    "    print(loc.y)\n",
    "    jubilee.move_to(z = loc.top_+7)\n",
    "    curr_well = row['well']\n",
    "    ans = input(f'Is the tip centered over sample {curr_well}?')\n",
    "    if ans == 'y':\n",
    "        continue\n",
    "    else:\n",
    "        continue\n",
    "    "
   ]
  },
  {
   "cell_type": "code",
   "execution_count": 49,
   "id": "79b6af8b-5894-4549-80bf-8187ea5963ee",
   "metadata": {},
   "outputs": [
    {
     "data": {
      "text/html": [
       "<div>\n",
       "<style scoped>\n",
       "    .dataframe tbody tr th:only-of-type {\n",
       "        vertical-align: middle;\n",
       "    }\n",
       "\n",
       "    .dataframe tbody tr th {\n",
       "        vertical-align: top;\n",
       "    }\n",
       "\n",
       "    .dataframe thead th {\n",
       "        text-align: right;\n",
       "    }\n",
       "</style>\n",
       "<table border=\"1\" class=\"dataframe\">\n",
       "  <thead>\n",
       "    <tr style=\"text-align: right;\">\n",
       "      <th></th>\n",
       "      <th>Unnamed: 0</th>\n",
       "      <th>uuid</th>\n",
       "      <th>teos_volume</th>\n",
       "      <th>ammonia_volume</th>\n",
       "      <th>water_volume</th>\n",
       "      <th>ethanol_volume</th>\n",
       "      <th>dilution_volume_fraction</th>\n",
       "      <th>silica_mass_conc</th>\n",
       "      <th>silica_mass_fraction</th>\n",
       "      <th>well</th>\n",
       "    </tr>\n",
       "  </thead>\n",
       "  <tbody>\n",
       "    <tr>\n",
       "      <th>0</th>\n",
       "      <td>0</td>\n",
       "      <td>82c085e1-a523-40ce-9e89-4fa0bf546525</td>\n",
       "      <td>214.491</td>\n",
       "      <td>538.3935</td>\n",
       "      <td>1249.9815</td>\n",
       "      <td>7997.134</td>\n",
       "      <td>2.965909</td>\n",
       "      <td>2.025686</td>\n",
       "      <td>0.002527</td>\n",
       "      <td>B2</td>\n",
       "    </tr>\n",
       "    <tr>\n",
       "      <th>1</th>\n",
       "      <td>1</td>\n",
       "      <td>747534b1-7370-49a5-bdc1-4fce5227f391</td>\n",
       "      <td>214.491</td>\n",
       "      <td>538.3935</td>\n",
       "      <td>1249.9815</td>\n",
       "      <td>7997.134</td>\n",
       "      <td>2.965909</td>\n",
       "      <td>2.025686</td>\n",
       "      <td>0.002527</td>\n",
       "      <td>B3</td>\n",
       "    </tr>\n",
       "    <tr>\n",
       "      <th>2</th>\n",
       "      <td>2</td>\n",
       "      <td>e5f6e82f-0282-46c8-be77-d8914adca9b5</td>\n",
       "      <td>214.491</td>\n",
       "      <td>538.3935</td>\n",
       "      <td>1249.9815</td>\n",
       "      <td>7997.134</td>\n",
       "      <td>2.965909</td>\n",
       "      <td>2.025686</td>\n",
       "      <td>0.002527</td>\n",
       "      <td>B4</td>\n",
       "    </tr>\n",
       "    <tr>\n",
       "      <th>3</th>\n",
       "      <td>3</td>\n",
       "      <td>c87ac840-ddde-43ab-a8e3-b5e3eb5a273d</td>\n",
       "      <td>214.491</td>\n",
       "      <td>538.3935</td>\n",
       "      <td>1249.9815</td>\n",
       "      <td>7997.134</td>\n",
       "      <td>2.965909</td>\n",
       "      <td>2.025686</td>\n",
       "      <td>0.002527</td>\n",
       "      <td>C1</td>\n",
       "    </tr>\n",
       "    <tr>\n",
       "      <th>4</th>\n",
       "      <td>4</td>\n",
       "      <td>d034d82c-e329-484c-91cc-75ea655a1446</td>\n",
       "      <td>214.491</td>\n",
       "      <td>538.3935</td>\n",
       "      <td>1249.9815</td>\n",
       "      <td>7997.134</td>\n",
       "      <td>2.965909</td>\n",
       "      <td>2.025686</td>\n",
       "      <td>0.002527</td>\n",
       "      <td>C2</td>\n",
       "    </tr>\n",
       "  </tbody>\n",
       "</table>\n",
       "</div>"
      ],
      "text/plain": [
       "   Unnamed: 0                                  uuid  teos_volume  \\\n",
       "0           0  82c085e1-a523-40ce-9e89-4fa0bf546525      214.491   \n",
       "1           1  747534b1-7370-49a5-bdc1-4fce5227f391      214.491   \n",
       "2           2  e5f6e82f-0282-46c8-be77-d8914adca9b5      214.491   \n",
       "3           3  c87ac840-ddde-43ab-a8e3-b5e3eb5a273d      214.491   \n",
       "4           4  d034d82c-e329-484c-91cc-75ea655a1446      214.491   \n",
       "\n",
       "   ammonia_volume  water_volume  ethanol_volume  dilution_volume_fraction  \\\n",
       "0        538.3935     1249.9815        7997.134                  2.965909   \n",
       "1        538.3935     1249.9815        7997.134                  2.965909   \n",
       "2        538.3935     1249.9815        7997.134                  2.965909   \n",
       "3        538.3935     1249.9815        7997.134                  2.965909   \n",
       "4        538.3935     1249.9815        7997.134                  2.965909   \n",
       "\n",
       "   silica_mass_conc  silica_mass_fraction well  \n",
       "0          2.025686              0.002527   B2  \n",
       "1          2.025686              0.002527   B3  \n",
       "2          2.025686              0.002527   B4  \n",
       "3          2.025686              0.002527   C1  \n",
       "4          2.025686              0.002527   C2  "
      ]
     },
     "execution_count": 49,
     "metadata": {},
     "output_type": "execute_result"
    }
   ],
   "source": [
    "sample_table"
   ]
  },
  {
   "cell_type": "code",
   "execution_count": 57,
   "id": "a52572b9-48d6-4bf1-acb2-19c7ac5c6fb8",
   "metadata": {},
   "outputs": [],
   "source": [
    "jubilee.park_tool()\n"
   ]
  },
  {
   "cell_type": "code",
   "execution_count": 106,
   "id": "2b09450e-d3bd-4e25-b944-993721a3b997",
   "metadata": {},
   "outputs": [
    {
     "name": "stdout",
     "output_type": "stream",
     "text": [
      "175.8614659806774\n"
     ]
    }
   ],
   "source": [
    "loc = samples['A8']\n",
    "jubilee.move_to(x = loc.x, y = loc.y)\n",
    "print(loc.y)\n",
    "jubilee.move_to(z = loc.top_+7)"
   ]
  },
  {
   "cell_type": "code",
   "execution_count": null,
   "id": "f14516c5-472d-4913-910d-d2ff2ff01e1f",
   "metadata": {},
   "outputs": [],
   "source": []
  },
  {
   "cell_type": "markdown",
   "id": "b9dff3f4-8be6-4f73-b343-6221f8df76dc",
   "metadata": {},
   "source": [
    "# Experiment\n"
   ]
  },
  {
   "cell_type": "markdown",
   "id": "d58b303b-a010-47e9-8b04-83f4eb8df981",
   "metadata": {},
   "source": [
    "### Load ethanol background"
   ]
  },
  {
   "cell_type": "code",
   "execution_count": 59,
   "id": "7a98bdcf-435f-4103-8478-91378aacc535",
   "metadata": {
    "scrolled": true
   },
   "outputs": [
    {
     "name": "stdout",
     "output_type": "stream",
     "text": [
      "status r code 200\n",
      "status:  b'[\"State: LOADED\",\"Arm State: DOWN\",\"Rinse 1 tank: 950 mL\",\"Rinse 2 tank: 950 mL\",\"Waste tank: 0 mL\",\"Relay status: {\\'arm-up\\': False, \\'arm-down\\': True, \\'rinse1\\': False, \\'rinse2\\': False, \\'blow\\': False, \\'piston-vent\\': False, \\'postsample\\': False}\",\"Not Rinsing\",\"[250318-10:27:40] Load stopped at voltage mean = 4.5493027877807615 and stdev = 0.8819717019590799\"]\\n'\n",
      "status r code 200\n",
      "status:  b'[\"State: LOADED\",\"Arm State: DOWN\",\"Rinse 1 tank: 950 mL\",\"Rinse 2 tank: 950 mL\",\"Waste tank: 0 mL\",\"Relay status: {\\'arm-up\\': False, \\'arm-down\\': True, \\'rinse1\\': False, \\'rinse2\\': False, \\'blow\\': False, \\'piston-vent\\': False, \\'postsample\\': False}\",\"Not Rinsing\",\"[250318-10:27:40] Load stopped at voltage mean = 4.5493027877807615 and stdev = 0.8819717019590799\"]\\n'\n",
      "status r code 200\n",
      "status:  b'[\"State: RINSING\",\"Arm State: DOWN\",\"Rinse 1 tank: 950 mL\",\"Rinse 2 tank: 950 mL\",\"Waste tank: 0 mL\",\"Relay status: {\\'arm-up\\': False, \\'arm-down\\': True, \\'rinse1\\': False, \\'rinse2\\': False, \\'blow\\': False, \\'piston-vent\\': False, \\'postsample\\': True}\",\"Rinse Program Step 0/6: rinse1 for 30s\",\"[250318-10:27:40] Load stopped at voltage mean = 4.5493027877807615 and stdev = 0.8819717019590799\"]\\n'\n",
      "status r code 200\n",
      "status:  b'[\"State: RINSING\",\"Arm State: DOWN\",\"Rinse 1 tank: 950 mL\",\"Rinse 2 tank: 950 mL\",\"Waste tank: 0 mL\",\"Relay status: {\\'arm-up\\': False, \\'arm-down\\': True, \\'rinse1\\': True, \\'rinse2\\': False, \\'blow\\': False, \\'piston-vent\\': False, \\'postsample\\': True}\",\"Rinse Program Step 0/6: rinse1 for 30s\",\"[250318-10:27:40] Load stopped at voltage mean = 4.5493027877807615 and stdev = 0.8819717019590799\"]\\n'\n",
      "status r code 200\n",
      "status:  b'[\"State: RINSING\",\"Arm State: DOWN\",\"Rinse 1 tank: 950 mL\",\"Rinse 2 tank: 950 mL\",\"Waste tank: 0 mL\",\"Relay status: {\\'arm-up\\': False, \\'arm-down\\': True, \\'rinse1\\': True, \\'rinse2\\': False, \\'blow\\': False, \\'piston-vent\\': False, \\'postsample\\': True}\",\"Rinse Program Step 0/6: rinse1 for 30s\",\"[250318-10:27:40] Load stopped at voltage mean = 4.5493027877807615 and stdev = 0.8819717019590799\"]\\n'\n",
      "status r code 200\n",
      "status:  b'[\"State: RINSING\",\"Arm State: DOWN\",\"Rinse 1 tank: 950 mL\",\"Rinse 2 tank: 950 mL\",\"Waste tank: 0 mL\",\"Relay status: {\\'arm-up\\': False, \\'arm-down\\': True, \\'rinse1\\': True, \\'rinse2\\': False, \\'blow\\': False, \\'piston-vent\\': False, \\'postsample\\': True}\",\"Rinse Program Step 0/6: rinse1 for 30s\",\"[250318-10:27:40] Load stopped at voltage mean = 4.5493027877807615 and stdev = 0.8819717019590799\"]\\n'\n",
      "status r code 200\n",
      "status:  b'[\"State: RINSING\",\"Arm State: DOWN\",\"Rinse 1 tank: 950 mL\",\"Rinse 2 tank: 950 mL\",\"Waste tank: 0 mL\",\"Relay status: {\\'arm-up\\': False, \\'arm-down\\': True, \\'rinse1\\': True, \\'rinse2\\': False, \\'blow\\': False, \\'piston-vent\\': False, \\'postsample\\': True}\",\"Rinse Program Step 0/6: rinse1 for 30s\",\"[250318-10:27:40] Load stopped at voltage mean = 4.5493027877807615 and stdev = 0.8819717019590799\"]\\n'\n",
      "status r code 200\n",
      "status:  b'[\"State: RINSING\",\"Arm State: DOWN\",\"Rinse 1 tank: 950 mL\",\"Rinse 2 tank: 950 mL\",\"Waste tank: 0 mL\",\"Relay status: {\\'arm-up\\': False, \\'arm-down\\': True, \\'rinse1\\': True, \\'rinse2\\': False, \\'blow\\': False, \\'piston-vent\\': False, \\'postsample\\': True}\",\"Rinse Program Step 0/6: rinse1 for 30s\",\"[250318-10:27:40] Load stopped at voltage mean = 4.5493027877807615 and stdev = 0.8819717019590799\"]\\n'\n",
      "status r code 200\n",
      "status:  b'[\"State: RINSING\",\"Arm State: DOWN\",\"Rinse 1 tank: 950 mL\",\"Rinse 2 tank: 950 mL\",\"Waste tank: 0 mL\",\"Relay status: {\\'arm-up\\': False, \\'arm-down\\': True, \\'rinse1\\': True, \\'rinse2\\': False, \\'blow\\': False, \\'piston-vent\\': False, \\'postsample\\': True}\",\"Rinse Program Step 0/6: rinse1 for 30s\",\"[250318-10:27:40] Load stopped at voltage mean = 4.5493027877807615 and stdev = 0.8819717019590799\"]\\n'\n",
      "status r code 200\n",
      "status:  b'[\"State: RINSING\",\"Arm State: DOWN\",\"Rinse 1 tank: 950 mL\",\"Rinse 2 tank: 950 mL\",\"Waste tank: 0 mL\",\"Relay status: {\\'arm-up\\': False, \\'arm-down\\': True, \\'rinse1\\': True, \\'rinse2\\': False, \\'blow\\': False, \\'piston-vent\\': False, \\'postsample\\': True}\",\"Rinse Program Step 0/6: rinse1 for 30s\",\"[250318-10:27:40] Load stopped at voltage mean = 4.5493027877807615 and stdev = 0.8819717019590799\"]\\n'\n",
      "status r code 200\n",
      "status:  b'[\"State: RINSING\",\"Arm State: DOWN\",\"Rinse 1 tank: 950 mL\",\"Rinse 2 tank: 950 mL\",\"Waste tank: 0 mL\",\"Relay status: {\\'arm-up\\': False, \\'arm-down\\': True, \\'rinse1\\': True, \\'rinse2\\': False, \\'blow\\': False, \\'piston-vent\\': False, \\'postsample\\': True}\",\"Rinse Program Step 0/6: rinse1 for 30s\",\"[250318-10:27:40] Load stopped at voltage mean = 4.5493027877807615 and stdev = 0.8819717019590799\"]\\n'\n",
      "status r code 200\n",
      "status:  b'[\"State: RINSING\",\"Arm State: DOWN\",\"Rinse 1 tank: 950 mL\",\"Rinse 2 tank: 950 mL\",\"Waste tank: 0 mL\",\"Relay status: {\\'arm-up\\': False, \\'arm-down\\': True, \\'rinse1\\': True, \\'rinse2\\': False, \\'blow\\': False, \\'piston-vent\\': False, \\'postsample\\': True}\",\"Rinse Program Step 0/6: rinse1 for 30s\",\"[250318-10:27:40] Load stopped at voltage mean = 4.5493027877807615 and stdev = 0.8819717019590799\"]\\n'\n",
      "status r code 200\n",
      "status:  b'[\"State: RINSING\",\"Arm State: DOWN\",\"Rinse 1 tank: 950 mL\",\"Rinse 2 tank: 950 mL\",\"Waste tank: 0 mL\",\"Relay status: {\\'arm-up\\': False, \\'arm-down\\': True, \\'rinse1\\': True, \\'rinse2\\': False, \\'blow\\': False, \\'piston-vent\\': False, \\'postsample\\': True}\",\"Rinse Program Step 0/6: rinse1 for 30s\",\"[250318-10:27:40] Load stopped at voltage mean = 4.5493027877807615 and stdev = 0.8819717019590799\"]\\n'\n",
      "status r code 200\n",
      "status:  b'[\"State: RINSING\",\"Arm State: DOWN\",\"Rinse 1 tank: 950 mL\",\"Rinse 2 tank: 950 mL\",\"Waste tank: 0 mL\",\"Relay status: {\\'arm-up\\': False, \\'arm-down\\': True, \\'rinse1\\': True, \\'rinse2\\': False, \\'blow\\': False, \\'piston-vent\\': False, \\'postsample\\': True}\",\"Rinse Program Step 0/6: rinse1 for 30s\",\"[250318-10:27:40] Load stopped at voltage mean = 4.5493027877807615 and stdev = 0.8819717019590799\"]\\n'\n",
      "status r code 200\n",
      "status:  b'[\"State: RINSING\",\"Arm State: DOWN\",\"Rinse 1 tank: 950 mL\",\"Rinse 2 tank: 950 mL\",\"Waste tank: 0 mL\",\"Relay status: {\\'arm-up\\': False, \\'arm-down\\': True, \\'rinse1\\': True, \\'rinse2\\': False, \\'blow\\': False, \\'piston-vent\\': False, \\'postsample\\': True}\",\"Rinse Program Step 0/6: rinse1 for 30s\",\"[250318-10:27:40] Load stopped at voltage mean = 4.5493027877807615 and stdev = 0.8819717019590799\"]\\n'\n",
      "status r code 200\n",
      "status:  b'[\"State: RINSING\",\"Arm State: DOWN\",\"Rinse 1 tank: 950 mL\",\"Rinse 2 tank: 950 mL\",\"Waste tank: 0 mL\",\"Relay status: {\\'arm-up\\': False, \\'arm-down\\': True, \\'rinse1\\': True, \\'rinse2\\': False, \\'blow\\': False, \\'piston-vent\\': False, \\'postsample\\': True}\",\"Rinse Program Step 0/6: rinse1 for 30s\",\"[250318-10:27:40] Load stopped at voltage mean = 4.5493027877807615 and stdev = 0.8819717019590799\"]\\n'\n",
      "status r code 200\n",
      "status:  b'[\"State: RINSING\",\"Arm State: DOWN\",\"Rinse 1 tank: 950 mL\",\"Rinse 2 tank: 950 mL\",\"Waste tank: 0 mL\",\"Relay status: {\\'arm-up\\': False, \\'arm-down\\': True, \\'rinse1\\': True, \\'rinse2\\': False, \\'blow\\': False, \\'piston-vent\\': False, \\'postsample\\': True}\",\"Rinse Program Step 0/6: rinse1 for 30s\",\"[250318-10:27:40] Load stopped at voltage mean = 4.5493027877807615 and stdev = 0.8819717019590799\"]\\n'\n",
      "status r code 200\n",
      "status:  b'[\"State: RINSING\",\"Arm State: DOWN\",\"Rinse 1 tank: 950 mL\",\"Rinse 2 tank: 950 mL\",\"Waste tank: 0 mL\",\"Relay status: {\\'arm-up\\': False, \\'arm-down\\': True, \\'rinse1\\': True, \\'rinse2\\': False, \\'blow\\': False, \\'piston-vent\\': False, \\'postsample\\': True}\",\"Rinse Program Step 0/6: rinse1 for 30s\",\"[250318-10:27:40] Load stopped at voltage mean = 4.5493027877807615 and stdev = 0.8819717019590799\"]\\n'\n",
      "status r code 200\n",
      "status:  b'[\"State: RINSING\",\"Arm State: DOWN\",\"Rinse 1 tank: 950 mL\",\"Rinse 2 tank: 950 mL\",\"Waste tank: 0 mL\",\"Relay status: {\\'arm-up\\': False, \\'arm-down\\': True, \\'rinse1\\': True, \\'rinse2\\': False, \\'blow\\': False, \\'piston-vent\\': False, \\'postsample\\': True}\",\"Rinse Program Step 0/6: rinse1 for 30s\",\"[250318-10:27:40] Load stopped at voltage mean = 4.5493027877807615 and stdev = 0.8819717019590799\"]\\n'\n",
      "status r code 200\n",
      "status:  b'[\"State: RINSING\",\"Arm State: DOWN\",\"Rinse 1 tank: 950 mL\",\"Rinse 2 tank: 950 mL\",\"Waste tank: 0 mL\",\"Relay status: {\\'arm-up\\': False, \\'arm-down\\': True, \\'rinse1\\': True, \\'rinse2\\': False, \\'blow\\': False, \\'piston-vent\\': False, \\'postsample\\': True}\",\"Rinse Program Step 0/6: rinse1 for 30s\",\"[250318-10:27:40] Load stopped at voltage mean = 4.5493027877807615 and stdev = 0.8819717019590799\"]\\n'\n",
      "status r code 200\n",
      "status:  b'[\"State: RINSING\",\"Arm State: DOWN\",\"Rinse 1 tank: 950 mL\",\"Rinse 2 tank: 950 mL\",\"Waste tank: 0 mL\",\"Relay status: {\\'arm-up\\': False, \\'arm-down\\': True, \\'rinse1\\': True, \\'rinse2\\': False, \\'blow\\': False, \\'piston-vent\\': False, \\'postsample\\': True}\",\"Rinse Program Step 0/6: rinse1 for 30s\",\"[250318-10:27:40] Load stopped at voltage mean = 4.5493027877807615 and stdev = 0.8819717019590799\"]\\n'\n",
      "status r code 200\n",
      "status:  b'[\"State: RINSING\",\"Arm State: DOWN\",\"Rinse 1 tank: 950 mL\",\"Rinse 2 tank: 950 mL\",\"Waste tank: 0 mL\",\"Relay status: {\\'arm-up\\': False, \\'arm-down\\': True, \\'rinse1\\': True, \\'rinse2\\': False, \\'blow\\': False, \\'piston-vent\\': False, \\'postsample\\': True}\",\"Rinse Program Step 0/6: rinse1 for 30s\",\"[250318-10:27:40] Load stopped at voltage mean = 4.5493027877807615 and stdev = 0.8819717019590799\"]\\n'\n",
      "status r code 200\n",
      "status:  b'[\"State: RINSING\",\"Arm State: DOWN\",\"Rinse 1 tank: 950 mL\",\"Rinse 2 tank: 950 mL\",\"Waste tank: 0 mL\",\"Relay status: {\\'arm-up\\': False, \\'arm-down\\': True, \\'rinse1\\': True, \\'rinse2\\': False, \\'blow\\': False, \\'piston-vent\\': False, \\'postsample\\': True}\",\"Rinse Program Step 0/6: rinse1 for 30s\",\"[250318-10:27:40] Load stopped at voltage mean = 4.5493027877807615 and stdev = 0.8819717019590799\"]\\n'\n",
      "status r code 200\n",
      "status:  b'[\"State: RINSING\",\"Arm State: DOWN\",\"Rinse 1 tank: 950 mL\",\"Rinse 2 tank: 950 mL\",\"Waste tank: 0 mL\",\"Relay status: {\\'arm-up\\': False, \\'arm-down\\': True, \\'rinse1\\': True, \\'rinse2\\': False, \\'blow\\': False, \\'piston-vent\\': False, \\'postsample\\': True}\",\"Rinse Program Step 0/6: rinse1 for 30s\",\"[250318-10:27:40] Load stopped at voltage mean = 4.5493027877807615 and stdev = 0.8819717019590799\"]\\n'\n",
      "status r code 200\n",
      "status:  b'[\"State: RINSING\",\"Arm State: DOWN\",\"Rinse 1 tank: 950 mL\",\"Rinse 2 tank: 950 mL\",\"Waste tank: 0 mL\",\"Relay status: {\\'arm-up\\': False, \\'arm-down\\': True, \\'rinse1\\': True, \\'rinse2\\': False, \\'blow\\': False, \\'piston-vent\\': False, \\'postsample\\': True}\",\"Rinse Program Step 0/6: rinse1 for 30s\",\"[250318-10:27:40] Load stopped at voltage mean = 4.5493027877807615 and stdev = 0.8819717019590799\"]\\n'\n",
      "status r code 200\n",
      "status:  b'[\"State: RINSING\",\"Arm State: DOWN\",\"Rinse 1 tank: 950 mL\",\"Rinse 2 tank: 950 mL\",\"Waste tank: 0 mL\",\"Relay status: {\\'arm-up\\': False, \\'arm-down\\': True, \\'rinse1\\': True, \\'rinse2\\': False, \\'blow\\': False, \\'piston-vent\\': False, \\'postsample\\': True}\",\"Rinse Program Step 0/6: rinse1 for 30s\",\"[250318-10:27:40] Load stopped at voltage mean = 4.5493027877807615 and stdev = 0.8819717019590799\"]\\n'\n",
      "status r code 200\n",
      "status:  b'[\"State: RINSING\",\"Arm State: DOWN\",\"Rinse 1 tank: 950 mL\",\"Rinse 2 tank: 950 mL\",\"Waste tank: 0 mL\",\"Relay status: {\\'arm-up\\': False, \\'arm-down\\': True, \\'rinse1\\': True, \\'rinse2\\': False, \\'blow\\': False, \\'piston-vent\\': False, \\'postsample\\': True}\",\"Rinse Program Step 0/6: rinse1 for 30s\",\"[250318-10:27:40] Load stopped at voltage mean = 4.5493027877807615 and stdev = 0.8819717019590799\"]\\n'\n",
      "status r code 200\n",
      "status:  b'[\"State: RINSING\",\"Arm State: DOWN\",\"Rinse 1 tank: 950 mL\",\"Rinse 2 tank: 950 mL\",\"Waste tank: 0 mL\",\"Relay status: {\\'arm-up\\': False, \\'arm-down\\': True, \\'rinse1\\': True, \\'rinse2\\': False, \\'blow\\': False, \\'piston-vent\\': False, \\'postsample\\': True}\",\"Rinse Program Step 0/6: rinse1 for 30s\",\"[250318-10:27:40] Load stopped at voltage mean = 4.5493027877807615 and stdev = 0.8819717019590799\"]\\n'\n",
      "status r code 200\n",
      "status:  b'[\"State: RINSING\",\"Arm State: DOWN\",\"Rinse 1 tank: 950 mL\",\"Rinse 2 tank: 950 mL\",\"Waste tank: 0 mL\",\"Relay status: {\\'arm-up\\': False, \\'arm-down\\': True, \\'rinse1\\': True, \\'rinse2\\': False, \\'blow\\': False, \\'piston-vent\\': False, \\'postsample\\': True}\",\"Rinse Program Step 0/6: rinse1 for 30s\",\"[250318-10:27:40] Load stopped at voltage mean = 4.5493027877807615 and stdev = 0.8819717019590799\"]\\n'\n",
      "status r code 200\n",
      "status:  b'[\"State: RINSING\",\"Arm State: DOWN\",\"Rinse 1 tank: 950 mL\",\"Rinse 2 tank: 950 mL\",\"Waste tank: 0 mL\",\"Relay status: {\\'arm-up\\': False, \\'arm-down\\': True, \\'rinse1\\': True, \\'rinse2\\': False, \\'blow\\': False, \\'piston-vent\\': False, \\'postsample\\': True}\",\"Rinse Program Step 0/6: rinse1 for 30s\",\"[250318-10:27:40] Load stopped at voltage mean = 4.5493027877807615 and stdev = 0.8819717019590799\"]\\n'\n",
      "status r code 200\n",
      "status:  b'[\"State: RINSING\",\"Arm State: DOWN\",\"Rinse 1 tank: 950 mL\",\"Rinse 2 tank: 950 mL\",\"Waste tank: 0 mL\",\"Relay status: {\\'arm-up\\': False, \\'arm-down\\': True, \\'rinse1\\': True, \\'rinse2\\': False, \\'blow\\': False, \\'piston-vent\\': False, \\'postsample\\': True}\",\"Rinse Program Step 0/6: rinse1 for 30s\",\"[250318-10:27:40] Load stopped at voltage mean = 4.5493027877807615 and stdev = 0.8819717019590799\"]\\n'\n",
      "status r code 200\n",
      "status:  b'[\"State: RINSING\",\"Arm State: DOWN\",\"Rinse 1 tank: 950 mL\",\"Rinse 2 tank: 950 mL\",\"Waste tank: 0 mL\",\"Relay status: {\\'arm-up\\': False, \\'arm-down\\': True, \\'rinse1\\': True, \\'rinse2\\': False, \\'blow\\': False, \\'piston-vent\\': False, \\'postsample\\': True}\",\"Rinse Program Step 0/6: rinse1 for 30s\",\"[250318-10:27:40] Load stopped at voltage mean = 4.5493027877807615 and stdev = 0.8819717019590799\"]\\n'\n",
      "status r code 200\n",
      "status:  b'[\"State: RINSING\",\"Arm State: DOWN\",\"Rinse 1 tank: 950 mL\",\"Rinse 2 tank: 950 mL\",\"Waste tank: 0 mL\",\"Relay status: {\\'arm-up\\': False, \\'arm-down\\': True, \\'rinse1\\': False, \\'rinse2\\': False, \\'blow\\': False, \\'piston-vent\\': False, \\'postsample\\': True}\",\"Rinse Program Step 1/6: None for 2s\",\"[250318-10:27:40] Load stopped at voltage mean = 4.5493027877807615 and stdev = 0.8819717019590799\"]\\n'\n",
      "status r code 200\n",
      "status:  b'[\"State: RINSING\",\"Arm State: DOWN\",\"Rinse 1 tank: 950 mL\",\"Rinse 2 tank: 950 mL\",\"Waste tank: 0 mL\",\"Relay status: {\\'arm-up\\': False, \\'arm-down\\': True, \\'rinse1\\': False, \\'rinse2\\': False, \\'blow\\': False, \\'piston-vent\\': False, \\'postsample\\': True}\",\"Rinse Program Step 1/6: None for 2s\",\"[250318-10:27:40] Load stopped at voltage mean = 4.5493027877807615 and stdev = 0.8819717019590799\"]\\n'\n",
      "status r code 200\n",
      "status:  b'[\"State: RINSING\",\"Arm State: DOWN\",\"Rinse 1 tank: 950 mL\",\"Rinse 2 tank: 950 mL\",\"Waste tank: 0 mL\",\"Relay status: {\\'arm-up\\': False, \\'arm-down\\': True, \\'rinse1\\': False, \\'rinse2\\': True, \\'blow\\': False, \\'piston-vent\\': False, \\'postsample\\': True}\",\"Rinse Program Step 2/6: rinse2 for 30s\",\"[250318-10:27:40] Load stopped at voltage mean = 4.5493027877807615 and stdev = 0.8819717019590799\"]\\n'\n",
      "status r code 200\n",
      "status:  b'[\"State: RINSING\",\"Arm State: DOWN\",\"Rinse 1 tank: 950 mL\",\"Rinse 2 tank: 950 mL\",\"Waste tank: 0 mL\",\"Relay status: {\\'arm-up\\': False, \\'arm-down\\': True, \\'rinse1\\': False, \\'rinse2\\': True, \\'blow\\': False, \\'piston-vent\\': False, \\'postsample\\': True}\",\"Rinse Program Step 2/6: rinse2 for 30s\",\"[250318-10:27:40] Load stopped at voltage mean = 4.5493027877807615 and stdev = 0.8819717019590799\"]\\n'\n",
      "status r code 200\n",
      "status:  b'[\"State: RINSING\",\"Arm State: DOWN\",\"Rinse 1 tank: 950 mL\",\"Rinse 2 tank: 950 mL\",\"Waste tank: 0 mL\",\"Relay status: {\\'arm-up\\': False, \\'arm-down\\': True, \\'rinse1\\': False, \\'rinse2\\': True, \\'blow\\': False, \\'piston-vent\\': False, \\'postsample\\': True}\",\"Rinse Program Step 2/6: rinse2 for 30s\",\"[250318-10:27:40] Load stopped at voltage mean = 4.5493027877807615 and stdev = 0.8819717019590799\"]\\n'\n",
      "status r code 200\n",
      "status:  b'[\"State: RINSING\",\"Arm State: DOWN\",\"Rinse 1 tank: 950 mL\",\"Rinse 2 tank: 950 mL\",\"Waste tank: 0 mL\",\"Relay status: {\\'arm-up\\': False, \\'arm-down\\': True, \\'rinse1\\': False, \\'rinse2\\': True, \\'blow\\': False, \\'piston-vent\\': False, \\'postsample\\': True}\",\"Rinse Program Step 2/6: rinse2 for 30s\",\"[250318-10:27:40] Load stopped at voltage mean = 4.5493027877807615 and stdev = 0.8819717019590799\"]\\n'\n",
      "status r code 200\n",
      "status:  b'[\"State: RINSING\",\"Arm State: DOWN\",\"Rinse 1 tank: 950 mL\",\"Rinse 2 tank: 950 mL\",\"Waste tank: 0 mL\",\"Relay status: {\\'arm-up\\': False, \\'arm-down\\': True, \\'rinse1\\': False, \\'rinse2\\': True, \\'blow\\': False, \\'piston-vent\\': False, \\'postsample\\': True}\",\"Rinse Program Step 2/6: rinse2 for 30s\",\"[250318-10:27:40] Load stopped at voltage mean = 4.5493027877807615 and stdev = 0.8819717019590799\"]\\n'\n",
      "status r code 200\n",
      "status:  b'[\"State: RINSING\",\"Arm State: DOWN\",\"Rinse 1 tank: 950 mL\",\"Rinse 2 tank: 950 mL\",\"Waste tank: 0 mL\",\"Relay status: {\\'arm-up\\': False, \\'arm-down\\': True, \\'rinse1\\': False, \\'rinse2\\': True, \\'blow\\': False, \\'piston-vent\\': False, \\'postsample\\': True}\",\"Rinse Program Step 2/6: rinse2 for 30s\",\"[250318-10:27:40] Load stopped at voltage mean = 4.5493027877807615 and stdev = 0.8819717019590799\"]\\n'\n",
      "status r code 200\n",
      "status:  b'[\"State: RINSING\",\"Arm State: DOWN\",\"Rinse 1 tank: 950 mL\",\"Rinse 2 tank: 950 mL\",\"Waste tank: 0 mL\",\"Relay status: {\\'arm-up\\': False, \\'arm-down\\': True, \\'rinse1\\': False, \\'rinse2\\': True, \\'blow\\': False, \\'piston-vent\\': False, \\'postsample\\': True}\",\"Rinse Program Step 2/6: rinse2 for 30s\",\"[250318-10:27:40] Load stopped at voltage mean = 4.5493027877807615 and stdev = 0.8819717019590799\"]\\n'\n",
      "status r code 200\n",
      "status:  b'[\"State: RINSING\",\"Arm State: DOWN\",\"Rinse 1 tank: 950 mL\",\"Rinse 2 tank: 950 mL\",\"Waste tank: 0 mL\",\"Relay status: {\\'arm-up\\': False, \\'arm-down\\': True, \\'rinse1\\': False, \\'rinse2\\': True, \\'blow\\': False, \\'piston-vent\\': False, \\'postsample\\': True}\",\"Rinse Program Step 2/6: rinse2 for 30s\",\"[250318-10:27:40] Load stopped at voltage mean = 4.5493027877807615 and stdev = 0.8819717019590799\"]\\n'\n",
      "status r code 200\n",
      "status:  b'[\"State: RINSING\",\"Arm State: DOWN\",\"Rinse 1 tank: 950 mL\",\"Rinse 2 tank: 950 mL\",\"Waste tank: 0 mL\",\"Relay status: {\\'arm-up\\': False, \\'arm-down\\': True, \\'rinse1\\': False, \\'rinse2\\': True, \\'blow\\': False, \\'piston-vent\\': False, \\'postsample\\': True}\",\"Rinse Program Step 2/6: rinse2 for 30s\",\"[250318-10:27:40] Load stopped at voltage mean = 4.5493027877807615 and stdev = 0.8819717019590799\"]\\n'\n",
      "status r code 200\n",
      "status:  b'[\"State: RINSING\",\"Arm State: DOWN\",\"Rinse 1 tank: 950 mL\",\"Rinse 2 tank: 950 mL\",\"Waste tank: 0 mL\",\"Relay status: {\\'arm-up\\': False, \\'arm-down\\': True, \\'rinse1\\': False, \\'rinse2\\': True, \\'blow\\': False, \\'piston-vent\\': False, \\'postsample\\': True}\",\"Rinse Program Step 2/6: rinse2 for 30s\",\"[250318-10:27:40] Load stopped at voltage mean = 4.5493027877807615 and stdev = 0.8819717019590799\"]\\n'\n",
      "status r code 200\n",
      "status:  b'[\"State: RINSING\",\"Arm State: DOWN\",\"Rinse 1 tank: 950 mL\",\"Rinse 2 tank: 950 mL\",\"Waste tank: 0 mL\",\"Relay status: {\\'arm-up\\': False, \\'arm-down\\': True, \\'rinse1\\': False, \\'rinse2\\': True, \\'blow\\': False, \\'piston-vent\\': False, \\'postsample\\': True}\",\"Rinse Program Step 2/6: rinse2 for 30s\",\"[250318-10:27:40] Load stopped at voltage mean = 4.5493027877807615 and stdev = 0.8819717019590799\"]\\n'\n",
      "status r code 200\n",
      "status:  b'[\"State: RINSING\",\"Arm State: DOWN\",\"Rinse 1 tank: 950 mL\",\"Rinse 2 tank: 950 mL\",\"Waste tank: 0 mL\",\"Relay status: {\\'arm-up\\': False, \\'arm-down\\': True, \\'rinse1\\': False, \\'rinse2\\': True, \\'blow\\': False, \\'piston-vent\\': False, \\'postsample\\': True}\",\"Rinse Program Step 2/6: rinse2 for 30s\",\"[250318-10:27:40] Load stopped at voltage mean = 4.5493027877807615 and stdev = 0.8819717019590799\"]\\n'\n",
      "status r code 200\n",
      "status:  b'[\"State: RINSING\",\"Arm State: DOWN\",\"Rinse 1 tank: 950 mL\",\"Rinse 2 tank: 950 mL\",\"Waste tank: 0 mL\",\"Relay status: {\\'arm-up\\': False, \\'arm-down\\': True, \\'rinse1\\': False, \\'rinse2\\': True, \\'blow\\': False, \\'piston-vent\\': False, \\'postsample\\': True}\",\"Rinse Program Step 2/6: rinse2 for 30s\",\"[250318-10:27:40] Load stopped at voltage mean = 4.5493027877807615 and stdev = 0.8819717019590799\"]\\n'\n",
      "status r code 200\n",
      "status:  b'[\"State: RINSING\",\"Arm State: DOWN\",\"Rinse 1 tank: 950 mL\",\"Rinse 2 tank: 950 mL\",\"Waste tank: 0 mL\",\"Relay status: {\\'arm-up\\': False, \\'arm-down\\': True, \\'rinse1\\': False, \\'rinse2\\': True, \\'blow\\': False, \\'piston-vent\\': False, \\'postsample\\': True}\",\"Rinse Program Step 2/6: rinse2 for 30s\",\"[250318-10:27:40] Load stopped at voltage mean = 4.5493027877807615 and stdev = 0.8819717019590799\"]\\n'\n",
      "status r code 200\n",
      "status:  b'[\"State: RINSING\",\"Arm State: DOWN\",\"Rinse 1 tank: 950 mL\",\"Rinse 2 tank: 950 mL\",\"Waste tank: 0 mL\",\"Relay status: {\\'arm-up\\': False, \\'arm-down\\': True, \\'rinse1\\': False, \\'rinse2\\': True, \\'blow\\': False, \\'piston-vent\\': False, \\'postsample\\': True}\",\"Rinse Program Step 2/6: rinse2 for 30s\",\"[250318-10:27:40] Load stopped at voltage mean = 4.5493027877807615 and stdev = 0.8819717019590799\"]\\n'\n",
      "status r code 200\n",
      "status:  b'[\"State: RINSING\",\"Arm State: DOWN\",\"Rinse 1 tank: 950 mL\",\"Rinse 2 tank: 950 mL\",\"Waste tank: 0 mL\",\"Relay status: {\\'arm-up\\': False, \\'arm-down\\': True, \\'rinse1\\': False, \\'rinse2\\': True, \\'blow\\': False, \\'piston-vent\\': False, \\'postsample\\': True}\",\"Rinse Program Step 2/6: rinse2 for 30s\",\"[250318-10:27:40] Load stopped at voltage mean = 4.5493027877807615 and stdev = 0.8819717019590799\"]\\n'\n",
      "status r code 200\n",
      "status:  b'[\"State: RINSING\",\"Arm State: DOWN\",\"Rinse 1 tank: 950 mL\",\"Rinse 2 tank: 950 mL\",\"Waste tank: 0 mL\",\"Relay status: {\\'arm-up\\': False, \\'arm-down\\': True, \\'rinse1\\': False, \\'rinse2\\': True, \\'blow\\': False, \\'piston-vent\\': False, \\'postsample\\': True}\",\"Rinse Program Step 2/6: rinse2 for 30s\",\"[250318-10:27:40] Load stopped at voltage mean = 4.5493027877807615 and stdev = 0.8819717019590799\"]\\n'\n",
      "status r code 200\n",
      "status:  b'[\"State: RINSING\",\"Arm State: DOWN\",\"Rinse 1 tank: 950 mL\",\"Rinse 2 tank: 950 mL\",\"Waste tank: 0 mL\",\"Relay status: {\\'arm-up\\': False, \\'arm-down\\': True, \\'rinse1\\': False, \\'rinse2\\': True, \\'blow\\': False, \\'piston-vent\\': False, \\'postsample\\': True}\",\"Rinse Program Step 2/6: rinse2 for 30s\",\"[250318-10:27:40] Load stopped at voltage mean = 4.5493027877807615 and stdev = 0.8819717019590799\"]\\n'\n",
      "status r code 200\n",
      "status:  b'[\"State: RINSING\",\"Arm State: DOWN\",\"Rinse 1 tank: 950 mL\",\"Rinse 2 tank: 950 mL\",\"Waste tank: 0 mL\",\"Relay status: {\\'arm-up\\': False, \\'arm-down\\': True, \\'rinse1\\': False, \\'rinse2\\': True, \\'blow\\': False, \\'piston-vent\\': False, \\'postsample\\': True}\",\"Rinse Program Step 2/6: rinse2 for 30s\",\"[250318-10:27:40] Load stopped at voltage mean = 4.5493027877807615 and stdev = 0.8819717019590799\"]\\n'\n",
      "status r code 200\n",
      "status:  b'[\"State: RINSING\",\"Arm State: DOWN\",\"Rinse 1 tank: 950 mL\",\"Rinse 2 tank: 950 mL\",\"Waste tank: 0 mL\",\"Relay status: {\\'arm-up\\': False, \\'arm-down\\': True, \\'rinse1\\': False, \\'rinse2\\': True, \\'blow\\': False, \\'piston-vent\\': False, \\'postsample\\': True}\",\"Rinse Program Step 2/6: rinse2 for 30s\",\"[250318-10:27:40] Load stopped at voltage mean = 4.5493027877807615 and stdev = 0.8819717019590799\"]\\n'\n",
      "status r code 200\n",
      "status:  b'[\"State: RINSING\",\"Arm State: DOWN\",\"Rinse 1 tank: 950 mL\",\"Rinse 2 tank: 950 mL\",\"Waste tank: 0 mL\",\"Relay status: {\\'arm-up\\': False, \\'arm-down\\': True, \\'rinse1\\': False, \\'rinse2\\': True, \\'blow\\': False, \\'piston-vent\\': False, \\'postsample\\': True}\",\"Rinse Program Step 2/6: rinse2 for 30s\",\"[250318-10:27:40] Load stopped at voltage mean = 4.5493027877807615 and stdev = 0.8819717019590799\"]\\n'\n",
      "status r code 200\n",
      "status:  b'[\"State: RINSING\",\"Arm State: DOWN\",\"Rinse 1 tank: 950 mL\",\"Rinse 2 tank: 950 mL\",\"Waste tank: 0 mL\",\"Relay status: {\\'arm-up\\': False, \\'arm-down\\': True, \\'rinse1\\': False, \\'rinse2\\': True, \\'blow\\': False, \\'piston-vent\\': False, \\'postsample\\': True}\",\"Rinse Program Step 2/6: rinse2 for 30s\",\"[250318-10:27:40] Load stopped at voltage mean = 4.5493027877807615 and stdev = 0.8819717019590799\"]\\n'\n",
      "status r code 200\n",
      "status:  b'[\"State: RINSING\",\"Arm State: DOWN\",\"Rinse 1 tank: 950 mL\",\"Rinse 2 tank: 950 mL\",\"Waste tank: 0 mL\",\"Relay status: {\\'arm-up\\': False, \\'arm-down\\': True, \\'rinse1\\': False, \\'rinse2\\': True, \\'blow\\': False, \\'piston-vent\\': False, \\'postsample\\': True}\",\"Rinse Program Step 2/6: rinse2 for 30s\",\"[250318-10:27:40] Load stopped at voltage mean = 4.5493027877807615 and stdev = 0.8819717019590799\"]\\n'\n",
      "status r code 200\n",
      "status:  b'[\"State: RINSING\",\"Arm State: DOWN\",\"Rinse 1 tank: 950 mL\",\"Rinse 2 tank: 950 mL\",\"Waste tank: 0 mL\",\"Relay status: {\\'arm-up\\': False, \\'arm-down\\': True, \\'rinse1\\': False, \\'rinse2\\': True, \\'blow\\': False, \\'piston-vent\\': False, \\'postsample\\': True}\",\"Rinse Program Step 2/6: rinse2 for 30s\",\"[250318-10:27:40] Load stopped at voltage mean = 4.5493027877807615 and stdev = 0.8819717019590799\"]\\n'\n",
      "status r code 200\n",
      "status:  b'[\"State: RINSING\",\"Arm State: DOWN\",\"Rinse 1 tank: 950 mL\",\"Rinse 2 tank: 950 mL\",\"Waste tank: 0 mL\",\"Relay status: {\\'arm-up\\': False, \\'arm-down\\': True, \\'rinse1\\': False, \\'rinse2\\': True, \\'blow\\': False, \\'piston-vent\\': False, \\'postsample\\': True}\",\"Rinse Program Step 2/6: rinse2 for 30s\",\"[250318-10:27:40] Load stopped at voltage mean = 4.5493027877807615 and stdev = 0.8819717019590799\"]\\n'\n",
      "status r code 200\n",
      "status:  b'[\"State: RINSING\",\"Arm State: DOWN\",\"Rinse 1 tank: 950 mL\",\"Rinse 2 tank: 950 mL\",\"Waste tank: 0 mL\",\"Relay status: {\\'arm-up\\': False, \\'arm-down\\': True, \\'rinse1\\': False, \\'rinse2\\': True, \\'blow\\': False, \\'piston-vent\\': False, \\'postsample\\': True}\",\"Rinse Program Step 2/6: rinse2 for 30s\",\"[250318-10:27:40] Load stopped at voltage mean = 4.5493027877807615 and stdev = 0.8819717019590799\"]\\n'\n",
      "status r code 200\n",
      "status:  b'[\"State: RINSING\",\"Arm State: DOWN\",\"Rinse 1 tank: 950 mL\",\"Rinse 2 tank: 950 mL\",\"Waste tank: 0 mL\",\"Relay status: {\\'arm-up\\': False, \\'arm-down\\': True, \\'rinse1\\': False, \\'rinse2\\': True, \\'blow\\': False, \\'piston-vent\\': False, \\'postsample\\': True}\",\"Rinse Program Step 2/6: rinse2 for 30s\",\"[250318-10:27:40] Load stopped at voltage mean = 4.5493027877807615 and stdev = 0.8819717019590799\"]\\n'\n",
      "status r code 200\n",
      "status:  b'[\"State: RINSING\",\"Arm State: DOWN\",\"Rinse 1 tank: 950 mL\",\"Rinse 2 tank: 950 mL\",\"Waste tank: 0 mL\",\"Relay status: {\\'arm-up\\': False, \\'arm-down\\': True, \\'rinse1\\': False, \\'rinse2\\': True, \\'blow\\': False, \\'piston-vent\\': False, \\'postsample\\': True}\",\"Rinse Program Step 2/6: rinse2 for 30s\",\"[250318-10:27:40] Load stopped at voltage mean = 4.5493027877807615 and stdev = 0.8819717019590799\"]\\n'\n",
      "status r code 200\n",
      "status:  b'[\"State: RINSING\",\"Arm State: DOWN\",\"Rinse 1 tank: 950 mL\",\"Rinse 2 tank: 950 mL\",\"Waste tank: 0 mL\",\"Relay status: {\\'arm-up\\': False, \\'arm-down\\': True, \\'rinse1\\': False, \\'rinse2\\': True, \\'blow\\': False, \\'piston-vent\\': False, \\'postsample\\': True}\",\"Rinse Program Step 2/6: rinse2 for 30s\",\"[250318-10:27:40] Load stopped at voltage mean = 4.5493027877807615 and stdev = 0.8819717019590799\"]\\n'\n",
      "status r code 200\n",
      "status:  b'[\"State: RINSING\",\"Arm State: DOWN\",\"Rinse 1 tank: 950 mL\",\"Rinse 2 tank: 950 mL\",\"Waste tank: 0 mL\",\"Relay status: {\\'arm-up\\': False, \\'arm-down\\': True, \\'rinse1\\': False, \\'rinse2\\': False, \\'blow\\': True, \\'piston-vent\\': False, \\'postsample\\': True}\",\"Rinse Program Step 3/6: blow for 15s\",\"[250318-10:27:40] Load stopped at voltage mean = 4.5493027877807615 and stdev = 0.8819717019590799\"]\\n'\n",
      "status r code 200\n",
      "status:  b'[\"State: RINSING\",\"Arm State: DOWN\",\"Rinse 1 tank: 950 mL\",\"Rinse 2 tank: 950 mL\",\"Waste tank: 0 mL\",\"Relay status: {\\'arm-up\\': False, \\'arm-down\\': True, \\'rinse1\\': False, \\'rinse2\\': False, \\'blow\\': True, \\'piston-vent\\': False, \\'postsample\\': True}\",\"Rinse Program Step 3/6: blow for 15s\",\"[250318-10:27:40] Load stopped at voltage mean = 4.5493027877807615 and stdev = 0.8819717019590799\"]\\n'\n",
      "status r code 200\n",
      "status:  b'[\"State: RINSING\",\"Arm State: DOWN\",\"Rinse 1 tank: 950 mL\",\"Rinse 2 tank: 950 mL\",\"Waste tank: 0 mL\",\"Relay status: {\\'arm-up\\': False, \\'arm-down\\': True, \\'rinse1\\': False, \\'rinse2\\': False, \\'blow\\': True, \\'piston-vent\\': False, \\'postsample\\': True}\",\"Rinse Program Step 3/6: blow for 15s\",\"[250318-10:27:40] Load stopped at voltage mean = 4.5493027877807615 and stdev = 0.8819717019590799\"]\\n'\n",
      "status r code 200\n",
      "status:  b'[\"State: RINSING\",\"Arm State: DOWN\",\"Rinse 1 tank: 950 mL\",\"Rinse 2 tank: 950 mL\",\"Waste tank: 0 mL\",\"Relay status: {\\'arm-up\\': False, \\'arm-down\\': True, \\'rinse1\\': False, \\'rinse2\\': False, \\'blow\\': True, \\'piston-vent\\': False, \\'postsample\\': True}\",\"Rinse Program Step 3/6: blow for 15s\",\"[250318-10:27:40] Load stopped at voltage mean = 4.5493027877807615 and stdev = 0.8819717019590799\"]\\n'\n",
      "status r code 200\n",
      "status:  b'[\"State: RINSING\",\"Arm State: DOWN\",\"Rinse 1 tank: 950 mL\",\"Rinse 2 tank: 950 mL\",\"Waste tank: 0 mL\",\"Relay status: {\\'arm-up\\': False, \\'arm-down\\': True, \\'rinse1\\': False, \\'rinse2\\': False, \\'blow\\': True, \\'piston-vent\\': False, \\'postsample\\': True}\",\"Rinse Program Step 3/6: blow for 15s\",\"[250318-10:27:40] Load stopped at voltage mean = 4.5493027877807615 and stdev = 0.8819717019590799\"]\\n'\n",
      "status r code 200\n",
      "status:  b'[\"State: RINSING\",\"Arm State: DOWN\",\"Rinse 1 tank: 950 mL\",\"Rinse 2 tank: 950 mL\",\"Waste tank: 0 mL\",\"Relay status: {\\'arm-up\\': False, \\'arm-down\\': True, \\'rinse1\\': False, \\'rinse2\\': False, \\'blow\\': True, \\'piston-vent\\': False, \\'postsample\\': True}\",\"Rinse Program Step 3/6: blow for 15s\",\"[250318-10:27:40] Load stopped at voltage mean = 4.5493027877807615 and stdev = 0.8819717019590799\"]\\n'\n",
      "status r code 200\n",
      "status:  b'[\"State: RINSING\",\"Arm State: DOWN\",\"Rinse 1 tank: 950 mL\",\"Rinse 2 tank: 950 mL\",\"Waste tank: 0 mL\",\"Relay status: {\\'arm-up\\': False, \\'arm-down\\': True, \\'rinse1\\': False, \\'rinse2\\': False, \\'blow\\': True, \\'piston-vent\\': False, \\'postsample\\': True}\",\"Rinse Program Step 3/6: blow for 15s\",\"[250318-10:27:40] Load stopped at voltage mean = 4.5493027877807615 and stdev = 0.8819717019590799\"]\\n'\n",
      "status r code 200\n",
      "status:  b'[\"State: RINSING\",\"Arm State: DOWN\",\"Rinse 1 tank: 950 mL\",\"Rinse 2 tank: 950 mL\",\"Waste tank: 0 mL\",\"Relay status: {\\'arm-up\\': False, \\'arm-down\\': True, \\'rinse1\\': False, \\'rinse2\\': False, \\'blow\\': True, \\'piston-vent\\': False, \\'postsample\\': True}\",\"Rinse Program Step 3/6: blow for 15s\",\"[250318-10:27:40] Load stopped at voltage mean = 4.5493027877807615 and stdev = 0.8819717019590799\"]\\n'\n",
      "status r code 200\n",
      "status:  b'[\"State: RINSING\",\"Arm State: DOWN\",\"Rinse 1 tank: 950 mL\",\"Rinse 2 tank: 950 mL\",\"Waste tank: 0 mL\",\"Relay status: {\\'arm-up\\': False, \\'arm-down\\': True, \\'rinse1\\': False, \\'rinse2\\': False, \\'blow\\': True, \\'piston-vent\\': False, \\'postsample\\': True}\",\"Rinse Program Step 3/6: blow for 15s\",\"[250318-10:27:40] Load stopped at voltage mean = 4.5493027877807615 and stdev = 0.8819717019590799\"]\\n'\n",
      "status r code 200\n",
      "status:  b'[\"State: RINSING\",\"Arm State: DOWN\",\"Rinse 1 tank: 950 mL\",\"Rinse 2 tank: 950 mL\",\"Waste tank: 0 mL\",\"Relay status: {\\'arm-up\\': False, \\'arm-down\\': True, \\'rinse1\\': False, \\'rinse2\\': False, \\'blow\\': True, \\'piston-vent\\': False, \\'postsample\\': True}\",\"Rinse Program Step 3/6: blow for 15s\",\"[250318-10:27:40] Load stopped at voltage mean = 4.5493027877807615 and stdev = 0.8819717019590799\"]\\n'\n",
      "status r code 200\n",
      "status:  b'[\"State: RINSING\",\"Arm State: DOWN\",\"Rinse 1 tank: 950 mL\",\"Rinse 2 tank: 950 mL\",\"Waste tank: 0 mL\",\"Relay status: {\\'arm-up\\': False, \\'arm-down\\': True, \\'rinse1\\': False, \\'rinse2\\': False, \\'blow\\': True, \\'piston-vent\\': False, \\'postsample\\': True}\",\"Rinse Program Step 3/6: blow for 15s\",\"[250318-10:27:40] Load stopped at voltage mean = 4.5493027877807615 and stdev = 0.8819717019590799\"]\\n'\n",
      "status r code 200\n",
      "status:  b'[\"State: RINSING\",\"Arm State: DOWN\",\"Rinse 1 tank: 950 mL\",\"Rinse 2 tank: 950 mL\",\"Waste tank: 0 mL\",\"Relay status: {\\'arm-up\\': False, \\'arm-down\\': True, \\'rinse1\\': False, \\'rinse2\\': False, \\'blow\\': True, \\'piston-vent\\': False, \\'postsample\\': True}\",\"Rinse Program Step 3/6: blow for 15s\",\"[250318-10:27:40] Load stopped at voltage mean = 4.5493027877807615 and stdev = 0.8819717019590799\"]\\n'\n",
      "status r code 200\n",
      "status:  b'[\"State: RINSING\",\"Arm State: DOWN\",\"Rinse 1 tank: 950 mL\",\"Rinse 2 tank: 950 mL\",\"Waste tank: 0 mL\",\"Relay status: {\\'arm-up\\': False, \\'arm-down\\': True, \\'rinse1\\': False, \\'rinse2\\': False, \\'blow\\': True, \\'piston-vent\\': False, \\'postsample\\': True}\",\"Rinse Program Step 3/6: blow for 15s\",\"[250318-10:27:40] Load stopped at voltage mean = 4.5493027877807615 and stdev = 0.8819717019590799\"]\\n'\n",
      "status r code 200\n",
      "status:  b'[\"State: RINSING\",\"Arm State: DOWN\",\"Rinse 1 tank: 950 mL\",\"Rinse 2 tank: 950 mL\",\"Waste tank: 0 mL\",\"Relay status: {\\'arm-up\\': False, \\'arm-down\\': True, \\'rinse1\\': False, \\'rinse2\\': False, \\'blow\\': True, \\'piston-vent\\': False, \\'postsample\\': True}\",\"Rinse Program Step 3/6: blow for 15s\",\"[250318-10:27:40] Load stopped at voltage mean = 4.5493027877807615 and stdev = 0.8819717019590799\"]\\n'\n",
      "status r code 200\n",
      "status:  b'[\"State: RINSING\",\"Arm State: DOWN\",\"Rinse 1 tank: 950 mL\",\"Rinse 2 tank: 950 mL\",\"Waste tank: 0 mL\",\"Relay status: {\\'arm-up\\': False, \\'arm-down\\': True, \\'rinse1\\': False, \\'rinse2\\': False, \\'blow\\': True, \\'piston-vent\\': False, \\'postsample\\': True}\",\"Rinse Program Step 3/6: blow for 15s\",\"[250318-10:27:40] Load stopped at voltage mean = 4.5493027877807615 and stdev = 0.8819717019590799\"]\\n'\n",
      "status r code 200\n",
      "status:  b'[\"State: RINSING\",\"Arm State: DOWN\",\"Rinse 1 tank: 950 mL\",\"Rinse 2 tank: 950 mL\",\"Waste tank: 0 mL\",\"Relay status: {\\'arm-up\\': False, \\'arm-down\\': True, \\'rinse1\\': False, \\'rinse2\\': False, \\'blow\\': True, \\'piston-vent\\': False, \\'postsample\\': True}\",\"Rinse Program Step 5/6: blow for 60s\",\"[250318-10:27:40] Load stopped at voltage mean = 4.5493027877807615 and stdev = 0.8819717019590799\"]\\n'\n",
      "status r code 200\n",
      "status:  b'[\"State: RINSING\",\"Arm State: DOWN\",\"Rinse 1 tank: 950 mL\",\"Rinse 2 tank: 950 mL\",\"Waste tank: 0 mL\",\"Relay status: {\\'arm-up\\': False, \\'arm-down\\': True, \\'rinse1\\': False, \\'rinse2\\': False, \\'blow\\': True, \\'piston-vent\\': False, \\'postsample\\': True}\",\"Rinse Program Step 5/6: blow for 60s\",\"[250318-10:27:40] Load stopped at voltage mean = 4.5493027877807615 and stdev = 0.8819717019590799\"]\\n'\n",
      "status r code 200\n",
      "status:  b'[\"State: RINSING\",\"Arm State: DOWN\",\"Rinse 1 tank: 950 mL\",\"Rinse 2 tank: 950 mL\",\"Waste tank: 0 mL\",\"Relay status: {\\'arm-up\\': False, \\'arm-down\\': True, \\'rinse1\\': False, \\'rinse2\\': False, \\'blow\\': True, \\'piston-vent\\': False, \\'postsample\\': True}\",\"Rinse Program Step 5/6: blow for 60s\",\"[250318-10:27:40] Load stopped at voltage mean = 4.5493027877807615 and stdev = 0.8819717019590799\"]\\n'\n",
      "status r code 200\n",
      "status:  b'[\"State: RINSING\",\"Arm State: DOWN\",\"Rinse 1 tank: 950 mL\",\"Rinse 2 tank: 950 mL\",\"Waste tank: 0 mL\",\"Relay status: {\\'arm-up\\': False, \\'arm-down\\': True, \\'rinse1\\': False, \\'rinse2\\': False, \\'blow\\': True, \\'piston-vent\\': False, \\'postsample\\': True}\",\"Rinse Program Step 5/6: blow for 60s\",\"[250318-10:27:40] Load stopped at voltage mean = 4.5493027877807615 and stdev = 0.8819717019590799\"]\\n'\n",
      "status r code 200\n",
      "status:  b'[\"State: RINSING\",\"Arm State: DOWN\",\"Rinse 1 tank: 950 mL\",\"Rinse 2 tank: 950 mL\",\"Waste tank: 0 mL\",\"Relay status: {\\'arm-up\\': False, \\'arm-down\\': True, \\'rinse1\\': False, \\'rinse2\\': False, \\'blow\\': True, \\'piston-vent\\': False, \\'postsample\\': True}\",\"Rinse Program Step 5/6: blow for 60s\",\"[250318-10:27:40] Load stopped at voltage mean = 4.5493027877807615 and stdev = 0.8819717019590799\"]\\n'\n",
      "status r code 200\n",
      "status:  b'[\"State: RINSING\",\"Arm State: DOWN\",\"Rinse 1 tank: 950 mL\",\"Rinse 2 tank: 950 mL\",\"Waste tank: 0 mL\",\"Relay status: {\\'arm-up\\': False, \\'arm-down\\': True, \\'rinse1\\': False, \\'rinse2\\': False, \\'blow\\': True, \\'piston-vent\\': False, \\'postsample\\': True}\",\"Rinse Program Step 5/6: blow for 60s\",\"[250318-10:27:40] Load stopped at voltage mean = 4.5493027877807615 and stdev = 0.8819717019590799\"]\\n'\n",
      "status r code 200\n",
      "status:  b'[\"State: RINSING\",\"Arm State: DOWN\",\"Rinse 1 tank: 950 mL\",\"Rinse 2 tank: 950 mL\",\"Waste tank: 0 mL\",\"Relay status: {\\'arm-up\\': False, \\'arm-down\\': True, \\'rinse1\\': False, \\'rinse2\\': False, \\'blow\\': True, \\'piston-vent\\': False, \\'postsample\\': True}\",\"Rinse Program Step 5/6: blow for 60s\",\"[250318-10:27:40] Load stopped at voltage mean = 4.5493027877807615 and stdev = 0.8819717019590799\"]\\n'\n",
      "status r code 200\n",
      "status:  b'[\"State: RINSING\",\"Arm State: DOWN\",\"Rinse 1 tank: 950 mL\",\"Rinse 2 tank: 950 mL\",\"Waste tank: 0 mL\",\"Relay status: {\\'arm-up\\': False, \\'arm-down\\': True, \\'rinse1\\': False, \\'rinse2\\': False, \\'blow\\': True, \\'piston-vent\\': False, \\'postsample\\': True}\",\"Rinse Program Step 5/6: blow for 60s\",\"[250318-10:27:40] Load stopped at voltage mean = 4.5493027877807615 and stdev = 0.8819717019590799\"]\\n'\n",
      "status r code 200\n",
      "status:  b'[\"State: RINSING\",\"Arm State: DOWN\",\"Rinse 1 tank: 950 mL\",\"Rinse 2 tank: 950 mL\",\"Waste tank: 0 mL\",\"Relay status: {\\'arm-up\\': False, \\'arm-down\\': True, \\'rinse1\\': False, \\'rinse2\\': False, \\'blow\\': True, \\'piston-vent\\': False, \\'postsample\\': True}\",\"Rinse Program Step 5/6: blow for 60s\",\"[250318-10:27:40] Load stopped at voltage mean = 4.5493027877807615 and stdev = 0.8819717019590799\"]\\n'\n",
      "status r code 200\n",
      "status:  b'[\"State: RINSING\",\"Arm State: DOWN\",\"Rinse 1 tank: 950 mL\",\"Rinse 2 tank: 950 mL\",\"Waste tank: 0 mL\",\"Relay status: {\\'arm-up\\': False, \\'arm-down\\': True, \\'rinse1\\': False, \\'rinse2\\': False, \\'blow\\': True, \\'piston-vent\\': False, \\'postsample\\': True}\",\"Rinse Program Step 5/6: blow for 60s\",\"[250318-10:27:40] Load stopped at voltage mean = 4.5493027877807615 and stdev = 0.8819717019590799\"]\\n'\n",
      "status r code 200\n",
      "status:  b'[\"State: RINSING\",\"Arm State: DOWN\",\"Rinse 1 tank: 950 mL\",\"Rinse 2 tank: 950 mL\",\"Waste tank: 0 mL\",\"Relay status: {\\'arm-up\\': False, \\'arm-down\\': True, \\'rinse1\\': False, \\'rinse2\\': False, \\'blow\\': True, \\'piston-vent\\': False, \\'postsample\\': True}\",\"Rinse Program Step 5/6: blow for 60s\",\"[250318-10:27:40] Load stopped at voltage mean = 4.5493027877807615 and stdev = 0.8819717019590799\"]\\n'\n",
      "status r code 200\n",
      "status:  b'[\"State: RINSING\",\"Arm State: DOWN\",\"Rinse 1 tank: 950 mL\",\"Rinse 2 tank: 950 mL\",\"Waste tank: 0 mL\",\"Relay status: {\\'arm-up\\': False, \\'arm-down\\': True, \\'rinse1\\': False, \\'rinse2\\': False, \\'blow\\': True, \\'piston-vent\\': False, \\'postsample\\': True}\",\"Rinse Program Step 5/6: blow for 60s\",\"[250318-10:27:40] Load stopped at voltage mean = 4.5493027877807615 and stdev = 0.8819717019590799\"]\\n'\n",
      "status r code 200\n",
      "status:  b'[\"State: RINSING\",\"Arm State: DOWN\",\"Rinse 1 tank: 950 mL\",\"Rinse 2 tank: 950 mL\",\"Waste tank: 0 mL\",\"Relay status: {\\'arm-up\\': False, \\'arm-down\\': True, \\'rinse1\\': False, \\'rinse2\\': False, \\'blow\\': True, \\'piston-vent\\': False, \\'postsample\\': True}\",\"Rinse Program Step 5/6: blow for 60s\",\"[250318-10:27:40] Load stopped at voltage mean = 4.5493027877807615 and stdev = 0.8819717019590799\"]\\n'\n",
      "status r code 200\n",
      "status:  b'[\"State: RINSING\",\"Arm State: DOWN\",\"Rinse 1 tank: 950 mL\",\"Rinse 2 tank: 950 mL\",\"Waste tank: 0 mL\",\"Relay status: {\\'arm-up\\': False, \\'arm-down\\': True, \\'rinse1\\': False, \\'rinse2\\': False, \\'blow\\': True, \\'piston-vent\\': False, \\'postsample\\': True}\",\"Rinse Program Step 5/6: blow for 60s\",\"[250318-10:27:40] Load stopped at voltage mean = 4.5493027877807615 and stdev = 0.8819717019590799\"]\\n'\n",
      "status r code 200\n",
      "status:  b'[\"State: RINSING\",\"Arm State: DOWN\",\"Rinse 1 tank: 950 mL\",\"Rinse 2 tank: 950 mL\",\"Waste tank: 0 mL\",\"Relay status: {\\'arm-up\\': False, \\'arm-down\\': True, \\'rinse1\\': False, \\'rinse2\\': False, \\'blow\\': True, \\'piston-vent\\': False, \\'postsample\\': True}\",\"Rinse Program Step 5/6: blow for 60s\",\"[250318-10:27:40] Load stopped at voltage mean = 4.5493027877807615 and stdev = 0.8819717019590799\"]\\n'\n",
      "status r code 200\n",
      "status:  b'[\"State: RINSING\",\"Arm State: DOWN\",\"Rinse 1 tank: 950 mL\",\"Rinse 2 tank: 950 mL\",\"Waste tank: 0 mL\",\"Relay status: {\\'arm-up\\': False, \\'arm-down\\': True, \\'rinse1\\': False, \\'rinse2\\': False, \\'blow\\': True, \\'piston-vent\\': False, \\'postsample\\': True}\",\"Rinse Program Step 5/6: blow for 60s\",\"[250318-10:27:40] Load stopped at voltage mean = 4.5493027877807615 and stdev = 0.8819717019590799\"]\\n'\n",
      "status r code 200\n",
      "status:  b'[\"State: RINSING\",\"Arm State: DOWN\",\"Rinse 1 tank: 950 mL\",\"Rinse 2 tank: 950 mL\",\"Waste tank: 0 mL\",\"Relay status: {\\'arm-up\\': False, \\'arm-down\\': True, \\'rinse1\\': False, \\'rinse2\\': False, \\'blow\\': True, \\'piston-vent\\': False, \\'postsample\\': True}\",\"Rinse Program Step 5/6: blow for 60s\",\"[250318-10:27:40] Load stopped at voltage mean = 4.5493027877807615 and stdev = 0.8819717019590799\"]\\n'\n",
      "status r code 200\n",
      "status:  b'[\"State: RINSING\",\"Arm State: DOWN\",\"Rinse 1 tank: 950 mL\",\"Rinse 2 tank: 950 mL\",\"Waste tank: 0 mL\",\"Relay status: {\\'arm-up\\': False, \\'arm-down\\': True, \\'rinse1\\': False, \\'rinse2\\': False, \\'blow\\': True, \\'piston-vent\\': False, \\'postsample\\': True}\",\"Rinse Program Step 5/6: blow for 60s\",\"[250318-10:27:40] Load stopped at voltage mean = 4.5493027877807615 and stdev = 0.8819717019590799\"]\\n'\n",
      "status r code 200\n",
      "status:  b'[\"State: RINSING\",\"Arm State: DOWN\",\"Rinse 1 tank: 950 mL\",\"Rinse 2 tank: 950 mL\",\"Waste tank: 0 mL\",\"Relay status: {\\'arm-up\\': False, \\'arm-down\\': True, \\'rinse1\\': False, \\'rinse2\\': False, \\'blow\\': True, \\'piston-vent\\': False, \\'postsample\\': True}\",\"Rinse Program Step 5/6: blow for 60s\",\"[250318-10:27:40] Load stopped at voltage mean = 4.5493027877807615 and stdev = 0.8819717019590799\"]\\n'\n",
      "status r code 200\n",
      "status:  b'[\"State: RINSING\",\"Arm State: DOWN\",\"Rinse 1 tank: 950 mL\",\"Rinse 2 tank: 950 mL\",\"Waste tank: 0 mL\",\"Relay status: {\\'arm-up\\': False, \\'arm-down\\': True, \\'rinse1\\': False, \\'rinse2\\': False, \\'blow\\': True, \\'piston-vent\\': False, \\'postsample\\': True}\",\"Rinse Program Step 5/6: blow for 60s\",\"[250318-10:27:40] Load stopped at voltage mean = 4.5493027877807615 and stdev = 0.8819717019590799\"]\\n'\n",
      "status r code 200\n",
      "status:  b'[\"State: RINSING\",\"Arm State: DOWN\",\"Rinse 1 tank: 950 mL\",\"Rinse 2 tank: 950 mL\",\"Waste tank: 0 mL\",\"Relay status: {\\'arm-up\\': False, \\'arm-down\\': True, \\'rinse1\\': False, \\'rinse2\\': False, \\'blow\\': True, \\'piston-vent\\': False, \\'postsample\\': True}\",\"Rinse Program Step 5/6: blow for 60s\",\"[250318-10:27:40] Load stopped at voltage mean = 4.5493027877807615 and stdev = 0.8819717019590799\"]\\n'\n",
      "status r code 200\n",
      "status:  b'[\"State: RINSING\",\"Arm State: DOWN\",\"Rinse 1 tank: 950 mL\",\"Rinse 2 tank: 950 mL\",\"Waste tank: 0 mL\",\"Relay status: {\\'arm-up\\': False, \\'arm-down\\': True, \\'rinse1\\': False, \\'rinse2\\': False, \\'blow\\': True, \\'piston-vent\\': False, \\'postsample\\': True}\",\"Rinse Program Step 5/6: blow for 60s\",\"[250318-10:27:40] Load stopped at voltage mean = 4.5493027877807615 and stdev = 0.8819717019590799\"]\\n'\n",
      "status r code 200\n",
      "status:  b'[\"State: RINSING\",\"Arm State: DOWN\",\"Rinse 1 tank: 950 mL\",\"Rinse 2 tank: 950 mL\",\"Waste tank: 0 mL\",\"Relay status: {\\'arm-up\\': False, \\'arm-down\\': True, \\'rinse1\\': False, \\'rinse2\\': False, \\'blow\\': True, \\'piston-vent\\': False, \\'postsample\\': True}\",\"Rinse Program Step 5/6: blow for 60s\",\"[250318-10:27:40] Load stopped at voltage mean = 4.5493027877807615 and stdev = 0.8819717019590799\"]\\n'\n",
      "status r code 200\n",
      "status:  b'[\"State: RINSING\",\"Arm State: DOWN\",\"Rinse 1 tank: 950 mL\",\"Rinse 2 tank: 950 mL\",\"Waste tank: 0 mL\",\"Relay status: {\\'arm-up\\': False, \\'arm-down\\': True, \\'rinse1\\': False, \\'rinse2\\': False, \\'blow\\': True, \\'piston-vent\\': False, \\'postsample\\': True}\",\"Rinse Program Step 5/6: blow for 60s\",\"[250318-10:27:40] Load stopped at voltage mean = 4.5493027877807615 and stdev = 0.8819717019590799\"]\\n'\n",
      "status r code 200\n",
      "status:  b'[\"State: RINSING\",\"Arm State: DOWN\",\"Rinse 1 tank: 950 mL\",\"Rinse 2 tank: 950 mL\",\"Waste tank: 0 mL\",\"Relay status: {\\'arm-up\\': False, \\'arm-down\\': True, \\'rinse1\\': False, \\'rinse2\\': False, \\'blow\\': True, \\'piston-vent\\': False, \\'postsample\\': True}\",\"Rinse Program Step 5/6: blow for 60s\",\"[250318-10:27:40] Load stopped at voltage mean = 4.5493027877807615 and stdev = 0.8819717019590799\"]\\n'\n",
      "status r code 200\n",
      "status:  b'[\"State: RINSING\",\"Arm State: DOWN\",\"Rinse 1 tank: 950 mL\",\"Rinse 2 tank: 950 mL\",\"Waste tank: 0 mL\",\"Relay status: {\\'arm-up\\': False, \\'arm-down\\': True, \\'rinse1\\': False, \\'rinse2\\': False, \\'blow\\': True, \\'piston-vent\\': False, \\'postsample\\': True}\",\"Rinse Program Step 5/6: blow for 60s\",\"[250318-10:27:40] Load stopped at voltage mean = 4.5493027877807615 and stdev = 0.8819717019590799\"]\\n'\n",
      "status r code 200\n",
      "status:  b'[\"State: RINSING\",\"Arm State: DOWN\",\"Rinse 1 tank: 950 mL\",\"Rinse 2 tank: 950 mL\",\"Waste tank: 0 mL\",\"Relay status: {\\'arm-up\\': False, \\'arm-down\\': True, \\'rinse1\\': False, \\'rinse2\\': False, \\'blow\\': True, \\'piston-vent\\': False, \\'postsample\\': True}\",\"Rinse Program Step 5/6: blow for 60s\",\"[250318-10:27:40] Load stopped at voltage mean = 4.5493027877807615 and stdev = 0.8819717019590799\"]\\n'\n",
      "status r code 200\n",
      "status:  b'[\"State: RINSING\",\"Arm State: DOWN\",\"Rinse 1 tank: 950 mL\",\"Rinse 2 tank: 950 mL\",\"Waste tank: 0 mL\",\"Relay status: {\\'arm-up\\': False, \\'arm-down\\': True, \\'rinse1\\': False, \\'rinse2\\': False, \\'blow\\': True, \\'piston-vent\\': False, \\'postsample\\': True}\",\"Rinse Program Step 5/6: blow for 60s\",\"[250318-10:27:40] Load stopped at voltage mean = 4.5493027877807615 and stdev = 0.8819717019590799\"]\\n'\n",
      "status r code 200\n",
      "status:  b'[\"State: RINSING\",\"Arm State: DOWN\",\"Rinse 1 tank: 950 mL\",\"Rinse 2 tank: 950 mL\",\"Waste tank: 0 mL\",\"Relay status: {\\'arm-up\\': False, \\'arm-down\\': True, \\'rinse1\\': False, \\'rinse2\\': False, \\'blow\\': True, \\'piston-vent\\': False, \\'postsample\\': True}\",\"Rinse Program Step 5/6: blow for 60s\",\"[250318-10:27:40] Load stopped at voltage mean = 4.5493027877807615 and stdev = 0.8819717019590799\"]\\n'\n",
      "status r code 200\n",
      "status:  b'[\"State: RINSING\",\"Arm State: DOWN\",\"Rinse 1 tank: 950 mL\",\"Rinse 2 tank: 950 mL\",\"Waste tank: 0 mL\",\"Relay status: {\\'arm-up\\': False, \\'arm-down\\': True, \\'rinse1\\': False, \\'rinse2\\': False, \\'blow\\': True, \\'piston-vent\\': False, \\'postsample\\': True}\",\"Rinse Program Step 5/6: blow for 60s\",\"[250318-10:27:40] Load stopped at voltage mean = 4.5493027877807615 and stdev = 0.8819717019590799\"]\\n'\n",
      "status r code 200\n",
      "status:  b'[\"State: RINSING\",\"Arm State: DOWN\",\"Rinse 1 tank: 950 mL\",\"Rinse 2 tank: 950 mL\",\"Waste tank: 0 mL\",\"Relay status: {\\'arm-up\\': False, \\'arm-down\\': True, \\'rinse1\\': False, \\'rinse2\\': False, \\'blow\\': True, \\'piston-vent\\': False, \\'postsample\\': True}\",\"Rinse Program Step 5/6: blow for 60s\",\"[250318-10:27:40] Load stopped at voltage mean = 4.5493027877807615 and stdev = 0.8819717019590799\"]\\n'\n",
      "status r code 200\n",
      "status:  b'[\"State: RINSING\",\"Arm State: DOWN\",\"Rinse 1 tank: 950 mL\",\"Rinse 2 tank: 950 mL\",\"Waste tank: 0 mL\",\"Relay status: {\\'arm-up\\': False, \\'arm-down\\': True, \\'rinse1\\': False, \\'rinse2\\': False, \\'blow\\': True, \\'piston-vent\\': False, \\'postsample\\': True}\",\"Rinse Program Step 5/6: blow for 60s\",\"[250318-10:27:40] Load stopped at voltage mean = 4.5493027877807615 and stdev = 0.8819717019590799\"]\\n'\n",
      "status r code 200\n",
      "status:  b'[\"State: RINSING\",\"Arm State: DOWN\",\"Rinse 1 tank: 950 mL\",\"Rinse 2 tank: 950 mL\",\"Waste tank: 0 mL\",\"Relay status: {\\'arm-up\\': False, \\'arm-down\\': True, \\'rinse1\\': False, \\'rinse2\\': False, \\'blow\\': True, \\'piston-vent\\': False, \\'postsample\\': True}\",\"Rinse Program Step 5/6: blow for 60s\",\"[250318-10:27:40] Load stopped at voltage mean = 4.5493027877807615 and stdev = 0.8819717019590799\"]\\n'\n",
      "status r code 200\n",
      "status:  b'[\"State: RINSING\",\"Arm State: DOWN\",\"Rinse 1 tank: 950 mL\",\"Rinse 2 tank: 950 mL\",\"Waste tank: 0 mL\",\"Relay status: {\\'arm-up\\': False, \\'arm-down\\': True, \\'rinse1\\': False, \\'rinse2\\': False, \\'blow\\': True, \\'piston-vent\\': False, \\'postsample\\': True}\",\"Rinse Program Step 5/6: blow for 60s\",\"[250318-10:27:40] Load stopped at voltage mean = 4.5493027877807615 and stdev = 0.8819717019590799\"]\\n'\n",
      "status r code 200\n",
      "status:  b'[\"State: RINSING\",\"Arm State: DOWN\",\"Rinse 1 tank: 950 mL\",\"Rinse 2 tank: 950 mL\",\"Waste tank: 0 mL\",\"Relay status: {\\'arm-up\\': False, \\'arm-down\\': True, \\'rinse1\\': False, \\'rinse2\\': False, \\'blow\\': True, \\'piston-vent\\': False, \\'postsample\\': True}\",\"Rinse Program Step 5/6: blow for 60s\",\"[250318-10:27:40] Load stopped at voltage mean = 4.5493027877807615 and stdev = 0.8819717019590799\"]\\n'\n",
      "status r code 200\n",
      "status:  b'[\"State: RINSING\",\"Arm State: DOWN\",\"Rinse 1 tank: 950 mL\",\"Rinse 2 tank: 950 mL\",\"Waste tank: 0 mL\",\"Relay status: {\\'arm-up\\': False, \\'arm-down\\': True, \\'rinse1\\': False, \\'rinse2\\': False, \\'blow\\': True, \\'piston-vent\\': False, \\'postsample\\': True}\",\"Rinse Program Step 5/6: blow for 60s\",\"[250318-10:27:40] Load stopped at voltage mean = 4.5493027877807615 and stdev = 0.8819717019590799\"]\\n'\n",
      "status r code 200\n",
      "status:  b'[\"State: RINSING\",\"Arm State: DOWN\",\"Rinse 1 tank: 950 mL\",\"Rinse 2 tank: 950 mL\",\"Waste tank: 0 mL\",\"Relay status: {\\'arm-up\\': False, \\'arm-down\\': True, \\'rinse1\\': False, \\'rinse2\\': False, \\'blow\\': True, \\'piston-vent\\': False, \\'postsample\\': True}\",\"Rinse Program Step 5/6: blow for 60s\",\"[250318-10:27:40] Load stopped at voltage mean = 4.5493027877807615 and stdev = 0.8819717019590799\"]\\n'\n",
      "status r code 200\n",
      "status:  b'[\"State: RINSING\",\"Arm State: DOWN\",\"Rinse 1 tank: 950 mL\",\"Rinse 2 tank: 950 mL\",\"Waste tank: 0 mL\",\"Relay status: {\\'arm-up\\': False, \\'arm-down\\': True, \\'rinse1\\': False, \\'rinse2\\': False, \\'blow\\': True, \\'piston-vent\\': False, \\'postsample\\': True}\",\"Rinse Program Step 5/6: blow for 60s\",\"[250318-10:27:40] Load stopped at voltage mean = 4.5493027877807615 and stdev = 0.8819717019590799\"]\\n'\n",
      "status r code 200\n",
      "status:  b'[\"State: RINSING\",\"Arm State: DOWN\",\"Rinse 1 tank: 950 mL\",\"Rinse 2 tank: 950 mL\",\"Waste tank: 0 mL\",\"Relay status: {\\'arm-up\\': False, \\'arm-down\\': True, \\'rinse1\\': False, \\'rinse2\\': False, \\'blow\\': True, \\'piston-vent\\': False, \\'postsample\\': True}\",\"Rinse Program Step 5/6: blow for 60s\",\"[250318-10:27:40] Load stopped at voltage mean = 4.5493027877807615 and stdev = 0.8819717019590799\"]\\n'\n",
      "status r code 200\n",
      "status:  b'[\"State: RINSING\",\"Arm State: DOWN\",\"Rinse 1 tank: 950 mL\",\"Rinse 2 tank: 950 mL\",\"Waste tank: 0 mL\",\"Relay status: {\\'arm-up\\': False, \\'arm-down\\': True, \\'rinse1\\': False, \\'rinse2\\': False, \\'blow\\': True, \\'piston-vent\\': False, \\'postsample\\': True}\",\"Rinse Program Step 5/6: blow for 60s\",\"[250318-10:27:40] Load stopped at voltage mean = 4.5493027877807615 and stdev = 0.8819717019590799\"]\\n'\n",
      "status r code 200\n",
      "status:  b'[\"State: RINSING\",\"Arm State: DOWN\",\"Rinse 1 tank: 950 mL\",\"Rinse 2 tank: 950 mL\",\"Waste tank: 0 mL\",\"Relay status: {\\'arm-up\\': False, \\'arm-down\\': True, \\'rinse1\\': False, \\'rinse2\\': False, \\'blow\\': True, \\'piston-vent\\': False, \\'postsample\\': True}\",\"Rinse Program Step 5/6: blow for 60s\",\"[250318-10:27:40] Load stopped at voltage mean = 4.5493027877807615 and stdev = 0.8819717019590799\"]\\n'\n",
      "status r code 200\n",
      "status:  b'[\"State: RINSING\",\"Arm State: DOWN\",\"Rinse 1 tank: 950 mL\",\"Rinse 2 tank: 950 mL\",\"Waste tank: 0 mL\",\"Relay status: {\\'arm-up\\': False, \\'arm-down\\': True, \\'rinse1\\': False, \\'rinse2\\': False, \\'blow\\': True, \\'piston-vent\\': False, \\'postsample\\': True}\",\"Rinse Program Step 5/6: blow for 60s\",\"[250318-10:27:40] Load stopped at voltage mean = 4.5493027877807615 and stdev = 0.8819717019590799\"]\\n'\n",
      "status r code 200\n",
      "status:  b'[\"State: RINSING\",\"Arm State: DOWN\",\"Rinse 1 tank: 950 mL\",\"Rinse 2 tank: 950 mL\",\"Waste tank: 0 mL\",\"Relay status: {\\'arm-up\\': False, \\'arm-down\\': True, \\'rinse1\\': False, \\'rinse2\\': False, \\'blow\\': True, \\'piston-vent\\': False, \\'postsample\\': True}\",\"Rinse Program Step 5/6: blow for 60s\",\"[250318-10:27:40] Load stopped at voltage mean = 4.5493027877807615 and stdev = 0.8819717019590799\"]\\n'\n",
      "status r code 200\n",
      "status:  b'[\"State: RINSING\",\"Arm State: DOWN\",\"Rinse 1 tank: 950 mL\",\"Rinse 2 tank: 950 mL\",\"Waste tank: 0 mL\",\"Relay status: {\\'arm-up\\': False, \\'arm-down\\': True, \\'rinse1\\': False, \\'rinse2\\': False, \\'blow\\': True, \\'piston-vent\\': False, \\'postsample\\': True}\",\"Rinse Program Step 5/6: blow for 60s\",\"[250318-10:27:40] Load stopped at voltage mean = 4.5493027877807615 and stdev = 0.8819717019590799\"]\\n'\n",
      "status r code 200\n",
      "status:  b'[\"State: RINSING\",\"Arm State: DOWN\",\"Rinse 1 tank: 950 mL\",\"Rinse 2 tank: 950 mL\",\"Waste tank: 0 mL\",\"Relay status: {\\'arm-up\\': False, \\'arm-down\\': True, \\'rinse1\\': False, \\'rinse2\\': False, \\'blow\\': True, \\'piston-vent\\': False, \\'postsample\\': True}\",\"Rinse Program Step 5/6: blow for 60s\",\"[250318-10:27:40] Load stopped at voltage mean = 4.5493027877807615 and stdev = 0.8819717019590799\"]\\n'\n",
      "status r code 200\n",
      "status:  b'[\"State: RINSING\",\"Arm State: DOWN\",\"Rinse 1 tank: 950 mL\",\"Rinse 2 tank: 950 mL\",\"Waste tank: 0 mL\",\"Relay status: {\\'arm-up\\': False, \\'arm-down\\': True, \\'rinse1\\': False, \\'rinse2\\': False, \\'blow\\': True, \\'piston-vent\\': False, \\'postsample\\': True}\",\"Rinse Program Step 5/6: blow for 60s\",\"[250318-10:27:40] Load stopped at voltage mean = 4.5493027877807615 and stdev = 0.8819717019590799\"]\\n'\n",
      "status r code 200\n",
      "status:  b'[\"State: RINSING\",\"Arm State: DOWN\",\"Rinse 1 tank: 950 mL\",\"Rinse 2 tank: 950 mL\",\"Waste tank: 0 mL\",\"Relay status: {\\'arm-up\\': False, \\'arm-down\\': True, \\'rinse1\\': False, \\'rinse2\\': False, \\'blow\\': True, \\'piston-vent\\': False, \\'postsample\\': True}\",\"Rinse Program Step 5/6: blow for 60s\",\"[250318-10:27:40] Load stopped at voltage mean = 4.5493027877807615 and stdev = 0.8819717019590799\"]\\n'\n",
      "status r code 200\n",
      "status:  b'[\"State: RINSING\",\"Arm State: DOWN\",\"Rinse 1 tank: 950 mL\",\"Rinse 2 tank: 950 mL\",\"Waste tank: 0 mL\",\"Relay status: {\\'arm-up\\': False, \\'arm-down\\': True, \\'rinse1\\': False, \\'rinse2\\': False, \\'blow\\': True, \\'piston-vent\\': False, \\'postsample\\': True}\",\"Rinse Program Step 5/6: blow for 60s\",\"[250318-10:27:40] Load stopped at voltage mean = 4.5493027877807615 and stdev = 0.8819717019590799\"]\\n'\n",
      "status r code 200\n",
      "status:  b'[\"State: RINSING\",\"Arm State: DOWN\",\"Rinse 1 tank: 950 mL\",\"Rinse 2 tank: 950 mL\",\"Waste tank: 0 mL\",\"Relay status: {\\'arm-up\\': False, \\'arm-down\\': True, \\'rinse1\\': False, \\'rinse2\\': False, \\'blow\\': True, \\'piston-vent\\': False, \\'postsample\\': True}\",\"Rinse Program Step 5/6: blow for 60s\",\"[250318-10:27:40] Load stopped at voltage mean = 4.5493027877807615 and stdev = 0.8819717019590799\"]\\n'\n",
      "status r code 200\n",
      "status:  b'[\"State: RINSING\",\"Arm State: DOWN\",\"Rinse 1 tank: 950 mL\",\"Rinse 2 tank: 950 mL\",\"Waste tank: 0 mL\",\"Relay status: {\\'arm-up\\': False, \\'arm-down\\': True, \\'rinse1\\': False, \\'rinse2\\': False, \\'blow\\': True, \\'piston-vent\\': False, \\'postsample\\': True}\",\"Rinse Program Step 5/6: blow for 60s\",\"[250318-10:27:40] Load stopped at voltage mean = 4.5493027877807615 and stdev = 0.8819717019590799\"]\\n'\n",
      "status r code 200\n",
      "status:  b'[\"State: RINSING\",\"Arm State: DOWN\",\"Rinse 1 tank: 950 mL\",\"Rinse 2 tank: 950 mL\",\"Waste tank: 0 mL\",\"Relay status: {\\'arm-up\\': False, \\'arm-down\\': True, \\'rinse1\\': False, \\'rinse2\\': False, \\'blow\\': True, \\'piston-vent\\': False, \\'postsample\\': True}\",\"Rinse Program Step 5/6: blow for 60s\",\"[250318-10:27:40] Load stopped at voltage mean = 4.5493027877807615 and stdev = 0.8819717019590799\"]\\n'\n",
      "status r code 200\n",
      "status:  b'[\"State: RINSING\",\"Arm State: DOWN\",\"Rinse 1 tank: 950 mL\",\"Rinse 2 tank: 950 mL\",\"Waste tank: 0 mL\",\"Relay status: {\\'arm-up\\': False, \\'arm-down\\': True, \\'rinse1\\': False, \\'rinse2\\': False, \\'blow\\': True, \\'piston-vent\\': False, \\'postsample\\': True}\",\"Rinse Program Step 5/6: blow for 60s\",\"[250318-10:27:40] Load stopped at voltage mean = 4.5493027877807615 and stdev = 0.8819717019590799\"]\\n'\n",
      "status r code 200\n",
      "status:  b'[\"State: RINSING\",\"Arm State: DOWN\",\"Rinse 1 tank: 950 mL\",\"Rinse 2 tank: 950 mL\",\"Waste tank: 0 mL\",\"Relay status: {\\'arm-up\\': False, \\'arm-down\\': True, \\'rinse1\\': False, \\'rinse2\\': False, \\'blow\\': True, \\'piston-vent\\': False, \\'postsample\\': True}\",\"Rinse Program Step 5/6: blow for 60s\",\"[250318-10:27:40] Load stopped at voltage mean = 4.5493027877807615 and stdev = 0.8819717019590799\"]\\n'\n",
      "status r code 200\n",
      "status:  b'[\"State: RINSING\",\"Arm State: DOWN\",\"Rinse 1 tank: 950 mL\",\"Rinse 2 tank: 950 mL\",\"Waste tank: 0 mL\",\"Relay status: {\\'arm-up\\': False, \\'arm-down\\': True, \\'rinse1\\': False, \\'rinse2\\': False, \\'blow\\': True, \\'piston-vent\\': False, \\'postsample\\': True}\",\"Rinse Program Step 5/6: blow for 60s\",\"[250318-10:27:40] Load stopped at voltage mean = 4.5493027877807615 and stdev = 0.8819717019590799\"]\\n'\n",
      "status r code 200\n",
      "status:  b'[\"State: RINSING\",\"Arm State: DOWN\",\"Rinse 1 tank: 950 mL\",\"Rinse 2 tank: 950 mL\",\"Waste tank: 0 mL\",\"Relay status: {\\'arm-up\\': False, \\'arm-down\\': True, \\'rinse1\\': False, \\'rinse2\\': False, \\'blow\\': True, \\'piston-vent\\': False, \\'postsample\\': True}\",\"Rinse Program Step 5/6: blow for 60s\",\"[250318-10:27:40] Load stopped at voltage mean = 4.5493027877807615 and stdev = 0.8819717019590799\"]\\n'\n",
      "status r code 200\n",
      "status:  b'[\"State: RINSING\",\"Arm State: DOWN\",\"Rinse 1 tank: 950 mL\",\"Rinse 2 tank: 950 mL\",\"Waste tank: 0 mL\",\"Relay status: {\\'arm-up\\': False, \\'arm-down\\': True, \\'rinse1\\': False, \\'rinse2\\': False, \\'blow\\': True, \\'piston-vent\\': False, \\'postsample\\': True}\",\"Rinse Program Step 5/6: blow for 60s\",\"[250318-10:27:40] Load stopped at voltage mean = 4.5493027877807615 and stdev = 0.8819717019590799\"]\\n'\n",
      "status r code 200\n",
      "status:  b'[\"State: RINSING\",\"Arm State: DOWN\",\"Rinse 1 tank: 950 mL\",\"Rinse 2 tank: 950 mL\",\"Waste tank: 0 mL\",\"Relay status: {\\'arm-up\\': False, \\'arm-down\\': True, \\'rinse1\\': False, \\'rinse2\\': False, \\'blow\\': True, \\'piston-vent\\': False, \\'postsample\\': True}\",\"Rinse Program Step 5/6: blow for 60s\",\"[250318-10:27:40] Load stopped at voltage mean = 4.5493027877807615 and stdev = 0.8819717019590799\"]\\n'\n",
      "status r code 200\n",
      "status:  b'[\"State: RINSING\",\"Arm State: DOWN\",\"Rinse 1 tank: 950 mL\",\"Rinse 2 tank: 950 mL\",\"Waste tank: 0 mL\",\"Relay status: {\\'arm-up\\': False, \\'arm-down\\': True, \\'rinse1\\': False, \\'rinse2\\': False, \\'blow\\': True, \\'piston-vent\\': False, \\'postsample\\': True}\",\"Rinse Program Step 5/6: blow for 60s\",\"[250318-10:27:40] Load stopped at voltage mean = 4.5493027877807615 and stdev = 0.8819717019590799\"]\\n'\n",
      "status r code 200\n",
      "status:  b'[\"State: RINSING\",\"Arm State: DOWN\",\"Rinse 1 tank: 950 mL\",\"Rinse 2 tank: 950 mL\",\"Waste tank: 0 mL\",\"Relay status: {\\'arm-up\\': False, \\'arm-down\\': True, \\'rinse1\\': False, \\'rinse2\\': False, \\'blow\\': True, \\'piston-vent\\': False, \\'postsample\\': True}\",\"Rinse Program Step 5/6: blow for 60s\",\"[250318-10:27:40] Load stopped at voltage mean = 4.5493027877807615 and stdev = 0.8819717019590799\"]\\n'\n",
      "status r code 200\n",
      "status:  b'[\"State: RINSED\",\"Arm State: DOWN\",\"Rinse 1 tank: 950 mL\",\"Rinse 2 tank: 950 mL\",\"Waste tank: 0 mL\",\"Relay status: {\\'arm-up\\': False, \\'arm-down\\': True, \\'rinse1\\': False, \\'rinse2\\': False, \\'blow\\': False, \\'piston-vent\\': False, \\'postsample\\': False}\",\"Not Rinsing\",\"[250318-10:27:40] Load stopped at voltage mean = 4.5493027877807615 and stdev = 0.8819717019590799\"]\\n'\n",
      "status r code 200\n",
      "status:  b'[\"State: RINSED\",\"Arm State: DOWN\",\"Rinse 1 tank: 950 mL\",\"Rinse 2 tank: 950 mL\",\"Waste tank: 0 mL\",\"Relay status: {\\'arm-up\\': False, \\'arm-down\\': True, \\'rinse1\\': False, \\'rinse2\\': False, \\'blow\\': False, \\'piston-vent\\': False, \\'postsample\\': False}\",\"Not Rinsing\",\"[250318-10:27:40] Load stopped at voltage mean = 4.5493027877807615 and stdev = 0.8819717019590799\"]\\n'\n",
      "status r code 200\n",
      "status:  b'[\"State: READY\",\"Arm State: UP\",\"Rinse 1 tank: 950 mL\",\"Rinse 2 tank: 950 mL\",\"Waste tank: 0 mL\",\"Relay status: {\\'arm-up\\': True, \\'arm-down\\': False, \\'rinse1\\': False, \\'rinse2\\': False, \\'blow\\': False, \\'piston-vent\\': True, \\'postsample\\': False}\",\"Not Rinsing\",\"[250318-10:27:40] Load stopped at voltage mean = 4.5493027877807615 and stdev = 0.8819717019590799\"]\\n'\n",
      "status r code 200\n",
      "status:  b'[\"State: READY\",\"Arm State: UP\",\"Rinse 1 tank: 950 mL\",\"Rinse 2 tank: 950 mL\",\"Waste tank: 0 mL\",\"Relay status: {\\'arm-up\\': True, \\'arm-down\\': False, \\'rinse1\\': False, \\'rinse2\\': False, \\'blow\\': False, \\'piston-vent\\': True, \\'postsample\\': False}\",\"Not Rinsing\",\"[250318-10:27:40] Load stopped at voltage mean = 4.5493027877807615 and stdev = 0.8819717019590799\"]\\n'\n"
     ]
    }
   ],
   "source": [
    "psl.prepare_cell()"
   ]
  },
  {
   "cell_type": "code",
   "execution_count": 60,
   "id": "620025ca-59d1-43d1-88ff-707f7bb0f299",
   "metadata": {
    "scrolled": true
   },
   "outputs": [
    {
     "name": "stdout",
     "output_type": "stream",
     "text": [
      "status r code 200\n",
      "status:  b'[\"State: READY\",\"Arm State: UP\",\"Rinse 1 tank: 950 mL\",\"Rinse 2 tank: 950 mL\",\"Waste tank: 0 mL\",\"Relay status: {\\'arm-up\\': True, \\'arm-down\\': False, \\'rinse1\\': False, \\'rinse2\\': False, \\'blow\\': False, \\'piston-vent\\': True, \\'postsample\\': False}\",\"Not Rinsing\",\"[250318-10:27:40] Load stopped at voltage mean = 4.5493027877807615 and stdev = 0.8819717019590799\"]\\n'\n",
      "status r code 200\n",
      "status:  b'[\"State: READY\",\"Arm State: UP\",\"Rinse 1 tank: 950 mL\",\"Rinse 2 tank: 950 mL\",\"Waste tank: 0 mL\",\"Relay status: {\\'arm-up\\': True, \\'arm-down\\': False, \\'rinse1\\': False, \\'rinse2\\': False, \\'blow\\': False, \\'piston-vent\\': True, \\'postsample\\': False}\",\"Not Rinsing\",\"[250318-10:27:40] Load stopped at voltage mean = 4.5493027877807615 and stdev = 0.8819717019590799\"]\\n'\n",
      "status r code 200\n",
      "status:  b'[\"State: READY\",\"Arm State: UP\",\"Rinse 1 tank: 950 mL\",\"Rinse 2 tank: 950 mL\",\"Waste tank: 0 mL\",\"Relay status: {\\'arm-up\\': True, \\'arm-down\\': False, \\'rinse1\\': False, \\'rinse2\\': False, \\'blow\\': False, \\'piston-vent\\': True, \\'postsample\\': False}\",\"Not Rinsing\",\"[250318-10:27:40] Load stopped at voltage mean = 4.5493027877807615 and stdev = 0.8819717019590799\"]\\n'\n",
      "status r code 200\n",
      "status:  b'[\"State: READY\",\"Arm State: UP\",\"Rinse 1 tank: 950 mL\",\"Rinse 2 tank: 950 mL\",\"Waste tank: 0 mL\",\"Relay status: {\\'arm-up\\': True, \\'arm-down\\': False, \\'rinse1\\': False, \\'rinse2\\': False, \\'blow\\': False, \\'piston-vent\\': True, \\'postsample\\': False}\",\"Not Rinsing\",\"[250318-10:27:40] Load stopped at voltage mean = 4.5493027877807615 and stdev = 0.8819717019590799\"]\\n'\n",
      "status r code 200\n",
      "status:  b'[\"State: READY\",\"Arm State: UP\",\"Rinse 1 tank: 950 mL\",\"Rinse 2 tank: 950 mL\",\"Waste tank: 0 mL\",\"Relay status: {\\'arm-up\\': True, \\'arm-down\\': False, \\'rinse1\\': False, \\'rinse2\\': False, \\'blow\\': False, \\'piston-vent\\': True, \\'postsample\\': False}\",\"Not Rinsing\",\"[250318-10:27:40] Load stopped at voltage mean = 4.5493027877807615 and stdev = 0.8819717019590799\"]\\n'\n",
      "status r code 200\n",
      "status:  b'[\"State: LOAD IN PROGRESS\",\"Arm State: DOWN\",\"Rinse 1 tank: 950 mL\",\"Rinse 2 tank: 950 mL\",\"Waste tank: 0 mL\",\"Relay status: {\\'arm-up\\': False, \\'arm-down\\': True, \\'rinse1\\': False, \\'rinse2\\': False, \\'blow\\': False, \\'piston-vent\\': False, \\'postsample\\': True}\",\"Not Rinsing\",\"Taking baseline data for 3 s.\"]\\n'\n",
      "status r code 200\n",
      "status:  b'[\"State: LOAD IN PROGRESS\",\"Arm State: DOWN\",\"Rinse 1 tank: 950 mL\",\"Rinse 2 tank: 950 mL\",\"Waste tank: 0 mL\",\"Relay status: {\\'arm-up\\': False, \\'arm-down\\': True, \\'rinse1\\': False, \\'rinse2\\': False, \\'blow\\': False, \\'piston-vent\\': False, \\'postsample\\': True}\",\"Not Rinsing\",\"Taking baseline data for 3 s.\"]\\n'\n",
      "status r code 200\n",
      "status:  b'[\"State: LOAD IN PROGRESS\",\"Arm State: DOWN\",\"Rinse 1 tank: 950 mL\",\"Rinse 2 tank: 950 mL\",\"Waste tank: 0 mL\",\"Relay status: {\\'arm-up\\': False, \\'arm-down\\': True, \\'rinse1\\': False, \\'rinse2\\': False, \\'blow\\': False, \\'piston-vent\\': False, \\'postsample\\': True}\",\"Not Rinsing\",\"Taking baseline data for 3 s.\"]\\n'\n",
      "status r code 200\n",
      "status:  b'[\"State: LOAD IN PROGRESS\",\"Arm State: DOWN\",\"Rinse 1 tank: 950 mL\",\"Rinse 2 tank: 950 mL\",\"Waste tank: 0 mL\",\"Relay status: {\\'arm-up\\': False, \\'arm-down\\': True, \\'rinse1\\': False, \\'rinse2\\': False, \\'blow\\': False, \\'piston-vent\\': False, \\'postsample\\': True}\",\"Not Rinsing\",\"Found baseline at 1.7134360313415526\"]\\n'\n",
      "status r code 200\n",
      "status:  b'[\"State: LOAD IN PROGRESS\",\"Arm State: DOWN\",\"Rinse 1 tank: 950 mL\",\"Rinse 2 tank: 950 mL\",\"Waste tank: 0 mL\",\"Relay status: {\\'arm-up\\': False, \\'arm-down\\': True, \\'rinse1\\': False, \\'rinse2\\': False, \\'blow\\': False, \\'piston-vent\\': False, \\'postsample\\': True}\",\"Not Rinsing\",\"Found baseline at 1.7134360313415526\"]\\n'\n",
      "status r code 200\n",
      "status:  b'[\"State: LOAD IN PROGRESS\",\"Arm State: DOWN\",\"Rinse 1 tank: 950 mL\",\"Rinse 2 tank: 950 mL\",\"Waste tank: 0 mL\",\"Relay status: {\\'arm-up\\': False, \\'arm-down\\': True, \\'rinse1\\': False, \\'rinse2\\': False, \\'blow\\': False, \\'piston-vent\\': False, \\'postsample\\': True}\",\"Not Rinsing\",\"Found baseline at 1.7134360313415526\"]\\n'\n",
      "status r code 200\n",
      "status:  b'[\"State: LOAD IN PROGRESS\",\"Arm State: DOWN\",\"Rinse 1 tank: 950 mL\",\"Rinse 2 tank: 950 mL\",\"Waste tank: 0 mL\",\"Relay status: {\\'arm-up\\': False, \\'arm-down\\': True, \\'rinse1\\': False, \\'rinse2\\': False, \\'blow\\': False, \\'piston-vent\\': False, \\'postsample\\': True}\",\"Not Rinsing\",\"Found baseline at 1.7134360313415526\"]\\n'\n",
      "status r code 200\n",
      "status:  b'[\"State: LOAD IN PROGRESS\",\"Arm State: DOWN\",\"Rinse 1 tank: 950 mL\",\"Rinse 2 tank: 950 mL\",\"Waste tank: 0 mL\",\"Relay status: {\\'arm-up\\': False, \\'arm-down\\': True, \\'rinse1\\': False, \\'rinse2\\': False, \\'blow\\': False, \\'piston-vent\\': False, \\'postsample\\': True}\",\"Not Rinsing\",\"Found baseline at 1.7134360313415526\"]\\n'\n",
      "status r code 200\n",
      "status:  b'[\"State: LOAD IN PROGRESS\",\"Arm State: DOWN\",\"Rinse 1 tank: 950 mL\",\"Rinse 2 tank: 950 mL\",\"Waste tank: 0 mL\",\"Relay status: {\\'arm-up\\': False, \\'arm-down\\': True, \\'rinse1\\': False, \\'rinse2\\': False, \\'blow\\': False, \\'piston-vent\\': False, \\'postsample\\': True}\",\"Not Rinsing\",\"Found baseline at 1.7134360313415526\"]\\n'\n",
      "status r code 200\n",
      "status:  b'[\"State: LOAD IN PROGRESS\",\"Arm State: DOWN\",\"Rinse 1 tank: 950 mL\",\"Rinse 2 tank: 950 mL\",\"Waste tank: 0 mL\",\"Relay status: {\\'arm-up\\': False, \\'arm-down\\': True, \\'rinse1\\': False, \\'rinse2\\': False, \\'blow\\': False, \\'piston-vent\\': False, \\'postsample\\': True}\",\"Not Rinsing\",\"Found baseline at 1.7134360313415526\"]\\n'\n",
      "status r code 200\n",
      "status:  b'[\"State: LOAD IN PROGRESS\",\"Arm State: DOWN\",\"Rinse 1 tank: 950 mL\",\"Rinse 2 tank: 950 mL\",\"Waste tank: 0 mL\",\"Relay status: {\\'arm-up\\': False, \\'arm-down\\': True, \\'rinse1\\': False, \\'rinse2\\': False, \\'blow\\': False, \\'piston-vent\\': False, \\'postsample\\': True}\",\"Not Rinsing\",\"Found baseline at 1.7134360313415526\"]\\n'\n",
      "status r code 200\n",
      "status:  b'[\"State: LOAD IN PROGRESS\",\"Arm State: DOWN\",\"Rinse 1 tank: 950 mL\",\"Rinse 2 tank: 950 mL\",\"Waste tank: 0 mL\",\"Relay status: {\\'arm-up\\': False, \\'arm-down\\': True, \\'rinse1\\': False, \\'rinse2\\': False, \\'blow\\': False, \\'piston-vent\\': False, \\'postsample\\': True}\",\"Not Rinsing\",\"Found baseline at 1.7134360313415526\"]\\n'\n",
      "status r code 200\n",
      "status:  b'[\"State: LOAD IN PROGRESS\",\"Arm State: DOWN\",\"Rinse 1 tank: 950 mL\",\"Rinse 2 tank: 950 mL\",\"Waste tank: 0 mL\",\"Relay status: {\\'arm-up\\': False, \\'arm-down\\': True, \\'rinse1\\': False, \\'rinse2\\': False, \\'blow\\': False, \\'piston-vent\\': False, \\'postsample\\': True}\",\"Not Rinsing\",\"Found baseline at 1.7134360313415526\"]\\n'\n",
      "status r code 200\n",
      "status:  b'[\"State: LOADED\",\"Arm State: DOWN\",\"Rinse 1 tank: 950 mL\",\"Rinse 2 tank: 950 mL\",\"Waste tank: 0 mL\",\"Relay status: {\\'arm-up\\': False, \\'arm-down\\': True, \\'rinse1\\': False, \\'rinse2\\': False, \\'blow\\': False, \\'piston-vent\\': False, \\'postsample\\': False}\",\"Not Rinsing\",\"[250318-10:39:54] Load stopped at voltage mean = 3.7400468254089354 and stdev = 1.198612412236053\"]\\n'\n"
     ]
    }
   ],
   "source": [
    "psl.load_sample(mix_syringe, ethanol_stocks.get_available_stock(2000), 2000)"
   ]
  },
  {
   "cell_type": "code",
   "execution_count": 51,
   "id": "47df3ff7-86b9-4a85-bcd0-376739188b69",
   "metadata": {},
   "outputs": [
    {
     "data": {
      "text/plain": [
       "Well B4 form 20mLscintillation 12 Well Plate 18000 µL on slot 4"
      ]
     },
     "execution_count": 51,
     "metadata": {},
     "output_type": "execute_result"
    }
   ],
   "source": [
    "ethanol_stocks.get_available_stock(500)"
   ]
  },
  {
   "cell_type": "code",
   "execution_count": 61,
   "id": "91521ff9-1f89-4740-a4fb-5d6ca325e626",
   "metadata": {},
   "outputs": [
    {
     "data": {
      "text/plain": [
       "{'B4': Well B4 form 20mLscintillation 12 Well Plate 18000 µL on slot 4,\n",
       " 'C1': Well C1 form 20mLscintillation 12 Well Plate 18000 µL on slot 4,\n",
       " 'C2': Well C2 form 20mLscintillation 12 Well Plate 18000 µL on slot 4,\n",
       " 'C3': Well C3 form 20mLscintillation 12 Well Plate 18000 µL on slot 4,\n",
       " 'C4': Well C4 form 20mLscintillation 12 Well Plate 18000 µL on slot 4}"
      ]
     },
     "execution_count": 61,
     "metadata": {},
     "output_type": "execute_result"
    }
   ],
   "source": [
    "ethanol_stocks.stock_list_lookup"
   ]
  },
  {
   "cell_type": "code",
   "execution_count": 62,
   "id": "2df25a78-0e04-42b7-bd88-6471805e34f5",
   "metadata": {},
   "outputs": [
    {
     "data": {
      "text/html": [
       "<div>\n",
       "<style scoped>\n",
       "    .dataframe tbody tr th:only-of-type {\n",
       "        vertical-align: middle;\n",
       "    }\n",
       "\n",
       "    .dataframe tbody tr th {\n",
       "        vertical-align: top;\n",
       "    }\n",
       "\n",
       "    .dataframe thead th {\n",
       "        text-align: right;\n",
       "    }\n",
       "</style>\n",
       "<table border=\"1\" class=\"dataframe\">\n",
       "  <thead>\n",
       "    <tr style=\"text-align: right;\">\n",
       "      <th></th>\n",
       "      <th>sample_name</th>\n",
       "      <th>uuid</th>\n",
       "      <th>teos_volume</th>\n",
       "      <th>ammonia_volume</th>\n",
       "      <th>water_volume</th>\n",
       "      <th>ethanol_volume</th>\n",
       "      <th>ctab_volume</th>\n",
       "      <th>f127_volume</th>\n",
       "      <th>well</th>\n",
       "    </tr>\n",
       "  </thead>\n",
       "  <tbody>\n",
       "    <tr>\n",
       "      <th>0</th>\n",
       "      <td>silica_free_blank</td>\n",
       "      <td>1</td>\n",
       "      <td>0</td>\n",
       "      <td>733</td>\n",
       "      <td>1504</td>\n",
       "      <td>2746</td>\n",
       "      <td>2190</td>\n",
       "      <td>2700</td>\n",
       "      <td>A1</td>\n",
       "    </tr>\n",
       "    <tr>\n",
       "      <th>1</th>\n",
       "      <td>control_1</td>\n",
       "      <td>2</td>\n",
       "      <td>131</td>\n",
       "      <td>733</td>\n",
       "      <td>1504</td>\n",
       "      <td>2746</td>\n",
       "      <td>2190</td>\n",
       "      <td>2700</td>\n",
       "      <td>A2</td>\n",
       "    </tr>\n",
       "    <tr>\n",
       "      <th>2</th>\n",
       "      <td>control_2</td>\n",
       "      <td>3</td>\n",
       "      <td>131</td>\n",
       "      <td>733</td>\n",
       "      <td>1504</td>\n",
       "      <td>2746</td>\n",
       "      <td>2190</td>\n",
       "      <td>2700</td>\n",
       "      <td>A3</td>\n",
       "    </tr>\n",
       "    <tr>\n",
       "      <th>3</th>\n",
       "      <td>control_3</td>\n",
       "      <td>4</td>\n",
       "      <td>131</td>\n",
       "      <td>733</td>\n",
       "      <td>1504</td>\n",
       "      <td>2746</td>\n",
       "      <td>2190</td>\n",
       "      <td>2700</td>\n",
       "      <td>A4</td>\n",
       "    </tr>\n",
       "  </tbody>\n",
       "</table>\n",
       "</div>"
      ],
      "text/plain": [
       "         sample_name  uuid  teos_volume  ammonia_volume  water_volume  \\\n",
       "0  silica_free_blank     1            0             733          1504   \n",
       "1          control_1     2          131             733          1504   \n",
       "2          control_2     3          131             733          1504   \n",
       "3          control_3     4          131             733          1504   \n",
       "\n",
       "   ethanol_volume  ctab_volume  f127_volume well  \n",
       "0            2746         2190         2700   A1  \n",
       "1            2746         2190         2700   A2  \n",
       "2            2746         2190         2700   A3  \n",
       "3            2746         2190         2700   A4  "
      ]
     },
     "execution_count": 62,
     "metadata": {},
     "output_type": "execute_result"
    }
   ],
   "source": [
    "sample_table"
   ]
  },
  {
   "cell_type": "code",
   "execution_count": 63,
   "id": "9d770745-931b-42d0-8b40-409a83411619",
   "metadata": {},
   "outputs": [],
   "source": [
    "location_lookup = {row['uuid']:samples_1[row['well']] for i, row in sample_table.iterrows()}"
   ]
  },
  {
   "cell_type": "code",
   "execution_count": 64,
   "id": "30502878-2c56-4f8a-94dc-e7ad55f92927",
   "metadata": {},
   "outputs": [
    {
     "data": {
      "text/plain": [
       "10984"
      ]
     },
     "execution_count": 64,
     "metadata": {},
     "output_type": "execute_result"
    }
   ],
   "source": [
    "sample_table['ethanol_volume'].sum()"
   ]
  },
  {
   "cell_type": "markdown",
   "id": "e2ddb62c-d3f3-4c45-917a-e575189606c9",
   "metadata": {},
   "source": [
    "## add ethanol"
   ]
  },
  {
   "cell_type": "code",
   "execution_count": 99,
   "id": "883be04a-ca08-4aca-a9cb-ec789975c004",
   "metadata": {},
   "outputs": [],
   "source": [
    "ind = 3\n",
    "\n",
    "well = location_lookup[ind+1]\n",
    "etoh_vol = sample_table.iloc[ind-1]['ethanol_volume']\n",
    "f127_volume = sample_table.iloc[ind-1]['f127_volume']\n",
    "ctab_volume = sample_table.iloc[ind-1]['ctab_volume']\n",
    "teos_volume = sample_table.iloc[ind-1]['teos_volume']\n",
    "ammonia_volume = sample_table.iloc[ind-1]['ammonia_volume']\n",
    "water_volume = sample_table.iloc[ind-1]['water_volume']\n",
    "sample_table_select = sample_table.iloc[ind:ind+1]\n",
    "location_lookup_selected = {ind+1:well}\n",
    "\n",
    "sample_uid = sample_table.iloc[ind-1]['uuid']\n",
    "sample_name = f'Control_{ind}'\n",
    "\n",
    "#composition = json.dumps({'teos_vol':teos_volume, 'ammonia_vol':ammonia_volume, 'water_volume':water_volume, 'ethanol_volume':etoh_vol, 'ctab_volume':ctab_volume, 'f127_volume':f127_volume})\n",
    "\n",
    "reaction_time = 60*5"
   ]
  },
  {
   "cell_type": "code",
   "execution_count": 100,
   "id": "8acbb0d3-d56f-47ff-acef-b5c011d1d46a",
   "metadata": {},
   "outputs": [
    {
     "data": {
      "text/html": [
       "<div>\n",
       "<style scoped>\n",
       "    .dataframe tbody tr th:only-of-type {\n",
       "        vertical-align: middle;\n",
       "    }\n",
       "\n",
       "    .dataframe tbody tr th {\n",
       "        vertical-align: top;\n",
       "    }\n",
       "\n",
       "    .dataframe thead th {\n",
       "        text-align: right;\n",
       "    }\n",
       "</style>\n",
       "<table border=\"1\" class=\"dataframe\">\n",
       "  <thead>\n",
       "    <tr style=\"text-align: right;\">\n",
       "      <th></th>\n",
       "      <th>sample_name</th>\n",
       "      <th>uuid</th>\n",
       "      <th>teos_volume</th>\n",
       "      <th>ammonia_volume</th>\n",
       "      <th>water_volume</th>\n",
       "      <th>ethanol_volume</th>\n",
       "      <th>ctab_volume</th>\n",
       "      <th>f127_volume</th>\n",
       "      <th>well</th>\n",
       "    </tr>\n",
       "  </thead>\n",
       "  <tbody>\n",
       "    <tr>\n",
       "      <th>3</th>\n",
       "      <td>control_3</td>\n",
       "      <td>4</td>\n",
       "      <td>131</td>\n",
       "      <td>733</td>\n",
       "      <td>1504</td>\n",
       "      <td>2746</td>\n",
       "      <td>2190</td>\n",
       "      <td>2700</td>\n",
       "      <td>A4</td>\n",
       "    </tr>\n",
       "  </tbody>\n",
       "</table>\n",
       "</div>"
      ],
      "text/plain": [
       "  sample_name  uuid  teos_volume  ammonia_volume  water_volume  \\\n",
       "3   control_3     4          131             733          1504   \n",
       "\n",
       "   ethanol_volume  ctab_volume  f127_volume well  \n",
       "3            2746         2190         2700   A4  "
      ]
     },
     "execution_count": 100,
     "metadata": {},
     "output_type": "execute_result"
    }
   ],
   "source": [
    "sample_table_select"
   ]
  },
  {
   "cell_type": "code",
   "execution_count": 101,
   "id": "e78d5e00-2c11-4285-940f-38b5e846d8cb",
   "metadata": {},
   "outputs": [
    {
     "data": {
      "text/plain": [
       "{4: Well A4 form 20mLscintillation 12 Well Plate 18000 µL on slot 2}"
      ]
     },
     "execution_count": 101,
     "metadata": {},
     "output_type": "execute_result"
    }
   ],
   "source": [
    "location_lookup_selected"
   ]
  },
  {
   "cell_type": "code",
   "execution_count": 102,
   "id": "16be8b44-ac94-452c-8d1f-d33d074230ed",
   "metadata": {},
   "outputs": [
    {
     "data": {
      "text/plain": [
       "Well A4 form 20mLscintillation 12 Well Plate 18000 µL on slot 2"
      ]
     },
     "execution_count": 102,
     "metadata": {},
     "output_type": "execute_result"
    }
   ],
   "source": [
    "well"
   ]
  },
  {
   "cell_type": "code",
   "execution_count": 103,
   "id": "ea82734f-d8c0-4a7c-a120-ccea7c05e382",
   "metadata": {},
   "outputs": [
    {
     "data": {
      "text/plain": [
       "{'B4': 3008.0, 'C1': 13754.0, 'C2': 17000, 'C3': 17000, 'C4': 17000}"
      ]
     },
     "execution_count": 103,
     "metadata": {},
     "output_type": "execute_result"
    }
   ],
   "source": [
    "ethanol_stocks.get_current_volumes()"
   ]
  },
  {
   "cell_type": "code",
   "execution_count": 111,
   "id": "dc03274f-e21a-4e0f-a08f-1d24375d89e8",
   "metadata": {
    "scrolled": true
   },
   "outputs": [
    {
     "name": "stdout",
     "output_type": "stream",
     "text": [
      "status r code 200\n",
      "status:  b'[\"State: LOADED\",\"Arm State: DOWN\",\"Rinse 1 tank: 950 mL\",\"Rinse 2 tank: 950 mL\",\"Waste tank: 0 mL\",\"Relay status: {\\'arm-up\\': False, \\'arm-down\\': True, \\'rinse1\\': False, \\'rinse2\\': False, \\'blow\\': False, \\'piston-vent\\': False, \\'postsample\\': False}\",\"Not Rinsing\",\"[250318-13:41:25] Load stopped at voltage mean = 4.11986141204834 and stdev = 1.093001251841383\"]\\n'\n",
      "status r code 200\n",
      "status:  b'[\"State: LOADED\",\"Arm State: DOWN\",\"Rinse 1 tank: 950 mL\",\"Rinse 2 tank: 950 mL\",\"Waste tank: 0 mL\",\"Relay status: {\\'arm-up\\': False, \\'arm-down\\': True, \\'rinse1\\': False, \\'rinse2\\': False, \\'blow\\': False, \\'piston-vent\\': False, \\'postsample\\': False}\",\"Not Rinsing\",\"[250318-13:41:25] Load stopped at voltage mean = 4.11986141204834 and stdev = 1.093001251841383\"]\\n'\n",
      "status r code 200\n",
      "status:  b'[\"State: RINSING\",\"Arm State: DOWN\",\"Rinse 1 tank: 950 mL\",\"Rinse 2 tank: 950 mL\",\"Waste tank: 0 mL\",\"Relay status: {\\'arm-up\\': False, \\'arm-down\\': True, \\'rinse1\\': True, \\'rinse2\\': False, \\'blow\\': False, \\'piston-vent\\': False, \\'postsample\\': True}\",\"Rinse Program Step 0/6: rinse1 for 30s\",\"[250318-13:41:25] Load stopped at voltage mean = 4.11986141204834 and stdev = 1.093001251841383\"]\\n'\n",
      "status r code 200\n",
      "status:  b'[\"State: RINSING\",\"Arm State: DOWN\",\"Rinse 1 tank: 950 mL\",\"Rinse 2 tank: 950 mL\",\"Waste tank: 0 mL\",\"Relay status: {\\'arm-up\\': False, \\'arm-down\\': True, \\'rinse1\\': True, \\'rinse2\\': False, \\'blow\\': False, \\'piston-vent\\': False, \\'postsample\\': True}\",\"Rinse Program Step 0/6: rinse1 for 30s\",\"[250318-13:41:25] Load stopped at voltage mean = 4.11986141204834 and stdev = 1.093001251841383\"]\\n'\n",
      "status r code 200\n",
      "status:  b'[\"State: RINSING\",\"Arm State: DOWN\",\"Rinse 1 tank: 950 mL\",\"Rinse 2 tank: 950 mL\",\"Waste tank: 0 mL\",\"Relay status: {\\'arm-up\\': False, \\'arm-down\\': True, \\'rinse1\\': True, \\'rinse2\\': False, \\'blow\\': False, \\'piston-vent\\': False, \\'postsample\\': True}\",\"Rinse Program Step 0/6: rinse1 for 30s\",\"[250318-13:41:25] Load stopped at voltage mean = 4.11986141204834 and stdev = 1.093001251841383\"]\\n'\n",
      "status r code 200\n",
      "status:  b'[\"State: RINSING\",\"Arm State: DOWN\",\"Rinse 1 tank: 950 mL\",\"Rinse 2 tank: 950 mL\",\"Waste tank: 0 mL\",\"Relay status: {\\'arm-up\\': False, \\'arm-down\\': True, \\'rinse1\\': True, \\'rinse2\\': False, \\'blow\\': False, \\'piston-vent\\': False, \\'postsample\\': True}\",\"Rinse Program Step 0/6: rinse1 for 30s\",\"[250318-13:41:25] Load stopped at voltage mean = 4.11986141204834 and stdev = 1.093001251841383\"]\\n'\n",
      "status r code 200\n",
      "status:  b'[\"State: RINSING\",\"Arm State: DOWN\",\"Rinse 1 tank: 950 mL\",\"Rinse 2 tank: 950 mL\",\"Waste tank: 0 mL\",\"Relay status: {\\'arm-up\\': False, \\'arm-down\\': True, \\'rinse1\\': True, \\'rinse2\\': False, \\'blow\\': False, \\'piston-vent\\': False, \\'postsample\\': True}\",\"Rinse Program Step 0/6: rinse1 for 30s\",\"[250318-13:41:25] Load stopped at voltage mean = 4.11986141204834 and stdev = 1.093001251841383\"]\\n'\n",
      "status r code 200\n",
      "status:  b'[\"State: RINSING\",\"Arm State: DOWN\",\"Rinse 1 tank: 950 mL\",\"Rinse 2 tank: 950 mL\",\"Waste tank: 0 mL\",\"Relay status: {\\'arm-up\\': False, \\'arm-down\\': True, \\'rinse1\\': True, \\'rinse2\\': False, \\'blow\\': False, \\'piston-vent\\': False, \\'postsample\\': True}\",\"Rinse Program Step 0/6: rinse1 for 30s\",\"[250318-13:41:25] Load stopped at voltage mean = 4.11986141204834 and stdev = 1.093001251841383\"]\\n'\n",
      "status r code 200\n",
      "status:  b'[\"State: RINSING\",\"Arm State: DOWN\",\"Rinse 1 tank: 950 mL\",\"Rinse 2 tank: 950 mL\",\"Waste tank: 0 mL\",\"Relay status: {\\'arm-up\\': False, \\'arm-down\\': True, \\'rinse1\\': True, \\'rinse2\\': False, \\'blow\\': False, \\'piston-vent\\': False, \\'postsample\\': True}\",\"Rinse Program Step 0/6: rinse1 for 30s\",\"[250318-13:41:25] Load stopped at voltage mean = 4.11986141204834 and stdev = 1.093001251841383\"]\\n'\n",
      "status r code 200\n",
      "status:  b'[\"State: RINSING\",\"Arm State: DOWN\",\"Rinse 1 tank: 950 mL\",\"Rinse 2 tank: 950 mL\",\"Waste tank: 0 mL\",\"Relay status: {\\'arm-up\\': False, \\'arm-down\\': True, \\'rinse1\\': True, \\'rinse2\\': False, \\'blow\\': False, \\'piston-vent\\': False, \\'postsample\\': True}\",\"Rinse Program Step 0/6: rinse1 for 30s\",\"[250318-13:41:25] Load stopped at voltage mean = 4.11986141204834 and stdev = 1.093001251841383\"]\\n'\n",
      "status r code 200\n",
      "status:  b'[\"State: RINSING\",\"Arm State: DOWN\",\"Rinse 1 tank: 950 mL\",\"Rinse 2 tank: 950 mL\",\"Waste tank: 0 mL\",\"Relay status: {\\'arm-up\\': False, \\'arm-down\\': True, \\'rinse1\\': True, \\'rinse2\\': False, \\'blow\\': False, \\'piston-vent\\': False, \\'postsample\\': True}\",\"Rinse Program Step 0/6: rinse1 for 30s\",\"[250318-13:41:25] Load stopped at voltage mean = 4.11986141204834 and stdev = 1.093001251841383\"]\\n'\n",
      "status r code 200\n",
      "status:  b'[\"State: RINSING\",\"Arm State: DOWN\",\"Rinse 1 tank: 950 mL\",\"Rinse 2 tank: 950 mL\",\"Waste tank: 0 mL\",\"Relay status: {\\'arm-up\\': False, \\'arm-down\\': True, \\'rinse1\\': True, \\'rinse2\\': False, \\'blow\\': False, \\'piston-vent\\': False, \\'postsample\\': True}\",\"Rinse Program Step 0/6: rinse1 for 30s\",\"[250318-13:41:25] Load stopped at voltage mean = 4.11986141204834 and stdev = 1.093001251841383\"]\\n'\n",
      "status r code 200\n",
      "status:  b'[\"State: RINSING\",\"Arm State: DOWN\",\"Rinse 1 tank: 950 mL\",\"Rinse 2 tank: 950 mL\",\"Waste tank: 0 mL\",\"Relay status: {\\'arm-up\\': False, \\'arm-down\\': True, \\'rinse1\\': True, \\'rinse2\\': False, \\'blow\\': False, \\'piston-vent\\': False, \\'postsample\\': True}\",\"Rinse Program Step 0/6: rinse1 for 30s\",\"[250318-13:41:25] Load stopped at voltage mean = 4.11986141204834 and stdev = 1.093001251841383\"]\\n'\n",
      "status r code 200\n",
      "status:  b'[\"State: RINSING\",\"Arm State: DOWN\",\"Rinse 1 tank: 950 mL\",\"Rinse 2 tank: 950 mL\",\"Waste tank: 0 mL\",\"Relay status: {\\'arm-up\\': False, \\'arm-down\\': True, \\'rinse1\\': True, \\'rinse2\\': False, \\'blow\\': False, \\'piston-vent\\': False, \\'postsample\\': True}\",\"Rinse Program Step 0/6: rinse1 for 30s\",\"[250318-13:41:25] Load stopped at voltage mean = 4.11986141204834 and stdev = 1.093001251841383\"]\\n'\n",
      "status r code 200\n",
      "status:  b'[\"State: RINSING\",\"Arm State: DOWN\",\"Rinse 1 tank: 950 mL\",\"Rinse 2 tank: 950 mL\",\"Waste tank: 0 mL\",\"Relay status: {\\'arm-up\\': False, \\'arm-down\\': True, \\'rinse1\\': True, \\'rinse2\\': False, \\'blow\\': False, \\'piston-vent\\': False, \\'postsample\\': True}\",\"Rinse Program Step 0/6: rinse1 for 30s\",\"[250318-13:41:25] Load stopped at voltage mean = 4.11986141204834 and stdev = 1.093001251841383\"]\\n'\n",
      "status r code 200\n",
      "status:  b'[\"State: RINSING\",\"Arm State: DOWN\",\"Rinse 1 tank: 950 mL\",\"Rinse 2 tank: 950 mL\",\"Waste tank: 0 mL\",\"Relay status: {\\'arm-up\\': False, \\'arm-down\\': True, \\'rinse1\\': True, \\'rinse2\\': False, \\'blow\\': False, \\'piston-vent\\': False, \\'postsample\\': True}\",\"Rinse Program Step 0/6: rinse1 for 30s\",\"[250318-13:41:25] Load stopped at voltage mean = 4.11986141204834 and stdev = 1.093001251841383\"]\\n'\n",
      "status r code 200\n",
      "status:  b'[\"State: RINSING\",\"Arm State: DOWN\",\"Rinse 1 tank: 950 mL\",\"Rinse 2 tank: 950 mL\",\"Waste tank: 0 mL\",\"Relay status: {\\'arm-up\\': False, \\'arm-down\\': True, \\'rinse1\\': True, \\'rinse2\\': False, \\'blow\\': False, \\'piston-vent\\': False, \\'postsample\\': True}\",\"Rinse Program Step 0/6: rinse1 for 30s\",\"[250318-13:41:25] Load stopped at voltage mean = 4.11986141204834 and stdev = 1.093001251841383\"]\\n'\n",
      "status r code 200\n",
      "status:  b'[\"State: RINSING\",\"Arm State: DOWN\",\"Rinse 1 tank: 950 mL\",\"Rinse 2 tank: 950 mL\",\"Waste tank: 0 mL\",\"Relay status: {\\'arm-up\\': False, \\'arm-down\\': True, \\'rinse1\\': True, \\'rinse2\\': False, \\'blow\\': False, \\'piston-vent\\': False, \\'postsample\\': True}\",\"Rinse Program Step 0/6: rinse1 for 30s\",\"[250318-13:41:25] Load stopped at voltage mean = 4.11986141204834 and stdev = 1.093001251841383\"]\\n'\n",
      "status r code 200\n",
      "status:  b'[\"State: RINSING\",\"Arm State: DOWN\",\"Rinse 1 tank: 950 mL\",\"Rinse 2 tank: 950 mL\",\"Waste tank: 0 mL\",\"Relay status: {\\'arm-up\\': False, \\'arm-down\\': True, \\'rinse1\\': True, \\'rinse2\\': False, \\'blow\\': False, \\'piston-vent\\': False, \\'postsample\\': True}\",\"Rinse Program Step 0/6: rinse1 for 30s\",\"[250318-13:41:25] Load stopped at voltage mean = 4.11986141204834 and stdev = 1.093001251841383\"]\\n'\n",
      "status r code 200\n",
      "status:  b'[\"State: RINSING\",\"Arm State: DOWN\",\"Rinse 1 tank: 950 mL\",\"Rinse 2 tank: 950 mL\",\"Waste tank: 0 mL\",\"Relay status: {\\'arm-up\\': False, \\'arm-down\\': True, \\'rinse1\\': True, \\'rinse2\\': False, \\'blow\\': False, \\'piston-vent\\': False, \\'postsample\\': True}\",\"Rinse Program Step 0/6: rinse1 for 30s\",\"[250318-13:41:25] Load stopped at voltage mean = 4.11986141204834 and stdev = 1.093001251841383\"]\\n'\n",
      "status r code 200\n",
      "status:  b'[\"State: RINSING\",\"Arm State: DOWN\",\"Rinse 1 tank: 950 mL\",\"Rinse 2 tank: 950 mL\",\"Waste tank: 0 mL\",\"Relay status: {\\'arm-up\\': False, \\'arm-down\\': True, \\'rinse1\\': True, \\'rinse2\\': False, \\'blow\\': False, \\'piston-vent\\': False, \\'postsample\\': True}\",\"Rinse Program Step 0/6: rinse1 for 30s\",\"[250318-13:41:25] Load stopped at voltage mean = 4.11986141204834 and stdev = 1.093001251841383\"]\\n'\n",
      "status r code 200\n",
      "status:  b'[\"State: RINSING\",\"Arm State: DOWN\",\"Rinse 1 tank: 950 mL\",\"Rinse 2 tank: 950 mL\",\"Waste tank: 0 mL\",\"Relay status: {\\'arm-up\\': False, \\'arm-down\\': True, \\'rinse1\\': True, \\'rinse2\\': False, \\'blow\\': False, \\'piston-vent\\': False, \\'postsample\\': True}\",\"Rinse Program Step 0/6: rinse1 for 30s\",\"[250318-13:41:25] Load stopped at voltage mean = 4.11986141204834 and stdev = 1.093001251841383\"]\\n'\n",
      "status r code 200\n",
      "status:  b'[\"State: RINSING\",\"Arm State: DOWN\",\"Rinse 1 tank: 950 mL\",\"Rinse 2 tank: 950 mL\",\"Waste tank: 0 mL\",\"Relay status: {\\'arm-up\\': False, \\'arm-down\\': True, \\'rinse1\\': True, \\'rinse2\\': False, \\'blow\\': False, \\'piston-vent\\': False, \\'postsample\\': True}\",\"Rinse Program Step 0/6: rinse1 for 30s\",\"[250318-13:41:25] Load stopped at voltage mean = 4.11986141204834 and stdev = 1.093001251841383\"]\\n'\n",
      "status r code 200\n",
      "status:  b'[\"State: RINSING\",\"Arm State: DOWN\",\"Rinse 1 tank: 950 mL\",\"Rinse 2 tank: 950 mL\",\"Waste tank: 0 mL\",\"Relay status: {\\'arm-up\\': False, \\'arm-down\\': True, \\'rinse1\\': True, \\'rinse2\\': False, \\'blow\\': False, \\'piston-vent\\': False, \\'postsample\\': True}\",\"Rinse Program Step 0/6: rinse1 for 30s\",\"[250318-13:41:25] Load stopped at voltage mean = 4.11986141204834 and stdev = 1.093001251841383\"]\\n'\n",
      "status r code 200\n",
      "status:  b'[\"State: RINSING\",\"Arm State: DOWN\",\"Rinse 1 tank: 950 mL\",\"Rinse 2 tank: 950 mL\",\"Waste tank: 0 mL\",\"Relay status: {\\'arm-up\\': False, \\'arm-down\\': True, \\'rinse1\\': True, \\'rinse2\\': False, \\'blow\\': False, \\'piston-vent\\': False, \\'postsample\\': True}\",\"Rinse Program Step 0/6: rinse1 for 30s\",\"[250318-13:41:25] Load stopped at voltage mean = 4.11986141204834 and stdev = 1.093001251841383\"]\\n'\n",
      "status r code 200\n",
      "status:  b'[\"State: RINSING\",\"Arm State: DOWN\",\"Rinse 1 tank: 950 mL\",\"Rinse 2 tank: 950 mL\",\"Waste tank: 0 mL\",\"Relay status: {\\'arm-up\\': False, \\'arm-down\\': True, \\'rinse1\\': True, \\'rinse2\\': False, \\'blow\\': False, \\'piston-vent\\': False, \\'postsample\\': True}\",\"Rinse Program Step 0/6: rinse1 for 30s\",\"[250318-13:41:25] Load stopped at voltage mean = 4.11986141204834 and stdev = 1.093001251841383\"]\\n'\n",
      "status r code 200\n",
      "status:  b'[\"State: RINSING\",\"Arm State: DOWN\",\"Rinse 1 tank: 950 mL\",\"Rinse 2 tank: 950 mL\",\"Waste tank: 0 mL\",\"Relay status: {\\'arm-up\\': False, \\'arm-down\\': True, \\'rinse1\\': True, \\'rinse2\\': False, \\'blow\\': False, \\'piston-vent\\': False, \\'postsample\\': True}\",\"Rinse Program Step 0/6: rinse1 for 30s\",\"[250318-13:41:25] Load stopped at voltage mean = 4.11986141204834 and stdev = 1.093001251841383\"]\\n'\n",
      "status r code 200\n",
      "status:  b'[\"State: RINSING\",\"Arm State: DOWN\",\"Rinse 1 tank: 950 mL\",\"Rinse 2 tank: 950 mL\",\"Waste tank: 0 mL\",\"Relay status: {\\'arm-up\\': False, \\'arm-down\\': True, \\'rinse1\\': True, \\'rinse2\\': False, \\'blow\\': False, \\'piston-vent\\': False, \\'postsample\\': True}\",\"Rinse Program Step 0/6: rinse1 for 30s\",\"[250318-13:41:25] Load stopped at voltage mean = 4.11986141204834 and stdev = 1.093001251841383\"]\\n'\n",
      "status r code 200\n",
      "status:  b'[\"State: RINSING\",\"Arm State: DOWN\",\"Rinse 1 tank: 950 mL\",\"Rinse 2 tank: 950 mL\",\"Waste tank: 0 mL\",\"Relay status: {\\'arm-up\\': False, \\'arm-down\\': True, \\'rinse1\\': True, \\'rinse2\\': False, \\'blow\\': False, \\'piston-vent\\': False, \\'postsample\\': True}\",\"Rinse Program Step 0/6: rinse1 for 30s\",\"[250318-13:41:25] Load stopped at voltage mean = 4.11986141204834 and stdev = 1.093001251841383\"]\\n'\n",
      "status r code 200\n",
      "status:  b'[\"State: RINSING\",\"Arm State: DOWN\",\"Rinse 1 tank: 950 mL\",\"Rinse 2 tank: 950 mL\",\"Waste tank: 0 mL\",\"Relay status: {\\'arm-up\\': False, \\'arm-down\\': True, \\'rinse1\\': True, \\'rinse2\\': False, \\'blow\\': False, \\'piston-vent\\': False, \\'postsample\\': True}\",\"Rinse Program Step 0/6: rinse1 for 30s\",\"[250318-13:41:25] Load stopped at voltage mean = 4.11986141204834 and stdev = 1.093001251841383\"]\\n'\n",
      "status r code 200\n",
      "status:  b'[\"State: RINSING\",\"Arm State: DOWN\",\"Rinse 1 tank: 950 mL\",\"Rinse 2 tank: 950 mL\",\"Waste tank: 0 mL\",\"Relay status: {\\'arm-up\\': False, \\'arm-down\\': True, \\'rinse1\\': True, \\'rinse2\\': False, \\'blow\\': False, \\'piston-vent\\': False, \\'postsample\\': True}\",\"Rinse Program Step 0/6: rinse1 for 30s\",\"[250318-13:41:25] Load stopped at voltage mean = 4.11986141204834 and stdev = 1.093001251841383\"]\\n'\n",
      "status r code 200\n",
      "status:  b'[\"State: RINSING\",\"Arm State: DOWN\",\"Rinse 1 tank: 950 mL\",\"Rinse 2 tank: 950 mL\",\"Waste tank: 0 mL\",\"Relay status: {\\'arm-up\\': False, \\'arm-down\\': True, \\'rinse1\\': True, \\'rinse2\\': False, \\'blow\\': False, \\'piston-vent\\': False, \\'postsample\\': True}\",\"Rinse Program Step 0/6: rinse1 for 30s\",\"[250318-13:41:25] Load stopped at voltage mean = 4.11986141204834 and stdev = 1.093001251841383\"]\\n'\n",
      "status r code 200\n",
      "status:  b'[\"State: RINSING\",\"Arm State: DOWN\",\"Rinse 1 tank: 950 mL\",\"Rinse 2 tank: 950 mL\",\"Waste tank: 0 mL\",\"Relay status: {\\'arm-up\\': False, \\'arm-down\\': True, \\'rinse1\\': False, \\'rinse2\\': False, \\'blow\\': False, \\'piston-vent\\': False, \\'postsample\\': True}\",\"Rinse Program Step 1/6: None for 2s\",\"[250318-13:41:25] Load stopped at voltage mean = 4.11986141204834 and stdev = 1.093001251841383\"]\\n'\n",
      "status r code 200\n",
      "status:  b'[\"State: RINSING\",\"Arm State: DOWN\",\"Rinse 1 tank: 950 mL\",\"Rinse 2 tank: 950 mL\",\"Waste tank: 0 mL\",\"Relay status: {\\'arm-up\\': False, \\'arm-down\\': True, \\'rinse1\\': False, \\'rinse2\\': False, \\'blow\\': False, \\'piston-vent\\': False, \\'postsample\\': True}\",\"Rinse Program Step 1/6: None for 2s\",\"[250318-13:41:25] Load stopped at voltage mean = 4.11986141204834 and stdev = 1.093001251841383\"]\\n'\n",
      "status r code 200\n",
      "status:  b'[\"State: RINSING\",\"Arm State: DOWN\",\"Rinse 1 tank: 950 mL\",\"Rinse 2 tank: 950 mL\",\"Waste tank: 0 mL\",\"Relay status: {\\'arm-up\\': False, \\'arm-down\\': True, \\'rinse1\\': False, \\'rinse2\\': True, \\'blow\\': False, \\'piston-vent\\': False, \\'postsample\\': True}\",\"Rinse Program Step 2/6: rinse2 for 30s\",\"[250318-13:41:25] Load stopped at voltage mean = 4.11986141204834 and stdev = 1.093001251841383\"]\\n'\n",
      "status r code 200\n",
      "status:  b'[\"State: RINSING\",\"Arm State: DOWN\",\"Rinse 1 tank: 950 mL\",\"Rinse 2 tank: 950 mL\",\"Waste tank: 0 mL\",\"Relay status: {\\'arm-up\\': False, \\'arm-down\\': True, \\'rinse1\\': False, \\'rinse2\\': True, \\'blow\\': False, \\'piston-vent\\': False, \\'postsample\\': True}\",\"Rinse Program Step 2/6: rinse2 for 30s\",\"[250318-13:41:25] Load stopped at voltage mean = 4.11986141204834 and stdev = 1.093001251841383\"]\\n'\n",
      "status r code 200\n",
      "status:  b'[\"State: RINSING\",\"Arm State: DOWN\",\"Rinse 1 tank: 950 mL\",\"Rinse 2 tank: 950 mL\",\"Waste tank: 0 mL\",\"Relay status: {\\'arm-up\\': False, \\'arm-down\\': True, \\'rinse1\\': False, \\'rinse2\\': True, \\'blow\\': False, \\'piston-vent\\': False, \\'postsample\\': True}\",\"Rinse Program Step 2/6: rinse2 for 30s\",\"[250318-13:41:25] Load stopped at voltage mean = 4.11986141204834 and stdev = 1.093001251841383\"]\\n'\n",
      "status r code 200\n",
      "status:  b'[\"State: RINSING\",\"Arm State: DOWN\",\"Rinse 1 tank: 950 mL\",\"Rinse 2 tank: 950 mL\",\"Waste tank: 0 mL\",\"Relay status: {\\'arm-up\\': False, \\'arm-down\\': True, \\'rinse1\\': False, \\'rinse2\\': True, \\'blow\\': False, \\'piston-vent\\': False, \\'postsample\\': True}\",\"Rinse Program Step 2/6: rinse2 for 30s\",\"[250318-13:41:25] Load stopped at voltage mean = 4.11986141204834 and stdev = 1.093001251841383\"]\\n'\n",
      "status r code 200\n",
      "status:  b'[\"State: RINSING\",\"Arm State: DOWN\",\"Rinse 1 tank: 950 mL\",\"Rinse 2 tank: 950 mL\",\"Waste tank: 0 mL\",\"Relay status: {\\'arm-up\\': False, \\'arm-down\\': True, \\'rinse1\\': False, \\'rinse2\\': True, \\'blow\\': False, \\'piston-vent\\': False, \\'postsample\\': True}\",\"Rinse Program Step 2/6: rinse2 for 30s\",\"[250318-13:41:25] Load stopped at voltage mean = 4.11986141204834 and stdev = 1.093001251841383\"]\\n'\n",
      "status r code 200\n",
      "status:  b'[\"State: RINSING\",\"Arm State: DOWN\",\"Rinse 1 tank: 950 mL\",\"Rinse 2 tank: 950 mL\",\"Waste tank: 0 mL\",\"Relay status: {\\'arm-up\\': False, \\'arm-down\\': True, \\'rinse1\\': False, \\'rinse2\\': True, \\'blow\\': False, \\'piston-vent\\': False, \\'postsample\\': True}\",\"Rinse Program Step 2/6: rinse2 for 30s\",\"[250318-13:41:25] Load stopped at voltage mean = 4.11986141204834 and stdev = 1.093001251841383\"]\\n'\n",
      "status r code 200\n",
      "status:  b'[\"State: RINSING\",\"Arm State: DOWN\",\"Rinse 1 tank: 950 mL\",\"Rinse 2 tank: 950 mL\",\"Waste tank: 0 mL\",\"Relay status: {\\'arm-up\\': False, \\'arm-down\\': True, \\'rinse1\\': False, \\'rinse2\\': True, \\'blow\\': False, \\'piston-vent\\': False, \\'postsample\\': True}\",\"Rinse Program Step 2/6: rinse2 for 30s\",\"[250318-13:41:25] Load stopped at voltage mean = 4.11986141204834 and stdev = 1.093001251841383\"]\\n'\n",
      "status r code 200\n",
      "status:  b'[\"State: RINSING\",\"Arm State: DOWN\",\"Rinse 1 tank: 950 mL\",\"Rinse 2 tank: 950 mL\",\"Waste tank: 0 mL\",\"Relay status: {\\'arm-up\\': False, \\'arm-down\\': True, \\'rinse1\\': False, \\'rinse2\\': True, \\'blow\\': False, \\'piston-vent\\': False, \\'postsample\\': True}\",\"Rinse Program Step 2/6: rinse2 for 30s\",\"[250318-13:41:25] Load stopped at voltage mean = 4.11986141204834 and stdev = 1.093001251841383\"]\\n'\n",
      "status r code 200\n",
      "status:  b'[\"State: RINSING\",\"Arm State: DOWN\",\"Rinse 1 tank: 950 mL\",\"Rinse 2 tank: 950 mL\",\"Waste tank: 0 mL\",\"Relay status: {\\'arm-up\\': False, \\'arm-down\\': True, \\'rinse1\\': False, \\'rinse2\\': True, \\'blow\\': False, \\'piston-vent\\': False, \\'postsample\\': True}\",\"Rinse Program Step 2/6: rinse2 for 30s\",\"[250318-13:41:25] Load stopped at voltage mean = 4.11986141204834 and stdev = 1.093001251841383\"]\\n'\n",
      "status r code 200\n",
      "status:  b'[\"State: RINSING\",\"Arm State: DOWN\",\"Rinse 1 tank: 950 mL\",\"Rinse 2 tank: 950 mL\",\"Waste tank: 0 mL\",\"Relay status: {\\'arm-up\\': False, \\'arm-down\\': True, \\'rinse1\\': False, \\'rinse2\\': True, \\'blow\\': False, \\'piston-vent\\': False, \\'postsample\\': True}\",\"Rinse Program Step 2/6: rinse2 for 30s\",\"[250318-13:41:25] Load stopped at voltage mean = 4.11986141204834 and stdev = 1.093001251841383\"]\\n'\n",
      "status r code 200\n",
      "status:  b'[\"State: RINSING\",\"Arm State: DOWN\",\"Rinse 1 tank: 950 mL\",\"Rinse 2 tank: 950 mL\",\"Waste tank: 0 mL\",\"Relay status: {\\'arm-up\\': False, \\'arm-down\\': True, \\'rinse1\\': False, \\'rinse2\\': True, \\'blow\\': False, \\'piston-vent\\': False, \\'postsample\\': True}\",\"Rinse Program Step 2/6: rinse2 for 30s\",\"[250318-13:41:25] Load stopped at voltage mean = 4.11986141204834 and stdev = 1.093001251841383\"]\\n'\n",
      "status r code 200\n",
      "status:  b'[\"State: RINSING\",\"Arm State: DOWN\",\"Rinse 1 tank: 950 mL\",\"Rinse 2 tank: 950 mL\",\"Waste tank: 0 mL\",\"Relay status: {\\'arm-up\\': False, \\'arm-down\\': True, \\'rinse1\\': False, \\'rinse2\\': True, \\'blow\\': False, \\'piston-vent\\': False, \\'postsample\\': True}\",\"Rinse Program Step 2/6: rinse2 for 30s\",\"[250318-13:41:25] Load stopped at voltage mean = 4.11986141204834 and stdev = 1.093001251841383\"]\\n'\n",
      "status r code 200\n",
      "status:  b'[\"State: RINSING\",\"Arm State: DOWN\",\"Rinse 1 tank: 950 mL\",\"Rinse 2 tank: 950 mL\",\"Waste tank: 0 mL\",\"Relay status: {\\'arm-up\\': False, \\'arm-down\\': True, \\'rinse1\\': False, \\'rinse2\\': True, \\'blow\\': False, \\'piston-vent\\': False, \\'postsample\\': True}\",\"Rinse Program Step 2/6: rinse2 for 30s\",\"[250318-13:41:25] Load stopped at voltage mean = 4.11986141204834 and stdev = 1.093001251841383\"]\\n'\n",
      "status r code 200\n",
      "status:  b'[\"State: RINSING\",\"Arm State: DOWN\",\"Rinse 1 tank: 950 mL\",\"Rinse 2 tank: 950 mL\",\"Waste tank: 0 mL\",\"Relay status: {\\'arm-up\\': False, \\'arm-down\\': True, \\'rinse1\\': False, \\'rinse2\\': True, \\'blow\\': False, \\'piston-vent\\': False, \\'postsample\\': True}\",\"Rinse Program Step 2/6: rinse2 for 30s\",\"[250318-13:41:25] Load stopped at voltage mean = 4.11986141204834 and stdev = 1.093001251841383\"]\\n'\n",
      "status r code 200\n",
      "status:  b'[\"State: RINSING\",\"Arm State: DOWN\",\"Rinse 1 tank: 950 mL\",\"Rinse 2 tank: 950 mL\",\"Waste tank: 0 mL\",\"Relay status: {\\'arm-up\\': False, \\'arm-down\\': True, \\'rinse1\\': False, \\'rinse2\\': True, \\'blow\\': False, \\'piston-vent\\': False, \\'postsample\\': True}\",\"Rinse Program Step 2/6: rinse2 for 30s\",\"[250318-13:41:25] Load stopped at voltage mean = 4.11986141204834 and stdev = 1.093001251841383\"]\\n'\n",
      "status r code 200\n",
      "status:  b'[\"State: RINSING\",\"Arm State: DOWN\",\"Rinse 1 tank: 950 mL\",\"Rinse 2 tank: 950 mL\",\"Waste tank: 0 mL\",\"Relay status: {\\'arm-up\\': False, \\'arm-down\\': True, \\'rinse1\\': False, \\'rinse2\\': True, \\'blow\\': False, \\'piston-vent\\': False, \\'postsample\\': True}\",\"Rinse Program Step 2/6: rinse2 for 30s\",\"[250318-13:41:25] Load stopped at voltage mean = 4.11986141204834 and stdev = 1.093001251841383\"]\\n'\n",
      "status r code 200\n",
      "status:  b'[\"State: RINSING\",\"Arm State: DOWN\",\"Rinse 1 tank: 950 mL\",\"Rinse 2 tank: 950 mL\",\"Waste tank: 0 mL\",\"Relay status: {\\'arm-up\\': False, \\'arm-down\\': True, \\'rinse1\\': False, \\'rinse2\\': True, \\'blow\\': False, \\'piston-vent\\': False, \\'postsample\\': True}\",\"Rinse Program Step 2/6: rinse2 for 30s\",\"[250318-13:41:25] Load stopped at voltage mean = 4.11986141204834 and stdev = 1.093001251841383\"]\\n'\n",
      "status r code 200\n",
      "status:  b'[\"State: RINSING\",\"Arm State: DOWN\",\"Rinse 1 tank: 950 mL\",\"Rinse 2 tank: 950 mL\",\"Waste tank: 0 mL\",\"Relay status: {\\'arm-up\\': False, \\'arm-down\\': True, \\'rinse1\\': False, \\'rinse2\\': True, \\'blow\\': False, \\'piston-vent\\': False, \\'postsample\\': True}\",\"Rinse Program Step 2/6: rinse2 for 30s\",\"[250318-13:41:25] Load stopped at voltage mean = 4.11986141204834 and stdev = 1.093001251841383\"]\\n'\n",
      "status r code 200\n",
      "status:  b'[\"State: RINSING\",\"Arm State: DOWN\",\"Rinse 1 tank: 950 mL\",\"Rinse 2 tank: 950 mL\",\"Waste tank: 0 mL\",\"Relay status: {\\'arm-up\\': False, \\'arm-down\\': True, \\'rinse1\\': False, \\'rinse2\\': True, \\'blow\\': False, \\'piston-vent\\': False, \\'postsample\\': True}\",\"Rinse Program Step 2/6: rinse2 for 30s\",\"[250318-13:41:25] Load stopped at voltage mean = 4.11986141204834 and stdev = 1.093001251841383\"]\\n'\n",
      "status r code 200\n",
      "status:  b'[\"State: RINSING\",\"Arm State: DOWN\",\"Rinse 1 tank: 950 mL\",\"Rinse 2 tank: 950 mL\",\"Waste tank: 0 mL\",\"Relay status: {\\'arm-up\\': False, \\'arm-down\\': True, \\'rinse1\\': False, \\'rinse2\\': True, \\'blow\\': False, \\'piston-vent\\': False, \\'postsample\\': True}\",\"Rinse Program Step 2/6: rinse2 for 30s\",\"[250318-13:41:25] Load stopped at voltage mean = 4.11986141204834 and stdev = 1.093001251841383\"]\\n'\n",
      "status r code 200\n",
      "status:  b'[\"State: RINSING\",\"Arm State: DOWN\",\"Rinse 1 tank: 950 mL\",\"Rinse 2 tank: 950 mL\",\"Waste tank: 0 mL\",\"Relay status: {\\'arm-up\\': False, \\'arm-down\\': True, \\'rinse1\\': False, \\'rinse2\\': True, \\'blow\\': False, \\'piston-vent\\': False, \\'postsample\\': True}\",\"Rinse Program Step 2/6: rinse2 for 30s\",\"[250318-13:41:25] Load stopped at voltage mean = 4.11986141204834 and stdev = 1.093001251841383\"]\\n'\n",
      "status r code 200\n",
      "status:  b'[\"State: RINSING\",\"Arm State: DOWN\",\"Rinse 1 tank: 950 mL\",\"Rinse 2 tank: 950 mL\",\"Waste tank: 0 mL\",\"Relay status: {\\'arm-up\\': False, \\'arm-down\\': True, \\'rinse1\\': False, \\'rinse2\\': True, \\'blow\\': False, \\'piston-vent\\': False, \\'postsample\\': True}\",\"Rinse Program Step 2/6: rinse2 for 30s\",\"[250318-13:41:25] Load stopped at voltage mean = 4.11986141204834 and stdev = 1.093001251841383\"]\\n'\n",
      "status r code 200\n",
      "status:  b'[\"State: RINSING\",\"Arm State: DOWN\",\"Rinse 1 tank: 950 mL\",\"Rinse 2 tank: 950 mL\",\"Waste tank: 0 mL\",\"Relay status: {\\'arm-up\\': False, \\'arm-down\\': True, \\'rinse1\\': False, \\'rinse2\\': True, \\'blow\\': False, \\'piston-vent\\': False, \\'postsample\\': True}\",\"Rinse Program Step 2/6: rinse2 for 30s\",\"[250318-13:41:25] Load stopped at voltage mean = 4.11986141204834 and stdev = 1.093001251841383\"]\\n'\n",
      "status r code 200\n",
      "status:  b'[\"State: RINSING\",\"Arm State: DOWN\",\"Rinse 1 tank: 950 mL\",\"Rinse 2 tank: 950 mL\",\"Waste tank: 0 mL\",\"Relay status: {\\'arm-up\\': False, \\'arm-down\\': True, \\'rinse1\\': False, \\'rinse2\\': True, \\'blow\\': False, \\'piston-vent\\': False, \\'postsample\\': True}\",\"Rinse Program Step 2/6: rinse2 for 30s\",\"[250318-13:41:25] Load stopped at voltage mean = 4.11986141204834 and stdev = 1.093001251841383\"]\\n'\n",
      "status r code 200\n",
      "status:  b'[\"State: RINSING\",\"Arm State: DOWN\",\"Rinse 1 tank: 950 mL\",\"Rinse 2 tank: 950 mL\",\"Waste tank: 0 mL\",\"Relay status: {\\'arm-up\\': False, \\'arm-down\\': True, \\'rinse1\\': False, \\'rinse2\\': True, \\'blow\\': False, \\'piston-vent\\': False, \\'postsample\\': True}\",\"Rinse Program Step 2/6: rinse2 for 30s\",\"[250318-13:41:25] Load stopped at voltage mean = 4.11986141204834 and stdev = 1.093001251841383\"]\\n'\n",
      "status r code 200\n",
      "status:  b'[\"State: RINSING\",\"Arm State: DOWN\",\"Rinse 1 tank: 950 mL\",\"Rinse 2 tank: 950 mL\",\"Waste tank: 0 mL\",\"Relay status: {\\'arm-up\\': False, \\'arm-down\\': True, \\'rinse1\\': False, \\'rinse2\\': True, \\'blow\\': False, \\'piston-vent\\': False, \\'postsample\\': True}\",\"Rinse Program Step 2/6: rinse2 for 30s\",\"[250318-13:41:25] Load stopped at voltage mean = 4.11986141204834 and stdev = 1.093001251841383\"]\\n'\n",
      "status r code 200\n",
      "status:  b'[\"State: RINSING\",\"Arm State: DOWN\",\"Rinse 1 tank: 950 mL\",\"Rinse 2 tank: 950 mL\",\"Waste tank: 0 mL\",\"Relay status: {\\'arm-up\\': False, \\'arm-down\\': True, \\'rinse1\\': False, \\'rinse2\\': True, \\'blow\\': False, \\'piston-vent\\': False, \\'postsample\\': True}\",\"Rinse Program Step 2/6: rinse2 for 30s\",\"[250318-13:41:25] Load stopped at voltage mean = 4.11986141204834 and stdev = 1.093001251841383\"]\\n'\n",
      "status r code 200\n",
      "status:  b'[\"State: RINSING\",\"Arm State: DOWN\",\"Rinse 1 tank: 950 mL\",\"Rinse 2 tank: 950 mL\",\"Waste tank: 0 mL\",\"Relay status: {\\'arm-up\\': False, \\'arm-down\\': True, \\'rinse1\\': False, \\'rinse2\\': True, \\'blow\\': False, \\'piston-vent\\': False, \\'postsample\\': True}\",\"Rinse Program Step 2/6: rinse2 for 30s\",\"[250318-13:41:25] Load stopped at voltage mean = 4.11986141204834 and stdev = 1.093001251841383\"]\\n'\n",
      "status r code 200\n",
      "status:  b'[\"State: RINSING\",\"Arm State: DOWN\",\"Rinse 1 tank: 950 mL\",\"Rinse 2 tank: 950 mL\",\"Waste tank: 0 mL\",\"Relay status: {\\'arm-up\\': False, \\'arm-down\\': True, \\'rinse1\\': False, \\'rinse2\\': True, \\'blow\\': False, \\'piston-vent\\': False, \\'postsample\\': True}\",\"Rinse Program Step 2/6: rinse2 for 30s\",\"[250318-13:41:25] Load stopped at voltage mean = 4.11986141204834 and stdev = 1.093001251841383\"]\\n'\n",
      "status r code 200\n",
      "status:  b'[\"State: RINSING\",\"Arm State: DOWN\",\"Rinse 1 tank: 950 mL\",\"Rinse 2 tank: 950 mL\",\"Waste tank: 0 mL\",\"Relay status: {\\'arm-up\\': False, \\'arm-down\\': True, \\'rinse1\\': False, \\'rinse2\\': False, \\'blow\\': True, \\'piston-vent\\': False, \\'postsample\\': True}\",\"Rinse Program Step 3/6: blow for 15s\",\"[250318-13:41:25] Load stopped at voltage mean = 4.11986141204834 and stdev = 1.093001251841383\"]\\n'\n",
      "status r code 200\n",
      "status:  b'[\"State: RINSING\",\"Arm State: DOWN\",\"Rinse 1 tank: 950 mL\",\"Rinse 2 tank: 950 mL\",\"Waste tank: 0 mL\",\"Relay status: {\\'arm-up\\': False, \\'arm-down\\': True, \\'rinse1\\': False, \\'rinse2\\': False, \\'blow\\': True, \\'piston-vent\\': False, \\'postsample\\': True}\",\"Rinse Program Step 3/6: blow for 15s\",\"[250318-13:41:25] Load stopped at voltage mean = 4.11986141204834 and stdev = 1.093001251841383\"]\\n'\n",
      "status r code 200\n",
      "status:  b'[\"State: RINSING\",\"Arm State: DOWN\",\"Rinse 1 tank: 950 mL\",\"Rinse 2 tank: 950 mL\",\"Waste tank: 0 mL\",\"Relay status: {\\'arm-up\\': False, \\'arm-down\\': True, \\'rinse1\\': False, \\'rinse2\\': False, \\'blow\\': True, \\'piston-vent\\': False, \\'postsample\\': True}\",\"Rinse Program Step 3/6: blow for 15s\",\"[250318-13:41:25] Load stopped at voltage mean = 4.11986141204834 and stdev = 1.093001251841383\"]\\n'\n",
      "status r code 200\n",
      "status:  b'[\"State: RINSING\",\"Arm State: DOWN\",\"Rinse 1 tank: 950 mL\",\"Rinse 2 tank: 950 mL\",\"Waste tank: 0 mL\",\"Relay status: {\\'arm-up\\': False, \\'arm-down\\': True, \\'rinse1\\': False, \\'rinse2\\': False, \\'blow\\': True, \\'piston-vent\\': False, \\'postsample\\': True}\",\"Rinse Program Step 3/6: blow for 15s\",\"[250318-13:41:25] Load stopped at voltage mean = 4.11986141204834 and stdev = 1.093001251841383\"]\\n'\n",
      "status r code 200\n",
      "status:  b'[\"State: RINSING\",\"Arm State: DOWN\",\"Rinse 1 tank: 950 mL\",\"Rinse 2 tank: 950 mL\",\"Waste tank: 0 mL\",\"Relay status: {\\'arm-up\\': False, \\'arm-down\\': True, \\'rinse1\\': False, \\'rinse2\\': False, \\'blow\\': True, \\'piston-vent\\': False, \\'postsample\\': True}\",\"Rinse Program Step 3/6: blow for 15s\",\"[250318-13:41:25] Load stopped at voltage mean = 4.11986141204834 and stdev = 1.093001251841383\"]\\n'\n",
      "status r code 200\n",
      "status:  b'[\"State: RINSING\",\"Arm State: DOWN\",\"Rinse 1 tank: 950 mL\",\"Rinse 2 tank: 950 mL\",\"Waste tank: 0 mL\",\"Relay status: {\\'arm-up\\': False, \\'arm-down\\': True, \\'rinse1\\': False, \\'rinse2\\': False, \\'blow\\': True, \\'piston-vent\\': False, \\'postsample\\': True}\",\"Rinse Program Step 3/6: blow for 15s\",\"[250318-13:41:25] Load stopped at voltage mean = 4.11986141204834 and stdev = 1.093001251841383\"]\\n'\n",
      "status r code 200\n",
      "status:  b'[\"State: RINSING\",\"Arm State: DOWN\",\"Rinse 1 tank: 950 mL\",\"Rinse 2 tank: 950 mL\",\"Waste tank: 0 mL\",\"Relay status: {\\'arm-up\\': False, \\'arm-down\\': True, \\'rinse1\\': False, \\'rinse2\\': False, \\'blow\\': True, \\'piston-vent\\': False, \\'postsample\\': True}\",\"Rinse Program Step 3/6: blow for 15s\",\"[250318-13:41:25] Load stopped at voltage mean = 4.11986141204834 and stdev = 1.093001251841383\"]\\n'\n",
      "status r code 200\n",
      "status:  b'[\"State: RINSING\",\"Arm State: DOWN\",\"Rinse 1 tank: 950 mL\",\"Rinse 2 tank: 950 mL\",\"Waste tank: 0 mL\",\"Relay status: {\\'arm-up\\': False, \\'arm-down\\': True, \\'rinse1\\': False, \\'rinse2\\': False, \\'blow\\': True, \\'piston-vent\\': False, \\'postsample\\': True}\",\"Rinse Program Step 3/6: blow for 15s\",\"[250318-13:41:25] Load stopped at voltage mean = 4.11986141204834 and stdev = 1.093001251841383\"]\\n'\n",
      "status r code 200\n",
      "status:  b'[\"State: RINSING\",\"Arm State: DOWN\",\"Rinse 1 tank: 950 mL\",\"Rinse 2 tank: 950 mL\",\"Waste tank: 0 mL\",\"Relay status: {\\'arm-up\\': False, \\'arm-down\\': True, \\'rinse1\\': False, \\'rinse2\\': False, \\'blow\\': True, \\'piston-vent\\': False, \\'postsample\\': True}\",\"Rinse Program Step 3/6: blow for 15s\",\"[250318-13:41:25] Load stopped at voltage mean = 4.11986141204834 and stdev = 1.093001251841383\"]\\n'\n",
      "status r code 200\n",
      "status:  b'[\"State: RINSING\",\"Arm State: DOWN\",\"Rinse 1 tank: 950 mL\",\"Rinse 2 tank: 950 mL\",\"Waste tank: 0 mL\",\"Relay status: {\\'arm-up\\': False, \\'arm-down\\': True, \\'rinse1\\': False, \\'rinse2\\': False, \\'blow\\': True, \\'piston-vent\\': False, \\'postsample\\': True}\",\"Rinse Program Step 3/6: blow for 15s\",\"[250318-13:41:25] Load stopped at voltage mean = 4.11986141204834 and stdev = 1.093001251841383\"]\\n'\n",
      "status r code 200\n",
      "status:  b'[\"State: RINSING\",\"Arm State: DOWN\",\"Rinse 1 tank: 950 mL\",\"Rinse 2 tank: 950 mL\",\"Waste tank: 0 mL\",\"Relay status: {\\'arm-up\\': False, \\'arm-down\\': True, \\'rinse1\\': False, \\'rinse2\\': False, \\'blow\\': True, \\'piston-vent\\': False, \\'postsample\\': True}\",\"Rinse Program Step 3/6: blow for 15s\",\"[250318-13:41:25] Load stopped at voltage mean = 4.11986141204834 and stdev = 1.093001251841383\"]\\n'\n",
      "status r code 200\n",
      "status:  b'[\"State: RINSING\",\"Arm State: DOWN\",\"Rinse 1 tank: 950 mL\",\"Rinse 2 tank: 950 mL\",\"Waste tank: 0 mL\",\"Relay status: {\\'arm-up\\': False, \\'arm-down\\': True, \\'rinse1\\': False, \\'rinse2\\': False, \\'blow\\': True, \\'piston-vent\\': False, \\'postsample\\': True}\",\"Rinse Program Step 3/6: blow for 15s\",\"[250318-13:41:25] Load stopped at voltage mean = 4.11986141204834 and stdev = 1.093001251841383\"]\\n'\n",
      "status r code 200\n",
      "status:  b'[\"State: RINSING\",\"Arm State: DOWN\",\"Rinse 1 tank: 950 mL\",\"Rinse 2 tank: 950 mL\",\"Waste tank: 0 mL\",\"Relay status: {\\'arm-up\\': False, \\'arm-down\\': True, \\'rinse1\\': False, \\'rinse2\\': False, \\'blow\\': True, \\'piston-vent\\': False, \\'postsample\\': True}\",\"Rinse Program Step 3/6: blow for 15s\",\"[250318-13:41:25] Load stopped at voltage mean = 4.11986141204834 and stdev = 1.093001251841383\"]\\n'\n",
      "status r code 200\n",
      "status:  b'[\"State: RINSING\",\"Arm State: DOWN\",\"Rinse 1 tank: 950 mL\",\"Rinse 2 tank: 950 mL\",\"Waste tank: 0 mL\",\"Relay status: {\\'arm-up\\': False, \\'arm-down\\': True, \\'rinse1\\': False, \\'rinse2\\': False, \\'blow\\': True, \\'piston-vent\\': False, \\'postsample\\': True}\",\"Rinse Program Step 3/6: blow for 15s\",\"[250318-13:41:25] Load stopped at voltage mean = 4.11986141204834 and stdev = 1.093001251841383\"]\\n'\n",
      "status r code 200\n",
      "status:  b'[\"State: RINSING\",\"Arm State: DOWN\",\"Rinse 1 tank: 950 mL\",\"Rinse 2 tank: 950 mL\",\"Waste tank: 0 mL\",\"Relay status: {\\'arm-up\\': False, \\'arm-down\\': True, \\'rinse1\\': False, \\'rinse2\\': False, \\'blow\\': True, \\'piston-vent\\': False, \\'postsample\\': True}\",\"Rinse Program Step 3/6: blow for 15s\",\"[250318-13:41:25] Load stopped at voltage mean = 4.11986141204834 and stdev = 1.093001251841383\"]\\n'\n",
      "status r code 200\n",
      "status:  b'[\"State: RINSING\",\"Arm State: DOWN\",\"Rinse 1 tank: 950 mL\",\"Rinse 2 tank: 950 mL\",\"Waste tank: 0 mL\",\"Relay status: {\\'arm-up\\': False, \\'arm-down\\': True, \\'rinse1\\': False, \\'rinse2\\': False, \\'blow\\': True, \\'piston-vent\\': False, \\'postsample\\': True}\",\"Rinse Program Step 5/6: blow for 60s\",\"[250318-13:41:25] Load stopped at voltage mean = 4.11986141204834 and stdev = 1.093001251841383\"]\\n'\n",
      "status r code 200\n",
      "status:  b'[\"State: RINSING\",\"Arm State: DOWN\",\"Rinse 1 tank: 950 mL\",\"Rinse 2 tank: 950 mL\",\"Waste tank: 0 mL\",\"Relay status: {\\'arm-up\\': False, \\'arm-down\\': True, \\'rinse1\\': False, \\'rinse2\\': False, \\'blow\\': True, \\'piston-vent\\': False, \\'postsample\\': True}\",\"Rinse Program Step 5/6: blow for 60s\",\"[250318-13:41:25] Load stopped at voltage mean = 4.11986141204834 and stdev = 1.093001251841383\"]\\n'\n",
      "status r code 200\n",
      "status:  b'[\"State: RINSING\",\"Arm State: DOWN\",\"Rinse 1 tank: 950 mL\",\"Rinse 2 tank: 950 mL\",\"Waste tank: 0 mL\",\"Relay status: {\\'arm-up\\': False, \\'arm-down\\': True, \\'rinse1\\': False, \\'rinse2\\': False, \\'blow\\': True, \\'piston-vent\\': False, \\'postsample\\': True}\",\"Rinse Program Step 5/6: blow for 60s\",\"[250318-13:41:25] Load stopped at voltage mean = 4.11986141204834 and stdev = 1.093001251841383\"]\\n'\n",
      "status r code 200\n",
      "status:  b'[\"State: RINSING\",\"Arm State: DOWN\",\"Rinse 1 tank: 950 mL\",\"Rinse 2 tank: 950 mL\",\"Waste tank: 0 mL\",\"Relay status: {\\'arm-up\\': False, \\'arm-down\\': True, \\'rinse1\\': False, \\'rinse2\\': False, \\'blow\\': True, \\'piston-vent\\': False, \\'postsample\\': True}\",\"Rinse Program Step 5/6: blow for 60s\",\"[250318-13:41:25] Load stopped at voltage mean = 4.11986141204834 and stdev = 1.093001251841383\"]\\n'\n",
      "status r code 200\n",
      "status:  b'[\"State: RINSING\",\"Arm State: DOWN\",\"Rinse 1 tank: 950 mL\",\"Rinse 2 tank: 950 mL\",\"Waste tank: 0 mL\",\"Relay status: {\\'arm-up\\': False, \\'arm-down\\': True, \\'rinse1\\': False, \\'rinse2\\': False, \\'blow\\': True, \\'piston-vent\\': False, \\'postsample\\': True}\",\"Rinse Program Step 5/6: blow for 60s\",\"[250318-13:41:25] Load stopped at voltage mean = 4.11986141204834 and stdev = 1.093001251841383\"]\\n'\n",
      "status r code 200\n",
      "status:  b'[\"State: RINSING\",\"Arm State: DOWN\",\"Rinse 1 tank: 950 mL\",\"Rinse 2 tank: 950 mL\",\"Waste tank: 0 mL\",\"Relay status: {\\'arm-up\\': False, \\'arm-down\\': True, \\'rinse1\\': False, \\'rinse2\\': False, \\'blow\\': True, \\'piston-vent\\': False, \\'postsample\\': True}\",\"Rinse Program Step 5/6: blow for 60s\",\"[250318-13:41:25] Load stopped at voltage mean = 4.11986141204834 and stdev = 1.093001251841383\"]\\n'\n",
      "status r code 200\n",
      "status:  b'[\"State: RINSING\",\"Arm State: DOWN\",\"Rinse 1 tank: 950 mL\",\"Rinse 2 tank: 950 mL\",\"Waste tank: 0 mL\",\"Relay status: {\\'arm-up\\': False, \\'arm-down\\': True, \\'rinse1\\': False, \\'rinse2\\': False, \\'blow\\': True, \\'piston-vent\\': False, \\'postsample\\': True}\",\"Rinse Program Step 5/6: blow for 60s\",\"[250318-13:41:25] Load stopped at voltage mean = 4.11986141204834 and stdev = 1.093001251841383\"]\\n'\n",
      "status r code 200\n",
      "status:  b'[\"State: RINSING\",\"Arm State: DOWN\",\"Rinse 1 tank: 950 mL\",\"Rinse 2 tank: 950 mL\",\"Waste tank: 0 mL\",\"Relay status: {\\'arm-up\\': False, \\'arm-down\\': True, \\'rinse1\\': False, \\'rinse2\\': False, \\'blow\\': True, \\'piston-vent\\': False, \\'postsample\\': True}\",\"Rinse Program Step 5/6: blow for 60s\",\"[250318-13:41:25] Load stopped at voltage mean = 4.11986141204834 and stdev = 1.093001251841383\"]\\n'\n",
      "status r code 200\n",
      "status:  b'[\"State: RINSING\",\"Arm State: DOWN\",\"Rinse 1 tank: 950 mL\",\"Rinse 2 tank: 950 mL\",\"Waste tank: 0 mL\",\"Relay status: {\\'arm-up\\': False, \\'arm-down\\': True, \\'rinse1\\': False, \\'rinse2\\': False, \\'blow\\': True, \\'piston-vent\\': False, \\'postsample\\': True}\",\"Rinse Program Step 5/6: blow for 60s\",\"[250318-13:41:25] Load stopped at voltage mean = 4.11986141204834 and stdev = 1.093001251841383\"]\\n'\n",
      "status r code 200\n",
      "status:  b'[\"State: RINSING\",\"Arm State: DOWN\",\"Rinse 1 tank: 950 mL\",\"Rinse 2 tank: 950 mL\",\"Waste tank: 0 mL\",\"Relay status: {\\'arm-up\\': False, \\'arm-down\\': True, \\'rinse1\\': False, \\'rinse2\\': False, \\'blow\\': True, \\'piston-vent\\': False, \\'postsample\\': True}\",\"Rinse Program Step 5/6: blow for 60s\",\"[250318-13:41:25] Load stopped at voltage mean = 4.11986141204834 and stdev = 1.093001251841383\"]\\n'\n",
      "status r code 200\n",
      "status:  b'[\"State: RINSING\",\"Arm State: DOWN\",\"Rinse 1 tank: 950 mL\",\"Rinse 2 tank: 950 mL\",\"Waste tank: 0 mL\",\"Relay status: {\\'arm-up\\': False, \\'arm-down\\': True, \\'rinse1\\': False, \\'rinse2\\': False, \\'blow\\': True, \\'piston-vent\\': False, \\'postsample\\': True}\",\"Rinse Program Step 5/6: blow for 60s\",\"[250318-13:41:25] Load stopped at voltage mean = 4.11986141204834 and stdev = 1.093001251841383\"]\\n'\n",
      "status r code 200\n",
      "status:  b'[\"State: RINSING\",\"Arm State: DOWN\",\"Rinse 1 tank: 950 mL\",\"Rinse 2 tank: 950 mL\",\"Waste tank: 0 mL\",\"Relay status: {\\'arm-up\\': False, \\'arm-down\\': True, \\'rinse1\\': False, \\'rinse2\\': False, \\'blow\\': True, \\'piston-vent\\': False, \\'postsample\\': True}\",\"Rinse Program Step 5/6: blow for 60s\",\"[250318-13:41:25] Load stopped at voltage mean = 4.11986141204834 and stdev = 1.093001251841383\"]\\n'\n",
      "status r code 200\n",
      "status:  b'[\"State: RINSING\",\"Arm State: DOWN\",\"Rinse 1 tank: 950 mL\",\"Rinse 2 tank: 950 mL\",\"Waste tank: 0 mL\",\"Relay status: {\\'arm-up\\': False, \\'arm-down\\': True, \\'rinse1\\': False, \\'rinse2\\': False, \\'blow\\': True, \\'piston-vent\\': False, \\'postsample\\': True}\",\"Rinse Program Step 5/6: blow for 60s\",\"[250318-13:41:25] Load stopped at voltage mean = 4.11986141204834 and stdev = 1.093001251841383\"]\\n'\n",
      "status r code 200\n",
      "status:  b'[\"State: RINSING\",\"Arm State: DOWN\",\"Rinse 1 tank: 950 mL\",\"Rinse 2 tank: 950 mL\",\"Waste tank: 0 mL\",\"Relay status: {\\'arm-up\\': False, \\'arm-down\\': True, \\'rinse1\\': False, \\'rinse2\\': False, \\'blow\\': True, \\'piston-vent\\': False, \\'postsample\\': True}\",\"Rinse Program Step 5/6: blow for 60s\",\"[250318-13:41:25] Load stopped at voltage mean = 4.11986141204834 and stdev = 1.093001251841383\"]\\n'\n",
      "status r code 200\n",
      "status:  b'[\"State: RINSING\",\"Arm State: DOWN\",\"Rinse 1 tank: 950 mL\",\"Rinse 2 tank: 950 mL\",\"Waste tank: 0 mL\",\"Relay status: {\\'arm-up\\': False, \\'arm-down\\': True, \\'rinse1\\': False, \\'rinse2\\': False, \\'blow\\': True, \\'piston-vent\\': False, \\'postsample\\': True}\",\"Rinse Program Step 5/6: blow for 60s\",\"[250318-13:41:25] Load stopped at voltage mean = 4.11986141204834 and stdev = 1.093001251841383\"]\\n'\n",
      "status r code 200\n",
      "status:  b'[\"State: RINSING\",\"Arm State: DOWN\",\"Rinse 1 tank: 950 mL\",\"Rinse 2 tank: 950 mL\",\"Waste tank: 0 mL\",\"Relay status: {\\'arm-up\\': False, \\'arm-down\\': True, \\'rinse1\\': False, \\'rinse2\\': False, \\'blow\\': True, \\'piston-vent\\': False, \\'postsample\\': True}\",\"Rinse Program Step 5/6: blow for 60s\",\"[250318-13:41:25] Load stopped at voltage mean = 4.11986141204834 and stdev = 1.093001251841383\"]\\n'\n",
      "status r code 200\n",
      "status:  b'[\"State: RINSING\",\"Arm State: DOWN\",\"Rinse 1 tank: 950 mL\",\"Rinse 2 tank: 950 mL\",\"Waste tank: 0 mL\",\"Relay status: {\\'arm-up\\': False, \\'arm-down\\': True, \\'rinse1\\': False, \\'rinse2\\': False, \\'blow\\': True, \\'piston-vent\\': False, \\'postsample\\': True}\",\"Rinse Program Step 5/6: blow for 60s\",\"[250318-13:41:25] Load stopped at voltage mean = 4.11986141204834 and stdev = 1.093001251841383\"]\\n'\n",
      "status r code 200\n",
      "status:  b'[\"State: RINSING\",\"Arm State: DOWN\",\"Rinse 1 tank: 950 mL\",\"Rinse 2 tank: 950 mL\",\"Waste tank: 0 mL\",\"Relay status: {\\'arm-up\\': False, \\'arm-down\\': True, \\'rinse1\\': False, \\'rinse2\\': False, \\'blow\\': True, \\'piston-vent\\': False, \\'postsample\\': True}\",\"Rinse Program Step 5/6: blow for 60s\",\"[250318-13:41:25] Load stopped at voltage mean = 4.11986141204834 and stdev = 1.093001251841383\"]\\n'\n",
      "status r code 200\n",
      "status:  b'[\"State: RINSING\",\"Arm State: DOWN\",\"Rinse 1 tank: 950 mL\",\"Rinse 2 tank: 950 mL\",\"Waste tank: 0 mL\",\"Relay status: {\\'arm-up\\': False, \\'arm-down\\': True, \\'rinse1\\': False, \\'rinse2\\': False, \\'blow\\': True, \\'piston-vent\\': False, \\'postsample\\': True}\",\"Rinse Program Step 5/6: blow for 60s\",\"[250318-13:41:25] Load stopped at voltage mean = 4.11986141204834 and stdev = 1.093001251841383\"]\\n'\n",
      "status r code 200\n",
      "status:  b'[\"State: RINSING\",\"Arm State: DOWN\",\"Rinse 1 tank: 950 mL\",\"Rinse 2 tank: 950 mL\",\"Waste tank: 0 mL\",\"Relay status: {\\'arm-up\\': False, \\'arm-down\\': True, \\'rinse1\\': False, \\'rinse2\\': False, \\'blow\\': True, \\'piston-vent\\': False, \\'postsample\\': True}\",\"Rinse Program Step 5/6: blow for 60s\",\"[250318-13:41:25] Load stopped at voltage mean = 4.11986141204834 and stdev = 1.093001251841383\"]\\n'\n",
      "status r code 200\n",
      "status:  b'[\"State: RINSING\",\"Arm State: DOWN\",\"Rinse 1 tank: 950 mL\",\"Rinse 2 tank: 950 mL\",\"Waste tank: 0 mL\",\"Relay status: {\\'arm-up\\': False, \\'arm-down\\': True, \\'rinse1\\': False, \\'rinse2\\': False, \\'blow\\': True, \\'piston-vent\\': False, \\'postsample\\': True}\",\"Rinse Program Step 5/6: blow for 60s\",\"[250318-13:41:25] Load stopped at voltage mean = 4.11986141204834 and stdev = 1.093001251841383\"]\\n'\n",
      "status r code 200\n",
      "status:  b'[\"State: RINSING\",\"Arm State: DOWN\",\"Rinse 1 tank: 950 mL\",\"Rinse 2 tank: 950 mL\",\"Waste tank: 0 mL\",\"Relay status: {\\'arm-up\\': False, \\'arm-down\\': True, \\'rinse1\\': False, \\'rinse2\\': False, \\'blow\\': True, \\'piston-vent\\': False, \\'postsample\\': True}\",\"Rinse Program Step 5/6: blow for 60s\",\"[250318-13:41:25] Load stopped at voltage mean = 4.11986141204834 and stdev = 1.093001251841383\"]\\n'\n",
      "status r code 200\n",
      "status:  b'[\"State: RINSING\",\"Arm State: DOWN\",\"Rinse 1 tank: 950 mL\",\"Rinse 2 tank: 950 mL\",\"Waste tank: 0 mL\",\"Relay status: {\\'arm-up\\': False, \\'arm-down\\': True, \\'rinse1\\': False, \\'rinse2\\': False, \\'blow\\': True, \\'piston-vent\\': False, \\'postsample\\': True}\",\"Rinse Program Step 5/6: blow for 60s\",\"[250318-13:41:25] Load stopped at voltage mean = 4.11986141204834 and stdev = 1.093001251841383\"]\\n'\n",
      "status r code 200\n",
      "status:  b'[\"State: RINSING\",\"Arm State: DOWN\",\"Rinse 1 tank: 950 mL\",\"Rinse 2 tank: 950 mL\",\"Waste tank: 0 mL\",\"Relay status: {\\'arm-up\\': False, \\'arm-down\\': True, \\'rinse1\\': False, \\'rinse2\\': False, \\'blow\\': True, \\'piston-vent\\': False, \\'postsample\\': True}\",\"Rinse Program Step 5/6: blow for 60s\",\"[250318-13:41:25] Load stopped at voltage mean = 4.11986141204834 and stdev = 1.093001251841383\"]\\n'\n",
      "status r code 200\n",
      "status:  b'[\"State: RINSING\",\"Arm State: DOWN\",\"Rinse 1 tank: 950 mL\",\"Rinse 2 tank: 950 mL\",\"Waste tank: 0 mL\",\"Relay status: {\\'arm-up\\': False, \\'arm-down\\': True, \\'rinse1\\': False, \\'rinse2\\': False, \\'blow\\': True, \\'piston-vent\\': False, \\'postsample\\': True}\",\"Rinse Program Step 5/6: blow for 60s\",\"[250318-13:41:25] Load stopped at voltage mean = 4.11986141204834 and stdev = 1.093001251841383\"]\\n'\n",
      "status r code 200\n",
      "status:  b'[\"State: RINSING\",\"Arm State: DOWN\",\"Rinse 1 tank: 950 mL\",\"Rinse 2 tank: 950 mL\",\"Waste tank: 0 mL\",\"Relay status: {\\'arm-up\\': False, \\'arm-down\\': True, \\'rinse1\\': False, \\'rinse2\\': False, \\'blow\\': True, \\'piston-vent\\': False, \\'postsample\\': True}\",\"Rinse Program Step 5/6: blow for 60s\",\"[250318-13:41:25] Load stopped at voltage mean = 4.11986141204834 and stdev = 1.093001251841383\"]\\n'\n",
      "status r code 200\n",
      "status:  b'[\"State: RINSING\",\"Arm State: DOWN\",\"Rinse 1 tank: 950 mL\",\"Rinse 2 tank: 950 mL\",\"Waste tank: 0 mL\",\"Relay status: {\\'arm-up\\': False, \\'arm-down\\': True, \\'rinse1\\': False, \\'rinse2\\': False, \\'blow\\': True, \\'piston-vent\\': False, \\'postsample\\': True}\",\"Rinse Program Step 5/6: blow for 60s\",\"[250318-13:41:25] Load stopped at voltage mean = 4.11986141204834 and stdev = 1.093001251841383\"]\\n'\n",
      "status r code 200\n",
      "status:  b'[\"State: RINSING\",\"Arm State: DOWN\",\"Rinse 1 tank: 950 mL\",\"Rinse 2 tank: 950 mL\",\"Waste tank: 0 mL\",\"Relay status: {\\'arm-up\\': False, \\'arm-down\\': True, \\'rinse1\\': False, \\'rinse2\\': False, \\'blow\\': True, \\'piston-vent\\': False, \\'postsample\\': True}\",\"Rinse Program Step 5/6: blow for 60s\",\"[250318-13:41:25] Load stopped at voltage mean = 4.11986141204834 and stdev = 1.093001251841383\"]\\n'\n",
      "status r code 200\n",
      "status:  b'[\"State: RINSING\",\"Arm State: DOWN\",\"Rinse 1 tank: 950 mL\",\"Rinse 2 tank: 950 mL\",\"Waste tank: 0 mL\",\"Relay status: {\\'arm-up\\': False, \\'arm-down\\': True, \\'rinse1\\': False, \\'rinse2\\': False, \\'blow\\': True, \\'piston-vent\\': False, \\'postsample\\': True}\",\"Rinse Program Step 5/6: blow for 60s\",\"[250318-13:41:25] Load stopped at voltage mean = 4.11986141204834 and stdev = 1.093001251841383\"]\\n'\n",
      "status r code 200\n",
      "status:  b'[\"State: RINSING\",\"Arm State: DOWN\",\"Rinse 1 tank: 950 mL\",\"Rinse 2 tank: 950 mL\",\"Waste tank: 0 mL\",\"Relay status: {\\'arm-up\\': False, \\'arm-down\\': True, \\'rinse1\\': False, \\'rinse2\\': False, \\'blow\\': True, \\'piston-vent\\': False, \\'postsample\\': True}\",\"Rinse Program Step 5/6: blow for 60s\",\"[250318-13:41:25] Load stopped at voltage mean = 4.11986141204834 and stdev = 1.093001251841383\"]\\n'\n",
      "status r code 200\n",
      "status:  b'[\"State: RINSING\",\"Arm State: DOWN\",\"Rinse 1 tank: 950 mL\",\"Rinse 2 tank: 950 mL\",\"Waste tank: 0 mL\",\"Relay status: {\\'arm-up\\': False, \\'arm-down\\': True, \\'rinse1\\': False, \\'rinse2\\': False, \\'blow\\': True, \\'piston-vent\\': False, \\'postsample\\': True}\",\"Rinse Program Step 5/6: blow for 60s\",\"[250318-13:41:25] Load stopped at voltage mean = 4.11986141204834 and stdev = 1.093001251841383\"]\\n'\n",
      "status r code 200\n",
      "status:  b'[\"State: RINSING\",\"Arm State: DOWN\",\"Rinse 1 tank: 950 mL\",\"Rinse 2 tank: 950 mL\",\"Waste tank: 0 mL\",\"Relay status: {\\'arm-up\\': False, \\'arm-down\\': True, \\'rinse1\\': False, \\'rinse2\\': False, \\'blow\\': True, \\'piston-vent\\': False, \\'postsample\\': True}\",\"Rinse Program Step 5/6: blow for 60s\",\"[250318-13:41:25] Load stopped at voltage mean = 4.11986141204834 and stdev = 1.093001251841383\"]\\n'\n",
      "status r code 200\n",
      "status:  b'[\"State: RINSING\",\"Arm State: DOWN\",\"Rinse 1 tank: 950 mL\",\"Rinse 2 tank: 950 mL\",\"Waste tank: 0 mL\",\"Relay status: {\\'arm-up\\': False, \\'arm-down\\': True, \\'rinse1\\': False, \\'rinse2\\': False, \\'blow\\': True, \\'piston-vent\\': False, \\'postsample\\': True}\",\"Rinse Program Step 5/6: blow for 60s\",\"[250318-13:41:25] Load stopped at voltage mean = 4.11986141204834 and stdev = 1.093001251841383\"]\\n'\n",
      "status r code 200\n",
      "status:  b'[\"State: RINSING\",\"Arm State: DOWN\",\"Rinse 1 tank: 950 mL\",\"Rinse 2 tank: 950 mL\",\"Waste tank: 0 mL\",\"Relay status: {\\'arm-up\\': False, \\'arm-down\\': True, \\'rinse1\\': False, \\'rinse2\\': False, \\'blow\\': True, \\'piston-vent\\': False, \\'postsample\\': True}\",\"Rinse Program Step 5/6: blow for 60s\",\"[250318-13:41:25] Load stopped at voltage mean = 4.11986141204834 and stdev = 1.093001251841383\"]\\n'\n",
      "status r code 200\n",
      "status:  b'[\"State: RINSING\",\"Arm State: DOWN\",\"Rinse 1 tank: 950 mL\",\"Rinse 2 tank: 950 mL\",\"Waste tank: 0 mL\",\"Relay status: {\\'arm-up\\': False, \\'arm-down\\': True, \\'rinse1\\': False, \\'rinse2\\': False, \\'blow\\': True, \\'piston-vent\\': False, \\'postsample\\': True}\",\"Rinse Program Step 5/6: blow for 60s\",\"[250318-13:41:25] Load stopped at voltage mean = 4.11986141204834 and stdev = 1.093001251841383\"]\\n'\n",
      "status r code 200\n",
      "status:  b'[\"State: RINSING\",\"Arm State: DOWN\",\"Rinse 1 tank: 950 mL\",\"Rinse 2 tank: 950 mL\",\"Waste tank: 0 mL\",\"Relay status: {\\'arm-up\\': False, \\'arm-down\\': True, \\'rinse1\\': False, \\'rinse2\\': False, \\'blow\\': True, \\'piston-vent\\': False, \\'postsample\\': True}\",\"Rinse Program Step 5/6: blow for 60s\",\"[250318-13:41:25] Load stopped at voltage mean = 4.11986141204834 and stdev = 1.093001251841383\"]\\n'\n",
      "status r code 200\n",
      "status:  b'[\"State: RINSING\",\"Arm State: DOWN\",\"Rinse 1 tank: 950 mL\",\"Rinse 2 tank: 950 mL\",\"Waste tank: 0 mL\",\"Relay status: {\\'arm-up\\': False, \\'arm-down\\': True, \\'rinse1\\': False, \\'rinse2\\': False, \\'blow\\': True, \\'piston-vent\\': False, \\'postsample\\': True}\",\"Rinse Program Step 5/6: blow for 60s\",\"[250318-13:41:25] Load stopped at voltage mean = 4.11986141204834 and stdev = 1.093001251841383\"]\\n'\n",
      "status r code 200\n",
      "status:  b'[\"State: RINSING\",\"Arm State: DOWN\",\"Rinse 1 tank: 950 mL\",\"Rinse 2 tank: 950 mL\",\"Waste tank: 0 mL\",\"Relay status: {\\'arm-up\\': False, \\'arm-down\\': True, \\'rinse1\\': False, \\'rinse2\\': False, \\'blow\\': True, \\'piston-vent\\': False, \\'postsample\\': True}\",\"Rinse Program Step 5/6: blow for 60s\",\"[250318-13:41:25] Load stopped at voltage mean = 4.11986141204834 and stdev = 1.093001251841383\"]\\n'\n",
      "status r code 200\n",
      "status:  b'[\"State: RINSING\",\"Arm State: DOWN\",\"Rinse 1 tank: 950 mL\",\"Rinse 2 tank: 950 mL\",\"Waste tank: 0 mL\",\"Relay status: {\\'arm-up\\': False, \\'arm-down\\': True, \\'rinse1\\': False, \\'rinse2\\': False, \\'blow\\': True, \\'piston-vent\\': False, \\'postsample\\': True}\",\"Rinse Program Step 5/6: blow for 60s\",\"[250318-13:41:25] Load stopped at voltage mean = 4.11986141204834 and stdev = 1.093001251841383\"]\\n'\n",
      "status r code 200\n",
      "status:  b'[\"State: RINSING\",\"Arm State: DOWN\",\"Rinse 1 tank: 950 mL\",\"Rinse 2 tank: 950 mL\",\"Waste tank: 0 mL\",\"Relay status: {\\'arm-up\\': False, \\'arm-down\\': True, \\'rinse1\\': False, \\'rinse2\\': False, \\'blow\\': True, \\'piston-vent\\': False, \\'postsample\\': True}\",\"Rinse Program Step 5/6: blow for 60s\",\"[250318-13:41:25] Load stopped at voltage mean = 4.11986141204834 and stdev = 1.093001251841383\"]\\n'\n",
      "status r code 200\n",
      "status:  b'[\"State: RINSING\",\"Arm State: DOWN\",\"Rinse 1 tank: 950 mL\",\"Rinse 2 tank: 950 mL\",\"Waste tank: 0 mL\",\"Relay status: {\\'arm-up\\': False, \\'arm-down\\': True, \\'rinse1\\': False, \\'rinse2\\': False, \\'blow\\': True, \\'piston-vent\\': False, \\'postsample\\': True}\",\"Rinse Program Step 5/6: blow for 60s\",\"[250318-13:41:25] Load stopped at voltage mean = 4.11986141204834 and stdev = 1.093001251841383\"]\\n'\n",
      "status r code 200\n",
      "status:  b'[\"State: RINSING\",\"Arm State: DOWN\",\"Rinse 1 tank: 950 mL\",\"Rinse 2 tank: 950 mL\",\"Waste tank: 0 mL\",\"Relay status: {\\'arm-up\\': False, \\'arm-down\\': True, \\'rinse1\\': False, \\'rinse2\\': False, \\'blow\\': True, \\'piston-vent\\': False, \\'postsample\\': True}\",\"Rinse Program Step 5/6: blow for 60s\",\"[250318-13:41:25] Load stopped at voltage mean = 4.11986141204834 and stdev = 1.093001251841383\"]\\n'\n",
      "status r code 200\n",
      "status:  b'[\"State: RINSING\",\"Arm State: DOWN\",\"Rinse 1 tank: 950 mL\",\"Rinse 2 tank: 950 mL\",\"Waste tank: 0 mL\",\"Relay status: {\\'arm-up\\': False, \\'arm-down\\': True, \\'rinse1\\': False, \\'rinse2\\': False, \\'blow\\': True, \\'piston-vent\\': False, \\'postsample\\': True}\",\"Rinse Program Step 5/6: blow for 60s\",\"[250318-13:41:25] Load stopped at voltage mean = 4.11986141204834 and stdev = 1.093001251841383\"]\\n'\n",
      "status r code 200\n",
      "status:  b'[\"State: RINSING\",\"Arm State: DOWN\",\"Rinse 1 tank: 950 mL\",\"Rinse 2 tank: 950 mL\",\"Waste tank: 0 mL\",\"Relay status: {\\'arm-up\\': False, \\'arm-down\\': True, \\'rinse1\\': False, \\'rinse2\\': False, \\'blow\\': True, \\'piston-vent\\': False, \\'postsample\\': True}\",\"Rinse Program Step 5/6: blow for 60s\",\"[250318-13:41:25] Load stopped at voltage mean = 4.11986141204834 and stdev = 1.093001251841383\"]\\n'\n",
      "status r code 200\n",
      "status:  b'[\"State: RINSING\",\"Arm State: DOWN\",\"Rinse 1 tank: 950 mL\",\"Rinse 2 tank: 950 mL\",\"Waste tank: 0 mL\",\"Relay status: {\\'arm-up\\': False, \\'arm-down\\': True, \\'rinse1\\': False, \\'rinse2\\': False, \\'blow\\': True, \\'piston-vent\\': False, \\'postsample\\': True}\",\"Rinse Program Step 5/6: blow for 60s\",\"[250318-13:41:25] Load stopped at voltage mean = 4.11986141204834 and stdev = 1.093001251841383\"]\\n'\n",
      "status r code 200\n",
      "status:  b'[\"State: RINSING\",\"Arm State: DOWN\",\"Rinse 1 tank: 950 mL\",\"Rinse 2 tank: 950 mL\",\"Waste tank: 0 mL\",\"Relay status: {\\'arm-up\\': False, \\'arm-down\\': True, \\'rinse1\\': False, \\'rinse2\\': False, \\'blow\\': True, \\'piston-vent\\': False, \\'postsample\\': True}\",\"Rinse Program Step 5/6: blow for 60s\",\"[250318-13:41:25] Load stopped at voltage mean = 4.11986141204834 and stdev = 1.093001251841383\"]\\n'\n",
      "status r code 200\n",
      "status:  b'[\"State: RINSING\",\"Arm State: DOWN\",\"Rinse 1 tank: 950 mL\",\"Rinse 2 tank: 950 mL\",\"Waste tank: 0 mL\",\"Relay status: {\\'arm-up\\': False, \\'arm-down\\': True, \\'rinse1\\': False, \\'rinse2\\': False, \\'blow\\': True, \\'piston-vent\\': False, \\'postsample\\': True}\",\"Rinse Program Step 5/6: blow for 60s\",\"[250318-13:41:25] Load stopped at voltage mean = 4.11986141204834 and stdev = 1.093001251841383\"]\\n'\n",
      "status r code 200\n",
      "status:  b'[\"State: RINSING\",\"Arm State: DOWN\",\"Rinse 1 tank: 950 mL\",\"Rinse 2 tank: 950 mL\",\"Waste tank: 0 mL\",\"Relay status: {\\'arm-up\\': False, \\'arm-down\\': True, \\'rinse1\\': False, \\'rinse2\\': False, \\'blow\\': True, \\'piston-vent\\': False, \\'postsample\\': True}\",\"Rinse Program Step 5/6: blow for 60s\",\"[250318-13:41:25] Load stopped at voltage mean = 4.11986141204834 and stdev = 1.093001251841383\"]\\n'\n",
      "status r code 200\n",
      "status:  b'[\"State: RINSING\",\"Arm State: DOWN\",\"Rinse 1 tank: 950 mL\",\"Rinse 2 tank: 950 mL\",\"Waste tank: 0 mL\",\"Relay status: {\\'arm-up\\': False, \\'arm-down\\': True, \\'rinse1\\': False, \\'rinse2\\': False, \\'blow\\': True, \\'piston-vent\\': False, \\'postsample\\': True}\",\"Rinse Program Step 5/6: blow for 60s\",\"[250318-13:41:25] Load stopped at voltage mean = 4.11986141204834 and stdev = 1.093001251841383\"]\\n'\n",
      "status r code 200\n",
      "status:  b'[\"State: RINSING\",\"Arm State: DOWN\",\"Rinse 1 tank: 950 mL\",\"Rinse 2 tank: 950 mL\",\"Waste tank: 0 mL\",\"Relay status: {\\'arm-up\\': False, \\'arm-down\\': True, \\'rinse1\\': False, \\'rinse2\\': False, \\'blow\\': True, \\'piston-vent\\': False, \\'postsample\\': True}\",\"Rinse Program Step 5/6: blow for 60s\",\"[250318-13:41:25] Load stopped at voltage mean = 4.11986141204834 and stdev = 1.093001251841383\"]\\n'\n",
      "status r code 200\n",
      "status:  b'[\"State: RINSING\",\"Arm State: DOWN\",\"Rinse 1 tank: 950 mL\",\"Rinse 2 tank: 950 mL\",\"Waste tank: 0 mL\",\"Relay status: {\\'arm-up\\': False, \\'arm-down\\': True, \\'rinse1\\': False, \\'rinse2\\': False, \\'blow\\': True, \\'piston-vent\\': False, \\'postsample\\': True}\",\"Rinse Program Step 5/6: blow for 60s\",\"[250318-13:41:25] Load stopped at voltage mean = 4.11986141204834 and stdev = 1.093001251841383\"]\\n'\n",
      "status r code 200\n",
      "status:  b'[\"State: RINSING\",\"Arm State: DOWN\",\"Rinse 1 tank: 950 mL\",\"Rinse 2 tank: 950 mL\",\"Waste tank: 0 mL\",\"Relay status: {\\'arm-up\\': False, \\'arm-down\\': True, \\'rinse1\\': False, \\'rinse2\\': False, \\'blow\\': True, \\'piston-vent\\': False, \\'postsample\\': True}\",\"Rinse Program Step 5/6: blow for 60s\",\"[250318-13:41:25] Load stopped at voltage mean = 4.11986141204834 and stdev = 1.093001251841383\"]\\n'\n",
      "status r code 200\n",
      "status:  b'[\"State: RINSING\",\"Arm State: DOWN\",\"Rinse 1 tank: 950 mL\",\"Rinse 2 tank: 950 mL\",\"Waste tank: 0 mL\",\"Relay status: {\\'arm-up\\': False, \\'arm-down\\': True, \\'rinse1\\': False, \\'rinse2\\': False, \\'blow\\': True, \\'piston-vent\\': False, \\'postsample\\': True}\",\"Rinse Program Step 5/6: blow for 60s\",\"[250318-13:41:25] Load stopped at voltage mean = 4.11986141204834 and stdev = 1.093001251841383\"]\\n'\n",
      "status r code 200\n",
      "status:  b'[\"State: RINSING\",\"Arm State: DOWN\",\"Rinse 1 tank: 950 mL\",\"Rinse 2 tank: 950 mL\",\"Waste tank: 0 mL\",\"Relay status: {\\'arm-up\\': False, \\'arm-down\\': True, \\'rinse1\\': False, \\'rinse2\\': False, \\'blow\\': True, \\'piston-vent\\': False, \\'postsample\\': True}\",\"Rinse Program Step 5/6: blow for 60s\",\"[250318-13:41:25] Load stopped at voltage mean = 4.11986141204834 and stdev = 1.093001251841383\"]\\n'\n",
      "status r code 200\n",
      "status:  b'[\"State: RINSING\",\"Arm State: DOWN\",\"Rinse 1 tank: 950 mL\",\"Rinse 2 tank: 950 mL\",\"Waste tank: 0 mL\",\"Relay status: {\\'arm-up\\': False, \\'arm-down\\': True, \\'rinse1\\': False, \\'rinse2\\': False, \\'blow\\': True, \\'piston-vent\\': False, \\'postsample\\': True}\",\"Rinse Program Step 5/6: blow for 60s\",\"[250318-13:41:25] Load stopped at voltage mean = 4.11986141204834 and stdev = 1.093001251841383\"]\\n'\n",
      "status r code 200\n",
      "status:  b'[\"State: RINSING\",\"Arm State: DOWN\",\"Rinse 1 tank: 950 mL\",\"Rinse 2 tank: 950 mL\",\"Waste tank: 0 mL\",\"Relay status: {\\'arm-up\\': False, \\'arm-down\\': True, \\'rinse1\\': False, \\'rinse2\\': False, \\'blow\\': True, \\'piston-vent\\': False, \\'postsample\\': True}\",\"Rinse Program Step 5/6: blow for 60s\",\"[250318-13:41:25] Load stopped at voltage mean = 4.11986141204834 and stdev = 1.093001251841383\"]\\n'\n",
      "status r code 200\n",
      "status:  b'[\"State: RINSING\",\"Arm State: DOWN\",\"Rinse 1 tank: 950 mL\",\"Rinse 2 tank: 950 mL\",\"Waste tank: 0 mL\",\"Relay status: {\\'arm-up\\': False, \\'arm-down\\': True, \\'rinse1\\': False, \\'rinse2\\': False, \\'blow\\': True, \\'piston-vent\\': False, \\'postsample\\': True}\",\"Rinse Program Step 5/6: blow for 60s\",\"[250318-13:41:25] Load stopped at voltage mean = 4.11986141204834 and stdev = 1.093001251841383\"]\\n'\n",
      "status r code 200\n",
      "status:  b'[\"State: RINSING\",\"Arm State: DOWN\",\"Rinse 1 tank: 950 mL\",\"Rinse 2 tank: 950 mL\",\"Waste tank: 0 mL\",\"Relay status: {\\'arm-up\\': False, \\'arm-down\\': True, \\'rinse1\\': False, \\'rinse2\\': False, \\'blow\\': True, \\'piston-vent\\': False, \\'postsample\\': True}\",\"Rinse Program Step 5/6: blow for 60s\",\"[250318-13:41:25] Load stopped at voltage mean = 4.11986141204834 and stdev = 1.093001251841383\"]\\n'\n",
      "status r code 200\n",
      "status:  b'[\"State: RINSING\",\"Arm State: DOWN\",\"Rinse 1 tank: 950 mL\",\"Rinse 2 tank: 950 mL\",\"Waste tank: 0 mL\",\"Relay status: {\\'arm-up\\': False, \\'arm-down\\': True, \\'rinse1\\': False, \\'rinse2\\': False, \\'blow\\': True, \\'piston-vent\\': False, \\'postsample\\': True}\",\"Rinse Program Step 5/6: blow for 60s\",\"[250318-13:41:25] Load stopped at voltage mean = 4.11986141204834 and stdev = 1.093001251841383\"]\\n'\n",
      "status r code 200\n",
      "status:  b'[\"State: RINSED\",\"Arm State: DOWN\",\"Rinse 1 tank: 950 mL\",\"Rinse 2 tank: 950 mL\",\"Waste tank: 0 mL\",\"Relay status: {\\'arm-up\\': False, \\'arm-down\\': True, \\'rinse1\\': False, \\'rinse2\\': False, \\'blow\\': False, \\'piston-vent\\': False, \\'postsample\\': False}\",\"Not Rinsing\",\"[250318-13:41:25] Load stopped at voltage mean = 4.11986141204834 and stdev = 1.093001251841383\"]\\n'\n",
      "status r code 200\n",
      "status:  b'[\"State: RINSED\",\"Arm State: DOWN\",\"Rinse 1 tank: 950 mL\",\"Rinse 2 tank: 950 mL\",\"Waste tank: 0 mL\",\"Relay status: {\\'arm-up\\': False, \\'arm-down\\': True, \\'rinse1\\': False, \\'rinse2\\': False, \\'blow\\': False, \\'piston-vent\\': False, \\'postsample\\': False}\",\"Not Rinsing\",\"[250318-13:41:25] Load stopped at voltage mean = 4.11986141204834 and stdev = 1.093001251841383\"]\\n'\n",
      "status r code 200\n",
      "status:  b'[\"State: READY\",\"Arm State: UP\",\"Rinse 1 tank: 950 mL\",\"Rinse 2 tank: 950 mL\",\"Waste tank: 0 mL\",\"Relay status: {\\'arm-up\\': True, \\'arm-down\\': False, \\'rinse1\\': False, \\'rinse2\\': False, \\'blow\\': False, \\'piston-vent\\': True, \\'postsample\\': False}\",\"Not Rinsing\",\"[250318-13:41:25] Load stopped at voltage mean = 4.11986141204834 and stdev = 1.093001251841383\"]\\n'\n",
      "status r code 200\n",
      "status:  b'[\"State: READY\",\"Arm State: UP\",\"Rinse 1 tank: 950 mL\",\"Rinse 2 tank: 950 mL\",\"Waste tank: 0 mL\",\"Relay status: {\\'arm-up\\': True, \\'arm-down\\': False, \\'rinse1\\': False, \\'rinse2\\': False, \\'blow\\': False, \\'piston-vent\\': True, \\'postsample\\': False}\",\"Not Rinsing\",\"[250318-13:41:25] Load stopped at voltage mean = 4.11986141204834 and stdev = 1.093001251841383\"]\\n'\n"
     ]
    }
   ],
   "source": [
    "psl.prepare_cell()"
   ]
  },
  {
   "cell_type": "code",
   "execution_count": 75,
   "id": "c078a481-8628-45ca-ac1f-612a769e70a7",
   "metadata": {},
   "outputs": [],
   "source": [
    "jubilee.park_tool()"
   ]
  },
  {
   "cell_type": "code",
   "execution_count": 105,
   "id": "756861b8-9121-4691-badd-6acb8f7f25f8",
   "metadata": {
    "scrolled": true
   },
   "outputs": [
    {
     "name": "stdout",
     "output_type": "stream",
     "text": [
      "Loaded syringe, remaining volume 0 uL\n",
      "breaking dispense into 1 of volume 2746.0\n",
      "Loaded syringe, remaining volume 0 uL\n",
      "breaking dispense into 2 of volume 752.0\n",
      "remaining vol:  949.0\n",
      "remaining vol:  949.0\n",
      "added water\n",
      "breaking dispense into 1 of volume 733.0\n",
      "remaining vol:  949.0\n",
      "added ammonia\n",
      "Loaded syringe, remaining volume 0 uL\n",
      "breaking dispense into 3 of volume 900.0\n",
      "Rinsing 1cc_4\n",
      "Loaded syringe, remaining volume 0 uL\n",
      "added 2700 f127\n",
      "Loaded syringe, remaining volume 0 uL\n",
      "breaking dispense into 3 of volume 730.0\n",
      "Rinsing 1cc_4\n",
      "Loaded syringe, remaining volume 0 uL\n",
      "added 2190 uL CTAB\n",
      "mixed samples\n",
      "breaking dispense into 1 of volume 131.0\n",
      "Time from start to TEOS addition: 834.8138771057129 s\n",
      "########## Complete ############\n",
      "status r code 200\n",
      "status:  b'[\"State: READY\",\"Arm State: UP\",\"Rinse 1 tank: 950 mL\",\"Rinse 2 tank: 950 mL\",\"Waste tank: 0 mL\",\"Relay status: {\\'arm-up\\': True, \\'arm-down\\': False, \\'rinse1\\': False, \\'rinse2\\': False, \\'blow\\': False, \\'piston-vent\\': True, \\'postsample\\': False}\",\"Not Rinsing\",\"[250318-13:12:29] Load stopped at voltage mean = 4.554690399169922 and stdev = 0.8692652191057839\"]\\n'\n",
      "status r code 200\n",
      "status:  b'[\"State: READY\",\"Arm State: UP\",\"Rinse 1 tank: 950 mL\",\"Rinse 2 tank: 950 mL\",\"Waste tank: 0 mL\",\"Relay status: {\\'arm-up\\': True, \\'arm-down\\': False, \\'rinse1\\': False, \\'rinse2\\': False, \\'blow\\': False, \\'piston-vent\\': True, \\'postsample\\': False}\",\"Not Rinsing\",\"[250318-13:12:29] Load stopped at voltage mean = 4.554690399169922 and stdev = 0.8692652191057839\"]\\n'\n",
      "status r code 200\n",
      "status:  b'[\"State: READY\",\"Arm State: UP\",\"Rinse 1 tank: 950 mL\",\"Rinse 2 tank: 950 mL\",\"Waste tank: 0 mL\",\"Relay status: {\\'arm-up\\': True, \\'arm-down\\': False, \\'rinse1\\': False, \\'rinse2\\': False, \\'blow\\': False, \\'piston-vent\\': True, \\'postsample\\': False}\",\"Not Rinsing\",\"[250318-13:12:29] Load stopped at voltage mean = 4.554690399169922 and stdev = 0.8692652191057839\"]\\n'\n",
      "status r code 200\n",
      "status:  b'[\"State: READY\",\"Arm State: UP\",\"Rinse 1 tank: 950 mL\",\"Rinse 2 tank: 950 mL\",\"Waste tank: 0 mL\",\"Relay status: {\\'arm-up\\': True, \\'arm-down\\': False, \\'rinse1\\': False, \\'rinse2\\': False, \\'blow\\': False, \\'piston-vent\\': True, \\'postsample\\': False}\",\"Not Rinsing\",\"[250318-13:12:29] Load stopped at voltage mean = 4.554690399169922 and stdev = 0.8692652191057839\"]\\n'\n",
      "status r code 200\n",
      "status:  b'[\"State: READY\",\"Arm State: UP\",\"Rinse 1 tank: 950 mL\",\"Rinse 2 tank: 950 mL\",\"Waste tank: 0 mL\",\"Relay status: {\\'arm-up\\': True, \\'arm-down\\': False, \\'rinse1\\': False, \\'rinse2\\': False, \\'blow\\': False, \\'piston-vent\\': True, \\'postsample\\': False}\",\"Not Rinsing\",\"[250318-13:12:29] Load stopped at voltage mean = 4.554690399169922 and stdev = 0.8692652191057839\"]\\n'\n",
      "status r code 200\n",
      "status:  b'[\"State: LOAD IN PROGRESS\",\"Arm State: DOWN\",\"Rinse 1 tank: 950 mL\",\"Rinse 2 tank: 950 mL\",\"Waste tank: 0 mL\",\"Relay status: {\\'arm-up\\': False, \\'arm-down\\': True, \\'rinse1\\': False, \\'rinse2\\': False, \\'blow\\': False, \\'piston-vent\\': False, \\'postsample\\': True}\",\"Not Rinsing\",\"Taking baseline data for 3 s.\"]\\n'\n",
      "status r code 200\n",
      "status:  b'[\"State: LOAD IN PROGRESS\",\"Arm State: DOWN\",\"Rinse 1 tank: 950 mL\",\"Rinse 2 tank: 950 mL\",\"Waste tank: 0 mL\",\"Relay status: {\\'arm-up\\': False, \\'arm-down\\': True, \\'rinse1\\': False, \\'rinse2\\': False, \\'blow\\': False, \\'piston-vent\\': False, \\'postsample\\': True}\",\"Not Rinsing\",\"Taking baseline data for 3 s.\"]\\n'\n",
      "status r code 200\n",
      "status:  b'[\"State: LOAD IN PROGRESS\",\"Arm State: DOWN\",\"Rinse 1 tank: 950 mL\",\"Rinse 2 tank: 950 mL\",\"Waste tank: 0 mL\",\"Relay status: {\\'arm-up\\': False, \\'arm-down\\': True, \\'rinse1\\': False, \\'rinse2\\': False, \\'blow\\': False, \\'piston-vent\\': False, \\'postsample\\': True}\",\"Not Rinsing\",\"Taking baseline data for 3 s.\"]\\n'\n",
      "status r code 200\n",
      "status:  b'[\"State: LOAD IN PROGRESS\",\"Arm State: DOWN\",\"Rinse 1 tank: 950 mL\",\"Rinse 2 tank: 950 mL\",\"Waste tank: 0 mL\",\"Relay status: {\\'arm-up\\': False, \\'arm-down\\': True, \\'rinse1\\': False, \\'rinse2\\': False, \\'blow\\': False, \\'piston-vent\\': False, \\'postsample\\': True}\",\"Not Rinsing\",\"Found baseline at 2.08838134765625\"]\\n'\n",
      "status r code 200\n",
      "status:  b'[\"State: LOAD IN PROGRESS\",\"Arm State: DOWN\",\"Rinse 1 tank: 950 mL\",\"Rinse 2 tank: 950 mL\",\"Waste tank: 0 mL\",\"Relay status: {\\'arm-up\\': False, \\'arm-down\\': True, \\'rinse1\\': False, \\'rinse2\\': False, \\'blow\\': False, \\'piston-vent\\': False, \\'postsample\\': True}\",\"Not Rinsing\",\"Found baseline at 2.08838134765625\"]\\n'\n",
      "status r code 200\n",
      "status:  b'[\"State: LOAD IN PROGRESS\",\"Arm State: DOWN\",\"Rinse 1 tank: 950 mL\",\"Rinse 2 tank: 950 mL\",\"Waste tank: 0 mL\",\"Relay status: {\\'arm-up\\': False, \\'arm-down\\': True, \\'rinse1\\': False, \\'rinse2\\': False, \\'blow\\': False, \\'piston-vent\\': False, \\'postsample\\': True}\",\"Not Rinsing\",\"Found baseline at 2.08838134765625\"]\\n'\n",
      "status r code 200\n",
      "status:  b'[\"State: LOAD IN PROGRESS\",\"Arm State: DOWN\",\"Rinse 1 tank: 950 mL\",\"Rinse 2 tank: 950 mL\",\"Waste tank: 0 mL\",\"Relay status: {\\'arm-up\\': False, \\'arm-down\\': True, \\'rinse1\\': False, \\'rinse2\\': False, \\'blow\\': False, \\'piston-vent\\': False, \\'postsample\\': True}\",\"Not Rinsing\",\"Found baseline at 2.08838134765625\"]\\n'\n",
      "status r code 200\n",
      "status:  b'[\"State: LOAD IN PROGRESS\",\"Arm State: DOWN\",\"Rinse 1 tank: 950 mL\",\"Rinse 2 tank: 950 mL\",\"Waste tank: 0 mL\",\"Relay status: {\\'arm-up\\': False, \\'arm-down\\': True, \\'rinse1\\': False, \\'rinse2\\': False, \\'blow\\': False, \\'piston-vent\\': False, \\'postsample\\': True}\",\"Not Rinsing\",\"Found baseline at 2.08838134765625\"]\\n'\n",
      "status r code 200\n",
      "status:  b'[\"State: LOAD IN PROGRESS\",\"Arm State: DOWN\",\"Rinse 1 tank: 950 mL\",\"Rinse 2 tank: 950 mL\",\"Waste tank: 0 mL\",\"Relay status: {\\'arm-up\\': False, \\'arm-down\\': True, \\'rinse1\\': False, \\'rinse2\\': False, \\'blow\\': False, \\'piston-vent\\': False, \\'postsample\\': True}\",\"Not Rinsing\",\"Found baseline at 2.08838134765625\"]\\n'\n",
      "status r code 200\n",
      "status:  b'[\"State: LOAD IN PROGRESS\",\"Arm State: DOWN\",\"Rinse 1 tank: 950 mL\",\"Rinse 2 tank: 950 mL\",\"Waste tank: 0 mL\",\"Relay status: {\\'arm-up\\': False, \\'arm-down\\': True, \\'rinse1\\': False, \\'rinse2\\': False, \\'blow\\': False, \\'piston-vent\\': False, \\'postsample\\': True}\",\"Not Rinsing\",\"Found baseline at 2.08838134765625\"]\\n'\n",
      "status r code 200\n",
      "status:  b'[\"State: LOAD IN PROGRESS\",\"Arm State: DOWN\",\"Rinse 1 tank: 950 mL\",\"Rinse 2 tank: 950 mL\",\"Waste tank: 0 mL\",\"Relay status: {\\'arm-up\\': False, \\'arm-down\\': True, \\'rinse1\\': False, \\'rinse2\\': False, \\'blow\\': False, \\'piston-vent\\': False, \\'postsample\\': True}\",\"Not Rinsing\",\"Found baseline at 2.08838134765625\"]\\n'\n",
      "status r code 200\n",
      "status:  b'[\"State: LOAD IN PROGRESS\",\"Arm State: DOWN\",\"Rinse 1 tank: 950 mL\",\"Rinse 2 tank: 950 mL\",\"Waste tank: 0 mL\",\"Relay status: {\\'arm-up\\': False, \\'arm-down\\': True, \\'rinse1\\': False, \\'rinse2\\': False, \\'blow\\': False, \\'piston-vent\\': False, \\'postsample\\': True}\",\"Not Rinsing\",\"Found baseline at 2.08838134765625\"]\\n'\n",
      "status r code 200\n",
      "status:  b'[\"State: LOAD IN PROGRESS\",\"Arm State: DOWN\",\"Rinse 1 tank: 950 mL\",\"Rinse 2 tank: 950 mL\",\"Waste tank: 0 mL\",\"Relay status: {\\'arm-up\\': False, \\'arm-down\\': True, \\'rinse1\\': False, \\'rinse2\\': False, \\'blow\\': False, \\'piston-vent\\': False, \\'postsample\\': True}\",\"Not Rinsing\",\"Found baseline at 2.08838134765625\"]\\n'\n",
      "status r code 200\n",
      "status:  b'[\"State: LOAD IN PROGRESS\",\"Arm State: DOWN\",\"Rinse 1 tank: 950 mL\",\"Rinse 2 tank: 950 mL\",\"Waste tank: 0 mL\",\"Relay status: {\\'arm-up\\': False, \\'arm-down\\': True, \\'rinse1\\': False, \\'rinse2\\': False, \\'blow\\': False, \\'piston-vent\\': False, \\'postsample\\': True}\",\"Not Rinsing\",\"Found baseline at 2.08838134765625\"]\\n'\n",
      "status r code 200\n",
      "status:  b'[\"State: LOAD IN PROGRESS\",\"Arm State: DOWN\",\"Rinse 1 tank: 950 mL\",\"Rinse 2 tank: 950 mL\",\"Waste tank: 0 mL\",\"Relay status: {\\'arm-up\\': False, \\'arm-down\\': True, \\'rinse1\\': False, \\'rinse2\\': False, \\'blow\\': False, \\'piston-vent\\': False, \\'postsample\\': True}\",\"Not Rinsing\",\"Found baseline at 2.08838134765625\"]\\n'\n",
      "status r code 200\n",
      "status:  b'[\"State: LOAD IN PROGRESS\",\"Arm State: DOWN\",\"Rinse 1 tank: 950 mL\",\"Rinse 2 tank: 950 mL\",\"Waste tank: 0 mL\",\"Relay status: {\\'arm-up\\': False, \\'arm-down\\': True, \\'rinse1\\': False, \\'rinse2\\': False, \\'blow\\': False, \\'piston-vent\\': False, \\'postsample\\': True}\",\"Not Rinsing\",\"Found baseline at 2.08838134765625\"]\\n'\n",
      "status r code 200\n",
      "status:  b'[\"State: LOAD IN PROGRESS\",\"Arm State: DOWN\",\"Rinse 1 tank: 950 mL\",\"Rinse 2 tank: 950 mL\",\"Waste tank: 0 mL\",\"Relay status: {\\'arm-up\\': False, \\'arm-down\\': True, \\'rinse1\\': False, \\'rinse2\\': False, \\'blow\\': False, \\'piston-vent\\': False, \\'postsample\\': True}\",\"Not Rinsing\",\"Found baseline at 2.08838134765625\"]\\n'\n",
      "status r code 200\n",
      "status:  b'[\"State: LOAD IN PROGRESS\",\"Arm State: DOWN\",\"Rinse 1 tank: 950 mL\",\"Rinse 2 tank: 950 mL\",\"Waste tank: 0 mL\",\"Relay status: {\\'arm-up\\': False, \\'arm-down\\': True, \\'rinse1\\': False, \\'rinse2\\': False, \\'blow\\': False, \\'piston-vent\\': False, \\'postsample\\': True}\",\"Not Rinsing\",\"Found baseline at 2.08838134765625\"]\\n'\n",
      "status r code 200\n",
      "status:  b'[\"State: LOAD IN PROGRESS\",\"Arm State: DOWN\",\"Rinse 1 tank: 950 mL\",\"Rinse 2 tank: 950 mL\",\"Waste tank: 0 mL\",\"Relay status: {\\'arm-up\\': False, \\'arm-down\\': True, \\'rinse1\\': False, \\'rinse2\\': False, \\'blow\\': False, \\'piston-vent\\': False, \\'postsample\\': True}\",\"Not Rinsing\",\"Found baseline at 2.08838134765625\"]\\n'\n",
      "status r code 200\n",
      "status:  b'[\"State: LOAD IN PROGRESS\",\"Arm State: DOWN\",\"Rinse 1 tank: 950 mL\",\"Rinse 2 tank: 950 mL\",\"Waste tank: 0 mL\",\"Relay status: {\\'arm-up\\': False, \\'arm-down\\': True, \\'rinse1\\': False, \\'rinse2\\': False, \\'blow\\': False, \\'piston-vent\\': False, \\'postsample\\': True}\",\"Not Rinsing\",\"Found baseline at 2.08838134765625\"]\\n'\n",
      "status r code 200\n",
      "status:  b'[\"State: LOAD IN PROGRESS\",\"Arm State: DOWN\",\"Rinse 1 tank: 950 mL\",\"Rinse 2 tank: 950 mL\",\"Waste tank: 0 mL\",\"Relay status: {\\'arm-up\\': False, \\'arm-down\\': True, \\'rinse1\\': False, \\'rinse2\\': False, \\'blow\\': False, \\'piston-vent\\': False, \\'postsample\\': True}\",\"Not Rinsing\",\"Found baseline at 2.08838134765625\"]\\n'\n",
      "status r code 200\n",
      "status:  b'[\"State: LOAD IN PROGRESS\",\"Arm State: DOWN\",\"Rinse 1 tank: 950 mL\",\"Rinse 2 tank: 950 mL\",\"Waste tank: 0 mL\",\"Relay status: {\\'arm-up\\': False, \\'arm-down\\': True, \\'rinse1\\': False, \\'rinse2\\': False, \\'blow\\': False, \\'piston-vent\\': False, \\'postsample\\': True}\",\"Not Rinsing\",\"Found baseline at 2.08838134765625\"]\\n'\n",
      "status r code 200\n",
      "status:  b'[\"State: LOAD IN PROGRESS\",\"Arm State: DOWN\",\"Rinse 1 tank: 950 mL\",\"Rinse 2 tank: 950 mL\",\"Waste tank: 0 mL\",\"Relay status: {\\'arm-up\\': False, \\'arm-down\\': True, \\'rinse1\\': False, \\'rinse2\\': False, \\'blow\\': False, \\'piston-vent\\': False, \\'postsample\\': True}\",\"Not Rinsing\",\"Found baseline at 2.08838134765625\"]\\n'\n",
      "status r code 200\n",
      "status:  b'[\"State: LOAD IN PROGRESS\",\"Arm State: DOWN\",\"Rinse 1 tank: 950 mL\",\"Rinse 2 tank: 950 mL\",\"Waste tank: 0 mL\",\"Relay status: {\\'arm-up\\': False, \\'arm-down\\': True, \\'rinse1\\': False, \\'rinse2\\': False, \\'blow\\': False, \\'piston-vent\\': False, \\'postsample\\': True}\",\"Not Rinsing\",\"Found baseline at 2.08838134765625\"]\\n'\n",
      "status r code 200\n",
      "status:  b'[\"State: LOADED\",\"Arm State: DOWN\",\"Rinse 1 tank: 950 mL\",\"Rinse 2 tank: 950 mL\",\"Waste tank: 0 mL\",\"Relay status: {\\'arm-up\\': False, \\'arm-down\\': True, \\'rinse1\\': False, \\'rinse2\\': False, \\'blow\\': False, \\'piston-vent\\': False, \\'postsample\\': False}\",\"Not Rinsing\",\"[250318-13:41:25] Load stopped at voltage mean = 4.11986141204834 and stdev = 1.093001251841383\"]\\n'\n"
     ]
    },
    {
     "ename": "FileNotFoundError",
     "evalue": "[Errno 2] No such file or directory: './usaxs_queue/packet.txt'",
     "output_type": "error",
     "traceback": [
      "\u001b[0;31m---------------------------------------------------------------------------\u001b[0m",
      "\u001b[0;31mFileNotFoundError\u001b[0m                         Traceback (most recent call last)",
      "Cell \u001b[0;32mIn[105], line 35\u001b[0m\n\u001b[1;32m     32\u001b[0m \u001b[38;5;28mprint\u001b[39m(\u001b[38;5;124m'\u001b[39m\u001b[38;5;124m########## Complete ############\u001b[39m\u001b[38;5;124m'\u001b[39m)\n\u001b[1;32m     34\u001b[0m psl\u001b[38;5;241m.\u001b[39mload_sample(mix_syringe, well, \u001b[38;5;241m1500\u001b[39m)\n\u001b[0;32m---> 35\u001b[0m \u001b[43musaxs_utils\u001b[49m\u001b[38;5;241;43m.\u001b[39;49m\u001b[43mtrigger_usaxs_measurement\u001b[49m\u001b[43m(\u001b[49m\u001b[43msample_name\u001b[49m\u001b[43m,\u001b[49m\u001b[43m \u001b[49m\u001b[43msample_uid\u001b[49m\u001b[43m,\u001b[49m\u001b[43m \u001b[49m\u001b[38;5;124;43m'\u001b[39;49m\u001b[38;5;124;43mControlComposition\u001b[39;49m\u001b[38;5;124;43m'\u001b[39;49m\u001b[43m)\u001b[49m\n\u001b[1;32m     37\u001b[0m mix_syringe\u001b[38;5;241m.\u001b[39mset_pulsewidth(mix_syringe\u001b[38;5;241m.\u001b[39mempty_position\u001b[38;5;241m-\u001b[39m\u001b[38;5;241m1\u001b[39m)\n\u001b[1;32m     38\u001b[0m mix_syringe\u001b[38;5;241m.\u001b[39mload_syringe(\u001b[38;5;241m0\u001b[39m, mix_syringe\u001b[38;5;241m.\u001b[39mempty_position\u001b[38;5;241m-\u001b[39m\u001b[38;5;241m1\u001b[39m)\n",
      "File \u001b[0;32m~/Code/silica-np-synthesis/APS/../usaxs_utils.py:20\u001b[0m, in \u001b[0;36mtrigger_usaxs_measurement\u001b[0;34m(sample_name, sample_uuid, sample_composition)\u001b[0m\n\u001b[1;32m     16\u001b[0m \u001b[38;5;28;01mdef\u001b[39;00m \u001b[38;5;21mtrigger_usaxs_measurement\u001b[39m(sample_name, sample_uuid, sample_composition):\n\u001b[1;32m     18\u001b[0m     trigger_data \u001b[38;5;241m=\u001b[39m trigger_data \u001b[38;5;241m=\u001b[39m [datetime\u001b[38;5;241m.\u001b[39mdatetime\u001b[38;5;241m.\u001b[39mnow()\u001b[38;5;241m.\u001b[39mstrftime(date_format), sample_name, sample_composition, sample_uuid]\n\u001b[0;32m---> 20\u001b[0m     \u001b[38;5;28;01mwith\u001b[39;00m \u001b[38;5;28;43mopen\u001b[39;49m\u001b[43m(\u001b[49m\u001b[38;5;124;43mf\u001b[39;49m\u001b[38;5;124;43m'\u001b[39;49m\u001b[38;5;132;43;01m{\u001b[39;49;00m\u001b[43mlocal_working_directory\u001b[49m\u001b[38;5;132;43;01m}\u001b[39;49;00m\u001b[38;5;124;43m/\u001b[39;49m\u001b[38;5;132;43;01m{\u001b[39;49;00m\u001b[43mdata_package_filename\u001b[49m\u001b[38;5;132;43;01m}\u001b[39;49;00m\u001b[38;5;124;43m'\u001b[39;49m\u001b[43m,\u001b[49m\u001b[43m \u001b[49m\u001b[38;5;124;43m'\u001b[39;49m\u001b[38;5;124;43mwt\u001b[39;49m\u001b[38;5;124;43m'\u001b[39;49m\u001b[43m)\u001b[49m \u001b[38;5;28;01mas\u001b[39;00m f:\n\u001b[1;32m     21\u001b[0m         \u001b[38;5;28;01mfor\u001b[39;00m entry \u001b[38;5;129;01min\u001b[39;00m trigger_data:\n\u001b[1;32m     22\u001b[0m             f\u001b[38;5;241m.\u001b[39mwrite(entry \u001b[38;5;241m+\u001b[39m \u001b[38;5;124m'\u001b[39m\u001b[38;5;130;01m\\n\u001b[39;00m\u001b[38;5;124m'\u001b[39m)\n",
      "\u001b[0;31mFileNotFoundError\u001b[0m: [Errno 2] No such file or directory: './usaxs_queue/packet.txt'"
     ]
    }
   ],
   "source": [
    "\n",
    "start_time = time.time()\n",
    "\n",
    "#add ethanol\n",
    "stober.reactant_transfer(jubilee, mix_syringe, ethanol_stocks, well, etoh_vol, 500)\n",
    "\n",
    "#add water\n",
    "stober.add_reactants_batch(jubilee, water_syringe, mix_syringe, sample_table_select, location_lookup, 'water_volume', water_stocks, dwell_time = 7)\n",
    "print(f'added water')\n",
    "#add ammonia\n",
    "stober.add_reactants_batch(jubilee, ammonia_syringe, mix_syringe, sample_table_select, location_lookup, 'ammonia_volume', ammonia_stocks, dwell_time = 10, refill_dwell=5)\n",
    "print('added ammonia')\n",
    "# add F127\n",
    "\n",
    "stober.reactant_transfer(jubilee, surfactant_syringe, f127_stocks, well, f127_volume, 50, rinse_stocks=rinse_stocks_precursor)\n",
    "print(f'added {f127_volume} f127')\n",
    "\n",
    "stober.reactant_transfer(jubilee, surfactant_syringe, ctab_stocks, well, ctab_volume, 50, rinse_stocks=rinse_stocks_precursor)\n",
    "print(f'added {ctab_volume} uL CTAB')\n",
    "# mix precursors\n",
    "\n",
    "stober.first_mix(jubilee, mix_syringe, 5000, location_lookup_selected, rinse_stocks_precursor, 3, n_rinse = 1)\n",
    "print('mixed samples')\n",
    "# add teos\n",
    "teos_add_time = stober.add_reactants_batch(jubilee, teos_syringe, mix_syringe, sample_table_select, location_lookup, 'teos_volume', teos_stocks, mix_after=(8000, 5, rinse_stocks_teos), wait = False, n_rinse = 1, return_time = True)\n",
    "\n",
    "logger.info(f'Added TEOS to sample {ind} at {time.strftime(\"%H:%M\", time.localtime(teos_add_time))}')\n",
    "\n",
    "print(f'Time from start to TEOS addition: {teos_add_time - start_time} s')\n",
    "\n",
    "time.sleep(reaction_time - (time.time() - teos_add_time))\n",
    "\n",
    "print('########## Complete ############')\n",
    "\n",
    "psl.load_sample(mix_syringe, well, 1500)\n",
    "usaxs_utils.trigger_usaxs_measurement(sample_name, sample_uid, 'ControlComposition')\n",
    "\n",
    "mix_syringe.set_pulsewidth(mix_syringe.empty_position-1)\n",
    "mix_syringe.load_syringe(0, mix_syringe.empty_position-1)\n",
    "\n",
    "print(f'Time to load: {(time.time() - start_time)/60}')\n",
    "jubilee.pickup_tool(mix_syringe)\n",
    "for stock in rinse_stocks_teos:\n",
    "    mix_syringe.mix(5000, 3, stock, s_aspirate = 2000, s_dispense = 1000)\n",
    "\n",
    "jubilee.park_tool()\n",
    "\n",
    "end_time = time.time()\n",
    "\n",
    "print(f'Total sample time: {(end_time - start_time)/60}')\n",
    "\n",
    "\n"
   ]
  },
  {
   "cell_type": "code",
   "execution_count": 109,
   "id": "46fd2e18-c4f5-4a5a-8702-ef751ed389ca",
   "metadata": {},
   "outputs": [
    {
     "name": "stdout",
     "output_type": "stream",
     "text": [
      "trigger data:  ['2025-03-28 01:54:10', 'Control_3', 'ControlComposition', '3']\n",
      "Error copying file: Command '['scp', '-i', '/Users/bgpelkie/silica-np-opt-key.pem', './usaxs_queue/packet.txt', 'ubuntu@18.216.44.137:~/usaxs_queue/']' returned non-zero exit status 255.\n"
     ]
    }
   ],
   "source": [
    "usaxs_utils.trigger_usaxs_measurement(sample_name, sample_uid, 'ControlComposition')\n",
    "\n"
   ]
  },
  {
   "cell_type": "code",
   "execution_count": 110,
   "id": "8fa1a60d-f1ae-47b1-b440-0675ccad420e",
   "metadata": {},
   "outputs": [
    {
     "name": "stdout",
     "output_type": "stream",
     "text": [
      "Loaded syringe, remaining volume 0 uL\n",
      "Time to load: 28.008575713634492\n",
      "Total sample time: 29.92096585035324\n"
     ]
    }
   ],
   "source": [
    "mix_syringe.set_pulsewidth(mix_syringe.empty_position-1)\n",
    "mix_syringe.load_syringe(0, mix_syringe.empty_position-1)\n",
    "\n",
    "print(f'Time to load: {(time.time() - start_time)/60}')\n",
    "jubilee.pickup_tool(mix_syringe)\n",
    "for stock in rinse_stocks_teos:\n",
    "    mix_syringe.mix(5000, 3, stock, s_aspirate = 2000, s_dispense = 1000)\n",
    "\n",
    "jubilee.park_tool()\n",
    "\n",
    "end_time = time.time()\n",
    "\n",
    "print(f'Total sample time: {(end_time - start_time)/60}')\n"
   ]
  },
  {
   "cell_type": "code",
   "execution_count": null,
   "id": "bad8771f-7f82-4a50-b99a-209f85988f04",
   "metadata": {},
   "outputs": [],
   "source": []
  },
  {
   "cell_type": "code",
   "execution_count": null,
   "id": "6670d8ca-8838-4602-8277-7ec900de28c5",
   "metadata": {},
   "outputs": [],
   "source": []
  }
 ],
 "metadata": {
  "kernelspec": {
   "display_name": "Python 3 (ipykernel)",
   "language": "python",
   "name": "python3"
  },
  "language_info": {
   "codemirror_mode": {
    "name": "ipython",
    "version": 3
   },
   "file_extension": ".py",
   "mimetype": "text/x-python",
   "name": "python",
   "nbconvert_exporter": "python",
   "pygments_lexer": "ipython3",
   "version": "3.9.19"
  }
 },
 "nbformat": 4,
 "nbformat_minor": 5
}
