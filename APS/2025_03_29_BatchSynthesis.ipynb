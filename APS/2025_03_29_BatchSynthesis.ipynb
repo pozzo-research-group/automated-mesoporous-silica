{
 "cells": [
  {
   "cell_type": "markdown",
   "id": "110d0499-187d-47cb-b3bd-52e828f810d0",
   "metadata": {},
   "source": [
    "## Setup"
   ]
  },
  {
   "cell_type": "code",
   "execution_count": 1,
   "id": "023a9737-b2dd-4151-af0b-67ea2aeb7386",
   "metadata": {},
   "outputs": [],
   "source": [
    "%load_ext autoreload\n",
    "%autoreload 2"
   ]
  },
  {
   "cell_type": "code",
   "execution_count": 2,
   "id": "a8305f4f-98d9-46aa-b3a5-aef3875465c8",
   "metadata": {},
   "outputs": [],
   "source": [
    "import requests\n",
    "\n",
    "# ----------- Science Jubilee -------------\n",
    "from science_jubilee import Machine as Jub\n",
    "from science_jubilee.tools import HTTPSyringe as syringe\n",
    "from science_jubilee.tools import Pipette, PneumaticSampleLoader\n",
    "from science_jubilee.utils import Handlers\n",
    "import time\n",
    "import numpy as np\n",
    "import pandas as pd\n",
    "import logging\n",
    "import sys\n",
    "import json\n",
    "sys.path.append('..')\n",
    "import stober_synthesis_utils as stober\n",
    "import usaxs_utils\n",
    "import uuid"
   ]
  },
  {
   "cell_type": "code",
   "execution_count": 4,
   "id": "741d8279-cea5-4680-bb1b-e3089af0d8cf",
   "metadata": {},
   "outputs": [],
   "source": [
    "with open('systemconfig.json', 'rt') as f:\n",
    "    config = json.load(f)\n",
    "\n",
    "#usaxs_server_ip = config['sample_server']['ip_address']\n",
    "\n",
    "#afl_ip = '192.168.1.4'\n",
    "\n",
    "reaction_time = 5*60"
   ]
  },
  {
   "cell_type": "code",
   "execution_count": 5,
   "id": "39e0dd27-900a-4151-ad77-cae178e545d7",
   "metadata": {},
   "outputs": [],
   "source": [
    "FORMAT = '%(asctime)s:%(levelname)s:%(name)s:%(message)s'\n",
    "logging.basicConfig(filename = 'APS_batchSynthesis_2025_03_29.log', level = logging.INFO, format = FORMAT)\n",
    "logger = logging.getLogger(__name__)"
   ]
  },
  {
   "cell_type": "code",
   "execution_count": 6,
   "id": "bb05bc51-e88d-493a-b7ae-ec244bab05d1",
   "metadata": {
    "scrolled": true
   },
   "outputs": [
    {
     "name": "stdout",
     "output_type": "stream",
     "text": [
      "0\n",
      "response in connect:  [True, True, True, True]\n"
     ]
    }
   ],
   "source": [
    "jubilee = Jub.Machine(address='192.168.1.2', simulated = False, crash_detection = False) "
   ]
  },
  {
   "cell_type": "code",
   "execution_count": 7,
   "id": "3fa12ac1-cd52-42b9-829b-1eca23762195",
   "metadata": {},
   "outputs": [],
   "source": [
    "deck = jubilee.load_deck('lab_automation_deck_AFL_bolton.json')"
   ]
  },
  {
   "cell_type": "raw",
   "id": "23f14450-b2fd-46b7-82b2-a17b1061fde5",
   "metadata": {
    "scrolled": true
   },
   "source": [
    "[(31.1, 169.0), (121.1, 169.0), (121.1, 113.0)]#jubilee.home_all()\n",
    "logger.info('Homed Jubilee')"
   ]
  },
  {
   "cell_type": "code",
   "execution_count": 61,
   "id": "d2505692-e098-4cf7-954a-b2ac9d91e06f",
   "metadata": {},
   "outputs": [],
   "source": [
    "sample_table = pd.read_csv('Mesoporous_SobolBaseline_APS_BatchMode_3_29_25.csv')\n",
    "#sample_table_2 = pd.read_csv('SampleTable_ReproReplicates_10000.csv')\n"
   ]
  },
  {
   "cell_type": "code",
   "execution_count": 62,
   "id": "837e0e81-efec-4bef-a622-8f41dfce8f89",
   "metadata": {},
   "outputs": [
    {
     "data": {
      "text/html": [
       "<div>\n",
       "<style scoped>\n",
       "    .dataframe tbody tr th:only-of-type {\n",
       "        vertical-align: middle;\n",
       "    }\n",
       "\n",
       "    .dataframe tbody tr th {\n",
       "        vertical-align: top;\n",
       "    }\n",
       "\n",
       "    .dataframe thead th {\n",
       "        text-align: right;\n",
       "    }\n",
       "</style>\n",
       "<table border=\"1\" class=\"dataframe\">\n",
       "  <thead>\n",
       "    <tr style=\"text-align: right;\">\n",
       "      <th></th>\n",
       "      <th>Unnamed: 0</th>\n",
       "      <th>sample_name</th>\n",
       "      <th>uuid</th>\n",
       "      <th>teos_volume</th>\n",
       "      <th>ammonia_volume</th>\n",
       "      <th>water_volume</th>\n",
       "      <th>ethanol_volume</th>\n",
       "      <th>ctab_volume</th>\n",
       "      <th>F127_volume</th>\n",
       "    </tr>\n",
       "  </thead>\n",
       "  <tbody>\n",
       "    <tr>\n",
       "      <th>0</th>\n",
       "      <td>0</td>\n",
       "      <td>SobolBatch_control_1</td>\n",
       "      <td>5dfdbe5e-3f38-44de-b9db-65c72c27f02e</td>\n",
       "      <td>495.350825</td>\n",
       "      <td>482.903414</td>\n",
       "      <td>2348.633956</td>\n",
       "      <td>2721.331679</td>\n",
       "      <td>1907.180170</td>\n",
       "      <td>2044.599948</td>\n",
       "    </tr>\n",
       "    <tr>\n",
       "      <th>1</th>\n",
       "      <td>1</td>\n",
       "      <td>SobolBatch_control_2</td>\n",
       "      <td>93780a39-35f5-4c85-963b-2fde66396c78</td>\n",
       "      <td>495.350825</td>\n",
       "      <td>482.903414</td>\n",
       "      <td>2348.633956</td>\n",
       "      <td>2721.331679</td>\n",
       "      <td>1907.180170</td>\n",
       "      <td>2044.599948</td>\n",
       "    </tr>\n",
       "    <tr>\n",
       "      <th>2</th>\n",
       "      <td>2</td>\n",
       "      <td>SobolBatch_control_3</td>\n",
       "      <td>00afc63f-86d3-41a0-9f37-8d56c6d1abfd</td>\n",
       "      <td>495.350825</td>\n",
       "      <td>482.903414</td>\n",
       "      <td>2348.633956</td>\n",
       "      <td>2721.331679</td>\n",
       "      <td>1907.180170</td>\n",
       "      <td>2044.599948</td>\n",
       "    </tr>\n",
       "    <tr>\n",
       "      <th>3</th>\n",
       "      <td>3</td>\n",
       "      <td>SobolBatch_1</td>\n",
       "      <td>83caa81b-c9ac-4b2f-b7b6-97a05c42f277</td>\n",
       "      <td>828.725197</td>\n",
       "      <td>715.494259</td>\n",
       "      <td>4322.187697</td>\n",
       "      <td>2101.010854</td>\n",
       "      <td>1758.191916</td>\n",
       "      <td>274.390077</td>\n",
       "    </tr>\n",
       "    <tr>\n",
       "      <th>4</th>\n",
       "      <td>4</td>\n",
       "      <td>SobolBatch_2</td>\n",
       "      <td>285271f3-055d-4edd-9cdd-3322ed1140ed</td>\n",
       "      <td>739.415980</td>\n",
       "      <td>217.202421</td>\n",
       "      <td>5575.832160</td>\n",
       "      <td>1553.807338</td>\n",
       "      <td>1114.764602</td>\n",
       "      <td>798.977500</td>\n",
       "    </tr>\n",
       "    <tr>\n",
       "      <th>...</th>\n",
       "      <td>...</td>\n",
       "      <td>...</td>\n",
       "      <td>...</td>\n",
       "      <td>...</td>\n",
       "      <td>...</td>\n",
       "      <td>...</td>\n",
       "      <td>...</td>\n",
       "      <td>...</td>\n",
       "      <td>...</td>\n",
       "    </tr>\n",
       "    <tr>\n",
       "      <th>81</th>\n",
       "      <td>81</td>\n",
       "      <td>SobolBatch_76</td>\n",
       "      <td>4de2e734-e313-400b-b4e5-2817f8478e1c</td>\n",
       "      <td>178.102264</td>\n",
       "      <td>483.436935</td>\n",
       "      <td>247.239871</td>\n",
       "      <td>1971.350346</td>\n",
       "      <td>2567.553040</td>\n",
       "      <td>4552.317543</td>\n",
       "    </tr>\n",
       "    <tr>\n",
       "      <th>82</th>\n",
       "      <td>82</td>\n",
       "      <td>SobolBatch_77</td>\n",
       "      <td>db17e40c-71da-4e97-8660-7918dee0e954</td>\n",
       "      <td>154.427788</td>\n",
       "      <td>165.795203</td>\n",
       "      <td>3574.276972</td>\n",
       "      <td>3582.069010</td>\n",
       "      <td>1169.978902</td>\n",
       "      <td>1353.452124</td>\n",
       "    </tr>\n",
       "    <tr>\n",
       "      <th>83</th>\n",
       "      <td>83</td>\n",
       "      <td>SobolBatch_78</td>\n",
       "      <td>f0cd21ec-eaad-4b54-aeae-d5a3bf6f5c0b</td>\n",
       "      <td>388.439717</td>\n",
       "      <td>282.341696</td>\n",
       "      <td>1445.897968</td>\n",
       "      <td>2000.454765</td>\n",
       "      <td>3792.703204</td>\n",
       "      <td>2090.162650</td>\n",
       "    </tr>\n",
       "    <tr>\n",
       "      <th>84</th>\n",
       "      <td>84</td>\n",
       "      <td>SobolBatch_79</td>\n",
       "      <td>50909d33-3594-4edc-b54e-5c1dcdde3094</td>\n",
       "      <td>245.405401</td>\n",
       "      <td>715.307893</td>\n",
       "      <td>3713.554608</td>\n",
       "      <td>3199.979417</td>\n",
       "      <td>2047.251681</td>\n",
       "      <td>78.500999</td>\n",
       "    </tr>\n",
       "    <tr>\n",
       "      <th>85</th>\n",
       "      <td>85</td>\n",
       "      <td>SobolBatch_80</td>\n",
       "      <td>b71f16b8-5fc5-44cd-8882-04a69a6a4aaf</td>\n",
       "      <td>942.821475</td>\n",
       "      <td>597.692047</td>\n",
       "      <td>677.848639</td>\n",
       "      <td>1719.010091</td>\n",
       "      <td>5488.712982</td>\n",
       "      <td>573.914766</td>\n",
       "    </tr>\n",
       "  </tbody>\n",
       "</table>\n",
       "<p>86 rows × 9 columns</p>\n",
       "</div>"
      ],
      "text/plain": [
       "    Unnamed: 0           sample_name                                  uuid  \\\n",
       "0            0  SobolBatch_control_1  5dfdbe5e-3f38-44de-b9db-65c72c27f02e   \n",
       "1            1  SobolBatch_control_2  93780a39-35f5-4c85-963b-2fde66396c78   \n",
       "2            2  SobolBatch_control_3  00afc63f-86d3-41a0-9f37-8d56c6d1abfd   \n",
       "3            3          SobolBatch_1  83caa81b-c9ac-4b2f-b7b6-97a05c42f277   \n",
       "4            4          SobolBatch_2  285271f3-055d-4edd-9cdd-3322ed1140ed   \n",
       "..         ...                   ...                                   ...   \n",
       "81          81         SobolBatch_76  4de2e734-e313-400b-b4e5-2817f8478e1c   \n",
       "82          82         SobolBatch_77  db17e40c-71da-4e97-8660-7918dee0e954   \n",
       "83          83         SobolBatch_78  f0cd21ec-eaad-4b54-aeae-d5a3bf6f5c0b   \n",
       "84          84         SobolBatch_79  50909d33-3594-4edc-b54e-5c1dcdde3094   \n",
       "85          85         SobolBatch_80  b71f16b8-5fc5-44cd-8882-04a69a6a4aaf   \n",
       "\n",
       "    teos_volume  ammonia_volume  water_volume  ethanol_volume  ctab_volume  \\\n",
       "0    495.350825      482.903414   2348.633956     2721.331679  1907.180170   \n",
       "1    495.350825      482.903414   2348.633956     2721.331679  1907.180170   \n",
       "2    495.350825      482.903414   2348.633956     2721.331679  1907.180170   \n",
       "3    828.725197      715.494259   4322.187697     2101.010854  1758.191916   \n",
       "4    739.415980      217.202421   5575.832160     1553.807338  1114.764602   \n",
       "..          ...             ...           ...             ...          ...   \n",
       "81   178.102264      483.436935    247.239871     1971.350346  2567.553040   \n",
       "82   154.427788      165.795203   3574.276972     3582.069010  1169.978902   \n",
       "83   388.439717      282.341696   1445.897968     2000.454765  3792.703204   \n",
       "84   245.405401      715.307893   3713.554608     3199.979417  2047.251681   \n",
       "85   942.821475      597.692047    677.848639     1719.010091  5488.712982   \n",
       "\n",
       "    F127_volume  \n",
       "0   2044.599948  \n",
       "1   2044.599948  \n",
       "2   2044.599948  \n",
       "3    274.390077  \n",
       "4    798.977500  \n",
       "..          ...  \n",
       "81  4552.317543  \n",
       "82  1353.452124  \n",
       "83  2090.162650  \n",
       "84    78.500999  \n",
       "85   573.914766  \n",
       "\n",
       "[86 rows x 9 columns]"
      ]
     },
     "execution_count": 62,
     "metadata": {},
     "output_type": "execute_result"
    }
   ],
   "source": [
    "sample_table"
   ]
  },
  {
   "cell_type": "markdown",
   "id": "b8f140ff-c5f8-494d-bd58-093982edd086",
   "metadata": {},
   "source": [
    "## Load Tools"
   ]
  },
  {
   "cell_type": "code",
   "execution_count": 17,
   "id": "d73bac24-917c-4c8c-8c30-494146511312",
   "metadata": {},
   "outputs": [
    {
     "name": "stdout",
     "output_type": "stream",
     "text": [
      "Syringe name:  10cc_1\n",
      "{'capacity': 10000, 'empty_position': 1830, 'full_position': 1217, 'name': '10cc_1'}\n",
      "Syringe name:  1cc_1\n",
      "{'capacity': 1000, 'empty_position': 1845, 'full_position': 1240, 'name': '1cc_1'}\n",
      "Syringe name:  1cc_2_hamilton\n",
      "{'capacity': 1000, 'empty_position': 1753, 'full_position': 1120, 'name': '1cc_2_hamilton'}\n",
      "Syringe name:  1cc_3_hamilton\n",
      "{'capacity': 1000, 'empty_position': 1753, 'full_position': 1120, 'name': '1cc_3_hamilton'}\n",
      "Syringe name:  1cc_4\n",
      "{'capacity': 1000, 'empty_position': 1845, 'full_position': 1240, 'name': '1cc_4'}\n"
     ]
    }
   ],
   "source": [
    "syringe_10 = syringe.HTTPSyringe.from_config(2, \"../../science-jubilee/src/science_jubilee/tools/configs/10cc_syringe.json\")\n",
    "syringe_1_1 = syringe.HTTPSyringe.from_config(1, \"../../science-jubilee/src/science_jubilee/tools/configs/1cc_1_syringe.json\")\n",
    "syringe_1_2 = syringe.HTTPSyringe.from_config(3, \"../../science-jubilee/src/science_jubilee/tools/configs/1cc_2_Hamiltonsyringe.json\")\n",
    "syringe_1_3 = syringe.HTTPSyringe.from_config(4, \"../../science-jubilee/src/science_jubilee/tools/configs/1cc_3_Hamiltonsyringe.json\")\n",
    "syringe_1_4 = syringe.HTTPSyringe.from_config(0, '../../science-jubilee/src/science_jubilee/tools/configs/1cc_4_syringe.json')"
   ]
  },
  {
   "cell_type": "code",
   "execution_count": 18,
   "id": "9448524a-f60e-43fd-ae53-0a51c87e6035",
   "metadata": {
    "scrolled": true
   },
   "outputs": [],
   "source": [
    "jubilee.load_tool(syringe_10)\n",
    "jubilee.load_tool(syringe_1_1)\n",
    "jubilee.load_tool(syringe_1_2)\n",
    "jubilee.load_tool(syringe_1_3)\n",
    "jubilee.load_tool(syringe_1_4)"
   ]
  },
  {
   "cell_type": "code",
   "execution_count": 19,
   "id": "21127bbe-632c-4ec0-84f9-57d9772a90db",
   "metadata": {},
   "outputs": [],
   "source": [
    "mix_syringe = syringe_10\n",
    "water_syringe = syringe_1_1\n",
    "ammonia_syringe = syringe_1_2\n",
    "teos_syringe = syringe_1_3\n",
    "surfactant_syringe = syringe_1_4"
   ]
  },
  {
   "cell_type": "markdown",
   "id": "e1d880ae-d253-43f5-995f-d2619e29c78a",
   "metadata": {},
   "source": [
    "## Load water syringe with water"
   ]
  },
  {
   "cell_type": "code",
   "execution_count": 182,
   "id": "fa91aafe-663a-4ea2-86df-e996c41d8f37",
   "metadata": {},
   "outputs": [
    {
     "name": "stdout",
     "output_type": "stream",
     "text": [
      "Loaded syringe, remaining volume 600 uL\n"
     ]
    }
   ],
   "source": [
    "water_syringe.load_syringe(600, 1500)"
   ]
  },
  {
   "cell_type": "code",
   "execution_count": 183,
   "id": "bb1ecb81-f858-4ab6-8a1e-b5a85f432f54",
   "metadata": {
    "scrolled": true
   },
   "outputs": [],
   "source": [
    "water_syringe.set_pulsewidth(water_syringe.empty_position-1, s = 2000)"
   ]
  },
  {
   "cell_type": "code",
   "execution_count": 184,
   "id": "80aff25d-bae2-478d-bc07-4b4f11bd5e05",
   "metadata": {},
   "outputs": [
    {
     "name": "stdout",
     "output_type": "stream",
     "text": [
      "Loaded syringe, remaining volume 0 uL\n"
     ]
    }
   ],
   "source": [
    "water_syringe.load_syringe(0, water_syringe.empty_position - 1)"
   ]
  },
  {
   "cell_type": "markdown",
   "id": "8ea5df3b-0ad5-4dbb-ad3f-089a2d5f2bd1",
   "metadata": {},
   "source": [
    "## Load ammonia syringe"
   ]
  },
  {
   "cell_type": "code",
   "execution_count": 38,
   "id": "87a366e4-d389-4830-b923-0a932968add9",
   "metadata": {},
   "outputs": [],
   "source": [
    "#ammonia_syringe.set_pulsewidth(1420, s = 10)"
   ]
  },
  {
   "cell_type": "code",
   "execution_count": 142,
   "id": "0b36ffcf-ec60-4ee2-b2ae-5fb6895fd16c",
   "metadata": {},
   "outputs": [
    {
     "name": "stdout",
     "output_type": "stream",
     "text": [
      "Loaded syringe, remaining volume 600 uL\n"
     ]
    }
   ],
   "source": [
    "ammonia_syringe.load_syringe(600, 1500)"
   ]
  },
  {
   "cell_type": "code",
   "execution_count": 227,
   "id": "497e2cad-9387-4815-9398-58651b8d9826",
   "metadata": {},
   "outputs": [],
   "source": [
    "ammonia_syringe.set_pulsewidth(ammonia_syringe.empty_position-1, s = 2000)"
   ]
  },
  {
   "cell_type": "code",
   "execution_count": 228,
   "id": "977a0aa9-0c2f-4625-8765-dcc32bbb60a7",
   "metadata": {},
   "outputs": [],
   "source": [
    "ammonia_syringe.set_pulsewidth(ammonia_syringe.full_position+1, s = 10)"
   ]
  },
  {
   "cell_type": "code",
   "execution_count": null,
   "id": "7762afd8-2300-4277-820e-80f3c5283f78",
   "metadata": {},
   "outputs": [],
   "source": []
  },
  {
   "cell_type": "code",
   "execution_count": 229,
   "id": "b5be2527-8c06-4465-8e44-41f410149cd7",
   "metadata": {},
   "outputs": [
    {
     "name": "stdout",
     "output_type": "stream",
     "text": [
      "Loaded syringe, remaining volume 850 uL\n"
     ]
    }
   ],
   "source": [
    "ammonia_syringe.load_syringe(850, ammonia_syringe.full_position-1)"
   ]
  },
  {
   "cell_type": "markdown",
   "id": "e2c53ecf-d14a-4536-8062-9e7af8c51ba8",
   "metadata": {},
   "source": [
    "## Load TEOS syringe"
   ]
  },
  {
   "cell_type": "code",
   "execution_count": 43,
   "id": "22a73a10-c727-45c9-a653-1716b97e7d51",
   "metadata": {},
   "outputs": [
    {
     "name": "stdout",
     "output_type": "stream",
     "text": [
      "Loaded syringe, remaining volume 600 uL\n"
     ]
    }
   ],
   "source": [
    "teos_syringe.load_syringe(600, 1500)"
   ]
  },
  {
   "cell_type": "code",
   "execution_count": 44,
   "id": "2a4274ac-3472-452b-9368-56f36ed8d078",
   "metadata": {},
   "outputs": [],
   "source": [
    "teos_syringe.set_pulsewidth(teos_syringe.empty_position-1, s = 2000)"
   ]
  },
  {
   "cell_type": "code",
   "execution_count": 45,
   "id": "cf5154eb-2d59-4bd8-90c2-86c3374a662d",
   "metadata": {},
   "outputs": [
    {
     "name": "stdout",
     "output_type": "stream",
     "text": [
      "Loaded syringe, remaining volume 0 uL\n"
     ]
    }
   ],
   "source": [
    "teos_syringe.load_syringe(0, teos_syringe.empty_position - 1)"
   ]
  },
  {
   "cell_type": "markdown",
   "id": "ad1ac96b-3d53-4da1-aa2c-a8c2386280f8",
   "metadata": {},
   "source": [
    "## load ethanol syringe"
   ]
  },
  {
   "cell_type": "code",
   "execution_count": 66,
   "id": "f1caaf1a-900c-43ed-a57b-754b0d62aa37",
   "metadata": {},
   "outputs": [],
   "source": [
    "#jubilee.park_tool()"
   ]
  },
  {
   "cell_type": "code",
   "execution_count": 211,
   "id": "94db4b0e-3075-4b45-91f7-9bc2817a2e31",
   "metadata": {},
   "outputs": [
    {
     "name": "stdout",
     "output_type": "stream",
     "text": [
      "Loaded syringe, remaining volume 0 uL\n"
     ]
    }
   ],
   "source": [
    "mix_syringe.load_syringe(0, mix_syringe.empty_position-1)"
   ]
  },
  {
   "cell_type": "code",
   "execution_count": 212,
   "id": "f53b6f7e-62d6-43fc-b2bf-a2e1aebdf313",
   "metadata": {},
   "outputs": [],
   "source": [
    "mix_syringe.set_pulsewidth(mix_syringe.empty_position-1, s = 2000)\n"
   ]
  },
  {
   "cell_type": "raw",
   "id": "81b6812b-897c-4425-bbcd-8a4c8c7a2af0",
   "metadata": {},
   "source": [
    "## Don't need to load surfactant syringe"
   ]
  },
  {
   "cell_type": "code",
   "execution_count": 226,
   "id": "41b13b04-c72e-4861-a124-ea99f567d762",
   "metadata": {},
   "outputs": [
    {
     "name": "stdout",
     "output_type": "stream",
     "text": [
      "Loaded syringe, remaining volume 0 uL\n"
     ]
    }
   ],
   "source": [
    "surfactant_syringe.set_pulsewidth(surfactant_syringe.empty_position-1)\n",
    "surfactant_syringe.load_syringe(0, surfactant_syringe.empty_position-1)"
   ]
  },
  {
   "cell_type": "markdown",
   "id": "43d1f97d-4c55-40d3-ac5b-9c3a3f1062ed",
   "metadata": {},
   "source": [
    "## Load labware\n"
   ]
  },
  {
   "cell_type": "code",
   "execution_count": 230,
   "id": "19b4bfa8-6878-4b0b-a564-369faa361b1c",
   "metadata": {
    "scrolled": true
   },
   "outputs": [
    {
     "name": "stdout",
     "output_type": "stream",
     "text": [
      "New manual offset applied to 20mlscintillation_12_wellplate_18000ul\n"
     ]
    }
   ],
   "source": [
    "samples_1 = jubilee.load_labware('20mlscintillation_12_wellplate_18000ul.json', 2)\n",
    "samples_1.manual_offset([(30.8, 168.0), (121.3, 168.3), (121.3, 112.6)])"
   ]
  },
  {
   "cell_type": "raw",
   "id": "eb16c464-ca18-4a99-a963-b0d896ebbda1",
   "metadata": {},
   "source": [
    "samples_2 = jubilee.load_labware('20mlscintillation_12_wellplate_18000ul.json', 0)\n",
    "samples_2.manual_offset([(31.8, 72.0), (121.8, 72.0), (121.8, 18.0)])"
   ]
  },
  {
   "cell_type": "code",
   "execution_count": 231,
   "id": "19ad67cc-b0a8-4c1f-8d6a-60b173599c82",
   "metadata": {},
   "outputs": [
    {
     "name": "stdout",
     "output_type": "stream",
     "text": [
      "New manual offset applied to 20mlscintillation_12_wellplate_18000ul\n"
     ]
    }
   ],
   "source": [
    "stocks_1 = jubilee.load_labware('20mlscintillation_12_wellplate_18000ul.json', 4)\n",
    "stocks_1.manual_offset([(30.1, 264.5), (121.1, 264.5), (121.1, 208.5)])"
   ]
  },
  {
   "cell_type": "code",
   "execution_count": 232,
   "id": "83faa194-456f-4909-ba9a-cbfe6dfec397",
   "metadata": {},
   "outputs": [
    {
     "name": "stdout",
     "output_type": "stream",
     "text": [
      "New manual offset applied to 20mlscintillation_12_wellplate_18000ul\n"
     ]
    }
   ],
   "source": [
    "stocks_2 = jubilee.load_labware('20mlscintillation_12_wellplate_18000ul.json', 4)\n",
    "stocks_2.manual_offset([(171.1, 264.8), (260.8, 265.0), (260.8, 209.0)])"
   ]
  },
  {
   "cell_type": "code",
   "execution_count": 233,
   "id": "ecccab44-a2cc-4a5d-9463-1d2305ae5844",
   "metadata": {},
   "outputs": [],
   "source": [
    "samples = stober.SampleWells({'samples_1':samples_1})"
   ]
  },
  {
   "cell_type": "code",
   "execution_count": 234,
   "id": "f7395271-1a02-4f11-883f-34a8456f0a05",
   "metadata": {},
   "outputs": [],
   "source": [
    "teos_stocks = stober.Stocks([stocks_1[0], stocks_1[1]], usable_volume= 17000)\n",
    "ammonia_stocks = stober.Stocks([stocks_1[2]], usable_volume= 17000)\n",
    "water_stocks = stober.Stocks([stocks_1[3], stocks_1[4], stocks_1[5]], usable_volume= 17000)\n",
    "ethanol_stocks = stober.Stocks([stocks_1[6], stocks_1[7], stocks_1[8], stocks_1[9]], usable_volume = 17000)\n",
    "f127_stocks = stober.Stocks([stocks_1[10], stocks_1[11], stocks_2[0]], usable_volume = 17000)\n",
    "ctab_stocks = stober.Stocks([stocks_2[1], stocks_2[2], stocks_2[3], stocks_2[4]], usable_volume= 17000)\n",
    "\n",
    "rinse_stocks_precursor = [stocks_2[5], stocks_2[6], stocks_2[7]]\n",
    "rinse_stocks_teos = [stocks_2[8], stocks_2[9], stocks_2[10], stocks_2[11]]"
   ]
  },
  {
   "cell_type": "markdown",
   "id": "4bd30fe3-5be6-4ea7-a61d-357272d3e8a4",
   "metadata": {
    "jp-MarkdownHeadingCollapsed": true
   },
   "source": [
    "## Check sample alignment"
   ]
  },
  {
   "cell_type": "code",
   "execution_count": null,
   "id": "c9812014-546b-461b-b5ee-3980e36753b2",
   "metadata": {},
   "outputs": [],
   "source": []
  },
  {
   "cell_type": "code",
   "execution_count": 28,
   "id": "2327a808-30c9-49a6-8448-3c4806f411c3",
   "metadata": {},
   "outputs": [
    {
     "data": {
      "text/plain": [
       "68.5"
      ]
     },
     "execution_count": 28,
     "metadata": {},
     "output_type": "execute_result"
    }
   ],
   "source": [
    "jubilee.deck.safe_z"
   ]
  },
  {
   "cell_type": "code",
   "execution_count": 193,
   "id": "25a4d272-6e56-4649-ba7a-5e04e922c043",
   "metadata": {},
   "outputs": [
    {
     "name": "stdout",
     "output_type": "stream",
     "text": [
      "168.0\n"
     ]
    },
    {
     "name": "stdin",
     "output_type": "stream",
     "text": [
      "Is the tip centered over sample Well A1 form 20mLscintillation 12 Well Plate 18000 µL on slot 2? \n"
     ]
    },
    {
     "name": "stdout",
     "output_type": "stream",
     "text": [
      "168.05000006867903\n"
     ]
    },
    {
     "name": "stdin",
     "output_type": "stream",
     "text": [
      "Is the tip centered over sample Well A2 form 20mLscintillation 12 Well Plate 18000 µL on slot 2? \n"
     ]
    },
    {
     "name": "stdout",
     "output_type": "stream",
     "text": [
      "168.10000013735805\n"
     ]
    },
    {
     "name": "stdin",
     "output_type": "stream",
     "text": [
      "Is the tip centered over sample Well A3 form 20mLscintillation 12 Well Plate 18000 µL on slot 2? \n"
     ]
    },
    {
     "name": "stdout",
     "output_type": "stream",
     "text": [
      "168.15000020603708\n"
     ]
    },
    {
     "name": "stdin",
     "output_type": "stream",
     "text": [
      "Is the tip centered over sample Well A4 form 20mLscintillation 12 Well Plate 18000 µL on slot 2? \n"
     ]
    },
    {
     "name": "stdout",
     "output_type": "stream",
     "text": [
      "140.15003825403778\n"
     ]
    },
    {
     "name": "stdin",
     "output_type": "stream",
     "text": [
      "Is the tip centered over sample Well B1 form 20mLscintillation 12 Well Plate 18000 µL on slot 2? \n"
     ]
    },
    {
     "name": "stdout",
     "output_type": "stream",
     "text": [
      "140.2000383227168\n"
     ]
    },
    {
     "name": "stdin",
     "output_type": "stream",
     "text": [
      "Is the tip centered over sample Well B2 form 20mLscintillation 12 Well Plate 18000 µL on slot 2? \n"
     ]
    },
    {
     "name": "stdout",
     "output_type": "stream",
     "text": [
      "140.25003839139583\n"
     ]
    },
    {
     "name": "stdin",
     "output_type": "stream",
     "text": [
      "Is the tip centered over sample Well B3 form 20mLscintillation 12 Well Plate 18000 µL on slot 2? \n"
     ]
    },
    {
     "name": "stdout",
     "output_type": "stream",
     "text": [
      "140.30003846007486\n"
     ]
    },
    {
     "name": "stdin",
     "output_type": "stream",
     "text": [
      "Is the tip centered over sample Well B4 form 20mLscintillation 12 Well Plate 18000 µL on slot 2? \n"
     ]
    },
    {
     "name": "stdout",
     "output_type": "stream",
     "text": [
      "112.30007650807556\n"
     ]
    },
    {
     "name": "stdin",
     "output_type": "stream",
     "text": [
      "Is the tip centered over sample Well C1 form 20mLscintillation 12 Well Plate 18000 µL on slot 2? \n"
     ]
    },
    {
     "name": "stdout",
     "output_type": "stream",
     "text": [
      "112.35007657675459\n"
     ]
    },
    {
     "name": "stdin",
     "output_type": "stream",
     "text": [
      "Is the tip centered over sample Well C2 form 20mLscintillation 12 Well Plate 18000 µL on slot 2? \n"
     ]
    },
    {
     "name": "stdout",
     "output_type": "stream",
     "text": [
      "112.40007664543361\n"
     ]
    },
    {
     "name": "stdin",
     "output_type": "stream",
     "text": [
      "Is the tip centered over sample Well C3 form 20mLscintillation 12 Well Plate 18000 µL on slot 2? \n"
     ]
    },
    {
     "name": "stdout",
     "output_type": "stream",
     "text": [
      "112.45007671411264\n"
     ]
    },
    {
     "name": "stdin",
     "output_type": "stream",
     "text": [
      "Is the tip centered over sample Well C4 form 20mLscintillation 12 Well Plate 18000 µL on slot 2? \n"
     ]
    }
   ],
   "source": [
    "jubilee.pickup_tool(water_syringe)\n",
    "for loc in samples_1:\n",
    "    jubilee.safe_z_movement()\n",
    "    jubilee.move_to(x = loc.x, y = loc.y)\n",
    "    print(loc.y)\n",
    "    jubilee.move_to(z = loc.top_+7)\n",
    "    curr_well = loc\n",
    "    ans = input(f'Is the tip centered over sample {curr_well}?')\n",
    "    if ans == 'y':\n",
    "        continue\n",
    "    else:\n",
    "        continue\n",
    "    "
   ]
  },
  {
   "cell_type": "code",
   "execution_count": 49,
   "id": "79b6af8b-5894-4549-80bf-8187ea5963ee",
   "metadata": {},
   "outputs": [
    {
     "data": {
      "text/html": [
       "<div>\n",
       "<style scoped>\n",
       "    .dataframe tbody tr th:only-of-type {\n",
       "        vertical-align: middle;\n",
       "    }\n",
       "\n",
       "    .dataframe tbody tr th {\n",
       "        vertical-align: top;\n",
       "    }\n",
       "\n",
       "    .dataframe thead th {\n",
       "        text-align: right;\n",
       "    }\n",
       "</style>\n",
       "<table border=\"1\" class=\"dataframe\">\n",
       "  <thead>\n",
       "    <tr style=\"text-align: right;\">\n",
       "      <th></th>\n",
       "      <th>Unnamed: 0</th>\n",
       "      <th>uuid</th>\n",
       "      <th>teos_volume</th>\n",
       "      <th>ammonia_volume</th>\n",
       "      <th>water_volume</th>\n",
       "      <th>ethanol_volume</th>\n",
       "      <th>dilution_volume_fraction</th>\n",
       "      <th>silica_mass_conc</th>\n",
       "      <th>silica_mass_fraction</th>\n",
       "      <th>well</th>\n",
       "    </tr>\n",
       "  </thead>\n",
       "  <tbody>\n",
       "    <tr>\n",
       "      <th>0</th>\n",
       "      <td>0</td>\n",
       "      <td>82c085e1-a523-40ce-9e89-4fa0bf546525</td>\n",
       "      <td>214.491</td>\n",
       "      <td>538.3935</td>\n",
       "      <td>1249.9815</td>\n",
       "      <td>7997.134</td>\n",
       "      <td>2.965909</td>\n",
       "      <td>2.025686</td>\n",
       "      <td>0.002527</td>\n",
       "      <td>B2</td>\n",
       "    </tr>\n",
       "    <tr>\n",
       "      <th>1</th>\n",
       "      <td>1</td>\n",
       "      <td>747534b1-7370-49a5-bdc1-4fce5227f391</td>\n",
       "      <td>214.491</td>\n",
       "      <td>538.3935</td>\n",
       "      <td>1249.9815</td>\n",
       "      <td>7997.134</td>\n",
       "      <td>2.965909</td>\n",
       "      <td>2.025686</td>\n",
       "      <td>0.002527</td>\n",
       "      <td>B3</td>\n",
       "    </tr>\n",
       "    <tr>\n",
       "      <th>2</th>\n",
       "      <td>2</td>\n",
       "      <td>e5f6e82f-0282-46c8-be77-d8914adca9b5</td>\n",
       "      <td>214.491</td>\n",
       "      <td>538.3935</td>\n",
       "      <td>1249.9815</td>\n",
       "      <td>7997.134</td>\n",
       "      <td>2.965909</td>\n",
       "      <td>2.025686</td>\n",
       "      <td>0.002527</td>\n",
       "      <td>B4</td>\n",
       "    </tr>\n",
       "    <tr>\n",
       "      <th>3</th>\n",
       "      <td>3</td>\n",
       "      <td>c87ac840-ddde-43ab-a8e3-b5e3eb5a273d</td>\n",
       "      <td>214.491</td>\n",
       "      <td>538.3935</td>\n",
       "      <td>1249.9815</td>\n",
       "      <td>7997.134</td>\n",
       "      <td>2.965909</td>\n",
       "      <td>2.025686</td>\n",
       "      <td>0.002527</td>\n",
       "      <td>C1</td>\n",
       "    </tr>\n",
       "    <tr>\n",
       "      <th>4</th>\n",
       "      <td>4</td>\n",
       "      <td>d034d82c-e329-484c-91cc-75ea655a1446</td>\n",
       "      <td>214.491</td>\n",
       "      <td>538.3935</td>\n",
       "      <td>1249.9815</td>\n",
       "      <td>7997.134</td>\n",
       "      <td>2.965909</td>\n",
       "      <td>2.025686</td>\n",
       "      <td>0.002527</td>\n",
       "      <td>C2</td>\n",
       "    </tr>\n",
       "  </tbody>\n",
       "</table>\n",
       "</div>"
      ],
      "text/plain": [
       "   Unnamed: 0                                  uuid  teos_volume  \\\n",
       "0           0  82c085e1-a523-40ce-9e89-4fa0bf546525      214.491   \n",
       "1           1  747534b1-7370-49a5-bdc1-4fce5227f391      214.491   \n",
       "2           2  e5f6e82f-0282-46c8-be77-d8914adca9b5      214.491   \n",
       "3           3  c87ac840-ddde-43ab-a8e3-b5e3eb5a273d      214.491   \n",
       "4           4  d034d82c-e329-484c-91cc-75ea655a1446      214.491   \n",
       "\n",
       "   ammonia_volume  water_volume  ethanol_volume  dilution_volume_fraction  \\\n",
       "0        538.3935     1249.9815        7997.134                  2.965909   \n",
       "1        538.3935     1249.9815        7997.134                  2.965909   \n",
       "2        538.3935     1249.9815        7997.134                  2.965909   \n",
       "3        538.3935     1249.9815        7997.134                  2.965909   \n",
       "4        538.3935     1249.9815        7997.134                  2.965909   \n",
       "\n",
       "   silica_mass_conc  silica_mass_fraction well  \n",
       "0          2.025686              0.002527   B2  \n",
       "1          2.025686              0.002527   B3  \n",
       "2          2.025686              0.002527   B4  \n",
       "3          2.025686              0.002527   C1  \n",
       "4          2.025686              0.002527   C2  "
      ]
     },
     "execution_count": 49,
     "metadata": {},
     "output_type": "execute_result"
    }
   ],
   "source": [
    "sample_table"
   ]
  },
  {
   "cell_type": "code",
   "execution_count": 194,
   "id": "a52572b9-48d6-4bf1-acb2-19c7ac5c6fb8",
   "metadata": {},
   "outputs": [],
   "source": [
    "jubilee.park_tool()\n"
   ]
  },
  {
   "cell_type": "code",
   "execution_count": 106,
   "id": "2b09450e-d3bd-4e25-b944-993721a3b997",
   "metadata": {},
   "outputs": [
    {
     "name": "stdout",
     "output_type": "stream",
     "text": [
      "175.8614659806774\n"
     ]
    }
   ],
   "source": [
    "loc = samples['A8']\n",
    "jubilee.move_to(x = loc.x, y = loc.y)\n",
    "print(loc.y)\n",
    "jubilee.move_to(z = loc.top_+7)"
   ]
  },
  {
   "cell_type": "code",
   "execution_count": null,
   "id": "f14516c5-472d-4913-910d-d2ff2ff01e1f",
   "metadata": {},
   "outputs": [],
   "source": []
  },
  {
   "cell_type": "markdown",
   "id": "b9dff3f4-8be6-4f73-b343-6221f8df76dc",
   "metadata": {},
   "source": [
    "# Experiment\n"
   ]
  },
  {
   "cell_type": "code",
   "execution_count": 166,
   "id": "9fde8560-9b8c-45df-be6b-1e23fdd26bb4",
   "metadata": {},
   "outputs": [],
   "source": [
    "jubilee.park_tool()"
   ]
  },
  {
   "cell_type": "markdown",
   "id": "e2ddb62c-d3f3-4c45-917a-e575189606c9",
   "metadata": {},
   "source": [
    "## add ethanol"
   ]
  },
  {
   "cell_type": "code",
   "execution_count": null,
   "id": "e40420b4-321f-4de3-adb3-1aaa6e95e82a",
   "metadata": {},
   "outputs": [],
   "source": []
  },
  {
   "cell_type": "code",
   "execution_count": 243,
   "id": "94908353-847e-4f1c-9b15-f32f9064dbe1",
   "metadata": {},
   "outputs": [],
   "source": [
    "sample_table_batch5 = sample_table.iloc[61:69]"
   ]
  },
  {
   "cell_type": "code",
   "execution_count": null,
   "id": "239c8fef-73e5-4d2e-9fd8-2323fde54352",
   "metadata": {},
   "outputs": [],
   "source": []
  },
  {
   "cell_type": "code",
   "execution_count": 244,
   "id": "31d17e51-8ac7-41f0-9ed6-7ed9487e8dbf",
   "metadata": {},
   "outputs": [
    {
     "data": {
      "text/html": [
       "<div>\n",
       "<style scoped>\n",
       "    .dataframe tbody tr th:only-of-type {\n",
       "        vertical-align: middle;\n",
       "    }\n",
       "\n",
       "    .dataframe tbody tr th {\n",
       "        vertical-align: top;\n",
       "    }\n",
       "\n",
       "    .dataframe thead th {\n",
       "        text-align: right;\n",
       "    }\n",
       "</style>\n",
       "<table border=\"1\" class=\"dataframe\">\n",
       "  <thead>\n",
       "    <tr style=\"text-align: right;\">\n",
       "      <th></th>\n",
       "      <th>Unnamed: 0</th>\n",
       "      <th>sample_name</th>\n",
       "      <th>uuid</th>\n",
       "      <th>teos_volume</th>\n",
       "      <th>ammonia_volume</th>\n",
       "      <th>water_volume</th>\n",
       "      <th>ethanol_volume</th>\n",
       "      <th>ctab_volume</th>\n",
       "      <th>F127_volume</th>\n",
       "    </tr>\n",
       "  </thead>\n",
       "  <tbody>\n",
       "    <tr>\n",
       "      <th>61</th>\n",
       "      <td>61</td>\n",
       "      <td>SobolBatch_57</td>\n",
       "      <td>75c6771e-9849-4186-9339-6bc385c37e95</td>\n",
       "      <td>1065.100317</td>\n",
       "      <td>494.996349</td>\n",
       "      <td>2650.203092</td>\n",
       "      <td>1669.167024</td>\n",
       "      <td>2949.793529</td>\n",
       "      <td>1170.739688</td>\n",
       "    </tr>\n",
       "    <tr>\n",
       "      <th>62</th>\n",
       "      <td>62</td>\n",
       "      <td>SobolBatch_58</td>\n",
       "      <td>b989e35a-cbc7-49a2-a1b7-fc0b74e2b0ef</td>\n",
       "      <td>739.110720</td>\n",
       "      <td>677.654473</td>\n",
       "      <td>2413.160771</td>\n",
       "      <td>2257.320548</td>\n",
       "      <td>3392.849627</td>\n",
       "      <td>519.903861</td>\n",
       "    </tr>\n",
       "    <tr>\n",
       "      <th>63</th>\n",
       "      <td>63</td>\n",
       "      <td>SobolBatch_59</td>\n",
       "      <td>5bc780b1-7565-40b3-a3e6-ab28ae987cd2</td>\n",
       "      <td>451.192613</td>\n",
       "      <td>556.435907</td>\n",
       "      <td>1715.686252</td>\n",
       "      <td>1853.198976</td>\n",
       "      <td>1682.769254</td>\n",
       "      <td>3740.716998</td>\n",
       "    </tr>\n",
       "    <tr>\n",
       "      <th>64</th>\n",
       "      <td>64</td>\n",
       "      <td>SobolBatch_60</td>\n",
       "      <td>c6f1e48e-3264-47f9-8da5-0586be43894d</td>\n",
       "      <td>590.670617</td>\n",
       "      <td>362.220626</td>\n",
       "      <td>1960.168637</td>\n",
       "      <td>2429.921647</td>\n",
       "      <td>778.419743</td>\n",
       "      <td>3878.598729</td>\n",
       "    </tr>\n",
       "    <tr>\n",
       "      <th>65</th>\n",
       "      <td>65</td>\n",
       "      <td>SobolBatch_61</td>\n",
       "      <td>a7f58ce6-11ea-4da9-87e7-1a11032e29ab</td>\n",
       "      <td>831.096723</td>\n",
       "      <td>215.619671</td>\n",
       "      <td>3336.141720</td>\n",
       "      <td>1749.095358</td>\n",
       "      <td>2818.439373</td>\n",
       "      <td>1049.607156</td>\n",
       "    </tr>\n",
       "    <tr>\n",
       "      <th>66</th>\n",
       "      <td>66</td>\n",
       "      <td>SobolBatch_62</td>\n",
       "      <td>4356786c-177a-45a2-a2c9-36ce1e03c05b</td>\n",
       "      <td>108.881643</td>\n",
       "      <td>385.677889</td>\n",
       "      <td>371.634317</td>\n",
       "      <td>2380.678019</td>\n",
       "      <td>6646.212135</td>\n",
       "      <td>106.915997</td>\n",
       "    </tr>\n",
       "    <tr>\n",
       "      <th>67</th>\n",
       "      <td>67</td>\n",
       "      <td>SobolBatch_63</td>\n",
       "      <td>0d43602f-ca7c-40d3-9847-9572f02303b1</td>\n",
       "      <td>517.980390</td>\n",
       "      <td>657.302531</td>\n",
       "      <td>1343.387463</td>\n",
       "      <td>3073.434533</td>\n",
       "      <td>2182.010612</td>\n",
       "      <td>2225.884471</td>\n",
       "    </tr>\n",
       "    <tr>\n",
       "      <th>68</th>\n",
       "      <td>68</td>\n",
       "      <td>SobolBatch_64</td>\n",
       "      <td>ea2cd017-c234-4f45-826d-bd5b9f5d7b36</td>\n",
       "      <td>393.343656</td>\n",
       "      <td>239.039732</td>\n",
       "      <td>387.436567</td>\n",
       "      <td>3360.113068</td>\n",
       "      <td>3273.510721</td>\n",
       "      <td>2346.556256</td>\n",
       "    </tr>\n",
       "  </tbody>\n",
       "</table>\n",
       "</div>"
      ],
      "text/plain": [
       "    Unnamed: 0    sample_name                                  uuid  \\\n",
       "61          61  SobolBatch_57  75c6771e-9849-4186-9339-6bc385c37e95   \n",
       "62          62  SobolBatch_58  b989e35a-cbc7-49a2-a1b7-fc0b74e2b0ef   \n",
       "63          63  SobolBatch_59  5bc780b1-7565-40b3-a3e6-ab28ae987cd2   \n",
       "64          64  SobolBatch_60  c6f1e48e-3264-47f9-8da5-0586be43894d   \n",
       "65          65  SobolBatch_61  a7f58ce6-11ea-4da9-87e7-1a11032e29ab   \n",
       "66          66  SobolBatch_62  4356786c-177a-45a2-a2c9-36ce1e03c05b   \n",
       "67          67  SobolBatch_63  0d43602f-ca7c-40d3-9847-9572f02303b1   \n",
       "68          68  SobolBatch_64  ea2cd017-c234-4f45-826d-bd5b9f5d7b36   \n",
       "\n",
       "    teos_volume  ammonia_volume  water_volume  ethanol_volume  ctab_volume  \\\n",
       "61  1065.100317      494.996349   2650.203092     1669.167024  2949.793529   \n",
       "62   739.110720      677.654473   2413.160771     2257.320548  3392.849627   \n",
       "63   451.192613      556.435907   1715.686252     1853.198976  1682.769254   \n",
       "64   590.670617      362.220626   1960.168637     2429.921647   778.419743   \n",
       "65   831.096723      215.619671   3336.141720     1749.095358  2818.439373   \n",
       "66   108.881643      385.677889    371.634317     2380.678019  6646.212135   \n",
       "67   517.980390      657.302531   1343.387463     3073.434533  2182.010612   \n",
       "68   393.343656      239.039732    387.436567     3360.113068  3273.510721   \n",
       "\n",
       "    F127_volume  \n",
       "61  1170.739688  \n",
       "62   519.903861  \n",
       "63  3740.716998  \n",
       "64  3878.598729  \n",
       "65  1049.607156  \n",
       "66   106.915997  \n",
       "67  2225.884471  \n",
       "68  2346.556256  "
      ]
     },
     "execution_count": 244,
     "metadata": {},
     "output_type": "execute_result"
    }
   ],
   "source": [
    "sample_table_batch5"
   ]
  },
  {
   "cell_type": "code",
   "execution_count": null,
   "id": "b6a898b0-aa1b-49a3-9b5d-c98f14c682c2",
   "metadata": {},
   "outputs": [],
   "source": []
  },
  {
   "cell_type": "code",
   "execution_count": 245,
   "id": "268caa87-eb1d-496b-a768-6bbecbcf107a",
   "metadata": {},
   "outputs": [
    {
     "data": {
      "text/plain": [
       "8"
      ]
     },
     "execution_count": 245,
     "metadata": {},
     "output_type": "execute_result"
    }
   ],
   "source": [
    "len(sample_table_batch5)"
   ]
  },
  {
   "cell_type": "code",
   "execution_count": 246,
   "id": "ea02ea25-08a4-4804-b049-dd7a1cf2820e",
   "metadata": {},
   "outputs": [
    {
     "name": "stdin",
     "output_type": "stream",
     "text": [
      "Please home Jubilee \n"
     ]
    },
    {
     "name": "stdout",
     "output_type": "stream",
     "text": [
      "Starting sample SobolBatch_57, 75c6771e-9849-4186-9339-6bc385c37e95 in well Well B2 form 20mLscintillation 12 Well Plate 18000 µL on slot 2\n",
      "Loaded syringe, remaining volume 0 uL\n",
      "breaking dispense into 1 of volume 1669.167024015449\n",
      "Loaded syringe, remaining volume 0 uL\n",
      "breaking dispense into 4 of volume 662.5507729950671\n",
      "remaining vol:  949.0\n",
      "remaining vol:  949.0\n",
      "remaining vol:  949.0\n",
      "remaining vol:  949.0\n",
      "added water\n",
      "breaking dispense into 1 of volume 494.99634914100176\n",
      "remaining vol:  949.0\n",
      "added ammonia\n",
      "Loaded syringe, remaining volume 0 uL\n",
      "breaking dispense into 2 of volume 585.3698439896106\n",
      "Rinsing 1cc_4\n",
      "Loaded syringe, remaining volume 0 uL\n",
      "added 1170.7396879792211 f127\n",
      "Loaded syringe, remaining volume 0 uL\n",
      "breaking dispense into 4 of volume 737.4483823465805\n",
      "Rinsing 1cc_4\n",
      "Loaded syringe, remaining volume 0 uL\n",
      "added 2949.793529386322 uL CTAB\n",
      "mixed samples\n",
      "breaking dispense into 2 of volume 532.5501587488689\n",
      "remaining vol:  949.0\n",
      "remaining vol:  949.0\n",
      "Time from start to TEOS addition: 957.1395750045776 s\n",
      "########## Complete sample SobolBatch_57 ############\n"
     ]
    },
    {
     "name": "stdin",
     "output_type": "stream",
     "text": [
      "CTAB swap out required. swap ctab with fresh from the hot plate. \n"
     ]
    },
    {
     "name": "stdout",
     "output_type": "stream",
     "text": [
      "Starting sample SobolBatch_58, b989e35a-cbc7-49a2-a1b7-fc0b74e2b0ef in well Well B3 form 20mLscintillation 12 Well Plate 18000 µL on slot 2\n",
      "Loaded syringe, remaining volume 0 uL\n",
      "breaking dispense into 1 of volume 2257.320547813084\n",
      "Loaded syringe, remaining volume 0 uL\n",
      "breaking dispense into 4 of volume 603.2901927650285\n",
      "remaining vol:  949.0\n",
      "remaining vol:  949.0\n",
      "remaining vol:  949.0\n",
      "remaining vol:  949.0\n",
      "added water\n",
      "breaking dispense into 1 of volume 677.6544732972981\n",
      "remaining vol:  949.0\n",
      "added ammonia\n",
      "Loaded syringe, remaining volume 0 uL\n",
      "breaking dispense into 1 of volume 519.9038609862328\n",
      "Rinsing 1cc_4\n",
      "Loaded syringe, remaining volume 0 uL\n",
      "added 519.9038609862328 f127\n",
      "Loaded syringe, remaining volume 0 uL\n",
      "breaking dispense into 4 of volume 848.2124066601198\n",
      "Rinsing 1cc_4\n",
      "Loaded syringe, remaining volume 0 uL\n",
      "added 3392.849626640479 uL CTAB\n",
      "mixed samples\n",
      "breaking dispense into 1 of volume 739.1107202027924\n",
      "remaining vol:  949.0\n",
      "Time from start to TEOS addition: 858.3333201408386 s\n",
      "########## Complete sample SobolBatch_58 ############\n"
     ]
    },
    {
     "name": "stdin",
     "output_type": "stream",
     "text": [
      "Please home Jubilee \n"
     ]
    },
    {
     "name": "stdout",
     "output_type": "stream",
     "text": [
      "Starting sample SobolBatch_59, 5bc780b1-7565-40b3-a3e6-ab28ae987cd2 in well Well B4 form 20mLscintillation 12 Well Plate 18000 µL on slot 2\n",
      "Loaded syringe, remaining volume 0 uL\n",
      "breaking dispense into 1 of volume 1853.198975801235\n",
      "Loaded syringe, remaining volume 0 uL\n",
      "breaking dispense into 3 of volume 571.8954174432693\n",
      "remaining vol:  949.0\n",
      "remaining vol:  949.0\n",
      "remaining vol:  949.0\n",
      "added water\n",
      "breaking dispense into 1 of volume 556.4359072595836\n",
      "remaining vol:  949.0\n",
      "added ammonia\n",
      "Loaded syringe, remaining volume 0 uL\n",
      "breaking dispense into 4 of volume 935.1792493835092\n",
      "Rinsing 1cc_4\n",
      "Loaded syringe, remaining volume 0 uL\n",
      "added 3740.7169975340366 f127\n",
      "Loaded syringe, remaining volume 0 uL\n",
      "breaking dispense into 2 of volume 841.3846272354325\n",
      "Rinsing 1cc_4\n",
      "Loaded syringe, remaining volume 0 uL\n",
      "added 1682.769254470865 uL CTAB\n",
      "mixed samples\n",
      "breaking dispense into 1 of volume 451.1926126044709\n",
      "remaining vol:  949.0\n",
      "Time from start to TEOS addition: 857.3097636699677 s\n",
      "########## Complete sample SobolBatch_59 ############\n"
     ]
    },
    {
     "name": "stdin",
     "output_type": "stream",
     "text": [
      "CTAB swap out required. swap ctab with fresh from the hot plate. \n"
     ]
    },
    {
     "name": "stdout",
     "output_type": "stream",
     "text": [
      "Starting sample SobolBatch_60, c6f1e48e-3264-47f9-8da5-0586be43894d in well Well C1 form 20mLscintillation 12 Well Plate 18000 µL on slot 2\n",
      "Loaded syringe, remaining volume 0 uL\n",
      "breaking dispense into 1 of volume 2429.921646699542\n",
      "Loaded syringe, remaining volume 0 uL\n",
      "breaking dispense into 3 of volume 653.3895457903336\n",
      "remaining vol:  949.0\n",
      "remaining vol:  949.0\n",
      "remaining vol:  949.0\n",
      "added water\n",
      "breaking dispense into 1 of volume 362.2206263244152\n",
      "added ammonia\n",
      "Loaded syringe, remaining volume 0 uL\n",
      "breaking dispense into 5 of volume 775.7197458297014\n",
      "Rinsing 1cc_4\n",
      "Loaded syringe, remaining volume 0 uL\n",
      "added 3878.598729148507 f127\n",
      "Loaded syringe, remaining volume 0 uL\n",
      "breaking dispense into 1 of volume 778.4197429815929\n",
      "Rinsing 1cc_4\n",
      "Loaded syringe, remaining volume 0 uL\n",
      "added 778.4197429815929 uL CTAB\n",
      "mixed samples\n",
      "breaking dispense into 1 of volume 590.6706174749414\n",
      "remaining vol:  949.0\n",
      "Time from start to TEOS addition: 812.9036331176758 s\n",
      "########## Complete sample SobolBatch_60 ############\n"
     ]
    },
    {
     "name": "stdin",
     "output_type": "stream",
     "text": [
      "Please home Jubilee \n"
     ]
    },
    {
     "name": "stdout",
     "output_type": "stream",
     "text": [
      "Starting sample SobolBatch_61, a7f58ce6-11ea-4da9-87e7-1a11032e29ab in well Well C2 form 20mLscintillation 12 Well Plate 18000 µL on slot 2\n",
      "Loaded syringe, remaining volume 0 uL\n",
      "breaking dispense into 1 of volume 1749.0953582497314\n",
      "Loaded syringe, remaining volume 0 uL\n",
      "breaking dispense into 5 of volume 667.2283439996343\n",
      "remaining vol:  949.0\n",
      "remaining vol:  949.0\n",
      "remaining vol:  949.0\n",
      "remaining vol:  949.0\n",
      "remaining vol:  949.0\n",
      "added water\n",
      "breaking dispense into 1 of volume 215.61967078596356\n",
      "remaining vol:  949.0\n",
      "added ammonia\n",
      "Loaded syringe, remaining volume 0 uL\n",
      "breaking dispense into 2 of volume 524.8035779222846\n",
      "Rinsing 1cc_4\n",
      "Loaded syringe, remaining volume 0 uL\n",
      "added 1049.6071558445692 f127\n",
      "Loaded syringe, remaining volume 0 uL\n",
      "breaking dispense into 3 of volume 939.479790834917\n",
      "Rinsing 1cc_4\n",
      "Loaded syringe, remaining volume 0 uL\n",
      "added 2818.439372504751 uL CTAB\n",
      "mixed samples\n",
      "breaking dispense into 2 of volume 415.54836130840704\n",
      "remaining vol:  949.0\n",
      "remaining vol:  949.0\n",
      "Time from start to TEOS addition: 974.8332617282867 s\n",
      "########## Complete sample SobolBatch_61 ############\n"
     ]
    },
    {
     "name": "stdin",
     "output_type": "stream",
     "text": [
      "CTAB swap out required. swap ctab with fresh from the hot plate. \n"
     ]
    },
    {
     "name": "stdout",
     "output_type": "stream",
     "text": [
      "Starting sample SobolBatch_62, 4356786c-177a-45a2-a2c9-36ce1e03c05b in well Well C3 form 20mLscintillation 12 Well Plate 18000 µL on slot 2\n",
      "Loaded syringe, remaining volume 0 uL\n",
      "breaking dispense into 1 of volume 2380.678018657258\n",
      "Loaded syringe, remaining volume 0 uL\n",
      "breaking dispense into 1 of volume 371.6343169736974\n",
      "remaining vol:  949.0\n",
      "added water\n",
      "breaking dispense into 1 of volume 385.67788871005183\n",
      "added ammonia\n",
      "Loaded syringe, remaining volume 0 uL\n",
      "breaking dispense into 1 of volume 106.91599734127522\n",
      "Rinsing 1cc_4\n",
      "Loaded syringe, remaining volume 0 uL\n",
      "added 106.91599734127522 f127\n",
      "Loaded syringe, remaining volume 0 uL\n",
      "breaking dispense into 7 of volume 949.4588764473086\n",
      "Rinsing 1cc_4\n",
      "Loaded syringe, remaining volume 0 uL\n",
      "added 6646.212135131161 uL CTAB\n",
      "mixed samples\n",
      "breaking dispense into 1 of volume 108.88164318655618\n",
      "Time from start to TEOS addition: 758.4146311283112 s\n",
      "########## Complete sample SobolBatch_62 ############\n"
     ]
    },
    {
     "name": "stdin",
     "output_type": "stream",
     "text": [
      "Please home Jubilee \n"
     ]
    },
    {
     "name": "stdout",
     "output_type": "stream",
     "text": [
      "Starting sample SobolBatch_63, 0d43602f-ca7c-40d3-9847-9572f02303b1 in well Well C4 form 20mLscintillation 12 Well Plate 18000 µL on slot 2\n",
      "Loaded syringe, remaining volume 0 uL\n",
      "breaking dispense into 1 of volume 3073.434532986721\n",
      "Loaded syringe, remaining volume 0 uL\n",
      "breaking dispense into 2 of volume 671.6937316154749\n",
      "remaining vol:  949.0\n",
      "remaining vol:  949.0\n",
      "added water\n",
      "breaking dispense into 1 of volume 657.3025310412049\n",
      "remaining vol:  949.0\n",
      "added ammonia\n",
      "Loaded syringe, remaining volume 0 uL\n",
      "breaking dispense into 3 of volume 741.9614903628826\n",
      "Rinsing 1cc_4\n",
      "Loaded syringe, remaining volume 0 uL\n",
      "added 2225.884471088648 f127\n",
      "Loaded syringe, remaining volume 0 uL\n",
      "breaking dispense into 3 of volume 727.3368707133665\n",
      "Rinsing 1cc_4\n",
      "Loaded syringe, remaining volume 0 uL\n",
      "added 2182.0106121400995 uL CTAB\n",
      "mixed samples\n",
      "breaking dispense into 1 of volume 517.9803895123769\n",
      "remaining vol:  949.0\n",
      "Time from start to TEOS addition: 783.7635469436646 s\n",
      "########## Complete sample SobolBatch_63 ############\n"
     ]
    },
    {
     "ename": "KeyboardInterrupt",
     "evalue": "Interrupted by user",
     "output_type": "error",
     "traceback": [
      "\u001b[0;31m---------------------------------------------------------------------------\u001b[0m",
      "\u001b[0;31mKeyboardInterrupt\u001b[0m                         Traceback (most recent call last)",
      "Cell \u001b[0;32mIn[246], line 6\u001b[0m\n\u001b[1;32m      1\u001b[0m \u001b[38;5;28;01mfor\u001b[39;00m i, row \u001b[38;5;129;01min\u001b[39;00m sample_table_batch5\u001b[38;5;241m.\u001b[39miterrows():\n\u001b[1;32m      4\u001b[0m     \u001b[38;5;28;01mif\u001b[39;00m i \u001b[38;5;241m%\u001b[39m \u001b[38;5;241m2\u001b[39m \u001b[38;5;241m==\u001b[39m \u001b[38;5;241m0\u001b[39m \u001b[38;5;129;01mand\u001b[39;00m i \u001b[38;5;241m!=\u001b[39m\u001b[38;5;241m0\u001b[39m:\n\u001b[1;32m      5\u001b[0m         \u001b[38;5;66;03m# swap out CTAB\u001b[39;00m\n\u001b[0;32m----> 6\u001b[0m         result \u001b[38;5;241m=\u001b[39m \u001b[38;5;28;43minput\u001b[39;49m\u001b[43m(\u001b[49m\u001b[38;5;124;43m'\u001b[39;49m\u001b[38;5;124;43mCTAB swap out required. swap ctab with fresh from the hot plate.\u001b[39;49m\u001b[38;5;124;43m'\u001b[39;49m\u001b[43m)\u001b[49m\n\u001b[1;32m      7\u001b[0m     \u001b[38;5;28;01melse\u001b[39;00m:\n\u001b[1;32m      8\u001b[0m         r \u001b[38;5;241m=\u001b[39m \u001b[38;5;28minput\u001b[39m(\u001b[38;5;124m'\u001b[39m\u001b[38;5;124mPlease home Jubilee\u001b[39m\u001b[38;5;124m'\u001b[39m)\n",
      "File \u001b[0;32m~/miniconda3/envs/jubilee/lib/python3.9/site-packages/ipykernel/kernelbase.py:1282\u001b[0m, in \u001b[0;36mKernel.raw_input\u001b[0;34m(self, prompt)\u001b[0m\n\u001b[1;32m   1280\u001b[0m     msg \u001b[38;5;241m=\u001b[39m \u001b[38;5;124m\"\u001b[39m\u001b[38;5;124mraw_input was called, but this frontend does not support input requests.\u001b[39m\u001b[38;5;124m\"\u001b[39m\n\u001b[1;32m   1281\u001b[0m     \u001b[38;5;28;01mraise\u001b[39;00m StdinNotImplementedError(msg)\n\u001b[0;32m-> 1282\u001b[0m \u001b[38;5;28;01mreturn\u001b[39;00m \u001b[38;5;28;43mself\u001b[39;49m\u001b[38;5;241;43m.\u001b[39;49m\u001b[43m_input_request\u001b[49m\u001b[43m(\u001b[49m\n\u001b[1;32m   1283\u001b[0m \u001b[43m    \u001b[49m\u001b[38;5;28;43mstr\u001b[39;49m\u001b[43m(\u001b[49m\u001b[43mprompt\u001b[49m\u001b[43m)\u001b[49m\u001b[43m,\u001b[49m\n\u001b[1;32m   1284\u001b[0m \u001b[43m    \u001b[49m\u001b[38;5;28;43mself\u001b[39;49m\u001b[38;5;241;43m.\u001b[39;49m\u001b[43m_parent_ident\u001b[49m\u001b[43m[\u001b[49m\u001b[38;5;124;43m\"\u001b[39;49m\u001b[38;5;124;43mshell\u001b[39;49m\u001b[38;5;124;43m\"\u001b[39;49m\u001b[43m]\u001b[49m\u001b[43m,\u001b[49m\n\u001b[1;32m   1285\u001b[0m \u001b[43m    \u001b[49m\u001b[38;5;28;43mself\u001b[39;49m\u001b[38;5;241;43m.\u001b[39;49m\u001b[43mget_parent\u001b[49m\u001b[43m(\u001b[49m\u001b[38;5;124;43m\"\u001b[39;49m\u001b[38;5;124;43mshell\u001b[39;49m\u001b[38;5;124;43m\"\u001b[39;49m\u001b[43m)\u001b[49m\u001b[43m,\u001b[49m\n\u001b[1;32m   1286\u001b[0m \u001b[43m    \u001b[49m\u001b[43mpassword\u001b[49m\u001b[38;5;241;43m=\u001b[39;49m\u001b[38;5;28;43;01mFalse\u001b[39;49;00m\u001b[43m,\u001b[49m\n\u001b[1;32m   1287\u001b[0m \u001b[43m\u001b[49m\u001b[43m)\u001b[49m\n",
      "File \u001b[0;32m~/miniconda3/envs/jubilee/lib/python3.9/site-packages/ipykernel/kernelbase.py:1325\u001b[0m, in \u001b[0;36mKernel._input_request\u001b[0;34m(self, prompt, ident, parent, password)\u001b[0m\n\u001b[1;32m   1322\u001b[0m \u001b[38;5;28;01mexcept\u001b[39;00m \u001b[38;5;167;01mKeyboardInterrupt\u001b[39;00m:\n\u001b[1;32m   1323\u001b[0m     \u001b[38;5;66;03m# re-raise KeyboardInterrupt, to truncate traceback\u001b[39;00m\n\u001b[1;32m   1324\u001b[0m     msg \u001b[38;5;241m=\u001b[39m \u001b[38;5;124m\"\u001b[39m\u001b[38;5;124mInterrupted by user\u001b[39m\u001b[38;5;124m\"\u001b[39m\n\u001b[0;32m-> 1325\u001b[0m     \u001b[38;5;28;01mraise\u001b[39;00m \u001b[38;5;167;01mKeyboardInterrupt\u001b[39;00m(msg) \u001b[38;5;28;01mfrom\u001b[39;00m \u001b[38;5;28;01mNone\u001b[39;00m\n\u001b[1;32m   1326\u001b[0m \u001b[38;5;28;01mexcept\u001b[39;00m \u001b[38;5;167;01mException\u001b[39;00m:\n\u001b[1;32m   1327\u001b[0m     \u001b[38;5;28mself\u001b[39m\u001b[38;5;241m.\u001b[39mlog\u001b[38;5;241m.\u001b[39mwarning(\u001b[38;5;124m\"\u001b[39m\u001b[38;5;124mInvalid Message:\u001b[39m\u001b[38;5;124m\"\u001b[39m, exc_info\u001b[38;5;241m=\u001b[39m\u001b[38;5;28;01mTrue\u001b[39;00m)\n",
      "\u001b[0;31mKeyboardInterrupt\u001b[0m: Interrupted by user"
     ]
    }
   ],
   "source": [
    "for i, row in sample_table_batch5.iterrows():\n",
    "\n",
    "\n",
    "    if i % 2 == 0 and i !=0:\n",
    "        # swap out CTAB\n",
    "        result = input('CTAB swap out required. swap ctab with fresh from the hot plate.')\n",
    "    else:\n",
    "        r = input('Please home Jubilee')\n",
    "        \n",
    "    sample_uid = row['uuid']\n",
    "    sample_name = row['sample_name']\n",
    "    well = samples.get_well_for_sample(sample_uid)\n",
    "    teos_volume = row['teos_volume']\n",
    "    ethanol_volume = row['ethanol_volume']\n",
    "    ctab_volume = row['ctab_volume']\n",
    "    f127_volume = row['F127_volume']\n",
    "\n",
    "    sample_table_select = sample_table.iloc[i:i+1]\n",
    "    location_lookup_selected = {sample_uid:well}\n",
    "\n",
    "\n",
    "\n",
    "    start_time = time.time()\n",
    "    logger.info(f'Starting sample {sample_name}, {sample_uid} in well {well}')\n",
    "    print(f'Starting sample {sample_name}, {sample_uid} in well {well}')\n",
    "    #add ethanol\n",
    "    stober.reactant_transfer(jubilee, mix_syringe, ethanol_stocks, well, ethanol_volume, 500)\n",
    "    logger.info(f'Added {ethanol_volume} uL ethanol to {str(sample_uid)}') \n",
    "    \n",
    "    #add water\n",
    "    stober.add_reactants_batch(jubilee, water_syringe, mix_syringe, sample_table_select, location_lookup_selected, 'water_volume', water_stocks, dwell_time = 7)\n",
    "    print(f'added water')\n",
    "    logger.info(f'Added water to {str(sample_uid)}') \n",
    "    #add ammonia\n",
    "    stober.add_reactants_batch(jubilee, ammonia_syringe, mix_syringe, sample_table_select, location_lookup_selected, 'ammonia_volume', ammonia_stocks, dwell_time = 10, refill_dwell=5)\n",
    "    print('added ammonia')\n",
    "    logger.info(f'Added ammonia to {str(sample_uid)}') \n",
    "    # add F127\n",
    "    \n",
    "    stober.reactant_transfer(jubilee, surfactant_syringe, f127_stocks, well, f127_volume, 50, rinse_stocks=rinse_stocks_precursor)\n",
    "    print(f'added {f127_volume} f127')\n",
    "    logger.info(f'Added {f127_volume} uL F127 to {str(sample_uid)}') \n",
    "    \n",
    "    stober.reactant_transfer(jubilee, surfactant_syringe, ctab_stocks, well, ctab_volume, 50, rinse_stocks=rinse_stocks_precursor)\n",
    "    print(f'added {ctab_volume} uL CTAB')\n",
    "    logger.info(f'Added {ctab_volume} uL ctab to {str(sample_uid)}') \n",
    "    # mix precursors\n",
    "    \n",
    "    stober.first_mix(jubilee, mix_syringe, 5000, location_lookup_selected, [], 3, n_rinse = 1)\n",
    "    print('mixed samples')\n",
    "    # add teos\n",
    "    teos_add_time = stober.add_reactants_batch(jubilee, teos_syringe, mix_syringe, sample_table_select, location_lookup_selected, 'teos_volume', teos_stocks, mix_after=(8000, 5, rinse_stocks_teos), wait = False, n_rinse = 1, return_time = True)\n",
    "    \n",
    "    logger.info(f'Added TEOS to sample {sample_name} at {time.strftime(\"%H:%M\", time.localtime(teos_add_time))}')\n",
    "    \n",
    "    print(f'Time from start to TEOS addition: {teos_add_time - start_time} s')\n",
    "    \n",
    "    print(f'########## Complete sample {sample_name} ############')\n",
    "\n",
    "\n"
   ]
  },
  {
   "cell_type": "code",
   "execution_count": 150,
   "id": "f28a4af5-ad5f-44ee-988b-900372e6ff6b",
   "metadata": {},
   "outputs": [
    {
     "data": {
      "text/plain": [
       "335.34840450288425"
      ]
     },
     "execution_count": 150,
     "metadata": {},
     "output_type": "execute_result"
    }
   ],
   "source": [
    "water_syringe.remaining_volume"
   ]
  },
  {
   "cell_type": "code",
   "execution_count": 171,
   "id": "daae5b10-e57a-4845-9d57-72acdd196168",
   "metadata": {},
   "outputs": [],
   "source": [
    "jubilee.park_tool()"
   ]
  },
  {
   "cell_type": "code",
   "execution_count": null,
   "id": "ee9d1979-bf9f-4cd4-b436-84167b32ac62",
   "metadata": {},
   "outputs": [],
   "source": []
  }
 ],
 "metadata": {
  "kernelspec": {
   "display_name": "Python 3 (ipykernel)",
   "language": "python",
   "name": "python3"
  },
  "language_info": {
   "codemirror_mode": {
    "name": "ipython",
    "version": 3
   },
   "file_extension": ".py",
   "mimetype": "text/x-python",
   "name": "python",
   "nbconvert_exporter": "python",
   "pygments_lexer": "ipython3",
   "version": "3.9.19"
  }
 },
 "nbformat": 4,
 "nbformat_minor": 5
}
