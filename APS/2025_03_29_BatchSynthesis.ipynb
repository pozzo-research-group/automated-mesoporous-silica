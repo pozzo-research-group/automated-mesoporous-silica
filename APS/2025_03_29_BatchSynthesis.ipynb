{
 "cells": [
  {
   "cell_type": "markdown",
   "id": "110d0499-187d-47cb-b3bd-52e828f810d0",
   "metadata": {},
   "source": [
    "## Setup"
   ]
  },
  {
   "cell_type": "code",
   "execution_count": 1,
   "id": "023a9737-b2dd-4151-af0b-67ea2aeb7386",
   "metadata": {},
   "outputs": [],
   "source": [
    "%load_ext autoreload\n",
    "%autoreload 2"
   ]
  },
  {
   "cell_type": "code",
   "execution_count": 2,
   "id": "a8305f4f-98d9-46aa-b3a5-aef3875465c8",
   "metadata": {},
   "outputs": [],
   "source": [
    "import requests\n",
    "\n",
    "# ----------- Science Jubilee -------------\n",
    "from science_jubilee import Machine as Jub\n",
    "from science_jubilee.tools import HTTPSyringe as syringe\n",
    "from science_jubilee.tools import Pipette, PneumaticSampleLoader\n",
    "from science_jubilee.utils import Handlers\n",
    "import time\n",
    "import numpy as np\n",
    "import pandas as pd\n",
    "import logging\n",
    "import sys\n",
    "import json\n",
    "sys.path.append('..')\n",
    "import stober_synthesis_utils as stober\n",
    "import usaxs_utils\n",
    "import uuid"
   ]
  },
  {
   "cell_type": "code",
   "execution_count": 4,
   "id": "741d8279-cea5-4680-bb1b-e3089af0d8cf",
   "metadata": {},
   "outputs": [],
   "source": [
    "with open('systemconfig.json', 'rt') as f:\n",
    "    config = json.load(f)\n",
    "\n",
    "#usaxs_server_ip = config['sample_server']['ip_address']\n",
    "\n",
    "#afl_ip = '192.168.1.4'\n",
    "\n",
    "reaction_time = 5*60"
   ]
  },
  {
   "cell_type": "code",
   "execution_count": 5,
   "id": "39e0dd27-900a-4151-ad77-cae178e545d7",
   "metadata": {},
   "outputs": [],
   "source": [
    "FORMAT = '%(asctime)s:%(levelname)s:%(name)s:%(message)s'\n",
    "logging.basicConfig(filename = 'APS_batchSynthesis_2025_03_29.log', level = logging.INFO, format = FORMAT)\n",
    "logger = logging.getLogger(__name__)"
   ]
  },
  {
   "cell_type": "code",
   "execution_count": 6,
   "id": "bb05bc51-e88d-493a-b7ae-ec244bab05d1",
   "metadata": {
    "scrolled": true
   },
   "outputs": [
    {
     "name": "stdout",
     "output_type": "stream",
     "text": [
      "0\n",
      "response in connect:  [True, True, True, True]\n"
     ]
    }
   ],
   "source": [
    "jubilee = Jub.Machine(address='192.168.1.2', simulated = False, crash_detection = False) "
   ]
  },
  {
   "cell_type": "code",
   "execution_count": 7,
   "id": "3fa12ac1-cd52-42b9-829b-1eca23762195",
   "metadata": {},
   "outputs": [],
   "source": [
    "deck = jubilee.load_deck('lab_automation_deck_AFL_bolton.json')"
   ]
  },
  {
   "cell_type": "raw",
   "id": "23f14450-b2fd-46b7-82b2-a17b1061fde5",
   "metadata": {
    "scrolled": true
   },
   "source": [
    "[(31.1, 169.0), (121.1, 169.0), (121.1, 113.0)]#jubilee.home_all()\n",
    "logger.info('Homed Jubilee')"
   ]
  },
  {
   "cell_type": "code",
   "execution_count": 8,
   "id": "d2505692-e098-4cf7-954a-b2ac9d91e06f",
   "metadata": {},
   "outputs": [],
   "source": [
    "sample_table = pd.read_csv('Mesoporous_SobolBaseline_APS_BatchMode_3_29_25.csv')\n",
    "#sample_table_2 = pd.read_csv('SampleTable_ReproReplicates_10000.csv')\n"
   ]
  },
  {
   "cell_type": "code",
   "execution_count": 9,
   "id": "837e0e81-efec-4bef-a622-8f41dfce8f89",
   "metadata": {},
   "outputs": [
    {
     "data": {
      "text/html": [
       "<div>\n",
       "<style scoped>\n",
       "    .dataframe tbody tr th:only-of-type {\n",
       "        vertical-align: middle;\n",
       "    }\n",
       "\n",
       "    .dataframe tbody tr th {\n",
       "        vertical-align: top;\n",
       "    }\n",
       "\n",
       "    .dataframe thead th {\n",
       "        text-align: right;\n",
       "    }\n",
       "</style>\n",
       "<table border=\"1\" class=\"dataframe\">\n",
       "  <thead>\n",
       "    <tr style=\"text-align: right;\">\n",
       "      <th></th>\n",
       "      <th>Unnamed: 0</th>\n",
       "      <th>sample_name</th>\n",
       "      <th>uuid</th>\n",
       "      <th>teos_volume</th>\n",
       "      <th>ammonia_volume</th>\n",
       "      <th>water_volume</th>\n",
       "      <th>ethanol_volume</th>\n",
       "      <th>ctab_volume</th>\n",
       "      <th>F127_volume</th>\n",
       "    </tr>\n",
       "  </thead>\n",
       "  <tbody>\n",
       "    <tr>\n",
       "      <th>0</th>\n",
       "      <td>0</td>\n",
       "      <td>SobolBatch_control_1</td>\n",
       "      <td>5dcea3d4-4afc-4389-afbd-03b4640e2860</td>\n",
       "      <td>739.669722</td>\n",
       "      <td>427.068651</td>\n",
       "      <td>1856.721283</td>\n",
       "      <td>1706.732498</td>\n",
       "      <td>4027.093018</td>\n",
       "      <td>1242.714828</td>\n",
       "    </tr>\n",
       "    <tr>\n",
       "      <th>1</th>\n",
       "      <td>1</td>\n",
       "      <td>SobolBatch_control_2</td>\n",
       "      <td>5219bd08-7689-483d-92e8-4162d16d8379</td>\n",
       "      <td>739.669722</td>\n",
       "      <td>427.068651</td>\n",
       "      <td>1856.721283</td>\n",
       "      <td>1706.732498</td>\n",
       "      <td>4027.093018</td>\n",
       "      <td>1242.714828</td>\n",
       "    </tr>\n",
       "    <tr>\n",
       "      <th>2</th>\n",
       "      <td>2</td>\n",
       "      <td>SobolBatch_control_3</td>\n",
       "      <td>27a11227-cf1f-4da7-8875-26bbc1e11a05</td>\n",
       "      <td>739.669722</td>\n",
       "      <td>427.068651</td>\n",
       "      <td>1856.721283</td>\n",
       "      <td>1706.732498</td>\n",
       "      <td>4027.093018</td>\n",
       "      <td>1242.714828</td>\n",
       "    </tr>\n",
       "    <tr>\n",
       "      <th>3</th>\n",
       "      <td>3</td>\n",
       "      <td>SobolBatch_1</td>\n",
       "      <td>4c0400c8-3631-42ca-92f6-6cd1d0f0b0d3</td>\n",
       "      <td>188.708728</td>\n",
       "      <td>536.219853</td>\n",
       "      <td>5902.720493</td>\n",
       "      <td>1899.525156</td>\n",
       "      <td>1395.976302</td>\n",
       "      <td>76.849468</td>\n",
       "    </tr>\n",
       "    <tr>\n",
       "      <th>4</th>\n",
       "      <td>4</td>\n",
       "      <td>SobolBatch_2</td>\n",
       "      <td>fe05e774-5c92-4248-8d59-74afda65ee1a</td>\n",
       "      <td>342.046843</td>\n",
       "      <td>412.468670</td>\n",
       "      <td>3856.504701</td>\n",
       "      <td>2496.831857</td>\n",
       "      <td>1821.357608</td>\n",
       "      <td>1070.790321</td>\n",
       "    </tr>\n",
       "    <tr>\n",
       "      <th>...</th>\n",
       "      <td>...</td>\n",
       "      <td>...</td>\n",
       "      <td>...</td>\n",
       "      <td>...</td>\n",
       "      <td>...</td>\n",
       "      <td>...</td>\n",
       "      <td>...</td>\n",
       "      <td>...</td>\n",
       "      <td>...</td>\n",
       "    </tr>\n",
       "    <tr>\n",
       "      <th>81</th>\n",
       "      <td>81</td>\n",
       "      <td>SobolBatch_76</td>\n",
       "      <td>c60e6fcd-c457-40d8-9d2b-bcf72793a4c1</td>\n",
       "      <td>1114.331675</td>\n",
       "      <td>489.195076</td>\n",
       "      <td>399.276870</td>\n",
       "      <td>2923.317598</td>\n",
       "      <td>4279.141697</td>\n",
       "      <td>794.737084</td>\n",
       "    </tr>\n",
       "    <tr>\n",
       "      <th>82</th>\n",
       "      <td>82</td>\n",
       "      <td>SobolBatch_77</td>\n",
       "      <td>bda382f7-2b73-4941-ac9e-9a794d0e2ed3</td>\n",
       "      <td>507.961463</td>\n",
       "      <td>732.685161</td>\n",
       "      <td>2484.911837</td>\n",
       "      <td>3192.106947</td>\n",
       "      <td>2749.532188</td>\n",
       "      <td>332.802404</td>\n",
       "    </tr>\n",
       "    <tr>\n",
       "      <th>83</th>\n",
       "      <td>83</td>\n",
       "      <td>SobolBatch_78</td>\n",
       "      <td>0cc6035c-a149-4764-9896-a26aecb380ff</td>\n",
       "      <td>1410.262837</td>\n",
       "      <td>587.635686</td>\n",
       "      <td>734.421605</td>\n",
       "      <td>2377.659058</td>\n",
       "      <td>1454.000166</td>\n",
       "      <td>3436.020646</td>\n",
       "    </tr>\n",
       "    <tr>\n",
       "      <th>84</th>\n",
       "      <td>84</td>\n",
       "      <td>SobolBatch_79</td>\n",
       "      <td>f9d13a27-bbf3-4a4b-add5-24313ff8742b</td>\n",
       "      <td>309.837529</td>\n",
       "      <td>172.560101</td>\n",
       "      <td>1203.710347</td>\n",
       "      <td>2253.049331</td>\n",
       "      <td>3830.844133</td>\n",
       "      <td>2229.998561</td>\n",
       "    </tr>\n",
       "    <tr>\n",
       "      <th>85</th>\n",
       "      <td>85</td>\n",
       "      <td>SobolBatch_80</td>\n",
       "      <td>ac123a84-c824-4fb2-a6f5-1034a037367e</td>\n",
       "      <td>1591.548249</td>\n",
       "      <td>271.936479</td>\n",
       "      <td>208.582754</td>\n",
       "      <td>2827.950116</td>\n",
       "      <td>1084.306319</td>\n",
       "      <td>4015.676083</td>\n",
       "    </tr>\n",
       "  </tbody>\n",
       "</table>\n",
       "<p>86 rows × 9 columns</p>\n",
       "</div>"
      ],
      "text/plain": [
       "    Unnamed: 0           sample_name                                  uuid  \\\n",
       "0            0  SobolBatch_control_1  5dcea3d4-4afc-4389-afbd-03b4640e2860   \n",
       "1            1  SobolBatch_control_2  5219bd08-7689-483d-92e8-4162d16d8379   \n",
       "2            2  SobolBatch_control_3  27a11227-cf1f-4da7-8875-26bbc1e11a05   \n",
       "3            3          SobolBatch_1  4c0400c8-3631-42ca-92f6-6cd1d0f0b0d3   \n",
       "4            4          SobolBatch_2  fe05e774-5c92-4248-8d59-74afda65ee1a   \n",
       "..         ...                   ...                                   ...   \n",
       "81          81         SobolBatch_76  c60e6fcd-c457-40d8-9d2b-bcf72793a4c1   \n",
       "82          82         SobolBatch_77  bda382f7-2b73-4941-ac9e-9a794d0e2ed3   \n",
       "83          83         SobolBatch_78  0cc6035c-a149-4764-9896-a26aecb380ff   \n",
       "84          84         SobolBatch_79  f9d13a27-bbf3-4a4b-add5-24313ff8742b   \n",
       "85          85         SobolBatch_80  ac123a84-c824-4fb2-a6f5-1034a037367e   \n",
       "\n",
       "    teos_volume  ammonia_volume  water_volume  ethanol_volume  ctab_volume  \\\n",
       "0    739.669722      427.068651   1856.721283     1706.732498  4027.093018   \n",
       "1    739.669722      427.068651   1856.721283     1706.732498  4027.093018   \n",
       "2    739.669722      427.068651   1856.721283     1706.732498  4027.093018   \n",
       "3    188.708728      536.219853   5902.720493     1899.525156  1395.976302   \n",
       "4    342.046843      412.468670   3856.504701     2496.831857  1821.357608   \n",
       "..          ...             ...           ...             ...          ...   \n",
       "81  1114.331675      489.195076    399.276870     2923.317598  4279.141697   \n",
       "82   507.961463      732.685161   2484.911837     3192.106947  2749.532188   \n",
       "83  1410.262837      587.635686    734.421605     2377.659058  1454.000166   \n",
       "84   309.837529      172.560101   1203.710347     2253.049331  3830.844133   \n",
       "85  1591.548249      271.936479    208.582754     2827.950116  1084.306319   \n",
       "\n",
       "    F127_volume  \n",
       "0   1242.714828  \n",
       "1   1242.714828  \n",
       "2   1242.714828  \n",
       "3     76.849468  \n",
       "4   1070.790321  \n",
       "..          ...  \n",
       "81   794.737084  \n",
       "82   332.802404  \n",
       "83  3436.020646  \n",
       "84  2229.998561  \n",
       "85  4015.676083  \n",
       "\n",
       "[86 rows x 9 columns]"
      ]
     },
     "execution_count": 9,
     "metadata": {},
     "output_type": "execute_result"
    }
   ],
   "source": [
    "sample_table"
   ]
  },
  {
   "cell_type": "markdown",
   "id": "b8f140ff-c5f8-494d-bd58-093982edd086",
   "metadata": {},
   "source": [
    "## Load Tools"
   ]
  },
  {
   "cell_type": "code",
   "execution_count": 17,
   "id": "d73bac24-917c-4c8c-8c30-494146511312",
   "metadata": {},
   "outputs": [
    {
     "name": "stdout",
     "output_type": "stream",
     "text": [
      "Syringe name:  10cc_1\n",
      "{'capacity': 10000, 'empty_position': 1830, 'full_position': 1217, 'name': '10cc_1'}\n",
      "Syringe name:  1cc_1\n",
      "{'capacity': 1000, 'empty_position': 1845, 'full_position': 1240, 'name': '1cc_1'}\n",
      "Syringe name:  1cc_2_hamilton\n",
      "{'capacity': 1000, 'empty_position': 1753, 'full_position': 1120, 'name': '1cc_2_hamilton'}\n",
      "Syringe name:  1cc_3_hamilton\n",
      "{'capacity': 1000, 'empty_position': 1753, 'full_position': 1120, 'name': '1cc_3_hamilton'}\n",
      "Syringe name:  1cc_4\n",
      "{'capacity': 1000, 'empty_position': 1845, 'full_position': 1240, 'name': '1cc_4'}\n"
     ]
    }
   ],
   "source": [
    "syringe_10 = syringe.HTTPSyringe.from_config(2, \"../../science-jubilee/src/science_jubilee/tools/configs/10cc_syringe.json\")\n",
    "syringe_1_1 = syringe.HTTPSyringe.from_config(1, \"../../science-jubilee/src/science_jubilee/tools/configs/1cc_1_syringe.json\")\n",
    "syringe_1_2 = syringe.HTTPSyringe.from_config(3, \"../../science-jubilee/src/science_jubilee/tools/configs/1cc_2_Hamiltonsyringe.json\")\n",
    "syringe_1_3 = syringe.HTTPSyringe.from_config(4, \"../../science-jubilee/src/science_jubilee/tools/configs/1cc_3_Hamiltonsyringe.json\")\n",
    "syringe_1_4 = syringe.HTTPSyringe.from_config(0, '../../science-jubilee/src/science_jubilee/tools/configs/1cc_4_syringe.json')"
   ]
  },
  {
   "cell_type": "code",
   "execution_count": 18,
   "id": "9448524a-f60e-43fd-ae53-0a51c87e6035",
   "metadata": {
    "scrolled": true
   },
   "outputs": [],
   "source": [
    "jubilee.load_tool(syringe_10)\n",
    "jubilee.load_tool(syringe_1_1)\n",
    "jubilee.load_tool(syringe_1_2)\n",
    "jubilee.load_tool(syringe_1_3)\n",
    "jubilee.load_tool(syringe_1_4)"
   ]
  },
  {
   "cell_type": "code",
   "execution_count": 19,
   "id": "21127bbe-632c-4ec0-84f9-57d9772a90db",
   "metadata": {},
   "outputs": [],
   "source": [
    "mix_syringe = syringe_10\n",
    "water_syringe = syringe_1_1\n",
    "ammonia_syringe = syringe_1_2\n",
    "teos_syringe = syringe_1_3\n",
    "surfactant_syringe = syringe_1_4"
   ]
  },
  {
   "cell_type": "markdown",
   "id": "e1d880ae-d253-43f5-995f-d2619e29c78a",
   "metadata": {},
   "source": [
    "## Load water syringe with water"
   ]
  },
  {
   "cell_type": "code",
   "execution_count": 35,
   "id": "fa91aafe-663a-4ea2-86df-e996c41d8f37",
   "metadata": {},
   "outputs": [
    {
     "name": "stdout",
     "output_type": "stream",
     "text": [
      "Loaded syringe, remaining volume 600 uL\n"
     ]
    }
   ],
   "source": [
    "water_syringe.load_syringe(600, 1500)"
   ]
  },
  {
   "cell_type": "code",
   "execution_count": 36,
   "id": "bb1ecb81-f858-4ab6-8a1e-b5a85f432f54",
   "metadata": {
    "scrolled": true
   },
   "outputs": [],
   "source": [
    "water_syringe.set_pulsewidth(water_syringe.empty_position-1, s = 2000)"
   ]
  },
  {
   "cell_type": "code",
   "execution_count": 37,
   "id": "80aff25d-bae2-478d-bc07-4b4f11bd5e05",
   "metadata": {},
   "outputs": [
    {
     "name": "stdout",
     "output_type": "stream",
     "text": [
      "Loaded syringe, remaining volume 0 uL\n"
     ]
    }
   ],
   "source": [
    "water_syringe.load_syringe(0, water_syringe.empty_position-1)"
   ]
  },
  {
   "cell_type": "markdown",
   "id": "8ea5df3b-0ad5-4dbb-ad3f-089a2d5f2bd1",
   "metadata": {},
   "source": [
    "## Load ammonia syringe"
   ]
  },
  {
   "cell_type": "code",
   "execution_count": 38,
   "id": "87a366e4-d389-4830-b923-0a932968add9",
   "metadata": {},
   "outputs": [],
   "source": [
    "#ammonia_syringe.set_pulsewidth(1420, s = 10)"
   ]
  },
  {
   "cell_type": "code",
   "execution_count": 39,
   "id": "0b36ffcf-ec60-4ee2-b2ae-5fb6895fd16c",
   "metadata": {},
   "outputs": [
    {
     "name": "stdout",
     "output_type": "stream",
     "text": [
      "Loaded syringe, remaining volume 600 uL\n"
     ]
    }
   ],
   "source": [
    "ammonia_syringe.load_syringe(600, 1500)"
   ]
  },
  {
   "cell_type": "code",
   "execution_count": 40,
   "id": "497e2cad-9387-4815-9398-58651b8d9826",
   "metadata": {},
   "outputs": [],
   "source": [
    "ammonia_syringe.set_pulsewidth(ammonia_syringe.empty_position-1, s = 2000)"
   ]
  },
  {
   "cell_type": "code",
   "execution_count": 41,
   "id": "977a0aa9-0c2f-4625-8765-dcc32bbb60a7",
   "metadata": {},
   "outputs": [],
   "source": [
    "ammonia_syringe.set_pulsewidth(ammonia_syringe.full_position+1, s = 10)"
   ]
  },
  {
   "cell_type": "code",
   "execution_count": null,
   "id": "7762afd8-2300-4277-820e-80f3c5283f78",
   "metadata": {},
   "outputs": [],
   "source": []
  },
  {
   "cell_type": "code",
   "execution_count": 42,
   "id": "b5be2527-8c06-4465-8e44-41f410149cd7",
   "metadata": {},
   "outputs": [
    {
     "name": "stdout",
     "output_type": "stream",
     "text": [
      "Loaded syringe, remaining volume 850 uL\n"
     ]
    }
   ],
   "source": [
    "ammonia_syringe.load_syringe(850, ammonia_syringe.full_position-1)"
   ]
  },
  {
   "cell_type": "markdown",
   "id": "e2c53ecf-d14a-4536-8062-9e7af8c51ba8",
   "metadata": {},
   "source": [
    "## Load TEOS syringe"
   ]
  },
  {
   "cell_type": "code",
   "execution_count": 43,
   "id": "22a73a10-c727-45c9-a653-1716b97e7d51",
   "metadata": {},
   "outputs": [
    {
     "name": "stdout",
     "output_type": "stream",
     "text": [
      "Loaded syringe, remaining volume 600 uL\n"
     ]
    }
   ],
   "source": [
    "teos_syringe.load_syringe(600, 1500)"
   ]
  },
  {
   "cell_type": "code",
   "execution_count": 44,
   "id": "2a4274ac-3472-452b-9368-56f36ed8d078",
   "metadata": {},
   "outputs": [],
   "source": [
    "teos_syringe.set_pulsewidth(teos_syringe.empty_position-1, s = 2000)"
   ]
  },
  {
   "cell_type": "code",
   "execution_count": 45,
   "id": "cf5154eb-2d59-4bd8-90c2-86c3374a662d",
   "metadata": {},
   "outputs": [
    {
     "name": "stdout",
     "output_type": "stream",
     "text": [
      "Loaded syringe, remaining volume 0 uL\n"
     ]
    }
   ],
   "source": [
    "teos_syringe.load_syringe(0, teos_syringe.empty_position - 1)"
   ]
  },
  {
   "cell_type": "markdown",
   "id": "ad1ac96b-3d53-4da1-aa2c-a8c2386280f8",
   "metadata": {},
   "source": [
    "## load ethanol syringe"
   ]
  },
  {
   "cell_type": "code",
   "execution_count": 66,
   "id": "f1caaf1a-900c-43ed-a57b-754b0d62aa37",
   "metadata": {},
   "outputs": [],
   "source": [
    "#jubilee.park_tool()"
   ]
  },
  {
   "cell_type": "code",
   "execution_count": 46,
   "id": "94db4b0e-3075-4b45-91f7-9bc2817a2e31",
   "metadata": {},
   "outputs": [
    {
     "name": "stdout",
     "output_type": "stream",
     "text": [
      "Loaded syringe, remaining volume 0 uL\n"
     ]
    }
   ],
   "source": [
    "mix_syringe.load_syringe(0, mix_syringe.empty_position-1)"
   ]
  },
  {
   "cell_type": "code",
   "execution_count": 47,
   "id": "f53b6f7e-62d6-43fc-b2bf-a2e1aebdf313",
   "metadata": {},
   "outputs": [],
   "source": [
    "mix_syringe.set_pulsewidth(mix_syringe.empty_position-1, s = 2000)\n"
   ]
  },
  {
   "cell_type": "markdown",
   "id": "2ef32544-c669-418b-a7c1-8fd75339d5dd",
   "metadata": {},
   "source": [
    "## Don't need to load surfactant syringe"
   ]
  },
  {
   "cell_type": "code",
   "execution_count": 48,
   "id": "41b13b04-c72e-4861-a124-ea99f567d762",
   "metadata": {},
   "outputs": [
    {
     "name": "stdout",
     "output_type": "stream",
     "text": [
      "Loaded syringe, remaining volume 0 uL\n"
     ]
    }
   ],
   "source": [
    "surfactant_syringe.set_pulsewidth(surfactant_syringe.empty_position-1)\n",
    "surfactant_syringe.load_syringe(0, surfactant_syringe.empty_position-1)"
   ]
  },
  {
   "cell_type": "markdown",
   "id": "43d1f97d-4c55-40d3-ac5b-9c3a3f1062ed",
   "metadata": {},
   "source": [
    "## Load labware\n"
   ]
  },
  {
   "cell_type": "code",
   "execution_count": 49,
   "id": "19b4bfa8-6878-4b0b-a564-369faa361b1c",
   "metadata": {
    "scrolled": true
   },
   "outputs": [
    {
     "name": "stdout",
     "output_type": "stream",
     "text": [
      "New manual offset applied to 20mlscintillation_12_wellplate_18000ul\n"
     ]
    }
   ],
   "source": [
    "samples_1 = jubilee.load_labware('20mlscintillation_12_wellplate_18000ul.json', 2)\n",
    "samples_1.manual_offset([(30.8, 168.0), (121.3, 168.3), (121.3, 112.6)])"
   ]
  },
  {
   "cell_type": "code",
   "execution_count": 50,
   "id": "eeaf680f-2721-4770-b8e4-96214e7d26c8",
   "metadata": {},
   "outputs": [
    {
     "name": "stdout",
     "output_type": "stream",
     "text": [
      "New manual offset applied to 20mlscintillation_12_wellplate_18000ul\n"
     ]
    }
   ],
   "source": [
    "samples_2 = jubilee.load_labware('20mlscintillation_12_wellplate_18000ul.json', 0)\n",
    "samples_2.manual_offset([(31.8, 71.0), (121.8, 71.0), (121.8, 16.0)])"
   ]
  },
  {
   "cell_type": "code",
   "execution_count": 51,
   "id": "19ad67cc-b0a8-4c1f-8d6a-60b173599c82",
   "metadata": {},
   "outputs": [
    {
     "name": "stdout",
     "output_type": "stream",
     "text": [
      "New manual offset applied to 20mlscintillation_12_wellplate_18000ul\n"
     ]
    }
   ],
   "source": [
    "stocks_1 = jubilee.load_labware('20mlscintillation_12_wellplate_18000ul.json', 4)\n",
    "stocks_1.manual_offset([(30.1, 264.5), (121.1, 264.5), (121.1, 208.5)])"
   ]
  },
  {
   "cell_type": "code",
   "execution_count": 52,
   "id": "83faa194-456f-4909-ba9a-cbfe6dfec397",
   "metadata": {},
   "outputs": [
    {
     "name": "stdout",
     "output_type": "stream",
     "text": [
      "New manual offset applied to 20mlscintillation_12_wellplate_18000ul\n"
     ]
    }
   ],
   "source": [
    "stocks_2 = jubilee.load_labware('20mlscintillation_12_wellplate_18000ul.json', 4)\n",
    "stocks_2.manual_offset([(171.1, 264.8), (260.8, 265.0), (260.8, 209.0)])"
   ]
  },
  {
   "cell_type": "code",
   "execution_count": 53,
   "id": "ecccab44-a2cc-4a5d-9463-1d2305ae5844",
   "metadata": {},
   "outputs": [],
   "source": [
    "samples = stober.SampleWells({'samples_1':samples_1, 'samples_2':samples_2})"
   ]
  },
  {
   "cell_type": "code",
   "execution_count": 54,
   "id": "f7395271-1a02-4f11-883f-34a8456f0a05",
   "metadata": {},
   "outputs": [],
   "source": [
    "teos_stocks = stober.Stocks([stocks_1[0], stocks_1[1]], usable_volume= 17000)\n",
    "ammonia_stocks = stober.Stocks([stocks_1[2]], usable_volume= 17000)\n",
    "water_stocks = stober.Stocks([stocks_1[3], stocks_1[4], stocks_1[5]], usable_volume= 17000)\n",
    "ethanol_stocks = stober.Stocks([stocks_1[6], stocks_1[7], stocks_1[8], stocks_1[9]], usable_volume = 17000)\n",
    "f127_stocks = stober.Stocks([stocks_1[10], stocks_1[11], stocks_2[0]], usable_volume = 17000)\n",
    "ctab_stocks = stober.Stocks([stocks_2[1], stocks_2[2], stocks_2[3], stocks_2[4]], usable_volume= 17000)\n",
    "\n",
    "rinse_stocks_precursor = [stocks_2[5], stocks_2[6], stocks_2[7]]\n",
    "rinse_stocks_teos = [stocks_2[8], stocks_2[9], stocks_2[10], stocks_2[11]]"
   ]
  },
  {
   "cell_type": "markdown",
   "id": "4bd30fe3-5be6-4ea7-a61d-357272d3e8a4",
   "metadata": {
    "jp-MarkdownHeadingCollapsed": true
   },
   "source": [
    "## Check sample alignment"
   ]
  },
  {
   "cell_type": "code",
   "execution_count": 28,
   "id": "2327a808-30c9-49a6-8448-3c4806f411c3",
   "metadata": {},
   "outputs": [
    {
     "data": {
      "text/plain": [
       "68.5"
      ]
     },
     "execution_count": 28,
     "metadata": {},
     "output_type": "execute_result"
    }
   ],
   "source": [
    "jubilee.deck.safe_z"
   ]
  },
  {
   "cell_type": "code",
   "execution_count": null,
   "id": "25a4d272-6e56-4649-ba7a-5e04e922c043",
   "metadata": {},
   "outputs": [],
   "source": [
    "jubilee.pickup_tool(mix_syringe)\n",
    "for loc in stocks_1:\n",
    "    jubilee.safe_z_movement()\n",
    "    jubilee.move_to(x = loc.x, y = loc.y)\n",
    "    print(loc.y)\n",
    "    jubilee.move_to(z = loc.top_+7)\n",
    "    curr_well = loc\n",
    "    ans = input(f'Is the tip centered over sample {curr_well}?')\n",
    "    if ans == 'y':\n",
    "        continue\n",
    "    else:\n",
    "        continue\n",
    "    "
   ]
  },
  {
   "cell_type": "code",
   "execution_count": 49,
   "id": "79b6af8b-5894-4549-80bf-8187ea5963ee",
   "metadata": {},
   "outputs": [
    {
     "data": {
      "text/html": [
       "<div>\n",
       "<style scoped>\n",
       "    .dataframe tbody tr th:only-of-type {\n",
       "        vertical-align: middle;\n",
       "    }\n",
       "\n",
       "    .dataframe tbody tr th {\n",
       "        vertical-align: top;\n",
       "    }\n",
       "\n",
       "    .dataframe thead th {\n",
       "        text-align: right;\n",
       "    }\n",
       "</style>\n",
       "<table border=\"1\" class=\"dataframe\">\n",
       "  <thead>\n",
       "    <tr style=\"text-align: right;\">\n",
       "      <th></th>\n",
       "      <th>Unnamed: 0</th>\n",
       "      <th>uuid</th>\n",
       "      <th>teos_volume</th>\n",
       "      <th>ammonia_volume</th>\n",
       "      <th>water_volume</th>\n",
       "      <th>ethanol_volume</th>\n",
       "      <th>dilution_volume_fraction</th>\n",
       "      <th>silica_mass_conc</th>\n",
       "      <th>silica_mass_fraction</th>\n",
       "      <th>well</th>\n",
       "    </tr>\n",
       "  </thead>\n",
       "  <tbody>\n",
       "    <tr>\n",
       "      <th>0</th>\n",
       "      <td>0</td>\n",
       "      <td>82c085e1-a523-40ce-9e89-4fa0bf546525</td>\n",
       "      <td>214.491</td>\n",
       "      <td>538.3935</td>\n",
       "      <td>1249.9815</td>\n",
       "      <td>7997.134</td>\n",
       "      <td>2.965909</td>\n",
       "      <td>2.025686</td>\n",
       "      <td>0.002527</td>\n",
       "      <td>B2</td>\n",
       "    </tr>\n",
       "    <tr>\n",
       "      <th>1</th>\n",
       "      <td>1</td>\n",
       "      <td>747534b1-7370-49a5-bdc1-4fce5227f391</td>\n",
       "      <td>214.491</td>\n",
       "      <td>538.3935</td>\n",
       "      <td>1249.9815</td>\n",
       "      <td>7997.134</td>\n",
       "      <td>2.965909</td>\n",
       "      <td>2.025686</td>\n",
       "      <td>0.002527</td>\n",
       "      <td>B3</td>\n",
       "    </tr>\n",
       "    <tr>\n",
       "      <th>2</th>\n",
       "      <td>2</td>\n",
       "      <td>e5f6e82f-0282-46c8-be77-d8914adca9b5</td>\n",
       "      <td>214.491</td>\n",
       "      <td>538.3935</td>\n",
       "      <td>1249.9815</td>\n",
       "      <td>7997.134</td>\n",
       "      <td>2.965909</td>\n",
       "      <td>2.025686</td>\n",
       "      <td>0.002527</td>\n",
       "      <td>B4</td>\n",
       "    </tr>\n",
       "    <tr>\n",
       "      <th>3</th>\n",
       "      <td>3</td>\n",
       "      <td>c87ac840-ddde-43ab-a8e3-b5e3eb5a273d</td>\n",
       "      <td>214.491</td>\n",
       "      <td>538.3935</td>\n",
       "      <td>1249.9815</td>\n",
       "      <td>7997.134</td>\n",
       "      <td>2.965909</td>\n",
       "      <td>2.025686</td>\n",
       "      <td>0.002527</td>\n",
       "      <td>C1</td>\n",
       "    </tr>\n",
       "    <tr>\n",
       "      <th>4</th>\n",
       "      <td>4</td>\n",
       "      <td>d034d82c-e329-484c-91cc-75ea655a1446</td>\n",
       "      <td>214.491</td>\n",
       "      <td>538.3935</td>\n",
       "      <td>1249.9815</td>\n",
       "      <td>7997.134</td>\n",
       "      <td>2.965909</td>\n",
       "      <td>2.025686</td>\n",
       "      <td>0.002527</td>\n",
       "      <td>C2</td>\n",
       "    </tr>\n",
       "  </tbody>\n",
       "</table>\n",
       "</div>"
      ],
      "text/plain": [
       "   Unnamed: 0                                  uuid  teos_volume  \\\n",
       "0           0  82c085e1-a523-40ce-9e89-4fa0bf546525      214.491   \n",
       "1           1  747534b1-7370-49a5-bdc1-4fce5227f391      214.491   \n",
       "2           2  e5f6e82f-0282-46c8-be77-d8914adca9b5      214.491   \n",
       "3           3  c87ac840-ddde-43ab-a8e3-b5e3eb5a273d      214.491   \n",
       "4           4  d034d82c-e329-484c-91cc-75ea655a1446      214.491   \n",
       "\n",
       "   ammonia_volume  water_volume  ethanol_volume  dilution_volume_fraction  \\\n",
       "0        538.3935     1249.9815        7997.134                  2.965909   \n",
       "1        538.3935     1249.9815        7997.134                  2.965909   \n",
       "2        538.3935     1249.9815        7997.134                  2.965909   \n",
       "3        538.3935     1249.9815        7997.134                  2.965909   \n",
       "4        538.3935     1249.9815        7997.134                  2.965909   \n",
       "\n",
       "   silica_mass_conc  silica_mass_fraction well  \n",
       "0          2.025686              0.002527   B2  \n",
       "1          2.025686              0.002527   B3  \n",
       "2          2.025686              0.002527   B4  \n",
       "3          2.025686              0.002527   C1  \n",
       "4          2.025686              0.002527   C2  "
      ]
     },
     "execution_count": 49,
     "metadata": {},
     "output_type": "execute_result"
    }
   ],
   "source": [
    "sample_table"
   ]
  },
  {
   "cell_type": "code",
   "execution_count": 34,
   "id": "a52572b9-48d6-4bf1-acb2-19c7ac5c6fb8",
   "metadata": {},
   "outputs": [],
   "source": [
    "jubilee.park_tool()\n"
   ]
  },
  {
   "cell_type": "code",
   "execution_count": 106,
   "id": "2b09450e-d3bd-4e25-b944-993721a3b997",
   "metadata": {},
   "outputs": [
    {
     "name": "stdout",
     "output_type": "stream",
     "text": [
      "175.8614659806774\n"
     ]
    }
   ],
   "source": [
    "loc = samples['A8']\n",
    "jubilee.move_to(x = loc.x, y = loc.y)\n",
    "print(loc.y)\n",
    "jubilee.move_to(z = loc.top_+7)"
   ]
  },
  {
   "cell_type": "code",
   "execution_count": null,
   "id": "f14516c5-472d-4913-910d-d2ff2ff01e1f",
   "metadata": {},
   "outputs": [],
   "source": []
  },
  {
   "cell_type": "markdown",
   "id": "b9dff3f4-8be6-4f73-b343-6221f8df76dc",
   "metadata": {},
   "source": [
    "# Experiment\n"
   ]
  },
  {
   "cell_type": "code",
   "execution_count": 241,
   "id": "9fde8560-9b8c-45df-be6b-1e23fdd26bb4",
   "metadata": {},
   "outputs": [],
   "source": [
    "jubilee.park_tool()"
   ]
  },
  {
   "cell_type": "markdown",
   "id": "e2ddb62c-d3f3-4c45-917a-e575189606c9",
   "metadata": {},
   "source": [
    "## add ethanol"
   ]
  },
  {
   "cell_type": "code",
   "execution_count": 58,
   "id": "94908353-847e-4f1c-9b15-f32f9064dbe1",
   "metadata": {},
   "outputs": [],
   "source": [
    "sample_table_batch1 = sample_table.iloc[1:24]"
   ]
  },
  {
   "cell_type": "code",
   "execution_count": 59,
   "id": "268caa87-eb1d-496b-a768-6bbecbcf107a",
   "metadata": {},
   "outputs": [
    {
     "data": {
      "text/html": [
       "<div>\n",
       "<style scoped>\n",
       "    .dataframe tbody tr th:only-of-type {\n",
       "        vertical-align: middle;\n",
       "    }\n",
       "\n",
       "    .dataframe tbody tr th {\n",
       "        vertical-align: top;\n",
       "    }\n",
       "\n",
       "    .dataframe thead th {\n",
       "        text-align: right;\n",
       "    }\n",
       "</style>\n",
       "<table border=\"1\" class=\"dataframe\">\n",
       "  <thead>\n",
       "    <tr style=\"text-align: right;\">\n",
       "      <th></th>\n",
       "      <th>Unnamed: 0</th>\n",
       "      <th>sample_name</th>\n",
       "      <th>uuid</th>\n",
       "      <th>teos_volume</th>\n",
       "      <th>ammonia_volume</th>\n",
       "      <th>water_volume</th>\n",
       "      <th>ethanol_volume</th>\n",
       "      <th>ctab_volume</th>\n",
       "      <th>F127_volume</th>\n",
       "    </tr>\n",
       "  </thead>\n",
       "  <tbody>\n",
       "    <tr>\n",
       "      <th>1</th>\n",
       "      <td>1</td>\n",
       "      <td>SobolBatch_control_2</td>\n",
       "      <td>5219bd08-7689-483d-92e8-4162d16d8379</td>\n",
       "      <td>739.669722</td>\n",
       "      <td>427.068651</td>\n",
       "      <td>1856.721283</td>\n",
       "      <td>1706.732498</td>\n",
       "      <td>4027.093018</td>\n",
       "      <td>1242.714828</td>\n",
       "    </tr>\n",
       "    <tr>\n",
       "      <th>2</th>\n",
       "      <td>2</td>\n",
       "      <td>SobolBatch_control_3</td>\n",
       "      <td>27a11227-cf1f-4da7-8875-26bbc1e11a05</td>\n",
       "      <td>739.669722</td>\n",
       "      <td>427.068651</td>\n",
       "      <td>1856.721283</td>\n",
       "      <td>1706.732498</td>\n",
       "      <td>4027.093018</td>\n",
       "      <td>1242.714828</td>\n",
       "    </tr>\n",
       "    <tr>\n",
       "      <th>3</th>\n",
       "      <td>3</td>\n",
       "      <td>SobolBatch_1</td>\n",
       "      <td>4c0400c8-3631-42ca-92f6-6cd1d0f0b0d3</td>\n",
       "      <td>188.708728</td>\n",
       "      <td>536.219853</td>\n",
       "      <td>5902.720493</td>\n",
       "      <td>1899.525156</td>\n",
       "      <td>1395.976302</td>\n",
       "      <td>76.849468</td>\n",
       "    </tr>\n",
       "    <tr>\n",
       "      <th>4</th>\n",
       "      <td>4</td>\n",
       "      <td>SobolBatch_2</td>\n",
       "      <td>fe05e774-5c92-4248-8d59-74afda65ee1a</td>\n",
       "      <td>342.046843</td>\n",
       "      <td>412.468670</td>\n",
       "      <td>3856.504701</td>\n",
       "      <td>2496.831857</td>\n",
       "      <td>1821.357608</td>\n",
       "      <td>1070.790321</td>\n",
       "    </tr>\n",
       "    <tr>\n",
       "      <th>5</th>\n",
       "      <td>5</td>\n",
       "      <td>SobolBatch_3</td>\n",
       "      <td>aab54b4e-1d8c-4262-a158-e9cdf14edbff</td>\n",
       "      <td>1279.257002</td>\n",
       "      <td>197.989525</td>\n",
       "      <td>2256.955528</td>\n",
       "      <td>1727.886502</td>\n",
       "      <td>4074.655569</td>\n",
       "      <td>463.255875</td>\n",
       "    </tr>\n",
       "    <tr>\n",
       "      <th>6</th>\n",
       "      <td>6</td>\n",
       "      <td>SobolBatch_4</td>\n",
       "      <td>51558b9d-5018-4c0c-bca8-16b264207ef9</td>\n",
       "      <td>1379.696090</td>\n",
       "      <td>476.024321</td>\n",
       "      <td>1401.834644</td>\n",
       "      <td>2942.551750</td>\n",
       "      <td>1471.099903</td>\n",
       "      <td>2328.793293</td>\n",
       "    </tr>\n",
       "    <tr>\n",
       "      <th>7</th>\n",
       "      <td>7</td>\n",
       "      <td>SobolBatch_5</td>\n",
       "      <td>ae8570a4-85c6-4903-bfa6-852670463b4d</td>\n",
       "      <td>1533.021926</td>\n",
       "      <td>374.232377</td>\n",
       "      <td>2899.190459</td>\n",
       "      <td>2423.655953</td>\n",
       "      <td>948.718541</td>\n",
       "      <td>1821.180744</td>\n",
       "    </tr>\n",
       "    <tr>\n",
       "      <th>8</th>\n",
       "      <td>8</td>\n",
       "      <td>SobolBatch_6</td>\n",
       "      <td>480d0a24-41e8-4285-b3b3-a7ea95ca0144</td>\n",
       "      <td>1025.290547</td>\n",
       "      <td>663.538793</td>\n",
       "      <td>194.788540</td>\n",
       "      <td>1534.896377</td>\n",
       "      <td>5147.818158</td>\n",
       "      <td>1433.667585</td>\n",
       "    </tr>\n",
       "    <tr>\n",
       "      <th>9</th>\n",
       "      <td>9</td>\n",
       "      <td>SobolBatch_7</td>\n",
       "      <td>eb9910af-e02a-4fa9-9c48-ca43fcb17d67</td>\n",
       "      <td>797.951488</td>\n",
       "      <td>386.142736</td>\n",
       "      <td>2583.533393</td>\n",
       "      <td>3290.473863</td>\n",
       "      <td>2696.846612</td>\n",
       "      <td>245.051907</td>\n",
       "    </tr>\n",
       "    <tr>\n",
       "      <th>10</th>\n",
       "      <td>10</td>\n",
       "      <td>SobolBatch_8</td>\n",
       "      <td>df8f9bd5-efa9-4625-befc-6d481feac9e0</td>\n",
       "      <td>550.311928</td>\n",
       "      <td>464.820919</td>\n",
       "      <td>1536.394183</td>\n",
       "      <td>3093.254740</td>\n",
       "      <td>3497.176443</td>\n",
       "      <td>858.041788</td>\n",
       "    </tr>\n",
       "    <tr>\n",
       "      <th>11</th>\n",
       "      <td>11</td>\n",
       "      <td>SobolBatch_9</td>\n",
       "      <td>2bcbf623-7869-4464-b88b-3001cd4a0dc6</td>\n",
       "      <td>447.871126</td>\n",
       "      <td>229.133969</td>\n",
       "      <td>28.297768</td>\n",
       "      <td>1877.875639</td>\n",
       "      <td>5447.771839</td>\n",
       "      <td>1969.049659</td>\n",
       "    </tr>\n",
       "    <tr>\n",
       "      <th>12</th>\n",
       "      <td>12</td>\n",
       "      <td>SobolBatch_10</td>\n",
       "      <td>38481d87-b4ac-4cfa-9e91-0e7683a4a427</td>\n",
       "      <td>1171.221490</td>\n",
       "      <td>446.345653</td>\n",
       "      <td>1338.086678</td>\n",
       "      <td>1356.029293</td>\n",
       "      <td>3193.747178</td>\n",
       "      <td>2494.569708</td>\n",
       "    </tr>\n",
       "    <tr>\n",
       "      <th>13</th>\n",
       "      <td>13</td>\n",
       "      <td>SobolBatch_11</td>\n",
       "      <td>b0cffe36-97cf-43ba-86d9-6ad1ddbf1ee5</td>\n",
       "      <td>693.148921</td>\n",
       "      <td>130.075854</td>\n",
       "      <td>1556.114900</td>\n",
       "      <td>2518.020161</td>\n",
       "      <td>720.081093</td>\n",
       "      <td>4382.559070</td>\n",
       "    </tr>\n",
       "    <tr>\n",
       "      <th>14</th>\n",
       "      <td>14</td>\n",
       "      <td>SobolBatch_12</td>\n",
       "      <td>c146daa2-59c2-489d-83e1-14b606c758fc</td>\n",
       "      <td>848.047266</td>\n",
       "      <td>732.173101</td>\n",
       "      <td>1508.285778</td>\n",
       "      <td>1740.169035</td>\n",
       "      <td>1700.583844</td>\n",
       "      <td>3470.740976</td>\n",
       "    </tr>\n",
       "    <tr>\n",
       "      <th>15</th>\n",
       "      <td>15</td>\n",
       "      <td>SobolBatch_13</td>\n",
       "      <td>7eaf8b21-1fd0-419e-b44b-67469728c063</td>\n",
       "      <td>923.594209</td>\n",
       "      <td>503.061843</td>\n",
       "      <td>2643.862393</td>\n",
       "      <td>2026.966746</td>\n",
       "      <td>2296.325785</td>\n",
       "      <td>1606.189024</td>\n",
       "    </tr>\n",
       "    <tr>\n",
       "      <th>16</th>\n",
       "      <td>16</td>\n",
       "      <td>SobolBatch_14</td>\n",
       "      <td>796059d0-259c-44ea-9820-627c7a5a462d</td>\n",
       "      <td>944.356584</td>\n",
       "      <td>232.155670</td>\n",
       "      <td>2547.755122</td>\n",
       "      <td>1803.322905</td>\n",
       "      <td>1200.366609</td>\n",
       "      <td>3272.043111</td>\n",
       "    </tr>\n",
       "    <tr>\n",
       "      <th>17</th>\n",
       "      <td>17</td>\n",
       "      <td>SobolBatch_15</td>\n",
       "      <td>7f0cbf97-a14c-4a34-bece-e48905ef5cb6</td>\n",
       "      <td>818.586938</td>\n",
       "      <td>285.968111</td>\n",
       "      <td>1140.161887</td>\n",
       "      <td>1971.045852</td>\n",
       "      <td>3650.595541</td>\n",
       "      <td>2133.641671</td>\n",
       "    </tr>\n",
       "    <tr>\n",
       "      <th>18</th>\n",
       "      <td>18</td>\n",
       "      <td>SobolBatch_16</td>\n",
       "      <td>9f0e550d-8c3b-48f8-b05b-3092a9eb9abf</td>\n",
       "      <td>671.600283</td>\n",
       "      <td>564.296930</td>\n",
       "      <td>1632.016399</td>\n",
       "      <td>1803.209555</td>\n",
       "      <td>2566.040269</td>\n",
       "      <td>2762.836564</td>\n",
       "    </tr>\n",
       "    <tr>\n",
       "      <th>19</th>\n",
       "      <td>19</td>\n",
       "      <td>SobolBatch_17</td>\n",
       "      <td>1c7ab4d8-843e-4747-abbe-725de30bc0d6</td>\n",
       "      <td>364.329335</td>\n",
       "      <td>109.898493</td>\n",
       "      <td>269.899597</td>\n",
       "      <td>3159.055106</td>\n",
       "      <td>5968.017910</td>\n",
       "      <td>128.799560</td>\n",
       "    </tr>\n",
       "    <tr>\n",
       "      <th>20</th>\n",
       "      <td>20</td>\n",
       "      <td>SobolBatch_18</td>\n",
       "      <td>aa909961-99f7-4b8c-a7e0-9a38fbbc8346</td>\n",
       "      <td>1199.895554</td>\n",
       "      <td>705.950829</td>\n",
       "      <td>160.919663</td>\n",
       "      <td>2061.698058</td>\n",
       "      <td>1993.735482</td>\n",
       "      <td>3877.800414</td>\n",
       "    </tr>\n",
       "    <tr>\n",
       "      <th>21</th>\n",
       "      <td>21</td>\n",
       "      <td>SobolBatch_19</td>\n",
       "      <td>dad8cbe0-21da-4acc-a5c5-cccd67db11b8</td>\n",
       "      <td>1251.231271</td>\n",
       "      <td>324.373758</td>\n",
       "      <td>2308.990820</td>\n",
       "      <td>2514.676759</td>\n",
       "      <td>2216.194617</td>\n",
       "      <td>1384.532774</td>\n",
       "    </tr>\n",
       "    <tr>\n",
       "      <th>22</th>\n",
       "      <td>22</td>\n",
       "      <td>SobolBatch_20</td>\n",
       "      <td>8ed3ab1d-6285-441c-9363-e11d4e531e64</td>\n",
       "      <td>777.484631</td>\n",
       "      <td>656.685954</td>\n",
       "      <td>624.872125</td>\n",
       "      <td>2510.997136</td>\n",
       "      <td>803.234216</td>\n",
       "      <td>4626.725938</td>\n",
       "    </tr>\n",
       "    <tr>\n",
       "      <th>23</th>\n",
       "      <td>23</td>\n",
       "      <td>SobolBatch_21</td>\n",
       "      <td>42a6416c-f3e4-49fd-ba8b-a86dee328dd2</td>\n",
       "      <td>1104.232336</td>\n",
       "      <td>624.322440</td>\n",
       "      <td>1338.891129</td>\n",
       "      <td>3213.059840</td>\n",
       "      <td>3204.390569</td>\n",
       "      <td>515.103685</td>\n",
       "    </tr>\n",
       "  </tbody>\n",
       "</table>\n",
       "</div>"
      ],
      "text/plain": [
       "    Unnamed: 0           sample_name                                  uuid  \\\n",
       "1            1  SobolBatch_control_2  5219bd08-7689-483d-92e8-4162d16d8379   \n",
       "2            2  SobolBatch_control_3  27a11227-cf1f-4da7-8875-26bbc1e11a05   \n",
       "3            3          SobolBatch_1  4c0400c8-3631-42ca-92f6-6cd1d0f0b0d3   \n",
       "4            4          SobolBatch_2  fe05e774-5c92-4248-8d59-74afda65ee1a   \n",
       "5            5          SobolBatch_3  aab54b4e-1d8c-4262-a158-e9cdf14edbff   \n",
       "6            6          SobolBatch_4  51558b9d-5018-4c0c-bca8-16b264207ef9   \n",
       "7            7          SobolBatch_5  ae8570a4-85c6-4903-bfa6-852670463b4d   \n",
       "8            8          SobolBatch_6  480d0a24-41e8-4285-b3b3-a7ea95ca0144   \n",
       "9            9          SobolBatch_7  eb9910af-e02a-4fa9-9c48-ca43fcb17d67   \n",
       "10          10          SobolBatch_8  df8f9bd5-efa9-4625-befc-6d481feac9e0   \n",
       "11          11          SobolBatch_9  2bcbf623-7869-4464-b88b-3001cd4a0dc6   \n",
       "12          12         SobolBatch_10  38481d87-b4ac-4cfa-9e91-0e7683a4a427   \n",
       "13          13         SobolBatch_11  b0cffe36-97cf-43ba-86d9-6ad1ddbf1ee5   \n",
       "14          14         SobolBatch_12  c146daa2-59c2-489d-83e1-14b606c758fc   \n",
       "15          15         SobolBatch_13  7eaf8b21-1fd0-419e-b44b-67469728c063   \n",
       "16          16         SobolBatch_14  796059d0-259c-44ea-9820-627c7a5a462d   \n",
       "17          17         SobolBatch_15  7f0cbf97-a14c-4a34-bece-e48905ef5cb6   \n",
       "18          18         SobolBatch_16  9f0e550d-8c3b-48f8-b05b-3092a9eb9abf   \n",
       "19          19         SobolBatch_17  1c7ab4d8-843e-4747-abbe-725de30bc0d6   \n",
       "20          20         SobolBatch_18  aa909961-99f7-4b8c-a7e0-9a38fbbc8346   \n",
       "21          21         SobolBatch_19  dad8cbe0-21da-4acc-a5c5-cccd67db11b8   \n",
       "22          22         SobolBatch_20  8ed3ab1d-6285-441c-9363-e11d4e531e64   \n",
       "23          23         SobolBatch_21  42a6416c-f3e4-49fd-ba8b-a86dee328dd2   \n",
       "\n",
       "    teos_volume  ammonia_volume  water_volume  ethanol_volume  ctab_volume  \\\n",
       "1    739.669722      427.068651   1856.721283     1706.732498  4027.093018   \n",
       "2    739.669722      427.068651   1856.721283     1706.732498  4027.093018   \n",
       "3    188.708728      536.219853   5902.720493     1899.525156  1395.976302   \n",
       "4    342.046843      412.468670   3856.504701     2496.831857  1821.357608   \n",
       "5   1279.257002      197.989525   2256.955528     1727.886502  4074.655569   \n",
       "6   1379.696090      476.024321   1401.834644     2942.551750  1471.099903   \n",
       "7   1533.021926      374.232377   2899.190459     2423.655953   948.718541   \n",
       "8   1025.290547      663.538793    194.788540     1534.896377  5147.818158   \n",
       "9    797.951488      386.142736   2583.533393     3290.473863  2696.846612   \n",
       "10   550.311928      464.820919   1536.394183     3093.254740  3497.176443   \n",
       "11   447.871126      229.133969     28.297768     1877.875639  5447.771839   \n",
       "12  1171.221490      446.345653   1338.086678     1356.029293  3193.747178   \n",
       "13   693.148921      130.075854   1556.114900     2518.020161   720.081093   \n",
       "14   848.047266      732.173101   1508.285778     1740.169035  1700.583844   \n",
       "15   923.594209      503.061843   2643.862393     2026.966746  2296.325785   \n",
       "16   944.356584      232.155670   2547.755122     1803.322905  1200.366609   \n",
       "17   818.586938      285.968111   1140.161887     1971.045852  3650.595541   \n",
       "18   671.600283      564.296930   1632.016399     1803.209555  2566.040269   \n",
       "19   364.329335      109.898493    269.899597     3159.055106  5968.017910   \n",
       "20  1199.895554      705.950829    160.919663     2061.698058  1993.735482   \n",
       "21  1251.231271      324.373758   2308.990820     2514.676759  2216.194617   \n",
       "22   777.484631      656.685954    624.872125     2510.997136   803.234216   \n",
       "23  1104.232336      624.322440   1338.891129     3213.059840  3204.390569   \n",
       "\n",
       "    F127_volume  \n",
       "1   1242.714828  \n",
       "2   1242.714828  \n",
       "3     76.849468  \n",
       "4   1070.790321  \n",
       "5    463.255875  \n",
       "6   2328.793293  \n",
       "7   1821.180744  \n",
       "8   1433.667585  \n",
       "9    245.051907  \n",
       "10   858.041788  \n",
       "11  1969.049659  \n",
       "12  2494.569708  \n",
       "13  4382.559070  \n",
       "14  3470.740976  \n",
       "15  1606.189024  \n",
       "16  3272.043111  \n",
       "17  2133.641671  \n",
       "18  2762.836564  \n",
       "19   128.799560  \n",
       "20  3877.800414  \n",
       "21  1384.532774  \n",
       "22  4626.725938  \n",
       "23   515.103685  "
      ]
     },
     "execution_count": 59,
     "metadata": {},
     "output_type": "execute_result"
    }
   ],
   "source": [
    "sample_table_batch1"
   ]
  },
  {
   "cell_type": "code",
   "execution_count": 60,
   "id": "ea02ea25-08a4-4804-b049-dd7a1cf2820e",
   "metadata": {},
   "outputs": [
    {
     "name": "stdout",
     "output_type": "stream",
     "text": [
      "Starting sample SobolBatch_control_2, 5219bd08-7689-483d-92e8-4162d16d8379 in well Well A2 form 20mLscintillation 12 Well Plate 18000 µL on slot 2\n",
      "Loaded syringe, remaining volume 0 uL\n",
      "breaking dispense into 1 of volume 1706.73249814054\n",
      "Loaded syringe, remaining volume 0 uL\n",
      "breaking dispense into 3 of volume 618.9070943256633\n",
      "remaining vol:  949.0\n"
     ]
    },
    {
     "ename": "KeyboardInterrupt",
     "evalue": "",
     "output_type": "error",
     "traceback": [
      "\u001b[0;31m---------------------------------------------------------------------------\u001b[0m",
      "\u001b[0;31mConnectionResetError\u001b[0m                      Traceback (most recent call last)",
      "File \u001b[0;32m~/miniconda3/envs/jubilee/lib/python3.9/site-packages/urllib3/response.py:737\u001b[0m, in \u001b[0;36mHTTPResponse._error_catcher\u001b[0;34m(self)\u001b[0m\n\u001b[1;32m    736\u001b[0m \u001b[38;5;28;01mtry\u001b[39;00m:\n\u001b[0;32m--> 737\u001b[0m     \u001b[38;5;28;01myield\u001b[39;00m\n\u001b[1;32m    739\u001b[0m \u001b[38;5;28;01mexcept\u001b[39;00m SocketTimeout \u001b[38;5;28;01mas\u001b[39;00m e:\n\u001b[1;32m    740\u001b[0m     \u001b[38;5;66;03m# FIXME: Ideally we'd like to include the url in the ReadTimeoutError but\u001b[39;00m\n\u001b[1;32m    741\u001b[0m     \u001b[38;5;66;03m# there is yet no clean way to get at it from this context.\u001b[39;00m\n",
      "File \u001b[0;32m~/miniconda3/envs/jubilee/lib/python3.9/site-packages/urllib3/response.py:862\u001b[0m, in \u001b[0;36mHTTPResponse._raw_read\u001b[0;34m(self, amt, read1)\u001b[0m\n\u001b[1;32m    861\u001b[0m \u001b[38;5;28;01mwith\u001b[39;00m \u001b[38;5;28mself\u001b[39m\u001b[38;5;241m.\u001b[39m_error_catcher():\n\u001b[0;32m--> 862\u001b[0m     data \u001b[38;5;241m=\u001b[39m \u001b[38;5;28;43mself\u001b[39;49m\u001b[38;5;241;43m.\u001b[39;49m\u001b[43m_fp_read\u001b[49m\u001b[43m(\u001b[49m\u001b[43mamt\u001b[49m\u001b[43m,\u001b[49m\u001b[43m \u001b[49m\u001b[43mread1\u001b[49m\u001b[38;5;241;43m=\u001b[39;49m\u001b[43mread1\u001b[49m\u001b[43m)\u001b[49m \u001b[38;5;28;01mif\u001b[39;00m \u001b[38;5;129;01mnot\u001b[39;00m fp_closed \u001b[38;5;28;01melse\u001b[39;00m \u001b[38;5;124mb\u001b[39m\u001b[38;5;124m\"\u001b[39m\u001b[38;5;124m\"\u001b[39m\n\u001b[1;32m    863\u001b[0m     \u001b[38;5;28;01mif\u001b[39;00m amt \u001b[38;5;129;01mis\u001b[39;00m \u001b[38;5;129;01mnot\u001b[39;00m \u001b[38;5;28;01mNone\u001b[39;00m \u001b[38;5;129;01mand\u001b[39;00m amt \u001b[38;5;241m!=\u001b[39m \u001b[38;5;241m0\u001b[39m \u001b[38;5;129;01mand\u001b[39;00m \u001b[38;5;129;01mnot\u001b[39;00m data:\n\u001b[1;32m    864\u001b[0m         \u001b[38;5;66;03m# Platform-specific: Buggy versions of Python.\u001b[39;00m\n\u001b[1;32m    865\u001b[0m         \u001b[38;5;66;03m# Close the connection when no data is returned\u001b[39;00m\n\u001b[0;32m   (...)\u001b[0m\n\u001b[1;32m    870\u001b[0m         \u001b[38;5;66;03m# not properly close the connection in all cases. There is\u001b[39;00m\n\u001b[1;32m    871\u001b[0m         \u001b[38;5;66;03m# no harm in redundantly calling close.\u001b[39;00m\n",
      "File \u001b[0;32m~/miniconda3/envs/jubilee/lib/python3.9/site-packages/urllib3/response.py:845\u001b[0m, in \u001b[0;36mHTTPResponse._fp_read\u001b[0;34m(self, amt, read1)\u001b[0m\n\u001b[1;32m    843\u001b[0m \u001b[38;5;28;01melse\u001b[39;00m:\n\u001b[1;32m    844\u001b[0m     \u001b[38;5;66;03m# StringIO doesn't like amt=None\u001b[39;00m\n\u001b[0;32m--> 845\u001b[0m     \u001b[38;5;28;01mreturn\u001b[39;00m \u001b[38;5;28;43mself\u001b[39;49m\u001b[38;5;241;43m.\u001b[39;49m\u001b[43m_fp\u001b[49m\u001b[38;5;241;43m.\u001b[39;49m\u001b[43mread\u001b[49m\u001b[43m(\u001b[49m\u001b[43mamt\u001b[49m\u001b[43m)\u001b[49m \u001b[38;5;28;01mif\u001b[39;00m amt \u001b[38;5;129;01mis\u001b[39;00m \u001b[38;5;129;01mnot\u001b[39;00m \u001b[38;5;28;01mNone\u001b[39;00m \u001b[38;5;28;01melse\u001b[39;00m \u001b[38;5;28mself\u001b[39m\u001b[38;5;241m.\u001b[39m_fp\u001b[38;5;241m.\u001b[39mread()\n",
      "File \u001b[0;32m~/miniconda3/envs/jubilee/lib/python3.9/http/client.py:463\u001b[0m, in \u001b[0;36mHTTPResponse.read\u001b[0;34m(self, amt)\u001b[0m\n\u001b[1;32m    462\u001b[0m b \u001b[38;5;241m=\u001b[39m \u001b[38;5;28mbytearray\u001b[39m(amt)\n\u001b[0;32m--> 463\u001b[0m n \u001b[38;5;241m=\u001b[39m \u001b[38;5;28;43mself\u001b[39;49m\u001b[38;5;241;43m.\u001b[39;49m\u001b[43mreadinto\u001b[49m\u001b[43m(\u001b[49m\u001b[43mb\u001b[49m\u001b[43m)\u001b[49m\n\u001b[1;32m    464\u001b[0m \u001b[38;5;28;01mreturn\u001b[39;00m \u001b[38;5;28mmemoryview\u001b[39m(b)[:n]\u001b[38;5;241m.\u001b[39mtobytes()\n",
      "File \u001b[0;32m~/miniconda3/envs/jubilee/lib/python3.9/http/client.py:507\u001b[0m, in \u001b[0;36mHTTPResponse.readinto\u001b[0;34m(self, b)\u001b[0m\n\u001b[1;32m    504\u001b[0m \u001b[38;5;66;03m# we do not use _safe_read() here because this may be a .will_close\u001b[39;00m\n\u001b[1;32m    505\u001b[0m \u001b[38;5;66;03m# connection, and the user is reading more bytes than will be provided\u001b[39;00m\n\u001b[1;32m    506\u001b[0m \u001b[38;5;66;03m# (for example, reading in 1k chunks)\u001b[39;00m\n\u001b[0;32m--> 507\u001b[0m n \u001b[38;5;241m=\u001b[39m \u001b[38;5;28;43mself\u001b[39;49m\u001b[38;5;241;43m.\u001b[39;49m\u001b[43mfp\u001b[49m\u001b[38;5;241;43m.\u001b[39;49m\u001b[43mreadinto\u001b[49m\u001b[43m(\u001b[49m\u001b[43mb\u001b[49m\u001b[43m)\u001b[49m\n\u001b[1;32m    508\u001b[0m \u001b[38;5;28;01mif\u001b[39;00m \u001b[38;5;129;01mnot\u001b[39;00m n \u001b[38;5;129;01mand\u001b[39;00m b:\n\u001b[1;32m    509\u001b[0m     \u001b[38;5;66;03m# Ideally, we would raise IncompleteRead if the content-length\u001b[39;00m\n\u001b[1;32m    510\u001b[0m     \u001b[38;5;66;03m# wasn't satisfied, but it might break compatibility.\u001b[39;00m\n",
      "File \u001b[0;32m~/miniconda3/envs/jubilee/lib/python3.9/socket.py:704\u001b[0m, in \u001b[0;36mSocketIO.readinto\u001b[0;34m(self, b)\u001b[0m\n\u001b[1;32m    703\u001b[0m \u001b[38;5;28;01mtry\u001b[39;00m:\n\u001b[0;32m--> 704\u001b[0m     \u001b[38;5;28;01mreturn\u001b[39;00m \u001b[38;5;28;43mself\u001b[39;49m\u001b[38;5;241;43m.\u001b[39;49m\u001b[43m_sock\u001b[49m\u001b[38;5;241;43m.\u001b[39;49m\u001b[43mrecv_into\u001b[49m\u001b[43m(\u001b[49m\u001b[43mb\u001b[49m\u001b[43m)\u001b[49m\n\u001b[1;32m    705\u001b[0m \u001b[38;5;28;01mexcept\u001b[39;00m timeout:\n",
      "\u001b[0;31mConnectionResetError\u001b[0m: [Errno 54] Connection reset by peer",
      "\nThe above exception was the direct cause of the following exception:\n",
      "\u001b[0;31mProtocolError\u001b[0m                             Traceback (most recent call last)",
      "File \u001b[0;32m~/miniconda3/envs/jubilee/lib/python3.9/site-packages/requests/models.py:816\u001b[0m, in \u001b[0;36mResponse.iter_content.<locals>.generate\u001b[0;34m()\u001b[0m\n\u001b[1;32m    815\u001b[0m \u001b[38;5;28;01mtry\u001b[39;00m:\n\u001b[0;32m--> 816\u001b[0m     \u001b[38;5;28;01myield from\u001b[39;00m \u001b[38;5;28mself\u001b[39m\u001b[38;5;241m.\u001b[39mraw\u001b[38;5;241m.\u001b[39mstream(chunk_size, decode_content\u001b[38;5;241m=\u001b[39m\u001b[38;5;28;01mTrue\u001b[39;00m)\n\u001b[1;32m    817\u001b[0m \u001b[38;5;28;01mexcept\u001b[39;00m ProtocolError \u001b[38;5;28;01mas\u001b[39;00m e:\n",
      "File \u001b[0;32m~/miniconda3/envs/jubilee/lib/python3.9/site-packages/urllib3/response.py:1043\u001b[0m, in \u001b[0;36mHTTPResponse.stream\u001b[0;34m(self, amt, decode_content)\u001b[0m\n\u001b[1;32m   1042\u001b[0m \u001b[38;5;28;01mwhile\u001b[39;00m \u001b[38;5;129;01mnot\u001b[39;00m is_fp_closed(\u001b[38;5;28mself\u001b[39m\u001b[38;5;241m.\u001b[39m_fp) \u001b[38;5;129;01mor\u001b[39;00m \u001b[38;5;28mlen\u001b[39m(\u001b[38;5;28mself\u001b[39m\u001b[38;5;241m.\u001b[39m_decoded_buffer) \u001b[38;5;241m>\u001b[39m \u001b[38;5;241m0\u001b[39m:\n\u001b[0;32m-> 1043\u001b[0m     data \u001b[38;5;241m=\u001b[39m \u001b[38;5;28;43mself\u001b[39;49m\u001b[38;5;241;43m.\u001b[39;49m\u001b[43mread\u001b[49m\u001b[43m(\u001b[49m\u001b[43mamt\u001b[49m\u001b[38;5;241;43m=\u001b[39;49m\u001b[43mamt\u001b[49m\u001b[43m,\u001b[49m\u001b[43m \u001b[49m\u001b[43mdecode_content\u001b[49m\u001b[38;5;241;43m=\u001b[39;49m\u001b[43mdecode_content\u001b[49m\u001b[43m)\u001b[49m\n\u001b[1;32m   1045\u001b[0m     \u001b[38;5;28;01mif\u001b[39;00m data:\n",
      "File \u001b[0;32m~/miniconda3/envs/jubilee/lib/python3.9/site-packages/urllib3/response.py:935\u001b[0m, in \u001b[0;36mHTTPResponse.read\u001b[0;34m(self, amt, decode_content, cache_content)\u001b[0m\n\u001b[1;32m    933\u001b[0m         \u001b[38;5;28;01mreturn\u001b[39;00m \u001b[38;5;28mself\u001b[39m\u001b[38;5;241m.\u001b[39m_decoded_buffer\u001b[38;5;241m.\u001b[39mget(amt)\n\u001b[0;32m--> 935\u001b[0m data \u001b[38;5;241m=\u001b[39m \u001b[38;5;28;43mself\u001b[39;49m\u001b[38;5;241;43m.\u001b[39;49m\u001b[43m_raw_read\u001b[49m\u001b[43m(\u001b[49m\u001b[43mamt\u001b[49m\u001b[43m)\u001b[49m\n\u001b[1;32m    937\u001b[0m flush_decoder \u001b[38;5;241m=\u001b[39m amt \u001b[38;5;129;01mis\u001b[39;00m \u001b[38;5;28;01mNone\u001b[39;00m \u001b[38;5;129;01mor\u001b[39;00m (amt \u001b[38;5;241m!=\u001b[39m \u001b[38;5;241m0\u001b[39m \u001b[38;5;129;01mand\u001b[39;00m \u001b[38;5;129;01mnot\u001b[39;00m data)\n",
      "File \u001b[0;32m~/miniconda3/envs/jubilee/lib/python3.9/site-packages/urllib3/response.py:891\u001b[0m, in \u001b[0;36mHTTPResponse._raw_read\u001b[0;34m(self, amt, read1)\u001b[0m\n\u001b[1;32m    884\u001b[0m     \u001b[38;5;28;01melif\u001b[39;00m read1 \u001b[38;5;129;01mand\u001b[39;00m (\n\u001b[1;32m    885\u001b[0m         (amt \u001b[38;5;241m!=\u001b[39m \u001b[38;5;241m0\u001b[39m \u001b[38;5;129;01mand\u001b[39;00m \u001b[38;5;129;01mnot\u001b[39;00m data) \u001b[38;5;129;01mor\u001b[39;00m \u001b[38;5;28mself\u001b[39m\u001b[38;5;241m.\u001b[39mlength_remaining \u001b[38;5;241m==\u001b[39m \u001b[38;5;28mlen\u001b[39m(data)\n\u001b[1;32m    886\u001b[0m     ):\n\u001b[0;32m   (...)\u001b[0m\n\u001b[1;32m    889\u001b[0m         \u001b[38;5;66;03m# `http.client.HTTPResponse`, so we close it here.\u001b[39;00m\n\u001b[1;32m    890\u001b[0m         \u001b[38;5;66;03m# See https://github.com/python/cpython/issues/113199\u001b[39;00m\n\u001b[0;32m--> 891\u001b[0m         \u001b[38;5;28mself\u001b[39m\u001b[38;5;241m.\u001b[39m_fp\u001b[38;5;241m.\u001b[39mclose()\n\u001b[1;32m    893\u001b[0m \u001b[38;5;28;01mif\u001b[39;00m data:\n",
      "File \u001b[0;32m~/miniconda3/envs/jubilee/lib/python3.9/contextlib.py:137\u001b[0m, in \u001b[0;36m_GeneratorContextManager.__exit__\u001b[0;34m(self, typ, value, traceback)\u001b[0m\n\u001b[1;32m    136\u001b[0m \u001b[38;5;28;01mtry\u001b[39;00m:\n\u001b[0;32m--> 137\u001b[0m     \u001b[38;5;28;43mself\u001b[39;49m\u001b[38;5;241;43m.\u001b[39;49m\u001b[43mgen\u001b[49m\u001b[38;5;241;43m.\u001b[39;49m\u001b[43mthrow\u001b[49m\u001b[43m(\u001b[49m\u001b[43mtyp\u001b[49m\u001b[43m,\u001b[49m\u001b[43m \u001b[49m\u001b[43mvalue\u001b[49m\u001b[43m,\u001b[49m\u001b[43m \u001b[49m\u001b[43mtraceback\u001b[49m\u001b[43m)\u001b[49m\n\u001b[1;32m    138\u001b[0m \u001b[38;5;28;01mexcept\u001b[39;00m \u001b[38;5;167;01mStopIteration\u001b[39;00m \u001b[38;5;28;01mas\u001b[39;00m exc:\n\u001b[1;32m    139\u001b[0m     \u001b[38;5;66;03m# Suppress StopIteration *unless* it's the same exception that\u001b[39;00m\n\u001b[1;32m    140\u001b[0m     \u001b[38;5;66;03m# was passed to throw().  This prevents a StopIteration\u001b[39;00m\n\u001b[1;32m    141\u001b[0m     \u001b[38;5;66;03m# raised inside the \"with\" statement from being suppressed.\u001b[39;00m\n",
      "File \u001b[0;32m~/miniconda3/envs/jubilee/lib/python3.9/site-packages/urllib3/response.py:764\u001b[0m, in \u001b[0;36mHTTPResponse._error_catcher\u001b[0;34m(self)\u001b[0m\n\u001b[1;32m    763\u001b[0m \u001b[38;5;28;01mexcept\u001b[39;00m (HTTPException, \u001b[38;5;167;01mOSError\u001b[39;00m) \u001b[38;5;28;01mas\u001b[39;00m e:\n\u001b[0;32m--> 764\u001b[0m     \u001b[38;5;28;01mraise\u001b[39;00m ProtocolError(\u001b[38;5;124mf\u001b[39m\u001b[38;5;124m\"\u001b[39m\u001b[38;5;124mConnection broken: \u001b[39m\u001b[38;5;132;01m{\u001b[39;00me\u001b[38;5;132;01m!r}\u001b[39;00m\u001b[38;5;124m\"\u001b[39m, e) \u001b[38;5;28;01mfrom\u001b[39;00m \u001b[38;5;21;01me\u001b[39;00m\n\u001b[1;32m    766\u001b[0m \u001b[38;5;66;03m# If no exception is thrown, we should avoid cleaning up\u001b[39;00m\n\u001b[1;32m    767\u001b[0m \u001b[38;5;66;03m# unnecessarily.\u001b[39;00m\n",
      "\u001b[0;31mProtocolError\u001b[0m: (\"Connection broken: ConnectionResetError(54, 'Connection reset by peer')\", ConnectionResetError(54, 'Connection reset by peer'))",
      "\nDuring handling of the above exception, another exception occurred:\n",
      "\u001b[0;31mChunkedEncodingError\u001b[0m                      Traceback (most recent call last)",
      "File \u001b[0;32m~/Code/science-jubilee/src/science_jubilee/Machine.py:492\u001b[0m, in \u001b[0;36mMachine.gcode\u001b[0;34m(self, cmd, timeout, response_wait)\u001b[0m\n\u001b[1;32m    490\u001b[0m \u001b[38;5;28;01mtry\u001b[39;00m:\n\u001b[1;32m    491\u001b[0m     \u001b[38;5;66;03m# Try sending the command with requests.post\u001b[39;00m\n\u001b[0;32m--> 492\u001b[0m     response \u001b[38;5;241m=\u001b[39m \u001b[43mrequests\u001b[49m\u001b[38;5;241;43m.\u001b[39;49m\u001b[43mpost\u001b[49m\u001b[43m(\u001b[49m\n\u001b[1;32m    493\u001b[0m \u001b[43m        \u001b[49m\u001b[38;5;124;43mf\u001b[39;49m\u001b[38;5;124;43m\"\u001b[39;49m\u001b[38;5;124;43mhttp://\u001b[39;49m\u001b[38;5;132;43;01m{\u001b[39;49;00m\u001b[38;5;28;43mself\u001b[39;49m\u001b[38;5;241;43m.\u001b[39;49m\u001b[43maddress\u001b[49m\u001b[38;5;132;43;01m}\u001b[39;49;00m\u001b[38;5;124;43m/machine/code\u001b[39;49m\u001b[38;5;124;43m\"\u001b[39;49m\u001b[43m,\u001b[49m\u001b[43m \u001b[49m\u001b[43mdata\u001b[49m\u001b[38;5;241;43m=\u001b[39;49m\u001b[38;5;124;43mf\u001b[39;49m\u001b[38;5;124;43m\"\u001b[39;49m\u001b[38;5;132;43;01m{\u001b[39;49;00m\u001b[43mcmd\u001b[49m\u001b[38;5;132;43;01m}\u001b[39;49;00m\u001b[38;5;124;43m\"\u001b[39;49m\u001b[43m,\u001b[49m\u001b[43m \u001b[49m\u001b[43mtimeout\u001b[49m\u001b[38;5;241;43m=\u001b[39;49m\u001b[43mtimeout\u001b[49m\n\u001b[1;32m    494\u001b[0m \u001b[43m    \u001b[49m\u001b[43m)\u001b[49m\u001b[38;5;241m.\u001b[39mtext\n\u001b[1;32m    495\u001b[0m     \u001b[38;5;28;01mif\u001b[39;00m \u001b[38;5;124m\"\u001b[39m\u001b[38;5;124mrejected\u001b[39m\u001b[38;5;124m\"\u001b[39m \u001b[38;5;129;01min\u001b[39;00m response:\n",
      "File \u001b[0;32m~/miniconda3/envs/jubilee/lib/python3.9/site-packages/requests/api.py:115\u001b[0m, in \u001b[0;36mpost\u001b[0;34m(url, data, json, **kwargs)\u001b[0m\n\u001b[1;32m    104\u001b[0m \u001b[38;5;250m\u001b[39m\u001b[38;5;124mr\u001b[39m\u001b[38;5;124;03m\"\"\"Sends a POST request.\u001b[39;00m\n\u001b[1;32m    105\u001b[0m \n\u001b[1;32m    106\u001b[0m \u001b[38;5;124;03m:param url: URL for the new :class:`Request` object.\u001b[39;00m\n\u001b[0;32m   (...)\u001b[0m\n\u001b[1;32m    112\u001b[0m \u001b[38;5;124;03m:rtype: requests.Response\u001b[39;00m\n\u001b[1;32m    113\u001b[0m \u001b[38;5;124;03m\"\"\"\u001b[39;00m\n\u001b[0;32m--> 115\u001b[0m \u001b[38;5;28;01mreturn\u001b[39;00m \u001b[43mrequest\u001b[49m\u001b[43m(\u001b[49m\u001b[38;5;124;43m\"\u001b[39;49m\u001b[38;5;124;43mpost\u001b[39;49m\u001b[38;5;124;43m\"\u001b[39;49m\u001b[43m,\u001b[49m\u001b[43m \u001b[49m\u001b[43murl\u001b[49m\u001b[43m,\u001b[49m\u001b[43m \u001b[49m\u001b[43mdata\u001b[49m\u001b[38;5;241;43m=\u001b[39;49m\u001b[43mdata\u001b[49m\u001b[43m,\u001b[49m\u001b[43m \u001b[49m\u001b[43mjson\u001b[49m\u001b[38;5;241;43m=\u001b[39;49m\u001b[43mjson\u001b[49m\u001b[43m,\u001b[49m\u001b[43m \u001b[49m\u001b[38;5;241;43m*\u001b[39;49m\u001b[38;5;241;43m*\u001b[39;49m\u001b[43mkwargs\u001b[49m\u001b[43m)\u001b[49m\n",
      "File \u001b[0;32m~/miniconda3/envs/jubilee/lib/python3.9/site-packages/requests/api.py:59\u001b[0m, in \u001b[0;36mrequest\u001b[0;34m(method, url, **kwargs)\u001b[0m\n\u001b[1;32m     58\u001b[0m \u001b[38;5;28;01mwith\u001b[39;00m sessions\u001b[38;5;241m.\u001b[39mSession() \u001b[38;5;28;01mas\u001b[39;00m session:\n\u001b[0;32m---> 59\u001b[0m     \u001b[38;5;28;01mreturn\u001b[39;00m \u001b[43msession\u001b[49m\u001b[38;5;241;43m.\u001b[39;49m\u001b[43mrequest\u001b[49m\u001b[43m(\u001b[49m\u001b[43mmethod\u001b[49m\u001b[38;5;241;43m=\u001b[39;49m\u001b[43mmethod\u001b[49m\u001b[43m,\u001b[49m\u001b[43m \u001b[49m\u001b[43murl\u001b[49m\u001b[38;5;241;43m=\u001b[39;49m\u001b[43murl\u001b[49m\u001b[43m,\u001b[49m\u001b[43m \u001b[49m\u001b[38;5;241;43m*\u001b[39;49m\u001b[38;5;241;43m*\u001b[39;49m\u001b[43mkwargs\u001b[49m\u001b[43m)\u001b[49m\n",
      "File \u001b[0;32m~/miniconda3/envs/jubilee/lib/python3.9/site-packages/requests/sessions.py:589\u001b[0m, in \u001b[0;36mSession.request\u001b[0;34m(self, method, url, params, data, headers, cookies, files, auth, timeout, allow_redirects, proxies, hooks, stream, verify, cert, json)\u001b[0m\n\u001b[1;32m    588\u001b[0m send_kwargs\u001b[38;5;241m.\u001b[39mupdate(settings)\n\u001b[0;32m--> 589\u001b[0m resp \u001b[38;5;241m=\u001b[39m \u001b[38;5;28;43mself\u001b[39;49m\u001b[38;5;241;43m.\u001b[39;49m\u001b[43msend\u001b[49m\u001b[43m(\u001b[49m\u001b[43mprep\u001b[49m\u001b[43m,\u001b[49m\u001b[43m \u001b[49m\u001b[38;5;241;43m*\u001b[39;49m\u001b[38;5;241;43m*\u001b[39;49m\u001b[43msend_kwargs\u001b[49m\u001b[43m)\u001b[49m\n\u001b[1;32m    591\u001b[0m \u001b[38;5;28;01mreturn\u001b[39;00m resp\n",
      "File \u001b[0;32m~/miniconda3/envs/jubilee/lib/python3.9/site-packages/requests/sessions.py:747\u001b[0m, in \u001b[0;36mSession.send\u001b[0;34m(self, request, **kwargs)\u001b[0m\n\u001b[1;32m    746\u001b[0m \u001b[38;5;28;01mif\u001b[39;00m \u001b[38;5;129;01mnot\u001b[39;00m stream:\n\u001b[0;32m--> 747\u001b[0m     \u001b[43mr\u001b[49m\u001b[38;5;241;43m.\u001b[39;49m\u001b[43mcontent\u001b[49m\n\u001b[1;32m    749\u001b[0m \u001b[38;5;28;01mreturn\u001b[39;00m r\n",
      "File \u001b[0;32m~/miniconda3/envs/jubilee/lib/python3.9/site-packages/requests/models.py:899\u001b[0m, in \u001b[0;36mResponse.content\u001b[0;34m(self)\u001b[0m\n\u001b[1;32m    898\u001b[0m     \u001b[38;5;28;01melse\u001b[39;00m:\n\u001b[0;32m--> 899\u001b[0m         \u001b[38;5;28mself\u001b[39m\u001b[38;5;241m.\u001b[39m_content \u001b[38;5;241m=\u001b[39m \u001b[38;5;124;43mb\u001b[39;49m\u001b[38;5;124;43m\"\u001b[39;49m\u001b[38;5;124;43m\"\u001b[39;49m\u001b[38;5;241;43m.\u001b[39;49m\u001b[43mjoin\u001b[49m\u001b[43m(\u001b[49m\u001b[38;5;28;43mself\u001b[39;49m\u001b[38;5;241;43m.\u001b[39;49m\u001b[43miter_content\u001b[49m\u001b[43m(\u001b[49m\u001b[43mCONTENT_CHUNK_SIZE\u001b[49m\u001b[43m)\u001b[49m\u001b[43m)\u001b[49m \u001b[38;5;129;01mor\u001b[39;00m \u001b[38;5;124mb\u001b[39m\u001b[38;5;124m\"\u001b[39m\u001b[38;5;124m\"\u001b[39m\n\u001b[1;32m    901\u001b[0m \u001b[38;5;28mself\u001b[39m\u001b[38;5;241m.\u001b[39m_content_consumed \u001b[38;5;241m=\u001b[39m \u001b[38;5;28;01mTrue\u001b[39;00m\n",
      "File \u001b[0;32m~/miniconda3/envs/jubilee/lib/python3.9/site-packages/requests/models.py:818\u001b[0m, in \u001b[0;36mResponse.iter_content.<locals>.generate\u001b[0;34m()\u001b[0m\n\u001b[1;32m    817\u001b[0m \u001b[38;5;28;01mexcept\u001b[39;00m ProtocolError \u001b[38;5;28;01mas\u001b[39;00m e:\n\u001b[0;32m--> 818\u001b[0m     \u001b[38;5;28;01mraise\u001b[39;00m ChunkedEncodingError(e)\n\u001b[1;32m    819\u001b[0m \u001b[38;5;28;01mexcept\u001b[39;00m DecodeError \u001b[38;5;28;01mas\u001b[39;00m e:\n",
      "\u001b[0;31mChunkedEncodingError\u001b[0m: (\"Connection broken: ConnectionResetError(54, 'Connection reset by peer')\", ConnectionResetError(54, 'Connection reset by peer'))",
      "\nDuring handling of the above exception, another exception occurred:\n",
      "\u001b[0;31mKeyboardInterrupt\u001b[0m                         Traceback (most recent call last)",
      "Cell \u001b[0;32mIn[60], line 29\u001b[0m\n\u001b[1;32m     26\u001b[0m logger\u001b[38;5;241m.\u001b[39minfo(\u001b[38;5;124mf\u001b[39m\u001b[38;5;124m'\u001b[39m\u001b[38;5;124mAdded \u001b[39m\u001b[38;5;132;01m{\u001b[39;00methanol_volume\u001b[38;5;132;01m}\u001b[39;00m\u001b[38;5;124m uL ethanol to \u001b[39m\u001b[38;5;132;01m{\u001b[39;00m\u001b[38;5;28mstr\u001b[39m(sample_uid)\u001b[38;5;132;01m}\u001b[39;00m\u001b[38;5;124m'\u001b[39m) \n\u001b[1;32m     28\u001b[0m \u001b[38;5;66;03m#add water\u001b[39;00m\n\u001b[0;32m---> 29\u001b[0m \u001b[43mstober\u001b[49m\u001b[38;5;241;43m.\u001b[39;49m\u001b[43madd_reactants_batch\u001b[49m\u001b[43m(\u001b[49m\u001b[43mjubilee\u001b[49m\u001b[43m,\u001b[49m\u001b[43m \u001b[49m\u001b[43mwater_syringe\u001b[49m\u001b[43m,\u001b[49m\u001b[43m \u001b[49m\u001b[43mmix_syringe\u001b[49m\u001b[43m,\u001b[49m\u001b[43m \u001b[49m\u001b[43msample_table_select\u001b[49m\u001b[43m,\u001b[49m\u001b[43m \u001b[49m\u001b[43mlocation_lookup_selected\u001b[49m\u001b[43m,\u001b[49m\u001b[43m \u001b[49m\u001b[38;5;124;43m'\u001b[39;49m\u001b[38;5;124;43mwater_volume\u001b[39;49m\u001b[38;5;124;43m'\u001b[39;49m\u001b[43m,\u001b[49m\u001b[43m \u001b[49m\u001b[43mwater_stocks\u001b[49m\u001b[43m,\u001b[49m\u001b[43m \u001b[49m\u001b[43mdwell_time\u001b[49m\u001b[43m \u001b[49m\u001b[38;5;241;43m=\u001b[39;49m\u001b[43m \u001b[49m\u001b[38;5;241;43m7\u001b[39;49m\u001b[43m)\u001b[49m\n\u001b[1;32m     30\u001b[0m \u001b[38;5;28mprint\u001b[39m(\u001b[38;5;124mf\u001b[39m\u001b[38;5;124m'\u001b[39m\u001b[38;5;124madded water\u001b[39m\u001b[38;5;124m'\u001b[39m)\n\u001b[1;32m     31\u001b[0m logger\u001b[38;5;241m.\u001b[39minfo(\u001b[38;5;124mf\u001b[39m\u001b[38;5;124m'\u001b[39m\u001b[38;5;124mAdded water to \u001b[39m\u001b[38;5;132;01m{\u001b[39;00m\u001b[38;5;28mstr\u001b[39m(sample_uid)\u001b[38;5;132;01m}\u001b[39;00m\u001b[38;5;124m'\u001b[39m) \n",
      "File \u001b[0;32m~/Code/silica-np-synthesis/APS/../stober_synthesis_utils.py:194\u001b[0m, in \u001b[0;36madd_reactants_batch\u001b[0;34m(jubilee, reactant_syringe, mix_syringe, sample_table, location_lookup, reactant_name, stocks, mix_after, dwell_time, wait, refill_dwell, n_rinse, return_time)\u001b[0m\n\u001b[1;32m    191\u001b[0m \u001b[38;5;28;01mfor\u001b[39;00m i \u001b[38;5;129;01min\u001b[39;00m \u001b[38;5;28mrange\u001b[39m(n_dispenses):\n\u001b[1;32m    192\u001b[0m     \u001b[38;5;66;03m# make sure syringe has enough volume\u001b[39;00m\n\u001b[1;32m    193\u001b[0m     \u001b[38;5;28;01mif\u001b[39;00m dispense_volume \u001b[38;5;241m>\u001b[39m reactant_syringe\u001b[38;5;241m.\u001b[39mremaining_volume:\n\u001b[0;32m--> 194\u001b[0m         \u001b[43m_refill_syringe\u001b[49m\u001b[43m(\u001b[49m\u001b[43mreactant_syringe\u001b[49m\u001b[43m,\u001b[49m\u001b[43m \u001b[49m\u001b[43mstocks\u001b[49m\u001b[43m,\u001b[49m\u001b[43m \u001b[49m\u001b[43mrefill_dwell\u001b[49m\u001b[43m)\u001b[49m\n\u001b[1;32m    195\u001b[0m         \u001b[38;5;28mprint\u001b[39m(\u001b[38;5;124m'\u001b[39m\u001b[38;5;124mremaining vol: \u001b[39m\u001b[38;5;124m'\u001b[39m, reactant_syringe\u001b[38;5;241m.\u001b[39mremaining_volume)\n\u001b[1;32m    197\u001b[0m     reactant_syringe\u001b[38;5;241m.\u001b[39mdispense(step_volume, dispense_location\u001b[38;5;241m.\u001b[39mbottom(\u001b[38;5;241m+\u001b[39m\u001b[38;5;241m5\u001b[39m), s \u001b[38;5;241m=\u001b[39m \u001b[38;5;241m20\u001b[39m)\n",
      "File \u001b[0;32m~/Code/silica-np-synthesis/APS/../stober_synthesis_utils.py:160\u001b[0m, in \u001b[0;36m_refill_syringe\u001b[0;34m(syringe, stocks, refill_dwell)\u001b[0m\n\u001b[1;32m    157\u001b[0m syringe\u001b[38;5;241m.\u001b[39maspirate(aspirate_vol, current_stock\u001b[38;5;241m.\u001b[39mbottom(\u001b[38;5;241m+\u001b[39m\u001b[38;5;241m5\u001b[39m), s \u001b[38;5;241m=\u001b[39m \u001b[38;5;241m10\u001b[39m, dwell_before \u001b[38;5;241m=\u001b[39m refill_dwell)\n\u001b[1;32m    158\u001b[0m \u001b[38;5;66;03m#3. update remaining volumes\u001b[39;00m\n\u001b[1;32m    159\u001b[0m \u001b[38;5;66;03m#backlash correction\u001b[39;00m\n\u001b[0;32m--> 160\u001b[0m \u001b[43msyringe\u001b[49m\u001b[38;5;241;43m.\u001b[39;49m\u001b[43mdispense\u001b[49m\u001b[43m(\u001b[49m\u001b[38;5;241;43m50\u001b[39;49m\u001b[43m,\u001b[49m\u001b[43m \u001b[49m\u001b[43mcurrent_stock\u001b[49m\u001b[38;5;241;43m.\u001b[39;49m\u001b[43mbottom\u001b[49m\u001b[43m(\u001b[49m\u001b[38;5;241;43m+\u001b[39;49m\u001b[38;5;241;43m5\u001b[39;49m\u001b[43m)\u001b[49m\u001b[43m,\u001b[49m\u001b[43m \u001b[49m\u001b[43ms\u001b[49m\u001b[43m \u001b[49m\u001b[38;5;241;43m=\u001b[39;49m\u001b[43m \u001b[49m\u001b[38;5;241;43m10\u001b[39;49m\u001b[43m)\u001b[49m\n\u001b[1;32m    161\u001b[0m stocks\u001b[38;5;241m.\u001b[39mupdate_available_volume(current_stock, aspirate_vol \u001b[38;5;241m+\u001b[39m \u001b[38;5;241m50\u001b[39m)\n\u001b[1;32m    163\u001b[0m \u001b[38;5;28;01mreturn\u001b[39;00m\n",
      "File \u001b[0;32m~/Code/science-jubilee/src/science_jubilee/tools/Tool.py:49\u001b[0m, in \u001b[0;36mrequires_active_tool.<locals>.wrapper\u001b[0;34m(self, *args, **kwargs)\u001b[0m\n\u001b[1;32m     45\u001b[0m     \u001b[38;5;28;01mraise\u001b[39;00m ToolStateError(\n\u001b[1;32m     46\u001b[0m         \u001b[38;5;124mf\u001b[39m\u001b[38;5;124m\"\u001b[39m\u001b[38;5;124mError: Tool \u001b[39m\u001b[38;5;132;01m{\u001b[39;00m\u001b[38;5;28mself\u001b[39m\u001b[38;5;241m.\u001b[39mname\u001b[38;5;132;01m}\u001b[39;00m\u001b[38;5;124m is not the current `Active Tool`. Cannot perform this action\u001b[39m\u001b[38;5;124m\"\u001b[39m\n\u001b[1;32m     47\u001b[0m     )\n\u001b[1;32m     48\u001b[0m \u001b[38;5;28;01melse\u001b[39;00m:\n\u001b[0;32m---> 49\u001b[0m     \u001b[38;5;28;01mreturn\u001b[39;00m \u001b[43mfunc\u001b[49m\u001b[43m(\u001b[49m\u001b[38;5;28;43mself\u001b[39;49m\u001b[43m,\u001b[49m\u001b[43m \u001b[49m\u001b[38;5;241;43m*\u001b[39;49m\u001b[43margs\u001b[49m\u001b[43m,\u001b[49m\u001b[43m \u001b[49m\u001b[38;5;241;43m*\u001b[39;49m\u001b[38;5;241;43m*\u001b[39;49m\u001b[43mkwargs\u001b[49m\u001b[43m)\u001b[49m\n",
      "File \u001b[0;32m~/Code/science-jubilee/src/science_jubilee/tools/HTTPSyringe.py:162\u001b[0m, in \u001b[0;36mHTTPSyringe.dispense\u001b[0;34m(self, vol, location, s)\u001b[0m\n\u001b[1;32m    159\u001b[0m \u001b[38;5;28;01melse\u001b[39;00m:\n\u001b[1;32m    160\u001b[0m     \u001b[38;5;28;01mpass\u001b[39;00m\n\u001b[0;32m--> 162\u001b[0m \u001b[38;5;28;43mself\u001b[39;49m\u001b[38;5;241;43m.\u001b[39;49m\u001b[43m_machine\u001b[49m\u001b[38;5;241;43m.\u001b[39;49m\u001b[43msafe_z_movement\u001b[49m\u001b[43m(\u001b[49m\u001b[43m)\u001b[49m\n\u001b[1;32m    163\u001b[0m \u001b[38;5;28mself\u001b[39m\u001b[38;5;241m.\u001b[39m_machine\u001b[38;5;241m.\u001b[39mmove_to(x\u001b[38;5;241m=\u001b[39mx, y\u001b[38;5;241m=\u001b[39my, wait\u001b[38;5;241m=\u001b[39m\u001b[38;5;28;01mTrue\u001b[39;00m)\n\u001b[1;32m    164\u001b[0m \u001b[38;5;28mself\u001b[39m\u001b[38;5;241m.\u001b[39m_machine\u001b[38;5;241m.\u001b[39mmove_to(z\u001b[38;5;241m=\u001b[39mz, wait\u001b[38;5;241m=\u001b[39m\u001b[38;5;28;01mTrue\u001b[39;00m)\n",
      "File \u001b[0;32m~/Code/science-jubilee/src/science_jubilee/Machine.py:936\u001b[0m, in \u001b[0;36mMachine.safe_z_movement\u001b[0;34m(self)\u001b[0m\n\u001b[1;32m    934\u001b[0m safe_z \u001b[38;5;241m=\u001b[39m \u001b[38;5;28mself\u001b[39m\u001b[38;5;241m.\u001b[39mdeck\u001b[38;5;241m.\u001b[39msafe_z\n\u001b[1;32m    935\u001b[0m \u001b[38;5;28;01mif\u001b[39;00m \u001b[38;5;28mfloat\u001b[39m(current_z) \u001b[38;5;241m<\u001b[39m safe_z:\n\u001b[0;32m--> 936\u001b[0m     \u001b[38;5;28;43mself\u001b[39;49m\u001b[38;5;241;43m.\u001b[39;49m\u001b[43mmove_to\u001b[49m\u001b[43m(\u001b[49m\u001b[43mz\u001b[49m\u001b[38;5;241;43m=\u001b[39;49m\u001b[43msafe_z\u001b[49m\u001b[43m \u001b[49m\u001b[38;5;241;43m+\u001b[39;49m\u001b[43m \u001b[49m\u001b[38;5;241;43m20\u001b[39;49m\u001b[43m)\u001b[49m\n\u001b[1;32m    937\u001b[0m \u001b[38;5;28;01melse\u001b[39;00m:\n\u001b[1;32m    938\u001b[0m     \u001b[38;5;28;01mpass\u001b[39;00m\n",
      "File \u001b[0;32m~/Code/science-jubilee/src/science_jubilee/Machine.py:852\u001b[0m, in \u001b[0;36mMachine.move_to\u001b[0;34m(self, x, y, z, e, v, s, param, wait)\u001b[0m\n\u001b[1;32m    834\u001b[0m \u001b[38;5;250m\u001b[39m\u001b[38;5;124;03m\"\"\"Move to an absolute X/Y/Z/E/V position.\u001b[39;00m\n\u001b[1;32m    835\u001b[0m \n\u001b[1;32m    836\u001b[0m \u001b[38;5;124;03m:param x: x position on the bed, in whatever units have been set (default mm)\u001b[39;00m\n\u001b[0;32m   (...)\u001b[0m\n\u001b[1;32m    848\u001b[0m \n\u001b[1;32m    849\u001b[0m \u001b[38;5;124;03m\"\"\"\u001b[39;00m\n\u001b[1;32m    850\u001b[0m \u001b[38;5;28mself\u001b[39m\u001b[38;5;241m.\u001b[39m_set_absolute_positioning()\n\u001b[0;32m--> 852\u001b[0m \u001b[38;5;28;43mself\u001b[39;49m\u001b[38;5;241;43m.\u001b[39;49m\u001b[43m_move_xyzev\u001b[49m\u001b[43m(\u001b[49m\u001b[43mx\u001b[49m\u001b[38;5;241;43m=\u001b[39;49m\u001b[43mx\u001b[49m\u001b[43m,\u001b[49m\u001b[43m \u001b[49m\u001b[43my\u001b[49m\u001b[38;5;241;43m=\u001b[39;49m\u001b[43my\u001b[49m\u001b[43m,\u001b[49m\u001b[43m \u001b[49m\u001b[43mz\u001b[49m\u001b[38;5;241;43m=\u001b[39;49m\u001b[43mz\u001b[49m\u001b[43m,\u001b[49m\u001b[43m \u001b[49m\u001b[43me\u001b[49m\u001b[38;5;241;43m=\u001b[39;49m\u001b[43me\u001b[49m\u001b[43m,\u001b[49m\u001b[43m \u001b[49m\u001b[43mv\u001b[49m\u001b[38;5;241;43m=\u001b[39;49m\u001b[43mv\u001b[49m\u001b[43m,\u001b[49m\u001b[43m \u001b[49m\u001b[43ms\u001b[49m\u001b[38;5;241;43m=\u001b[39;49m\u001b[43ms\u001b[49m\u001b[43m,\u001b[49m\u001b[43m \u001b[49m\u001b[43mparam\u001b[49m\u001b[38;5;241;43m=\u001b[39;49m\u001b[43mparam\u001b[49m\u001b[43m,\u001b[49m\u001b[43m \u001b[49m\u001b[43mwait\u001b[49m\u001b[38;5;241;43m=\u001b[39;49m\u001b[43mwait\u001b[49m\u001b[43m)\u001b[49m\n",
      "File \u001b[0;32m~/Code/science-jubilee/src/science_jubilee/Machine.py:58\u001b[0m, in \u001b[0;36mmachine_homed.<locals>.homing_check\u001b[0;34m(self, *args, **kwds)\u001b[0m\n\u001b[1;32m     56\u001b[0m     \u001b[38;5;28;01mreturn\u001b[39;00m func(\u001b[38;5;28mself\u001b[39m, \u001b[38;5;241m*\u001b[39margs, \u001b[38;5;241m*\u001b[39m\u001b[38;5;241m*\u001b[39mkwds)\n\u001b[1;32m     57\u001b[0m \u001b[38;5;28;01mif\u001b[39;00m \u001b[38;5;28mself\u001b[39m\u001b[38;5;241m.\u001b[39maxes_homed \u001b[38;5;129;01mand\u001b[39;00m \u001b[38;5;28mall\u001b[39m(\u001b[38;5;28mself\u001b[39m\u001b[38;5;241m.\u001b[39maxes_homed):\n\u001b[0;32m---> 58\u001b[0m     \u001b[38;5;28;01mreturn\u001b[39;00m \u001b[43mfunc\u001b[49m\u001b[43m(\u001b[49m\u001b[38;5;28;43mself\u001b[39;49m\u001b[43m,\u001b[49m\u001b[43m \u001b[49m\u001b[38;5;241;43m*\u001b[39;49m\u001b[43margs\u001b[49m\u001b[43m,\u001b[49m\u001b[43m \u001b[49m\u001b[38;5;241;43m*\u001b[39;49m\u001b[38;5;241;43m*\u001b[39;49m\u001b[43mkwds\u001b[49m\u001b[43m)\u001b[49m\n\u001b[1;32m     59\u001b[0m \u001b[38;5;66;03m# Request homing status from the object model if not known.\u001b[39;00m\n\u001b[1;32m     60\u001b[0m \u001b[38;5;28mself\u001b[39m\u001b[38;5;241m.\u001b[39maxes_homed \u001b[38;5;241m=\u001b[39m json\u001b[38;5;241m.\u001b[39mloads(\u001b[38;5;28mself\u001b[39m\u001b[38;5;241m.\u001b[39mgcode(\u001b[38;5;124m'\u001b[39m\u001b[38;5;124mM409 K\u001b[39m\u001b[38;5;124m\"\u001b[39m\u001b[38;5;124mmove.axes[].homed\u001b[39m\u001b[38;5;124m\"\u001b[39m\u001b[38;5;124m'\u001b[39m))[\u001b[38;5;124m\"\u001b[39m\u001b[38;5;124mresult\u001b[39m\u001b[38;5;124m\"\u001b[39m]\n",
      "File \u001b[0;32m~/Code/science-jubilee/src/science_jubilee/Machine.py:821\u001b[0m, in \u001b[0;36mMachine._move_xyzev\u001b[0;34m(self, x, y, z, e, v, s, param, wait)\u001b[0m\n\u001b[1;32m    819\u001b[0m \u001b[38;5;28mself\u001b[39m\u001b[38;5;241m.\u001b[39mgcode(cmd)\n\u001b[1;32m    820\u001b[0m \u001b[38;5;28;01mif\u001b[39;00m wait:\n\u001b[0;32m--> 821\u001b[0m     \u001b[38;5;28;43mself\u001b[39;49m\u001b[38;5;241;43m.\u001b[39;49m\u001b[43mgcode\u001b[49m\u001b[43m(\u001b[49m\u001b[38;5;124;43mf\u001b[39;49m\u001b[38;5;124;43m\"\u001b[39;49m\u001b[38;5;124;43mM400\u001b[39;49m\u001b[38;5;124;43m\"\u001b[39;49m\u001b[43m)\u001b[49m\n",
      "File \u001b[0;32m~/Code/science-jubilee/src/science_jubilee/Machine.py:584\u001b[0m, in \u001b[0;36mMachine.gcode\u001b[0;34m(self, cmd, timeout, response_wait)\u001b[0m\n\u001b[1;32m    582\u001b[0m         response \u001b[38;5;241m=\u001b[39m \u001b[38;5;28;01mNone\u001b[39;00m\n\u001b[1;32m    583\u001b[0m         \u001b[38;5;28;01mbreak\u001b[39;00m\n\u001b[0;32m--> 584\u001b[0m     \u001b[43mtime\u001b[49m\u001b[38;5;241;43m.\u001b[39;49m\u001b[43msleep\u001b[49m\u001b[43m(\u001b[49m\u001b[38;5;28;43mself\u001b[39;49m\u001b[38;5;241;43m.\u001b[39;49m\u001b[43mdelay_time\u001b[49m\u001b[43m(\u001b[49m\u001b[43mtry_count\u001b[49m\u001b[43m)\u001b[49m\u001b[43m)\u001b[49m\n\u001b[1;32m    585\u001b[0m     try_count \u001b[38;5;241m+\u001b[39m\u001b[38;5;241m=\u001b[39m \u001b[38;5;241m1\u001b[39m\n\u001b[1;32m    586\u001b[0m \u001b[38;5;28;01mexcept\u001b[39;00m \u001b[38;5;167;01mException\u001b[39;00m \u001b[38;5;28;01mas\u001b[39;00m e:\n",
      "\u001b[0;31mKeyboardInterrupt\u001b[0m: "
     ]
    }
   ],
   "source": [
    "for i, row in sample_table_batch1.iterrows():\n",
    "\n",
    "\n",
    "    if i %3 == 0 and i !=0:\n",
    "        # swap out CTAB\n",
    "        result = input('CTAB swap out required. swap ctab with fresh from the hot plate.')\n",
    "        \n",
    "    sample_uid = row['uuid']\n",
    "    sample_name = row['sample_name']\n",
    "    well = samples.get_well_for_sample(sample_uid)\n",
    "    teos_volume = row['teos_volume']\n",
    "    ethanol_volume = row['ethanol_volume']\n",
    "    ctab_volume = row['ctab_volume']\n",
    "    f127_volume = row['F127_volume']\n",
    "\n",
    "    sample_table_select = sample_table.iloc[i:i+1]\n",
    "    location_lookup_selected = {sample_uid:well}\n",
    "\n",
    "\n",
    "\n",
    "    start_time = time.time()\n",
    "    logger.info(f'Starting sample {sample_name}, {sample_uid} in well {well}')\n",
    "    print(f'Starting sample {sample_name}, {sample_uid} in well {well}')\n",
    "    #add ethanol\n",
    "    stober.reactant_transfer(jubilee, mix_syringe, ethanol_stocks, well, ethanol_volume, 500)\n",
    "    logger.info(f'Added {ethanol_volume} uL ethanol to {str(sample_uid)}') \n",
    "    \n",
    "    #add water\n",
    "    stober.add_reactants_batch(jubilee, water_syringe, mix_syringe, sample_table_select, location_lookup_selected, 'water_volume', water_stocks, dwell_time = 7)\n",
    "    print(f'added water')\n",
    "    logger.info(f'Added water to {str(sample_uid)}') \n",
    "    #add ammonia\n",
    "    stober.add_reactants_batch(jubilee, ammonia_syringe, mix_syringe, sample_table_select, location_lookup_selected, 'ammonia_volume', ammonia_stocks, dwell_time = 10, refill_dwell=5)\n",
    "    print('added ammonia')\n",
    "    logger.info(f'Added ammonia to {str(sample_uid)}') \n",
    "    # add F127\n",
    "    \n",
    "    stober.reactant_transfer(jubilee, surfactant_syringe, f127_stocks, well, f127_volume, 50, rinse_stocks=rinse_stocks_precursor)\n",
    "    print(f'added {f127_volume} f127')\n",
    "    logger.info(f'Added {f127_volume} uL F127 to {str(sample_uid)}') \n",
    "    \n",
    "    stober.reactant_transfer(jubilee, surfactant_syringe, ctab_stocks, well, ctab_volume, 50, rinse_stocks=rinse_stocks_precursor)\n",
    "    print(f'added {ctab_volume} uL CTAB')\n",
    "    logger.info(f'Added {ctab_volume} uL ctab to {str(sample_uid)}') \n",
    "    # mix precursors\n",
    "    \n",
    "    stober.first_mix(jubilee, mix_syringe, 5000, location_lookup_selected, rinse_stocks_precursor, 3, n_rinse = 1)\n",
    "    print('mixed samples')\n",
    "    # add teos\n",
    "    teos_add_time = stober.add_reactants_batch(jubilee, teos_syringe, mix_syringe, sample_table_select, location_lookup_selected, 'teos_volume', teos_stocks, mix_after=(8000, 5, rinse_stocks_teos), wait = False, n_rinse = 1, return_time = True)\n",
    "    \n",
    "    logger.info(f'Added TEOS to sample {sample_name} at {time.strftime(\"%H:%M\", time.localtime(teos_add_time))}')\n",
    "    \n",
    "    print(f'Time from start to TEOS addition: {teos_add_time - start_time} s')\n",
    "    \n",
    "    print(f'########## Complete sample {sample_name} ############')\n",
    "\n",
    "\n"
   ]
  },
  {
   "cell_type": "code",
   "execution_count": null,
   "id": "f28a4af5-ad5f-44ee-988b-900372e6ff6b",
   "metadata": {},
   "outputs": [],
   "source": []
  }
 ],
 "metadata": {
  "kernelspec": {
   "display_name": "Python 3 (ipykernel)",
   "language": "python",
   "name": "python3"
  },
  "language_info": {
   "codemirror_mode": {
    "name": "ipython",
    "version": 3
   },
   "file_extension": ".py",
   "mimetype": "text/x-python",
   "name": "python",
   "nbconvert_exporter": "python",
   "pygments_lexer": "ipython3",
   "version": "3.9.19"
  }
 },
 "nbformat": 4,
 "nbformat_minor": 5
}
