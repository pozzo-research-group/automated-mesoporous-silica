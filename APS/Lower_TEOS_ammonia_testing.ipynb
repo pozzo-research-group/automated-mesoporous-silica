{
 "cells": [
  {
   "cell_type": "code",
   "execution_count": 1,
   "id": "52a23b4a-475f-4440-8fd8-aebed1c3f5ec",
   "metadata": {},
   "outputs": [],
   "source": [
    "%load_ext autoreload\n",
    "%autoreload 2"
   ]
  },
  {
   "cell_type": "code",
   "execution_count": 2,
   "id": "99e9044a-7aee-4e2d-be95-ff4e15f216ac",
   "metadata": {},
   "outputs": [],
   "source": [
    "import torch\n",
    "import matplotlib.pyplot as plt\n",
    "from botorch.utils.sampling import draw_sobol_samples \n",
    "import numpy as np \n",
    "import json\n",
    "\n",
    "import sys\n",
    "sys.path.append('..')\n",
    "import sample_utilities.samples as samples\n",
    "import uuid\n",
    "\n",
    "import scipy\n",
    "from scipy.stats.qmc import Sobol\n",
    "from scipy.stats import qmc\n",
    "\n",
    "import pandas as pd"
   ]
  },
  {
   "cell_type": "markdown",
   "id": "ac6ecc60-681e-4f2e-a1ec-9d6b7a507e74",
   "metadata": {},
   "source": [
    "## Load bounds"
   ]
  },
  {
   "cell_type": "code",
   "execution_count": 17,
   "id": "5581e52f-dddd-4b7e-b12e-9a0ad67208dd",
   "metadata": {},
   "outputs": [],
   "source": [
    "with open('Mesoporous_constants_APS.json', 'r') as f:\n",
    "    constants = json.load(f)\n",
    "\n",
    "\n",
    "ctab_lower_vf = constants['ctab']['minimum_mass']/constants['ctab']['stock_concentration_mg_uL']/target_volume  \n",
    "f127_lower_vf = constants['f127']['minimum_mass']/constants['f127']['stock_concentration_mg_uL']/target_volume\n",
    "\n",
    "ctab_upper_vf = constants['ctab']['maximum_mass']/constants['ctab']['stock_concentration_mg_uL']/target_volume\n",
    "f127_upper_vf = constants['f127']['maximum_mass']/constants['f127']['stock_concentration_mg_uL']/target_volume\n",
    "\n",
    "lower_bounds = [constants['TEOS']['minimum_volume_fraction'],\n",
    "                constants['ammonia']['minimum_volume_fraction'],\n",
    "                constants['ethanol']['minimum_volume_fraction'],\n",
    "                constants['ctab']['minimum_mass'],\n",
    "                constants['f127']['minimum_mass']]\n",
    "\n",
    "upper_bounds = [constants['TEOS']['maximum_volume_fraction'],\n",
    "                constants['ammonia']['maximum_volume_fraction'],\n",
    "                constants['ethanol']['maximum_volume_fraction'],\n",
    "                constants['ctab']['maximum_mass'],\n",
    "                constants['f127']['maximum_mass']]"
   ]
  },
  {
   "cell_type": "code",
   "execution_count": 18,
   "id": "774032a8-1fb5-4b24-b9df-d2597a339f89",
   "metadata": {},
   "outputs": [],
   "source": [
    "target_volume = 10000"
   ]
  },
  {
   "cell_type": "code",
   "execution_count": 19,
   "id": "e4df8588-68c0-4d31-8e82-d54227cc7f25",
   "metadata": {},
   "outputs": [],
   "source": [
    "def manual_mesoporous(sampled_volume_fractions):\n",
    "    \"\"\"\n",
    "    Generates Sobol samples in n dimensions satisfying:\n",
    "    a) Sum of all components = 1.0\n",
    "    b) Last component (nth dim) is in [0.4, 1.0]\n",
    "\n",
    "    Uses rejection sampling: Generates a large pool and filters valid samples.\n",
    "\n",
    "    Args:\n",
    "        n (int): Number of dimensions.\n",
    "        num_samples (int): Number of valid samples to return.\n",
    "        pool_size (int): Number of initial samples to generate before filtering.\n",
    "        seed (int, optional): Random seed for reproducibility.\n",
    "\n",
    "    Returns:\n",
    "        torch.Tensor: (num_samples, n) tensor of valid samples.\n",
    "    \"\"\"\n",
    "\n",
    "    valid_samples = []\n",
    "\n",
    "\n",
    "    teos_vol_frac = sampled_volume_fractions[0]\n",
    "    ammonia_vol_frac = sampled_volume_fractions[1]\n",
    "    ethanol_vol_frac = sampled_volume_fractions[2]\n",
    "    # convert surfactant mass to volumes\n",
    "    ctab_mass = sampled_volume_fractions[3]\n",
    "    f127_mass = sampled_volume_fractions[4]\n",
    "\n",
    "    ctab_vol_frac = ctab_mass/constants['ctab']['stock_concentration_mg_uL']/target_volume\n",
    "    f127_vol_frac = f127_mass/constants['f127']['stock_concentration_mg_uL']/target_volume\n",
    "\n",
    "    water_from_surfactant_vf = ctab_vol_frac+f127_vol_frac\n",
    "\n",
    "    \n",
    "\n",
    "    water_min_vf = constants['water']['minimum_volume_fraction']\n",
    "\n",
    "    # water that needs to be delivered to meet minimum volume fraction\n",
    "    water_min_vf_delivered = max(water_min_vf-water_from_surfactant_vf, 0)\n",
    "\n",
    "    max_other_components = 1 - water_min_vf_delivered\n",
    "\n",
    "    print(max_other_components)\n",
    "\n",
    "\n",
    "    sum_nonwater_additions = teos_vol_frac + ammonia_vol_frac + ethanol_vol_frac + ctab_vol_frac + f127_vol_frac\n",
    "    sum_water_free_additions = teos_vol_frac + ammonia_vol_frac + ethanol_vol_frac\n",
    "    if sum_nonwater_additions < max_other_components:\n",
    "\n",
    "        water_vol_frac = 1 - sum_water_free_additions\n",
    "        sample = [teos_vol_frac, ammonia_vol_frac, ethanol_vol_frac, ctab_mass, f127_mass, water_vol_frac]\n",
    "        \n",
    "        print('found valid sample: ', sample)\n",
    "\n",
    "\n",
    "    return sample"
   ]
  },
  {
   "cell_type": "code",
   "execution_count": 32,
   "id": "20a1c045-b9e4-400e-99f8-54704f8f695b",
   "metadata": {},
   "outputs": [],
   "source": [
    "vol_fracs = [0.02, 0.02, 0.25, 35, 130]\n"
   ]
  },
  {
   "cell_type": "code",
   "execution_count": 33,
   "id": "0c7df3a0-36c6-4fa0-a643-f53ccc2e333b",
   "metadata": {},
   "outputs": [
    {
     "name": "stdout",
     "output_type": "stream",
     "text": [
      "1\n",
      "found valid sample:  [0.02, 0.02, 0.25, 35, 130, 0.71]\n"
     ]
    }
   ],
   "source": [
    "baseline_samples = manual_mesoporous(vol_fracs)"
   ]
  },
  {
   "cell_type": "code",
   "execution_count": 34,
   "id": "b91b9040-5171-437b-8f7c-d682a388cbab",
   "metadata": {},
   "outputs": [],
   "source": [
    "uuid_vals = [uuid.uuid4() for val in baseline_samples]"
   ]
  },
  {
   "cell_type": "code",
   "execution_count": 35,
   "id": "92dbc828-0d30-464f-b485-7f7cf5d1c2af",
   "metadata": {},
   "outputs": [
    {
     "name": "stdout",
     "output_type": "stream",
     "text": [
      "TEOS ETOH:  370.0\n",
      "Solvent etoh total:  370.0\n",
      "final etoh vol:  2130.0\n"
     ]
    }
   ],
   "source": [
    "samples_gen = []\n",
    "\n",
    "row = baseline_samples\n",
    "sample = samples.MesoporousSample(target_volume=target_volume, reactant_fp='Mesoporous_constants_APS.json', teos_vol_frac=row[0], ammonia_vol_frac=row[1], ethanol_vol_frac=row[2], ctab_mass=row[3], f127_mass=row[4], water_vol_frac=row[5])\n",
    "sample.calculate_reactant_volumes()\n",
    "#sample.calculate_silica_mass_concentration()\n",
    "#sample.calculate_silica_mass_fraction()\n",
    "#sample.calculate_dilution_volumefraction(target_dilution)\n",
    "samples_gen.append(sample)\n",
    "print('final etoh vol: ', sample.ethanol_volume)"
   ]
  },
  {
   "cell_type": "code",
   "execution_count": 36,
   "id": "298d1508-ff2f-408c-b546-6e43e24cdd85",
   "metadata": {},
   "outputs": [
    {
     "data": {
      "text/plain": [
       "2166.666666666666"
      ]
     },
     "execution_count": 36,
     "metadata": {},
     "output_type": "execute_result"
    }
   ],
   "source": [
    "sample.water_volume"
   ]
  },
  {
   "cell_type": "code",
   "execution_count": 37,
   "id": "21d9b564-df31-4e45-8a23-a730771c49d3",
   "metadata": {},
   "outputs": [
    {
     "name": "stdout",
     "output_type": "stream",
     "text": [
      "Total volume sample SobolBaseline_1: 10000.0\n"
     ]
    }
   ],
   "source": [
    "uuid_vals = []\n",
    "teos_volumes = []\n",
    "ammonia_volumes = []\n",
    "ethanol_volumes = []\n",
    "water_volumes = []\n",
    "ctab_volumes = []\n",
    "f127_volumes = []\n",
    "sample_names = []\n",
    "\n",
    "for i, sample in enumerate(samples_gen):\n",
    "    sample_names.append(f'SobolBaseline_{i+1}')\n",
    "    uuid_vals.append(uuid.uuid4())\n",
    "    teos_volumes.append(sample.teos_volume)\n",
    "    ammonia_volumes.append(sample.ammonia_volume)\n",
    "    ethanol_volumes.append(sample.ethanol_volume)\n",
    "    water_volumes.append(sample.water_volume)\n",
    "    ctab_volumes.append(sample.ctab_volume)\n",
    "    f127_volumes.append(sample.f127_volume)\\\n",
    "\n",
    "    total_volume = sample.teos_volume+sample.ammonia_volume + sample.water_volume + sample.ethanol_volume + sample.ctab_volume + sample.f127_volume\n",
    "    print(f'Total volume sample SobolBaseline_{i+1}: {total_volume}')\n",
    "\n"
   ]
  },
  {
   "cell_type": "code",
   "execution_count": 38,
   "id": "689be4c5-20ef-4c50-a9d0-d3685efd9625",
   "metadata": {},
   "outputs": [],
   "source": [
    "sample_table = pd.DataFrame({'sample_name':sample_names,\n",
    "                             'uuid':uuid_vals,\n",
    "                             'teos_volume':teos_volumes,\n",
    "                             'ammonia_volume':ammonia_volumes,\n",
    "                             'water_volume':water_volumes,\n",
    "                             'ethanol_volume':ethanol_volumes,\n",
    "                             'ctab_volume':ctab_volumes,\n",
    "                             'F127_volume':f127_volumes\n",
    "                            })"
   ]
  },
  {
   "cell_type": "code",
   "execution_count": 39,
   "id": "cc3ec247-9ff3-4153-92e1-a82ccd9b8c67",
   "metadata": {},
   "outputs": [
    {
     "data": {
      "text/html": [
       "<div>\n",
       "<style scoped>\n",
       "    .dataframe tbody tr th:only-of-type {\n",
       "        vertical-align: middle;\n",
       "    }\n",
       "\n",
       "    .dataframe tbody tr th {\n",
       "        vertical-align: top;\n",
       "    }\n",
       "\n",
       "    .dataframe thead th {\n",
       "        text-align: right;\n",
       "    }\n",
       "</style>\n",
       "<table border=\"1\" class=\"dataframe\">\n",
       "  <thead>\n",
       "    <tr style=\"text-align: right;\">\n",
       "      <th></th>\n",
       "      <th>sample_name</th>\n",
       "      <th>uuid</th>\n",
       "      <th>teos_volume</th>\n",
       "      <th>ammonia_volume</th>\n",
       "      <th>water_volume</th>\n",
       "      <th>ethanol_volume</th>\n",
       "      <th>ctab_volume</th>\n",
       "      <th>F127_volume</th>\n",
       "    </tr>\n",
       "  </thead>\n",
       "  <tbody>\n",
       "    <tr>\n",
       "      <th>0</th>\n",
       "      <td>SobolBaseline_1</td>\n",
       "      <td>a9415489-89b7-4943-acb9-195a95ad3b0e</td>\n",
       "      <td>570.0</td>\n",
       "      <td>200.0</td>\n",
       "      <td>2166.666667</td>\n",
       "      <td>2130.0</td>\n",
       "      <td>2333.333333</td>\n",
       "      <td>2600.0</td>\n",
       "    </tr>\n",
       "  </tbody>\n",
       "</table>\n",
       "</div>"
      ],
      "text/plain": [
       "       sample_name                                  uuid  teos_volume  \\\n",
       "0  SobolBaseline_1  a9415489-89b7-4943-acb9-195a95ad3b0e        570.0   \n",
       "\n",
       "   ammonia_volume  water_volume  ethanol_volume  ctab_volume  F127_volume  \n",
       "0           200.0   2166.666667          2130.0  2333.333333       2600.0  "
      ]
     },
     "execution_count": 39,
     "metadata": {},
     "output_type": "execute_result"
    }
   ],
   "source": [
    "sample_table"
   ]
  },
  {
   "cell_type": "code",
   "execution_count": 30,
   "id": "1d608388-2206-41e6-bce2-c0954a063189",
   "metadata": {},
   "outputs": [
    {
     "name": "stdout",
     "output_type": "stream",
     "text": [
      "Volume for teos_volume: 285.0, vials required: 0.016764705882352942\n",
      "Volume for ammonia_volume: 100.0, vials required: 0.0058823529411764705\n",
      "Volume for ethanol_volume: 2315.0, vials required: 0.1361764705882353\n",
      "Volume for water_volume: 2366.666666666666, vials required: 0.13921568627450978\n",
      "Volume for ctab_volume: 2333.3333333333335, vials required: 0.13725490196078433\n",
      "Volume for F127_volume: 2600.0, vials required: 0.15294117647058825\n"
     ]
    }
   ],
   "source": [
    "vial_volume = 17000\n",
    "cols = ['teos_volume', 'ammonia_volume', 'ethanol_volume', 'water_volume', 'ctab_volume', 'F127_volume']\n",
    "for col in cols:\n",
    "    total_volume = sample_table.iloc[0:24][col].sum()\n",
    "    n_vials = total_volume/vial_volume\n",
    "    print(f'Volume for {col}: {total_volume}, vials required: {n_vials}')"
   ]
  },
  {
   "cell_type": "code",
   "execution_count": 31,
   "id": "8aa2098f-86b7-494a-a432-16babeddad77",
   "metadata": {},
   "outputs": [],
   "source": [
    "sample_table.to_csv('Mesoporous_LowTEOSAmmonia_testing.csv')"
   ]
  },
  {
   "cell_type": "code",
   "execution_count": null,
   "id": "3df7c9e4-8990-44de-ab63-4b88d2da2d8e",
   "metadata": {},
   "outputs": [],
   "source": []
  }
 ],
 "metadata": {
  "kernelspec": {
   "display_name": "Python 3 (ipykernel)",
   "language": "python",
   "name": "python3"
  },
  "language_info": {
   "codemirror_mode": {
    "name": "ipython",
    "version": 3
   },
   "file_extension": ".py",
   "mimetype": "text/x-python",
   "name": "python",
   "nbconvert_exporter": "python",
   "pygments_lexer": "ipython3",
   "version": "3.12.9"
  }
 },
 "nbformat": 4,
 "nbformat_minor": 5
}
