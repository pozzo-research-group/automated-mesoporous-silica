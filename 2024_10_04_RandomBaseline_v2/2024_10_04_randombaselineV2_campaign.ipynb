{
 "cells": [
  {
   "cell_type": "markdown",
   "id": "110d0499-187d-47cb-b3bd-52e828f810d0",
   "metadata": {},
   "source": [
    "## Setup"
   ]
  },
  {
   "cell_type": "code",
   "execution_count": 1,
   "id": "023a9737-b2dd-4151-af0b-67ea2aeb7386",
   "metadata": {},
   "outputs": [],
   "source": [
    "%load_ext autoreload\n",
    "%autoreload 2"
   ]
  },
  {
   "cell_type": "code",
   "execution_count": 2,
   "id": "a8305f4f-98d9-46aa-b3a5-aef3875465c8",
   "metadata": {},
   "outputs": [],
   "source": [
    "import requests\n",
    "\n",
    "# ----------- Science Jubilee -------------\n",
    "from science_jubilee import Machine as Jub\n",
    "from science_jubilee.tools import HTTPSyringe as syringe\n",
    "from science_jubilee.tools import Pipette\n",
    "import time\n",
    "import numpy as np\n",
    "import pandas as pd\n",
    "import logging\n",
    "import sys\n",
    "sys.path.append('..')\n",
    "import stober_synthesis_utils as stober"
   ]
  },
  {
   "cell_type": "code",
   "execution_count": 3,
   "id": "39e0dd27-900a-4151-ad77-cae178e545d7",
   "metadata": {},
   "outputs": [],
   "source": [
    "FORMAT = '%(asctime)s:%(levelname)s:%(name)s:%(message)s'\n",
    "logging.basicConfig(filename = '2024_10_04_Jubileesynthesiscampaign_randombaselineV2.log', level = logging.INFO, format = FORMAT)\n",
    "logger = logging.getLogger(__name__)"
   ]
  },
  {
   "cell_type": "code",
   "execution_count": 4,
   "id": "ec7339a4-f397-424c-b8fe-dadf591dd460",
   "metadata": {},
   "outputs": [
    {
     "data": {
      "text/plain": [
       "<Logger __main__ (INFO)>"
      ]
     },
     "execution_count": 4,
     "metadata": {},
     "output_type": "execute_result"
    }
   ],
   "source": [
    "logger"
   ]
  },
  {
   "cell_type": "code",
   "execution_count": 5,
   "id": "bb05bc51-e88d-493a-b7ae-ec244bab05d1",
   "metadata": {
    "scrolled": true
   },
   "outputs": [],
   "source": [
    "jubilee = Jub.Machine(address='192.168.1.2', simulated = False) "
   ]
  },
  {
   "cell_type": "code",
   "execution_count": 6,
   "id": "be879d07-88f1-44e2-b3ed-9d747dbcf08c",
   "metadata": {},
   "outputs": [],
   "source": [
    "logging.info('test')"
   ]
  },
  {
   "cell_type": "code",
   "execution_count": 7,
   "id": "8c90cdc0-c96e-48c3-972a-03b11576bdc1",
   "metadata": {
    "scrolled": true
   },
   "outputs": [],
   "source": [
    "#jubilee.home_all()\n",
    "#logger.info('Homed Jubilee')"
   ]
  },
  {
   "cell_type": "code",
   "execution_count": 7,
   "id": "7dd1d29b-638a-4d85-9cf3-986931deae0f",
   "metadata": {},
   "outputs": [],
   "source": [
    "deck = jubilee.load_deck('lab_automation_deck_AFL_bolton.json')"
   ]
  },
  {
   "cell_type": "code",
   "execution_count": 8,
   "id": "475cb5e3-e654-4862-bda5-7331a19949e0",
   "metadata": {},
   "outputs": [],
   "source": [
    "sample_table = pd.read_csv('Sample_table_2024_10_04_randomsampleV2.csv')"
   ]
  },
  {
   "cell_type": "code",
   "execution_count": 9,
   "id": "d0d05dfd-6cff-4a48-bb66-d9c4418091a6",
   "metadata": {},
   "outputs": [
    {
     "data": {
      "text/html": [
       "<div>\n",
       "<style scoped>\n",
       "    .dataframe tbody tr th:only-of-type {\n",
       "        vertical-align: middle;\n",
       "    }\n",
       "\n",
       "    .dataframe tbody tr th {\n",
       "        vertical-align: top;\n",
       "    }\n",
       "\n",
       "    .dataframe thead th {\n",
       "        text-align: right;\n",
       "    }\n",
       "</style>\n",
       "<table border=\"1\" class=\"dataframe\">\n",
       "  <thead>\n",
       "    <tr style=\"text-align: right;\">\n",
       "      <th></th>\n",
       "      <th>Unnamed: 0</th>\n",
       "      <th>uuid</th>\n",
       "      <th>teos_volume</th>\n",
       "      <th>ammonia_volume</th>\n",
       "      <th>water_volume</th>\n",
       "      <th>ethanol_volume</th>\n",
       "      <th>dilution_volume_fraction</th>\n",
       "      <th>silica_mass_conc</th>\n",
       "      <th>silica_mass_fraction</th>\n",
       "      <th>well</th>\n",
       "    </tr>\n",
       "  </thead>\n",
       "  <tbody>\n",
       "    <tr>\n",
       "      <th>0</th>\n",
       "      <td>0</td>\n",
       "      <td>4bec4e18-80bb-44d9-8508-cc464f14b287</td>\n",
       "      <td>50.221052</td>\n",
       "      <td>124.240610</td>\n",
       "      <td>164.940826</td>\n",
       "      <td>1360.597512</td>\n",
       "      <td>0.362682</td>\n",
       "      <td>7.951422</td>\n",
       "      <td>0.009674</td>\n",
       "      <td>A1</td>\n",
       "    </tr>\n",
       "    <tr>\n",
       "      <th>1</th>\n",
       "      <td>1</td>\n",
       "      <td>a180d359-a229-4b3e-a615-2991fd549f42</td>\n",
       "      <td>166.906371</td>\n",
       "      <td>105.547296</td>\n",
       "      <td>82.831240</td>\n",
       "      <td>1344.715094</td>\n",
       "      <td>0.109129</td>\n",
       "      <td>26.426030</td>\n",
       "      <td>0.032207</td>\n",
       "      <td>A2</td>\n",
       "    </tr>\n",
       "    <tr>\n",
       "      <th>2</th>\n",
       "      <td>2</td>\n",
       "      <td>3584700a-8b01-4e59-a53a-1300fd3fac0a</td>\n",
       "      <td>83.477895</td>\n",
       "      <td>57.716266</td>\n",
       "      <td>175.101719</td>\n",
       "      <td>1383.704120</td>\n",
       "      <td>0.218193</td>\n",
       "      <td>13.216927</td>\n",
       "      <td>0.016085</td>\n",
       "      <td>A3</td>\n",
       "    </tr>\n",
       "    <tr>\n",
       "      <th>3</th>\n",
       "      <td>3</td>\n",
       "      <td>0e6edb88-77c3-4984-a38d-198341bba9e1</td>\n",
       "      <td>190.436887</td>\n",
       "      <td>103.859345</td>\n",
       "      <td>139.812858</td>\n",
       "      <td>1265.890910</td>\n",
       "      <td>0.095645</td>\n",
       "      <td>30.151581</td>\n",
       "      <td>0.036353</td>\n",
       "      <td>A4</td>\n",
       "    </tr>\n",
       "    <tr>\n",
       "      <th>4</th>\n",
       "      <td>4</td>\n",
       "      <td>68831f53-4a51-4f12-b385-10c50c8fab46</td>\n",
       "      <td>75.225504</td>\n",
       "      <td>170.914159</td>\n",
       "      <td>187.560764</td>\n",
       "      <td>1266.299573</td>\n",
       "      <td>0.242129</td>\n",
       "      <td>11.910339</td>\n",
       "      <td>0.014352</td>\n",
       "      <td>A5</td>\n",
       "    </tr>\n",
       "    <tr>\n",
       "      <th>5</th>\n",
       "      <td>5</td>\n",
       "      <td>fed3ab35-04e9-4916-8527-8627191a3bdc</td>\n",
       "      <td>20.153131</td>\n",
       "      <td>63.839548</td>\n",
       "      <td>49.461665</td>\n",
       "      <td>1566.545656</td>\n",
       "      <td>0.903794</td>\n",
       "      <td>3.190814</td>\n",
       "      <td>0.003982</td>\n",
       "      <td>A6</td>\n",
       "    </tr>\n",
       "    <tr>\n",
       "      <th>6</th>\n",
       "      <td>6</td>\n",
       "      <td>32ec16b1-c5b5-4d8b-b396-cd1ad4b740d9</td>\n",
       "      <td>180.798930</td>\n",
       "      <td>8.839735</td>\n",
       "      <td>227.609657</td>\n",
       "      <td>1282.751678</td>\n",
       "      <td>0.100743</td>\n",
       "      <td>28.625618</td>\n",
       "      <td>0.034357</td>\n",
       "      <td>A7</td>\n",
       "    </tr>\n",
       "    <tr>\n",
       "      <th>7</th>\n",
       "      <td>7</td>\n",
       "      <td>a4d8a8f6-2654-490f-b14a-02d3fb1f94b2</td>\n",
       "      <td>247.365515</td>\n",
       "      <td>88.812691</td>\n",
       "      <td>77.661855</td>\n",
       "      <td>1286.159939</td>\n",
       "      <td>0.073633</td>\n",
       "      <td>39.165004</td>\n",
       "      <td>0.047439</td>\n",
       "      <td>A8</td>\n",
       "    </tr>\n",
       "    <tr>\n",
       "      <th>8</th>\n",
       "      <td>8</td>\n",
       "      <td>770a433d-0480-4cee-bf12-ce066c24db55</td>\n",
       "      <td>99.547168</td>\n",
       "      <td>52.059757</td>\n",
       "      <td>14.533589</td>\n",
       "      <td>1533.859486</td>\n",
       "      <td>0.182971</td>\n",
       "      <td>15.761151</td>\n",
       "      <td>0.019630</td>\n",
       "      <td>B1</td>\n",
       "    </tr>\n",
       "    <tr>\n",
       "      <th>9</th>\n",
       "      <td>9</td>\n",
       "      <td>41414be7-3e27-4b4d-b70e-e31d54a733d3</td>\n",
       "      <td>141.393978</td>\n",
       "      <td>8.798971</td>\n",
       "      <td>12.093150</td>\n",
       "      <td>1537.713901</td>\n",
       "      <td>0.128819</td>\n",
       "      <td>22.386692</td>\n",
       "      <td>0.027868</td>\n",
       "      <td>B3</td>\n",
       "    </tr>\n",
       "    <tr>\n",
       "      <th>10</th>\n",
       "      <td>10</td>\n",
       "      <td>6b50a94f-b7f2-402e-a210-e89f507b8861</td>\n",
       "      <td>236.772743</td>\n",
       "      <td>161.033899</td>\n",
       "      <td>71.029398</td>\n",
       "      <td>1231.163959</td>\n",
       "      <td>0.076927</td>\n",
       "      <td>37.487866</td>\n",
       "      <td>0.045243</td>\n",
       "      <td>B4</td>\n",
       "    </tr>\n",
       "    <tr>\n",
       "      <th>11</th>\n",
       "      <td>11</td>\n",
       "      <td>fa1dfc55-e5e0-4514-a66a-e29a5351518a</td>\n",
       "      <td>212.812928</td>\n",
       "      <td>116.070624</td>\n",
       "      <td>172.181750</td>\n",
       "      <td>1198.934699</td>\n",
       "      <td>0.085588</td>\n",
       "      <td>33.694345</td>\n",
       "      <td>0.040300</td>\n",
       "      <td>B5</td>\n",
       "    </tr>\n",
       "    <tr>\n",
       "      <th>12</th>\n",
       "      <td>12</td>\n",
       "      <td>ef17f542-90a3-44a8-a6b8-acb920953fab</td>\n",
       "      <td>79.095359</td>\n",
       "      <td>32.614070</td>\n",
       "      <td>105.160653</td>\n",
       "      <td>1483.129919</td>\n",
       "      <td>0.230283</td>\n",
       "      <td>12.523047</td>\n",
       "      <td>0.015441</td>\n",
       "      <td>B6</td>\n",
       "    </tr>\n",
       "    <tr>\n",
       "      <th>13</th>\n",
       "      <td>13</td>\n",
       "      <td>23850c30-c572-41ad-abf0-7e1bd4fa7397</td>\n",
       "      <td>210.866797</td>\n",
       "      <td>12.467859</td>\n",
       "      <td>61.261513</td>\n",
       "      <td>1415.403831</td>\n",
       "      <td>0.086378</td>\n",
       "      <td>33.386217</td>\n",
       "      <td>0.040940</td>\n",
       "      <td>B8</td>\n",
       "    </tr>\n",
       "    <tr>\n",
       "      <th>14</th>\n",
       "      <td>14</td>\n",
       "      <td>4ab46dcc-3395-4e7b-bb87-52e805e12abb</td>\n",
       "      <td>100.763273</td>\n",
       "      <td>99.758538</td>\n",
       "      <td>32.791728</td>\n",
       "      <td>1466.686461</td>\n",
       "      <td>0.180763</td>\n",
       "      <td>15.953695</td>\n",
       "      <td>0.019736</td>\n",
       "      <td>C1</td>\n",
       "    </tr>\n",
       "    <tr>\n",
       "      <th>15</th>\n",
       "      <td>15</td>\n",
       "      <td>657e707f-abc9-4f86-ae1e-9e59efb6e1f9</td>\n",
       "      <td>201.602263</td>\n",
       "      <td>166.873438</td>\n",
       "      <td>175.253512</td>\n",
       "      <td>1156.270788</td>\n",
       "      <td>0.090348</td>\n",
       "      <td>31.919378</td>\n",
       "      <td>0.038052</td>\n",
       "      <td>C2</td>\n",
       "    </tr>\n",
       "    <tr>\n",
       "      <th>16</th>\n",
       "      <td>16</td>\n",
       "      <td>96ef6012-d812-4975-8b77-8ed7e78669fb</td>\n",
       "      <td>231.030318</td>\n",
       "      <td>58.108501</td>\n",
       "      <td>21.690574</td>\n",
       "      <td>1389.170607</td>\n",
       "      <td>0.078839</td>\n",
       "      <td>36.578677</td>\n",
       "      <td>0.044865</td>\n",
       "      <td>C3</td>\n",
       "    </tr>\n",
       "    <tr>\n",
       "      <th>17</th>\n",
       "      <td>17</td>\n",
       "      <td>e0368e49-ecc3-4ebf-9a19-4e942c829517</td>\n",
       "      <td>93.317123</td>\n",
       "      <td>96.136682</td>\n",
       "      <td>233.576720</td>\n",
       "      <td>1276.969475</td>\n",
       "      <td>0.195187</td>\n",
       "      <td>14.774757</td>\n",
       "      <td>0.017754</td>\n",
       "      <td>C4</td>\n",
       "    </tr>\n",
       "    <tr>\n",
       "      <th>18</th>\n",
       "      <td>18</td>\n",
       "      <td>d03dab18-5712-44f7-9334-14047212632e</td>\n",
       "      <td>173.794498</td>\n",
       "      <td>169.402299</td>\n",
       "      <td>41.136570</td>\n",
       "      <td>1315.666633</td>\n",
       "      <td>0.104804</td>\n",
       "      <td>27.516617</td>\n",
       "      <td>0.033552</td>\n",
       "      <td>C5</td>\n",
       "    </tr>\n",
       "    <tr>\n",
       "      <th>19</th>\n",
       "      <td>19</td>\n",
       "      <td>4d5fd07b-987b-49df-b4ba-54d2a337d945</td>\n",
       "      <td>225.023849</td>\n",
       "      <td>122.331351</td>\n",
       "      <td>220.068861</td>\n",
       "      <td>1132.575940</td>\n",
       "      <td>0.080944</td>\n",
       "      <td>35.627682</td>\n",
       "      <td>0.042242</td>\n",
       "      <td>C6</td>\n",
       "    </tr>\n",
       "  </tbody>\n",
       "</table>\n",
       "</div>"
      ],
      "text/plain": [
       "    Unnamed: 0                                  uuid  teos_volume  \\\n",
       "0            0  4bec4e18-80bb-44d9-8508-cc464f14b287    50.221052   \n",
       "1            1  a180d359-a229-4b3e-a615-2991fd549f42   166.906371   \n",
       "2            2  3584700a-8b01-4e59-a53a-1300fd3fac0a    83.477895   \n",
       "3            3  0e6edb88-77c3-4984-a38d-198341bba9e1   190.436887   \n",
       "4            4  68831f53-4a51-4f12-b385-10c50c8fab46    75.225504   \n",
       "5            5  fed3ab35-04e9-4916-8527-8627191a3bdc    20.153131   \n",
       "6            6  32ec16b1-c5b5-4d8b-b396-cd1ad4b740d9   180.798930   \n",
       "7            7  a4d8a8f6-2654-490f-b14a-02d3fb1f94b2   247.365515   \n",
       "8            8  770a433d-0480-4cee-bf12-ce066c24db55    99.547168   \n",
       "9            9  41414be7-3e27-4b4d-b70e-e31d54a733d3   141.393978   \n",
       "10          10  6b50a94f-b7f2-402e-a210-e89f507b8861   236.772743   \n",
       "11          11  fa1dfc55-e5e0-4514-a66a-e29a5351518a   212.812928   \n",
       "12          12  ef17f542-90a3-44a8-a6b8-acb920953fab    79.095359   \n",
       "13          13  23850c30-c572-41ad-abf0-7e1bd4fa7397   210.866797   \n",
       "14          14  4ab46dcc-3395-4e7b-bb87-52e805e12abb   100.763273   \n",
       "15          15  657e707f-abc9-4f86-ae1e-9e59efb6e1f9   201.602263   \n",
       "16          16  96ef6012-d812-4975-8b77-8ed7e78669fb   231.030318   \n",
       "17          17  e0368e49-ecc3-4ebf-9a19-4e942c829517    93.317123   \n",
       "18          18  d03dab18-5712-44f7-9334-14047212632e   173.794498   \n",
       "19          19  4d5fd07b-987b-49df-b4ba-54d2a337d945   225.023849   \n",
       "\n",
       "    ammonia_volume  water_volume  ethanol_volume  dilution_volume_fraction  \\\n",
       "0       124.240610    164.940826     1360.597512                  0.362682   \n",
       "1       105.547296     82.831240     1344.715094                  0.109129   \n",
       "2        57.716266    175.101719     1383.704120                  0.218193   \n",
       "3       103.859345    139.812858     1265.890910                  0.095645   \n",
       "4       170.914159    187.560764     1266.299573                  0.242129   \n",
       "5        63.839548     49.461665     1566.545656                  0.903794   \n",
       "6         8.839735    227.609657     1282.751678                  0.100743   \n",
       "7        88.812691     77.661855     1286.159939                  0.073633   \n",
       "8        52.059757     14.533589     1533.859486                  0.182971   \n",
       "9         8.798971     12.093150     1537.713901                  0.128819   \n",
       "10      161.033899     71.029398     1231.163959                  0.076927   \n",
       "11      116.070624    172.181750     1198.934699                  0.085588   \n",
       "12       32.614070    105.160653     1483.129919                  0.230283   \n",
       "13       12.467859     61.261513     1415.403831                  0.086378   \n",
       "14       99.758538     32.791728     1466.686461                  0.180763   \n",
       "15      166.873438    175.253512     1156.270788                  0.090348   \n",
       "16       58.108501     21.690574     1389.170607                  0.078839   \n",
       "17       96.136682    233.576720     1276.969475                  0.195187   \n",
       "18      169.402299     41.136570     1315.666633                  0.104804   \n",
       "19      122.331351    220.068861     1132.575940                  0.080944   \n",
       "\n",
       "    silica_mass_conc  silica_mass_fraction well  \n",
       "0           7.951422              0.009674   A1  \n",
       "1          26.426030              0.032207   A2  \n",
       "2          13.216927              0.016085   A3  \n",
       "3          30.151581              0.036353   A4  \n",
       "4          11.910339              0.014352   A5  \n",
       "5           3.190814              0.003982   A6  \n",
       "6          28.625618              0.034357   A7  \n",
       "7          39.165004              0.047439   A8  \n",
       "8          15.761151              0.019630   B1  \n",
       "9          22.386692              0.027868   B3  \n",
       "10         37.487866              0.045243   B4  \n",
       "11         33.694345              0.040300   B5  \n",
       "12         12.523047              0.015441   B6  \n",
       "13         33.386217              0.040940   B8  \n",
       "14         15.953695              0.019736   C1  \n",
       "15         31.919378              0.038052   C2  \n",
       "16         36.578677              0.044865   C3  \n",
       "17         14.774757              0.017754   C4  \n",
       "18         27.516617              0.033552   C5  \n",
       "19         35.627682              0.042242   C6  "
      ]
     },
     "execution_count": 9,
     "metadata": {},
     "output_type": "execute_result"
    }
   ],
   "source": [
    "sample_table"
   ]
  },
  {
   "cell_type": "code",
   "execution_count": 10,
   "id": "9b530793-b2a2-4f5d-9825-b4d8c2028d96",
   "metadata": {},
   "outputs": [
    {
     "data": {
      "text/plain": [
       "{'teos_count': 1, 'ammonia_count': 1, 'water_count': 1, 'ethanol_count': 2}"
      ]
     },
     "execution_count": 10,
     "metadata": {},
     "output_type": "execute_result"
    }
   ],
   "source": [
    "stober.count_stock_vials(sample_table, 15000)"
   ]
  },
  {
   "cell_type": "markdown",
   "id": "43d1f97d-4c55-40d3-ac5b-9c3a3f1062ed",
   "metadata": {},
   "source": [
    "## Load labware\n"
   ]
  },
  {
   "cell_type": "code",
   "execution_count": 48,
   "id": "19b4bfa8-6878-4b0b-a564-369faa361b1c",
   "metadata": {
    "scrolled": true
   },
   "outputs": [
    {
     "name": "stdout",
     "output_type": "stream",
     "text": [
      "Well A1 form septavialrev1_44_holder_2000ul on slot 2\n",
      "16.4 177.6\n",
      "Well A2 form septavialrev1_44_holder_2000ul on slot 2\n",
      "32.65700662062888 177.5275711320641\n",
      "Well A3 form septavialrev1_44_holder_2000ul on slot 2\n",
      "48.91401324125775 177.45514226412826\n",
      "Well A4 form septavialrev1_44_holder_2000ul on slot 2\n",
      "65.17101986188663 177.38271339619237\n",
      "Well A5 form septavialrev1_44_holder_2000ul on slot 2\n",
      "81.42802648251549 177.31028452825652\n",
      "Well A6 form septavialrev1_44_holder_2000ul on slot 2\n",
      "97.68503310314438 177.23785566032063\n",
      "Well A7 form septavialrev1_44_holder_2000ul on slot 2\n",
      "113.94203972377326 177.16542679238475\n",
      "Well A8 form septavialrev1_44_holder_2000ul on slot 2\n",
      "130.19904634440212 177.0929979244489\n",
      "Well B1 form septavialrev1_44_holder_2000ul on slot 2\n",
      "16.337714768025748 163.61978109792705\n",
      "Well B2 form septavialrev1_44_holder_2000ul on slot 2\n",
      "32.59472138865463 163.54735222999116\n",
      "Well B3 form septavialrev1_44_holder_2000ul on slot 2\n",
      "48.8517280092835 163.4749233620553\n",
      "Well B4 form septavialrev1_44_holder_2000ul on slot 2\n",
      "65.10873462991238 163.40249449411942\n",
      "Well B5 form septavialrev1_44_holder_2000ul on slot 2\n",
      "81.36574125054123 163.33006562618354\n",
      "Well B6 form septavialrev1_44_holder_2000ul on slot 2\n",
      "97.62274787117012 163.25763675824768\n",
      "Well B7 form septavialrev1_44_holder_2000ul on slot 2\n",
      "113.879754491799 163.1852078903118\n",
      "Well B8 form septavialrev1_44_holder_2000ul on slot 2\n",
      "130.13676111242788 163.11277902237595\n",
      "Well C1 form septavialrev1_44_holder_2000ul on slot 2\n",
      "16.275429536051494 149.63956219585407\n",
      "Well C2 form septavialrev1_44_holder_2000ul on slot 2\n",
      "32.532436156680376 149.5671333279182\n",
      "Well C3 form septavialrev1_44_holder_2000ul on slot 2\n",
      "48.78944277730925 149.49470445998233\n",
      "Well C4 form septavialrev1_44_holder_2000ul on slot 2\n",
      "65.04644939793813 149.42227559204647\n",
      "Well C5 form septavialrev1_44_holder_2000ul on slot 2\n",
      "81.30345601856699 149.3498467241106\n",
      "Well C6 form septavialrev1_44_holder_2000ul on slot 2\n",
      "97.56046263919588 149.27741785617474\n",
      "Well C7 form septavialrev1_44_holder_2000ul on slot 2\n",
      "113.81746925982476 149.20498898823885\n",
      "Well C8 form septavialrev1_44_holder_2000ul on slot 2\n",
      "130.0744758804536 149.13256012030297\n",
      "Well D1 form septavialrev1_44_holder_2000ul on slot 2\n",
      "16.213144304077243 135.65934329378112\n",
      "Well D2 form septavialrev1_44_holder_2000ul on slot 2\n",
      "32.47015092470612 135.58691442584526\n",
      "Well D3 form septavialrev1_44_holder_2000ul on slot 2\n",
      "48.72715754533499 135.51448555790938\n",
      "Well D4 form septavialrev1_44_holder_2000ul on slot 2\n",
      "64.98416416596388 135.44205668997353\n",
      "Well D5 form septavialrev1_44_holder_2000ul on slot 2\n",
      "81.24117078659273 135.36962782203764\n",
      "Well D6 form septavialrev1_44_holder_2000ul on slot 2\n",
      "97.49817740722162 135.29719895410176\n",
      "Well D7 form septavialrev1_44_holder_2000ul on slot 2\n",
      "113.7551840278505 135.2247700861659\n",
      "Well D8 form septavialrev1_44_holder_2000ul on slot 2\n",
      "130.01219064847936 135.15234121823002\n",
      "Well E1 form septavialrev1_44_holder_2000ul on slot 2\n",
      "16.15085907210299 121.67912439170817\n",
      "Well E2 form septavialrev1_44_holder_2000ul on slot 2\n",
      "32.40786569273187 121.6066955237723\n",
      "Well E3 form septavialrev1_44_holder_2000ul on slot 2\n",
      "48.66487231336074 121.53426665583643\n",
      "Well E4 form septavialrev1_44_holder_2000ul on slot 2\n",
      "64.92187893398963 121.46183778790055\n",
      "Well E5 form septavialrev1_44_holder_2000ul on slot 2\n",
      "81.17888555461849 121.38940891996468\n",
      "Well E6 form septavialrev1_44_holder_2000ul on slot 2\n",
      "97.43589217524737 121.31698005202881\n",
      "Well E7 form septavialrev1_44_holder_2000ul on slot 2\n",
      "113.69289879587626 121.24455118409294\n",
      "Well E8 form septavialrev1_44_holder_2000ul on slot 2\n",
      "129.94990541650512 121.17212231615707\n",
      "Well F1 form septavialrev1_44_holder_2000ul on slot 2\n",
      "16.08857384012874 107.69890548963522\n",
      "Well F2 form septavialrev1_44_holder_2000ul on slot 2\n",
      "32.34558046075762 107.62647662169935\n",
      "Well F3 form septavialrev1_44_holder_2000ul on slot 2\n",
      "48.60258708138649 107.55404775376348\n",
      "Well F4 form septavialrev1_44_holder_2000ul on slot 2\n",
      "64.85959370201537 107.4816188858276\n",
      "Well F5 form septavialrev1_44_holder_2000ul on slot 2\n",
      "81.11660032264423 107.40919001789173\n",
      "Well F6 form septavialrev1_44_holder_2000ul on slot 2\n",
      "97.37360694327312 107.33676114995586\n",
      "Well F7 form septavialrev1_44_holder_2000ul on slot 2\n",
      "113.630613563902 107.26433228201999\n",
      "Well F8 form septavialrev1_44_holder_2000ul on slot 2\n",
      "129.88762018453085 107.19190341408412\n",
      "New manual offset applied to septavialrev1_44_holder_2000ul\n"
     ]
    }
   ],
   "source": [
    "samples = jubilee.load_labware('septavialrev1_44_holder_2000ul.json', 2)\n",
    "samples.manual_offset([(16.4, 177.6),(130.2, 177.8),(130.7, 107.9)])"
   ]
  },
  {
   "cell_type": "code",
   "execution_count": 47,
   "id": "ae25ae3c-41e7-4d2a-bb1e-028b99c9e4e8",
   "metadata": {},
   "outputs": [
    {
     "data": {
      "text/plain": [
       "17.5"
      ]
     },
     "execution_count": 47,
     "metadata": {},
     "output_type": "execute_result"
    }
   ],
   "source": [
    "samples[0].x"
   ]
  },
  {
   "cell_type": "code",
   "execution_count": 44,
   "id": "19ad67cc-b0a8-4c1f-8d6a-60b173599c82",
   "metadata": {},
   "outputs": [
    {
     "name": "stdout",
     "output_type": "stream",
     "text": [
      "Well A1 form 20mLscintillation 12 Well Plate 18000 µL on slot 4\n",
      "29.7 266.9\n",
      "Well A2 form 20mLscintillation 12 Well Plate 18000 µL on slot 4\n",
      "58.36812010181743 266.7333305167096\n",
      "Well A3 form 20mLscintillation 12 Well Plate 18000 µL on slot 4\n",
      "87.03624020363486 266.56666103341917\n",
      "Well A4 form 20mLscintillation 12 Well Plate 18000 µL on slot 4\n",
      "115.7043603054523 266.3999915501288\n",
      "Well B1 form 20mLscintillation 12 Well Plate 18000 µL on slot 4\n",
      "29.534310726230725 238.40048163451604\n",
      "Well B2 form 20mLscintillation 12 Well Plate 18000 µL on slot 4\n",
      "58.20243082804816 238.23381215122564\n",
      "Well B3 form 20mLscintillation 12 Well Plate 18000 µL on slot 4\n",
      "86.87055092986559 238.06714266793523\n",
      "Well B4 form 20mLscintillation 12 Well Plate 18000 µL on slot 4\n",
      "115.53867103168302 237.90047318464482\n",
      "Well C1 form 20mLscintillation 12 Well Plate 18000 µL on slot 4\n",
      "29.36862145246145 209.90096326903208\n",
      "Well C2 form 20mLscintillation 12 Well Plate 18000 µL on slot 4\n",
      "58.03674155427888 209.73429378574167\n",
      "Well C3 form 20mLscintillation 12 Well Plate 18000 µL on slot 4\n",
      "86.70486165609631 209.5676243024513\n",
      "Well C4 form 20mLscintillation 12 Well Plate 18000 µL on slot 4\n",
      "115.37298175791375 209.4009548191609\n",
      "New manual offset applied to 20mlscintillation_12_wellplate_18000ul\n"
     ]
    }
   ],
   "source": [
    "stocks = jubilee.load_labware('20mlscintillation_12_wellplate_18000ul.json', 4)\n",
    "stocks.manual_offset([(29.7, 266.9),(115.7, 267.9),(115.7, 210.9)])"
   ]
  },
  {
   "cell_type": "code",
   "execution_count": 20,
   "id": "1ef40a35-9802-4eb3-9a10-16255155b92d",
   "metadata": {},
   "outputs": [],
   "source": [
    "trash = jubilee.load_labware('agilent_1_reservoir_290ml.json', 1)"
   ]
  },
  {
   "cell_type": "code",
   "execution_count": 61,
   "id": "f7395271-1a02-4f11-883f-34a8456f0a05",
   "metadata": {},
   "outputs": [],
   "source": [
    "teos_stocks = [stocks[0]]\n",
    "ammonia_stocks = [stocks[1]]\n",
    "water_stocks = [stocks[2]]\n",
    "ethanol_stocks = [stocks[3], stocks[4]]\n",
    "rinse_stocks = [stocks[5], stocks[6], stocks[7]]"
   ]
  },
  {
   "cell_type": "code",
   "execution_count": 42,
   "id": "2df51be5-3495-4cb9-9f12-f572bd43b01a",
   "metadata": {},
   "outputs": [
    {
     "data": {
      "text/plain": [
       "[Well A2 form 20mLscintillation 12 Well Plate 18000 µL on slot 4]"
      ]
     },
     "execution_count": 42,
     "metadata": {},
     "output_type": "execute_result"
    }
   ],
   "source": [
    "ammonia_stocks"
   ]
  },
  {
   "cell_type": "markdown",
   "id": "b8f140ff-c5f8-494d-bd58-093982edd086",
   "metadata": {},
   "source": [
    "## Load Tools"
   ]
  },
  {
   "cell_type": "code",
   "execution_count": 14,
   "id": "d73bac24-917c-4c8c-8c30-494146511312",
   "metadata": {},
   "outputs": [],
   "source": [
    "syringe_10 = syringe.HTTPSyringe.from_config(1, \"../../science-jubilee/src/science_jubilee/tools/configs/10cc_syringe.json\")\n",
    "syringe_1_1 = syringe.HTTPSyringe.from_config(2, \"../../science-jubilee/src/science_jubilee/tools/configs/1cc_1_syringe.json\")\n",
    "syringe_1_2 = syringe.HTTPSyringe.from_config(3, \"../../science-jubilee/src/science_jubilee/tools/configs/1cc_2_syringe.json\")\n",
    "syringe_1_3 = syringe.HTTPSyringe.from_config(4, \"../../science-jubilee/src/science_jubilee/tools/configs/1cc_3_syringe.json\")"
   ]
  },
  {
   "cell_type": "code",
   "execution_count": 15,
   "id": "9448524a-f60e-43fd-ae53-0a51c87e6035",
   "metadata": {
    "scrolled": true
   },
   "outputs": [],
   "source": [
    "jubilee.load_tool(syringe_10)\n",
    "jubilee.load_tool(syringe_1_1)\n",
    "jubilee.load_tool(syringe_1_2)\n",
    "jubilee.load_tool(syringe_1_3)"
   ]
  },
  {
   "cell_type": "code",
   "execution_count": 16,
   "id": "21127bbe-632c-4ec0-84f9-57d9772a90db",
   "metadata": {},
   "outputs": [],
   "source": [
    "mix_syringe = syringe_10\n",
    "water_syringe = syringe_1_1\n",
    "ammonia_syringe = syringe_1_2\n",
    "teos_syringe = syringe_1_3"
   ]
  },
  {
   "cell_type": "code",
   "execution_count": null,
   "id": "94cb74b0-3afe-47b0-8c1d-92b1907cf731",
   "metadata": {},
   "outputs": [],
   "source": [
    "#water_syringe.set_pulsewidth(1350, s = 10)"
   ]
  },
  {
   "cell_type": "markdown",
   "id": "e1d880ae-d253-43f5-995f-d2619e29c78a",
   "metadata": {},
   "source": [
    "## Load water syringe with water"
   ]
  },
  {
   "cell_type": "code",
   "execution_count": 21,
   "id": "c2c5387a-b52d-4fd9-97b4-c69ae21a0c12",
   "metadata": {},
   "outputs": [
    {
     "name": "stdout",
     "output_type": "stream",
     "text": [
      "Loaded syringe, remaining volume 600 uL\n"
     ]
    }
   ],
   "source": [
    "water_syringe.load_syringe(600, 1500)"
   ]
  },
  {
   "cell_type": "code",
   "execution_count": 22,
   "id": "de905209-1c7b-49f5-8d35-1fd8092ec72f",
   "metadata": {
    "scrolled": true
   },
   "outputs": [],
   "source": [
    "water_syringe.set_pulsewidth(water_syringe.empty_position-1, s = 2000)"
   ]
  },
  {
   "cell_type": "code",
   "execution_count": 23,
   "id": "3ded8ddd-1034-4679-804b-1a9d6d47b3b6",
   "metadata": {},
   "outputs": [],
   "source": [
    "water_syringe.set_pulsewidth(water_syringe.full_position+1, s = 10)"
   ]
  },
  {
   "cell_type": "code",
   "execution_count": 24,
   "id": "1bb6d726-e6f0-435e-916a-717d8231ed4d",
   "metadata": {},
   "outputs": [],
   "source": [
    "water_syringe.set_pulsewidth(water_syringe.full_position+150, s = 500)"
   ]
  },
  {
   "cell_type": "code",
   "execution_count": 25,
   "id": "80aff25d-bae2-478d-bc07-4b4f11bd5e05",
   "metadata": {},
   "outputs": [
    {
     "name": "stdout",
     "output_type": "stream",
     "text": [
      "Loaded syringe, remaining volume 750 uL\n"
     ]
    }
   ],
   "source": [
    "water_syringe.load_syringe(750, water_syringe.full_position+150)"
   ]
  },
  {
   "cell_type": "markdown",
   "id": "8ea5df3b-0ad5-4dbb-ad3f-089a2d5f2bd1",
   "metadata": {},
   "source": [
    "## Load ammonia syringe"
   ]
  },
  {
   "cell_type": "code",
   "execution_count": 26,
   "id": "87a366e4-d389-4830-b923-0a932968add9",
   "metadata": {},
   "outputs": [],
   "source": [
    "ammonia_syringe.set_pulsewidth(1420, s = 10)"
   ]
  },
  {
   "cell_type": "code",
   "execution_count": 27,
   "id": "2577d8b0-b404-4e92-8480-89ecc9cfb9cb",
   "metadata": {},
   "outputs": [
    {
     "name": "stdout",
     "output_type": "stream",
     "text": [
      "Loaded syringe, remaining volume 600 uL\n"
     ]
    }
   ],
   "source": [
    "ammonia_syringe.load_syringe(600, 1500)"
   ]
  },
  {
   "cell_type": "code",
   "execution_count": 28,
   "id": "73b9205b-4f97-47a7-aad4-cb252a6726ec",
   "metadata": {},
   "outputs": [],
   "source": [
    "ammonia_syringe.set_pulsewidth(ammonia_syringe.empty_position-1, s = 2000)"
   ]
  },
  {
   "cell_type": "code",
   "execution_count": 29,
   "id": "5fe25b32-0448-49fc-8d48-210e01e293b1",
   "metadata": {},
   "outputs": [],
   "source": [
    "ammonia_syringe.set_pulsewidth(ammonia_syringe.full_position+1, s = 10)"
   ]
  },
  {
   "cell_type": "code",
   "execution_count": 30,
   "id": "e0d5f7c9-883e-48d6-86bf-a30bc8698332",
   "metadata": {},
   "outputs": [],
   "source": [
    "ammonia_syringe.set_pulsewidth(ammonia_syringe.full_position+300, s = 500)"
   ]
  },
  {
   "cell_type": "code",
   "execution_count": 31,
   "id": "b5be2527-8c06-4465-8e44-41f410149cd7",
   "metadata": {},
   "outputs": [
    {
     "name": "stdout",
     "output_type": "stream",
     "text": [
      "Loaded syringe, remaining volume 450 uL\n"
     ]
    }
   ],
   "source": [
    "ammonia_syringe.load_syringe(450, ammonia_syringe.full_position+300)"
   ]
  },
  {
   "cell_type": "markdown",
   "id": "e2c53ecf-d14a-4536-8062-9e7af8c51ba8",
   "metadata": {},
   "source": [
    "## Load TEOS syringe"
   ]
  },
  {
   "cell_type": "code",
   "execution_count": 32,
   "id": "639af747-f1f2-4294-849d-bb1661cd5c85",
   "metadata": {},
   "outputs": [
    {
     "name": "stdout",
     "output_type": "stream",
     "text": [
      "Loaded syringe, remaining volume 600 uL\n"
     ]
    }
   ],
   "source": [
    "teos_syringe.load_syringe(600, 1500)"
   ]
  },
  {
   "cell_type": "code",
   "execution_count": 33,
   "id": "c0f31c8b-1651-4872-806b-3dc1a8e208f2",
   "metadata": {},
   "outputs": [],
   "source": [
    "teos_syringe.set_pulsewidth(teos_syringe.empty_position-1, s = 2000)"
   ]
  },
  {
   "cell_type": "code",
   "execution_count": 34,
   "id": "b8f45e72-b019-41fe-b413-6b1e132edbee",
   "metadata": {},
   "outputs": [],
   "source": [
    "teos_syringe.set_pulsewidth(teos_syringe.full_position+1, s = 100)"
   ]
  },
  {
   "cell_type": "code",
   "execution_count": 35,
   "id": "1c9e3fdf-8999-4d1f-97ca-018afe8e8edd",
   "metadata": {},
   "outputs": [],
   "source": [
    "teos_syringe.set_pulsewidth(teos_syringe.full_position+200, s = 200)"
   ]
  },
  {
   "cell_type": "code",
   "execution_count": 36,
   "id": "cf5154eb-2d59-4bd8-90c2-86c3374a662d",
   "metadata": {},
   "outputs": [
    {
     "name": "stdout",
     "output_type": "stream",
     "text": [
      "Loaded syringe, remaining volume 690 uL\n"
     ]
    }
   ],
   "source": [
    "teos_syringe.load_syringe(690, teos_syringe.full_position+200)"
   ]
  },
  {
   "cell_type": "markdown",
   "id": "ad1ac96b-3d53-4da1-aa2c-a8c2386280f8",
   "metadata": {},
   "source": [
    "## load ethanol syringe"
   ]
  },
  {
   "cell_type": "code",
   "execution_count": 71,
   "id": "f1caaf1a-900c-43ed-a57b-754b0d62aa37",
   "metadata": {},
   "outputs": [],
   "source": [
    "jubilee.park_tool()"
   ]
  },
  {
   "cell_type": "code",
   "execution_count": 37,
   "id": "6002eb8f-07a3-4c63-b6e6-ee4e3775b39e",
   "metadata": {},
   "outputs": [
    {
     "name": "stdout",
     "output_type": "stream",
     "text": [
      "Loaded syringe, remaining volume 0 uL\n"
     ]
    }
   ],
   "source": [
    "mix_syringe.load_syringe(0, 1829)"
   ]
  },
  {
   "cell_type": "code",
   "execution_count": 38,
   "id": "75d8f923-d8ff-4368-a589-7481a4f4f1bb",
   "metadata": {},
   "outputs": [],
   "source": [
    "mix_syringe.set_pulsewidth(mix_syringe.empty_position-1, s = 2000)\n"
   ]
  },
  {
   "cell_type": "code",
   "execution_count": 39,
   "id": "534ef3b4-9c24-4bcf-acbf-ac7d63225c9c",
   "metadata": {},
   "outputs": [],
   "source": [
    "mix_syringe.set_pulsewidth(mix_syringe.full_position+1, s = 10)"
   ]
  },
  {
   "cell_type": "code",
   "execution_count": 94,
   "id": "5a8312cd-872e-49bd-815a-d5968bb6b2ec",
   "metadata": {},
   "outputs": [],
   "source": [
    "mix_syringe.set_pulsewidth(mix_syringe.full_position+1, s = 500)"
   ]
  },
  {
   "cell_type": "code",
   "execution_count": 95,
   "id": "99ad1605-10c8-45a3-80cf-c6adfd7ae6a9",
   "metadata": {},
   "outputs": [
    {
     "name": "stdout",
     "output_type": "stream",
     "text": [
      "Loaded syringe, remaining volume 9800 uL\n"
     ]
    }
   ],
   "source": [
    "mix_syringe.load_syringe(9800, mix_syringe.full_position+1)"
   ]
  },
  {
   "cell_type": "markdown",
   "id": "b9dff3f4-8be6-4f73-b343-6221f8df76dc",
   "metadata": {},
   "source": [
    "# Experiment\n"
   ]
  },
  {
   "cell_type": "code",
   "execution_count": 86,
   "id": "9d770745-931b-42d0-8b40-409a83411619",
   "metadata": {},
   "outputs": [],
   "source": [
    "location_lookup = {row['uuid']:samples[row['well']] for i, row in sample_table.iterrows()}"
   ]
  },
  {
   "cell_type": "code",
   "execution_count": 87,
   "id": "78141639-8163-47d5-a870-6eab7588a1c5",
   "metadata": {},
   "outputs": [
    {
     "data": {
      "text/html": [
       "<div>\n",
       "<style scoped>\n",
       "    .dataframe tbody tr th:only-of-type {\n",
       "        vertical-align: middle;\n",
       "    }\n",
       "\n",
       "    .dataframe tbody tr th {\n",
       "        vertical-align: top;\n",
       "    }\n",
       "\n",
       "    .dataframe thead th {\n",
       "        text-align: right;\n",
       "    }\n",
       "</style>\n",
       "<table border=\"1\" class=\"dataframe\">\n",
       "  <thead>\n",
       "    <tr style=\"text-align: right;\">\n",
       "      <th></th>\n",
       "      <th>Unnamed: 0</th>\n",
       "      <th>uuid</th>\n",
       "      <th>teos_volume</th>\n",
       "      <th>ammonia_volume</th>\n",
       "      <th>water_volume</th>\n",
       "      <th>ethanol_volume</th>\n",
       "      <th>dilution_volume_fraction</th>\n",
       "      <th>silica_mass_conc</th>\n",
       "      <th>silica_mass_fraction</th>\n",
       "      <th>well</th>\n",
       "    </tr>\n",
       "  </thead>\n",
       "  <tbody>\n",
       "    <tr>\n",
       "      <th>0</th>\n",
       "      <td>0</td>\n",
       "      <td>4bec4e18-80bb-44d9-8508-cc464f14b287</td>\n",
       "      <td>50.221052</td>\n",
       "      <td>124.240610</td>\n",
       "      <td>164.940826</td>\n",
       "      <td>1360.597512</td>\n",
       "      <td>0.362682</td>\n",
       "      <td>7.951422</td>\n",
       "      <td>0.009674</td>\n",
       "      <td>A1</td>\n",
       "    </tr>\n",
       "    <tr>\n",
       "      <th>1</th>\n",
       "      <td>1</td>\n",
       "      <td>a180d359-a229-4b3e-a615-2991fd549f42</td>\n",
       "      <td>166.906371</td>\n",
       "      <td>105.547296</td>\n",
       "      <td>82.831240</td>\n",
       "      <td>1344.715094</td>\n",
       "      <td>0.109129</td>\n",
       "      <td>26.426030</td>\n",
       "      <td>0.032207</td>\n",
       "      <td>A2</td>\n",
       "    </tr>\n",
       "    <tr>\n",
       "      <th>2</th>\n",
       "      <td>2</td>\n",
       "      <td>3584700a-8b01-4e59-a53a-1300fd3fac0a</td>\n",
       "      <td>83.477895</td>\n",
       "      <td>57.716266</td>\n",
       "      <td>175.101719</td>\n",
       "      <td>1383.704120</td>\n",
       "      <td>0.218193</td>\n",
       "      <td>13.216927</td>\n",
       "      <td>0.016085</td>\n",
       "      <td>A3</td>\n",
       "    </tr>\n",
       "    <tr>\n",
       "      <th>3</th>\n",
       "      <td>3</td>\n",
       "      <td>0e6edb88-77c3-4984-a38d-198341bba9e1</td>\n",
       "      <td>190.436887</td>\n",
       "      <td>103.859345</td>\n",
       "      <td>139.812858</td>\n",
       "      <td>1265.890910</td>\n",
       "      <td>0.095645</td>\n",
       "      <td>30.151581</td>\n",
       "      <td>0.036353</td>\n",
       "      <td>A4</td>\n",
       "    </tr>\n",
       "    <tr>\n",
       "      <th>4</th>\n",
       "      <td>4</td>\n",
       "      <td>68831f53-4a51-4f12-b385-10c50c8fab46</td>\n",
       "      <td>75.225504</td>\n",
       "      <td>170.914159</td>\n",
       "      <td>187.560764</td>\n",
       "      <td>1266.299573</td>\n",
       "      <td>0.242129</td>\n",
       "      <td>11.910339</td>\n",
       "      <td>0.014352</td>\n",
       "      <td>A5</td>\n",
       "    </tr>\n",
       "    <tr>\n",
       "      <th>5</th>\n",
       "      <td>5</td>\n",
       "      <td>fed3ab35-04e9-4916-8527-8627191a3bdc</td>\n",
       "      <td>20.153131</td>\n",
       "      <td>63.839548</td>\n",
       "      <td>49.461665</td>\n",
       "      <td>1566.545656</td>\n",
       "      <td>0.903794</td>\n",
       "      <td>3.190814</td>\n",
       "      <td>0.003982</td>\n",
       "      <td>A6</td>\n",
       "    </tr>\n",
       "    <tr>\n",
       "      <th>6</th>\n",
       "      <td>6</td>\n",
       "      <td>32ec16b1-c5b5-4d8b-b396-cd1ad4b740d9</td>\n",
       "      <td>180.798930</td>\n",
       "      <td>8.839735</td>\n",
       "      <td>227.609657</td>\n",
       "      <td>1282.751678</td>\n",
       "      <td>0.100743</td>\n",
       "      <td>28.625618</td>\n",
       "      <td>0.034357</td>\n",
       "      <td>A7</td>\n",
       "    </tr>\n",
       "    <tr>\n",
       "      <th>7</th>\n",
       "      <td>7</td>\n",
       "      <td>a4d8a8f6-2654-490f-b14a-02d3fb1f94b2</td>\n",
       "      <td>247.365515</td>\n",
       "      <td>88.812691</td>\n",
       "      <td>77.661855</td>\n",
       "      <td>1286.159939</td>\n",
       "      <td>0.073633</td>\n",
       "      <td>39.165004</td>\n",
       "      <td>0.047439</td>\n",
       "      <td>A8</td>\n",
       "    </tr>\n",
       "    <tr>\n",
       "      <th>8</th>\n",
       "      <td>8</td>\n",
       "      <td>770a433d-0480-4cee-bf12-ce066c24db55</td>\n",
       "      <td>99.547168</td>\n",
       "      <td>52.059757</td>\n",
       "      <td>14.533589</td>\n",
       "      <td>1533.859486</td>\n",
       "      <td>0.182971</td>\n",
       "      <td>15.761151</td>\n",
       "      <td>0.019630</td>\n",
       "      <td>B1</td>\n",
       "    </tr>\n",
       "    <tr>\n",
       "      <th>9</th>\n",
       "      <td>9</td>\n",
       "      <td>41414be7-3e27-4b4d-b70e-e31d54a733d3</td>\n",
       "      <td>141.393978</td>\n",
       "      <td>8.798971</td>\n",
       "      <td>12.093150</td>\n",
       "      <td>1537.713901</td>\n",
       "      <td>0.128819</td>\n",
       "      <td>22.386692</td>\n",
       "      <td>0.027868</td>\n",
       "      <td>B3</td>\n",
       "    </tr>\n",
       "    <tr>\n",
       "      <th>10</th>\n",
       "      <td>10</td>\n",
       "      <td>6b50a94f-b7f2-402e-a210-e89f507b8861</td>\n",
       "      <td>236.772743</td>\n",
       "      <td>161.033899</td>\n",
       "      <td>71.029398</td>\n",
       "      <td>1231.163959</td>\n",
       "      <td>0.076927</td>\n",
       "      <td>37.487866</td>\n",
       "      <td>0.045243</td>\n",
       "      <td>B4</td>\n",
       "    </tr>\n",
       "    <tr>\n",
       "      <th>11</th>\n",
       "      <td>11</td>\n",
       "      <td>fa1dfc55-e5e0-4514-a66a-e29a5351518a</td>\n",
       "      <td>212.812928</td>\n",
       "      <td>116.070624</td>\n",
       "      <td>172.181750</td>\n",
       "      <td>1198.934699</td>\n",
       "      <td>0.085588</td>\n",
       "      <td>33.694345</td>\n",
       "      <td>0.040300</td>\n",
       "      <td>B5</td>\n",
       "    </tr>\n",
       "    <tr>\n",
       "      <th>12</th>\n",
       "      <td>12</td>\n",
       "      <td>ef17f542-90a3-44a8-a6b8-acb920953fab</td>\n",
       "      <td>79.095359</td>\n",
       "      <td>32.614070</td>\n",
       "      <td>105.160653</td>\n",
       "      <td>1483.129919</td>\n",
       "      <td>0.230283</td>\n",
       "      <td>12.523047</td>\n",
       "      <td>0.015441</td>\n",
       "      <td>B6</td>\n",
       "    </tr>\n",
       "    <tr>\n",
       "      <th>13</th>\n",
       "      <td>13</td>\n",
       "      <td>23850c30-c572-41ad-abf0-7e1bd4fa7397</td>\n",
       "      <td>210.866797</td>\n",
       "      <td>12.467859</td>\n",
       "      <td>61.261513</td>\n",
       "      <td>1415.403831</td>\n",
       "      <td>0.086378</td>\n",
       "      <td>33.386217</td>\n",
       "      <td>0.040940</td>\n",
       "      <td>B8</td>\n",
       "    </tr>\n",
       "    <tr>\n",
       "      <th>14</th>\n",
       "      <td>14</td>\n",
       "      <td>4ab46dcc-3395-4e7b-bb87-52e805e12abb</td>\n",
       "      <td>100.763273</td>\n",
       "      <td>99.758538</td>\n",
       "      <td>32.791728</td>\n",
       "      <td>1466.686461</td>\n",
       "      <td>0.180763</td>\n",
       "      <td>15.953695</td>\n",
       "      <td>0.019736</td>\n",
       "      <td>C1</td>\n",
       "    </tr>\n",
       "    <tr>\n",
       "      <th>15</th>\n",
       "      <td>15</td>\n",
       "      <td>657e707f-abc9-4f86-ae1e-9e59efb6e1f9</td>\n",
       "      <td>201.602263</td>\n",
       "      <td>166.873438</td>\n",
       "      <td>175.253512</td>\n",
       "      <td>1156.270788</td>\n",
       "      <td>0.090348</td>\n",
       "      <td>31.919378</td>\n",
       "      <td>0.038052</td>\n",
       "      <td>C2</td>\n",
       "    </tr>\n",
       "    <tr>\n",
       "      <th>16</th>\n",
       "      <td>16</td>\n",
       "      <td>96ef6012-d812-4975-8b77-8ed7e78669fb</td>\n",
       "      <td>231.030318</td>\n",
       "      <td>58.108501</td>\n",
       "      <td>21.690574</td>\n",
       "      <td>1389.170607</td>\n",
       "      <td>0.078839</td>\n",
       "      <td>36.578677</td>\n",
       "      <td>0.044865</td>\n",
       "      <td>C3</td>\n",
       "    </tr>\n",
       "    <tr>\n",
       "      <th>17</th>\n",
       "      <td>17</td>\n",
       "      <td>e0368e49-ecc3-4ebf-9a19-4e942c829517</td>\n",
       "      <td>93.317123</td>\n",
       "      <td>96.136682</td>\n",
       "      <td>233.576720</td>\n",
       "      <td>1276.969475</td>\n",
       "      <td>0.195187</td>\n",
       "      <td>14.774757</td>\n",
       "      <td>0.017754</td>\n",
       "      <td>C4</td>\n",
       "    </tr>\n",
       "    <tr>\n",
       "      <th>18</th>\n",
       "      <td>18</td>\n",
       "      <td>d03dab18-5712-44f7-9334-14047212632e</td>\n",
       "      <td>173.794498</td>\n",
       "      <td>169.402299</td>\n",
       "      <td>41.136570</td>\n",
       "      <td>1315.666633</td>\n",
       "      <td>0.104804</td>\n",
       "      <td>27.516617</td>\n",
       "      <td>0.033552</td>\n",
       "      <td>C5</td>\n",
       "    </tr>\n",
       "    <tr>\n",
       "      <th>19</th>\n",
       "      <td>19</td>\n",
       "      <td>4d5fd07b-987b-49df-b4ba-54d2a337d945</td>\n",
       "      <td>225.023849</td>\n",
       "      <td>122.331351</td>\n",
       "      <td>220.068861</td>\n",
       "      <td>1132.575940</td>\n",
       "      <td>0.080944</td>\n",
       "      <td>35.627682</td>\n",
       "      <td>0.042242</td>\n",
       "      <td>C6</td>\n",
       "    </tr>\n",
       "  </tbody>\n",
       "</table>\n",
       "</div>"
      ],
      "text/plain": [
       "    Unnamed: 0                                  uuid  teos_volume  \\\n",
       "0            0  4bec4e18-80bb-44d9-8508-cc464f14b287    50.221052   \n",
       "1            1  a180d359-a229-4b3e-a615-2991fd549f42   166.906371   \n",
       "2            2  3584700a-8b01-4e59-a53a-1300fd3fac0a    83.477895   \n",
       "3            3  0e6edb88-77c3-4984-a38d-198341bba9e1   190.436887   \n",
       "4            4  68831f53-4a51-4f12-b385-10c50c8fab46    75.225504   \n",
       "5            5  fed3ab35-04e9-4916-8527-8627191a3bdc    20.153131   \n",
       "6            6  32ec16b1-c5b5-4d8b-b396-cd1ad4b740d9   180.798930   \n",
       "7            7  a4d8a8f6-2654-490f-b14a-02d3fb1f94b2   247.365515   \n",
       "8            8  770a433d-0480-4cee-bf12-ce066c24db55    99.547168   \n",
       "9            9  41414be7-3e27-4b4d-b70e-e31d54a733d3   141.393978   \n",
       "10          10  6b50a94f-b7f2-402e-a210-e89f507b8861   236.772743   \n",
       "11          11  fa1dfc55-e5e0-4514-a66a-e29a5351518a   212.812928   \n",
       "12          12  ef17f542-90a3-44a8-a6b8-acb920953fab    79.095359   \n",
       "13          13  23850c30-c572-41ad-abf0-7e1bd4fa7397   210.866797   \n",
       "14          14  4ab46dcc-3395-4e7b-bb87-52e805e12abb   100.763273   \n",
       "15          15  657e707f-abc9-4f86-ae1e-9e59efb6e1f9   201.602263   \n",
       "16          16  96ef6012-d812-4975-8b77-8ed7e78669fb   231.030318   \n",
       "17          17  e0368e49-ecc3-4ebf-9a19-4e942c829517    93.317123   \n",
       "18          18  d03dab18-5712-44f7-9334-14047212632e   173.794498   \n",
       "19          19  4d5fd07b-987b-49df-b4ba-54d2a337d945   225.023849   \n",
       "\n",
       "    ammonia_volume  water_volume  ethanol_volume  dilution_volume_fraction  \\\n",
       "0       124.240610    164.940826     1360.597512                  0.362682   \n",
       "1       105.547296     82.831240     1344.715094                  0.109129   \n",
       "2        57.716266    175.101719     1383.704120                  0.218193   \n",
       "3       103.859345    139.812858     1265.890910                  0.095645   \n",
       "4       170.914159    187.560764     1266.299573                  0.242129   \n",
       "5        63.839548     49.461665     1566.545656                  0.903794   \n",
       "6         8.839735    227.609657     1282.751678                  0.100743   \n",
       "7        88.812691     77.661855     1286.159939                  0.073633   \n",
       "8        52.059757     14.533589     1533.859486                  0.182971   \n",
       "9         8.798971     12.093150     1537.713901                  0.128819   \n",
       "10      161.033899     71.029398     1231.163959                  0.076927   \n",
       "11      116.070624    172.181750     1198.934699                  0.085588   \n",
       "12       32.614070    105.160653     1483.129919                  0.230283   \n",
       "13       12.467859     61.261513     1415.403831                  0.086378   \n",
       "14       99.758538     32.791728     1466.686461                  0.180763   \n",
       "15      166.873438    175.253512     1156.270788                  0.090348   \n",
       "16       58.108501     21.690574     1389.170607                  0.078839   \n",
       "17       96.136682    233.576720     1276.969475                  0.195187   \n",
       "18      169.402299     41.136570     1315.666633                  0.104804   \n",
       "19      122.331351    220.068861     1132.575940                  0.080944   \n",
       "\n",
       "    silica_mass_conc  silica_mass_fraction well  \n",
       "0           7.951422              0.009674   A1  \n",
       "1          26.426030              0.032207   A2  \n",
       "2          13.216927              0.016085   A3  \n",
       "3          30.151581              0.036353   A4  \n",
       "4          11.910339              0.014352   A5  \n",
       "5           3.190814              0.003982   A6  \n",
       "6          28.625618              0.034357   A7  \n",
       "7          39.165004              0.047439   A8  \n",
       "8          15.761151              0.019630   B1  \n",
       "9          22.386692              0.027868   B3  \n",
       "10         37.487866              0.045243   B4  \n",
       "11         33.694345              0.040300   B5  \n",
       "12         12.523047              0.015441   B6  \n",
       "13         33.386217              0.040940   B8  \n",
       "14         15.953695              0.019736   C1  \n",
       "15         31.919378              0.038052   C2  \n",
       "16         36.578677              0.044865   C3  \n",
       "17         14.774757              0.017754   C4  \n",
       "18         27.516617              0.033552   C5  \n",
       "19         35.627682              0.042242   C6  "
      ]
     },
     "execution_count": 87,
     "metadata": {},
     "output_type": "execute_result"
    }
   ],
   "source": [
    "sample_table"
   ]
  },
  {
   "cell_type": "code",
   "execution_count": 88,
   "id": "a8ad8a19-66be-4183-b362-36dca547665e",
   "metadata": {},
   "outputs": [
    {
     "data": {
      "text/plain": [
       "177.6"
      ]
     },
     "execution_count": 88,
     "metadata": {},
     "output_type": "execute_result"
    }
   ],
   "source": [
    "location_lookup['4bec4e18-80bb-44d9-8508-cc464f14b287'].y"
   ]
  },
  {
   "cell_type": "markdown",
   "id": "e2ddb62c-d3f3-4c45-917a-e575189606c9",
   "metadata": {},
   "source": [
    "## add ethanol"
   ]
  },
  {
   "cell_type": "code",
   "execution_count": 92,
   "id": "0d3faffe-8c1c-4e63-bd3e-8d379348f304",
   "metadata": {},
   "outputs": [],
   "source": [
    "jubilee.park_tool()"
   ]
  },
  {
   "cell_type": "code",
   "execution_count": 96,
   "id": "1c19ee32-b47e-427e-a9f9-da64900cc228",
   "metadata": {},
   "outputs": [
    {
     "data": {
      "text/plain": [
       "9800"
      ]
     },
     "execution_count": 96,
     "metadata": {},
     "output_type": "execute_result"
    }
   ],
   "source": [
    "mix_syringe.remaining_volume"
   ]
  },
  {
   "cell_type": "code",
   "execution_count": 97,
   "id": "0878ce57-c4fb-4930-8f98-0c2a0fd2ac9d",
   "metadata": {},
   "outputs": [],
   "source": [
    "logger.info('purge issue, reset experiment, ignore previous ethanol addition')"
   ]
  },
  {
   "cell_type": "code",
   "execution_count": 81,
   "id": "712e7f57-3f83-43e3-9400-a65dada2694e",
   "metadata": {},
   "outputs": [
    {
     "data": {
      "text/plain": [
       "16.4"
      ]
     },
     "execution_count": 81,
     "metadata": {},
     "output_type": "execute_result"
    }
   ],
   "source": [
    "samples[0].x"
   ]
  },
  {
   "cell_type": "code",
   "execution_count": 98,
   "id": "0f4144b3-a7f9-4650-886f-054cd544228a",
   "metadata": {},
   "outputs": [],
   "source": [
    "stober.add_reactants_batch(jubilee, mix_syringe, mix_syringe, sample_table, location_lookup, 'ethanol_volume', ethanol_stocks, stocks_usable_volume=15000, dwell_time = 10)"
   ]
  },
  {
   "cell_type": "code",
   "execution_count": 49,
   "id": "11180532-e807-48f7-bdd2-15adde69362e",
   "metadata": {},
   "outputs": [],
   "source": [
    "jubilee.park_tool()"
   ]
  },
  {
   "cell_type": "code",
   "execution_count": 99,
   "id": "7d204157-ed65-4f49-acbc-d192222f0dc6",
   "metadata": {},
   "outputs": [],
   "source": [
    "#dispense remaining volume from etOH mix syringe\n",
    "jubilee.pickup_tool(mix_syringe)\n",
    "mix_syringe.dispense(mix_syringe.remaining_volume-1, trash[0])\n",
    "logger.info('Emptied ethanol syringe into trash')\n",
    "jubilee.park_tool()"
   ]
  },
  {
   "cell_type": "markdown",
   "id": "9e35c96c-2ea8-438a-989d-f6d73c8f16ed",
   "metadata": {},
   "source": [
    "## Dispense water\n"
   ]
  },
  {
   "cell_type": "code",
   "execution_count": 101,
   "id": "1d789d2c-b4f8-44d3-9de6-44e84c33eaf9",
   "metadata": {},
   "outputs": [],
   "source": [
    "jubilee.park_tool()"
   ]
  },
  {
   "cell_type": "code",
   "execution_count": 102,
   "id": "9f765450-7f64-49e7-85f8-335e2fa0b666",
   "metadata": {},
   "outputs": [],
   "source": [
    "stober.add_reactants_batch(jubilee, water_syringe, mix_syringe, sample_table, location_lookup, 'water_volume', water_stocks, dwell_time = 7)"
   ]
  },
  {
   "cell_type": "markdown",
   "id": "cd60cc24-167e-46e5-9e73-a2457c8964de",
   "metadata": {},
   "source": [
    "## dispense Ammonia"
   ]
  },
  {
   "cell_type": "code",
   "execution_count": 103,
   "id": "7dc4c2ae-9e4e-40e0-929a-6e0a3e4bc240",
   "metadata": {},
   "outputs": [],
   "source": [
    "stober.add_reactants_batch(jubilee, ammonia_syringe, mix_syringe, sample_table, location_lookup, 'ammonia_volume', ammonia_stocks)"
   ]
  },
  {
   "cell_type": "markdown",
   "id": "bc8a34b3-acd7-4b89-a9ea-34b514cd3d8c",
   "metadata": {},
   "source": [
    "## mix precursors"
   ]
  },
  {
   "cell_type": "code",
   "execution_count": 104,
   "id": "f4f701c5-7908-489e-a1eb-9b2c60438c96",
   "metadata": {},
   "outputs": [],
   "source": [
    "stober.first_mix(jubilee, mix_syringe, 2000, location_lookup, rinse_stocks, 5)"
   ]
  },
  {
   "cell_type": "markdown",
   "id": "000c1369-b5a0-4183-97d4-fced54279516",
   "metadata": {},
   "source": [
    "## Add TEOS and mix"
   ]
  },
  {
   "cell_type": "code",
   "execution_count": 105,
   "id": "efccb2d6-234a-4af8-a87d-4d904696a48e",
   "metadata": {},
   "outputs": [],
   "source": [
    "stober.add_reactants_batch(jubilee, teos_syringe, mix_syringe, sample_table, location_lookup, 'teos_volume', teos_stocks, mix_after=(2000, 5, rinse_stocks))"
   ]
  },
  {
   "cell_type": "code",
   "execution_count": 55,
   "id": "dbf6a76d-4dc2-4031-89d7-7f498b78c7f4",
   "metadata": {},
   "outputs": [
    {
     "ename": "KeyError",
     "evalue": "-1",
     "output_type": "error",
     "traceback": [
      "\u001b[0;31m---------------------------------------------------------------------------\u001b[0m",
      "\u001b[0;31mKeyError\u001b[0m                                  Traceback (most recent call last)",
      "Cell \u001b[0;32mIn[55], line 1\u001b[0m\n\u001b[0;32m----> 1\u001b[0m \u001b[43mjubilee\u001b[49m\u001b[38;5;241;43m.\u001b[39;49m\u001b[43mpark_tool\u001b[49m\u001b[43m(\u001b[49m\u001b[43m)\u001b[49m\n",
      "File \u001b[0;32m~/Code/science-jubilee/src/science_jubilee/Machine.py:90\u001b[0m, in \u001b[0;36mrequires_safe_z.<locals>.z_check\u001b[0;34m(self, *args, **kwds)\u001b[0m\n\u001b[1;32m     88\u001b[0m \u001b[38;5;28;01mif\u001b[39;00m current_z \u001b[38;5;241m<\u001b[39m safe_z:\n\u001b[1;32m     89\u001b[0m     \u001b[38;5;28mself\u001b[39m\u001b[38;5;241m.\u001b[39mmove_to(z\u001b[38;5;241m=\u001b[39msafe_z \u001b[38;5;241m+\u001b[39m \u001b[38;5;241m20\u001b[39m)\n\u001b[0;32m---> 90\u001b[0m \u001b[38;5;28;01mreturn\u001b[39;00m \u001b[43mfunc\u001b[49m\u001b[43m(\u001b[49m\u001b[38;5;28;43mself\u001b[39;49m\u001b[43m,\u001b[49m\u001b[43m \u001b[49m\u001b[38;5;241;43m*\u001b[39;49m\u001b[43margs\u001b[49m\u001b[43m,\u001b[49m\u001b[43m \u001b[49m\u001b[38;5;241;43m*\u001b[39;49m\u001b[38;5;241;43m*\u001b[39;49m\u001b[43mkwds\u001b[49m\u001b[43m)\u001b[49m\n",
      "File \u001b[0;32m~/Code/science-jubilee/src/science_jubilee/Machine.py:990\u001b[0m, in \u001b[0;36mMachine.park_tool\u001b[0;34m(self)\u001b[0m\n\u001b[1;32m    988\u001b[0m \u001b[38;5;66;03m# Update the cached value to prevent read delays.\u001b[39;00m\n\u001b[1;32m    989\u001b[0m current_tool_index \u001b[38;5;241m=\u001b[39m \u001b[38;5;28mself\u001b[39m\u001b[38;5;241m.\u001b[39mactive_tool_index\n\u001b[0;32m--> 990\u001b[0m \u001b[38;5;28;43mself\u001b[39;49m\u001b[38;5;241;43m.\u001b[39;49m\u001b[43mtools\u001b[49m\u001b[43m[\u001b[49m\u001b[43mcurrent_tool_index\u001b[49m\u001b[43m]\u001b[49m[\u001b[38;5;124m\"\u001b[39m\u001b[38;5;124mtool\u001b[39m\u001b[38;5;124m\"\u001b[39m]\u001b[38;5;241m.\u001b[39mis_active_tool \u001b[38;5;241m=\u001b[39m \u001b[38;5;28;01mFalse\u001b[39;00m\n\u001b[1;32m    991\u001b[0m \u001b[38;5;28mself\u001b[39m\u001b[38;5;241m.\u001b[39m_active_tool_index \u001b[38;5;241m=\u001b[39m \u001b[38;5;241m-\u001b[39m\u001b[38;5;241m1\u001b[39m\n",
      "\u001b[0;31mKeyError\u001b[0m: -1"
     ]
    }
   ],
   "source": [
    "jubilee.park_tool()"
   ]
  },
  {
   "cell_type": "markdown",
   "id": "e801fc4f-1c8e-445c-82d7-3eb8d3cf93ce",
   "metadata": {},
   "source": [
    "## Batch 2"
   ]
  },
  {
   "cell_type": "code",
   "execution_count": 73,
   "id": "21c0152e-e7da-4301-97d9-74fe098e4915",
   "metadata": {},
   "outputs": [],
   "source": [
    "sample_table_batch2 = sample_table[20:]\n",
    "location_lookup = {row['uuid']:samples[row['well']] for i, row in sample_table_batch2.iterrows()}"
   ]
  },
  {
   "cell_type": "code",
   "execution_count": 78,
   "id": "3a5e2cd2-863b-401a-a9fb-f31e090db2cf",
   "metadata": {},
   "outputs": [],
   "source": [
    "jubilee.park_tool()"
   ]
  },
  {
   "cell_type": "code",
   "execution_count": 79,
   "id": "06d2923c-ffee-4f17-88ed-2ef85d75a95f",
   "metadata": {},
   "outputs": [],
   "source": [
    "stober.add_etoh(jubilee, P300, sample_table_batch2, location_lookup, ethanol_stocks[2:], 290, 15000)"
   ]
  },
  {
   "cell_type": "code",
   "execution_count": 80,
   "id": "eafaefd6-3581-41ca-80df-fb0d51cd5886",
   "metadata": {},
   "outputs": [],
   "source": [
    "stober.add_reactants_batch(jubilee, water_syringe, mix_syringe, sample_table_batch2, location_lookup, 'water_volume', water_stocks)"
   ]
  },
  {
   "cell_type": "code",
   "execution_count": 81,
   "id": "b5b7fec7-fac1-4f4a-b0d6-5b2d2ae745a8",
   "metadata": {},
   "outputs": [],
   "source": [
    "stober.add_reactants_batch(jubilee, ammonia_syringe, mix_syringe, sample_table_batch2, location_lookup, 'ammonia_volume', ammonia_stocks)"
   ]
  },
  {
   "cell_type": "code",
   "execution_count": 82,
   "id": "3573dbaa-2fad-4ffe-80a5-a6d99d3b5a5a",
   "metadata": {},
   "outputs": [],
   "source": [
    "stober.first_mix(jubilee, mix_syringe, 2000, location_lookup, rinse_stocks, 5)"
   ]
  },
  {
   "cell_type": "code",
   "execution_count": null,
   "id": "9c1740d5-f1fc-43b3-93c7-8394b48630c9",
   "metadata": {},
   "outputs": [],
   "source": []
  },
  {
   "cell_type": "code",
   "execution_count": 85,
   "id": "b1707873-f7c8-4fb5-b6a5-f8148032463e",
   "metadata": {},
   "outputs": [],
   "source": [
    "stober.add_reactants_batch(jubilee, teos_syringe, mix_syringe, sample_table_batch2, location_lookup, 'teos_volume', teos_stocks, mix_after=(2000, 5, rinse_stocks))"
   ]
  },
  {
   "cell_type": "code",
   "execution_count": null,
   "id": "c0c70507-0380-4a34-806f-27e3dd438158",
   "metadata": {},
   "outputs": [],
   "source": []
  }
 ],
 "metadata": {
  "kernelspec": {
   "display_name": "Python 3 (ipykernel)",
   "language": "python",
   "name": "python3"
  },
  "language_info": {
   "codemirror_mode": {
    "name": "ipython",
    "version": 3
   },
   "file_extension": ".py",
   "mimetype": "text/x-python",
   "name": "python",
   "nbconvert_exporter": "python",
   "pygments_lexer": "ipython3",
   "version": "3.9.19"
  }
 },
 "nbformat": 4,
 "nbformat_minor": 5
}
