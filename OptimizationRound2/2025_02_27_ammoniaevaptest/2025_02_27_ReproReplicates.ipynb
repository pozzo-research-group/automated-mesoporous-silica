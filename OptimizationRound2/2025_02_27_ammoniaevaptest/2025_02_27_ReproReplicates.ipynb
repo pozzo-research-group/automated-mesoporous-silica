{
 "cells": [
  {
   "cell_type": "code",
   "execution_count": 1,
   "id": "9a1452ad-0617-465c-b79b-74d36752b0bd",
   "metadata": {},
   "outputs": [],
   "source": [
    "%load_ext autoreload\n",
    "%autoreload 2"
   ]
  },
  {
   "cell_type": "code",
   "execution_count": 2,
   "id": "137dbbcc-ba9e-409d-a621-02354ed3df00",
   "metadata": {},
   "outputs": [],
   "source": [
    "import scipy\n",
    "from scipy.stats.qmc import Sobol\n",
    "from scipy.stats import qmc\n",
    "import matplotlib.pyplot as plt\n",
    "import sys\n",
    "sys.path.append('../../sample_utilities')\n",
    "import samples\n",
    "import json"
   ]
  },
  {
   "cell_type": "code",
   "execution_count": 3,
   "id": "2dc0a2dc-b280-439d-be13-7a6f6b49241d",
   "metadata": {},
   "outputs": [],
   "source": [
    "target_volume = 10000\n",
    "target_dilution = 0.1 # mol Si/L saxs sample\n",
    "samples_write_fp = 'SampleTable_ReproReplicates_10000.csv'"
   ]
  },
  {
   "cell_type": "markdown",
   "id": "13fd89e9-3f58-48c6-9e1e-e07c3f417fe3",
   "metadata": {},
   "source": [
    "### Calculate volumes from samples "
   ]
  },
  {
   "cell_type": "code",
   "execution_count": 4,
   "id": "df0d2e16-b0f9-461e-a6e8-40e52575690a",
   "metadata": {},
   "outputs": [],
   "source": [
    "with open('constants_Round2_2point85_straightNH3.json', 'rt') as f:\n",
    "    constants = json.load(f)"
   ]
  },
  {
   "cell_type": "code",
   "execution_count": 5,
   "id": "156d44d2-13c3-4df1-8123-1bddfb7de988",
   "metadata": {},
   "outputs": [],
   "source": [
    "sample_1 = [0.007526, 0.018891, 0.043859]"
   ]
  },
  {
   "cell_type": "code",
   "execution_count": null,
   "id": "e2794299-e739-4e1c-a5ad-a217611b5e3c",
   "metadata": {},
   "outputs": [],
   "source": []
  },
  {
   "cell_type": "markdown",
   "id": "9622f0ac-c6ec-4f17-ab72-a0b7142fc738",
   "metadata": {},
   "source": [
    "## Collate volume fractions into samples and get sample information"
   ]
  },
  {
   "cell_type": "code",
   "execution_count": 7,
   "id": "efbcd27d-7e24-43ac-bfa1-d0e5371431cd",
   "metadata": {},
   "outputs": [
    {
     "name": "stdout",
     "output_type": "stream",
     "text": [
      "950.6225000000001\n",
      "final etoh vol:  8346.6175\n",
      "950.6225000000001\n",
      "final etoh vol:  8346.6175\n",
      "950.6225000000001\n",
      "final etoh vol:  8346.6175\n",
      "950.6225000000001\n",
      "final etoh vol:  8346.6175\n",
      "950.6225000000001\n",
      "final etoh vol:  8346.6175\n"
     ]
    }
   ],
   "source": [
    "samples_gen = []\n",
    "for sample_list in [sample_1]:\n",
    "    for i in range(5):\n",
    "        sample = samples.SolidSilicaSample(target_volume=target_volume, reactant_fp='./constants_Round2_2point85_straightNH3.json', teos_vol_frac=sample_list[0], ammonia_vol_frac=sample_list[1], water_vol_frac=sample_list[2])\n",
    "        sample.calculate_reactant_volumes()\n",
    "        sample.calculate_silica_mass_concentration()\n",
    "        sample.calculate_silica_mass_fraction()\n",
    "        sample.calculate_dilution_volumefraction(target_dilution)\n",
    "        samples_gen.append(sample)\n",
    "        print('final etoh vol: ', sample.ethanol_volume)"
   ]
  },
  {
   "cell_type": "code",
   "execution_count": 8,
   "id": "16a50dff-d9dc-4f06-bb22-1cfee5fa9daa",
   "metadata": {},
   "outputs": [],
   "source": [
    "synth_table = samples.generate_synthesis_table(samples_gen)"
   ]
  },
  {
   "cell_type": "code",
   "execution_count": 9,
   "id": "d08cb4a9-7e94-49cb-8cee-f6b98f9377e2",
   "metadata": {},
   "outputs": [
    {
     "data": {
      "text/html": [
       "<div>\n",
       "<style scoped>\n",
       "    .dataframe tbody tr th:only-of-type {\n",
       "        vertical-align: middle;\n",
       "    }\n",
       "\n",
       "    .dataframe tbody tr th {\n",
       "        vertical-align: top;\n",
       "    }\n",
       "\n",
       "    .dataframe thead th {\n",
       "        text-align: right;\n",
       "    }\n",
       "</style>\n",
       "<table border=\"1\" class=\"dataframe\">\n",
       "  <thead>\n",
       "    <tr style=\"text-align: right;\">\n",
       "      <th></th>\n",
       "      <th>uuid</th>\n",
       "      <th>teos_volume</th>\n",
       "      <th>ammonia_volume</th>\n",
       "      <th>water_volume</th>\n",
       "      <th>ethanol_volume</th>\n",
       "      <th>dilution_volume_fraction</th>\n",
       "      <th>silica_mass_conc</th>\n",
       "      <th>silica_mass_fraction</th>\n",
       "    </tr>\n",
       "  </thead>\n",
       "  <tbody>\n",
       "    <tr>\n",
       "      <th>0</th>\n",
       "      <td>b832195b-dc4c-4140-96e9-7fee992f7edc</td>\n",
       "      <td>214.491</td>\n",
       "      <td>188.91</td>\n",
       "      <td>1249.9815</td>\n",
       "      <td>8346.6175</td>\n",
       "      <td>2.965909</td>\n",
       "      <td>2.025686</td>\n",
       "      <td>0.002527</td>\n",
       "    </tr>\n",
       "    <tr>\n",
       "      <th>1</th>\n",
       "      <td>b051bb0a-13b2-40fe-86ab-106ebad656b5</td>\n",
       "      <td>214.491</td>\n",
       "      <td>188.91</td>\n",
       "      <td>1249.9815</td>\n",
       "      <td>8346.6175</td>\n",
       "      <td>2.965909</td>\n",
       "      <td>2.025686</td>\n",
       "      <td>0.002527</td>\n",
       "    </tr>\n",
       "    <tr>\n",
       "      <th>2</th>\n",
       "      <td>3b7603a9-e804-4af1-922c-1667d26bf48d</td>\n",
       "      <td>214.491</td>\n",
       "      <td>188.91</td>\n",
       "      <td>1249.9815</td>\n",
       "      <td>8346.6175</td>\n",
       "      <td>2.965909</td>\n",
       "      <td>2.025686</td>\n",
       "      <td>0.002527</td>\n",
       "    </tr>\n",
       "    <tr>\n",
       "      <th>3</th>\n",
       "      <td>ec4beeba-a553-4e90-aef4-1da1488390d7</td>\n",
       "      <td>214.491</td>\n",
       "      <td>188.91</td>\n",
       "      <td>1249.9815</td>\n",
       "      <td>8346.6175</td>\n",
       "      <td>2.965909</td>\n",
       "      <td>2.025686</td>\n",
       "      <td>0.002527</td>\n",
       "    </tr>\n",
       "    <tr>\n",
       "      <th>4</th>\n",
       "      <td>644da4c1-2683-4e97-adff-5b72ff4754d1</td>\n",
       "      <td>214.491</td>\n",
       "      <td>188.91</td>\n",
       "      <td>1249.9815</td>\n",
       "      <td>8346.6175</td>\n",
       "      <td>2.965909</td>\n",
       "      <td>2.025686</td>\n",
       "      <td>0.002527</td>\n",
       "    </tr>\n",
       "  </tbody>\n",
       "</table>\n",
       "</div>"
      ],
      "text/plain": [
       "                                   uuid  teos_volume  ammonia_volume  \\\n",
       "0  b832195b-dc4c-4140-96e9-7fee992f7edc      214.491          188.91   \n",
       "1  b051bb0a-13b2-40fe-86ab-106ebad656b5      214.491          188.91   \n",
       "2  3b7603a9-e804-4af1-922c-1667d26bf48d      214.491          188.91   \n",
       "3  ec4beeba-a553-4e90-aef4-1da1488390d7      214.491          188.91   \n",
       "4  644da4c1-2683-4e97-adff-5b72ff4754d1      214.491          188.91   \n",
       "\n",
       "   water_volume  ethanol_volume  dilution_volume_fraction  silica_mass_conc  \\\n",
       "0     1249.9815       8346.6175                  2.965909          2.025686   \n",
       "1     1249.9815       8346.6175                  2.965909          2.025686   \n",
       "2     1249.9815       8346.6175                  2.965909          2.025686   \n",
       "3     1249.9815       8346.6175                  2.965909          2.025686   \n",
       "4     1249.9815       8346.6175                  2.965909          2.025686   \n",
       "\n",
       "   silica_mass_fraction  \n",
       "0              0.002527  \n",
       "1              0.002527  \n",
       "2              0.002527  \n",
       "3              0.002527  \n",
       "4              0.002527  "
      ]
     },
     "execution_count": 9,
     "metadata": {},
     "output_type": "execute_result"
    }
   ],
   "source": [
    "synth_table"
   ]
  },
  {
   "cell_type": "code",
   "execution_count": 10,
   "id": "58420921-b144-4972-bd04-821fafd5a9ca",
   "metadata": {},
   "outputs": [],
   "source": [
    "rows = ['A', 'B', 'C']\n",
    "cols = [1, 2, 3, 4]\n",
    "\n",
    "wells = []\n",
    "for row in rows:\n",
    "    for col in cols:\n",
    "        wells.append(row + str(col))"
   ]
  },
  {
   "cell_type": "code",
   "execution_count": 11,
   "id": "0a3c3fd1-ad06-448e-8130-5366622484b6",
   "metadata": {},
   "outputs": [],
   "source": [
    "synth_table['well'] = wells[len(synth_table):2*len(synth_table)]"
   ]
  },
  {
   "cell_type": "code",
   "execution_count": 12,
   "id": "ca89a2cd-e394-4861-9aed-b3bf25ef4c67",
   "metadata": {},
   "outputs": [
    {
     "data": {
      "text/html": [
       "<div>\n",
       "<style scoped>\n",
       "    .dataframe tbody tr th:only-of-type {\n",
       "        vertical-align: middle;\n",
       "    }\n",
       "\n",
       "    .dataframe tbody tr th {\n",
       "        vertical-align: top;\n",
       "    }\n",
       "\n",
       "    .dataframe thead th {\n",
       "        text-align: right;\n",
       "    }\n",
       "</style>\n",
       "<table border=\"1\" class=\"dataframe\">\n",
       "  <thead>\n",
       "    <tr style=\"text-align: right;\">\n",
       "      <th></th>\n",
       "      <th>uuid</th>\n",
       "      <th>teos_volume</th>\n",
       "      <th>ammonia_volume</th>\n",
       "      <th>water_volume</th>\n",
       "      <th>ethanol_volume</th>\n",
       "      <th>dilution_volume_fraction</th>\n",
       "      <th>silica_mass_conc</th>\n",
       "      <th>silica_mass_fraction</th>\n",
       "      <th>well</th>\n",
       "    </tr>\n",
       "  </thead>\n",
       "  <tbody>\n",
       "    <tr>\n",
       "      <th>0</th>\n",
       "      <td>b832195b-dc4c-4140-96e9-7fee992f7edc</td>\n",
       "      <td>214.491</td>\n",
       "      <td>188.91</td>\n",
       "      <td>1249.9815</td>\n",
       "      <td>8346.6175</td>\n",
       "      <td>2.965909</td>\n",
       "      <td>2.025686</td>\n",
       "      <td>0.002527</td>\n",
       "      <td>B2</td>\n",
       "    </tr>\n",
       "    <tr>\n",
       "      <th>1</th>\n",
       "      <td>b051bb0a-13b2-40fe-86ab-106ebad656b5</td>\n",
       "      <td>214.491</td>\n",
       "      <td>188.91</td>\n",
       "      <td>1249.9815</td>\n",
       "      <td>8346.6175</td>\n",
       "      <td>2.965909</td>\n",
       "      <td>2.025686</td>\n",
       "      <td>0.002527</td>\n",
       "      <td>B3</td>\n",
       "    </tr>\n",
       "    <tr>\n",
       "      <th>2</th>\n",
       "      <td>3b7603a9-e804-4af1-922c-1667d26bf48d</td>\n",
       "      <td>214.491</td>\n",
       "      <td>188.91</td>\n",
       "      <td>1249.9815</td>\n",
       "      <td>8346.6175</td>\n",
       "      <td>2.965909</td>\n",
       "      <td>2.025686</td>\n",
       "      <td>0.002527</td>\n",
       "      <td>B4</td>\n",
       "    </tr>\n",
       "    <tr>\n",
       "      <th>3</th>\n",
       "      <td>ec4beeba-a553-4e90-aef4-1da1488390d7</td>\n",
       "      <td>214.491</td>\n",
       "      <td>188.91</td>\n",
       "      <td>1249.9815</td>\n",
       "      <td>8346.6175</td>\n",
       "      <td>2.965909</td>\n",
       "      <td>2.025686</td>\n",
       "      <td>0.002527</td>\n",
       "      <td>C1</td>\n",
       "    </tr>\n",
       "    <tr>\n",
       "      <th>4</th>\n",
       "      <td>644da4c1-2683-4e97-adff-5b72ff4754d1</td>\n",
       "      <td>214.491</td>\n",
       "      <td>188.91</td>\n",
       "      <td>1249.9815</td>\n",
       "      <td>8346.6175</td>\n",
       "      <td>2.965909</td>\n",
       "      <td>2.025686</td>\n",
       "      <td>0.002527</td>\n",
       "      <td>C2</td>\n",
       "    </tr>\n",
       "  </tbody>\n",
       "</table>\n",
       "</div>"
      ],
      "text/plain": [
       "                                   uuid  teos_volume  ammonia_volume  \\\n",
       "0  b832195b-dc4c-4140-96e9-7fee992f7edc      214.491          188.91   \n",
       "1  b051bb0a-13b2-40fe-86ab-106ebad656b5      214.491          188.91   \n",
       "2  3b7603a9-e804-4af1-922c-1667d26bf48d      214.491          188.91   \n",
       "3  ec4beeba-a553-4e90-aef4-1da1488390d7      214.491          188.91   \n",
       "4  644da4c1-2683-4e97-adff-5b72ff4754d1      214.491          188.91   \n",
       "\n",
       "   water_volume  ethanol_volume  dilution_volume_fraction  silica_mass_conc  \\\n",
       "0     1249.9815       8346.6175                  2.965909          2.025686   \n",
       "1     1249.9815       8346.6175                  2.965909          2.025686   \n",
       "2     1249.9815       8346.6175                  2.965909          2.025686   \n",
       "3     1249.9815       8346.6175                  2.965909          2.025686   \n",
       "4     1249.9815       8346.6175                  2.965909          2.025686   \n",
       "\n",
       "   silica_mass_fraction well  \n",
       "0              0.002527   B2  \n",
       "1              0.002527   B3  \n",
       "2              0.002527   B4  \n",
       "3              0.002527   C1  \n",
       "4              0.002527   C2  "
      ]
     },
     "execution_count": 12,
     "metadata": {},
     "output_type": "execute_result"
    }
   ],
   "source": [
    "synth_table"
   ]
  },
  {
   "cell_type": "code",
   "execution_count": 13,
   "id": "d35e0d4f-5842-4845-a58b-529cf92748d3",
   "metadata": {},
   "outputs": [],
   "source": [
    "synth_table.to_csv(samples_write_fp)"
   ]
  },
  {
   "cell_type": "code",
   "execution_count": 45,
   "id": "03a2c2e7-f06b-4ea1-8f8f-4825e18402dd",
   "metadata": {},
   "outputs": [
    {
     "data": {
      "text/plain": [
       "3"
      ]
     },
     "execution_count": 45,
     "metadata": {},
     "output_type": "execute_result"
    }
   ],
   "source": []
  },
  {
   "cell_type": "code",
   "execution_count": null,
   "id": "a824c23f-d34d-4ce9-9c73-69a9aa00434e",
   "metadata": {},
   "outputs": [],
   "source": []
  }
 ],
 "metadata": {
  "kernelspec": {
   "display_name": "Python 3 (ipykernel)",
   "language": "python",
   "name": "python3"
  },
  "language_info": {
   "codemirror_mode": {
    "name": "ipython",
    "version": 3
   },
   "file_extension": ".py",
   "mimetype": "text/x-python",
   "name": "python",
   "nbconvert_exporter": "python",
   "pygments_lexer": "ipython3",
   "version": "3.9.19"
  }
 },
 "nbformat": 4,
 "nbformat_minor": 5
}
