{
 "cells": [
  {
   "cell_type": "markdown",
   "id": "110d0499-187d-47cb-b3bd-52e828f810d0",
   "metadata": {},
   "source": [
    "## Setup"
   ]
  },
  {
   "cell_type": "code",
   "execution_count": 1,
   "id": "023a9737-b2dd-4151-af0b-67ea2aeb7386",
   "metadata": {},
   "outputs": [],
   "source": [
    "%load_ext autoreload\n",
    "%autoreload 2"
   ]
  },
  {
   "cell_type": "code",
   "execution_count": 3,
   "id": "a8305f4f-98d9-46aa-b3a5-aef3875465c8",
   "metadata": {},
   "outputs": [],
   "source": [
    "import requests\n",
    "\n",
    "# ----------- Science Jubilee -------------\n",
    "from science_jubilee import Machine as Jub\n",
    "from science_jubilee.tools import HTTPSyringe as syringe\n",
    "from science_jubilee.tools import Pipette\n",
    "from science_jubilee.utils import Handlers\n",
    "import time\n",
    "import numpy as np\n",
    "import pandas as pd\n",
    "import logging\n",
    "import sys\n",
    "sys.path.append('../..')\n",
    "import stober_synthesis_utils as stober"
   ]
  },
  {
   "cell_type": "code",
   "execution_count": 4,
   "id": "39e0dd27-900a-4151-ad77-cae178e545d7",
   "metadata": {},
   "outputs": [],
   "source": [
    "FORMAT = '%(asctime)s:%(levelname)s:%(name)s:%(message)s'\n",
    "logging.basicConfig(filename = '2025_01_28_80nmRound1_Opt.log', level = logging.INFO, format = FORMAT)\n",
    "logger = logging.getLogger(__name__)"
   ]
  },
  {
   "cell_type": "code",
   "execution_count": 5,
   "id": "bb05bc51-e88d-493a-b7ae-ec244bab05d1",
   "metadata": {
    "scrolled": true
   },
   "outputs": [],
   "source": [
    "jubilee = Jub.Machine(address='192.168.1.2', simulated = False, crash_detection = False) "
   ]
  },
  {
   "cell_type": "raw",
   "id": "23f14450-b2fd-46b7-82b2-a17b1061fde5",
   "metadata": {
    "scrolled": true
   },
   "source": [
    "#jubilee.home_all()\n",
    "logger.info('Homed Jubilee')"
   ]
  },
  {
   "cell_type": "code",
   "execution_count": 6,
   "id": "7dd1d29b-638a-4d85-9cf3-986931deae0f",
   "metadata": {},
   "outputs": [],
   "source": [
    "deck = jubilee.load_deck('lab_automation_deck_AFL_bolton.json')"
   ]
  },
  {
   "cell_type": "code",
   "execution_count": 7,
   "id": "d2505692-e098-4cf7-954a-b2ac9d91e06f",
   "metadata": {},
   "outputs": [],
   "source": [
    "sample_table_rmse = pd.read_csv('Sample_table_2025_01_28_80nmRound1_rmse.csv')\n",
    "sample_table_apdist = pd.read_csv('Sample_table_2025_01_28_80nm_Round1_apdist.csv')"
   ]
  },
  {
   "cell_type": "code",
   "execution_count": 53,
   "id": "c3264e74-e7dd-4251-9f4b-322c61aaaeca",
   "metadata": {},
   "outputs": [],
   "source": [
    "dilute_wells= ['B4', 'B5', 'B6', 'B8', 'C1', 'C2', 'C3', 'C4', 'C5', 'C6']"
   ]
  },
  {
   "cell_type": "code",
   "execution_count": 56,
   "id": "c7e5f16b-07d9-4c41-8018-3dbc0b18e148",
   "metadata": {},
   "outputs": [],
   "source": [
    "sample_table_rmse['well'] = sample_table_apdist['well']\n",
    "sample_table_rmse['dilute_well'] = dilute_wells\n",
    "sample_table_apdist['dilute_well'] = dilute_wells"
   ]
  },
  {
   "cell_type": "code",
   "execution_count": 57,
   "id": "04e35a37-8f81-4eab-acdc-27dded253257",
   "metadata": {},
   "outputs": [
    {
     "data": {
      "text/html": [
       "<div>\n",
       "<style scoped>\n",
       "    .dataframe tbody tr th:only-of-type {\n",
       "        vertical-align: middle;\n",
       "    }\n",
       "\n",
       "    .dataframe tbody tr th {\n",
       "        vertical-align: top;\n",
       "    }\n",
       "\n",
       "    .dataframe thead th {\n",
       "        text-align: right;\n",
       "    }\n",
       "</style>\n",
       "<table border=\"1\" class=\"dataframe\">\n",
       "  <thead>\n",
       "    <tr style=\"text-align: right;\">\n",
       "      <th></th>\n",
       "      <th>Unnamed: 0</th>\n",
       "      <th>uuid</th>\n",
       "      <th>teos_volume</th>\n",
       "      <th>ammonia_volume</th>\n",
       "      <th>water_volume</th>\n",
       "      <th>ethanol_volume</th>\n",
       "      <th>dilution_volume_fraction</th>\n",
       "      <th>silica_mass_conc</th>\n",
       "      <th>silica_mass_fraction</th>\n",
       "      <th>ethanol_dilute_vol</th>\n",
       "      <th>sample_dilute_vol</th>\n",
       "      <th>well</th>\n",
       "      <th>dilute_well</th>\n",
       "    </tr>\n",
       "  </thead>\n",
       "  <tbody>\n",
       "    <tr>\n",
       "      <th>0</th>\n",
       "      <td>0</td>\n",
       "      <td>9cff952d-2d28-47b2-bb0b-d49602fd36d2</td>\n",
       "      <td>90.614116</td>\n",
       "      <td>189.664150</td>\n",
       "      <td>250.625458</td>\n",
       "      <td>1169.096276</td>\n",
       "      <td>1.193493</td>\n",
       "      <td>5.033963</td>\n",
       "      <td>0.006237</td>\n",
       "      <td>0.0</td>\n",
       "      <td>1700.0</td>\n",
       "      <td>A1</td>\n",
       "      <td>B4</td>\n",
       "    </tr>\n",
       "    <tr>\n",
       "      <th>1</th>\n",
       "      <td>1</td>\n",
       "      <td>60e54cc2-4d8e-4d0e-aab8-390bef44dcf8</td>\n",
       "      <td>228.684063</td>\n",
       "      <td>270.377199</td>\n",
       "      <td>470.888258</td>\n",
       "      <td>730.050480</td>\n",
       "      <td>0.472911</td>\n",
       "      <td>12.704280</td>\n",
       "      <td>0.015444</td>\n",
       "      <td>896.0</td>\n",
       "      <td>804.0</td>\n",
       "      <td>A2</td>\n",
       "      <td>B5</td>\n",
       "    </tr>\n",
       "    <tr>\n",
       "      <th>2</th>\n",
       "      <td>2</td>\n",
       "      <td>bde1a208-9fee-499e-843b-7866aa600a77</td>\n",
       "      <td>24.224999</td>\n",
       "      <td>484.500007</td>\n",
       "      <td>666.348728</td>\n",
       "      <td>524.926265</td>\n",
       "      <td>4.464286</td>\n",
       "      <td>1.345792</td>\n",
       "      <td>0.001622</td>\n",
       "      <td>0.0</td>\n",
       "      <td>1700.0</td>\n",
       "      <td>A3</td>\n",
       "      <td>B6</td>\n",
       "    </tr>\n",
       "    <tr>\n",
       "      <th>3</th>\n",
       "      <td>3</td>\n",
       "      <td>8f8ed9a5-2ea3-440f-93bf-01d9f6cbc33d</td>\n",
       "      <td>484.500007</td>\n",
       "      <td>24.224999</td>\n",
       "      <td>273.731449</td>\n",
       "      <td>917.543544</td>\n",
       "      <td>0.223214</td>\n",
       "      <td>26.915840</td>\n",
       "      <td>0.032983</td>\n",
       "      <td>1321.0</td>\n",
       "      <td>379.0</td>\n",
       "      <td>A4</td>\n",
       "      <td>B8</td>\n",
       "    </tr>\n",
       "    <tr>\n",
       "      <th>4</th>\n",
       "      <td>4</td>\n",
       "      <td>f93ed4f1-94fb-4806-835e-4975da39c452</td>\n",
       "      <td>135.707419</td>\n",
       "      <td>373.352663</td>\n",
       "      <td>489.220082</td>\n",
       "      <td>701.719836</td>\n",
       "      <td>0.796915</td>\n",
       "      <td>7.539070</td>\n",
       "      <td>0.009161</td>\n",
       "      <td>345.0</td>\n",
       "      <td>1355.0</td>\n",
       "      <td>A5</td>\n",
       "      <td>C1</td>\n",
       "    </tr>\n",
       "    <tr>\n",
       "      <th>5</th>\n",
       "      <td>5</td>\n",
       "      <td>99049d8c-98af-4240-ad63-7784477d7c02</td>\n",
       "      <td>379.921139</td>\n",
       "      <td>133.905259</td>\n",
       "      <td>221.684161</td>\n",
       "      <td>964.489441</td>\n",
       "      <td>0.284657</td>\n",
       "      <td>21.106082</td>\n",
       "      <td>0.025954</td>\n",
       "      <td>1216.0</td>\n",
       "      <td>484.0</td>\n",
       "      <td>A6</td>\n",
       "      <td>C2</td>\n",
       "    </tr>\n",
       "    <tr>\n",
       "      <th>6</th>\n",
       "      <td>6</td>\n",
       "      <td>a35e929b-49fd-4bed-a211-70524348fe8e</td>\n",
       "      <td>24.224999</td>\n",
       "      <td>212.324890</td>\n",
       "      <td>226.751481</td>\n",
       "      <td>1236.698630</td>\n",
       "      <td>4.464286</td>\n",
       "      <td>1.345792</td>\n",
       "      <td>0.001673</td>\n",
       "      <td>0.0</td>\n",
       "      <td>1700.0</td>\n",
       "      <td>A7</td>\n",
       "      <td>C3</td>\n",
       "    </tr>\n",
       "    <tr>\n",
       "      <th>7</th>\n",
       "      <td>7</td>\n",
       "      <td>069a5c5d-4bfd-419e-a96e-36215855466d</td>\n",
       "      <td>211.666209</td>\n",
       "      <td>484.500007</td>\n",
       "      <td>538.140465</td>\n",
       "      <td>465.693319</td>\n",
       "      <td>0.510933</td>\n",
       "      <td>11.758873</td>\n",
       "      <td>0.014169</td>\n",
       "      <td>831.0</td>\n",
       "      <td>869.0</td>\n",
       "      <td>A8</td>\n",
       "      <td>C4</td>\n",
       "    </tr>\n",
       "    <tr>\n",
       "      <th>8</th>\n",
       "      <td>8</td>\n",
       "      <td>627048de-ccfc-4b9e-998f-c83de2ac353f</td>\n",
       "      <td>199.575596</td>\n",
       "      <td>135.113642</td>\n",
       "      <td>701.939108</td>\n",
       "      <td>663.371654</td>\n",
       "      <td>0.541887</td>\n",
       "      <td>11.087193</td>\n",
       "      <td>0.013380</td>\n",
       "      <td>779.0</td>\n",
       "      <td>921.0</td>\n",
       "      <td>B1</td>\n",
       "      <td>C5</td>\n",
       "    </tr>\n",
       "    <tr>\n",
       "      <th>9</th>\n",
       "      <td>9</td>\n",
       "      <td>9f8223fc-c3be-4ca7-b9c9-55fa9c4daa60</td>\n",
       "      <td>484.500007</td>\n",
       "      <td>246.977225</td>\n",
       "      <td>63.183338</td>\n",
       "      <td>905.339430</td>\n",
       "      <td>0.223214</td>\n",
       "      <td>26.915840</td>\n",
       "      <td>0.033145</td>\n",
       "      <td>1321.0</td>\n",
       "      <td>379.0</td>\n",
       "      <td>B3</td>\n",
       "      <td>C6</td>\n",
       "    </tr>\n",
       "  </tbody>\n",
       "</table>\n",
       "</div>"
      ],
      "text/plain": [
       "   Unnamed: 0                                  uuid  teos_volume  \\\n",
       "0           0  9cff952d-2d28-47b2-bb0b-d49602fd36d2    90.614116   \n",
       "1           1  60e54cc2-4d8e-4d0e-aab8-390bef44dcf8   228.684063   \n",
       "2           2  bde1a208-9fee-499e-843b-7866aa600a77    24.224999   \n",
       "3           3  8f8ed9a5-2ea3-440f-93bf-01d9f6cbc33d   484.500007   \n",
       "4           4  f93ed4f1-94fb-4806-835e-4975da39c452   135.707419   \n",
       "5           5  99049d8c-98af-4240-ad63-7784477d7c02   379.921139   \n",
       "6           6  a35e929b-49fd-4bed-a211-70524348fe8e    24.224999   \n",
       "7           7  069a5c5d-4bfd-419e-a96e-36215855466d   211.666209   \n",
       "8           8  627048de-ccfc-4b9e-998f-c83de2ac353f   199.575596   \n",
       "9           9  9f8223fc-c3be-4ca7-b9c9-55fa9c4daa60   484.500007   \n",
       "\n",
       "   ammonia_volume  water_volume  ethanol_volume  dilution_volume_fraction  \\\n",
       "0      189.664150    250.625458     1169.096276                  1.193493   \n",
       "1      270.377199    470.888258      730.050480                  0.472911   \n",
       "2      484.500007    666.348728      524.926265                  4.464286   \n",
       "3       24.224999    273.731449      917.543544                  0.223214   \n",
       "4      373.352663    489.220082      701.719836                  0.796915   \n",
       "5      133.905259    221.684161      964.489441                  0.284657   \n",
       "6      212.324890    226.751481     1236.698630                  4.464286   \n",
       "7      484.500007    538.140465      465.693319                  0.510933   \n",
       "8      135.113642    701.939108      663.371654                  0.541887   \n",
       "9      246.977225     63.183338      905.339430                  0.223214   \n",
       "\n",
       "   silica_mass_conc  silica_mass_fraction  ethanol_dilute_vol  \\\n",
       "0          5.033963              0.006237                 0.0   \n",
       "1         12.704280              0.015444               896.0   \n",
       "2          1.345792              0.001622                 0.0   \n",
       "3         26.915840              0.032983              1321.0   \n",
       "4          7.539070              0.009161               345.0   \n",
       "5         21.106082              0.025954              1216.0   \n",
       "6          1.345792              0.001673                 0.0   \n",
       "7         11.758873              0.014169               831.0   \n",
       "8         11.087193              0.013380               779.0   \n",
       "9         26.915840              0.033145              1321.0   \n",
       "\n",
       "   sample_dilute_vol well dilute_well  \n",
       "0             1700.0   A1          B4  \n",
       "1              804.0   A2          B5  \n",
       "2             1700.0   A3          B6  \n",
       "3              379.0   A4          B8  \n",
       "4             1355.0   A5          C1  \n",
       "5              484.0   A6          C2  \n",
       "6             1700.0   A7          C3  \n",
       "7              869.0   A8          C4  \n",
       "8              921.0   B1          C5  \n",
       "9              379.0   B3          C6  "
      ]
     },
     "execution_count": 57,
     "metadata": {},
     "output_type": "execute_result"
    }
   ],
   "source": [
    "sample_table_rmse"
   ]
  },
  {
   "cell_type": "code",
   "execution_count": 59,
   "id": "20bc875d-f362-4e97-914b-fda839a4d502",
   "metadata": {},
   "outputs": [
    {
     "data": {
      "text/html": [
       "<div>\n",
       "<style scoped>\n",
       "    .dataframe tbody tr th:only-of-type {\n",
       "        vertical-align: middle;\n",
       "    }\n",
       "\n",
       "    .dataframe tbody tr th {\n",
       "        vertical-align: top;\n",
       "    }\n",
       "\n",
       "    .dataframe thead th {\n",
       "        text-align: right;\n",
       "    }\n",
       "</style>\n",
       "<table border=\"1\" class=\"dataframe\">\n",
       "  <thead>\n",
       "    <tr style=\"text-align: right;\">\n",
       "      <th></th>\n",
       "      <th>Unnamed: 0</th>\n",
       "      <th>uuid</th>\n",
       "      <th>teos_volume</th>\n",
       "      <th>ammonia_volume</th>\n",
       "      <th>water_volume</th>\n",
       "      <th>ethanol_volume</th>\n",
       "      <th>dilution_volume_fraction</th>\n",
       "      <th>silica_mass_conc</th>\n",
       "      <th>silica_mass_fraction</th>\n",
       "      <th>ethanol_dilute_vol</th>\n",
       "      <th>sample_dilute_vol</th>\n",
       "      <th>well</th>\n",
       "      <th>dilute_well</th>\n",
       "    </tr>\n",
       "  </thead>\n",
       "  <tbody>\n",
       "    <tr>\n",
       "      <th>0</th>\n",
       "      <td>0</td>\n",
       "      <td>7c4d74ad-5362-4981-b7a5-52fee1cd2e48</td>\n",
       "      <td>100.446867</td>\n",
       "      <td>431.840514</td>\n",
       "      <td>39.876055</td>\n",
       "      <td>1127.836564</td>\n",
       "      <td>1.076662</td>\n",
       "      <td>5.580210</td>\n",
       "      <td>0.006942</td>\n",
       "      <td>0.0</td>\n",
       "      <td>1700.0</td>\n",
       "      <td>A1</td>\n",
       "      <td>B4</td>\n",
       "    </tr>\n",
       "    <tr>\n",
       "      <th>1</th>\n",
       "      <td>1</td>\n",
       "      <td>2b778460-0ea0-4134-8256-cc0950b1838f</td>\n",
       "      <td>47.743600</td>\n",
       "      <td>169.627361</td>\n",
       "      <td>480.552179</td>\n",
       "      <td>1002.076860</td>\n",
       "      <td>2.265169</td>\n",
       "      <td>2.652341</td>\n",
       "      <td>0.003253</td>\n",
       "      <td>0.0</td>\n",
       "      <td>1700.0</td>\n",
       "      <td>A2</td>\n",
       "      <td>B5</td>\n",
       "    </tr>\n",
       "    <tr>\n",
       "      <th>2</th>\n",
       "      <td>2</td>\n",
       "      <td>e73de4ac-ae2f-40ac-adc9-6f4acfbb4678</td>\n",
       "      <td>297.684084</td>\n",
       "      <td>187.260579</td>\n",
       "      <td>659.409887</td>\n",
       "      <td>555.645450</td>\n",
       "      <td>0.363296</td>\n",
       "      <td>16.537497</td>\n",
       "      <td>0.019903</td>\n",
       "      <td>1082.0</td>\n",
       "      <td>618.0</td>\n",
       "      <td>A3</td>\n",
       "      <td>B6</td>\n",
       "    </tr>\n",
       "    <tr>\n",
       "      <th>3</th>\n",
       "      <td>3</td>\n",
       "      <td>6e8ce412-9cdc-41b3-b8ae-fa08acb207cf</td>\n",
       "      <td>165.119200</td>\n",
       "      <td>457.338778</td>\n",
       "      <td>723.993653</td>\n",
       "      <td>353.548369</td>\n",
       "      <td>0.654965</td>\n",
       "      <td>9.173007</td>\n",
       "      <td>0.010973</td>\n",
       "      <td>587.0</td>\n",
       "      <td>1113.0</td>\n",
       "      <td>A4</td>\n",
       "      <td>B8</td>\n",
       "    </tr>\n",
       "    <tr>\n",
       "      <th>4</th>\n",
       "      <td>4</td>\n",
       "      <td>ec102405-f168-46a3-935d-2d24fdaa5b1f</td>\n",
       "      <td>83.489946</td>\n",
       "      <td>282.278352</td>\n",
       "      <td>27.288292</td>\n",
       "      <td>1306.943410</td>\n",
       "      <td>1.295333</td>\n",
       "      <td>4.638188</td>\n",
       "      <td>0.005802</td>\n",
       "      <td>0.0</td>\n",
       "      <td>1700.0</td>\n",
       "      <td>A5</td>\n",
       "      <td>C1</td>\n",
       "    </tr>\n",
       "    <tr>\n",
       "      <th>5</th>\n",
       "      <td>5</td>\n",
       "      <td>7bf7296f-8eae-4228-a615-3d7b8c142d89</td>\n",
       "      <td>74.110835</td>\n",
       "      <td>34.513714</td>\n",
       "      <td>48.689469</td>\n",
       "      <td>1542.685982</td>\n",
       "      <td>1.459265</td>\n",
       "      <td>4.117142</td>\n",
       "      <td>0.005183</td>\n",
       "      <td>0.0</td>\n",
       "      <td>1700.0</td>\n",
       "      <td>A6</td>\n",
       "      <td>C2</td>\n",
       "    </tr>\n",
       "    <tr>\n",
       "      <th>6</th>\n",
       "      <td>6</td>\n",
       "      <td>7d38b9e2-e3d3-494a-b43a-2997b6d7bf4c</td>\n",
       "      <td>91.456437</td>\n",
       "      <td>456.318141</td>\n",
       "      <td>63.359785</td>\n",
       "      <td>1088.865637</td>\n",
       "      <td>1.182501</td>\n",
       "      <td>5.080757</td>\n",
       "      <td>0.006310</td>\n",
       "      <td>0.0</td>\n",
       "      <td>1700.0</td>\n",
       "      <td>A7</td>\n",
       "      <td>C3</td>\n",
       "    </tr>\n",
       "    <tr>\n",
       "      <th>7</th>\n",
       "      <td>7</td>\n",
       "      <td>2252e0ad-3f6b-4234-9603-2420244f1080</td>\n",
       "      <td>230.246387</td>\n",
       "      <td>172.913187</td>\n",
       "      <td>526.767735</td>\n",
       "      <td>770.072691</td>\n",
       "      <td>0.469703</td>\n",
       "      <td>12.791073</td>\n",
       "      <td>0.015545</td>\n",
       "      <td>902.0</td>\n",
       "      <td>798.0</td>\n",
       "      <td>A8</td>\n",
       "      <td>C4</td>\n",
       "    </tr>\n",
       "    <tr>\n",
       "      <th>8</th>\n",
       "      <td>8</td>\n",
       "      <td>bf8528f0-4b3a-429d-bb11-da3c7d2c66f7</td>\n",
       "      <td>447.470939</td>\n",
       "      <td>365.846071</td>\n",
       "      <td>91.428678</td>\n",
       "      <td>795.254312</td>\n",
       "      <td>0.241686</td>\n",
       "      <td>24.858733</td>\n",
       "      <td>0.030505</td>\n",
       "      <td>1289.0</td>\n",
       "      <td>411.0</td>\n",
       "      <td>B1</td>\n",
       "      <td>C5</td>\n",
       "    </tr>\n",
       "    <tr>\n",
       "      <th>9</th>\n",
       "      <td>9</td>\n",
       "      <td>4c109404-def8-474c-a617-783ec03ec895</td>\n",
       "      <td>43.538614</td>\n",
       "      <td>94.802899</td>\n",
       "      <td>335.081280</td>\n",
       "      <td>1226.577207</td>\n",
       "      <td>2.483940</td>\n",
       "      <td>2.418738</td>\n",
       "      <td>0.002996</td>\n",
       "      <td>0.0</td>\n",
       "      <td>1700.0</td>\n",
       "      <td>B3</td>\n",
       "      <td>C6</td>\n",
       "    </tr>\n",
       "  </tbody>\n",
       "</table>\n",
       "</div>"
      ],
      "text/plain": [
       "   Unnamed: 0                                  uuid  teos_volume  \\\n",
       "0           0  7c4d74ad-5362-4981-b7a5-52fee1cd2e48   100.446867   \n",
       "1           1  2b778460-0ea0-4134-8256-cc0950b1838f    47.743600   \n",
       "2           2  e73de4ac-ae2f-40ac-adc9-6f4acfbb4678   297.684084   \n",
       "3           3  6e8ce412-9cdc-41b3-b8ae-fa08acb207cf   165.119200   \n",
       "4           4  ec102405-f168-46a3-935d-2d24fdaa5b1f    83.489946   \n",
       "5           5  7bf7296f-8eae-4228-a615-3d7b8c142d89    74.110835   \n",
       "6           6  7d38b9e2-e3d3-494a-b43a-2997b6d7bf4c    91.456437   \n",
       "7           7  2252e0ad-3f6b-4234-9603-2420244f1080   230.246387   \n",
       "8           8  bf8528f0-4b3a-429d-bb11-da3c7d2c66f7   447.470939   \n",
       "9           9  4c109404-def8-474c-a617-783ec03ec895    43.538614   \n",
       "\n",
       "   ammonia_volume  water_volume  ethanol_volume  dilution_volume_fraction  \\\n",
       "0      431.840514     39.876055     1127.836564                  1.076662   \n",
       "1      169.627361    480.552179     1002.076860                  2.265169   \n",
       "2      187.260579    659.409887      555.645450                  0.363296   \n",
       "3      457.338778    723.993653      353.548369                  0.654965   \n",
       "4      282.278352     27.288292     1306.943410                  1.295333   \n",
       "5       34.513714     48.689469     1542.685982                  1.459265   \n",
       "6      456.318141     63.359785     1088.865637                  1.182501   \n",
       "7      172.913187    526.767735      770.072691                  0.469703   \n",
       "8      365.846071     91.428678      795.254312                  0.241686   \n",
       "9       94.802899    335.081280     1226.577207                  2.483940   \n",
       "\n",
       "   silica_mass_conc  silica_mass_fraction  ethanol_dilute_vol  \\\n",
       "0          5.580210              0.006942                 0.0   \n",
       "1          2.652341              0.003253                 0.0   \n",
       "2         16.537497              0.019903              1082.0   \n",
       "3          9.173007              0.010973               587.0   \n",
       "4          4.638188              0.005802                 0.0   \n",
       "5          4.117142              0.005183                 0.0   \n",
       "6          5.080757              0.006310                 0.0   \n",
       "7         12.791073              0.015545               902.0   \n",
       "8         24.858733              0.030505              1289.0   \n",
       "9          2.418738              0.002996                 0.0   \n",
       "\n",
       "   sample_dilute_vol well dilute_well  \n",
       "0             1700.0   A1          B4  \n",
       "1             1700.0   A2          B5  \n",
       "2              618.0   A3          B6  \n",
       "3             1113.0   A4          B8  \n",
       "4             1700.0   A5          C1  \n",
       "5             1700.0   A6          C2  \n",
       "6             1700.0   A7          C3  \n",
       "7              798.0   A8          C4  \n",
       "8              411.0   B1          C5  \n",
       "9             1700.0   B3          C6  "
      ]
     },
     "execution_count": 59,
     "metadata": {},
     "output_type": "execute_result"
    }
   ],
   "source": [
    "sample_table_apdist"
   ]
  },
  {
   "cell_type": "code",
   "execution_count": 60,
   "id": "fef4115b-eda5-480a-9f52-b0bd1bc17f23",
   "metadata": {},
   "outputs": [
    {
     "data": {
      "text/plain": [
       "3860.0"
      ]
     },
     "execution_count": 60,
     "metadata": {},
     "output_type": "execute_result"
    }
   ],
   "source": [
    "sample_table_apdist['ethanol_dilute_vol'].sum()"
   ]
  },
  {
   "cell_type": "code",
   "execution_count": 9,
   "id": "9b530793-b2a2-4f5d-9825-b4d8c2028d96",
   "metadata": {},
   "outputs": [
    {
     "data": {
      "text/plain": [
       "{'teos_count': 1, 'ammonia_count': 1, 'water_count': 1, 'ethanol_count': 1}"
      ]
     },
     "execution_count": 9,
     "metadata": {},
     "output_type": "execute_result"
    }
   ],
   "source": [
    "stober.count_stock_vials(sample_table_apdist, 15000)"
   ]
  },
  {
   "cell_type": "code",
   "execution_count": 11,
   "id": "dd237516-a73b-4981-8a1a-1f17979c9dac",
   "metadata": {},
   "outputs": [
    {
     "data": {
      "text/plain": [
       "0.8278928874181584"
      ]
     },
     "execution_count": 11,
     "metadata": {},
     "output_type": "execute_result"
    }
   ],
   "source": [
    "sample_table_rmse['ethanol_volume'].sum()/10000"
   ]
  },
  {
   "cell_type": "markdown",
   "id": "b8f140ff-c5f8-494d-bd58-093982edd086",
   "metadata": {},
   "source": [
    "## Load Tools"
   ]
  },
  {
   "cell_type": "code",
   "execution_count": 12,
   "id": "d73bac24-917c-4c8c-8c30-494146511312",
   "metadata": {},
   "outputs": [
    {
     "name": "stdout",
     "output_type": "stream",
     "text": [
      "Syringe name:  10cc_1\n",
      "{'capacity': 10000, 'empty_position': 1830, 'full_position': 1217, 'name': '10cc_1'}\n",
      "Syringe name:  1cc_1\n",
      "{'capacity': 1000, 'empty_position': 1845, 'full_position': 1240, 'name': '1cc_1'}\n",
      "Syringe name:  1cc_2_hamilton\n",
      "{'capacity': 1000, 'empty_position': 1753, 'full_position': 1120, 'name': '1cc_2_hamilton'}\n",
      "Syringe name:  1cc_3_hamilton\n",
      "{'capacity': 1000, 'empty_position': 1753, 'full_position': 1120, 'name': '1cc_3_hamilton'}\n"
     ]
    }
   ],
   "source": [
    "syringe_10 = syringe.HTTPSyringe.from_config(2, \"../../../science-jubilee/src/science_jubilee/tools/configs/10cc_syringe.json\")\n",
    "syringe_1_1 = syringe.HTTPSyringe.from_config(1, \"../../../science-jubilee/src/science_jubilee/tools/configs/1cc_1_syringe.json\")\n",
    "syringe_1_2 = syringe.HTTPSyringe.from_config(3, \"../../../science-jubilee/src/science_jubilee/tools/configs/1cc_2_Hamiltonsyringe.json\")\n",
    "syringe_1_3 = syringe.HTTPSyringe.from_config(4, \"../../../science-jubilee/src/science_jubilee/tools/configs/1cc_3_Hamiltonsyringe.json\")"
   ]
  },
  {
   "cell_type": "code",
   "execution_count": 13,
   "id": "9448524a-f60e-43fd-ae53-0a51c87e6035",
   "metadata": {
    "scrolled": true
   },
   "outputs": [],
   "source": [
    "jubilee.load_tool(syringe_10)\n",
    "jubilee.load_tool(syringe_1_1)\n",
    "jubilee.load_tool(syringe_1_2)\n",
    "jubilee.load_tool(syringe_1_3)"
   ]
  },
  {
   "cell_type": "code",
   "execution_count": 14,
   "id": "21127bbe-632c-4ec0-84f9-57d9772a90db",
   "metadata": {},
   "outputs": [],
   "source": [
    "mix_syringe = syringe_10\n",
    "water_syringe = syringe_1_1\n",
    "ammonia_syringe = syringe_1_2\n",
    "teos_syringe = syringe_1_3"
   ]
  },
  {
   "cell_type": "markdown",
   "id": "e1d880ae-d253-43f5-995f-d2619e29c78a",
   "metadata": {},
   "source": [
    "## Load water syringe with water"
   ]
  },
  {
   "cell_type": "code",
   "execution_count": 15,
   "id": "fa91aafe-663a-4ea2-86df-e996c41d8f37",
   "metadata": {},
   "outputs": [
    {
     "name": "stdout",
     "output_type": "stream",
     "text": [
      "Loaded syringe, remaining volume 600 uL\n"
     ]
    }
   ],
   "source": [
    "water_syringe.load_syringe(600, 1500)"
   ]
  },
  {
   "cell_type": "code",
   "execution_count": 16,
   "id": "bb1ecb81-f858-4ab6-8a1e-b5a85f432f54",
   "metadata": {
    "scrolled": true
   },
   "outputs": [],
   "source": [
    "water_syringe.set_pulsewidth(water_syringe.empty_position-1, s = 2000)"
   ]
  },
  {
   "cell_type": "code",
   "execution_count": 17,
   "id": "b78aa9f3-0da5-4987-9da3-171f4e5ae2b1",
   "metadata": {},
   "outputs": [],
   "source": [
    "water_syringe.set_pulsewidth(water_syringe.full_position+1, s = 10)"
   ]
  },
  {
   "cell_type": "code",
   "execution_count": 18,
   "id": "e08edebd-a82b-4e35-a662-def2994a8f00",
   "metadata": {},
   "outputs": [],
   "source": [
    "water_syringe.set_pulsewidth(water_syringe.full_position+150, s = 500)"
   ]
  },
  {
   "cell_type": "code",
   "execution_count": 19,
   "id": "80aff25d-bae2-478d-bc07-4b4f11bd5e05",
   "metadata": {},
   "outputs": [
    {
     "name": "stdout",
     "output_type": "stream",
     "text": [
      "Loaded syringe, remaining volume 740 uL\n"
     ]
    }
   ],
   "source": [
    "water_syringe.load_syringe(740, water_syringe.full_position+150)"
   ]
  },
  {
   "cell_type": "markdown",
   "id": "8ea5df3b-0ad5-4dbb-ad3f-089a2d5f2bd1",
   "metadata": {},
   "source": [
    "## Load ammonia syringe"
   ]
  },
  {
   "cell_type": "code",
   "execution_count": 18,
   "id": "87a366e4-d389-4830-b923-0a932968add9",
   "metadata": {},
   "outputs": [],
   "source": [
    "#ammonia_syringe.set_pulsewidth(1420, s = 10)"
   ]
  },
  {
   "cell_type": "code",
   "execution_count": 20,
   "id": "0b36ffcf-ec60-4ee2-b2ae-5fb6895fd16c",
   "metadata": {},
   "outputs": [
    {
     "name": "stdout",
     "output_type": "stream",
     "text": [
      "Loaded syringe, remaining volume 600 uL\n"
     ]
    }
   ],
   "source": [
    "ammonia_syringe.load_syringe(600, 1500)"
   ]
  },
  {
   "cell_type": "code",
   "execution_count": 21,
   "id": "497e2cad-9387-4815-9398-58651b8d9826",
   "metadata": {},
   "outputs": [],
   "source": [
    "ammonia_syringe.set_pulsewidth(ammonia_syringe.empty_position-1, s = 2000)"
   ]
  },
  {
   "cell_type": "code",
   "execution_count": 22,
   "id": "a0c7e519-e4e1-4a6a-a40d-3a5125503194",
   "metadata": {},
   "outputs": [],
   "source": [
    "ammonia_syringe.set_pulsewidth(ammonia_syringe.full_position+1, s = 10)"
   ]
  },
  {
   "cell_type": "code",
   "execution_count": 23,
   "id": "460e8b6d-261f-4e06-b587-a978291d57f7",
   "metadata": {},
   "outputs": [],
   "source": [
    "ammonia_syringe.set_pulsewidth(ammonia_syringe.full_position+350, s = 500)"
   ]
  },
  {
   "cell_type": "code",
   "execution_count": 24,
   "id": "b5be2527-8c06-4465-8e44-41f410149cd7",
   "metadata": {},
   "outputs": [
    {
     "name": "stdout",
     "output_type": "stream",
     "text": [
      "Loaded syringe, remaining volume 400 uL\n"
     ]
    }
   ],
   "source": [
    "ammonia_syringe.load_syringe(400, ammonia_syringe.full_position+350)"
   ]
  },
  {
   "cell_type": "markdown",
   "id": "e2c53ecf-d14a-4536-8062-9e7af8c51ba8",
   "metadata": {},
   "source": [
    "## Load TEOS syringe"
   ]
  },
  {
   "cell_type": "code",
   "execution_count": 25,
   "id": "22a73a10-c727-45c9-a653-1716b97e7d51",
   "metadata": {},
   "outputs": [
    {
     "name": "stdout",
     "output_type": "stream",
     "text": [
      "Loaded syringe, remaining volume 600 uL\n"
     ]
    }
   ],
   "source": [
    "teos_syringe.load_syringe(600, 1500)"
   ]
  },
  {
   "cell_type": "code",
   "execution_count": 26,
   "id": "2a4274ac-3472-452b-9368-56f36ed8d078",
   "metadata": {},
   "outputs": [],
   "source": [
    "teos_syringe.set_pulsewidth(teos_syringe.empty_position-1, s = 2000)"
   ]
  },
  {
   "cell_type": "code",
   "execution_count": 27,
   "id": "63453a13-e4ed-47a9-8d35-3368c1a83daf",
   "metadata": {},
   "outputs": [],
   "source": [
    "teos_syringe.set_pulsewidth(teos_syringe.full_position+1, s = 100)"
   ]
  },
  {
   "cell_type": "code",
   "execution_count": 28,
   "id": "7d22ae98-d92e-4ee2-aa1e-dbd7090f7778",
   "metadata": {},
   "outputs": [],
   "source": [
    "teos_syringe.set_pulsewidth(teos_syringe.full_position+200, s = 200)"
   ]
  },
  {
   "cell_type": "code",
   "execution_count": 29,
   "id": "cf5154eb-2d59-4bd8-90c2-86c3374a662d",
   "metadata": {},
   "outputs": [
    {
     "name": "stdout",
     "output_type": "stream",
     "text": [
      "Loaded syringe, remaining volume 690 uL\n"
     ]
    }
   ],
   "source": [
    "teos_syringe.load_syringe(690, teos_syringe.full_position+200)"
   ]
  },
  {
   "cell_type": "markdown",
   "id": "ad1ac96b-3d53-4da1-aa2c-a8c2386280f8",
   "metadata": {},
   "source": [
    "## load ethanol syringe"
   ]
  },
  {
   "cell_type": "code",
   "execution_count": 30,
   "id": "f1caaf1a-900c-43ed-a57b-754b0d62aa37",
   "metadata": {},
   "outputs": [],
   "source": [
    "#jubilee.park_tool()"
   ]
  },
  {
   "cell_type": "code",
   "execution_count": 31,
   "id": "94db4b0e-3075-4b45-91f7-9bc2817a2e31",
   "metadata": {},
   "outputs": [
    {
     "name": "stdout",
     "output_type": "stream",
     "text": [
      "Loaded syringe, remaining volume 0 uL\n"
     ]
    }
   ],
   "source": [
    "mix_syringe.load_syringe(0, mix_syringe.empty_position-1)"
   ]
  },
  {
   "cell_type": "code",
   "execution_count": 32,
   "id": "f53b6f7e-62d6-43fc-b2bf-a2e1aebdf313",
   "metadata": {},
   "outputs": [],
   "source": [
    "mix_syringe.set_pulsewidth(mix_syringe.empty_position-1, s = 2000)\n"
   ]
  },
  {
   "cell_type": "code",
   "execution_count": 33,
   "id": "c0904b15-1ceb-4e5b-aa62-2706e79634e6",
   "metadata": {},
   "outputs": [],
   "source": [
    "mix_syringe.set_pulsewidth(mix_syringe.full_position+1, s = 10)"
   ]
  },
  {
   "cell_type": "code",
   "execution_count": 32,
   "id": "96d9a53e-24a0-4595-bb69-db89483176ce",
   "metadata": {},
   "outputs": [],
   "source": [
    "#mix_syringe.empty_position"
   ]
  },
  {
   "cell_type": "code",
   "execution_count": 34,
   "id": "8f8a67fa-ed88-45db-a2df-72720c31beff",
   "metadata": {},
   "outputs": [],
   "source": [
    "mix_syringe.set_pulsewidth(mix_syringe.full_position+100, s = 500)"
   ]
  },
  {
   "cell_type": "code",
   "execution_count": 35,
   "id": "99ad1605-10c8-45a3-80cf-c6adfd7ae6a9",
   "metadata": {},
   "outputs": [
    {
     "name": "stdout",
     "output_type": "stream",
     "text": [
      "Loaded syringe, remaining volume 8100 uL\n"
     ]
    }
   ],
   "source": [
    "mix_syringe.load_syringe(8100, mix_syringe.full_position+100)"
   ]
  },
  {
   "cell_type": "markdown",
   "id": "43d1f97d-4c55-40d3-ac5b-9c3a3f1062ed",
   "metadata": {},
   "source": [
    "## Load labware\n"
   ]
  },
  {
   "cell_type": "code",
   "execution_count": 43,
   "id": "19b4bfa8-6878-4b0b-a564-369faa361b1c",
   "metadata": {
    "scrolled": true
   },
   "outputs": [
    {
     "name": "stdout",
     "output_type": "stream",
     "text": [
      "New manual offset applied to septavialrev1_44_holder_2000ul\n"
     ]
    }
   ],
   "source": [
    "samples_apdist = jubilee.load_labware('septavialrev1_44_holder_2000ul.json', 2)\n",
    "samples_apdist.manual_offset([(19.3, 175.8), (132.3, 176.5), (133.2, 106.8)])"
   ]
  },
  {
   "cell_type": "code",
   "execution_count": 44,
   "id": "cf53ae95-32d9-4cf5-8597-431e5b9571fa",
   "metadata": {},
   "outputs": [
    {
     "name": "stdout",
     "output_type": "stream",
     "text": [
      "New manual offset applied to septavialrev1_44_holder_2000ul\n"
     ]
    }
   ],
   "source": [
    "samples_rmse = jubilee.load_labware('septavialrev1_44_holder_2000ul.json', 3)\n",
    "samples_rmse.manual_offset([(160.2, 176.4),(270.9, 177.1),(272.1, 107.8)])"
   ]
  },
  {
   "cell_type": "code",
   "execution_count": 45,
   "id": "19ad67cc-b0a8-4c1f-8d6a-60b173599c82",
   "metadata": {},
   "outputs": [
    {
     "name": "stdout",
     "output_type": "stream",
     "text": [
      "New manual offset applied to 20mlscintillation_12_wellplate_18000ul\n"
     ]
    }
   ],
   "source": [
    "stocks_main = jubilee.load_labware('20mlscintillation_12_wellplate_18000ul.json', 4)\n",
    "stocks_main.manual_offset([(30.5, 266.0),  (120.5, 266.0), (120.5, 210.0)])"
   ]
  },
  {
   "cell_type": "raw",
   "id": "75302623-3364-404f-9da4-f85e63eadbe1",
   "metadata": {},
   "source": [
    "stocks_extra = jubilee.load_labware('20mlscintillation_12_wellplate_18000ul.json', 5)\n",
    "stocks_extra.manual_offset([(171.1, 264.1), (256.9, 265.0), (256.7, 208.5)])\n"
   ]
  },
  {
   "cell_type": "code",
   "execution_count": 39,
   "id": "1ef40a35-9802-4eb3-9a10-16255155b92d",
   "metadata": {},
   "outputs": [],
   "source": [
    "trash = jubilee.load_labware('agilent_1_reservoir_290ml.json', 1)"
   ]
  },
  {
   "cell_type": "code",
   "execution_count": 46,
   "id": "f7395271-1a02-4f11-883f-34a8456f0a05",
   "metadata": {},
   "outputs": [],
   "source": [
    "teos_stocks = [stocks_main[0]]\n",
    "ammonia_stocks = [stocks_main[1]]\n",
    "water_stocks = [stocks_main[2]]\n",
    "ethanol_stocks_apdist = [stocks_main[3], stocks_main[4], stocks_main[5]]\n",
    "rinse_stocks_apdist = [stocks_main[9], stocks_main[10], stocks_main[11]]"
   ]
  },
  {
   "cell_type": "code",
   "execution_count": 47,
   "id": "970020a7-164c-4424-8058-e34e5bf83027",
   "metadata": {},
   "outputs": [],
   "source": [
    "ethanol_stocks_rmse = [stocks_main[6], stocks_main[7], stocks_main[8]]\n",
    "rinse_stocks_rmse = [stocks_main[9], stocks_main[10], stocks_main[11]]"
   ]
  },
  {
   "cell_type": "markdown",
   "id": "4bd30fe3-5be6-4ea7-a61d-357272d3e8a4",
   "metadata": {},
   "source": [
    "## Check sample alignment"
   ]
  },
  {
   "cell_type": "code",
   "execution_count": 31,
   "id": "95d14b2a-7129-4868-8a0b-2901da667520",
   "metadata": {},
   "outputs": [],
   "source": [
    "jubilee.park_tool()"
   ]
  },
  {
   "cell_type": "code",
   "execution_count": 61,
   "id": "25a4d272-6e56-4649-ba7a-5e04e922c043",
   "metadata": {},
   "outputs": [
    {
     "name": "stdout",
     "output_type": "stream",
     "text": [
      "176.4\n"
     ]
    },
    {
     "name": "stdin",
     "output_type": "stream",
     "text": [
      "Is the tip centered over sample A1? \n"
     ]
    },
    {
     "name": "stdout",
     "output_type": "stream",
     "text": [
      "176.58690525912615\n"
     ]
    },
    {
     "name": "stdin",
     "output_type": "stream",
     "text": [
      "Is the tip centered over sample A2? \n"
     ]
    },
    {
     "name": "stdout",
     "output_type": "stream",
     "text": [
      "176.77381051825228\n"
     ]
    },
    {
     "name": "stdin",
     "output_type": "stream",
     "text": [
      "Is the tip centered over sample A3? \n"
     ]
    },
    {
     "name": "stdout",
     "output_type": "stream",
     "text": [
      "176.96071577737843\n"
     ]
    },
    {
     "name": "stdin",
     "output_type": "stream",
     "text": [
      "Is the tip centered over sample A4? \n"
     ]
    },
    {
     "name": "stdout",
     "output_type": "stream",
     "text": [
      "177.14762103650455\n"
     ]
    },
    {
     "name": "stdin",
     "output_type": "stream",
     "text": [
      "Is the tip centered over sample A5? \n"
     ]
    },
    {
     "name": "stdout",
     "output_type": "stream",
     "text": [
      "177.3345262956307\n"
     ]
    },
    {
     "name": "stdin",
     "output_type": "stream",
     "text": [
      "Is the tip centered over sample A6? \n"
     ]
    },
    {
     "name": "stdout",
     "output_type": "stream",
     "text": [
      "177.52143155475682\n"
     ]
    },
    {
     "name": "stdin",
     "output_type": "stream",
     "text": [
      "Is the tip centered over sample A7? \n"
     ]
    },
    {
     "name": "stdout",
     "output_type": "stream",
     "text": [
      "177.70833681388297\n"
     ]
    },
    {
     "name": "stdin",
     "output_type": "stream",
     "text": [
      "Is the tip centered over sample A8? \n"
     ]
    },
    {
     "name": "stdout",
     "output_type": "stream",
     "text": [
      "162.53889037779504\n"
     ]
    },
    {
     "name": "stdin",
     "output_type": "stream",
     "text": [
      "Is the tip centered over sample B1? \n"
     ]
    },
    {
     "name": "stdout",
     "output_type": "stream",
     "text": [
      "162.9127008960473\n"
     ]
    },
    {
     "name": "stdin",
     "output_type": "stream",
     "text": [
      "Is the tip centered over sample B3? \n"
     ]
    }
   ],
   "source": [
    "jubilee.pickup_tool(mix_syringe)\n",
    "for i, row in sample_table_rmse.iterrows():\n",
    "    loc = samples_rmse[row['well']]\n",
    "    jubilee.move_to(x = loc.x, y = loc.y)\n",
    "    print(loc.y)\n",
    "    jubilee.move_to(z = loc.top_+7)\n",
    "    curr_well = row['well']\n",
    "    ans = input(f'Is the tip centered over sample {curr_well}?')\n",
    "    if ans == 'y':\n",
    "        continue\n",
    "    else:\n",
    "        continue\n",
    "    "
   ]
  },
  {
   "cell_type": "code",
   "execution_count": 55,
   "id": "a52572b9-48d6-4bf1-acb2-19c7ac5c6fb8",
   "metadata": {},
   "outputs": [],
   "source": [
    "jubilee.park_tool()\n"
   ]
  },
  {
   "cell_type": "markdown",
   "id": "b9dff3f4-8be6-4f73-b343-6221f8df76dc",
   "metadata": {},
   "source": [
    "# Experiment\n"
   ]
  },
  {
   "cell_type": "code",
   "execution_count": 62,
   "id": "9d770745-931b-42d0-8b40-409a83411619",
   "metadata": {},
   "outputs": [],
   "source": [
    "location_lookup_apdist = {row['uuid']:samples_apdist[row['well']] for i, row in sample_table_apdist.iterrows()}\n",
    "location_lookup_rmse = {row['uuid']:samples_rmse[row['well']] for i, row in sample_table_rmse.iterrows()}"
   ]
  },
  {
   "cell_type": "code",
   "execution_count": 63,
   "id": "30502878-2c56-4f8a-94dc-e7ad55f92927",
   "metadata": {},
   "outputs": [
    {
     "data": {
      "text/plain": [
       "9769.506482027937"
      ]
     },
     "execution_count": 63,
     "metadata": {},
     "output_type": "execute_result"
    }
   ],
   "source": [
    "sample_table_apdist['ethanol_volume'].sum()"
   ]
  },
  {
   "cell_type": "code",
   "execution_count": 64,
   "id": "b2a12505-772e-4ca8-8d21-822a400835f9",
   "metadata": {},
   "outputs": [],
   "source": [
    "dilution_table_apdist = sample_table_apdist.copy()\n",
    "dilution_table_rmse = sample_table_rmse.copy()"
   ]
  },
  {
   "cell_type": "code",
   "execution_count": 65,
   "id": "bdd03979-152a-48dd-9d62-b73859c453c4",
   "metadata": {},
   "outputs": [],
   "source": [
    "dilution_table_apdist['well'] = dilution_table_apdist['dilute_well']\n",
    "dilution_table_rmse['well'] = dilution_table_rmse['dilute_well']"
   ]
  },
  {
   "cell_type": "code",
   "execution_count": 66,
   "id": "804bb020-adc5-44ad-84a7-37235024043e",
   "metadata": {},
   "outputs": [
    {
     "data": {
      "text/html": [
       "<div>\n",
       "<style scoped>\n",
       "    .dataframe tbody tr th:only-of-type {\n",
       "        vertical-align: middle;\n",
       "    }\n",
       "\n",
       "    .dataframe tbody tr th {\n",
       "        vertical-align: top;\n",
       "    }\n",
       "\n",
       "    .dataframe thead th {\n",
       "        text-align: right;\n",
       "    }\n",
       "</style>\n",
       "<table border=\"1\" class=\"dataframe\">\n",
       "  <thead>\n",
       "    <tr style=\"text-align: right;\">\n",
       "      <th></th>\n",
       "      <th>Unnamed: 0</th>\n",
       "      <th>uuid</th>\n",
       "      <th>teos_volume</th>\n",
       "      <th>ammonia_volume</th>\n",
       "      <th>water_volume</th>\n",
       "      <th>ethanol_volume</th>\n",
       "      <th>dilution_volume_fraction</th>\n",
       "      <th>silica_mass_conc</th>\n",
       "      <th>silica_mass_fraction</th>\n",
       "      <th>ethanol_dilute_vol</th>\n",
       "      <th>sample_dilute_vol</th>\n",
       "      <th>well</th>\n",
       "      <th>dilute_well</th>\n",
       "    </tr>\n",
       "  </thead>\n",
       "  <tbody>\n",
       "    <tr>\n",
       "      <th>0</th>\n",
       "      <td>0</td>\n",
       "      <td>9cff952d-2d28-47b2-bb0b-d49602fd36d2</td>\n",
       "      <td>90.614116</td>\n",
       "      <td>189.664150</td>\n",
       "      <td>250.625458</td>\n",
       "      <td>1169.096276</td>\n",
       "      <td>1.193493</td>\n",
       "      <td>5.033963</td>\n",
       "      <td>0.006237</td>\n",
       "      <td>0.0</td>\n",
       "      <td>1700.0</td>\n",
       "      <td>B4</td>\n",
       "      <td>B4</td>\n",
       "    </tr>\n",
       "    <tr>\n",
       "      <th>1</th>\n",
       "      <td>1</td>\n",
       "      <td>60e54cc2-4d8e-4d0e-aab8-390bef44dcf8</td>\n",
       "      <td>228.684063</td>\n",
       "      <td>270.377199</td>\n",
       "      <td>470.888258</td>\n",
       "      <td>730.050480</td>\n",
       "      <td>0.472911</td>\n",
       "      <td>12.704280</td>\n",
       "      <td>0.015444</td>\n",
       "      <td>896.0</td>\n",
       "      <td>804.0</td>\n",
       "      <td>B5</td>\n",
       "      <td>B5</td>\n",
       "    </tr>\n",
       "    <tr>\n",
       "      <th>2</th>\n",
       "      <td>2</td>\n",
       "      <td>bde1a208-9fee-499e-843b-7866aa600a77</td>\n",
       "      <td>24.224999</td>\n",
       "      <td>484.500007</td>\n",
       "      <td>666.348728</td>\n",
       "      <td>524.926265</td>\n",
       "      <td>4.464286</td>\n",
       "      <td>1.345792</td>\n",
       "      <td>0.001622</td>\n",
       "      <td>0.0</td>\n",
       "      <td>1700.0</td>\n",
       "      <td>B6</td>\n",
       "      <td>B6</td>\n",
       "    </tr>\n",
       "    <tr>\n",
       "      <th>3</th>\n",
       "      <td>3</td>\n",
       "      <td>8f8ed9a5-2ea3-440f-93bf-01d9f6cbc33d</td>\n",
       "      <td>484.500007</td>\n",
       "      <td>24.224999</td>\n",
       "      <td>273.731449</td>\n",
       "      <td>917.543544</td>\n",
       "      <td>0.223214</td>\n",
       "      <td>26.915840</td>\n",
       "      <td>0.032983</td>\n",
       "      <td>1321.0</td>\n",
       "      <td>379.0</td>\n",
       "      <td>B8</td>\n",
       "      <td>B8</td>\n",
       "    </tr>\n",
       "    <tr>\n",
       "      <th>4</th>\n",
       "      <td>4</td>\n",
       "      <td>f93ed4f1-94fb-4806-835e-4975da39c452</td>\n",
       "      <td>135.707419</td>\n",
       "      <td>373.352663</td>\n",
       "      <td>489.220082</td>\n",
       "      <td>701.719836</td>\n",
       "      <td>0.796915</td>\n",
       "      <td>7.539070</td>\n",
       "      <td>0.009161</td>\n",
       "      <td>345.0</td>\n",
       "      <td>1355.0</td>\n",
       "      <td>C1</td>\n",
       "      <td>C1</td>\n",
       "    </tr>\n",
       "    <tr>\n",
       "      <th>5</th>\n",
       "      <td>5</td>\n",
       "      <td>99049d8c-98af-4240-ad63-7784477d7c02</td>\n",
       "      <td>379.921139</td>\n",
       "      <td>133.905259</td>\n",
       "      <td>221.684161</td>\n",
       "      <td>964.489441</td>\n",
       "      <td>0.284657</td>\n",
       "      <td>21.106082</td>\n",
       "      <td>0.025954</td>\n",
       "      <td>1216.0</td>\n",
       "      <td>484.0</td>\n",
       "      <td>C2</td>\n",
       "      <td>C2</td>\n",
       "    </tr>\n",
       "    <tr>\n",
       "      <th>6</th>\n",
       "      <td>6</td>\n",
       "      <td>a35e929b-49fd-4bed-a211-70524348fe8e</td>\n",
       "      <td>24.224999</td>\n",
       "      <td>212.324890</td>\n",
       "      <td>226.751481</td>\n",
       "      <td>1236.698630</td>\n",
       "      <td>4.464286</td>\n",
       "      <td>1.345792</td>\n",
       "      <td>0.001673</td>\n",
       "      <td>0.0</td>\n",
       "      <td>1700.0</td>\n",
       "      <td>C3</td>\n",
       "      <td>C3</td>\n",
       "    </tr>\n",
       "    <tr>\n",
       "      <th>7</th>\n",
       "      <td>7</td>\n",
       "      <td>069a5c5d-4bfd-419e-a96e-36215855466d</td>\n",
       "      <td>211.666209</td>\n",
       "      <td>484.500007</td>\n",
       "      <td>538.140465</td>\n",
       "      <td>465.693319</td>\n",
       "      <td>0.510933</td>\n",
       "      <td>11.758873</td>\n",
       "      <td>0.014169</td>\n",
       "      <td>831.0</td>\n",
       "      <td>869.0</td>\n",
       "      <td>C4</td>\n",
       "      <td>C4</td>\n",
       "    </tr>\n",
       "    <tr>\n",
       "      <th>8</th>\n",
       "      <td>8</td>\n",
       "      <td>627048de-ccfc-4b9e-998f-c83de2ac353f</td>\n",
       "      <td>199.575596</td>\n",
       "      <td>135.113642</td>\n",
       "      <td>701.939108</td>\n",
       "      <td>663.371654</td>\n",
       "      <td>0.541887</td>\n",
       "      <td>11.087193</td>\n",
       "      <td>0.013380</td>\n",
       "      <td>779.0</td>\n",
       "      <td>921.0</td>\n",
       "      <td>C5</td>\n",
       "      <td>C5</td>\n",
       "    </tr>\n",
       "    <tr>\n",
       "      <th>9</th>\n",
       "      <td>9</td>\n",
       "      <td>9f8223fc-c3be-4ca7-b9c9-55fa9c4daa60</td>\n",
       "      <td>484.500007</td>\n",
       "      <td>246.977225</td>\n",
       "      <td>63.183338</td>\n",
       "      <td>905.339430</td>\n",
       "      <td>0.223214</td>\n",
       "      <td>26.915840</td>\n",
       "      <td>0.033145</td>\n",
       "      <td>1321.0</td>\n",
       "      <td>379.0</td>\n",
       "      <td>C6</td>\n",
       "      <td>C6</td>\n",
       "    </tr>\n",
       "  </tbody>\n",
       "</table>\n",
       "</div>"
      ],
      "text/plain": [
       "   Unnamed: 0                                  uuid  teos_volume  \\\n",
       "0           0  9cff952d-2d28-47b2-bb0b-d49602fd36d2    90.614116   \n",
       "1           1  60e54cc2-4d8e-4d0e-aab8-390bef44dcf8   228.684063   \n",
       "2           2  bde1a208-9fee-499e-843b-7866aa600a77    24.224999   \n",
       "3           3  8f8ed9a5-2ea3-440f-93bf-01d9f6cbc33d   484.500007   \n",
       "4           4  f93ed4f1-94fb-4806-835e-4975da39c452   135.707419   \n",
       "5           5  99049d8c-98af-4240-ad63-7784477d7c02   379.921139   \n",
       "6           6  a35e929b-49fd-4bed-a211-70524348fe8e    24.224999   \n",
       "7           7  069a5c5d-4bfd-419e-a96e-36215855466d   211.666209   \n",
       "8           8  627048de-ccfc-4b9e-998f-c83de2ac353f   199.575596   \n",
       "9           9  9f8223fc-c3be-4ca7-b9c9-55fa9c4daa60   484.500007   \n",
       "\n",
       "   ammonia_volume  water_volume  ethanol_volume  dilution_volume_fraction  \\\n",
       "0      189.664150    250.625458     1169.096276                  1.193493   \n",
       "1      270.377199    470.888258      730.050480                  0.472911   \n",
       "2      484.500007    666.348728      524.926265                  4.464286   \n",
       "3       24.224999    273.731449      917.543544                  0.223214   \n",
       "4      373.352663    489.220082      701.719836                  0.796915   \n",
       "5      133.905259    221.684161      964.489441                  0.284657   \n",
       "6      212.324890    226.751481     1236.698630                  4.464286   \n",
       "7      484.500007    538.140465      465.693319                  0.510933   \n",
       "8      135.113642    701.939108      663.371654                  0.541887   \n",
       "9      246.977225     63.183338      905.339430                  0.223214   \n",
       "\n",
       "   silica_mass_conc  silica_mass_fraction  ethanol_dilute_vol  \\\n",
       "0          5.033963              0.006237                 0.0   \n",
       "1         12.704280              0.015444               896.0   \n",
       "2          1.345792              0.001622                 0.0   \n",
       "3         26.915840              0.032983              1321.0   \n",
       "4          7.539070              0.009161               345.0   \n",
       "5         21.106082              0.025954              1216.0   \n",
       "6          1.345792              0.001673                 0.0   \n",
       "7         11.758873              0.014169               831.0   \n",
       "8         11.087193              0.013380               779.0   \n",
       "9         26.915840              0.033145              1321.0   \n",
       "\n",
       "   sample_dilute_vol well dilute_well  \n",
       "0             1700.0   B4          B4  \n",
       "1              804.0   B5          B5  \n",
       "2             1700.0   B6          B6  \n",
       "3              379.0   B8          B8  \n",
       "4             1355.0   C1          C1  \n",
       "5              484.0   C2          C2  \n",
       "6             1700.0   C3          C3  \n",
       "7              869.0   C4          C4  \n",
       "8              921.0   C5          C5  \n",
       "9              379.0   C6          C6  "
      ]
     },
     "execution_count": 66,
     "metadata": {},
     "output_type": "execute_result"
    }
   ],
   "source": [
    "dilution_table_rmse"
   ]
  },
  {
   "cell_type": "code",
   "execution_count": 67,
   "id": "7753c222-5c1d-493a-a7a8-8529cb116fed",
   "metadata": {},
   "outputs": [],
   "source": [
    "location_lookup_dilute_apdist = {}\n",
    "\n",
    "for i, row in dilution_table_apdist.iterrows():\n",
    "    uuid_val = row['uuid']\n",
    "    well = row['well']\n",
    "    if well is not np.nan:\n",
    "        well_loc = samples_apdist[well]\n",
    "    else:\n",
    "        well_loc = None\n",
    "\n",
    "    location_lookup_dilute_apdist[uuid_val] = well_loc"
   ]
  },
  {
   "cell_type": "code",
   "execution_count": 68,
   "id": "58d3a1a2-b53e-4f1a-8ca8-aa8a684ce385",
   "metadata": {},
   "outputs": [],
   "source": [
    "location_lookup_dilute_rmse = {}\n",
    "\n",
    "for i, row in dilution_table_rmse.iterrows():\n",
    "    uuid_val = row['uuid']\n",
    "    well = row['well']\n",
    "    if well is not np.nan:\n",
    "        well_loc = samples_rmse[well]\n",
    "    else:\n",
    "        well_loc = None\n",
    "\n",
    "    location_lookup_dilute_rmse[uuid_val] = well_loc"
   ]
  },
  {
   "cell_type": "code",
   "execution_count": 69,
   "id": "57de8e15-1e60-40ee-bfe6-e7d15a7be4a0",
   "metadata": {},
   "outputs": [
    {
     "data": {
      "text/plain": [
       "6709.0"
      ]
     },
     "execution_count": 69,
     "metadata": {},
     "output_type": "execute_result"
    }
   ],
   "source": [
    "dilution_table_rmse['ethanol_dilute_vol'].sum()"
   ]
  },
  {
   "cell_type": "markdown",
   "id": "e2ddb62c-d3f3-4c45-917a-e575189606c9",
   "metadata": {},
   "source": [
    "## add ethanol"
   ]
  },
  {
   "cell_type": "code",
   "execution_count": 74,
   "id": "633f3eb6-f6a3-498f-8481-a38239392915",
   "metadata": {},
   "outputs": [
    {
     "data": {
      "text/plain": [
       "{'9cff952d-2d28-47b2-bb0b-d49602fd36d2': Well B4 form septavialrev1_44_holder_2000ul on slot 3,\n",
       " '60e54cc2-4d8e-4d0e-aab8-390bef44dcf8': Well B5 form septavialrev1_44_holder_2000ul on slot 3,\n",
       " 'bde1a208-9fee-499e-843b-7866aa600a77': Well B6 form septavialrev1_44_holder_2000ul on slot 3,\n",
       " '8f8ed9a5-2ea3-440f-93bf-01d9f6cbc33d': Well B8 form septavialrev1_44_holder_2000ul on slot 3,\n",
       " 'f93ed4f1-94fb-4806-835e-4975da39c452': Well C1 form septavialrev1_44_holder_2000ul on slot 3,\n",
       " '99049d8c-98af-4240-ad63-7784477d7c02': Well C2 form septavialrev1_44_holder_2000ul on slot 3,\n",
       " 'a35e929b-49fd-4bed-a211-70524348fe8e': Well C3 form septavialrev1_44_holder_2000ul on slot 3,\n",
       " '069a5c5d-4bfd-419e-a96e-36215855466d': Well C4 form septavialrev1_44_holder_2000ul on slot 3,\n",
       " '627048de-ccfc-4b9e-998f-c83de2ac353f': Well C5 form septavialrev1_44_holder_2000ul on slot 3,\n",
       " '9f8223fc-c3be-4ca7-b9c9-55fa9c4daa60': Well C6 form septavialrev1_44_holder_2000ul on slot 3}"
      ]
     },
     "execution_count": 74,
     "metadata": {},
     "output_type": "execute_result"
    }
   ],
   "source": [
    "location_lookup_dilute_rmse"
   ]
  },
  {
   "cell_type": "code",
   "execution_count": 80,
   "id": "a6c28415-6603-4bff-aad2-fd7fe99dd604",
   "metadata": {},
   "outputs": [],
   "source": [
    "stober.add_reactants_batch(jubilee, mix_syringe, mix_syringe, sample_table_apdist, location_lookup_apdist, 'ethanol_volume', ethanol_stocks_apdist[:2], stocks_usable_volume=15000, dwell_time = 10)"
   ]
  },
  {
   "cell_type": "code",
   "execution_count": 81,
   "id": "0f4144b3-a7f9-4650-886f-054cd544228a",
   "metadata": {},
   "outputs": [],
   "source": [
    "\n",
    "stober.add_reactants_batch(jubilee, mix_syringe, mix_syringe, sample_table_rmse, location_lookup_rmse, 'ethanol_volume', ethanol_stocks_rmse[:2], stocks_usable_volume=15000, dwell_time = 10)"
   ]
  },
  {
   "cell_type": "code",
   "execution_count": 82,
   "id": "7d204157-ed65-4f49-acbc-d192222f0dc6",
   "metadata": {},
   "outputs": [],
   "source": [
    "#dispense remaining volume from etOH mix syringe\n",
    "jubilee.pickup_tool(mix_syringe)\n",
    "mix_syringe.dispense(mix_syringe.remaining_volume-1, trash[0])\n",
    "logger.info('Emptied ethanol syringe into trash')\n",
    "jubilee.park_tool()"
   ]
  },
  {
   "cell_type": "code",
   "execution_count": 83,
   "id": "2fc66aa1-bc70-4098-8e37-f148188c26c6",
   "metadata": {},
   "outputs": [],
   "source": [
    "mix_syringe.set_pulsewidth(mix_syringe.empty_position-1)"
   ]
  },
  {
   "cell_type": "markdown",
   "id": "9e35c96c-2ea8-438a-989d-f6d73c8f16ed",
   "metadata": {},
   "source": [
    "## Dispense water\n"
   ]
  },
  {
   "cell_type": "code",
   "execution_count": 84,
   "id": "9f765450-7f64-49e7-85f8-335e2fa0b666",
   "metadata": {},
   "outputs": [],
   "source": [
    "stober.add_reactants_batch(jubilee, water_syringe, mix_syringe, sample_table_apdist, location_lookup_apdist, 'water_volume', water_stocks, dwell_time = 7)"
   ]
  },
  {
   "cell_type": "code",
   "execution_count": 85,
   "id": "16b57d0a-7d0f-4a3e-9ed9-0c021c31f538",
   "metadata": {},
   "outputs": [],
   "source": [
    "stober.add_reactants_batch(jubilee, water_syringe, mix_syringe, sample_table_rmse, location_lookup_rmse, 'water_volume', water_stocks, dwell_time = 7)"
   ]
  },
  {
   "cell_type": "markdown",
   "id": "cd60cc24-167e-46e5-9e73-a2457c8964de",
   "metadata": {},
   "source": [
    "## dispense Ammonia"
   ]
  },
  {
   "cell_type": "code",
   "execution_count": 86,
   "id": "7dc4c2ae-9e4e-40e0-929a-6e0a3e4bc240",
   "metadata": {},
   "outputs": [],
   "source": [
    "stober.add_reactants_batch(jubilee, ammonia_syringe, mix_syringe, sample_table_apdist, location_lookup_apdist, 'ammonia_volume', ammonia_stocks)"
   ]
  },
  {
   "cell_type": "code",
   "execution_count": 87,
   "id": "e7f6b494-541c-4ca7-82a1-be053a1869aa",
   "metadata": {},
   "outputs": [],
   "source": [
    "stober.add_reactants_batch(jubilee, ammonia_syringe, mix_syringe, sample_table_rmse, location_lookup_rmse, 'ammonia_volume', ammonia_stocks)"
   ]
  },
  {
   "cell_type": "code",
   "execution_count": 88,
   "id": "bd80f9b8-c631-4a1e-b353-cda11b857cd1",
   "metadata": {},
   "outputs": [
    {
     "data": {
      "text/plain": [
       "[Well C2 form 20mLscintillation 12 Well Plate 18000 µL on slot 4,\n",
       " Well C3 form 20mLscintillation 12 Well Plate 18000 µL on slot 4,\n",
       " Well C4 form 20mLscintillation 12 Well Plate 18000 µL on slot 4]"
      ]
     },
     "execution_count": 88,
     "metadata": {},
     "output_type": "execute_result"
    }
   ],
   "source": [
    "rinse_stocks_rmse"
   ]
  },
  {
   "cell_type": "markdown",
   "id": "bc8a34b3-acd7-4b89-a9ea-34b514cd3d8c",
   "metadata": {},
   "source": [
    "## mix precursors"
   ]
  },
  {
   "cell_type": "code",
   "execution_count": 94,
   "id": "f4f701c5-7908-489e-a1eb-9b2c60438c96",
   "metadata": {},
   "outputs": [
    {
     "ename": "KeyboardInterrupt",
     "evalue": "",
     "output_type": "error",
     "traceback": [
      "\u001b[0;31m---------------------------------------------------------------------------\u001b[0m",
      "\u001b[0;31mKeyboardInterrupt\u001b[0m                         Traceback (most recent call last)",
      "Cell \u001b[0;32mIn[94], line 1\u001b[0m\n\u001b[0;32m----> 1\u001b[0m \u001b[43mstober\u001b[49m\u001b[38;5;241;43m.\u001b[39;49m\u001b[43mfirst_mix\u001b[49m\u001b[43m(\u001b[49m\u001b[43mjubilee\u001b[49m\u001b[43m,\u001b[49m\u001b[43m \u001b[49m\u001b[43mmix_syringe\u001b[49m\u001b[43m,\u001b[49m\u001b[43m \u001b[49m\u001b[38;5;241;43m2000\u001b[39;49m\u001b[43m,\u001b[49m\u001b[43m \u001b[49m\u001b[43mlocation_lookup_apdist\u001b[49m\u001b[43m,\u001b[49m\u001b[43m \u001b[49m\u001b[43mrinse_stocks_apdist\u001b[49m\u001b[43m,\u001b[49m\u001b[43m \u001b[49m\u001b[38;5;241;43m5\u001b[39;49m\u001b[43m)\u001b[49m\n",
      "File \u001b[0;32m~/Code/silica-np-synthesis/OptimizationRound2/2025_01_28_80nm_round1/../../stober_synthesis_utils.py:148\u001b[0m, in \u001b[0;36mfirst_mix\u001b[0;34m(jubilee, mix_syringe, mix_vol, location_lookup, wash_stocks, n_mix)\u001b[0m\n\u001b[1;32m    145\u001b[0m     logger\u001b[38;5;241m.\u001b[39minfo(\u001b[38;5;124mf\u001b[39m\u001b[38;5;124m'\u001b[39m\u001b[38;5;124mMixed well \u001b[39m\u001b[38;5;132;01m{\u001b[39;00mwell\u001b[38;5;132;01m}\u001b[39;00m\u001b[38;5;124m \u001b[39m\u001b[38;5;132;01m{\u001b[39;00mn_mix\u001b[38;5;132;01m}\u001b[39;00m\u001b[38;5;124m times, \u001b[39m\u001b[38;5;132;01m{\u001b[39;00mmix_vol\u001b[38;5;132;01m}\u001b[39;00m\u001b[38;5;124m uL per cycle\u001b[39m\u001b[38;5;124m'\u001b[39m)\n\u001b[1;32m    147\u001b[0m     \u001b[38;5;28;01mfor\u001b[39;00m stock \u001b[38;5;129;01min\u001b[39;00m wash_stocks:\n\u001b[0;32m--> 148\u001b[0m         \u001b[43mmix_syringe\u001b[49m\u001b[38;5;241;43m.\u001b[39;49m\u001b[43mmix\u001b[49m\u001b[43m(\u001b[49m\u001b[43mmix_vol\u001b[49m\u001b[43m,\u001b[49m\u001b[43m \u001b[49m\u001b[38;5;241;43m5\u001b[39;49m\u001b[43m,\u001b[49m\u001b[43m \u001b[49m\u001b[43mstock\u001b[49m\u001b[38;5;241;43m.\u001b[39;49m\u001b[43mbottom\u001b[49m\u001b[43m(\u001b[49m\u001b[38;5;241;43m+\u001b[39;49m\u001b[38;5;241;43m10\u001b[39;49m\u001b[43m)\u001b[49m\u001b[43m,\u001b[49m\u001b[43m \u001b[49m\u001b[43mt_hold\u001b[49m\u001b[43m \u001b[49m\u001b[38;5;241;43m=\u001b[39;49m\u001b[43m \u001b[49m\u001b[38;5;241;43m3\u001b[39;49m\u001b[43m,\u001b[49m\u001b[43m \u001b[49m\u001b[43ms_aspirate\u001b[49m\u001b[43m \u001b[49m\u001b[38;5;241;43m=\u001b[39;49m\u001b[43m \u001b[49m\u001b[38;5;241;43m2000\u001b[39;49m\u001b[43m,\u001b[49m\u001b[43m \u001b[49m\u001b[43ms_dispense\u001b[49m\u001b[43m \u001b[49m\u001b[38;5;241;43m=\u001b[39;49m\u001b[43m \u001b[49m\u001b[38;5;241;43m500\u001b[39;49m\u001b[43m)\u001b[49m\n\u001b[1;32m    150\u001b[0m     logger\u001b[38;5;241m.\u001b[39minfo(\u001b[38;5;124mf\u001b[39m\u001b[38;5;124m'\u001b[39m\u001b[38;5;124mWashed mix syringe in wash solutions \u001b[39m\u001b[38;5;132;01m{\u001b[39;00mwash_stocks\u001b[38;5;132;01m}\u001b[39;00m\u001b[38;5;124m'\u001b[39m)\n\u001b[1;32m    152\u001b[0m jubilee\u001b[38;5;241m.\u001b[39mpark_tool()\n",
      "File \u001b[0;32m~/Code/science-jubilee/src/science_jubilee/tools/Tool.py:49\u001b[0m, in \u001b[0;36mrequires_active_tool.<locals>.wrapper\u001b[0;34m(self, *args, **kwargs)\u001b[0m\n\u001b[1;32m     45\u001b[0m     \u001b[38;5;28;01mraise\u001b[39;00m ToolStateError(\n\u001b[1;32m     46\u001b[0m         \u001b[38;5;124mf\u001b[39m\u001b[38;5;124m\"\u001b[39m\u001b[38;5;124mError: Tool \u001b[39m\u001b[38;5;132;01m{\u001b[39;00m\u001b[38;5;28mself\u001b[39m\u001b[38;5;241m.\u001b[39mname\u001b[38;5;132;01m}\u001b[39;00m\u001b[38;5;124m is not the current `Active Tool`. Cannot perform this action\u001b[39m\u001b[38;5;124m\"\u001b[39m\n\u001b[1;32m     47\u001b[0m     )\n\u001b[1;32m     48\u001b[0m \u001b[38;5;28;01melse\u001b[39;00m:\n\u001b[0;32m---> 49\u001b[0m     \u001b[38;5;28;01mreturn\u001b[39;00m \u001b[43mfunc\u001b[49m\u001b[43m(\u001b[49m\u001b[38;5;28;43mself\u001b[39;49m\u001b[43m,\u001b[49m\u001b[43m \u001b[49m\u001b[38;5;241;43m*\u001b[39;49m\u001b[43margs\u001b[49m\u001b[43m,\u001b[49m\u001b[43m \u001b[49m\u001b[38;5;241;43m*\u001b[39;49m\u001b[38;5;241;43m*\u001b[39;49m\u001b[43mkwargs\u001b[49m\u001b[43m)\u001b[49m\n",
      "File \u001b[0;32m~/Code/science-jubilee/src/science_jubilee/tools/HTTPSyringe.py:239\u001b[0m, in \u001b[0;36mHTTPSyringe.mix\u001b[0;34m(self, vol, n_mix, location, t_hold, s_aspirate, s_dispense)\u001b[0m\n\u001b[1;32m    237\u001b[0m     time\u001b[38;5;241m.\u001b[39msleep(t_hold)\n\u001b[1;32m    238\u001b[0m     \u001b[38;5;28mself\u001b[39m\u001b[38;5;241m.\u001b[39m_dispense(vol, s_dispense)\n\u001b[0;32m--> 239\u001b[0m     \u001b[43mtime\u001b[49m\u001b[38;5;241;43m.\u001b[39;49m\u001b[43msleep\u001b[49m\u001b[43m(\u001b[49m\u001b[43mt_hold\u001b[49m\u001b[43m)\u001b[49m\n\u001b[1;32m    241\u001b[0m \u001b[38;5;28mself\u001b[39m\u001b[38;5;241m.\u001b[39m_dispense(\u001b[38;5;241m500\u001b[39m, s_dispense)\n",
      "\u001b[0;31mKeyboardInterrupt\u001b[0m: "
     ]
    }
   ],
   "source": [
    "stober.first_mix(jubilee, mix_syringe, 2000, location_lookup_apdist, rinse_stocks_apdist, 5)"
   ]
  },
  {
   "cell_type": "code",
   "execution_count": null,
   "id": "0d0c3df5-714e-4ffb-a925-e76fbfd542e7",
   "metadata": {},
   "outputs": [],
   "source": [
    "stober.first_mix(jubilee, mix_syringe, 2000, location_lookup_rmse, rinse_stocks_rmse, 5)"
   ]
  },
  {
   "cell_type": "markdown",
   "id": "000c1369-b5a0-4183-97d4-fced54279516",
   "metadata": {},
   "source": [
    "## Add TEOS and mix"
   ]
  },
  {
   "cell_type": "code",
   "execution_count": 91,
   "id": "85496a20-bb2d-4363-a2c5-41685f0353f9",
   "metadata": {},
   "outputs": [],
   "source": [
    "teos_start_time = time.time()"
   ]
  },
  {
   "cell_type": "code",
   "execution_count": 92,
   "id": "efccb2d6-234a-4af8-a87d-4d904696a48e",
   "metadata": {},
   "outputs": [],
   "source": [
    "stober.add_reactants_batch(jubilee, teos_syringe, mix_syringe, sample_table_apdist, location_lookup_apdist, 'teos_volume', teos_stocks, mix_after=(2000, 5, rinse_stocks_apdist))"
   ]
  },
  {
   "cell_type": "code",
   "execution_count": 93,
   "id": "8db9bc79-6cdb-4dde-a477-6a81616fec1c",
   "metadata": {},
   "outputs": [],
   "source": [
    "stober.add_reactants_batch(jubilee, teos_syringe, mix_syringe, sample_table_rmse, location_lookup_rmse, 'teos_volume', teos_stocks, mix_after=(2000, 5, rinse_stocks_rmse))"
   ]
  },
  {
   "cell_type": "markdown",
   "id": "cf654819-0ae6-452a-bdbe-5f2a008f1b1c",
   "metadata": {},
   "source": [
    "### Dilution"
   ]
  },
  {
   "cell_type": "code",
   "execution_count": 96,
   "id": "4532cccb-e1ae-4497-8305-0c03b6f49619",
   "metadata": {},
   "outputs": [],
   "source": [
    "jubilee.park_tool()"
   ]
  },
  {
   "cell_type": "code",
   "execution_count": 97,
   "id": "5c533083-99a5-4efe-8f99-0bd3b538c394",
   "metadata": {},
   "outputs": [],
   "source": [
    "hrs5 = 60*60*5\n",
    "while (time.time() - teos_start_time) < hrs5:\n",
    "    time.sleep(60)\n",
    "\n",
    "#dispese ethanol into dilution vials\n",
    "stober.add_reactants_batch(jubilee, mix_syringe, mix_syringe, dilution_table_apdist, location_lookup_dilute_apdist, 'ethanol_dilute_vol', ethanol_stocks_apdist[2:], stocks_usable_volume=15000, dwell_time = 10)\n",
    "\n",
    "jubilee.pickup_tool(mix_syringe)\n",
    "mix_syringe.dispense(mix_syringe.remaining_volume-1, trash[0])\n",
    "logger.info('Emptied ethanol syringe into trash')\n",
    "jubilee.park_tool()\n",
    "\n",
    "jubilee.pickup_tool(mix_syringe)\n",
    "rinse_vol = 2000\n",
    "for i, row in dilution_table_apdist.iterrows():\n",
    "    uuid_val = row['uuid']\n",
    "    sample_well = location_lookup_apdist[uuid_val]\n",
    "    dilute_well = location_lookup_dilute_apdist[uuid_val]\n",
    "    if dilute_well is None:\n",
    "        continue\n",
    "    else:\n",
    "        vol = row['sample_dilute_vol']\n",
    "        \n",
    "        mix_syringe.aspirate(vol, sample_well.bottom(+5))\n",
    "        time.sleep(10)\n",
    "        mix_syringe.dispense(vol, dilute_well.bottom(+5))\n",
    "        time.sleep(10)\n",
    "        logger.info(f'Transferred {vol} uL from {sample_well} to {dilute_well}')\n",
    "    \n",
    "        for stock in rinse_stocks_apdist:\n",
    "            mix_syringe.mix(rinse_vol, 5, stock.bottom(+10), t_hold = 3, s_aspirate = 2000, s_dispense = 500)\n",
    "    \n",
    "        logger.info(f'Washed mix syringe in wash solutions {rinse_stocks_apdist}')\n",
    "\n",
    "    "
   ]
  },
  {
   "cell_type": "code",
   "execution_count": 98,
   "id": "c9cb2dfa-c49e-4595-900b-66adb09affd3",
   "metadata": {},
   "outputs": [],
   "source": [
    "# dispese ethanol into dilution vials\n",
    "stober.add_reactants_batch(jubilee, mix_syringe, mix_syringe, dilution_table_rmse, location_lookup_dilute_rmse, 'ethanol_dilute_vol', ethanol_stocks_rmse[2:], stocks_usable_volume=15000, dwell_time = 10)\n",
    "\n",
    "jubilee.pickup_tool(mix_syringe)\n",
    "mix_syringe.dispense(mix_syringe.remaining_volume-1, trash[0])\n",
    "logger.info('Emptied ethanol syringe into trash')\n",
    "jubilee.park_tool()\n",
    "\n",
    "jubilee.pickup_tool(mix_syringe)\n",
    "rinse_vol = 2000\n",
    "for i, row in dilution_table_rmse.iterrows():\n",
    "    uuid_val = row['uuid']\n",
    "    sample_well = location_lookup_rmse[uuid_val]\n",
    "    dilute_well = location_lookup_dilute_rmse[uuid_val]\n",
    "    if dilute_well is None:\n",
    "        continue\n",
    "    else:\n",
    "        vol = row['sample_dilute_vol']\n",
    "        \n",
    "        mix_syringe.aspirate(vol, sample_well.bottom(+5))\n",
    "        time.sleep(10)\n",
    "        mix_syringe.dispense(vol, dilute_well.bottom(+5))\n",
    "        time.sleep(10)\n",
    "        logger.info(f'Transferred {vol} uL from {sample_well} to {dilute_well}')\n",
    "    \n",
    "        for stock in rinse_stocks_rmse:\n",
    "            mix_syringe.mix(rinse_vol, 5, stock.bottom(+10), t_hold = 3, s_aspirate = 2000, s_dispense = 500)\n",
    "    \n",
    "        logger.info(f'Washed mix syringe in wash solutions {rinse_stocks_rmse}')"
   ]
  },
  {
   "cell_type": "code",
   "execution_count": 101,
   "id": "fc8002db-155a-4841-ba3c-25da7f73aafd",
   "metadata": {},
   "outputs": [],
   "source": [
    "jubilee.park_tool()"
   ]
  },
  {
   "cell_type": "code",
   "execution_count": 91,
   "id": "18d77df9-f5ab-4212-b386-c1eee378bc53",
   "metadata": {},
   "outputs": [],
   "source": [
    "water_syringe.set_pulsewidth(water_syringe.empty_position-1)"
   ]
  },
  {
   "cell_type": "code",
   "execution_count": 92,
   "id": "a69392e0-de9f-41c2-aac3-cb2fb9fb1230",
   "metadata": {},
   "outputs": [],
   "source": [
    "ammonia_syringe.set_pulsewidth(ammonia_syringe.empty_position-1)"
   ]
  },
  {
   "cell_type": "code",
   "execution_count": 93,
   "id": "1b5ff69f-ca4b-44d3-beb8-2d7899e510c5",
   "metadata": {},
   "outputs": [],
   "source": [
    "teos_syringe.set_pulsewidth(teos_syringe.empty_position-1)"
   ]
  },
  {
   "cell_type": "code",
   "execution_count": 99,
   "id": "595e3206-561b-4ea9-8834-4e3d5a6d2345",
   "metadata": {},
   "outputs": [
    {
     "data": {
      "text/html": [
       "<div>\n",
       "<style scoped>\n",
       "    .dataframe tbody tr th:only-of-type {\n",
       "        vertical-align: middle;\n",
       "    }\n",
       "\n",
       "    .dataframe tbody tr th {\n",
       "        vertical-align: top;\n",
       "    }\n",
       "\n",
       "    .dataframe thead th {\n",
       "        text-align: right;\n",
       "    }\n",
       "</style>\n",
       "<table border=\"1\" class=\"dataframe\">\n",
       "  <thead>\n",
       "    <tr style=\"text-align: right;\">\n",
       "      <th></th>\n",
       "      <th>Unnamed: 0</th>\n",
       "      <th>uuid</th>\n",
       "      <th>teos_volume</th>\n",
       "      <th>ammonia_volume</th>\n",
       "      <th>water_volume</th>\n",
       "      <th>ethanol_volume</th>\n",
       "      <th>dilution_volume_fraction</th>\n",
       "      <th>silica_mass_conc</th>\n",
       "      <th>silica_mass_fraction</th>\n",
       "      <th>ethanol_dilute_vol</th>\n",
       "      <th>sample_dilute_vol</th>\n",
       "      <th>well</th>\n",
       "      <th>dilute_well</th>\n",
       "    </tr>\n",
       "  </thead>\n",
       "  <tbody>\n",
       "    <tr>\n",
       "      <th>0</th>\n",
       "      <td>0</td>\n",
       "      <td>7c4d74ad-5362-4981-b7a5-52fee1cd2e48</td>\n",
       "      <td>100.446867</td>\n",
       "      <td>431.840514</td>\n",
       "      <td>39.876055</td>\n",
       "      <td>1127.836564</td>\n",
       "      <td>1.076662</td>\n",
       "      <td>5.580210</td>\n",
       "      <td>0.006942</td>\n",
       "      <td>0.0</td>\n",
       "      <td>1700.0</td>\n",
       "      <td>A1</td>\n",
       "      <td>B4</td>\n",
       "    </tr>\n",
       "    <tr>\n",
       "      <th>1</th>\n",
       "      <td>1</td>\n",
       "      <td>2b778460-0ea0-4134-8256-cc0950b1838f</td>\n",
       "      <td>47.743600</td>\n",
       "      <td>169.627361</td>\n",
       "      <td>480.552179</td>\n",
       "      <td>1002.076860</td>\n",
       "      <td>2.265169</td>\n",
       "      <td>2.652341</td>\n",
       "      <td>0.003253</td>\n",
       "      <td>0.0</td>\n",
       "      <td>1700.0</td>\n",
       "      <td>A2</td>\n",
       "      <td>B5</td>\n",
       "    </tr>\n",
       "    <tr>\n",
       "      <th>2</th>\n",
       "      <td>2</td>\n",
       "      <td>e73de4ac-ae2f-40ac-adc9-6f4acfbb4678</td>\n",
       "      <td>297.684084</td>\n",
       "      <td>187.260579</td>\n",
       "      <td>659.409887</td>\n",
       "      <td>555.645450</td>\n",
       "      <td>0.363296</td>\n",
       "      <td>16.537497</td>\n",
       "      <td>0.019903</td>\n",
       "      <td>1082.0</td>\n",
       "      <td>618.0</td>\n",
       "      <td>A3</td>\n",
       "      <td>B6</td>\n",
       "    </tr>\n",
       "    <tr>\n",
       "      <th>3</th>\n",
       "      <td>3</td>\n",
       "      <td>6e8ce412-9cdc-41b3-b8ae-fa08acb207cf</td>\n",
       "      <td>165.119200</td>\n",
       "      <td>457.338778</td>\n",
       "      <td>723.993653</td>\n",
       "      <td>353.548369</td>\n",
       "      <td>0.654965</td>\n",
       "      <td>9.173007</td>\n",
       "      <td>0.010973</td>\n",
       "      <td>587.0</td>\n",
       "      <td>1113.0</td>\n",
       "      <td>A4</td>\n",
       "      <td>B8</td>\n",
       "    </tr>\n",
       "    <tr>\n",
       "      <th>4</th>\n",
       "      <td>4</td>\n",
       "      <td>ec102405-f168-46a3-935d-2d24fdaa5b1f</td>\n",
       "      <td>83.489946</td>\n",
       "      <td>282.278352</td>\n",
       "      <td>27.288292</td>\n",
       "      <td>1306.943410</td>\n",
       "      <td>1.295333</td>\n",
       "      <td>4.638188</td>\n",
       "      <td>0.005802</td>\n",
       "      <td>0.0</td>\n",
       "      <td>1700.0</td>\n",
       "      <td>A5</td>\n",
       "      <td>C1</td>\n",
       "    </tr>\n",
       "    <tr>\n",
       "      <th>5</th>\n",
       "      <td>5</td>\n",
       "      <td>7bf7296f-8eae-4228-a615-3d7b8c142d89</td>\n",
       "      <td>74.110835</td>\n",
       "      <td>34.513714</td>\n",
       "      <td>48.689469</td>\n",
       "      <td>1542.685982</td>\n",
       "      <td>1.459265</td>\n",
       "      <td>4.117142</td>\n",
       "      <td>0.005183</td>\n",
       "      <td>0.0</td>\n",
       "      <td>1700.0</td>\n",
       "      <td>A6</td>\n",
       "      <td>C2</td>\n",
       "    </tr>\n",
       "    <tr>\n",
       "      <th>6</th>\n",
       "      <td>6</td>\n",
       "      <td>7d38b9e2-e3d3-494a-b43a-2997b6d7bf4c</td>\n",
       "      <td>91.456437</td>\n",
       "      <td>456.318141</td>\n",
       "      <td>63.359785</td>\n",
       "      <td>1088.865637</td>\n",
       "      <td>1.182501</td>\n",
       "      <td>5.080757</td>\n",
       "      <td>0.006310</td>\n",
       "      <td>0.0</td>\n",
       "      <td>1700.0</td>\n",
       "      <td>A7</td>\n",
       "      <td>C3</td>\n",
       "    </tr>\n",
       "    <tr>\n",
       "      <th>7</th>\n",
       "      <td>7</td>\n",
       "      <td>2252e0ad-3f6b-4234-9603-2420244f1080</td>\n",
       "      <td>230.246387</td>\n",
       "      <td>172.913187</td>\n",
       "      <td>526.767735</td>\n",
       "      <td>770.072691</td>\n",
       "      <td>0.469703</td>\n",
       "      <td>12.791073</td>\n",
       "      <td>0.015545</td>\n",
       "      <td>902.0</td>\n",
       "      <td>798.0</td>\n",
       "      <td>A8</td>\n",
       "      <td>C4</td>\n",
       "    </tr>\n",
       "    <tr>\n",
       "      <th>8</th>\n",
       "      <td>8</td>\n",
       "      <td>bf8528f0-4b3a-429d-bb11-da3c7d2c66f7</td>\n",
       "      <td>447.470939</td>\n",
       "      <td>365.846071</td>\n",
       "      <td>91.428678</td>\n",
       "      <td>795.254312</td>\n",
       "      <td>0.241686</td>\n",
       "      <td>24.858733</td>\n",
       "      <td>0.030505</td>\n",
       "      <td>1289.0</td>\n",
       "      <td>411.0</td>\n",
       "      <td>B1</td>\n",
       "      <td>C5</td>\n",
       "    </tr>\n",
       "    <tr>\n",
       "      <th>9</th>\n",
       "      <td>9</td>\n",
       "      <td>4c109404-def8-474c-a617-783ec03ec895</td>\n",
       "      <td>43.538614</td>\n",
       "      <td>94.802899</td>\n",
       "      <td>335.081280</td>\n",
       "      <td>1226.577207</td>\n",
       "      <td>2.483940</td>\n",
       "      <td>2.418738</td>\n",
       "      <td>0.002996</td>\n",
       "      <td>0.0</td>\n",
       "      <td>1700.0</td>\n",
       "      <td>B3</td>\n",
       "      <td>C6</td>\n",
       "    </tr>\n",
       "  </tbody>\n",
       "</table>\n",
       "</div>"
      ],
      "text/plain": [
       "   Unnamed: 0                                  uuid  teos_volume  \\\n",
       "0           0  7c4d74ad-5362-4981-b7a5-52fee1cd2e48   100.446867   \n",
       "1           1  2b778460-0ea0-4134-8256-cc0950b1838f    47.743600   \n",
       "2           2  e73de4ac-ae2f-40ac-adc9-6f4acfbb4678   297.684084   \n",
       "3           3  6e8ce412-9cdc-41b3-b8ae-fa08acb207cf   165.119200   \n",
       "4           4  ec102405-f168-46a3-935d-2d24fdaa5b1f    83.489946   \n",
       "5           5  7bf7296f-8eae-4228-a615-3d7b8c142d89    74.110835   \n",
       "6           6  7d38b9e2-e3d3-494a-b43a-2997b6d7bf4c    91.456437   \n",
       "7           7  2252e0ad-3f6b-4234-9603-2420244f1080   230.246387   \n",
       "8           8  bf8528f0-4b3a-429d-bb11-da3c7d2c66f7   447.470939   \n",
       "9           9  4c109404-def8-474c-a617-783ec03ec895    43.538614   \n",
       "\n",
       "   ammonia_volume  water_volume  ethanol_volume  dilution_volume_fraction  \\\n",
       "0      431.840514     39.876055     1127.836564                  1.076662   \n",
       "1      169.627361    480.552179     1002.076860                  2.265169   \n",
       "2      187.260579    659.409887      555.645450                  0.363296   \n",
       "3      457.338778    723.993653      353.548369                  0.654965   \n",
       "4      282.278352     27.288292     1306.943410                  1.295333   \n",
       "5       34.513714     48.689469     1542.685982                  1.459265   \n",
       "6      456.318141     63.359785     1088.865637                  1.182501   \n",
       "7      172.913187    526.767735      770.072691                  0.469703   \n",
       "8      365.846071     91.428678      795.254312                  0.241686   \n",
       "9       94.802899    335.081280     1226.577207                  2.483940   \n",
       "\n",
       "   silica_mass_conc  silica_mass_fraction  ethanol_dilute_vol  \\\n",
       "0          5.580210              0.006942                 0.0   \n",
       "1          2.652341              0.003253                 0.0   \n",
       "2         16.537497              0.019903              1082.0   \n",
       "3          9.173007              0.010973               587.0   \n",
       "4          4.638188              0.005802                 0.0   \n",
       "5          4.117142              0.005183                 0.0   \n",
       "6          5.080757              0.006310                 0.0   \n",
       "7         12.791073              0.015545               902.0   \n",
       "8         24.858733              0.030505              1289.0   \n",
       "9          2.418738              0.002996                 0.0   \n",
       "\n",
       "   sample_dilute_vol well dilute_well  \n",
       "0             1700.0   A1          B4  \n",
       "1             1700.0   A2          B5  \n",
       "2              618.0   A3          B6  \n",
       "3             1113.0   A4          B8  \n",
       "4             1700.0   A5          C1  \n",
       "5             1700.0   A6          C2  \n",
       "6             1700.0   A7          C3  \n",
       "7              798.0   A8          C4  \n",
       "8              411.0   B1          C5  \n",
       "9             1700.0   B3          C6  "
      ]
     },
     "execution_count": 99,
     "metadata": {},
     "output_type": "execute_result"
    }
   ],
   "source": [
    "sample_table_apdist"
   ]
  },
  {
   "cell_type": "code",
   "execution_count": 100,
   "id": "583da8f7-50a3-438a-a6c5-6b80b3034631",
   "metadata": {},
   "outputs": [
    {
     "data": {
      "text/html": [
       "<div>\n",
       "<style scoped>\n",
       "    .dataframe tbody tr th:only-of-type {\n",
       "        vertical-align: middle;\n",
       "    }\n",
       "\n",
       "    .dataframe tbody tr th {\n",
       "        vertical-align: top;\n",
       "    }\n",
       "\n",
       "    .dataframe thead th {\n",
       "        text-align: right;\n",
       "    }\n",
       "</style>\n",
       "<table border=\"1\" class=\"dataframe\">\n",
       "  <thead>\n",
       "    <tr style=\"text-align: right;\">\n",
       "      <th></th>\n",
       "      <th>Unnamed: 0</th>\n",
       "      <th>uuid</th>\n",
       "      <th>teos_volume</th>\n",
       "      <th>ammonia_volume</th>\n",
       "      <th>water_volume</th>\n",
       "      <th>ethanol_volume</th>\n",
       "      <th>dilution_volume_fraction</th>\n",
       "      <th>silica_mass_conc</th>\n",
       "      <th>silica_mass_fraction</th>\n",
       "      <th>ethanol_dilute_vol</th>\n",
       "      <th>sample_dilute_vol</th>\n",
       "      <th>well</th>\n",
       "      <th>dilute_well</th>\n",
       "    </tr>\n",
       "  </thead>\n",
       "  <tbody>\n",
       "    <tr>\n",
       "      <th>0</th>\n",
       "      <td>0</td>\n",
       "      <td>9cff952d-2d28-47b2-bb0b-d49602fd36d2</td>\n",
       "      <td>90.614116</td>\n",
       "      <td>189.664150</td>\n",
       "      <td>250.625458</td>\n",
       "      <td>1169.096276</td>\n",
       "      <td>1.193493</td>\n",
       "      <td>5.033963</td>\n",
       "      <td>0.006237</td>\n",
       "      <td>0.0</td>\n",
       "      <td>1700.0</td>\n",
       "      <td>A1</td>\n",
       "      <td>B4</td>\n",
       "    </tr>\n",
       "    <tr>\n",
       "      <th>1</th>\n",
       "      <td>1</td>\n",
       "      <td>60e54cc2-4d8e-4d0e-aab8-390bef44dcf8</td>\n",
       "      <td>228.684063</td>\n",
       "      <td>270.377199</td>\n",
       "      <td>470.888258</td>\n",
       "      <td>730.050480</td>\n",
       "      <td>0.472911</td>\n",
       "      <td>12.704280</td>\n",
       "      <td>0.015444</td>\n",
       "      <td>896.0</td>\n",
       "      <td>804.0</td>\n",
       "      <td>A2</td>\n",
       "      <td>B5</td>\n",
       "    </tr>\n",
       "    <tr>\n",
       "      <th>2</th>\n",
       "      <td>2</td>\n",
       "      <td>bde1a208-9fee-499e-843b-7866aa600a77</td>\n",
       "      <td>24.224999</td>\n",
       "      <td>484.500007</td>\n",
       "      <td>666.348728</td>\n",
       "      <td>524.926265</td>\n",
       "      <td>4.464286</td>\n",
       "      <td>1.345792</td>\n",
       "      <td>0.001622</td>\n",
       "      <td>0.0</td>\n",
       "      <td>1700.0</td>\n",
       "      <td>A3</td>\n",
       "      <td>B6</td>\n",
       "    </tr>\n",
       "    <tr>\n",
       "      <th>3</th>\n",
       "      <td>3</td>\n",
       "      <td>8f8ed9a5-2ea3-440f-93bf-01d9f6cbc33d</td>\n",
       "      <td>484.500007</td>\n",
       "      <td>24.224999</td>\n",
       "      <td>273.731449</td>\n",
       "      <td>917.543544</td>\n",
       "      <td>0.223214</td>\n",
       "      <td>26.915840</td>\n",
       "      <td>0.032983</td>\n",
       "      <td>1321.0</td>\n",
       "      <td>379.0</td>\n",
       "      <td>A4</td>\n",
       "      <td>B8</td>\n",
       "    </tr>\n",
       "    <tr>\n",
       "      <th>4</th>\n",
       "      <td>4</td>\n",
       "      <td>f93ed4f1-94fb-4806-835e-4975da39c452</td>\n",
       "      <td>135.707419</td>\n",
       "      <td>373.352663</td>\n",
       "      <td>489.220082</td>\n",
       "      <td>701.719836</td>\n",
       "      <td>0.796915</td>\n",
       "      <td>7.539070</td>\n",
       "      <td>0.009161</td>\n",
       "      <td>345.0</td>\n",
       "      <td>1355.0</td>\n",
       "      <td>A5</td>\n",
       "      <td>C1</td>\n",
       "    </tr>\n",
       "    <tr>\n",
       "      <th>5</th>\n",
       "      <td>5</td>\n",
       "      <td>99049d8c-98af-4240-ad63-7784477d7c02</td>\n",
       "      <td>379.921139</td>\n",
       "      <td>133.905259</td>\n",
       "      <td>221.684161</td>\n",
       "      <td>964.489441</td>\n",
       "      <td>0.284657</td>\n",
       "      <td>21.106082</td>\n",
       "      <td>0.025954</td>\n",
       "      <td>1216.0</td>\n",
       "      <td>484.0</td>\n",
       "      <td>A6</td>\n",
       "      <td>C2</td>\n",
       "    </tr>\n",
       "    <tr>\n",
       "      <th>6</th>\n",
       "      <td>6</td>\n",
       "      <td>a35e929b-49fd-4bed-a211-70524348fe8e</td>\n",
       "      <td>24.224999</td>\n",
       "      <td>212.324890</td>\n",
       "      <td>226.751481</td>\n",
       "      <td>1236.698630</td>\n",
       "      <td>4.464286</td>\n",
       "      <td>1.345792</td>\n",
       "      <td>0.001673</td>\n",
       "      <td>0.0</td>\n",
       "      <td>1700.0</td>\n",
       "      <td>A7</td>\n",
       "      <td>C3</td>\n",
       "    </tr>\n",
       "    <tr>\n",
       "      <th>7</th>\n",
       "      <td>7</td>\n",
       "      <td>069a5c5d-4bfd-419e-a96e-36215855466d</td>\n",
       "      <td>211.666209</td>\n",
       "      <td>484.500007</td>\n",
       "      <td>538.140465</td>\n",
       "      <td>465.693319</td>\n",
       "      <td>0.510933</td>\n",
       "      <td>11.758873</td>\n",
       "      <td>0.014169</td>\n",
       "      <td>831.0</td>\n",
       "      <td>869.0</td>\n",
       "      <td>A8</td>\n",
       "      <td>C4</td>\n",
       "    </tr>\n",
       "    <tr>\n",
       "      <th>8</th>\n",
       "      <td>8</td>\n",
       "      <td>627048de-ccfc-4b9e-998f-c83de2ac353f</td>\n",
       "      <td>199.575596</td>\n",
       "      <td>135.113642</td>\n",
       "      <td>701.939108</td>\n",
       "      <td>663.371654</td>\n",
       "      <td>0.541887</td>\n",
       "      <td>11.087193</td>\n",
       "      <td>0.013380</td>\n",
       "      <td>779.0</td>\n",
       "      <td>921.0</td>\n",
       "      <td>B1</td>\n",
       "      <td>C5</td>\n",
       "    </tr>\n",
       "    <tr>\n",
       "      <th>9</th>\n",
       "      <td>9</td>\n",
       "      <td>9f8223fc-c3be-4ca7-b9c9-55fa9c4daa60</td>\n",
       "      <td>484.500007</td>\n",
       "      <td>246.977225</td>\n",
       "      <td>63.183338</td>\n",
       "      <td>905.339430</td>\n",
       "      <td>0.223214</td>\n",
       "      <td>26.915840</td>\n",
       "      <td>0.033145</td>\n",
       "      <td>1321.0</td>\n",
       "      <td>379.0</td>\n",
       "      <td>B3</td>\n",
       "      <td>C6</td>\n",
       "    </tr>\n",
       "  </tbody>\n",
       "</table>\n",
       "</div>"
      ],
      "text/plain": [
       "   Unnamed: 0                                  uuid  teos_volume  \\\n",
       "0           0  9cff952d-2d28-47b2-bb0b-d49602fd36d2    90.614116   \n",
       "1           1  60e54cc2-4d8e-4d0e-aab8-390bef44dcf8   228.684063   \n",
       "2           2  bde1a208-9fee-499e-843b-7866aa600a77    24.224999   \n",
       "3           3  8f8ed9a5-2ea3-440f-93bf-01d9f6cbc33d   484.500007   \n",
       "4           4  f93ed4f1-94fb-4806-835e-4975da39c452   135.707419   \n",
       "5           5  99049d8c-98af-4240-ad63-7784477d7c02   379.921139   \n",
       "6           6  a35e929b-49fd-4bed-a211-70524348fe8e    24.224999   \n",
       "7           7  069a5c5d-4bfd-419e-a96e-36215855466d   211.666209   \n",
       "8           8  627048de-ccfc-4b9e-998f-c83de2ac353f   199.575596   \n",
       "9           9  9f8223fc-c3be-4ca7-b9c9-55fa9c4daa60   484.500007   \n",
       "\n",
       "   ammonia_volume  water_volume  ethanol_volume  dilution_volume_fraction  \\\n",
       "0      189.664150    250.625458     1169.096276                  1.193493   \n",
       "1      270.377199    470.888258      730.050480                  0.472911   \n",
       "2      484.500007    666.348728      524.926265                  4.464286   \n",
       "3       24.224999    273.731449      917.543544                  0.223214   \n",
       "4      373.352663    489.220082      701.719836                  0.796915   \n",
       "5      133.905259    221.684161      964.489441                  0.284657   \n",
       "6      212.324890    226.751481     1236.698630                  4.464286   \n",
       "7      484.500007    538.140465      465.693319                  0.510933   \n",
       "8      135.113642    701.939108      663.371654                  0.541887   \n",
       "9      246.977225     63.183338      905.339430                  0.223214   \n",
       "\n",
       "   silica_mass_conc  silica_mass_fraction  ethanol_dilute_vol  \\\n",
       "0          5.033963              0.006237                 0.0   \n",
       "1         12.704280              0.015444               896.0   \n",
       "2          1.345792              0.001622                 0.0   \n",
       "3         26.915840              0.032983              1321.0   \n",
       "4          7.539070              0.009161               345.0   \n",
       "5         21.106082              0.025954              1216.0   \n",
       "6          1.345792              0.001673                 0.0   \n",
       "7         11.758873              0.014169               831.0   \n",
       "8         11.087193              0.013380               779.0   \n",
       "9         26.915840              0.033145              1321.0   \n",
       "\n",
       "   sample_dilute_vol well dilute_well  \n",
       "0             1700.0   A1          B4  \n",
       "1              804.0   A2          B5  \n",
       "2             1700.0   A3          B6  \n",
       "3              379.0   A4          B8  \n",
       "4             1355.0   A5          C1  \n",
       "5              484.0   A6          C2  \n",
       "6             1700.0   A7          C3  \n",
       "7              869.0   A8          C4  \n",
       "8              921.0   B1          C5  \n",
       "9              379.0   B3          C6  "
      ]
     },
     "execution_count": 100,
     "metadata": {},
     "output_type": "execute_result"
    }
   ],
   "source": [
    "sample_table_rmse"
   ]
  },
  {
   "cell_type": "code",
   "execution_count": 151,
   "id": "a4a66641-2bc0-4bfe-8e12-78d8dfb86111",
   "metadata": {},
   "outputs": [
    {
     "data": {
      "text/html": [
       "<div>\n",
       "<style scoped>\n",
       "    .dataframe tbody tr th:only-of-type {\n",
       "        vertical-align: middle;\n",
       "    }\n",
       "\n",
       "    .dataframe tbody tr th {\n",
       "        vertical-align: top;\n",
       "    }\n",
       "\n",
       "    .dataframe thead th {\n",
       "        text-align: right;\n",
       "    }\n",
       "</style>\n",
       "<table border=\"1\" class=\"dataframe\">\n",
       "  <thead>\n",
       "    <tr style=\"text-align: right;\">\n",
       "      <th></th>\n",
       "      <th>Unnamed: 0</th>\n",
       "      <th>uuid</th>\n",
       "      <th>teos_volume</th>\n",
       "      <th>ammonia_volume</th>\n",
       "      <th>water_volume</th>\n",
       "      <th>ethanol_volume</th>\n",
       "      <th>dilution_volume_fraction</th>\n",
       "      <th>silica_mass_conc</th>\n",
       "      <th>silica_mass_fraction</th>\n",
       "      <th>ethanol_dilute_vol</th>\n",
       "      <th>sample_dilute_vol</th>\n",
       "      <th>well</th>\n",
       "      <th>dilute_well</th>\n",
       "    </tr>\n",
       "  </thead>\n",
       "  <tbody>\n",
       "    <tr>\n",
       "      <th>0</th>\n",
       "      <td>0</td>\n",
       "      <td>bbd1bfff-7563-4360-b5b8-86a1deb3928f</td>\n",
       "      <td>91.455773</td>\n",
       "      <td>121.416734</td>\n",
       "      <td>255.000010</td>\n",
       "      <td>1232.127483</td>\n",
       "      <td>0.414916</td>\n",
       "      <td>14.480053</td>\n",
       "      <td>0.017314</td>\n",
       "      <td>995.0</td>\n",
       "      <td>705.0</td>\n",
       "      <td>C7</td>\n",
       "      <td>C7</td>\n",
       "    </tr>\n",
       "    <tr>\n",
       "      <th>1</th>\n",
       "      <td>1</td>\n",
       "      <td>5b9ac046-6ca6-4ebc-87f3-e272edaedb7b</td>\n",
       "      <td>140.351853</td>\n",
       "      <td>8.500000</td>\n",
       "      <td>255.000010</td>\n",
       "      <td>1296.148137</td>\n",
       "      <td>0.270366</td>\n",
       "      <td>22.221694</td>\n",
       "      <td>0.026673</td>\n",
       "      <td>1240.0</td>\n",
       "      <td>460.0</td>\n",
       "      <td>C8</td>\n",
       "      <td>C8</td>\n",
       "    </tr>\n",
       "    <tr>\n",
       "      <th>2</th>\n",
       "      <td>2</td>\n",
       "      <td>9f782755-5ca4-4466-a1f1-a87ef665ed22</td>\n",
       "      <td>255.000010</td>\n",
       "      <td>42.990994</td>\n",
       "      <td>255.000010</td>\n",
       "      <td>1147.008985</td>\n",
       "      <td>0.148810</td>\n",
       "      <td>40.373762</td>\n",
       "      <td>0.047775</td>\n",
       "      <td>1447.0</td>\n",
       "      <td>253.0</td>\n",
       "      <td>D1</td>\n",
       "      <td>D1</td>\n",
       "    </tr>\n",
       "    <tr>\n",
       "      <th>3</th>\n",
       "      <td>3</td>\n",
       "      <td>f8b2207f-b63c-44d9-8fe4-70639fdd3f5c</td>\n",
       "      <td>255.000010</td>\n",
       "      <td>53.976205</td>\n",
       "      <td>8.500000</td>\n",
       "      <td>1382.523785</td>\n",
       "      <td>0.148810</td>\n",
       "      <td>40.373762</td>\n",
       "      <td>0.049511</td>\n",
       "      <td>1447.0</td>\n",
       "      <td>253.0</td>\n",
       "      <td>D2</td>\n",
       "      <td>D2</td>\n",
       "    </tr>\n",
       "    <tr>\n",
       "      <th>4</th>\n",
       "      <td>4</td>\n",
       "      <td>61431cc9-9557-45af-82c4-9e7acb251717</td>\n",
       "      <td>78.545307</td>\n",
       "      <td>77.696470</td>\n",
       "      <td>193.651897</td>\n",
       "      <td>1350.106326</td>\n",
       "      <td>0.483115</td>\n",
       "      <td>12.435958</td>\n",
       "      <td>0.015077</td>\n",
       "      <td>879.0</td>\n",
       "      <td>821.0</td>\n",
       "      <td>D3</td>\n",
       "      <td>D3</td>\n",
       "    </tr>\n",
       "    <tr>\n",
       "      <th>5</th>\n",
       "      <td>5</td>\n",
       "      <td>e773e91e-cdd8-466c-be37-8ff86cb7f610</td>\n",
       "      <td>52.806463</td>\n",
       "      <td>59.674126</td>\n",
       "      <td>39.147849</td>\n",
       "      <td>1548.371562</td>\n",
       "      <td>0.718594</td>\n",
       "      <td>8.360767</td>\n",
       "      <td>0.010419</td>\n",
       "      <td>478.0</td>\n",
       "      <td>1222.0</td>\n",
       "      <td>D4</td>\n",
       "      <td>D4</td>\n",
       "    </tr>\n",
       "    <tr>\n",
       "      <th>6</th>\n",
       "      <td>6</td>\n",
       "      <td>4559d494-fcc2-4dfc-a4cf-a14d93eb0029</td>\n",
       "      <td>102.107158</td>\n",
       "      <td>177.169546</td>\n",
       "      <td>8.500000</td>\n",
       "      <td>1412.223295</td>\n",
       "      <td>0.371633</td>\n",
       "      <td>16.166470</td>\n",
       "      <td>0.019945</td>\n",
       "      <td>1068.0</td>\n",
       "      <td>632.0</td>\n",
       "      <td>D5</td>\n",
       "      <td>D5</td>\n",
       "    </tr>\n",
       "    <tr>\n",
       "      <th>7</th>\n",
       "      <td>7</td>\n",
       "      <td>78e5ec30-0b59-4536-a9e0-21b4bac433a8</td>\n",
       "      <td>67.497684</td>\n",
       "      <td>128.016714</td>\n",
       "      <td>8.500000</td>\n",
       "      <td>1495.985602</td>\n",
       "      <td>0.562189</td>\n",
       "      <td>10.686805</td>\n",
       "      <td>0.013285</td>\n",
       "      <td>744.0</td>\n",
       "      <td>956.0</td>\n",
       "      <td>D6</td>\n",
       "      <td>D6</td>\n",
       "    </tr>\n",
       "    <tr>\n",
       "      <th>8</th>\n",
       "      <td>8</td>\n",
       "      <td>e42bc4d2-0157-425c-aed0-4cdec425d9ab</td>\n",
       "      <td>120.342861</td>\n",
       "      <td>146.735320</td>\n",
       "      <td>171.336467</td>\n",
       "      <td>1261.585352</td>\n",
       "      <td>0.315319</td>\n",
       "      <td>19.053701</td>\n",
       "      <td>0.022952</td>\n",
       "      <td>1164.0</td>\n",
       "      <td>536.0</td>\n",
       "      <td>D7</td>\n",
       "      <td>D7</td>\n",
       "    </tr>\n",
       "    <tr>\n",
       "      <th>9</th>\n",
       "      <td>9</td>\n",
       "      <td>4133ded3-a2c0-4d14-b4fb-578358436a04</td>\n",
       "      <td>17.000000</td>\n",
       "      <td>159.878042</td>\n",
       "      <td>8.500000</td>\n",
       "      <td>1514.621958</td>\n",
       "      <td>2.232143</td>\n",
       "      <td>2.691584</td>\n",
       "      <td>0.003355</td>\n",
       "      <td>0.0</td>\n",
       "      <td>1700.0</td>\n",
       "      <td>D8</td>\n",
       "      <td>D8</td>\n",
       "    </tr>\n",
       "    <tr>\n",
       "      <th>10</th>\n",
       "      <td>10</td>\n",
       "      <td>79149445-b04e-499f-bfa2-362ba81c3121</td>\n",
       "      <td>72.795379</td>\n",
       "      <td>70.436200</td>\n",
       "      <td>8.500000</td>\n",
       "      <td>1548.268421</td>\n",
       "      <td>0.521275</td>\n",
       "      <td>11.525581</td>\n",
       "      <td>0.014387</td>\n",
       "      <td>814.0</td>\n",
       "      <td>886.0</td>\n",
       "      <td>E1</td>\n",
       "      <td>E1</td>\n",
       "    </tr>\n",
       "    <tr>\n",
       "      <th>11</th>\n",
       "      <td>11</td>\n",
       "      <td>f2aac2f9-31c5-4eaf-be0b-ed9c1ec48ac4</td>\n",
       "      <td>105.384178</td>\n",
       "      <td>88.456498</td>\n",
       "      <td>250.912468</td>\n",
       "      <td>1255.246855</td>\n",
       "      <td>0.360077</td>\n",
       "      <td>16.685316</td>\n",
       "      <td>0.019986</td>\n",
       "      <td>1088.0</td>\n",
       "      <td>612.0</td>\n",
       "      <td>E3</td>\n",
       "      <td>E3</td>\n",
       "    </tr>\n",
       "    <tr>\n",
       "      <th>12</th>\n",
       "      <td>12</td>\n",
       "      <td>97be35cc-6af5-4906-a5ec-6c5ab5836951</td>\n",
       "      <td>104.194804</td>\n",
       "      <td>128.661020</td>\n",
       "      <td>8.500000</td>\n",
       "      <td>1458.644176</td>\n",
       "      <td>0.364187</td>\n",
       "      <td>16.497004</td>\n",
       "      <td>0.020429</td>\n",
       "      <td>1081.0</td>\n",
       "      <td>619.0</td>\n",
       "      <td>E4</td>\n",
       "      <td>E4</td>\n",
       "    </tr>\n",
       "    <tr>\n",
       "      <th>13</th>\n",
       "      <td>13</td>\n",
       "      <td>6f651325-aa30-4e15-a8b8-8550752155de</td>\n",
       "      <td>17.000000</td>\n",
       "      <td>186.999999</td>\n",
       "      <td>8.500000</td>\n",
       "      <td>1487.500002</td>\n",
       "      <td>2.232143</td>\n",
       "      <td>2.691584</td>\n",
       "      <td>0.003348</td>\n",
       "      <td>0.0</td>\n",
       "      <td>1700.0</td>\n",
       "      <td>E5</td>\n",
       "      <td>E5</td>\n",
       "    </tr>\n",
       "    <tr>\n",
       "      <th>14</th>\n",
       "      <td>14</td>\n",
       "      <td>884360fc-1d5b-45f3-b018-3a687b81f8a7</td>\n",
       "      <td>190.498775</td>\n",
       "      <td>74.557186</td>\n",
       "      <td>157.476255</td>\n",
       "      <td>1277.467784</td>\n",
       "      <td>0.199195</td>\n",
       "      <td>30.161380</td>\n",
       "      <td>0.036354</td>\n",
       "      <td>1361.0</td>\n",
       "      <td>339.0</td>\n",
       "      <td>E6</td>\n",
       "      <td>E6</td>\n",
       "    </tr>\n",
       "    <tr>\n",
       "      <th>15</th>\n",
       "      <td>15</td>\n",
       "      <td>45d13e36-5ae6-4aba-a657-a6cce9fb8db6</td>\n",
       "      <td>61.079639</td>\n",
       "      <td>133.803360</td>\n",
       "      <td>255.000010</td>\n",
       "      <td>1250.116991</td>\n",
       "      <td>0.621262</td>\n",
       "      <td>9.670646</td>\n",
       "      <td>0.011588</td>\n",
       "      <td>644.0</td>\n",
       "      <td>1056.0</td>\n",
       "      <td>E8</td>\n",
       "      <td>E8</td>\n",
       "    </tr>\n",
       "    <tr>\n",
       "      <th>16</th>\n",
       "      <td>16</td>\n",
       "      <td>76e61e49-8d12-493d-aa0e-e367cf9222a1</td>\n",
       "      <td>125.772466</td>\n",
       "      <td>186.999999</td>\n",
       "      <td>49.355634</td>\n",
       "      <td>1337.871901</td>\n",
       "      <td>0.301707</td>\n",
       "      <td>19.913362</td>\n",
       "      <td>0.024338</td>\n",
       "      <td>1187.0</td>\n",
       "      <td>513.0</td>\n",
       "      <td>F1</td>\n",
       "      <td>F1</td>\n",
       "    </tr>\n",
       "    <tr>\n",
       "      <th>17</th>\n",
       "      <td>17</td>\n",
       "      <td>cb91c3d6-d0df-437e-a504-7433689fb381</td>\n",
       "      <td>17.000000</td>\n",
       "      <td>186.999999</td>\n",
       "      <td>255.000010</td>\n",
       "      <td>1240.999991</td>\n",
       "      <td>2.232143</td>\n",
       "      <td>2.691584</td>\n",
       "      <td>0.003226</td>\n",
       "      <td>0.0</td>\n",
       "      <td>1700.0</td>\n",
       "      <td>F2</td>\n",
       "      <td>F2</td>\n",
       "    </tr>\n",
       "    <tr>\n",
       "      <th>18</th>\n",
       "      <td>18</td>\n",
       "      <td>2ef2ca93-424e-4bab-ab05-e1a4a365afc9</td>\n",
       "      <td>140.084917</td>\n",
       "      <td>99.182012</td>\n",
       "      <td>28.917468</td>\n",
       "      <td>1431.815603</td>\n",
       "      <td>0.270882</td>\n",
       "      <td>22.179431</td>\n",
       "      <td>0.027342</td>\n",
       "      <td>1240.0</td>\n",
       "      <td>460.0</td>\n",
       "      <td>F3</td>\n",
       "      <td>F3</td>\n",
       "    </tr>\n",
       "    <tr>\n",
       "      <th>19</th>\n",
       "      <td>19</td>\n",
       "      <td>2c2e06ba-fd0d-4b67-ac27-94a71a40985c</td>\n",
       "      <td>154.968959</td>\n",
       "      <td>133.155064</td>\n",
       "      <td>199.449208</td>\n",
       "      <td>1212.426769</td>\n",
       "      <td>0.244865</td>\n",
       "      <td>24.535998</td>\n",
       "      <td>0.029362</td>\n",
       "      <td>1284.0</td>\n",
       "      <td>416.0</td>\n",
       "      <td>F4</td>\n",
       "      <td>F4</td>\n",
       "    </tr>\n",
       "  </tbody>\n",
       "</table>\n",
       "</div>"
      ],
      "text/plain": [
       "    Unnamed: 0                                  uuid  teos_volume  \\\n",
       "0            0  bbd1bfff-7563-4360-b5b8-86a1deb3928f    91.455773   \n",
       "1            1  5b9ac046-6ca6-4ebc-87f3-e272edaedb7b   140.351853   \n",
       "2            2  9f782755-5ca4-4466-a1f1-a87ef665ed22   255.000010   \n",
       "3            3  f8b2207f-b63c-44d9-8fe4-70639fdd3f5c   255.000010   \n",
       "4            4  61431cc9-9557-45af-82c4-9e7acb251717    78.545307   \n",
       "5            5  e773e91e-cdd8-466c-be37-8ff86cb7f610    52.806463   \n",
       "6            6  4559d494-fcc2-4dfc-a4cf-a14d93eb0029   102.107158   \n",
       "7            7  78e5ec30-0b59-4536-a9e0-21b4bac433a8    67.497684   \n",
       "8            8  e42bc4d2-0157-425c-aed0-4cdec425d9ab   120.342861   \n",
       "9            9  4133ded3-a2c0-4d14-b4fb-578358436a04    17.000000   \n",
       "10          10  79149445-b04e-499f-bfa2-362ba81c3121    72.795379   \n",
       "11          11  f2aac2f9-31c5-4eaf-be0b-ed9c1ec48ac4   105.384178   \n",
       "12          12  97be35cc-6af5-4906-a5ec-6c5ab5836951   104.194804   \n",
       "13          13  6f651325-aa30-4e15-a8b8-8550752155de    17.000000   \n",
       "14          14  884360fc-1d5b-45f3-b018-3a687b81f8a7   190.498775   \n",
       "15          15  45d13e36-5ae6-4aba-a657-a6cce9fb8db6    61.079639   \n",
       "16          16  76e61e49-8d12-493d-aa0e-e367cf9222a1   125.772466   \n",
       "17          17  cb91c3d6-d0df-437e-a504-7433689fb381    17.000000   \n",
       "18          18  2ef2ca93-424e-4bab-ab05-e1a4a365afc9   140.084917   \n",
       "19          19  2c2e06ba-fd0d-4b67-ac27-94a71a40985c   154.968959   \n",
       "\n",
       "    ammonia_volume  water_volume  ethanol_volume  dilution_volume_fraction  \\\n",
       "0       121.416734    255.000010     1232.127483                  0.414916   \n",
       "1         8.500000    255.000010     1296.148137                  0.270366   \n",
       "2        42.990994    255.000010     1147.008985                  0.148810   \n",
       "3        53.976205      8.500000     1382.523785                  0.148810   \n",
       "4        77.696470    193.651897     1350.106326                  0.483115   \n",
       "5        59.674126     39.147849     1548.371562                  0.718594   \n",
       "6       177.169546      8.500000     1412.223295                  0.371633   \n",
       "7       128.016714      8.500000     1495.985602                  0.562189   \n",
       "8       146.735320    171.336467     1261.585352                  0.315319   \n",
       "9       159.878042      8.500000     1514.621958                  2.232143   \n",
       "10       70.436200      8.500000     1548.268421                  0.521275   \n",
       "11       88.456498    250.912468     1255.246855                  0.360077   \n",
       "12      128.661020      8.500000     1458.644176                  0.364187   \n",
       "13      186.999999      8.500000     1487.500002                  2.232143   \n",
       "14       74.557186    157.476255     1277.467784                  0.199195   \n",
       "15      133.803360    255.000010     1250.116991                  0.621262   \n",
       "16      186.999999     49.355634     1337.871901                  0.301707   \n",
       "17      186.999999    255.000010     1240.999991                  2.232143   \n",
       "18       99.182012     28.917468     1431.815603                  0.270882   \n",
       "19      133.155064    199.449208     1212.426769                  0.244865   \n",
       "\n",
       "    silica_mass_conc  silica_mass_fraction  ethanol_dilute_vol  \\\n",
       "0          14.480053              0.017314               995.0   \n",
       "1          22.221694              0.026673              1240.0   \n",
       "2          40.373762              0.047775              1447.0   \n",
       "3          40.373762              0.049511              1447.0   \n",
       "4          12.435958              0.015077               879.0   \n",
       "5           8.360767              0.010419               478.0   \n",
       "6          16.166470              0.019945              1068.0   \n",
       "7          10.686805              0.013285               744.0   \n",
       "8          19.053701              0.022952              1164.0   \n",
       "9           2.691584              0.003355                 0.0   \n",
       "10         11.525581              0.014387               814.0   \n",
       "11         16.685316              0.019986              1088.0   \n",
       "12         16.497004              0.020429              1081.0   \n",
       "13          2.691584              0.003348                 0.0   \n",
       "14         30.161380              0.036354              1361.0   \n",
       "15          9.670646              0.011588               644.0   \n",
       "16         19.913362              0.024338              1187.0   \n",
       "17          2.691584              0.003226                 0.0   \n",
       "18         22.179431              0.027342              1240.0   \n",
       "19         24.535998              0.029362              1284.0   \n",
       "\n",
       "    sample_dilute_vol well dilute_well  \n",
       "0               705.0   C7          C7  \n",
       "1               460.0   C8          C8  \n",
       "2               253.0   D1          D1  \n",
       "3               253.0   D2          D2  \n",
       "4               821.0   D3          D3  \n",
       "5              1222.0   D4          D4  \n",
       "6               632.0   D5          D5  \n",
       "7               956.0   D6          D6  \n",
       "8               536.0   D7          D7  \n",
       "9              1700.0   D8          D8  \n",
       "10              886.0   E1          E1  \n",
       "11              612.0   E3          E3  \n",
       "12              619.0   E4          E4  \n",
       "13             1700.0   E5          E5  \n",
       "14              339.0   E6          E6  \n",
       "15             1056.0   E8          E8  \n",
       "16              513.0   F1          F1  \n",
       "17             1700.0   F2          F2  \n",
       "18              460.0   F3          F3  \n",
       "19              416.0   F4          F4  "
      ]
     },
     "execution_count": 151,
     "metadata": {},
     "output_type": "execute_result"
    }
   ],
   "source": [
    "dilution_table_apdist"
   ]
  },
  {
   "cell_type": "code",
   "execution_count": null,
   "id": "438b544c-b4c3-47dd-b2b3-64f111416b9b",
   "metadata": {},
   "outputs": [],
   "source": []
  }
 ],
 "metadata": {
  "kernelspec": {
   "display_name": "Python 3 (ipykernel)",
   "language": "python",
   "name": "python3"
  },
  "language_info": {
   "codemirror_mode": {
    "name": "ipython",
    "version": 3
   },
   "file_extension": ".py",
   "mimetype": "text/x-python",
   "name": "python",
   "nbconvert_exporter": "python",
   "pygments_lexer": "ipython3",
   "version": "3.12.7"
  }
 },
 "nbformat": 4,
 "nbformat_minor": 5
}
