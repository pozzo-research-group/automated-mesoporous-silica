{
 "cells": [
  {
   "cell_type": "code",
   "execution_count": 1,
   "id": "22b1f13d-2b5c-4333-aad1-bf8e7103275b",
   "metadata": {},
   "outputs": [],
   "source": [
    "import pandas as pd"
   ]
  },
  {
   "cell_type": "code",
   "execution_count": 2,
   "id": "4a95939b-d84e-4889-a4ad-d7b8d8f7ccfe",
   "metadata": {},
   "outputs": [],
   "source": [
    "data = pd.read_csv('SampleTable_RandomSobol_2025_01_13.csv')"
   ]
  },
  {
   "cell_type": "code",
   "execution_count": 3,
   "id": "7d59fadf-76bc-48dc-b48e-303bcec06421",
   "metadata": {},
   "outputs": [
    {
     "data": {
      "text/plain": [
       "12015.59715258479"
      ]
     },
     "execution_count": 3,
     "metadata": {},
     "output_type": "execute_result"
    }
   ],
   "source": [
    "data['water_volume'].sum()"
   ]
  },
  {
   "cell_type": "code",
   "execution_count": 4,
   "id": "ad7d3d75-7607-48d8-968d-88b1eeceacca",
   "metadata": {},
   "outputs": [
    {
     "data": {
      "text/plain": [
       "8139.5999657068405"
      ]
     },
     "execution_count": 4,
     "metadata": {},
     "output_type": "execute_result"
    }
   ],
   "source": [
    "data['ammonia_volume'].sum()"
   ]
  },
  {
   "cell_type": "code",
   "execution_count": 5,
   "id": "547cd306-c463-4a08-a497-2ce4b92bec14",
   "metadata": {},
   "outputs": [
    {
     "data": {
      "text/plain": [
       "8139.599993141368"
      ]
     },
     "execution_count": 5,
     "metadata": {},
     "output_type": "execute_result"
    }
   ],
   "source": [
    "data['teos_volume'].sum()"
   ]
  },
  {
   "cell_type": "code",
   "execution_count": null,
   "id": "7b75e99b-2edf-4c33-804d-54078061036e",
   "metadata": {},
   "outputs": [],
   "source": []
  }
 ],
 "metadata": {
  "kernelspec": {
   "display_name": "Python 3 (ipykernel)",
   "language": "python",
   "name": "python3"
  },
  "language_info": {
   "codemirror_mode": {
    "name": "ipython",
    "version": 3
   },
   "file_extension": ".py",
   "mimetype": "text/x-python",
   "name": "python",
   "nbconvert_exporter": "python",
   "pygments_lexer": "ipython3",
   "version": "3.9.19"
  }
 },
 "nbformat": 4,
 "nbformat_minor": 5
}
