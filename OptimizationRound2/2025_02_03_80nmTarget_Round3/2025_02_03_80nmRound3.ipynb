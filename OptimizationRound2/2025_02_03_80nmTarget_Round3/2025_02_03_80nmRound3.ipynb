{
 "cells": [
  {
   "cell_type": "markdown",
   "id": "110d0499-187d-47cb-b3bd-52e828f810d0",
   "metadata": {},
   "source": [
    "## Setup"
   ]
  },
  {
   "cell_type": "code",
   "execution_count": 1,
   "id": "023a9737-b2dd-4151-af0b-67ea2aeb7386",
   "metadata": {},
   "outputs": [],
   "source": [
    "%load_ext autoreload\n",
    "%autoreload 2"
   ]
  },
  {
   "cell_type": "code",
   "execution_count": 2,
   "id": "a8305f4f-98d9-46aa-b3a5-aef3875465c8",
   "metadata": {},
   "outputs": [],
   "source": [
    "import requests\n",
    "\n",
    "# ----------- Science Jubilee -------------\n",
    "from science_jubilee import Machine as Jub\n",
    "from science_jubilee.tools import HTTPSyringe as syringe\n",
    "from science_jubilee.tools import Pipette\n",
    "from science_jubilee.utils import Handlers\n",
    "import time\n",
    "import numpy as np\n",
    "import pandas as pd\n",
    "import logging\n",
    "import sys\n",
    "sys.path.append('../..')\n",
    "import stober_synthesis_utils as stober"
   ]
  },
  {
   "cell_type": "code",
   "execution_count": 3,
   "id": "39e0dd27-900a-4151-ad77-cae178e545d7",
   "metadata": {},
   "outputs": [],
   "source": [
    "FORMAT = '%(asctime)s:%(levelname)s:%(name)s:%(message)s'\n",
    "logging.basicConfig(filename = '2025_02_03_80nmRound3_Opt.log', level = logging.INFO, format = FORMAT)\n",
    "logger = logging.getLogger(__name__)"
   ]
  },
  {
   "cell_type": "code",
   "execution_count": 4,
   "id": "bb05bc51-e88d-493a-b7ae-ec244bab05d1",
   "metadata": {
    "scrolled": true
   },
   "outputs": [],
   "source": [
    "jubilee = Jub.Machine(address='192.168.1.2', simulated = False, crash_detection = False) "
   ]
  },
  {
   "cell_type": "raw",
   "id": "23f14450-b2fd-46b7-82b2-a17b1061fde5",
   "metadata": {
    "scrolled": true
   },
   "source": [
    "#jubilee.home_all()\n",
    "logger.info('Homed Jubilee')"
   ]
  },
  {
   "cell_type": "code",
   "execution_count": 5,
   "id": "7dd1d29b-638a-4d85-9cf3-986931deae0f",
   "metadata": {},
   "outputs": [],
   "source": [
    "deck = jubilee.load_deck('lab_automation_deck_AFL_bolton.json')"
   ]
  },
  {
   "cell_type": "code",
   "execution_count": 7,
   "id": "d2505692-e098-4cf7-954a-b2ac9d91e06f",
   "metadata": {},
   "outputs": [],
   "source": [
    "sample_table_rmse = pd.read_csv('Sample_table_2025_02_03_80nmbatch3_rmse.csv')\n",
    "sample_table_apdist = pd.read_csv('Sample_table_2025_02_03_80nm_Round3_apdist.csv')"
   ]
  },
  {
   "cell_type": "code",
   "execution_count": 8,
   "id": "04e35a37-8f81-4eab-acdc-27dded253257",
   "metadata": {},
   "outputs": [
    {
     "data": {
      "text/html": [
       "<div>\n",
       "<style scoped>\n",
       "    .dataframe tbody tr th:only-of-type {\n",
       "        vertical-align: middle;\n",
       "    }\n",
       "\n",
       "    .dataframe tbody tr th {\n",
       "        vertical-align: top;\n",
       "    }\n",
       "\n",
       "    .dataframe thead th {\n",
       "        text-align: right;\n",
       "    }\n",
       "</style>\n",
       "<table border=\"1\" class=\"dataframe\">\n",
       "  <thead>\n",
       "    <tr style=\"text-align: right;\">\n",
       "      <th></th>\n",
       "      <th>Unnamed: 0</th>\n",
       "      <th>uuid</th>\n",
       "      <th>teos_volume</th>\n",
       "      <th>ammonia_volume</th>\n",
       "      <th>water_volume</th>\n",
       "      <th>ethanol_volume</th>\n",
       "      <th>dilution_volume_fraction</th>\n",
       "      <th>silica_mass_conc</th>\n",
       "      <th>silica_mass_fraction</th>\n",
       "      <th>ethanol_dilute_vol</th>\n",
       "      <th>sample_dilute_vol</th>\n",
       "      <th>well</th>\n",
       "      <th>dilute_well</th>\n",
       "    </tr>\n",
       "  </thead>\n",
       "  <tbody>\n",
       "    <tr>\n",
       "      <th>0</th>\n",
       "      <td>0</td>\n",
       "      <td>53e0a69a-3439-46a5-b7c5-1d465bd2a730</td>\n",
       "      <td>193.624054</td>\n",
       "      <td>372.430466</td>\n",
       "      <td>305.572594</td>\n",
       "      <td>828.372886</td>\n",
       "      <td>0.558543</td>\n",
       "      <td>10.756562</td>\n",
       "      <td>0.013170</td>\n",
       "      <td>750.0</td>\n",
       "      <td>950.0</td>\n",
       "      <td>B4</td>\n",
       "      <td>E1</td>\n",
       "    </tr>\n",
       "    <tr>\n",
       "      <th>1</th>\n",
       "      <td>1</td>\n",
       "      <td>bc33bc62-9792-4894-8fff-da8a5156f537</td>\n",
       "      <td>330.522059</td>\n",
       "      <td>420.183800</td>\n",
       "      <td>726.750029</td>\n",
       "      <td>222.544113</td>\n",
       "      <td>0.327202</td>\n",
       "      <td>18.361773</td>\n",
       "      <td>0.021856</td>\n",
       "      <td>1144.0</td>\n",
       "      <td>556.0</td>\n",
       "      <td>B5</td>\n",
       "      <td>E3</td>\n",
       "    </tr>\n",
       "    <tr>\n",
       "      <th>2</th>\n",
       "      <td>2</td>\n",
       "      <td>efcb2745-ba00-4f60-9076-a138682a6ac8</td>\n",
       "      <td>345.373849</td>\n",
       "      <td>118.015451</td>\n",
       "      <td>726.750029</td>\n",
       "      <td>509.860671</td>\n",
       "      <td>0.313131</td>\n",
       "      <td>19.186847</td>\n",
       "      <td>0.023016</td>\n",
       "      <td>1168.0</td>\n",
       "      <td>532.0</td>\n",
       "      <td>B6</td>\n",
       "      <td>E4</td>\n",
       "    </tr>\n",
       "    <tr>\n",
       "      <th>3</th>\n",
       "      <td>3</td>\n",
       "      <td>b4077fed-d5e9-487d-a822-df6ec0675b8c</td>\n",
       "      <td>24.224999</td>\n",
       "      <td>204.156223</td>\n",
       "      <td>24.224999</td>\n",
       "      <td>1447.393778</td>\n",
       "      <td>4.464286</td>\n",
       "      <td>1.345792</td>\n",
       "      <td>0.001691</td>\n",
       "      <td>0.0</td>\n",
       "      <td>1700.0</td>\n",
       "      <td>B8</td>\n",
       "      <td>E5</td>\n",
       "    </tr>\n",
       "    <tr>\n",
       "      <th>4</th>\n",
       "      <td>4</td>\n",
       "      <td>bc3068c4-66c5-4321-8b6a-c1c49c486042</td>\n",
       "      <td>402.423914</td>\n",
       "      <td>365.567394</td>\n",
       "      <td>510.464478</td>\n",
       "      <td>421.544215</td>\n",
       "      <td>0.268740</td>\n",
       "      <td>22.356197</td>\n",
       "      <td>0.026881</td>\n",
       "      <td>1243.0</td>\n",
       "      <td>457.0</td>\n",
       "      <td>C1</td>\n",
       "      <td>E6</td>\n",
       "    </tr>\n",
       "    <tr>\n",
       "      <th>5</th>\n",
       "      <td>5</td>\n",
       "      <td>6835f124-f5d6-43aa-a279-afcb239638af</td>\n",
       "      <td>387.962921</td>\n",
       "      <td>391.025337</td>\n",
       "      <td>726.750029</td>\n",
       "      <td>194.261713</td>\n",
       "      <td>0.278757</td>\n",
       "      <td>21.552834</td>\n",
       "      <td>0.025623</td>\n",
       "      <td>1226.0</td>\n",
       "      <td>474.0</td>\n",
       "      <td>C2</td>\n",
       "      <td>E8</td>\n",
       "    </tr>\n",
       "    <tr>\n",
       "      <th>6</th>\n",
       "      <td>6</td>\n",
       "      <td>f33b86ef-abb4-4015-a39e-7a1447404af8</td>\n",
       "      <td>484.500007</td>\n",
       "      <td>249.628718</td>\n",
       "      <td>726.750029</td>\n",
       "      <td>239.121245</td>\n",
       "      <td>0.223214</td>\n",
       "      <td>26.915840</td>\n",
       "      <td>0.032013</td>\n",
       "      <td>1321.0</td>\n",
       "      <td>379.0</td>\n",
       "      <td>C3</td>\n",
       "      <td>F1</td>\n",
       "    </tr>\n",
       "    <tr>\n",
       "      <th>7</th>\n",
       "      <td>7</td>\n",
       "      <td>0c9a7a98-4035-453d-ac5c-c95edc1c0de6</td>\n",
       "      <td>203.892761</td>\n",
       "      <td>342.406805</td>\n",
       "      <td>24.224999</td>\n",
       "      <td>1129.475434</td>\n",
       "      <td>0.530413</td>\n",
       "      <td>11.327028</td>\n",
       "      <td>0.014084</td>\n",
       "      <td>798.0</td>\n",
       "      <td>902.0</td>\n",
       "      <td>C4</td>\n",
       "      <td>F2</td>\n",
       "    </tr>\n",
       "    <tr>\n",
       "      <th>8</th>\n",
       "      <td>8</td>\n",
       "      <td>76682cac-1ccd-4f9e-ac77-90854e231547</td>\n",
       "      <td>484.500007</td>\n",
       "      <td>369.326213</td>\n",
       "      <td>726.750029</td>\n",
       "      <td>119.423751</td>\n",
       "      <td>0.223214</td>\n",
       "      <td>26.915840</td>\n",
       "      <td>0.031909</td>\n",
       "      <td>1321.0</td>\n",
       "      <td>379.0</td>\n",
       "      <td>C5</td>\n",
       "      <td>F3</td>\n",
       "    </tr>\n",
       "    <tr>\n",
       "      <th>9</th>\n",
       "      <td>9</td>\n",
       "      <td>e6581805-cb63-4d4a-a6b8-1cf24627d842</td>\n",
       "      <td>24.224999</td>\n",
       "      <td>421.134947</td>\n",
       "      <td>431.638112</td>\n",
       "      <td>823.001941</td>\n",
       "      <td>4.464286</td>\n",
       "      <td>1.345792</td>\n",
       "      <td>0.001645</td>\n",
       "      <td>0.0</td>\n",
       "      <td>1700.0</td>\n",
       "      <td>C6</td>\n",
       "      <td>F4</td>\n",
       "    </tr>\n",
       "  </tbody>\n",
       "</table>\n",
       "</div>"
      ],
      "text/plain": [
       "   Unnamed: 0                                  uuid  teos_volume  \\\n",
       "0           0  53e0a69a-3439-46a5-b7c5-1d465bd2a730   193.624054   \n",
       "1           1  bc33bc62-9792-4894-8fff-da8a5156f537   330.522059   \n",
       "2           2  efcb2745-ba00-4f60-9076-a138682a6ac8   345.373849   \n",
       "3           3  b4077fed-d5e9-487d-a822-df6ec0675b8c    24.224999   \n",
       "4           4  bc3068c4-66c5-4321-8b6a-c1c49c486042   402.423914   \n",
       "5           5  6835f124-f5d6-43aa-a279-afcb239638af   387.962921   \n",
       "6           6  f33b86ef-abb4-4015-a39e-7a1447404af8   484.500007   \n",
       "7           7  0c9a7a98-4035-453d-ac5c-c95edc1c0de6   203.892761   \n",
       "8           8  76682cac-1ccd-4f9e-ac77-90854e231547   484.500007   \n",
       "9           9  e6581805-cb63-4d4a-a6b8-1cf24627d842    24.224999   \n",
       "\n",
       "   ammonia_volume  water_volume  ethanol_volume  dilution_volume_fraction  \\\n",
       "0      372.430466    305.572594      828.372886                  0.558543   \n",
       "1      420.183800    726.750029      222.544113                  0.327202   \n",
       "2      118.015451    726.750029      509.860671                  0.313131   \n",
       "3      204.156223     24.224999     1447.393778                  4.464286   \n",
       "4      365.567394    510.464478      421.544215                  0.268740   \n",
       "5      391.025337    726.750029      194.261713                  0.278757   \n",
       "6      249.628718    726.750029      239.121245                  0.223214   \n",
       "7      342.406805     24.224999     1129.475434                  0.530413   \n",
       "8      369.326213    726.750029      119.423751                  0.223214   \n",
       "9      421.134947    431.638112      823.001941                  4.464286   \n",
       "\n",
       "   silica_mass_conc  silica_mass_fraction  ethanol_dilute_vol  \\\n",
       "0         10.756562              0.013170               750.0   \n",
       "1         18.361773              0.021856              1144.0   \n",
       "2         19.186847              0.023016              1168.0   \n",
       "3          1.345792              0.001691                 0.0   \n",
       "4         22.356197              0.026881              1243.0   \n",
       "5         21.552834              0.025623              1226.0   \n",
       "6         26.915840              0.032013              1321.0   \n",
       "7         11.327028              0.014084               798.0   \n",
       "8         26.915840              0.031909              1321.0   \n",
       "9          1.345792              0.001645                 0.0   \n",
       "\n",
       "   sample_dilute_vol well dilute_well  \n",
       "0              950.0   B4          E1  \n",
       "1              556.0   B5          E3  \n",
       "2              532.0   B6          E4  \n",
       "3             1700.0   B8          E5  \n",
       "4              457.0   C1          E6  \n",
       "5              474.0   C2          E8  \n",
       "6              379.0   C3          F1  \n",
       "7              902.0   C4          F2  \n",
       "8              379.0   C5          F3  \n",
       "9             1700.0   C6          F4  "
      ]
     },
     "execution_count": 8,
     "metadata": {},
     "output_type": "execute_result"
    }
   ],
   "source": [
    "sample_table_rmse"
   ]
  },
  {
   "cell_type": "code",
   "execution_count": 9,
   "id": "20bc875d-f362-4e97-914b-fda839a4d502",
   "metadata": {},
   "outputs": [
    {
     "data": {
      "text/html": [
       "<div>\n",
       "<style scoped>\n",
       "    .dataframe tbody tr th:only-of-type {\n",
       "        vertical-align: middle;\n",
       "    }\n",
       "\n",
       "    .dataframe tbody tr th {\n",
       "        vertical-align: top;\n",
       "    }\n",
       "\n",
       "    .dataframe thead th {\n",
       "        text-align: right;\n",
       "    }\n",
       "</style>\n",
       "<table border=\"1\" class=\"dataframe\">\n",
       "  <thead>\n",
       "    <tr style=\"text-align: right;\">\n",
       "      <th></th>\n",
       "      <th>Unnamed: 0</th>\n",
       "      <th>uuid</th>\n",
       "      <th>teos_volume</th>\n",
       "      <th>ammonia_volume</th>\n",
       "      <th>water_volume</th>\n",
       "      <th>ethanol_volume</th>\n",
       "      <th>dilution_volume_fraction</th>\n",
       "      <th>silica_mass_conc</th>\n",
       "      <th>silica_mass_fraction</th>\n",
       "      <th>ethanol_dilute_vol</th>\n",
       "      <th>sample_dilute_vol</th>\n",
       "      <th>well</th>\n",
       "      <th>dilute_well</th>\n",
       "    </tr>\n",
       "  </thead>\n",
       "  <tbody>\n",
       "    <tr>\n",
       "      <th>0</th>\n",
       "      <td>0</td>\n",
       "      <td>f0760849-19ea-4064-b5ae-e45aa981996e</td>\n",
       "      <td>320.743094</td>\n",
       "      <td>157.000638</td>\n",
       "      <td>148.350603</td>\n",
       "      <td>1073.905666</td>\n",
       "      <td>0.337177</td>\n",
       "      <td>17.818514</td>\n",
       "      <td>0.022030</td>\n",
       "      <td>1127.0</td>\n",
       "      <td>573.0</td>\n",
       "      <td>A1</td>\n",
       "      <td>C7</td>\n",
       "    </tr>\n",
       "    <tr>\n",
       "      <th>1</th>\n",
       "      <td>1</td>\n",
       "      <td>f3cbf509-261b-412c-b083-ea00cf8edf39</td>\n",
       "      <td>103.100598</td>\n",
       "      <td>134.489344</td>\n",
       "      <td>441.676225</td>\n",
       "      <td>1020.733832</td>\n",
       "      <td>1.048950</td>\n",
       "      <td>5.727635</td>\n",
       "      <td>0.007032</td>\n",
       "      <td>0.0</td>\n",
       "      <td>1700.0</td>\n",
       "      <td>A2</td>\n",
       "      <td>C8</td>\n",
       "    </tr>\n",
       "    <tr>\n",
       "      <th>2</th>\n",
       "      <td>2</td>\n",
       "      <td>8331bed0-257f-42ce-b6e0-439b92c237c6</td>\n",
       "      <td>78.933306</td>\n",
       "      <td>135.352268</td>\n",
       "      <td>465.920118</td>\n",
       "      <td>1019.794308</td>\n",
       "      <td>1.370110</td>\n",
       "      <td>4.385049</td>\n",
       "      <td>0.005381</td>\n",
       "      <td>0.0</td>\n",
       "      <td>1700.0</td>\n",
       "      <td>A3</td>\n",
       "      <td>D1</td>\n",
       "    </tr>\n",
       "    <tr>\n",
       "      <th>3</th>\n",
       "      <td>3</td>\n",
       "      <td>bd07bf5f-b860-4d60-bb06-8bcf078973cd</td>\n",
       "      <td>88.504707</td>\n",
       "      <td>321.646809</td>\n",
       "      <td>528.503366</td>\n",
       "      <td>761.345118</td>\n",
       "      <td>1.221939</td>\n",
       "      <td>4.916777</td>\n",
       "      <td>0.005981</td>\n",
       "      <td>0.0</td>\n",
       "      <td>1700.0</td>\n",
       "      <td>A4</td>\n",
       "      <td>D2</td>\n",
       "    </tr>\n",
       "    <tr>\n",
       "      <th>4</th>\n",
       "      <td>4</td>\n",
       "      <td>d25c4916-b521-497c-b864-cf91a0aea475</td>\n",
       "      <td>48.228321</td>\n",
       "      <td>98.034325</td>\n",
       "      <td>627.984068</td>\n",
       "      <td>925.753286</td>\n",
       "      <td>2.242403</td>\n",
       "      <td>2.679269</td>\n",
       "      <td>0.003267</td>\n",
       "      <td>0.0</td>\n",
       "      <td>1700.0</td>\n",
       "      <td>A5</td>\n",
       "      <td>D3</td>\n",
       "    </tr>\n",
       "    <tr>\n",
       "      <th>5</th>\n",
       "      <td>5</td>\n",
       "      <td>311ef7f0-67f0-44f1-8b30-14f89070d209</td>\n",
       "      <td>484.500007</td>\n",
       "      <td>315.698101</td>\n",
       "      <td>462.905532</td>\n",
       "      <td>436.896360</td>\n",
       "      <td>0.223214</td>\n",
       "      <td>26.915840</td>\n",
       "      <td>0.032393</td>\n",
       "      <td>1321.0</td>\n",
       "      <td>379.0</td>\n",
       "      <td>A6</td>\n",
       "      <td>D4</td>\n",
       "    </tr>\n",
       "    <tr>\n",
       "      <th>6</th>\n",
       "      <td>6</td>\n",
       "      <td>a5099251-1d47-4f19-829a-651f742dde01</td>\n",
       "      <td>160.869123</td>\n",
       "      <td>218.119856</td>\n",
       "      <td>80.639300</td>\n",
       "      <td>1240.371721</td>\n",
       "      <td>0.672269</td>\n",
       "      <td>8.936899</td>\n",
       "      <td>0.011136</td>\n",
       "      <td>557.0</td>\n",
       "      <td>1143.0</td>\n",
       "      <td>A7</td>\n",
       "      <td>D5</td>\n",
       "    </tr>\n",
       "    <tr>\n",
       "      <th>7</th>\n",
       "      <td>7</td>\n",
       "      <td>9c7c4090-d1a8-42e9-9f48-29ea62098dff</td>\n",
       "      <td>403.886571</td>\n",
       "      <td>440.832469</td>\n",
       "      <td>155.367182</td>\n",
       "      <td>699.913778</td>\n",
       "      <td>0.267767</td>\n",
       "      <td>22.437454</td>\n",
       "      <td>0.027427</td>\n",
       "      <td>1245.0</td>\n",
       "      <td>455.0</td>\n",
       "      <td>A8</td>\n",
       "      <td>D6</td>\n",
       "    </tr>\n",
       "    <tr>\n",
       "      <th>8</th>\n",
       "      <td>8</td>\n",
       "      <td>9b4974c6-3261-4669-87d4-17f776c3fbc9</td>\n",
       "      <td>36.462450</td>\n",
       "      <td>91.528101</td>\n",
       "      <td>212.497366</td>\n",
       "      <td>1359.512083</td>\n",
       "      <td>2.965992</td>\n",
       "      <td>2.025629</td>\n",
       "      <td>0.002527</td>\n",
       "      <td>0.0</td>\n",
       "      <td>1700.0</td>\n",
       "      <td>B1</td>\n",
       "      <td>D7</td>\n",
       "    </tr>\n",
       "    <tr>\n",
       "      <th>9</th>\n",
       "      <td>9</td>\n",
       "      <td>6294633a-9219-4287-8b6b-86d972f53cc8</td>\n",
       "      <td>425.698537</td>\n",
       "      <td>303.783538</td>\n",
       "      <td>162.093497</td>\n",
       "      <td>808.424429</td>\n",
       "      <td>0.254047</td>\n",
       "      <td>23.649192</td>\n",
       "      <td>0.028986</td>\n",
       "      <td>1268.0</td>\n",
       "      <td>432.0</td>\n",
       "      <td>B3</td>\n",
       "      <td>D8</td>\n",
       "    </tr>\n",
       "  </tbody>\n",
       "</table>\n",
       "</div>"
      ],
      "text/plain": [
       "   Unnamed: 0                                  uuid  teos_volume  \\\n",
       "0           0  f0760849-19ea-4064-b5ae-e45aa981996e   320.743094   \n",
       "1           1  f3cbf509-261b-412c-b083-ea00cf8edf39   103.100598   \n",
       "2           2  8331bed0-257f-42ce-b6e0-439b92c237c6    78.933306   \n",
       "3           3  bd07bf5f-b860-4d60-bb06-8bcf078973cd    88.504707   \n",
       "4           4  d25c4916-b521-497c-b864-cf91a0aea475    48.228321   \n",
       "5           5  311ef7f0-67f0-44f1-8b30-14f89070d209   484.500007   \n",
       "6           6  a5099251-1d47-4f19-829a-651f742dde01   160.869123   \n",
       "7           7  9c7c4090-d1a8-42e9-9f48-29ea62098dff   403.886571   \n",
       "8           8  9b4974c6-3261-4669-87d4-17f776c3fbc9    36.462450   \n",
       "9           9  6294633a-9219-4287-8b6b-86d972f53cc8   425.698537   \n",
       "\n",
       "   ammonia_volume  water_volume  ethanol_volume  dilution_volume_fraction  \\\n",
       "0      157.000638    148.350603     1073.905666                  0.337177   \n",
       "1      134.489344    441.676225     1020.733832                  1.048950   \n",
       "2      135.352268    465.920118     1019.794308                  1.370110   \n",
       "3      321.646809    528.503366      761.345118                  1.221939   \n",
       "4       98.034325    627.984068      925.753286                  2.242403   \n",
       "5      315.698101    462.905532      436.896360                  0.223214   \n",
       "6      218.119856     80.639300     1240.371721                  0.672269   \n",
       "7      440.832469    155.367182      699.913778                  0.267767   \n",
       "8       91.528101    212.497366     1359.512083                  2.965992   \n",
       "9      303.783538    162.093497      808.424429                  0.254047   \n",
       "\n",
       "   silica_mass_conc  silica_mass_fraction  ethanol_dilute_vol  \\\n",
       "0         17.818514              0.022030              1127.0   \n",
       "1          5.727635              0.007032                 0.0   \n",
       "2          4.385049              0.005381                 0.0   \n",
       "3          4.916777              0.005981                 0.0   \n",
       "4          2.679269              0.003267                 0.0   \n",
       "5         26.915840              0.032393              1321.0   \n",
       "6          8.936899              0.011136               557.0   \n",
       "7         22.437454              0.027427              1245.0   \n",
       "8          2.025629              0.002527                 0.0   \n",
       "9         23.649192              0.028986              1268.0   \n",
       "\n",
       "   sample_dilute_vol well dilute_well  \n",
       "0              573.0   A1          C7  \n",
       "1             1700.0   A2          C8  \n",
       "2             1700.0   A3          D1  \n",
       "3             1700.0   A4          D2  \n",
       "4             1700.0   A5          D3  \n",
       "5              379.0   A6          D4  \n",
       "6             1143.0   A7          D5  \n",
       "7              455.0   A8          D6  \n",
       "8             1700.0   B1          D7  \n",
       "9              432.0   B3          D8  "
      ]
     },
     "execution_count": 9,
     "metadata": {},
     "output_type": "execute_result"
    }
   ],
   "source": [
    "sample_table_apdist"
   ]
  },
  {
   "cell_type": "code",
   "execution_count": 10,
   "id": "fef4115b-eda5-480a-9f52-b0bd1bc17f23",
   "metadata": {},
   "outputs": [
    {
     "data": {
      "text/plain": [
       "5518.0"
      ]
     },
     "execution_count": 10,
     "metadata": {},
     "output_type": "execute_result"
    }
   ],
   "source": [
    "sample_table_apdist['ethanol_dilute_vol'].sum()"
   ]
  },
  {
   "cell_type": "code",
   "execution_count": 11,
   "id": "9b530793-b2a2-4f5d-9825-b4d8c2028d96",
   "metadata": {},
   "outputs": [
    {
     "data": {
      "text/plain": [
       "{'teos_count': 1, 'ammonia_count': 1, 'water_count': 1, 'ethanol_count': 1}"
      ]
     },
     "execution_count": 11,
     "metadata": {},
     "output_type": "execute_result"
    }
   ],
   "source": [
    "stober.count_stock_vials(sample_table_apdist, 15000)"
   ]
  },
  {
   "cell_type": "code",
   "execution_count": 12,
   "id": "dd237516-a73b-4981-8a1a-1f17979c9dac",
   "metadata": {},
   "outputs": [
    {
     "data": {
      "text/plain": [
       "0.5934999746624381"
      ]
     },
     "execution_count": 12,
     "metadata": {},
     "output_type": "execute_result"
    }
   ],
   "source": [
    "sample_table_rmse['ethanol_volume'].sum()/10000"
   ]
  },
  {
   "cell_type": "markdown",
   "id": "b8f140ff-c5f8-494d-bd58-093982edd086",
   "metadata": {},
   "source": [
    "## Load Tools"
   ]
  },
  {
   "cell_type": "code",
   "execution_count": 13,
   "id": "d73bac24-917c-4c8c-8c30-494146511312",
   "metadata": {},
   "outputs": [
    {
     "name": "stdout",
     "output_type": "stream",
     "text": [
      "Syringe name:  10cc_1\n",
      "{'capacity': 10000, 'empty_position': 1830, 'full_position': 1217, 'name': '10cc_1'}\n",
      "Syringe name:  1cc_1\n",
      "{'capacity': 1000, 'empty_position': 1845, 'full_position': 1240, 'name': '1cc_1'}\n",
      "Syringe name:  1cc_2_hamilton\n",
      "{'capacity': 1000, 'empty_position': 1753, 'full_position': 1120, 'name': '1cc_2_hamilton'}\n",
      "Syringe name:  1cc_3_hamilton\n",
      "{'capacity': 1000, 'empty_position': 1753, 'full_position': 1120, 'name': '1cc_3_hamilton'}\n"
     ]
    }
   ],
   "source": [
    "syringe_10 = syringe.HTTPSyringe.from_config(2, \"../../../science-jubilee/src/science_jubilee/tools/configs/10cc_syringe.json\")\n",
    "syringe_1_1 = syringe.HTTPSyringe.from_config(1, \"../../../science-jubilee/src/science_jubilee/tools/configs/1cc_1_syringe.json\")\n",
    "syringe_1_2 = syringe.HTTPSyringe.from_config(3, \"../../../science-jubilee/src/science_jubilee/tools/configs/1cc_2_Hamiltonsyringe.json\")\n",
    "syringe_1_3 = syringe.HTTPSyringe.from_config(4, \"../../../science-jubilee/src/science_jubilee/tools/configs/1cc_3_Hamiltonsyringe.json\")"
   ]
  },
  {
   "cell_type": "code",
   "execution_count": 14,
   "id": "9448524a-f60e-43fd-ae53-0a51c87e6035",
   "metadata": {
    "scrolled": true
   },
   "outputs": [],
   "source": [
    "jubilee.load_tool(syringe_10)\n",
    "jubilee.load_tool(syringe_1_1)\n",
    "jubilee.load_tool(syringe_1_2)\n",
    "jubilee.load_tool(syringe_1_3)"
   ]
  },
  {
   "cell_type": "code",
   "execution_count": 15,
   "id": "21127bbe-632c-4ec0-84f9-57d9772a90db",
   "metadata": {},
   "outputs": [],
   "source": [
    "mix_syringe = syringe_10\n",
    "water_syringe = syringe_1_1\n",
    "ammonia_syringe = syringe_1_2\n",
    "teos_syringe = syringe_1_3"
   ]
  },
  {
   "cell_type": "markdown",
   "id": "e1d880ae-d253-43f5-995f-d2619e29c78a",
   "metadata": {},
   "source": [
    "## Load water syringe with water"
   ]
  },
  {
   "cell_type": "code",
   "execution_count": 16,
   "id": "fa91aafe-663a-4ea2-86df-e996c41d8f37",
   "metadata": {},
   "outputs": [
    {
     "name": "stdout",
     "output_type": "stream",
     "text": [
      "Loaded syringe, remaining volume 600 uL\n"
     ]
    }
   ],
   "source": [
    "water_syringe.load_syringe(600, 1500)"
   ]
  },
  {
   "cell_type": "code",
   "execution_count": 17,
   "id": "bb1ecb81-f858-4ab6-8a1e-b5a85f432f54",
   "metadata": {
    "scrolled": true
   },
   "outputs": [],
   "source": [
    "water_syringe.set_pulsewidth(water_syringe.empty_position-1, s = 2000)"
   ]
  },
  {
   "cell_type": "code",
   "execution_count": 18,
   "id": "b78aa9f3-0da5-4987-9da3-171f4e5ae2b1",
   "metadata": {},
   "outputs": [],
   "source": [
    "water_syringe.set_pulsewidth(water_syringe.full_position+1, s = 10)"
   ]
  },
  {
   "cell_type": "code",
   "execution_count": 30,
   "id": "e08edebd-a82b-4e35-a662-def2994a8f00",
   "metadata": {},
   "outputs": [],
   "source": [
    "water_syringe.set_pulsewidth(water_syringe.full_position+155, s = 500)"
   ]
  },
  {
   "cell_type": "code",
   "execution_count": 31,
   "id": "80aff25d-bae2-478d-bc07-4b4f11bd5e05",
   "metadata": {},
   "outputs": [
    {
     "name": "stdout",
     "output_type": "stream",
     "text": [
      "Loaded syringe, remaining volume 740 uL\n"
     ]
    }
   ],
   "source": [
    "water_syringe.load_syringe(740, water_syringe.full_position+155)"
   ]
  },
  {
   "cell_type": "markdown",
   "id": "8ea5df3b-0ad5-4dbb-ad3f-089a2d5f2bd1",
   "metadata": {},
   "source": [
    "## Load ammonia syringe"
   ]
  },
  {
   "cell_type": "code",
   "execution_count": 21,
   "id": "87a366e4-d389-4830-b923-0a932968add9",
   "metadata": {},
   "outputs": [],
   "source": [
    "#ammonia_syringe.set_pulsewidth(1420, s = 10)"
   ]
  },
  {
   "cell_type": "code",
   "execution_count": 22,
   "id": "0b36ffcf-ec60-4ee2-b2ae-5fb6895fd16c",
   "metadata": {},
   "outputs": [
    {
     "name": "stdout",
     "output_type": "stream",
     "text": [
      "Loaded syringe, remaining volume 600 uL\n"
     ]
    }
   ],
   "source": [
    "ammonia_syringe.load_syringe(600, 1500)"
   ]
  },
  {
   "cell_type": "code",
   "execution_count": 79,
   "id": "497e2cad-9387-4815-9398-58651b8d9826",
   "metadata": {},
   "outputs": [],
   "source": [
    "ammonia_syringe.set_pulsewidth(ammonia_syringe.empty_position-1, s = 2000)"
   ]
  },
  {
   "cell_type": "code",
   "execution_count": 80,
   "id": "a0c7e519-e4e1-4a6a-a40d-3a5125503194",
   "metadata": {},
   "outputs": [],
   "source": [
    "ammonia_syringe.set_pulsewidth(ammonia_syringe.full_position+1, s = 10)"
   ]
  },
  {
   "cell_type": "code",
   "execution_count": 81,
   "id": "460e8b6d-261f-4e06-b587-a978291d57f7",
   "metadata": {},
   "outputs": [],
   "source": [
    "ammonia_syringe.set_pulsewidth(ammonia_syringe.full_position+150, s = 500)"
   ]
  },
  {
   "cell_type": "code",
   "execution_count": 82,
   "id": "b5be2527-8c06-4465-8e44-41f410149cd7",
   "metadata": {},
   "outputs": [
    {
     "name": "stdout",
     "output_type": "stream",
     "text": [
      "Loaded syringe, remaining volume 740 uL\n"
     ]
    }
   ],
   "source": [
    "ammonia_syringe.load_syringe(740, ammonia_syringe.full_position+150)"
   ]
  },
  {
   "cell_type": "markdown",
   "id": "e2c53ecf-d14a-4536-8062-9e7af8c51ba8",
   "metadata": {},
   "source": [
    "## Load TEOS syringe"
   ]
  },
  {
   "cell_type": "code",
   "execution_count": 27,
   "id": "22a73a10-c727-45c9-a653-1716b97e7d51",
   "metadata": {},
   "outputs": [
    {
     "name": "stdout",
     "output_type": "stream",
     "text": [
      "Loaded syringe, remaining volume 600 uL\n"
     ]
    }
   ],
   "source": [
    "teos_syringe.load_syringe(600, 1500)"
   ]
  },
  {
   "cell_type": "code",
   "execution_count": 28,
   "id": "2a4274ac-3472-452b-9368-56f36ed8d078",
   "metadata": {},
   "outputs": [],
   "source": [
    "teos_syringe.set_pulsewidth(teos_syringe.empty_position-1, s = 2000)"
   ]
  },
  {
   "cell_type": "code",
   "execution_count": 29,
   "id": "63453a13-e4ed-47a9-8d35-3368c1a83daf",
   "metadata": {},
   "outputs": [],
   "source": [
    "teos_syringe.set_pulsewidth(teos_syringe.full_position+1, s = 100)"
   ]
  },
  {
   "cell_type": "code",
   "execution_count": 54,
   "id": "7d22ae98-d92e-4ee2-aa1e-dbd7090f7778",
   "metadata": {},
   "outputs": [],
   "source": [
    "teos_syringe.set_pulsewidth(teos_syringe.full_position+300, s = 200)"
   ]
  },
  {
   "cell_type": "code",
   "execution_count": 55,
   "id": "cf5154eb-2d59-4bd8-90c2-86c3374a662d",
   "metadata": {},
   "outputs": [
    {
     "name": "stdout",
     "output_type": "stream",
     "text": [
      "Loaded syringe, remaining volume 480 uL\n"
     ]
    }
   ],
   "source": [
    "teos_syringe.load_syringe(480, teos_syringe.full_position+300)"
   ]
  },
  {
   "cell_type": "markdown",
   "id": "ad1ac96b-3d53-4da1-aa2c-a8c2386280f8",
   "metadata": {},
   "source": [
    "## load ethanol syringe"
   ]
  },
  {
   "cell_type": "code",
   "execution_count": 34,
   "id": "f1caaf1a-900c-43ed-a57b-754b0d62aa37",
   "metadata": {},
   "outputs": [],
   "source": [
    "#jubilee.park_tool()"
   ]
  },
  {
   "cell_type": "code",
   "execution_count": 35,
   "id": "94db4b0e-3075-4b45-91f7-9bc2817a2e31",
   "metadata": {},
   "outputs": [
    {
     "name": "stdout",
     "output_type": "stream",
     "text": [
      "Loaded syringe, remaining volume 0 uL\n"
     ]
    }
   ],
   "source": [
    "mix_syringe.load_syringe(0, mix_syringe.empty_position-1)"
   ]
  },
  {
   "cell_type": "code",
   "execution_count": 74,
   "id": "f53b6f7e-62d6-43fc-b2bf-a2e1aebdf313",
   "metadata": {},
   "outputs": [],
   "source": [
    "mix_syringe.set_pulsewidth(mix_syringe.empty_position-1, s = 2000)\n"
   ]
  },
  {
   "cell_type": "code",
   "execution_count": 75,
   "id": "c0904b15-1ceb-4e5b-aa62-2706e79634e6",
   "metadata": {},
   "outputs": [],
   "source": [
    "mix_syringe.set_pulsewidth(mix_syringe.full_position+1, s = 10)"
   ]
  },
  {
   "cell_type": "code",
   "execution_count": 68,
   "id": "ccfeadd8-f24a-42a4-a4b7-984ea619282a",
   "metadata": {},
   "outputs": [
    {
     "data": {
      "text/plain": [
       "1218"
      ]
     },
     "execution_count": 68,
     "metadata": {},
     "output_type": "execute_result"
    }
   ],
   "source": [
    "mix_syringe.full_position+1"
   ]
  },
  {
   "cell_type": "code",
   "execution_count": 71,
   "id": "e26d3294-ccb5-4421-bc72-1c422e80f24c",
   "metadata": {},
   "outputs": [],
   "source": [
    "ammonia_syringe.set_pulsewidth(1218, s = 10)"
   ]
  },
  {
   "cell_type": "code",
   "execution_count": 38,
   "id": "96d9a53e-24a0-4595-bb69-db89483176ce",
   "metadata": {},
   "outputs": [],
   "source": [
    "#mix_syringe.empty_position"
   ]
  },
  {
   "cell_type": "code",
   "execution_count": 76,
   "id": "8f8a67fa-ed88-45db-a2df-72720c31beff",
   "metadata": {},
   "outputs": [],
   "source": [
    "mix_syringe.set_pulsewidth(mix_syringe.full_position+250, s = 500)"
   ]
  },
  {
   "cell_type": "code",
   "execution_count": 77,
   "id": "99ad1605-10c8-45a3-80cf-c6adfd7ae6a9",
   "metadata": {},
   "outputs": [
    {
     "name": "stdout",
     "output_type": "stream",
     "text": [
      "Loaded syringe, remaining volume 6200 uL\n"
     ]
    }
   ],
   "source": [
    "mix_syringe.load_syringe(6200, mix_syringe.full_position+250)"
   ]
  },
  {
   "cell_type": "markdown",
   "id": "43d1f97d-4c55-40d3-ac5b-9c3a3f1062ed",
   "metadata": {},
   "source": [
    "## Load labware\n"
   ]
  },
  {
   "cell_type": "code",
   "execution_count": 94,
   "id": "19b4bfa8-6878-4b0b-a564-369faa361b1c",
   "metadata": {
    "scrolled": true
   },
   "outputs": [
    {
     "name": "stdout",
     "output_type": "stream",
     "text": [
      "New manual offset applied to septavialrev1_44_holder_2000ul\n"
     ]
    }
   ],
   "source": [
    "samples = jubilee.load_labware('septavialrev1_44_holder_2000ul.json', 2)\n",
    "samples.manual_offset([(18.3, 175.3), (131.0, 176.1), (131.2, 106.3)])"
   ]
  },
  {
   "cell_type": "code",
   "execution_count": 42,
   "id": "19ad67cc-b0a8-4c1f-8d6a-60b173599c82",
   "metadata": {},
   "outputs": [
    {
     "name": "stdout",
     "output_type": "stream",
     "text": [
      "New manual offset applied to 20mlscintillation_12_wellplate_18000ul\n"
     ]
    }
   ],
   "source": [
    "stocks_main = jubilee.load_labware('20mlscintillation_12_wellplate_18000ul.json', 4)\n",
    "stocks_main.manual_offset([(30.5, 266.0),  (120.5, 266.0), (120.5, 210.0)])"
   ]
  },
  {
   "cell_type": "raw",
   "id": "75302623-3364-404f-9da4-f85e63eadbe1",
   "metadata": {},
   "source": [
    "stocks_extra = jubilee.load_labware('20mlscintillation_12_wellplate_18000ul.json', 5)\n",
    "stocks_extra.manual_offset([(171.1, 264.1), (256.9, 265.0), (256.7, 208.5)])\n"
   ]
  },
  {
   "cell_type": "code",
   "execution_count": 43,
   "id": "1ef40a35-9802-4eb3-9a10-16255155b92d",
   "metadata": {},
   "outputs": [],
   "source": [
    "trash = jubilee.load_labware('agilent_1_reservoir_290ml.json', 1)"
   ]
  },
  {
   "cell_type": "code",
   "execution_count": 44,
   "id": "f7395271-1a02-4f11-883f-34a8456f0a05",
   "metadata": {},
   "outputs": [],
   "source": [
    "teos_stocks = [stocks_main[0]]\n",
    "ammonia_stocks = [stocks_main[1]]\n",
    "water_stocks = [stocks_main[2]]\n",
    "ethanol_stocks_apdist = [stocks_main[3], stocks_main[4], stocks_main[5]]\n",
    "rinse_stocks_apdist = [stocks_main[9], stocks_main[10], stocks_main[11]]"
   ]
  },
  {
   "cell_type": "code",
   "execution_count": 45,
   "id": "970020a7-164c-4424-8058-e34e5bf83027",
   "metadata": {},
   "outputs": [],
   "source": [
    "ethanol_stocks_rmse = [stocks_main[6], stocks_main[7], stocks_main[8]]\n",
    "rinse_stocks_rmse = [stocks_main[9], stocks_main[10], stocks_main[11]]"
   ]
  },
  {
   "cell_type": "markdown",
   "id": "4bd30fe3-5be6-4ea7-a61d-357272d3e8a4",
   "metadata": {},
   "source": [
    "## Check sample alignment"
   ]
  },
  {
   "cell_type": "code",
   "execution_count": 97,
   "id": "95d14b2a-7129-4868-8a0b-2901da667520",
   "metadata": {},
   "outputs": [],
   "source": [
    "jubilee.park_tool()"
   ]
  },
  {
   "cell_type": "code",
   "execution_count": 98,
   "id": "25a4d272-6e56-4649-ba7a-5e04e922c043",
   "metadata": {},
   "outputs": [
    {
     "name": "stdout",
     "output_type": "stream",
     "text": [
      "161.58074420653475\n"
     ]
    },
    {
     "name": "stdin",
     "output_type": "stream",
     "text": [
      "Is the tip centered over sample B4? \n"
     ]
    },
    {
     "name": "stdout",
     "output_type": "stream",
     "text": [
      "161.6609536323458\n"
     ]
    },
    {
     "name": "stdin",
     "output_type": "stream",
     "text": [
      "Is the tip centered over sample B5? \n"
     ]
    },
    {
     "name": "stdout",
     "output_type": "stream",
     "text": [
      "161.74116305815684\n"
     ]
    },
    {
     "name": "stdin",
     "output_type": "stream",
     "text": [
      "Is the tip centered over sample B6? \n"
     ]
    },
    {
     "name": "stdout",
     "output_type": "stream",
     "text": [
      "161.90158190977897\n"
     ]
    },
    {
     "name": "stdin",
     "output_type": "stream",
     "text": [
      "Is the tip centered over sample B8? \n"
     ]
    },
    {
     "name": "stdout",
     "output_type": "stream",
     "text": [
      "147.38023185820313\n"
     ]
    },
    {
     "name": "stdin",
     "output_type": "stream",
     "text": [
      "Is the tip centered over sample C1? \n"
     ]
    },
    {
     "name": "stdout",
     "output_type": "stream",
     "text": [
      "147.4604412840142\n"
     ]
    },
    {
     "name": "stdin",
     "output_type": "stream",
     "text": [
      "Is the tip centered over sample C2? \n"
     ]
    },
    {
     "name": "stdout",
     "output_type": "stream",
     "text": [
      "147.54065070982526\n"
     ]
    },
    {
     "name": "stdin",
     "output_type": "stream",
     "text": [
      "Is the tip centered over sample C3? '\n"
     ]
    },
    {
     "name": "stdout",
     "output_type": "stream",
     "text": [
      "147.6208601356363\n"
     ]
    },
    {
     "name": "stdin",
     "output_type": "stream",
     "text": [
      "Is the tip centered over sample C4? \n"
     ]
    },
    {
     "name": "stdout",
     "output_type": "stream",
     "text": [
      "147.70106956144735\n"
     ]
    },
    {
     "name": "stdin",
     "output_type": "stream",
     "text": [
      "Is the tip centered over sample C5? \n"
     ]
    },
    {
     "name": "stdout",
     "output_type": "stream",
     "text": [
      "147.78127898725842\n"
     ]
    },
    {
     "name": "stdin",
     "output_type": "stream",
     "text": [
      "Is the tip centered over sample C6? \n"
     ]
    }
   ],
   "source": [
    "jubilee.pickup_tool(mix_syringe)\n",
    "for i, row in sample_table_rmse.iterrows():\n",
    "    loc = samples[row['well']]\n",
    "    jubilee.move_to(x = loc.x, y = loc.y)\n",
    "    print(loc.y)\n",
    "    jubilee.move_to(z = loc.top_+7)\n",
    "    curr_well = row['well']\n",
    "    ans = input(f'Is the tip centered over sample {curr_well}?')\n",
    "    if ans == 'y':\n",
    "        continue\n",
    "    else:\n",
    "        continue\n",
    "    "
   ]
  },
  {
   "cell_type": "code",
   "execution_count": 84,
   "id": "a52572b9-48d6-4bf1-acb2-19c7ac5c6fb8",
   "metadata": {},
   "outputs": [],
   "source": [
    "jubilee.park_tool()\n"
   ]
  },
  {
   "cell_type": "code",
   "execution_count": 106,
   "id": "2b09450e-d3bd-4e25-b944-993721a3b997",
   "metadata": {},
   "outputs": [
    {
     "name": "stdout",
     "output_type": "stream",
     "text": [
      "175.8614659806774\n"
     ]
    }
   ],
   "source": [
    "loc = samples['A8']\n",
    "jubilee.move_to(x = loc.x, y = loc.y)\n",
    "print(loc.y)\n",
    "jubilee.move_to(z = loc.top_+7)"
   ]
  },
  {
   "cell_type": "markdown",
   "id": "b9dff3f4-8be6-4f73-b343-6221f8df76dc",
   "metadata": {},
   "source": [
    "# Experiment\n"
   ]
  },
  {
   "cell_type": "code",
   "execution_count": 108,
   "id": "9d770745-931b-42d0-8b40-409a83411619",
   "metadata": {},
   "outputs": [],
   "source": [
    "location_lookup_apdist = {row['uuid']:samples[row['well']] for i, row in sample_table_apdist.iterrows()}\n",
    "location_lookup_rmse = {row['uuid']:samples[row['well']] for i, row in sample_table_rmse.iterrows()}"
   ]
  },
  {
   "cell_type": "code",
   "execution_count": 109,
   "id": "30502878-2c56-4f8a-94dc-e7ad55f92927",
   "metadata": {},
   "outputs": [
    {
     "data": {
      "text/plain": [
       "9346.650579716079"
      ]
     },
     "execution_count": 109,
     "metadata": {},
     "output_type": "execute_result"
    }
   ],
   "source": [
    "sample_table_apdist['ethanol_volume'].sum()"
   ]
  },
  {
   "cell_type": "code",
   "execution_count": 110,
   "id": "b2a12505-772e-4ca8-8d21-822a400835f9",
   "metadata": {},
   "outputs": [],
   "source": [
    "dilution_table_apdist = sample_table_apdist.copy()\n",
    "dilution_table_rmse = sample_table_rmse.copy()"
   ]
  },
  {
   "cell_type": "code",
   "execution_count": 111,
   "id": "bdd03979-152a-48dd-9d62-b73859c453c4",
   "metadata": {},
   "outputs": [],
   "source": [
    "dilution_table_apdist['well'] = dilution_table_apdist['dilute_well']\n",
    "dilution_table_rmse['well'] = dilution_table_rmse['dilute_well']"
   ]
  },
  {
   "cell_type": "code",
   "execution_count": 112,
   "id": "804bb020-adc5-44ad-84a7-37235024043e",
   "metadata": {},
   "outputs": [
    {
     "data": {
      "text/html": [
       "<div>\n",
       "<style scoped>\n",
       "    .dataframe tbody tr th:only-of-type {\n",
       "        vertical-align: middle;\n",
       "    }\n",
       "\n",
       "    .dataframe tbody tr th {\n",
       "        vertical-align: top;\n",
       "    }\n",
       "\n",
       "    .dataframe thead th {\n",
       "        text-align: right;\n",
       "    }\n",
       "</style>\n",
       "<table border=\"1\" class=\"dataframe\">\n",
       "  <thead>\n",
       "    <tr style=\"text-align: right;\">\n",
       "      <th></th>\n",
       "      <th>Unnamed: 0</th>\n",
       "      <th>uuid</th>\n",
       "      <th>teos_volume</th>\n",
       "      <th>ammonia_volume</th>\n",
       "      <th>water_volume</th>\n",
       "      <th>ethanol_volume</th>\n",
       "      <th>dilution_volume_fraction</th>\n",
       "      <th>silica_mass_conc</th>\n",
       "      <th>silica_mass_fraction</th>\n",
       "      <th>ethanol_dilute_vol</th>\n",
       "      <th>sample_dilute_vol</th>\n",
       "      <th>well</th>\n",
       "      <th>dilute_well</th>\n",
       "    </tr>\n",
       "  </thead>\n",
       "  <tbody>\n",
       "    <tr>\n",
       "      <th>0</th>\n",
       "      <td>0</td>\n",
       "      <td>53e0a69a-3439-46a5-b7c5-1d465bd2a730</td>\n",
       "      <td>193.624054</td>\n",
       "      <td>372.430466</td>\n",
       "      <td>305.572594</td>\n",
       "      <td>828.372886</td>\n",
       "      <td>0.558543</td>\n",
       "      <td>10.756562</td>\n",
       "      <td>0.013170</td>\n",
       "      <td>750.0</td>\n",
       "      <td>950.0</td>\n",
       "      <td>E1</td>\n",
       "      <td>E1</td>\n",
       "    </tr>\n",
       "    <tr>\n",
       "      <th>1</th>\n",
       "      <td>1</td>\n",
       "      <td>bc33bc62-9792-4894-8fff-da8a5156f537</td>\n",
       "      <td>330.522059</td>\n",
       "      <td>420.183800</td>\n",
       "      <td>726.750029</td>\n",
       "      <td>222.544113</td>\n",
       "      <td>0.327202</td>\n",
       "      <td>18.361773</td>\n",
       "      <td>0.021856</td>\n",
       "      <td>1144.0</td>\n",
       "      <td>556.0</td>\n",
       "      <td>E3</td>\n",
       "      <td>E3</td>\n",
       "    </tr>\n",
       "    <tr>\n",
       "      <th>2</th>\n",
       "      <td>2</td>\n",
       "      <td>efcb2745-ba00-4f60-9076-a138682a6ac8</td>\n",
       "      <td>345.373849</td>\n",
       "      <td>118.015451</td>\n",
       "      <td>726.750029</td>\n",
       "      <td>509.860671</td>\n",
       "      <td>0.313131</td>\n",
       "      <td>19.186847</td>\n",
       "      <td>0.023016</td>\n",
       "      <td>1168.0</td>\n",
       "      <td>532.0</td>\n",
       "      <td>E4</td>\n",
       "      <td>E4</td>\n",
       "    </tr>\n",
       "    <tr>\n",
       "      <th>3</th>\n",
       "      <td>3</td>\n",
       "      <td>b4077fed-d5e9-487d-a822-df6ec0675b8c</td>\n",
       "      <td>24.224999</td>\n",
       "      <td>204.156223</td>\n",
       "      <td>24.224999</td>\n",
       "      <td>1447.393778</td>\n",
       "      <td>4.464286</td>\n",
       "      <td>1.345792</td>\n",
       "      <td>0.001691</td>\n",
       "      <td>0.0</td>\n",
       "      <td>1700.0</td>\n",
       "      <td>E5</td>\n",
       "      <td>E5</td>\n",
       "    </tr>\n",
       "    <tr>\n",
       "      <th>4</th>\n",
       "      <td>4</td>\n",
       "      <td>bc3068c4-66c5-4321-8b6a-c1c49c486042</td>\n",
       "      <td>402.423914</td>\n",
       "      <td>365.567394</td>\n",
       "      <td>510.464478</td>\n",
       "      <td>421.544215</td>\n",
       "      <td>0.268740</td>\n",
       "      <td>22.356197</td>\n",
       "      <td>0.026881</td>\n",
       "      <td>1243.0</td>\n",
       "      <td>457.0</td>\n",
       "      <td>E6</td>\n",
       "      <td>E6</td>\n",
       "    </tr>\n",
       "    <tr>\n",
       "      <th>5</th>\n",
       "      <td>5</td>\n",
       "      <td>6835f124-f5d6-43aa-a279-afcb239638af</td>\n",
       "      <td>387.962921</td>\n",
       "      <td>391.025337</td>\n",
       "      <td>726.750029</td>\n",
       "      <td>194.261713</td>\n",
       "      <td>0.278757</td>\n",
       "      <td>21.552834</td>\n",
       "      <td>0.025623</td>\n",
       "      <td>1226.0</td>\n",
       "      <td>474.0</td>\n",
       "      <td>E8</td>\n",
       "      <td>E8</td>\n",
       "    </tr>\n",
       "    <tr>\n",
       "      <th>6</th>\n",
       "      <td>6</td>\n",
       "      <td>f33b86ef-abb4-4015-a39e-7a1447404af8</td>\n",
       "      <td>484.500007</td>\n",
       "      <td>249.628718</td>\n",
       "      <td>726.750029</td>\n",
       "      <td>239.121245</td>\n",
       "      <td>0.223214</td>\n",
       "      <td>26.915840</td>\n",
       "      <td>0.032013</td>\n",
       "      <td>1321.0</td>\n",
       "      <td>379.0</td>\n",
       "      <td>F1</td>\n",
       "      <td>F1</td>\n",
       "    </tr>\n",
       "    <tr>\n",
       "      <th>7</th>\n",
       "      <td>7</td>\n",
       "      <td>0c9a7a98-4035-453d-ac5c-c95edc1c0de6</td>\n",
       "      <td>203.892761</td>\n",
       "      <td>342.406805</td>\n",
       "      <td>24.224999</td>\n",
       "      <td>1129.475434</td>\n",
       "      <td>0.530413</td>\n",
       "      <td>11.327028</td>\n",
       "      <td>0.014084</td>\n",
       "      <td>798.0</td>\n",
       "      <td>902.0</td>\n",
       "      <td>F2</td>\n",
       "      <td>F2</td>\n",
       "    </tr>\n",
       "    <tr>\n",
       "      <th>8</th>\n",
       "      <td>8</td>\n",
       "      <td>76682cac-1ccd-4f9e-ac77-90854e231547</td>\n",
       "      <td>484.500007</td>\n",
       "      <td>369.326213</td>\n",
       "      <td>726.750029</td>\n",
       "      <td>119.423751</td>\n",
       "      <td>0.223214</td>\n",
       "      <td>26.915840</td>\n",
       "      <td>0.031909</td>\n",
       "      <td>1321.0</td>\n",
       "      <td>379.0</td>\n",
       "      <td>F3</td>\n",
       "      <td>F3</td>\n",
       "    </tr>\n",
       "    <tr>\n",
       "      <th>9</th>\n",
       "      <td>9</td>\n",
       "      <td>e6581805-cb63-4d4a-a6b8-1cf24627d842</td>\n",
       "      <td>24.224999</td>\n",
       "      <td>421.134947</td>\n",
       "      <td>431.638112</td>\n",
       "      <td>823.001941</td>\n",
       "      <td>4.464286</td>\n",
       "      <td>1.345792</td>\n",
       "      <td>0.001645</td>\n",
       "      <td>0.0</td>\n",
       "      <td>1700.0</td>\n",
       "      <td>F4</td>\n",
       "      <td>F4</td>\n",
       "    </tr>\n",
       "  </tbody>\n",
       "</table>\n",
       "</div>"
      ],
      "text/plain": [
       "   Unnamed: 0                                  uuid  teos_volume  \\\n",
       "0           0  53e0a69a-3439-46a5-b7c5-1d465bd2a730   193.624054   \n",
       "1           1  bc33bc62-9792-4894-8fff-da8a5156f537   330.522059   \n",
       "2           2  efcb2745-ba00-4f60-9076-a138682a6ac8   345.373849   \n",
       "3           3  b4077fed-d5e9-487d-a822-df6ec0675b8c    24.224999   \n",
       "4           4  bc3068c4-66c5-4321-8b6a-c1c49c486042   402.423914   \n",
       "5           5  6835f124-f5d6-43aa-a279-afcb239638af   387.962921   \n",
       "6           6  f33b86ef-abb4-4015-a39e-7a1447404af8   484.500007   \n",
       "7           7  0c9a7a98-4035-453d-ac5c-c95edc1c0de6   203.892761   \n",
       "8           8  76682cac-1ccd-4f9e-ac77-90854e231547   484.500007   \n",
       "9           9  e6581805-cb63-4d4a-a6b8-1cf24627d842    24.224999   \n",
       "\n",
       "   ammonia_volume  water_volume  ethanol_volume  dilution_volume_fraction  \\\n",
       "0      372.430466    305.572594      828.372886                  0.558543   \n",
       "1      420.183800    726.750029      222.544113                  0.327202   \n",
       "2      118.015451    726.750029      509.860671                  0.313131   \n",
       "3      204.156223     24.224999     1447.393778                  4.464286   \n",
       "4      365.567394    510.464478      421.544215                  0.268740   \n",
       "5      391.025337    726.750029      194.261713                  0.278757   \n",
       "6      249.628718    726.750029      239.121245                  0.223214   \n",
       "7      342.406805     24.224999     1129.475434                  0.530413   \n",
       "8      369.326213    726.750029      119.423751                  0.223214   \n",
       "9      421.134947    431.638112      823.001941                  4.464286   \n",
       "\n",
       "   silica_mass_conc  silica_mass_fraction  ethanol_dilute_vol  \\\n",
       "0         10.756562              0.013170               750.0   \n",
       "1         18.361773              0.021856              1144.0   \n",
       "2         19.186847              0.023016              1168.0   \n",
       "3          1.345792              0.001691                 0.0   \n",
       "4         22.356197              0.026881              1243.0   \n",
       "5         21.552834              0.025623              1226.0   \n",
       "6         26.915840              0.032013              1321.0   \n",
       "7         11.327028              0.014084               798.0   \n",
       "8         26.915840              0.031909              1321.0   \n",
       "9          1.345792              0.001645                 0.0   \n",
       "\n",
       "   sample_dilute_vol well dilute_well  \n",
       "0              950.0   E1          E1  \n",
       "1              556.0   E3          E3  \n",
       "2              532.0   E4          E4  \n",
       "3             1700.0   E5          E5  \n",
       "4              457.0   E6          E6  \n",
       "5              474.0   E8          E8  \n",
       "6              379.0   F1          F1  \n",
       "7              902.0   F2          F2  \n",
       "8              379.0   F3          F3  \n",
       "9             1700.0   F4          F4  "
      ]
     },
     "execution_count": 112,
     "metadata": {},
     "output_type": "execute_result"
    }
   ],
   "source": [
    "dilution_table_rmse"
   ]
  },
  {
   "cell_type": "code",
   "execution_count": 113,
   "id": "7753c222-5c1d-493a-a7a8-8529cb116fed",
   "metadata": {},
   "outputs": [],
   "source": [
    "location_lookup_dilute_apdist = {}\n",
    "\n",
    "for i, row in dilution_table_apdist.iterrows():\n",
    "    uuid_val = row['uuid']\n",
    "    well = row['well']\n",
    "    if well is not np.nan:\n",
    "        well_loc = samples[well]\n",
    "    else:\n",
    "        well_loc = None\n",
    "\n",
    "    location_lookup_dilute_apdist[uuid_val] = well_loc"
   ]
  },
  {
   "cell_type": "code",
   "execution_count": 114,
   "id": "58d3a1a2-b53e-4f1a-8ca8-aa8a684ce385",
   "metadata": {},
   "outputs": [],
   "source": [
    "location_lookup_dilute_rmse = {}\n",
    "\n",
    "for i, row in dilution_table_rmse.iterrows():\n",
    "    uuid_val = row['uuid']\n",
    "    well = row['well']\n",
    "    if well is not np.nan:\n",
    "        well_loc = samples[well]\n",
    "    else:\n",
    "        well_loc = None\n",
    "\n",
    "    location_lookup_dilute_rmse[uuid_val] = well_loc"
   ]
  },
  {
   "cell_type": "code",
   "execution_count": 115,
   "id": "57de8e15-1e60-40ee-bfe6-e7d15a7be4a0",
   "metadata": {},
   "outputs": [
    {
     "data": {
      "text/plain": [
       "8971.0"
      ]
     },
     "execution_count": 115,
     "metadata": {},
     "output_type": "execute_result"
    }
   ],
   "source": [
    "dilution_table_rmse['ethanol_dilute_vol'].sum()"
   ]
  },
  {
   "cell_type": "markdown",
   "id": "e2ddb62c-d3f3-4c45-917a-e575189606c9",
   "metadata": {},
   "source": [
    "## add ethanol"
   ]
  },
  {
   "cell_type": "code",
   "execution_count": 103,
   "id": "a6c28415-6603-4bff-aad2-fd7fe99dd604",
   "metadata": {},
   "outputs": [
    {
     "ename": "KeyboardInterrupt",
     "evalue": "",
     "output_type": "error",
     "traceback": [
      "\u001b[0;31m---------------------------------------------------------------------------\u001b[0m",
      "\u001b[0;31mKeyboardInterrupt\u001b[0m                         Traceback (most recent call last)",
      "Cell \u001b[0;32mIn[103], line 1\u001b[0m\n\u001b[0;32m----> 1\u001b[0m \u001b[43mstober\u001b[49m\u001b[38;5;241;43m.\u001b[39;49m\u001b[43madd_reactants_batch\u001b[49m\u001b[43m(\u001b[49m\u001b[43mjubilee\u001b[49m\u001b[43m,\u001b[49m\u001b[43m \u001b[49m\u001b[43mmix_syringe\u001b[49m\u001b[43m,\u001b[49m\u001b[43m \u001b[49m\u001b[43mmix_syringe\u001b[49m\u001b[43m,\u001b[49m\u001b[43m \u001b[49m\u001b[43msample_table_apdist\u001b[49m\u001b[43m,\u001b[49m\u001b[43m \u001b[49m\u001b[43mlocation_lookup_apdist\u001b[49m\u001b[43m,\u001b[49m\u001b[43m \u001b[49m\u001b[38;5;124;43m'\u001b[39;49m\u001b[38;5;124;43methanol_volume\u001b[39;49m\u001b[38;5;124;43m'\u001b[39;49m\u001b[43m,\u001b[49m\u001b[43m \u001b[49m\u001b[43methanol_stocks_apdist\u001b[49m\u001b[43m[\u001b[49m\u001b[43m:\u001b[49m\u001b[38;5;241;43m2\u001b[39;49m\u001b[43m]\u001b[49m\u001b[43m,\u001b[49m\u001b[43m \u001b[49m\u001b[43mstocks_usable_volume\u001b[49m\u001b[38;5;241;43m=\u001b[39;49m\u001b[38;5;241;43m15000\u001b[39;49m\u001b[43m,\u001b[49m\u001b[43m \u001b[49m\u001b[43mdwell_time\u001b[49m\u001b[43m \u001b[49m\u001b[38;5;241;43m=\u001b[39;49m\u001b[43m \u001b[49m\u001b[38;5;241;43m10\u001b[39;49m\u001b[43m)\u001b[49m\n",
      "File \u001b[0;32m~/Code/silica-np-synthesis/OptimizationRound2/2025_02_03_80nmTarget_Round3/../../stober_synthesis_utils.py:118\u001b[0m, in \u001b[0;36madd_reactants_batch\u001b[0;34m(jubilee, reactant_syringe, mix_syringe, sample_table, location_lookup, reactant_name, stocks, stocks_usable_volume, mix_after, dwell_time)\u001b[0m\n\u001b[1;32m    115\u001b[0m     stock_volumes \u001b[38;5;241m=\u001b[39m _refill_syringe(reactant_syringe, stocks, stock_volumes)\n\u001b[1;32m    117\u001b[0m reactant_syringe\u001b[38;5;241m.\u001b[39mdispense(dispense_volume, dispense_location\u001b[38;5;241m.\u001b[39mbottom(\u001b[38;5;241m+\u001b[39m\u001b[38;5;241m5\u001b[39m), s \u001b[38;5;241m=\u001b[39m \u001b[38;5;241m20\u001b[39m)\n\u001b[0;32m--> 118\u001b[0m \u001b[43mtime\u001b[49m\u001b[38;5;241;43m.\u001b[39;49m\u001b[43msleep\u001b[49m\u001b[43m(\u001b[49m\u001b[43mdwell_time\u001b[49m\u001b[43m)\u001b[49m\n\u001b[1;32m    119\u001b[0m logger\u001b[38;5;241m.\u001b[39minfo(\u001b[38;5;124mf\u001b[39m\u001b[38;5;124m'\u001b[39m\u001b[38;5;124mDispensed \u001b[39m\u001b[38;5;132;01m{\u001b[39;00mdispense_volume\u001b[38;5;132;01m}\u001b[39;00m\u001b[38;5;124m uL of \u001b[39m\u001b[38;5;132;01m{\u001b[39;00mreactant_name\u001b[38;5;132;01m}\u001b[39;00m\u001b[38;5;124m into \u001b[39m\u001b[38;5;132;01m{\u001b[39;00mdispense_location\u001b[38;5;132;01m}\u001b[39;00m\u001b[38;5;124m'\u001b[39m)\n\u001b[1;32m    121\u001b[0m \u001b[38;5;28;01mif\u001b[39;00m mix_after \u001b[38;5;129;01mis\u001b[39;00m \u001b[38;5;129;01mnot\u001b[39;00m \u001b[38;5;28;01mNone\u001b[39;00m:\n",
      "\u001b[0;31mKeyboardInterrupt\u001b[0m: "
     ]
    }
   ],
   "source": [
    "stober.add_reactants_batch(jubilee, mix_syringe, mix_syringe, sample_table_apdist, location_lookup_apdist, 'ethanol_volume', ethanol_stocks_apdist[:2], stocks_usable_volume=15000, dwell_time = 10)"
   ]
  },
  {
   "cell_type": "code",
   "execution_count": 116,
   "id": "0f4144b3-a7f9-4650-886f-054cd544228a",
   "metadata": {},
   "outputs": [],
   "source": [
    "\n",
    "stober.add_reactants_batch(jubilee, mix_syringe, mix_syringe, sample_table_rmse[1:], location_lookup_rmse, 'ethanol_volume', ethanol_stocks_rmse[:2], stocks_usable_volume=15000, dwell_time = 10)"
   ]
  },
  {
   "cell_type": "code",
   "execution_count": 117,
   "id": "7d204157-ed65-4f49-acbc-d192222f0dc6",
   "metadata": {},
   "outputs": [],
   "source": [
    "#dispense remaining volume from etOH mix syringe\n",
    "jubilee.pickup_tool(mix_syringe)\n",
    "mix_syringe.dispense(mix_syringe.remaining_volume-1, trash[0])\n",
    "logger.info('Emptied ethanol syringe into trash')\n",
    "jubilee.park_tool()"
   ]
  },
  {
   "cell_type": "code",
   "execution_count": 118,
   "id": "2fc66aa1-bc70-4098-8e37-f148188c26c6",
   "metadata": {},
   "outputs": [],
   "source": [
    "mix_syringe.set_pulsewidth(mix_syringe.empty_position-1)"
   ]
  },
  {
   "cell_type": "markdown",
   "id": "9e35c96c-2ea8-438a-989d-f6d73c8f16ed",
   "metadata": {},
   "source": [
    "## Dispense water\n"
   ]
  },
  {
   "cell_type": "code",
   "execution_count": 119,
   "id": "9f765450-7f64-49e7-85f8-335e2fa0b666",
   "metadata": {},
   "outputs": [],
   "source": [
    "stober.add_reactants_batch(jubilee, water_syringe, mix_syringe, sample_table_apdist, location_lookup_apdist, 'water_volume', water_stocks, dwell_time = 7)"
   ]
  },
  {
   "cell_type": "code",
   "execution_count": 120,
   "id": "16b57d0a-7d0f-4a3e-9ed9-0c021c31f538",
   "metadata": {},
   "outputs": [],
   "source": [
    "stober.add_reactants_batch(jubilee, water_syringe, mix_syringe, sample_table_rmse, location_lookup_rmse, 'water_volume', water_stocks, dwell_time = 7)"
   ]
  },
  {
   "cell_type": "markdown",
   "id": "cd60cc24-167e-46e5-9e73-a2457c8964de",
   "metadata": {},
   "source": [
    "## dispense Ammonia"
   ]
  },
  {
   "cell_type": "code",
   "execution_count": 121,
   "id": "7dc4c2ae-9e4e-40e0-929a-6e0a3e4bc240",
   "metadata": {},
   "outputs": [],
   "source": [
    "stober.add_reactants_batch(jubilee, ammonia_syringe, mix_syringe, sample_table_apdist, location_lookup_apdist, 'ammonia_volume', ammonia_stocks)"
   ]
  },
  {
   "cell_type": "code",
   "execution_count": 122,
   "id": "e7f6b494-541c-4ca7-82a1-be053a1869aa",
   "metadata": {},
   "outputs": [],
   "source": [
    "stober.add_reactants_batch(jubilee, ammonia_syringe, mix_syringe, sample_table_rmse, location_lookup_rmse, 'ammonia_volume', ammonia_stocks)"
   ]
  },
  {
   "cell_type": "markdown",
   "id": "bc8a34b3-acd7-4b89-a9ea-34b514cd3d8c",
   "metadata": {},
   "source": [
    "## mix precursors"
   ]
  },
  {
   "cell_type": "code",
   "execution_count": 123,
   "id": "f4f701c5-7908-489e-a1eb-9b2c60438c96",
   "metadata": {},
   "outputs": [],
   "source": [
    "stober.first_mix(jubilee, mix_syringe, 2000, location_lookup_apdist, rinse_stocks_apdist, 5)"
   ]
  },
  {
   "cell_type": "code",
   "execution_count": 124,
   "id": "0d0c3df5-714e-4ffb-a925-e76fbfd542e7",
   "metadata": {},
   "outputs": [],
   "source": [
    "stober.first_mix(jubilee, mix_syringe, 2000, location_lookup_rmse, rinse_stocks_rmse, 5)"
   ]
  },
  {
   "cell_type": "markdown",
   "id": "000c1369-b5a0-4183-97d4-fced54279516",
   "metadata": {},
   "source": [
    "## Add TEOS and mix"
   ]
  },
  {
   "cell_type": "code",
   "execution_count": 125,
   "id": "85496a20-bb2d-4363-a2c5-41685f0353f9",
   "metadata": {},
   "outputs": [],
   "source": [
    "teos_start_time = time.time()"
   ]
  },
  {
   "cell_type": "code",
   "execution_count": 126,
   "id": "efccb2d6-234a-4af8-a87d-4d904696a48e",
   "metadata": {},
   "outputs": [],
   "source": [
    "stober.add_reactants_batch(jubilee, teos_syringe, mix_syringe, sample_table_apdist, location_lookup_apdist, 'teos_volume', teos_stocks, mix_after=(2000, 5, rinse_stocks_apdist))"
   ]
  },
  {
   "cell_type": "code",
   "execution_count": 127,
   "id": "8db9bc79-6cdb-4dde-a477-6a81616fec1c",
   "metadata": {},
   "outputs": [],
   "source": [
    "stober.add_reactants_batch(jubilee, teos_syringe, mix_syringe, sample_table_rmse, location_lookup_rmse, 'teos_volume', teos_stocks, mix_after=(2000, 5, rinse_stocks_rmse))"
   ]
  },
  {
   "cell_type": "markdown",
   "id": "cf654819-0ae6-452a-bdbe-5f2a008f1b1c",
   "metadata": {},
   "source": [
    "### Dilution"
   ]
  },
  {
   "cell_type": "code",
   "execution_count": 128,
   "id": "5c533083-99a5-4efe-8f99-0bd3b538c394",
   "metadata": {},
   "outputs": [],
   "source": [
    "hrs5 = 60*60*5\n",
    "while (time.time() - teos_start_time) < hrs5:\n",
    "    time.sleep(60)\n",
    "\n",
    "#dispese ethanol into dilution vials\n",
    "stober.add_reactants_batch(jubilee, mix_syringe, mix_syringe, dilution_table_apdist, location_lookup_dilute_apdist, 'ethanol_dilute_vol', ethanol_stocks_apdist[2:], stocks_usable_volume=15000, dwell_time = 10)\n",
    "\n",
    "jubilee.pickup_tool(mix_syringe)\n",
    "mix_syringe.dispense(mix_syringe.remaining_volume-1, trash[0])\n",
    "logger.info('Emptied ethanol syringe into trash')\n",
    "jubilee.park_tool()\n",
    "\n",
    "jubilee.pickup_tool(mix_syringe)\n",
    "rinse_vol = 2000\n",
    "for i, row in dilution_table_apdist.iterrows():\n",
    "    uuid_val = row['uuid']\n",
    "    sample_well = location_lookup_apdist[uuid_val]\n",
    "    dilute_well = location_lookup_dilute_apdist[uuid_val]\n",
    "    if dilute_well is None:\n",
    "        continue\n",
    "    else:\n",
    "        vol = row['sample_dilute_vol']\n",
    "        \n",
    "        mix_syringe.aspirate(vol, sample_well.bottom(+5))\n",
    "        time.sleep(10)\n",
    "        mix_syringe.dispense(vol, dilute_well.bottom(+5))\n",
    "        time.sleep(10)\n",
    "        logger.info(f'Transferred {vol} uL from {sample_well} to {dilute_well}')\n",
    "    \n",
    "        for stock in rinse_stocks_apdist:\n",
    "            mix_syringe.mix(rinse_vol, 5, stock.bottom(+10), t_hold = 3, s_aspirate = 2000, s_dispense = 500)\n",
    "    \n",
    "        logger.info(f'Washed mix syringe in wash solutions {rinse_stocks_apdist}')\n",
    "\n",
    "    "
   ]
  },
  {
   "cell_type": "code",
   "execution_count": 129,
   "id": "c9cb2dfa-c49e-4595-900b-66adb09affd3",
   "metadata": {},
   "outputs": [],
   "source": [
    "# dispese ethanol into dilution vials\n",
    "#stober.add_reactants_batch(jubilee, mix_syringe, mix_syringe, dilution_table_rmse, location_lookup_dilute_rmse, 'ethanol_dilute_vol', ethanol_stocks_rmse[2:], stocks_usable_volume=15000, dwell_time = 10)\n",
    "\n",
    "jubilee.pickup_tool(mix_syringe)\n",
    "mix_syringe.dispense(mix_syringe.remaining_volume-1, trash[0])\n",
    "logger.info('Emptied ethanol syringe into trash')\n",
    "jubilee.park_tool()\n",
    "\n",
    "jubilee.pickup_tool(mix_syringe)\n",
    "rinse_vol = 2000\n",
    "for i, row in dilution_table_rmse.iterrows():\n",
    "    uuid_val = row['uuid']\n",
    "    sample_well = location_lookup_rmse[uuid_val]\n",
    "    dilute_well = location_lookup_dilute_rmse[uuid_val]\n",
    "    if dilute_well is None:\n",
    "        continue\n",
    "    else:\n",
    "        vol = row['sample_dilute_vol']\n",
    "        \n",
    "        mix_syringe.aspirate(vol, sample_well.bottom(+5))\n",
    "        time.sleep(10)\n",
    "        mix_syringe.dispense(vol, dilute_well.bottom(+5))\n",
    "        time.sleep(10)\n",
    "        logger.info(f'Transferred {vol} uL from {sample_well} to {dilute_well}')\n",
    "    \n",
    "        for stock in rinse_stocks_rmse:\n",
    "            mix_syringe.mix(rinse_vol, 5, stock.bottom(+10), t_hold = 3, s_aspirate = 2000, s_dispense = 500)\n",
    "    \n",
    "        logger.info(f'Washed mix syringe in wash solutions {rinse_stocks_rmse}')"
   ]
  },
  {
   "cell_type": "code",
   "execution_count": 130,
   "id": "fc8002db-155a-4841-ba3c-25da7f73aafd",
   "metadata": {},
   "outputs": [],
   "source": [
    "jubilee.park_tool()"
   ]
  },
  {
   "cell_type": "code",
   "execution_count": 91,
   "id": "18d77df9-f5ab-4212-b386-c1eee378bc53",
   "metadata": {},
   "outputs": [],
   "source": [
    "water_syringe.set_pulsewidth(water_syringe.empty_position-1)"
   ]
  },
  {
   "cell_type": "code",
   "execution_count": 92,
   "id": "a69392e0-de9f-41c2-aac3-cb2fb9fb1230",
   "metadata": {},
   "outputs": [],
   "source": [
    "ammonia_syringe.set_pulsewidth(ammonia_syringe.empty_position-1)"
   ]
  },
  {
   "cell_type": "code",
   "execution_count": 93,
   "id": "1b5ff69f-ca4b-44d3-beb8-2d7899e510c5",
   "metadata": {},
   "outputs": [],
   "source": [
    "teos_syringe.set_pulsewidth(teos_syringe.empty_position-1)"
   ]
  },
  {
   "cell_type": "code",
   "execution_count": 131,
   "id": "595e3206-561b-4ea9-8834-4e3d5a6d2345",
   "metadata": {},
   "outputs": [
    {
     "data": {
      "text/html": [
       "<div>\n",
       "<style scoped>\n",
       "    .dataframe tbody tr th:only-of-type {\n",
       "        vertical-align: middle;\n",
       "    }\n",
       "\n",
       "    .dataframe tbody tr th {\n",
       "        vertical-align: top;\n",
       "    }\n",
       "\n",
       "    .dataframe thead th {\n",
       "        text-align: right;\n",
       "    }\n",
       "</style>\n",
       "<table border=\"1\" class=\"dataframe\">\n",
       "  <thead>\n",
       "    <tr style=\"text-align: right;\">\n",
       "      <th></th>\n",
       "      <th>Unnamed: 0</th>\n",
       "      <th>uuid</th>\n",
       "      <th>teos_volume</th>\n",
       "      <th>ammonia_volume</th>\n",
       "      <th>water_volume</th>\n",
       "      <th>ethanol_volume</th>\n",
       "      <th>dilution_volume_fraction</th>\n",
       "      <th>silica_mass_conc</th>\n",
       "      <th>silica_mass_fraction</th>\n",
       "      <th>ethanol_dilute_vol</th>\n",
       "      <th>sample_dilute_vol</th>\n",
       "      <th>well</th>\n",
       "      <th>dilute_well</th>\n",
       "    </tr>\n",
       "  </thead>\n",
       "  <tbody>\n",
       "    <tr>\n",
       "      <th>0</th>\n",
       "      <td>0</td>\n",
       "      <td>f0760849-19ea-4064-b5ae-e45aa981996e</td>\n",
       "      <td>320.743094</td>\n",
       "      <td>157.000638</td>\n",
       "      <td>148.350603</td>\n",
       "      <td>1073.905666</td>\n",
       "      <td>0.337177</td>\n",
       "      <td>17.818514</td>\n",
       "      <td>0.022030</td>\n",
       "      <td>1127.0</td>\n",
       "      <td>573.0</td>\n",
       "      <td>A1</td>\n",
       "      <td>C7</td>\n",
       "    </tr>\n",
       "    <tr>\n",
       "      <th>1</th>\n",
       "      <td>1</td>\n",
       "      <td>f3cbf509-261b-412c-b083-ea00cf8edf39</td>\n",
       "      <td>103.100598</td>\n",
       "      <td>134.489344</td>\n",
       "      <td>441.676225</td>\n",
       "      <td>1020.733832</td>\n",
       "      <td>1.048950</td>\n",
       "      <td>5.727635</td>\n",
       "      <td>0.007032</td>\n",
       "      <td>0.0</td>\n",
       "      <td>1700.0</td>\n",
       "      <td>A2</td>\n",
       "      <td>C8</td>\n",
       "    </tr>\n",
       "    <tr>\n",
       "      <th>2</th>\n",
       "      <td>2</td>\n",
       "      <td>8331bed0-257f-42ce-b6e0-439b92c237c6</td>\n",
       "      <td>78.933306</td>\n",
       "      <td>135.352268</td>\n",
       "      <td>465.920118</td>\n",
       "      <td>1019.794308</td>\n",
       "      <td>1.370110</td>\n",
       "      <td>4.385049</td>\n",
       "      <td>0.005381</td>\n",
       "      <td>0.0</td>\n",
       "      <td>1700.0</td>\n",
       "      <td>A3</td>\n",
       "      <td>D1</td>\n",
       "    </tr>\n",
       "    <tr>\n",
       "      <th>3</th>\n",
       "      <td>3</td>\n",
       "      <td>bd07bf5f-b860-4d60-bb06-8bcf078973cd</td>\n",
       "      <td>88.504707</td>\n",
       "      <td>321.646809</td>\n",
       "      <td>528.503366</td>\n",
       "      <td>761.345118</td>\n",
       "      <td>1.221939</td>\n",
       "      <td>4.916777</td>\n",
       "      <td>0.005981</td>\n",
       "      <td>0.0</td>\n",
       "      <td>1700.0</td>\n",
       "      <td>A4</td>\n",
       "      <td>D2</td>\n",
       "    </tr>\n",
       "    <tr>\n",
       "      <th>4</th>\n",
       "      <td>4</td>\n",
       "      <td>d25c4916-b521-497c-b864-cf91a0aea475</td>\n",
       "      <td>48.228321</td>\n",
       "      <td>98.034325</td>\n",
       "      <td>627.984068</td>\n",
       "      <td>925.753286</td>\n",
       "      <td>2.242403</td>\n",
       "      <td>2.679269</td>\n",
       "      <td>0.003267</td>\n",
       "      <td>0.0</td>\n",
       "      <td>1700.0</td>\n",
       "      <td>A5</td>\n",
       "      <td>D3</td>\n",
       "    </tr>\n",
       "    <tr>\n",
       "      <th>5</th>\n",
       "      <td>5</td>\n",
       "      <td>311ef7f0-67f0-44f1-8b30-14f89070d209</td>\n",
       "      <td>484.500007</td>\n",
       "      <td>315.698101</td>\n",
       "      <td>462.905532</td>\n",
       "      <td>436.896360</td>\n",
       "      <td>0.223214</td>\n",
       "      <td>26.915840</td>\n",
       "      <td>0.032393</td>\n",
       "      <td>1321.0</td>\n",
       "      <td>379.0</td>\n",
       "      <td>A6</td>\n",
       "      <td>D4</td>\n",
       "    </tr>\n",
       "    <tr>\n",
       "      <th>6</th>\n",
       "      <td>6</td>\n",
       "      <td>a5099251-1d47-4f19-829a-651f742dde01</td>\n",
       "      <td>160.869123</td>\n",
       "      <td>218.119856</td>\n",
       "      <td>80.639300</td>\n",
       "      <td>1240.371721</td>\n",
       "      <td>0.672269</td>\n",
       "      <td>8.936899</td>\n",
       "      <td>0.011136</td>\n",
       "      <td>557.0</td>\n",
       "      <td>1143.0</td>\n",
       "      <td>A7</td>\n",
       "      <td>D5</td>\n",
       "    </tr>\n",
       "    <tr>\n",
       "      <th>7</th>\n",
       "      <td>7</td>\n",
       "      <td>9c7c4090-d1a8-42e9-9f48-29ea62098dff</td>\n",
       "      <td>403.886571</td>\n",
       "      <td>440.832469</td>\n",
       "      <td>155.367182</td>\n",
       "      <td>699.913778</td>\n",
       "      <td>0.267767</td>\n",
       "      <td>22.437454</td>\n",
       "      <td>0.027427</td>\n",
       "      <td>1245.0</td>\n",
       "      <td>455.0</td>\n",
       "      <td>A8</td>\n",
       "      <td>D6</td>\n",
       "    </tr>\n",
       "    <tr>\n",
       "      <th>8</th>\n",
       "      <td>8</td>\n",
       "      <td>9b4974c6-3261-4669-87d4-17f776c3fbc9</td>\n",
       "      <td>36.462450</td>\n",
       "      <td>91.528101</td>\n",
       "      <td>212.497366</td>\n",
       "      <td>1359.512083</td>\n",
       "      <td>2.965992</td>\n",
       "      <td>2.025629</td>\n",
       "      <td>0.002527</td>\n",
       "      <td>0.0</td>\n",
       "      <td>1700.0</td>\n",
       "      <td>B1</td>\n",
       "      <td>D7</td>\n",
       "    </tr>\n",
       "    <tr>\n",
       "      <th>9</th>\n",
       "      <td>9</td>\n",
       "      <td>6294633a-9219-4287-8b6b-86d972f53cc8</td>\n",
       "      <td>425.698537</td>\n",
       "      <td>303.783538</td>\n",
       "      <td>162.093497</td>\n",
       "      <td>808.424429</td>\n",
       "      <td>0.254047</td>\n",
       "      <td>23.649192</td>\n",
       "      <td>0.028986</td>\n",
       "      <td>1268.0</td>\n",
       "      <td>432.0</td>\n",
       "      <td>B3</td>\n",
       "      <td>D8</td>\n",
       "    </tr>\n",
       "  </tbody>\n",
       "</table>\n",
       "</div>"
      ],
      "text/plain": [
       "   Unnamed: 0                                  uuid  teos_volume  \\\n",
       "0           0  f0760849-19ea-4064-b5ae-e45aa981996e   320.743094   \n",
       "1           1  f3cbf509-261b-412c-b083-ea00cf8edf39   103.100598   \n",
       "2           2  8331bed0-257f-42ce-b6e0-439b92c237c6    78.933306   \n",
       "3           3  bd07bf5f-b860-4d60-bb06-8bcf078973cd    88.504707   \n",
       "4           4  d25c4916-b521-497c-b864-cf91a0aea475    48.228321   \n",
       "5           5  311ef7f0-67f0-44f1-8b30-14f89070d209   484.500007   \n",
       "6           6  a5099251-1d47-4f19-829a-651f742dde01   160.869123   \n",
       "7           7  9c7c4090-d1a8-42e9-9f48-29ea62098dff   403.886571   \n",
       "8           8  9b4974c6-3261-4669-87d4-17f776c3fbc9    36.462450   \n",
       "9           9  6294633a-9219-4287-8b6b-86d972f53cc8   425.698537   \n",
       "\n",
       "   ammonia_volume  water_volume  ethanol_volume  dilution_volume_fraction  \\\n",
       "0      157.000638    148.350603     1073.905666                  0.337177   \n",
       "1      134.489344    441.676225     1020.733832                  1.048950   \n",
       "2      135.352268    465.920118     1019.794308                  1.370110   \n",
       "3      321.646809    528.503366      761.345118                  1.221939   \n",
       "4       98.034325    627.984068      925.753286                  2.242403   \n",
       "5      315.698101    462.905532      436.896360                  0.223214   \n",
       "6      218.119856     80.639300     1240.371721                  0.672269   \n",
       "7      440.832469    155.367182      699.913778                  0.267767   \n",
       "8       91.528101    212.497366     1359.512083                  2.965992   \n",
       "9      303.783538    162.093497      808.424429                  0.254047   \n",
       "\n",
       "   silica_mass_conc  silica_mass_fraction  ethanol_dilute_vol  \\\n",
       "0         17.818514              0.022030              1127.0   \n",
       "1          5.727635              0.007032                 0.0   \n",
       "2          4.385049              0.005381                 0.0   \n",
       "3          4.916777              0.005981                 0.0   \n",
       "4          2.679269              0.003267                 0.0   \n",
       "5         26.915840              0.032393              1321.0   \n",
       "6          8.936899              0.011136               557.0   \n",
       "7         22.437454              0.027427              1245.0   \n",
       "8          2.025629              0.002527                 0.0   \n",
       "9         23.649192              0.028986              1268.0   \n",
       "\n",
       "   sample_dilute_vol well dilute_well  \n",
       "0              573.0   A1          C7  \n",
       "1             1700.0   A2          C8  \n",
       "2             1700.0   A3          D1  \n",
       "3             1700.0   A4          D2  \n",
       "4             1700.0   A5          D3  \n",
       "5              379.0   A6          D4  \n",
       "6             1143.0   A7          D5  \n",
       "7              455.0   A8          D6  \n",
       "8             1700.0   B1          D7  \n",
       "9              432.0   B3          D8  "
      ]
     },
     "execution_count": 131,
     "metadata": {},
     "output_type": "execute_result"
    }
   ],
   "source": [
    "sample_table_apdist"
   ]
  },
  {
   "cell_type": "code",
   "execution_count": 132,
   "id": "583da8f7-50a3-438a-a6c5-6b80b3034631",
   "metadata": {},
   "outputs": [
    {
     "data": {
      "text/html": [
       "<div>\n",
       "<style scoped>\n",
       "    .dataframe tbody tr th:only-of-type {\n",
       "        vertical-align: middle;\n",
       "    }\n",
       "\n",
       "    .dataframe tbody tr th {\n",
       "        vertical-align: top;\n",
       "    }\n",
       "\n",
       "    .dataframe thead th {\n",
       "        text-align: right;\n",
       "    }\n",
       "</style>\n",
       "<table border=\"1\" class=\"dataframe\">\n",
       "  <thead>\n",
       "    <tr style=\"text-align: right;\">\n",
       "      <th></th>\n",
       "      <th>Unnamed: 0</th>\n",
       "      <th>uuid</th>\n",
       "      <th>teos_volume</th>\n",
       "      <th>ammonia_volume</th>\n",
       "      <th>water_volume</th>\n",
       "      <th>ethanol_volume</th>\n",
       "      <th>dilution_volume_fraction</th>\n",
       "      <th>silica_mass_conc</th>\n",
       "      <th>silica_mass_fraction</th>\n",
       "      <th>ethanol_dilute_vol</th>\n",
       "      <th>sample_dilute_vol</th>\n",
       "      <th>well</th>\n",
       "      <th>dilute_well</th>\n",
       "    </tr>\n",
       "  </thead>\n",
       "  <tbody>\n",
       "    <tr>\n",
       "      <th>0</th>\n",
       "      <td>0</td>\n",
       "      <td>53e0a69a-3439-46a5-b7c5-1d465bd2a730</td>\n",
       "      <td>193.624054</td>\n",
       "      <td>372.430466</td>\n",
       "      <td>305.572594</td>\n",
       "      <td>828.372886</td>\n",
       "      <td>0.558543</td>\n",
       "      <td>10.756562</td>\n",
       "      <td>0.013170</td>\n",
       "      <td>750.0</td>\n",
       "      <td>950.0</td>\n",
       "      <td>B4</td>\n",
       "      <td>E1</td>\n",
       "    </tr>\n",
       "    <tr>\n",
       "      <th>1</th>\n",
       "      <td>1</td>\n",
       "      <td>bc33bc62-9792-4894-8fff-da8a5156f537</td>\n",
       "      <td>330.522059</td>\n",
       "      <td>420.183800</td>\n",
       "      <td>726.750029</td>\n",
       "      <td>222.544113</td>\n",
       "      <td>0.327202</td>\n",
       "      <td>18.361773</td>\n",
       "      <td>0.021856</td>\n",
       "      <td>1144.0</td>\n",
       "      <td>556.0</td>\n",
       "      <td>B5</td>\n",
       "      <td>E3</td>\n",
       "    </tr>\n",
       "    <tr>\n",
       "      <th>2</th>\n",
       "      <td>2</td>\n",
       "      <td>efcb2745-ba00-4f60-9076-a138682a6ac8</td>\n",
       "      <td>345.373849</td>\n",
       "      <td>118.015451</td>\n",
       "      <td>726.750029</td>\n",
       "      <td>509.860671</td>\n",
       "      <td>0.313131</td>\n",
       "      <td>19.186847</td>\n",
       "      <td>0.023016</td>\n",
       "      <td>1168.0</td>\n",
       "      <td>532.0</td>\n",
       "      <td>B6</td>\n",
       "      <td>E4</td>\n",
       "    </tr>\n",
       "    <tr>\n",
       "      <th>3</th>\n",
       "      <td>3</td>\n",
       "      <td>b4077fed-d5e9-487d-a822-df6ec0675b8c</td>\n",
       "      <td>24.224999</td>\n",
       "      <td>204.156223</td>\n",
       "      <td>24.224999</td>\n",
       "      <td>1447.393778</td>\n",
       "      <td>4.464286</td>\n",
       "      <td>1.345792</td>\n",
       "      <td>0.001691</td>\n",
       "      <td>0.0</td>\n",
       "      <td>1700.0</td>\n",
       "      <td>B8</td>\n",
       "      <td>E5</td>\n",
       "    </tr>\n",
       "    <tr>\n",
       "      <th>4</th>\n",
       "      <td>4</td>\n",
       "      <td>bc3068c4-66c5-4321-8b6a-c1c49c486042</td>\n",
       "      <td>402.423914</td>\n",
       "      <td>365.567394</td>\n",
       "      <td>510.464478</td>\n",
       "      <td>421.544215</td>\n",
       "      <td>0.268740</td>\n",
       "      <td>22.356197</td>\n",
       "      <td>0.026881</td>\n",
       "      <td>1243.0</td>\n",
       "      <td>457.0</td>\n",
       "      <td>C1</td>\n",
       "      <td>E6</td>\n",
       "    </tr>\n",
       "    <tr>\n",
       "      <th>5</th>\n",
       "      <td>5</td>\n",
       "      <td>6835f124-f5d6-43aa-a279-afcb239638af</td>\n",
       "      <td>387.962921</td>\n",
       "      <td>391.025337</td>\n",
       "      <td>726.750029</td>\n",
       "      <td>194.261713</td>\n",
       "      <td>0.278757</td>\n",
       "      <td>21.552834</td>\n",
       "      <td>0.025623</td>\n",
       "      <td>1226.0</td>\n",
       "      <td>474.0</td>\n",
       "      <td>C2</td>\n",
       "      <td>E8</td>\n",
       "    </tr>\n",
       "    <tr>\n",
       "      <th>6</th>\n",
       "      <td>6</td>\n",
       "      <td>f33b86ef-abb4-4015-a39e-7a1447404af8</td>\n",
       "      <td>484.500007</td>\n",
       "      <td>249.628718</td>\n",
       "      <td>726.750029</td>\n",
       "      <td>239.121245</td>\n",
       "      <td>0.223214</td>\n",
       "      <td>26.915840</td>\n",
       "      <td>0.032013</td>\n",
       "      <td>1321.0</td>\n",
       "      <td>379.0</td>\n",
       "      <td>C3</td>\n",
       "      <td>F1</td>\n",
       "    </tr>\n",
       "    <tr>\n",
       "      <th>7</th>\n",
       "      <td>7</td>\n",
       "      <td>0c9a7a98-4035-453d-ac5c-c95edc1c0de6</td>\n",
       "      <td>203.892761</td>\n",
       "      <td>342.406805</td>\n",
       "      <td>24.224999</td>\n",
       "      <td>1129.475434</td>\n",
       "      <td>0.530413</td>\n",
       "      <td>11.327028</td>\n",
       "      <td>0.014084</td>\n",
       "      <td>798.0</td>\n",
       "      <td>902.0</td>\n",
       "      <td>C4</td>\n",
       "      <td>F2</td>\n",
       "    </tr>\n",
       "    <tr>\n",
       "      <th>8</th>\n",
       "      <td>8</td>\n",
       "      <td>76682cac-1ccd-4f9e-ac77-90854e231547</td>\n",
       "      <td>484.500007</td>\n",
       "      <td>369.326213</td>\n",
       "      <td>726.750029</td>\n",
       "      <td>119.423751</td>\n",
       "      <td>0.223214</td>\n",
       "      <td>26.915840</td>\n",
       "      <td>0.031909</td>\n",
       "      <td>1321.0</td>\n",
       "      <td>379.0</td>\n",
       "      <td>C5</td>\n",
       "      <td>F3</td>\n",
       "    </tr>\n",
       "    <tr>\n",
       "      <th>9</th>\n",
       "      <td>9</td>\n",
       "      <td>e6581805-cb63-4d4a-a6b8-1cf24627d842</td>\n",
       "      <td>24.224999</td>\n",
       "      <td>421.134947</td>\n",
       "      <td>431.638112</td>\n",
       "      <td>823.001941</td>\n",
       "      <td>4.464286</td>\n",
       "      <td>1.345792</td>\n",
       "      <td>0.001645</td>\n",
       "      <td>0.0</td>\n",
       "      <td>1700.0</td>\n",
       "      <td>C6</td>\n",
       "      <td>F4</td>\n",
       "    </tr>\n",
       "  </tbody>\n",
       "</table>\n",
       "</div>"
      ],
      "text/plain": [
       "   Unnamed: 0                                  uuid  teos_volume  \\\n",
       "0           0  53e0a69a-3439-46a5-b7c5-1d465bd2a730   193.624054   \n",
       "1           1  bc33bc62-9792-4894-8fff-da8a5156f537   330.522059   \n",
       "2           2  efcb2745-ba00-4f60-9076-a138682a6ac8   345.373849   \n",
       "3           3  b4077fed-d5e9-487d-a822-df6ec0675b8c    24.224999   \n",
       "4           4  bc3068c4-66c5-4321-8b6a-c1c49c486042   402.423914   \n",
       "5           5  6835f124-f5d6-43aa-a279-afcb239638af   387.962921   \n",
       "6           6  f33b86ef-abb4-4015-a39e-7a1447404af8   484.500007   \n",
       "7           7  0c9a7a98-4035-453d-ac5c-c95edc1c0de6   203.892761   \n",
       "8           8  76682cac-1ccd-4f9e-ac77-90854e231547   484.500007   \n",
       "9           9  e6581805-cb63-4d4a-a6b8-1cf24627d842    24.224999   \n",
       "\n",
       "   ammonia_volume  water_volume  ethanol_volume  dilution_volume_fraction  \\\n",
       "0      372.430466    305.572594      828.372886                  0.558543   \n",
       "1      420.183800    726.750029      222.544113                  0.327202   \n",
       "2      118.015451    726.750029      509.860671                  0.313131   \n",
       "3      204.156223     24.224999     1447.393778                  4.464286   \n",
       "4      365.567394    510.464478      421.544215                  0.268740   \n",
       "5      391.025337    726.750029      194.261713                  0.278757   \n",
       "6      249.628718    726.750029      239.121245                  0.223214   \n",
       "7      342.406805     24.224999     1129.475434                  0.530413   \n",
       "8      369.326213    726.750029      119.423751                  0.223214   \n",
       "9      421.134947    431.638112      823.001941                  4.464286   \n",
       "\n",
       "   silica_mass_conc  silica_mass_fraction  ethanol_dilute_vol  \\\n",
       "0         10.756562              0.013170               750.0   \n",
       "1         18.361773              0.021856              1144.0   \n",
       "2         19.186847              0.023016              1168.0   \n",
       "3          1.345792              0.001691                 0.0   \n",
       "4         22.356197              0.026881              1243.0   \n",
       "5         21.552834              0.025623              1226.0   \n",
       "6         26.915840              0.032013              1321.0   \n",
       "7         11.327028              0.014084               798.0   \n",
       "8         26.915840              0.031909              1321.0   \n",
       "9          1.345792              0.001645                 0.0   \n",
       "\n",
       "   sample_dilute_vol well dilute_well  \n",
       "0              950.0   B4          E1  \n",
       "1              556.0   B5          E3  \n",
       "2              532.0   B6          E4  \n",
       "3             1700.0   B8          E5  \n",
       "4              457.0   C1          E6  \n",
       "5              474.0   C2          E8  \n",
       "6              379.0   C3          F1  \n",
       "7              902.0   C4          F2  \n",
       "8              379.0   C5          F3  \n",
       "9             1700.0   C6          F4  "
      ]
     },
     "execution_count": 132,
     "metadata": {},
     "output_type": "execute_result"
    }
   ],
   "source": [
    "sample_table_rmse"
   ]
  },
  {
   "cell_type": "code",
   "execution_count": 151,
   "id": "a4a66641-2bc0-4bfe-8e12-78d8dfb86111",
   "metadata": {},
   "outputs": [
    {
     "data": {
      "text/html": [
       "<div>\n",
       "<style scoped>\n",
       "    .dataframe tbody tr th:only-of-type {\n",
       "        vertical-align: middle;\n",
       "    }\n",
       "\n",
       "    .dataframe tbody tr th {\n",
       "        vertical-align: top;\n",
       "    }\n",
       "\n",
       "    .dataframe thead th {\n",
       "        text-align: right;\n",
       "    }\n",
       "</style>\n",
       "<table border=\"1\" class=\"dataframe\">\n",
       "  <thead>\n",
       "    <tr style=\"text-align: right;\">\n",
       "      <th></th>\n",
       "      <th>Unnamed: 0</th>\n",
       "      <th>uuid</th>\n",
       "      <th>teos_volume</th>\n",
       "      <th>ammonia_volume</th>\n",
       "      <th>water_volume</th>\n",
       "      <th>ethanol_volume</th>\n",
       "      <th>dilution_volume_fraction</th>\n",
       "      <th>silica_mass_conc</th>\n",
       "      <th>silica_mass_fraction</th>\n",
       "      <th>ethanol_dilute_vol</th>\n",
       "      <th>sample_dilute_vol</th>\n",
       "      <th>well</th>\n",
       "      <th>dilute_well</th>\n",
       "    </tr>\n",
       "  </thead>\n",
       "  <tbody>\n",
       "    <tr>\n",
       "      <th>0</th>\n",
       "      <td>0</td>\n",
       "      <td>bbd1bfff-7563-4360-b5b8-86a1deb3928f</td>\n",
       "      <td>91.455773</td>\n",
       "      <td>121.416734</td>\n",
       "      <td>255.000010</td>\n",
       "      <td>1232.127483</td>\n",
       "      <td>0.414916</td>\n",
       "      <td>14.480053</td>\n",
       "      <td>0.017314</td>\n",
       "      <td>995.0</td>\n",
       "      <td>705.0</td>\n",
       "      <td>C7</td>\n",
       "      <td>C7</td>\n",
       "    </tr>\n",
       "    <tr>\n",
       "      <th>1</th>\n",
       "      <td>1</td>\n",
       "      <td>5b9ac046-6ca6-4ebc-87f3-e272edaedb7b</td>\n",
       "      <td>140.351853</td>\n",
       "      <td>8.500000</td>\n",
       "      <td>255.000010</td>\n",
       "      <td>1296.148137</td>\n",
       "      <td>0.270366</td>\n",
       "      <td>22.221694</td>\n",
       "      <td>0.026673</td>\n",
       "      <td>1240.0</td>\n",
       "      <td>460.0</td>\n",
       "      <td>C8</td>\n",
       "      <td>C8</td>\n",
       "    </tr>\n",
       "    <tr>\n",
       "      <th>2</th>\n",
       "      <td>2</td>\n",
       "      <td>9f782755-5ca4-4466-a1f1-a87ef665ed22</td>\n",
       "      <td>255.000010</td>\n",
       "      <td>42.990994</td>\n",
       "      <td>255.000010</td>\n",
       "      <td>1147.008985</td>\n",
       "      <td>0.148810</td>\n",
       "      <td>40.373762</td>\n",
       "      <td>0.047775</td>\n",
       "      <td>1447.0</td>\n",
       "      <td>253.0</td>\n",
       "      <td>D1</td>\n",
       "      <td>D1</td>\n",
       "    </tr>\n",
       "    <tr>\n",
       "      <th>3</th>\n",
       "      <td>3</td>\n",
       "      <td>f8b2207f-b63c-44d9-8fe4-70639fdd3f5c</td>\n",
       "      <td>255.000010</td>\n",
       "      <td>53.976205</td>\n",
       "      <td>8.500000</td>\n",
       "      <td>1382.523785</td>\n",
       "      <td>0.148810</td>\n",
       "      <td>40.373762</td>\n",
       "      <td>0.049511</td>\n",
       "      <td>1447.0</td>\n",
       "      <td>253.0</td>\n",
       "      <td>D2</td>\n",
       "      <td>D2</td>\n",
       "    </tr>\n",
       "    <tr>\n",
       "      <th>4</th>\n",
       "      <td>4</td>\n",
       "      <td>61431cc9-9557-45af-82c4-9e7acb251717</td>\n",
       "      <td>78.545307</td>\n",
       "      <td>77.696470</td>\n",
       "      <td>193.651897</td>\n",
       "      <td>1350.106326</td>\n",
       "      <td>0.483115</td>\n",
       "      <td>12.435958</td>\n",
       "      <td>0.015077</td>\n",
       "      <td>879.0</td>\n",
       "      <td>821.0</td>\n",
       "      <td>D3</td>\n",
       "      <td>D3</td>\n",
       "    </tr>\n",
       "    <tr>\n",
       "      <th>5</th>\n",
       "      <td>5</td>\n",
       "      <td>e773e91e-cdd8-466c-be37-8ff86cb7f610</td>\n",
       "      <td>52.806463</td>\n",
       "      <td>59.674126</td>\n",
       "      <td>39.147849</td>\n",
       "      <td>1548.371562</td>\n",
       "      <td>0.718594</td>\n",
       "      <td>8.360767</td>\n",
       "      <td>0.010419</td>\n",
       "      <td>478.0</td>\n",
       "      <td>1222.0</td>\n",
       "      <td>D4</td>\n",
       "      <td>D4</td>\n",
       "    </tr>\n",
       "    <tr>\n",
       "      <th>6</th>\n",
       "      <td>6</td>\n",
       "      <td>4559d494-fcc2-4dfc-a4cf-a14d93eb0029</td>\n",
       "      <td>102.107158</td>\n",
       "      <td>177.169546</td>\n",
       "      <td>8.500000</td>\n",
       "      <td>1412.223295</td>\n",
       "      <td>0.371633</td>\n",
       "      <td>16.166470</td>\n",
       "      <td>0.019945</td>\n",
       "      <td>1068.0</td>\n",
       "      <td>632.0</td>\n",
       "      <td>D5</td>\n",
       "      <td>D5</td>\n",
       "    </tr>\n",
       "    <tr>\n",
       "      <th>7</th>\n",
       "      <td>7</td>\n",
       "      <td>78e5ec30-0b59-4536-a9e0-21b4bac433a8</td>\n",
       "      <td>67.497684</td>\n",
       "      <td>128.016714</td>\n",
       "      <td>8.500000</td>\n",
       "      <td>1495.985602</td>\n",
       "      <td>0.562189</td>\n",
       "      <td>10.686805</td>\n",
       "      <td>0.013285</td>\n",
       "      <td>744.0</td>\n",
       "      <td>956.0</td>\n",
       "      <td>D6</td>\n",
       "      <td>D6</td>\n",
       "    </tr>\n",
       "    <tr>\n",
       "      <th>8</th>\n",
       "      <td>8</td>\n",
       "      <td>e42bc4d2-0157-425c-aed0-4cdec425d9ab</td>\n",
       "      <td>120.342861</td>\n",
       "      <td>146.735320</td>\n",
       "      <td>171.336467</td>\n",
       "      <td>1261.585352</td>\n",
       "      <td>0.315319</td>\n",
       "      <td>19.053701</td>\n",
       "      <td>0.022952</td>\n",
       "      <td>1164.0</td>\n",
       "      <td>536.0</td>\n",
       "      <td>D7</td>\n",
       "      <td>D7</td>\n",
       "    </tr>\n",
       "    <tr>\n",
       "      <th>9</th>\n",
       "      <td>9</td>\n",
       "      <td>4133ded3-a2c0-4d14-b4fb-578358436a04</td>\n",
       "      <td>17.000000</td>\n",
       "      <td>159.878042</td>\n",
       "      <td>8.500000</td>\n",
       "      <td>1514.621958</td>\n",
       "      <td>2.232143</td>\n",
       "      <td>2.691584</td>\n",
       "      <td>0.003355</td>\n",
       "      <td>0.0</td>\n",
       "      <td>1700.0</td>\n",
       "      <td>D8</td>\n",
       "      <td>D8</td>\n",
       "    </tr>\n",
       "    <tr>\n",
       "      <th>10</th>\n",
       "      <td>10</td>\n",
       "      <td>79149445-b04e-499f-bfa2-362ba81c3121</td>\n",
       "      <td>72.795379</td>\n",
       "      <td>70.436200</td>\n",
       "      <td>8.500000</td>\n",
       "      <td>1548.268421</td>\n",
       "      <td>0.521275</td>\n",
       "      <td>11.525581</td>\n",
       "      <td>0.014387</td>\n",
       "      <td>814.0</td>\n",
       "      <td>886.0</td>\n",
       "      <td>E1</td>\n",
       "      <td>E1</td>\n",
       "    </tr>\n",
       "    <tr>\n",
       "      <th>11</th>\n",
       "      <td>11</td>\n",
       "      <td>f2aac2f9-31c5-4eaf-be0b-ed9c1ec48ac4</td>\n",
       "      <td>105.384178</td>\n",
       "      <td>88.456498</td>\n",
       "      <td>250.912468</td>\n",
       "      <td>1255.246855</td>\n",
       "      <td>0.360077</td>\n",
       "      <td>16.685316</td>\n",
       "      <td>0.019986</td>\n",
       "      <td>1088.0</td>\n",
       "      <td>612.0</td>\n",
       "      <td>E3</td>\n",
       "      <td>E3</td>\n",
       "    </tr>\n",
       "    <tr>\n",
       "      <th>12</th>\n",
       "      <td>12</td>\n",
       "      <td>97be35cc-6af5-4906-a5ec-6c5ab5836951</td>\n",
       "      <td>104.194804</td>\n",
       "      <td>128.661020</td>\n",
       "      <td>8.500000</td>\n",
       "      <td>1458.644176</td>\n",
       "      <td>0.364187</td>\n",
       "      <td>16.497004</td>\n",
       "      <td>0.020429</td>\n",
       "      <td>1081.0</td>\n",
       "      <td>619.0</td>\n",
       "      <td>E4</td>\n",
       "      <td>E4</td>\n",
       "    </tr>\n",
       "    <tr>\n",
       "      <th>13</th>\n",
       "      <td>13</td>\n",
       "      <td>6f651325-aa30-4e15-a8b8-8550752155de</td>\n",
       "      <td>17.000000</td>\n",
       "      <td>186.999999</td>\n",
       "      <td>8.500000</td>\n",
       "      <td>1487.500002</td>\n",
       "      <td>2.232143</td>\n",
       "      <td>2.691584</td>\n",
       "      <td>0.003348</td>\n",
       "      <td>0.0</td>\n",
       "      <td>1700.0</td>\n",
       "      <td>E5</td>\n",
       "      <td>E5</td>\n",
       "    </tr>\n",
       "    <tr>\n",
       "      <th>14</th>\n",
       "      <td>14</td>\n",
       "      <td>884360fc-1d5b-45f3-b018-3a687b81f8a7</td>\n",
       "      <td>190.498775</td>\n",
       "      <td>74.557186</td>\n",
       "      <td>157.476255</td>\n",
       "      <td>1277.467784</td>\n",
       "      <td>0.199195</td>\n",
       "      <td>30.161380</td>\n",
       "      <td>0.036354</td>\n",
       "      <td>1361.0</td>\n",
       "      <td>339.0</td>\n",
       "      <td>E6</td>\n",
       "      <td>E6</td>\n",
       "    </tr>\n",
       "    <tr>\n",
       "      <th>15</th>\n",
       "      <td>15</td>\n",
       "      <td>45d13e36-5ae6-4aba-a657-a6cce9fb8db6</td>\n",
       "      <td>61.079639</td>\n",
       "      <td>133.803360</td>\n",
       "      <td>255.000010</td>\n",
       "      <td>1250.116991</td>\n",
       "      <td>0.621262</td>\n",
       "      <td>9.670646</td>\n",
       "      <td>0.011588</td>\n",
       "      <td>644.0</td>\n",
       "      <td>1056.0</td>\n",
       "      <td>E8</td>\n",
       "      <td>E8</td>\n",
       "    </tr>\n",
       "    <tr>\n",
       "      <th>16</th>\n",
       "      <td>16</td>\n",
       "      <td>76e61e49-8d12-493d-aa0e-e367cf9222a1</td>\n",
       "      <td>125.772466</td>\n",
       "      <td>186.999999</td>\n",
       "      <td>49.355634</td>\n",
       "      <td>1337.871901</td>\n",
       "      <td>0.301707</td>\n",
       "      <td>19.913362</td>\n",
       "      <td>0.024338</td>\n",
       "      <td>1187.0</td>\n",
       "      <td>513.0</td>\n",
       "      <td>F1</td>\n",
       "      <td>F1</td>\n",
       "    </tr>\n",
       "    <tr>\n",
       "      <th>17</th>\n",
       "      <td>17</td>\n",
       "      <td>cb91c3d6-d0df-437e-a504-7433689fb381</td>\n",
       "      <td>17.000000</td>\n",
       "      <td>186.999999</td>\n",
       "      <td>255.000010</td>\n",
       "      <td>1240.999991</td>\n",
       "      <td>2.232143</td>\n",
       "      <td>2.691584</td>\n",
       "      <td>0.003226</td>\n",
       "      <td>0.0</td>\n",
       "      <td>1700.0</td>\n",
       "      <td>F2</td>\n",
       "      <td>F2</td>\n",
       "    </tr>\n",
       "    <tr>\n",
       "      <th>18</th>\n",
       "      <td>18</td>\n",
       "      <td>2ef2ca93-424e-4bab-ab05-e1a4a365afc9</td>\n",
       "      <td>140.084917</td>\n",
       "      <td>99.182012</td>\n",
       "      <td>28.917468</td>\n",
       "      <td>1431.815603</td>\n",
       "      <td>0.270882</td>\n",
       "      <td>22.179431</td>\n",
       "      <td>0.027342</td>\n",
       "      <td>1240.0</td>\n",
       "      <td>460.0</td>\n",
       "      <td>F3</td>\n",
       "      <td>F3</td>\n",
       "    </tr>\n",
       "    <tr>\n",
       "      <th>19</th>\n",
       "      <td>19</td>\n",
       "      <td>2c2e06ba-fd0d-4b67-ac27-94a71a40985c</td>\n",
       "      <td>154.968959</td>\n",
       "      <td>133.155064</td>\n",
       "      <td>199.449208</td>\n",
       "      <td>1212.426769</td>\n",
       "      <td>0.244865</td>\n",
       "      <td>24.535998</td>\n",
       "      <td>0.029362</td>\n",
       "      <td>1284.0</td>\n",
       "      <td>416.0</td>\n",
       "      <td>F4</td>\n",
       "      <td>F4</td>\n",
       "    </tr>\n",
       "  </tbody>\n",
       "</table>\n",
       "</div>"
      ],
      "text/plain": [
       "    Unnamed: 0                                  uuid  teos_volume  \\\n",
       "0            0  bbd1bfff-7563-4360-b5b8-86a1deb3928f    91.455773   \n",
       "1            1  5b9ac046-6ca6-4ebc-87f3-e272edaedb7b   140.351853   \n",
       "2            2  9f782755-5ca4-4466-a1f1-a87ef665ed22   255.000010   \n",
       "3            3  f8b2207f-b63c-44d9-8fe4-70639fdd3f5c   255.000010   \n",
       "4            4  61431cc9-9557-45af-82c4-9e7acb251717    78.545307   \n",
       "5            5  e773e91e-cdd8-466c-be37-8ff86cb7f610    52.806463   \n",
       "6            6  4559d494-fcc2-4dfc-a4cf-a14d93eb0029   102.107158   \n",
       "7            7  78e5ec30-0b59-4536-a9e0-21b4bac433a8    67.497684   \n",
       "8            8  e42bc4d2-0157-425c-aed0-4cdec425d9ab   120.342861   \n",
       "9            9  4133ded3-a2c0-4d14-b4fb-578358436a04    17.000000   \n",
       "10          10  79149445-b04e-499f-bfa2-362ba81c3121    72.795379   \n",
       "11          11  f2aac2f9-31c5-4eaf-be0b-ed9c1ec48ac4   105.384178   \n",
       "12          12  97be35cc-6af5-4906-a5ec-6c5ab5836951   104.194804   \n",
       "13          13  6f651325-aa30-4e15-a8b8-8550752155de    17.000000   \n",
       "14          14  884360fc-1d5b-45f3-b018-3a687b81f8a7   190.498775   \n",
       "15          15  45d13e36-5ae6-4aba-a657-a6cce9fb8db6    61.079639   \n",
       "16          16  76e61e49-8d12-493d-aa0e-e367cf9222a1   125.772466   \n",
       "17          17  cb91c3d6-d0df-437e-a504-7433689fb381    17.000000   \n",
       "18          18  2ef2ca93-424e-4bab-ab05-e1a4a365afc9   140.084917   \n",
       "19          19  2c2e06ba-fd0d-4b67-ac27-94a71a40985c   154.968959   \n",
       "\n",
       "    ammonia_volume  water_volume  ethanol_volume  dilution_volume_fraction  \\\n",
       "0       121.416734    255.000010     1232.127483                  0.414916   \n",
       "1         8.500000    255.000010     1296.148137                  0.270366   \n",
       "2        42.990994    255.000010     1147.008985                  0.148810   \n",
       "3        53.976205      8.500000     1382.523785                  0.148810   \n",
       "4        77.696470    193.651897     1350.106326                  0.483115   \n",
       "5        59.674126     39.147849     1548.371562                  0.718594   \n",
       "6       177.169546      8.500000     1412.223295                  0.371633   \n",
       "7       128.016714      8.500000     1495.985602                  0.562189   \n",
       "8       146.735320    171.336467     1261.585352                  0.315319   \n",
       "9       159.878042      8.500000     1514.621958                  2.232143   \n",
       "10       70.436200      8.500000     1548.268421                  0.521275   \n",
       "11       88.456498    250.912468     1255.246855                  0.360077   \n",
       "12      128.661020      8.500000     1458.644176                  0.364187   \n",
       "13      186.999999      8.500000     1487.500002                  2.232143   \n",
       "14       74.557186    157.476255     1277.467784                  0.199195   \n",
       "15      133.803360    255.000010     1250.116991                  0.621262   \n",
       "16      186.999999     49.355634     1337.871901                  0.301707   \n",
       "17      186.999999    255.000010     1240.999991                  2.232143   \n",
       "18       99.182012     28.917468     1431.815603                  0.270882   \n",
       "19      133.155064    199.449208     1212.426769                  0.244865   \n",
       "\n",
       "    silica_mass_conc  silica_mass_fraction  ethanol_dilute_vol  \\\n",
       "0          14.480053              0.017314               995.0   \n",
       "1          22.221694              0.026673              1240.0   \n",
       "2          40.373762              0.047775              1447.0   \n",
       "3          40.373762              0.049511              1447.0   \n",
       "4          12.435958              0.015077               879.0   \n",
       "5           8.360767              0.010419               478.0   \n",
       "6          16.166470              0.019945              1068.0   \n",
       "7          10.686805              0.013285               744.0   \n",
       "8          19.053701              0.022952              1164.0   \n",
       "9           2.691584              0.003355                 0.0   \n",
       "10         11.525581              0.014387               814.0   \n",
       "11         16.685316              0.019986              1088.0   \n",
       "12         16.497004              0.020429              1081.0   \n",
       "13          2.691584              0.003348                 0.0   \n",
       "14         30.161380              0.036354              1361.0   \n",
       "15          9.670646              0.011588               644.0   \n",
       "16         19.913362              0.024338              1187.0   \n",
       "17          2.691584              0.003226                 0.0   \n",
       "18         22.179431              0.027342              1240.0   \n",
       "19         24.535998              0.029362              1284.0   \n",
       "\n",
       "    sample_dilute_vol well dilute_well  \n",
       "0               705.0   C7          C7  \n",
       "1               460.0   C8          C8  \n",
       "2               253.0   D1          D1  \n",
       "3               253.0   D2          D2  \n",
       "4               821.0   D3          D3  \n",
       "5              1222.0   D4          D4  \n",
       "6               632.0   D5          D5  \n",
       "7               956.0   D6          D6  \n",
       "8               536.0   D7          D7  \n",
       "9              1700.0   D8          D8  \n",
       "10              886.0   E1          E1  \n",
       "11              612.0   E3          E3  \n",
       "12              619.0   E4          E4  \n",
       "13             1700.0   E5          E5  \n",
       "14              339.0   E6          E6  \n",
       "15             1056.0   E8          E8  \n",
       "16              513.0   F1          F1  \n",
       "17             1700.0   F2          F2  \n",
       "18              460.0   F3          F3  \n",
       "19              416.0   F4          F4  "
      ]
     },
     "execution_count": 151,
     "metadata": {},
     "output_type": "execute_result"
    }
   ],
   "source": [
    "dilution_table_apdist"
   ]
  },
  {
   "cell_type": "code",
   "execution_count": null,
   "id": "438b544c-b4c3-47dd-b2b3-64f111416b9b",
   "metadata": {},
   "outputs": [],
   "source": []
  }
 ],
 "metadata": {
  "kernelspec": {
   "display_name": "Python 3 (ipykernel)",
   "language": "python",
   "name": "python3"
  },
  "language_info": {
   "codemirror_mode": {
    "name": "ipython",
    "version": 3
   },
   "file_extension": ".py",
   "mimetype": "text/x-python",
   "name": "python",
   "nbconvert_exporter": "python",
   "pygments_lexer": "ipython3",
   "version": "3.9.19"
  }
 },
 "nbformat": 4,
 "nbformat_minor": 5
}
