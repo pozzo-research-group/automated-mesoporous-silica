{
 "cells": [
  {
   "cell_type": "markdown",
   "id": "110d0499-187d-47cb-b3bd-52e828f810d0",
   "metadata": {},
   "source": [
    "## Setup"
   ]
  },
  {
   "cell_type": "code",
   "execution_count": 1,
   "id": "023a9737-b2dd-4151-af0b-67ea2aeb7386",
   "metadata": {},
   "outputs": [],
   "source": [
    "%load_ext autoreload\n",
    "%autoreload 2"
   ]
  },
  {
   "cell_type": "code",
   "execution_count": 2,
   "id": "a8305f4f-98d9-46aa-b3a5-aef3875465c8",
   "metadata": {},
   "outputs": [],
   "source": [
    "import requests\n",
    "\n",
    "# ----------- Science Jubilee -------------\n",
    "from science_jubilee import Machine as Jub\n",
    "from science_jubilee.tools import HTTPSyringe as syringe\n",
    "from science_jubilee.tools import Pipette\n",
    "from science_jubilee.utils import Handlers\n",
    "import time\n",
    "import numpy as np\n",
    "import pandas as pd\n",
    "import logging\n",
    "import sys\n",
    "sys.path.append('../..')\n",
    "import stober_synthesis_utils as stober"
   ]
  },
  {
   "cell_type": "code",
   "execution_count": 3,
   "id": "39e0dd27-900a-4151-ad77-cae178e545d7",
   "metadata": {},
   "outputs": [],
   "source": [
    "FORMAT = '%(asctime)s:%(levelname)s:%(name)s:%(message)s'\n",
    "logging.basicConfig(filename = '2025_01_31_80nmRound2_Opt.log', level = logging.INFO, format = FORMAT)\n",
    "logger = logging.getLogger(__name__)"
   ]
  },
  {
   "cell_type": "code",
   "execution_count": 4,
   "id": "bb05bc51-e88d-493a-b7ae-ec244bab05d1",
   "metadata": {
    "scrolled": true
   },
   "outputs": [],
   "source": [
    "jubilee = Jub.Machine(address='192.168.1.2', simulated = False, crash_detection = False) "
   ]
  },
  {
   "cell_type": "raw",
   "id": "23f14450-b2fd-46b7-82b2-a17b1061fde5",
   "metadata": {
    "scrolled": true
   },
   "source": [
    "#jubilee.home_all()\n",
    "logger.info('Homed Jubilee')"
   ]
  },
  {
   "cell_type": "code",
   "execution_count": 5,
   "id": "7dd1d29b-638a-4d85-9cf3-986931deae0f",
   "metadata": {},
   "outputs": [],
   "source": [
    "deck = jubilee.load_deck('lab_automation_deck_AFL_bolton.json')"
   ]
  },
  {
   "cell_type": "code",
   "execution_count": 6,
   "id": "d2505692-e098-4cf7-954a-b2ac9d91e06f",
   "metadata": {},
   "outputs": [],
   "source": [
    "sample_table_rmse = pd.read_csv('Sample_table_2025_01_30_80nmbatch2_rmse.csv')\n",
    "sample_table_apdist = pd.read_csv('Sample_table_2025_01_30_80nm_Round2_apdist.csv')"
   ]
  },
  {
   "cell_type": "code",
   "execution_count": 7,
   "id": "04e35a37-8f81-4eab-acdc-27dded253257",
   "metadata": {},
   "outputs": [
    {
     "data": {
      "text/html": [
       "<div>\n",
       "<style scoped>\n",
       "    .dataframe tbody tr th:only-of-type {\n",
       "        vertical-align: middle;\n",
       "    }\n",
       "\n",
       "    .dataframe tbody tr th {\n",
       "        vertical-align: top;\n",
       "    }\n",
       "\n",
       "    .dataframe thead th {\n",
       "        text-align: right;\n",
       "    }\n",
       "</style>\n",
       "<table border=\"1\" class=\"dataframe\">\n",
       "  <thead>\n",
       "    <tr style=\"text-align: right;\">\n",
       "      <th></th>\n",
       "      <th>Unnamed: 0</th>\n",
       "      <th>uuid</th>\n",
       "      <th>teos_volume</th>\n",
       "      <th>ammonia_volume</th>\n",
       "      <th>water_volume</th>\n",
       "      <th>ethanol_volume</th>\n",
       "      <th>dilution_volume_fraction</th>\n",
       "      <th>silica_mass_conc</th>\n",
       "      <th>silica_mass_fraction</th>\n",
       "      <th>ethanol_dilute_vol</th>\n",
       "      <th>sample_dilute_vol</th>\n",
       "      <th>well</th>\n",
       "      <th>dilute_well</th>\n",
       "    </tr>\n",
       "  </thead>\n",
       "  <tbody>\n",
       "    <tr>\n",
       "      <th>0</th>\n",
       "      <td>0</td>\n",
       "      <td>0bfe570a-c73d-4628-95a0-2a6d5b319df9</td>\n",
       "      <td>327.643383</td>\n",
       "      <td>423.326172</td>\n",
       "      <td>726.750029</td>\n",
       "      <td>222.280416</td>\n",
       "      <td>0.330076</td>\n",
       "      <td>18.201851</td>\n",
       "      <td>0.021666</td>\n",
       "      <td>1139.0</td>\n",
       "      <td>561.0</td>\n",
       "      <td>B4</td>\n",
       "      <td>E1</td>\n",
       "    </tr>\n",
       "    <tr>\n",
       "      <th>1</th>\n",
       "      <td>1</td>\n",
       "      <td>13baad0b-f873-4239-ba58-eebe0789cecb</td>\n",
       "      <td>484.500007</td>\n",
       "      <td>369.990309</td>\n",
       "      <td>726.750029</td>\n",
       "      <td>118.759655</td>\n",
       "      <td>0.223214</td>\n",
       "      <td>26.915840</td>\n",
       "      <td>0.031908</td>\n",
       "      <td>1321.0</td>\n",
       "      <td>379.0</td>\n",
       "      <td>B5</td>\n",
       "      <td>E3</td>\n",
       "    </tr>\n",
       "    <tr>\n",
       "      <th>2</th>\n",
       "      <td>2</td>\n",
       "      <td>c7368ca4-ab47-4788-9336-d8dc80ee8273</td>\n",
       "      <td>359.061982</td>\n",
       "      <td>264.690743</td>\n",
       "      <td>24.224999</td>\n",
       "      <td>1052.022275</td>\n",
       "      <td>0.301194</td>\n",
       "      <td>19.947275</td>\n",
       "      <td>0.024716</td>\n",
       "      <td>1188.0</td>\n",
       "      <td>512.0</td>\n",
       "      <td>B6</td>\n",
       "      <td>E4</td>\n",
       "    </tr>\n",
       "    <tr>\n",
       "      <th>3</th>\n",
       "      <td>3</td>\n",
       "      <td>c51cf7d2-8b37-4a2a-a800-0e628289334c</td>\n",
       "      <td>24.224999</td>\n",
       "      <td>226.018131</td>\n",
       "      <td>215.579022</td>\n",
       "      <td>1234.177848</td>\n",
       "      <td>4.464286</td>\n",
       "      <td>1.345792</td>\n",
       "      <td>0.001673</td>\n",
       "      <td>0.0</td>\n",
       "      <td>1700.0</td>\n",
       "      <td>B8</td>\n",
       "      <td>E5</td>\n",
       "    </tr>\n",
       "    <tr>\n",
       "      <th>4</th>\n",
       "      <td>4</td>\n",
       "      <td>b8ffa852-0645-4ddb-b587-7c24d2cc1dbf</td>\n",
       "      <td>24.224999</td>\n",
       "      <td>122.225984</td>\n",
       "      <td>726.750029</td>\n",
       "      <td>826.798988</td>\n",
       "      <td>4.464286</td>\n",
       "      <td>1.345792</td>\n",
       "      <td>0.001633</td>\n",
       "      <td>0.0</td>\n",
       "      <td>1700.0</td>\n",
       "      <td>C1</td>\n",
       "      <td>E6</td>\n",
       "    </tr>\n",
       "    <tr>\n",
       "      <th>5</th>\n",
       "      <td>5</td>\n",
       "      <td>a01ce3b0-5fd4-4078-8821-881fd5338ce8</td>\n",
       "      <td>400.367840</td>\n",
       "      <td>391.086414</td>\n",
       "      <td>726.750029</td>\n",
       "      <td>181.795717</td>\n",
       "      <td>0.270120</td>\n",
       "      <td>22.241975</td>\n",
       "      <td>0.026431</td>\n",
       "      <td>1241.0</td>\n",
       "      <td>459.0</td>\n",
       "      <td>C2</td>\n",
       "      <td>E8</td>\n",
       "    </tr>\n",
       "    <tr>\n",
       "      <th>6</th>\n",
       "      <td>6</td>\n",
       "      <td>48da5aa2-9f93-4512-843c-098b23a1880b</td>\n",
       "      <td>484.500007</td>\n",
       "      <td>184.061262</td>\n",
       "      <td>24.224999</td>\n",
       "      <td>1007.213732</td>\n",
       "      <td>0.223214</td>\n",
       "      <td>26.915840</td>\n",
       "      <td>0.033273</td>\n",
       "      <td>1321.0</td>\n",
       "      <td>379.0</td>\n",
       "      <td>C3</td>\n",
       "      <td>F1</td>\n",
       "    </tr>\n",
       "    <tr>\n",
       "      <th>7</th>\n",
       "      <td>7</td>\n",
       "      <td>331fe194-adb0-47d4-a81b-e16511d87d9b</td>\n",
       "      <td>484.500007</td>\n",
       "      <td>66.244823</td>\n",
       "      <td>726.750029</td>\n",
       "      <td>422.505141</td>\n",
       "      <td>0.223214</td>\n",
       "      <td>26.915840</td>\n",
       "      <td>0.032174</td>\n",
       "      <td>1321.0</td>\n",
       "      <td>379.0</td>\n",
       "      <td>C4</td>\n",
       "      <td>F2</td>\n",
       "    </tr>\n",
       "    <tr>\n",
       "      <th>8</th>\n",
       "      <td>8</td>\n",
       "      <td>2cf0de63-e0fd-4c8c-ae3a-073ff1f6e3d2</td>\n",
       "      <td>312.735605</td>\n",
       "      <td>116.733826</td>\n",
       "      <td>726.750029</td>\n",
       "      <td>543.780540</td>\n",
       "      <td>0.345811</td>\n",
       "      <td>17.373667</td>\n",
       "      <td>0.020866</td>\n",
       "      <td>1112.0</td>\n",
       "      <td>588.0</td>\n",
       "      <td>C5</td>\n",
       "      <td>F3</td>\n",
       "    </tr>\n",
       "    <tr>\n",
       "      <th>9</th>\n",
       "      <td>9</td>\n",
       "      <td>700ad869-4932-42ae-83f4-3b50b7318c9b</td>\n",
       "      <td>484.500007</td>\n",
       "      <td>254.899054</td>\n",
       "      <td>726.750029</td>\n",
       "      <td>233.850910</td>\n",
       "      <td>0.223214</td>\n",
       "      <td>26.915840</td>\n",
       "      <td>0.032008</td>\n",
       "      <td>1321.0</td>\n",
       "      <td>379.0</td>\n",
       "      <td>C6</td>\n",
       "      <td>F4</td>\n",
       "    </tr>\n",
       "  </tbody>\n",
       "</table>\n",
       "</div>"
      ],
      "text/plain": [
       "   Unnamed: 0                                  uuid  teos_volume  \\\n",
       "0           0  0bfe570a-c73d-4628-95a0-2a6d5b319df9   327.643383   \n",
       "1           1  13baad0b-f873-4239-ba58-eebe0789cecb   484.500007   \n",
       "2           2  c7368ca4-ab47-4788-9336-d8dc80ee8273   359.061982   \n",
       "3           3  c51cf7d2-8b37-4a2a-a800-0e628289334c    24.224999   \n",
       "4           4  b8ffa852-0645-4ddb-b587-7c24d2cc1dbf    24.224999   \n",
       "5           5  a01ce3b0-5fd4-4078-8821-881fd5338ce8   400.367840   \n",
       "6           6  48da5aa2-9f93-4512-843c-098b23a1880b   484.500007   \n",
       "7           7  331fe194-adb0-47d4-a81b-e16511d87d9b   484.500007   \n",
       "8           8  2cf0de63-e0fd-4c8c-ae3a-073ff1f6e3d2   312.735605   \n",
       "9           9  700ad869-4932-42ae-83f4-3b50b7318c9b   484.500007   \n",
       "\n",
       "   ammonia_volume  water_volume  ethanol_volume  dilution_volume_fraction  \\\n",
       "0      423.326172    726.750029      222.280416                  0.330076   \n",
       "1      369.990309    726.750029      118.759655                  0.223214   \n",
       "2      264.690743     24.224999     1052.022275                  0.301194   \n",
       "3      226.018131    215.579022     1234.177848                  4.464286   \n",
       "4      122.225984    726.750029      826.798988                  4.464286   \n",
       "5      391.086414    726.750029      181.795717                  0.270120   \n",
       "6      184.061262     24.224999     1007.213732                  0.223214   \n",
       "7       66.244823    726.750029      422.505141                  0.223214   \n",
       "8      116.733826    726.750029      543.780540                  0.345811   \n",
       "9      254.899054    726.750029      233.850910                  0.223214   \n",
       "\n",
       "   silica_mass_conc  silica_mass_fraction  ethanol_dilute_vol  \\\n",
       "0         18.201851              0.021666              1139.0   \n",
       "1         26.915840              0.031908              1321.0   \n",
       "2         19.947275              0.024716              1188.0   \n",
       "3          1.345792              0.001673                 0.0   \n",
       "4          1.345792              0.001633                 0.0   \n",
       "5         22.241975              0.026431              1241.0   \n",
       "6         26.915840              0.033273              1321.0   \n",
       "7         26.915840              0.032174              1321.0   \n",
       "8         17.373667              0.020866              1112.0   \n",
       "9         26.915840              0.032008              1321.0   \n",
       "\n",
       "   sample_dilute_vol well dilute_well  \n",
       "0              561.0   B4          E1  \n",
       "1              379.0   B5          E3  \n",
       "2              512.0   B6          E4  \n",
       "3             1700.0   B8          E5  \n",
       "4             1700.0   C1          E6  \n",
       "5              459.0   C2          E8  \n",
       "6              379.0   C3          F1  \n",
       "7              379.0   C4          F2  \n",
       "8              588.0   C5          F3  \n",
       "9              379.0   C6          F4  "
      ]
     },
     "execution_count": 7,
     "metadata": {},
     "output_type": "execute_result"
    }
   ],
   "source": [
    "sample_table_rmse"
   ]
  },
  {
   "cell_type": "code",
   "execution_count": 8,
   "id": "20bc875d-f362-4e97-914b-fda839a4d502",
   "metadata": {},
   "outputs": [
    {
     "data": {
      "text/html": [
       "<div>\n",
       "<style scoped>\n",
       "    .dataframe tbody tr th:only-of-type {\n",
       "        vertical-align: middle;\n",
       "    }\n",
       "\n",
       "    .dataframe tbody tr th {\n",
       "        vertical-align: top;\n",
       "    }\n",
       "\n",
       "    .dataframe thead th {\n",
       "        text-align: right;\n",
       "    }\n",
       "</style>\n",
       "<table border=\"1\" class=\"dataframe\">\n",
       "  <thead>\n",
       "    <tr style=\"text-align: right;\">\n",
       "      <th></th>\n",
       "      <th>Unnamed: 0</th>\n",
       "      <th>uuid</th>\n",
       "      <th>teos_volume</th>\n",
       "      <th>ammonia_volume</th>\n",
       "      <th>water_volume</th>\n",
       "      <th>ethanol_volume</th>\n",
       "      <th>dilution_volume_fraction</th>\n",
       "      <th>silica_mass_conc</th>\n",
       "      <th>silica_mass_fraction</th>\n",
       "      <th>ethanol_dilute_vol</th>\n",
       "      <th>sample_dilute_vol</th>\n",
       "      <th>well</th>\n",
       "      <th>dilute_well</th>\n",
       "    </tr>\n",
       "  </thead>\n",
       "  <tbody>\n",
       "    <tr>\n",
       "      <th>0</th>\n",
       "      <td>0</td>\n",
       "      <td>89da42c0-d6c2-4797-816d-122cf69c896e</td>\n",
       "      <td>73.559807</td>\n",
       "      <td>123.311777</td>\n",
       "      <td>423.360790</td>\n",
       "      <td>1079.767626</td>\n",
       "      <td>1.470196</td>\n",
       "      <td>4.086530</td>\n",
       "      <td>0.005029</td>\n",
       "      <td>0.0</td>\n",
       "      <td>1700.0</td>\n",
       "      <td>A1</td>\n",
       "      <td>C7</td>\n",
       "    </tr>\n",
       "    <tr>\n",
       "      <th>1</th>\n",
       "      <td>1</td>\n",
       "      <td>85960d22-ab40-4cb4-a325-6b021a6be6bb</td>\n",
       "      <td>107.035594</td>\n",
       "      <td>378.031117</td>\n",
       "      <td>636.690271</td>\n",
       "      <td>578.243018</td>\n",
       "      <td>1.010387</td>\n",
       "      <td>5.946239</td>\n",
       "      <td>0.007176</td>\n",
       "      <td>0.0</td>\n",
       "      <td>1700.0</td>\n",
       "      <td>A2</td>\n",
       "      <td>C8</td>\n",
       "    </tr>\n",
       "    <tr>\n",
       "      <th>2</th>\n",
       "      <td>2</td>\n",
       "      <td>de29a3a6-f8a1-4a5c-91ac-5619a023658a</td>\n",
       "      <td>64.350420</td>\n",
       "      <td>127.046988</td>\n",
       "      <td>24.224999</td>\n",
       "      <td>1484.377593</td>\n",
       "      <td>1.680600</td>\n",
       "      <td>3.574914</td>\n",
       "      <td>0.004496</td>\n",
       "      <td>0.0</td>\n",
       "      <td>1700.0</td>\n",
       "      <td>A3</td>\n",
       "      <td>D1</td>\n",
       "    </tr>\n",
       "    <tr>\n",
       "      <th>3</th>\n",
       "      <td>3</td>\n",
       "      <td>51399e9b-be16-4017-b11e-6ed648524864</td>\n",
       "      <td>305.825641</td>\n",
       "      <td>324.335862</td>\n",
       "      <td>487.656097</td>\n",
       "      <td>582.182400</td>\n",
       "      <td>0.353624</td>\n",
       "      <td>16.989792</td>\n",
       "      <td>0.020547</td>\n",
       "      <td>1099.0</td>\n",
       "      <td>601.0</td>\n",
       "      <td>A4</td>\n",
       "      <td>D2</td>\n",
       "    </tr>\n",
       "    <tr>\n",
       "      <th>4</th>\n",
       "      <td>4</td>\n",
       "      <td>fe1c667e-1c75-4505-ae6f-3ac9ff380abd</td>\n",
       "      <td>294.866468</td>\n",
       "      <td>301.928422</td>\n",
       "      <td>24.224999</td>\n",
       "      <td>1078.980110</td>\n",
       "      <td>0.366767</td>\n",
       "      <td>16.380967</td>\n",
       "      <td>0.020324</td>\n",
       "      <td>1076.0</td>\n",
       "      <td>624.0</td>\n",
       "      <td>A5</td>\n",
       "      <td>D3</td>\n",
       "    </tr>\n",
       "    <tr>\n",
       "      <th>5</th>\n",
       "      <td>5</td>\n",
       "      <td>b95e9e19-0e75-49cc-a3c0-5a04ecc43d6b</td>\n",
       "      <td>266.717957</td>\n",
       "      <td>60.547525</td>\n",
       "      <td>163.415245</td>\n",
       "      <td>1209.319273</td>\n",
       "      <td>0.405474</td>\n",
       "      <td>14.817209</td>\n",
       "      <td>0.018392</td>\n",
       "      <td>1011.0</td>\n",
       "      <td>689.0</td>\n",
       "      <td>A6</td>\n",
       "      <td>D4</td>\n",
       "    </tr>\n",
       "    <tr>\n",
       "      <th>6</th>\n",
       "      <td>6</td>\n",
       "      <td>2402a10c-a5e0-47a1-80cf-13579864101f</td>\n",
       "      <td>320.998596</td>\n",
       "      <td>294.608475</td>\n",
       "      <td>636.863397</td>\n",
       "      <td>447.529532</td>\n",
       "      <td>0.336909</td>\n",
       "      <td>17.832708</td>\n",
       "      <td>0.021406</td>\n",
       "      <td>1127.0</td>\n",
       "      <td>573.0</td>\n",
       "      <td>A7</td>\n",
       "      <td>D5</td>\n",
       "    </tr>\n",
       "    <tr>\n",
       "      <th>7</th>\n",
       "      <td>7</td>\n",
       "      <td>02cf2067-1f41-45ff-b934-d79933ce0d9d</td>\n",
       "      <td>24.224999</td>\n",
       "      <td>484.500007</td>\n",
       "      <td>183.835270</td>\n",
       "      <td>1007.439724</td>\n",
       "      <td>4.464286</td>\n",
       "      <td>1.345792</td>\n",
       "      <td>0.001663</td>\n",
       "      <td>0.0</td>\n",
       "      <td>1700.0</td>\n",
       "      <td>A8</td>\n",
       "      <td>D6</td>\n",
       "    </tr>\n",
       "    <tr>\n",
       "      <th>8</th>\n",
       "      <td>8</td>\n",
       "      <td>5a500297-11d3-44b0-b7d9-98b6753df47b</td>\n",
       "      <td>86.161510</td>\n",
       "      <td>121.015886</td>\n",
       "      <td>24.224999</td>\n",
       "      <td>1468.597604</td>\n",
       "      <td>1.255170</td>\n",
       "      <td>4.786604</td>\n",
       "      <td>0.006016</td>\n",
       "      <td>0.0</td>\n",
       "      <td>1700.0</td>\n",
       "      <td>B1</td>\n",
       "      <td>D7</td>\n",
       "    </tr>\n",
       "    <tr>\n",
       "      <th>9</th>\n",
       "      <td>9</td>\n",
       "      <td>ae77b287-f241-4b36-8915-b9eaac29d424</td>\n",
       "      <td>356.545586</td>\n",
       "      <td>135.201938</td>\n",
       "      <td>194.015700</td>\n",
       "      <td>1014.236777</td>\n",
       "      <td>0.303320</td>\n",
       "      <td>19.807480</td>\n",
       "      <td>0.024413</td>\n",
       "      <td>1184.0</td>\n",
       "      <td>516.0</td>\n",
       "      <td>B3</td>\n",
       "      <td>D8</td>\n",
       "    </tr>\n",
       "  </tbody>\n",
       "</table>\n",
       "</div>"
      ],
      "text/plain": [
       "   Unnamed: 0                                  uuid  teos_volume  \\\n",
       "0           0  89da42c0-d6c2-4797-816d-122cf69c896e    73.559807   \n",
       "1           1  85960d22-ab40-4cb4-a325-6b021a6be6bb   107.035594   \n",
       "2           2  de29a3a6-f8a1-4a5c-91ac-5619a023658a    64.350420   \n",
       "3           3  51399e9b-be16-4017-b11e-6ed648524864   305.825641   \n",
       "4           4  fe1c667e-1c75-4505-ae6f-3ac9ff380abd   294.866468   \n",
       "5           5  b95e9e19-0e75-49cc-a3c0-5a04ecc43d6b   266.717957   \n",
       "6           6  2402a10c-a5e0-47a1-80cf-13579864101f   320.998596   \n",
       "7           7  02cf2067-1f41-45ff-b934-d79933ce0d9d    24.224999   \n",
       "8           8  5a500297-11d3-44b0-b7d9-98b6753df47b    86.161510   \n",
       "9           9  ae77b287-f241-4b36-8915-b9eaac29d424   356.545586   \n",
       "\n",
       "   ammonia_volume  water_volume  ethanol_volume  dilution_volume_fraction  \\\n",
       "0      123.311777    423.360790     1079.767626                  1.470196   \n",
       "1      378.031117    636.690271      578.243018                  1.010387   \n",
       "2      127.046988     24.224999     1484.377593                  1.680600   \n",
       "3      324.335862    487.656097      582.182400                  0.353624   \n",
       "4      301.928422     24.224999     1078.980110                  0.366767   \n",
       "5       60.547525    163.415245     1209.319273                  0.405474   \n",
       "6      294.608475    636.863397      447.529532                  0.336909   \n",
       "7      484.500007    183.835270     1007.439724                  4.464286   \n",
       "8      121.015886     24.224999     1468.597604                  1.255170   \n",
       "9      135.201938    194.015700     1014.236777                  0.303320   \n",
       "\n",
       "   silica_mass_conc  silica_mass_fraction  ethanol_dilute_vol  \\\n",
       "0          4.086530              0.005029                 0.0   \n",
       "1          5.946239              0.007176                 0.0   \n",
       "2          3.574914              0.004496                 0.0   \n",
       "3         16.989792              0.020547              1099.0   \n",
       "4         16.380967              0.020324              1076.0   \n",
       "5         14.817209              0.018392              1011.0   \n",
       "6         17.832708              0.021406              1127.0   \n",
       "7          1.345792              0.001663                 0.0   \n",
       "8          4.786604              0.006016                 0.0   \n",
       "9         19.807480              0.024413              1184.0   \n",
       "\n",
       "   sample_dilute_vol well dilute_well  \n",
       "0             1700.0   A1          C7  \n",
       "1             1700.0   A2          C8  \n",
       "2             1700.0   A3          D1  \n",
       "3              601.0   A4          D2  \n",
       "4              624.0   A5          D3  \n",
       "5              689.0   A6          D4  \n",
       "6              573.0   A7          D5  \n",
       "7             1700.0   A8          D6  \n",
       "8             1700.0   B1          D7  \n",
       "9              516.0   B3          D8  "
      ]
     },
     "execution_count": 8,
     "metadata": {},
     "output_type": "execute_result"
    }
   ],
   "source": [
    "sample_table_apdist"
   ]
  },
  {
   "cell_type": "code",
   "execution_count": 9,
   "id": "fef4115b-eda5-480a-9f52-b0bd1bc17f23",
   "metadata": {},
   "outputs": [
    {
     "data": {
      "text/plain": [
       "5497.0"
      ]
     },
     "execution_count": 9,
     "metadata": {},
     "output_type": "execute_result"
    }
   ],
   "source": [
    "sample_table_apdist['ethanol_dilute_vol'].sum()"
   ]
  },
  {
   "cell_type": "code",
   "execution_count": 10,
   "id": "9b530793-b2a2-4f5d-9825-b4d8c2028d96",
   "metadata": {},
   "outputs": [
    {
     "data": {
      "text/plain": [
       "{'teos_count': 1, 'ammonia_count': 1, 'water_count': 1, 'ethanol_count': 1}"
      ]
     },
     "execution_count": 10,
     "metadata": {},
     "output_type": "execute_result"
    }
   ],
   "source": [
    "stober.count_stock_vials(sample_table_apdist, 15000)"
   ]
  },
  {
   "cell_type": "code",
   "execution_count": 11,
   "id": "dd237516-a73b-4981-8a1a-1f17979c9dac",
   "metadata": {},
   "outputs": [
    {
     "data": {
      "text/plain": [
       "0.5843185221343301"
      ]
     },
     "execution_count": 11,
     "metadata": {},
     "output_type": "execute_result"
    }
   ],
   "source": [
    "sample_table_rmse['ethanol_volume'].sum()/10000"
   ]
  },
  {
   "cell_type": "markdown",
   "id": "b8f140ff-c5f8-494d-bd58-093982edd086",
   "metadata": {},
   "source": [
    "## Load Tools"
   ]
  },
  {
   "cell_type": "code",
   "execution_count": 12,
   "id": "d73bac24-917c-4c8c-8c30-494146511312",
   "metadata": {},
   "outputs": [
    {
     "name": "stdout",
     "output_type": "stream",
     "text": [
      "Syringe name:  10cc_1\n",
      "{'capacity': 10000, 'empty_position': 1830, 'full_position': 1217, 'name': '10cc_1'}\n",
      "Syringe name:  1cc_1\n",
      "{'capacity': 1000, 'empty_position': 1845, 'full_position': 1240, 'name': '1cc_1'}\n",
      "Syringe name:  1cc_2_hamilton\n",
      "{'capacity': 1000, 'empty_position': 1753, 'full_position': 1120, 'name': '1cc_2_hamilton'}\n",
      "Syringe name:  1cc_3_hamilton\n",
      "{'capacity': 1000, 'empty_position': 1753, 'full_position': 1120, 'name': '1cc_3_hamilton'}\n"
     ]
    }
   ],
   "source": [
    "syringe_10 = syringe.HTTPSyringe.from_config(2, \"../../../science-jubilee/src/science_jubilee/tools/configs/10cc_syringe.json\")\n",
    "syringe_1_1 = syringe.HTTPSyringe.from_config(1, \"../../../science-jubilee/src/science_jubilee/tools/configs/1cc_1_syringe.json\")\n",
    "syringe_1_2 = syringe.HTTPSyringe.from_config(3, \"../../../science-jubilee/src/science_jubilee/tools/configs/1cc_2_Hamiltonsyringe.json\")\n",
    "syringe_1_3 = syringe.HTTPSyringe.from_config(4, \"../../../science-jubilee/src/science_jubilee/tools/configs/1cc_3_Hamiltonsyringe.json\")"
   ]
  },
  {
   "cell_type": "code",
   "execution_count": 13,
   "id": "9448524a-f60e-43fd-ae53-0a51c87e6035",
   "metadata": {
    "scrolled": true
   },
   "outputs": [],
   "source": [
    "jubilee.load_tool(syringe_10)\n",
    "jubilee.load_tool(syringe_1_1)\n",
    "jubilee.load_tool(syringe_1_2)\n",
    "jubilee.load_tool(syringe_1_3)"
   ]
  },
  {
   "cell_type": "code",
   "execution_count": 14,
   "id": "21127bbe-632c-4ec0-84f9-57d9772a90db",
   "metadata": {},
   "outputs": [],
   "source": [
    "mix_syringe = syringe_10\n",
    "water_syringe = syringe_1_1\n",
    "ammonia_syringe = syringe_1_2\n",
    "teos_syringe = syringe_1_3"
   ]
  },
  {
   "cell_type": "markdown",
   "id": "e1d880ae-d253-43f5-995f-d2619e29c78a",
   "metadata": {},
   "source": [
    "## Load water syringe with water"
   ]
  },
  {
   "cell_type": "code",
   "execution_count": 15,
   "id": "fa91aafe-663a-4ea2-86df-e996c41d8f37",
   "metadata": {},
   "outputs": [
    {
     "name": "stdout",
     "output_type": "stream",
     "text": [
      "Loaded syringe, remaining volume 600 uL\n"
     ]
    }
   ],
   "source": [
    "water_syringe.load_syringe(600, 1500)"
   ]
  },
  {
   "cell_type": "code",
   "execution_count": 85,
   "id": "bb1ecb81-f858-4ab6-8a1e-b5a85f432f54",
   "metadata": {
    "scrolled": true
   },
   "outputs": [],
   "source": [
    "water_syringe.set_pulsewidth(water_syringe.empty_position-1, s = 2000)"
   ]
  },
  {
   "cell_type": "code",
   "execution_count": 66,
   "id": "b78aa9f3-0da5-4987-9da3-171f4e5ae2b1",
   "metadata": {},
   "outputs": [],
   "source": [
    "water_syringe.set_pulsewidth(water_syringe.full_position+1, s = 10)"
   ]
  },
  {
   "cell_type": "code",
   "execution_count": 67,
   "id": "e08edebd-a82b-4e35-a662-def2994a8f00",
   "metadata": {},
   "outputs": [],
   "source": [
    "water_syringe.set_pulsewidth(water_syringe.full_position+150, s = 500)"
   ]
  },
  {
   "cell_type": "code",
   "execution_count": 68,
   "id": "80aff25d-bae2-478d-bc07-4b4f11bd5e05",
   "metadata": {},
   "outputs": [
    {
     "name": "stdout",
     "output_type": "stream",
     "text": [
      "Loaded syringe, remaining volume 740 uL\n"
     ]
    }
   ],
   "source": [
    "water_syringe.load_syringe(740, water_syringe.full_position+150)"
   ]
  },
  {
   "cell_type": "markdown",
   "id": "8ea5df3b-0ad5-4dbb-ad3f-089a2d5f2bd1",
   "metadata": {},
   "source": [
    "## Load ammonia syringe"
   ]
  },
  {
   "cell_type": "code",
   "execution_count": 20,
   "id": "87a366e4-d389-4830-b923-0a932968add9",
   "metadata": {},
   "outputs": [],
   "source": [
    "#ammonia_syringe.set_pulsewidth(1420, s = 10)"
   ]
  },
  {
   "cell_type": "code",
   "execution_count": 21,
   "id": "0b36ffcf-ec60-4ee2-b2ae-5fb6895fd16c",
   "metadata": {},
   "outputs": [
    {
     "name": "stdout",
     "output_type": "stream",
     "text": [
      "Loaded syringe, remaining volume 600 uL\n"
     ]
    }
   ],
   "source": [
    "ammonia_syringe.load_syringe(600, 1500)"
   ]
  },
  {
   "cell_type": "code",
   "execution_count": 86,
   "id": "497e2cad-9387-4815-9398-58651b8d9826",
   "metadata": {},
   "outputs": [],
   "source": [
    "ammonia_syringe.set_pulsewidth(ammonia_syringe.empty_position-1, s = 2000)"
   ]
  },
  {
   "cell_type": "code",
   "execution_count": 23,
   "id": "a0c7e519-e4e1-4a6a-a40d-3a5125503194",
   "metadata": {},
   "outputs": [],
   "source": [
    "ammonia_syringe.set_pulsewidth(ammonia_syringe.full_position+1, s = 10)"
   ]
  },
  {
   "cell_type": "code",
   "execution_count": 25,
   "id": "460e8b6d-261f-4e06-b587-a978291d57f7",
   "metadata": {},
   "outputs": [],
   "source": [
    "ammonia_syringe.set_pulsewidth(ammonia_syringe.full_position+450, s = 500)"
   ]
  },
  {
   "cell_type": "code",
   "execution_count": 26,
   "id": "b5be2527-8c06-4465-8e44-41f410149cd7",
   "metadata": {},
   "outputs": [
    {
     "name": "stdout",
     "output_type": "stream",
     "text": [
      "Loaded syringe, remaining volume 250 uL\n"
     ]
    }
   ],
   "source": [
    "ammonia_syringe.load_syringe(250, ammonia_syringe.full_position+450)"
   ]
  },
  {
   "cell_type": "markdown",
   "id": "e2c53ecf-d14a-4536-8062-9e7af8c51ba8",
   "metadata": {},
   "source": [
    "## Load TEOS syringe"
   ]
  },
  {
   "cell_type": "code",
   "execution_count": 27,
   "id": "22a73a10-c727-45c9-a653-1716b97e7d51",
   "metadata": {},
   "outputs": [
    {
     "name": "stdout",
     "output_type": "stream",
     "text": [
      "Loaded syringe, remaining volume 600 uL\n"
     ]
    }
   ],
   "source": [
    "teos_syringe.load_syringe(600, 1500)"
   ]
  },
  {
   "cell_type": "code",
   "execution_count": 87,
   "id": "2a4274ac-3472-452b-9368-56f36ed8d078",
   "metadata": {},
   "outputs": [],
   "source": [
    "teos_syringe.set_pulsewidth(teos_syringe.empty_position-1, s = 2000)"
   ]
  },
  {
   "cell_type": "code",
   "execution_count": 29,
   "id": "63453a13-e4ed-47a9-8d35-3368c1a83daf",
   "metadata": {},
   "outputs": [],
   "source": [
    "teos_syringe.set_pulsewidth(teos_syringe.full_position+1, s = 100)"
   ]
  },
  {
   "cell_type": "code",
   "execution_count": 30,
   "id": "7d22ae98-d92e-4ee2-aa1e-dbd7090f7778",
   "metadata": {},
   "outputs": [],
   "source": [
    "teos_syringe.set_pulsewidth(teos_syringe.full_position+200, s = 200)"
   ]
  },
  {
   "cell_type": "code",
   "execution_count": 31,
   "id": "cf5154eb-2d59-4bd8-90c2-86c3374a662d",
   "metadata": {},
   "outputs": [
    {
     "name": "stdout",
     "output_type": "stream",
     "text": [
      "Loaded syringe, remaining volume 690 uL\n"
     ]
    }
   ],
   "source": [
    "teos_syringe.load_syringe(690, teos_syringe.full_position+200)"
   ]
  },
  {
   "cell_type": "markdown",
   "id": "ad1ac96b-3d53-4da1-aa2c-a8c2386280f8",
   "metadata": {},
   "source": [
    "## load ethanol syringe"
   ]
  },
  {
   "cell_type": "code",
   "execution_count": 30,
   "id": "f1caaf1a-900c-43ed-a57b-754b0d62aa37",
   "metadata": {},
   "outputs": [],
   "source": [
    "#jubilee.park_tool()"
   ]
  },
  {
   "cell_type": "code",
   "execution_count": 32,
   "id": "94db4b0e-3075-4b45-91f7-9bc2817a2e31",
   "metadata": {},
   "outputs": [
    {
     "name": "stdout",
     "output_type": "stream",
     "text": [
      "Loaded syringe, remaining volume 0 uL\n"
     ]
    }
   ],
   "source": [
    "mix_syringe.load_syringe(0, mix_syringe.empty_position-1)"
   ]
  },
  {
   "cell_type": "code",
   "execution_count": 33,
   "id": "f53b6f7e-62d6-43fc-b2bf-a2e1aebdf313",
   "metadata": {},
   "outputs": [],
   "source": [
    "mix_syringe.set_pulsewidth(mix_syringe.empty_position-1, s = 2000)\n"
   ]
  },
  {
   "cell_type": "code",
   "execution_count": 49,
   "id": "c0904b15-1ceb-4e5b-aa62-2706e79634e6",
   "metadata": {},
   "outputs": [],
   "source": [
    "mix_syringe.set_pulsewidth(mix_syringe.full_position+1, s = 10)"
   ]
  },
  {
   "cell_type": "code",
   "execution_count": 35,
   "id": "96d9a53e-24a0-4595-bb69-db89483176ce",
   "metadata": {},
   "outputs": [],
   "source": [
    "#mix_syringe.empty_position"
   ]
  },
  {
   "cell_type": "code",
   "execution_count": 50,
   "id": "8f8a67fa-ed88-45db-a2df-72720c31beff",
   "metadata": {},
   "outputs": [],
   "source": [
    "mix_syringe.set_pulsewidth(mix_syringe.full_position+150, s = 500)"
   ]
  },
  {
   "cell_type": "code",
   "execution_count": 51,
   "id": "99ad1605-10c8-45a3-80cf-c6adfd7ae6a9",
   "metadata": {},
   "outputs": [
    {
     "name": "stdout",
     "output_type": "stream",
     "text": [
      "Loaded syringe, remaining volume 7600 uL\n"
     ]
    }
   ],
   "source": [
    "mix_syringe.load_syringe(7600, mix_syringe.full_position+150)"
   ]
  },
  {
   "cell_type": "markdown",
   "id": "43d1f97d-4c55-40d3-ac5b-9c3a3f1062ed",
   "metadata": {},
   "source": [
    "## Load labware\n"
   ]
  },
  {
   "cell_type": "code",
   "execution_count": 39,
   "id": "19b4bfa8-6878-4b0b-a564-369faa361b1c",
   "metadata": {
    "scrolled": true
   },
   "outputs": [
    {
     "name": "stdout",
     "output_type": "stream",
     "text": [
      "New manual offset applied to septavialrev1_44_holder_2000ul\n"
     ]
    }
   ],
   "source": [
    "samples = jubilee.load_labware('septavialrev1_44_holder_2000ul.json', 2)\n",
    "samples.manual_offset([(19.3, 175.8), (132.3, 176.5), (133.2, 106.8)])"
   ]
  },
  {
   "cell_type": "code",
   "execution_count": 40,
   "id": "19ad67cc-b0a8-4c1f-8d6a-60b173599c82",
   "metadata": {},
   "outputs": [
    {
     "name": "stdout",
     "output_type": "stream",
     "text": [
      "New manual offset applied to 20mlscintillation_12_wellplate_18000ul\n"
     ]
    }
   ],
   "source": [
    "stocks_main = jubilee.load_labware('20mlscintillation_12_wellplate_18000ul.json', 4)\n",
    "stocks_main.manual_offset([(30.5, 266.0),  (120.5, 266.0), (120.5, 210.0)])"
   ]
  },
  {
   "cell_type": "raw",
   "id": "75302623-3364-404f-9da4-f85e63eadbe1",
   "metadata": {},
   "source": [
    "stocks_extra = jubilee.load_labware('20mlscintillation_12_wellplate_18000ul.json', 5)\n",
    "stocks_extra.manual_offset([(171.1, 264.1), (256.9, 265.0), (256.7, 208.5)])\n"
   ]
  },
  {
   "cell_type": "code",
   "execution_count": 41,
   "id": "1ef40a35-9802-4eb3-9a10-16255155b92d",
   "metadata": {},
   "outputs": [],
   "source": [
    "trash = jubilee.load_labware('agilent_1_reservoir_290ml.json', 1)"
   ]
  },
  {
   "cell_type": "code",
   "execution_count": 42,
   "id": "f7395271-1a02-4f11-883f-34a8456f0a05",
   "metadata": {},
   "outputs": [],
   "source": [
    "teos_stocks = [stocks_main[0]]\n",
    "ammonia_stocks = [stocks_main[1]]\n",
    "water_stocks = [stocks_main[2]]\n",
    "ethanol_stocks_apdist = [stocks_main[3], stocks_main[4], stocks_main[5]]\n",
    "rinse_stocks_apdist = [stocks_main[9], stocks_main[10], stocks_main[11]]"
   ]
  },
  {
   "cell_type": "code",
   "execution_count": 43,
   "id": "970020a7-164c-4424-8058-e34e5bf83027",
   "metadata": {},
   "outputs": [],
   "source": [
    "ethanol_stocks_rmse = [stocks_main[6], stocks_main[7], stocks_main[8]]\n",
    "rinse_stocks_rmse = [stocks_main[9], stocks_main[10], stocks_main[11]]"
   ]
  },
  {
   "cell_type": "markdown",
   "id": "4bd30fe3-5be6-4ea7-a61d-357272d3e8a4",
   "metadata": {},
   "source": [
    "## Check sample alignment"
   ]
  },
  {
   "cell_type": "code",
   "execution_count": 48,
   "id": "95d14b2a-7129-4868-8a0b-2901da667520",
   "metadata": {},
   "outputs": [],
   "source": [
    "jubilee.park_tool()"
   ]
  },
  {
   "cell_type": "code",
   "execution_count": 47,
   "id": "25a4d272-6e56-4649-ba7a-5e04e922c043",
   "metadata": {},
   "outputs": [
    {
     "name": "stdout",
     "output_type": "stream",
     "text": [
      "162.32212315456255\n"
     ]
    },
    {
     "name": "stdin",
     "output_type": "stream",
     "text": [
      "Is the tip centered over sample B4? \n"
     ]
    },
    {
     "name": "stdout",
     "output_type": "stream",
     "text": [
      "162.47633951304567\n"
     ]
    },
    {
     "name": "stdin",
     "output_type": "stream",
     "text": [
      "Is the tip centered over sample B5? \n"
     ]
    },
    {
     "name": "stdout",
     "output_type": "stream",
     "text": [
      "162.6305558715288\n"
     ]
    },
    {
     "name": "stdin",
     "output_type": "stream",
     "text": [
      "Is the tip centered over sample B6? \n"
     ]
    },
    {
     "name": "stdout",
     "output_type": "stream",
     "text": [
      "162.93898858849502\n"
     ]
    },
    {
     "name": "stdin",
     "output_type": "stream",
     "text": [
      "Is the tip centered over sample B8? \n"
     ]
    },
    {
     "name": "stdout",
     "output_type": "stream",
     "text": [
      "147.9189481582264\n"
     ]
    },
    {
     "name": "stdin",
     "output_type": "stream",
     "text": [
      "Is the tip centered over sample C1? \n"
     ]
    },
    {
     "name": "stdout",
     "output_type": "stream",
     "text": [
      "148.07316451670954\n"
     ]
    },
    {
     "name": "stdin",
     "output_type": "stream",
     "text": [
      "Is the tip centered over sample C2? \n"
     ]
    },
    {
     "name": "stdout",
     "output_type": "stream",
     "text": [
      "148.22738087519264\n"
     ]
    },
    {
     "name": "stdin",
     "output_type": "stream",
     "text": [
      "Is the tip centered over sample C3? \n"
     ]
    },
    {
     "name": "stdout",
     "output_type": "stream",
     "text": [
      "148.38159723367576\n"
     ]
    },
    {
     "name": "stdin",
     "output_type": "stream",
     "text": [
      "Is the tip centered over sample C4? \n"
     ]
    },
    {
     "name": "stdout",
     "output_type": "stream",
     "text": [
      "148.5358135921589\n"
     ]
    },
    {
     "name": "stdin",
     "output_type": "stream",
     "text": [
      "Is the tip centered over sample C5? \n"
     ]
    },
    {
     "name": "stdout",
     "output_type": "stream",
     "text": [
      "148.69002995064199\n"
     ]
    },
    {
     "name": "stdin",
     "output_type": "stream",
     "text": [
      "Is the tip centered over sample C6? \n"
     ]
    }
   ],
   "source": [
    "jubilee.pickup_tool(ammonia_syringe)\n",
    "for i, row in sample_table_rmse.iterrows():\n",
    "    loc = samples[row['well']]\n",
    "    jubilee.move_to(x = loc.x, y = loc.y)\n",
    "    print(loc.y)\n",
    "    jubilee.move_to(z = loc.top_+7)\n",
    "    curr_well = row['well']\n",
    "    ans = input(f'Is the tip centered over sample {curr_well}?')\n",
    "    if ans == 'y':\n",
    "        continue\n",
    "    else:\n",
    "        continue\n",
    "    "
   ]
  },
  {
   "cell_type": "code",
   "execution_count": 55,
   "id": "a52572b9-48d6-4bf1-acb2-19c7ac5c6fb8",
   "metadata": {},
   "outputs": [],
   "source": [
    "jubilee.park_tool()\n"
   ]
  },
  {
   "cell_type": "markdown",
   "id": "b9dff3f4-8be6-4f73-b343-6221f8df76dc",
   "metadata": {},
   "source": [
    "# Experiment\n"
   ]
  },
  {
   "cell_type": "code",
   "execution_count": 52,
   "id": "9d770745-931b-42d0-8b40-409a83411619",
   "metadata": {},
   "outputs": [],
   "source": [
    "location_lookup_apdist = {row['uuid']:samples[row['well']] for i, row in sample_table_apdist.iterrows()}\n",
    "location_lookup_rmse = {row['uuid']:samples[row['well']] for i, row in sample_table_rmse.iterrows()}"
   ]
  },
  {
   "cell_type": "code",
   "execution_count": 53,
   "id": "30502878-2c56-4f8a-94dc-e7ad55f92927",
   "metadata": {},
   "outputs": [
    {
     "data": {
      "text/plain": [
       "9950.673655974679"
      ]
     },
     "execution_count": 53,
     "metadata": {},
     "output_type": "execute_result"
    }
   ],
   "source": [
    "sample_table_apdist['ethanol_volume'].sum()"
   ]
  },
  {
   "cell_type": "code",
   "execution_count": 54,
   "id": "b2a12505-772e-4ca8-8d21-822a400835f9",
   "metadata": {},
   "outputs": [],
   "source": [
    "dilution_table_apdist = sample_table_apdist.copy()\n",
    "dilution_table_rmse = sample_table_rmse.copy()"
   ]
  },
  {
   "cell_type": "code",
   "execution_count": 55,
   "id": "bdd03979-152a-48dd-9d62-b73859c453c4",
   "metadata": {},
   "outputs": [],
   "source": [
    "dilution_table_apdist['well'] = dilution_table_apdist['dilute_well']\n",
    "dilution_table_rmse['well'] = dilution_table_rmse['dilute_well']"
   ]
  },
  {
   "cell_type": "code",
   "execution_count": 56,
   "id": "804bb020-adc5-44ad-84a7-37235024043e",
   "metadata": {},
   "outputs": [
    {
     "data": {
      "text/html": [
       "<div>\n",
       "<style scoped>\n",
       "    .dataframe tbody tr th:only-of-type {\n",
       "        vertical-align: middle;\n",
       "    }\n",
       "\n",
       "    .dataframe tbody tr th {\n",
       "        vertical-align: top;\n",
       "    }\n",
       "\n",
       "    .dataframe thead th {\n",
       "        text-align: right;\n",
       "    }\n",
       "</style>\n",
       "<table border=\"1\" class=\"dataframe\">\n",
       "  <thead>\n",
       "    <tr style=\"text-align: right;\">\n",
       "      <th></th>\n",
       "      <th>Unnamed: 0</th>\n",
       "      <th>uuid</th>\n",
       "      <th>teos_volume</th>\n",
       "      <th>ammonia_volume</th>\n",
       "      <th>water_volume</th>\n",
       "      <th>ethanol_volume</th>\n",
       "      <th>dilution_volume_fraction</th>\n",
       "      <th>silica_mass_conc</th>\n",
       "      <th>silica_mass_fraction</th>\n",
       "      <th>ethanol_dilute_vol</th>\n",
       "      <th>sample_dilute_vol</th>\n",
       "      <th>well</th>\n",
       "      <th>dilute_well</th>\n",
       "    </tr>\n",
       "  </thead>\n",
       "  <tbody>\n",
       "    <tr>\n",
       "      <th>0</th>\n",
       "      <td>0</td>\n",
       "      <td>0bfe570a-c73d-4628-95a0-2a6d5b319df9</td>\n",
       "      <td>327.643383</td>\n",
       "      <td>423.326172</td>\n",
       "      <td>726.750029</td>\n",
       "      <td>222.280416</td>\n",
       "      <td>0.330076</td>\n",
       "      <td>18.201851</td>\n",
       "      <td>0.021666</td>\n",
       "      <td>1139.0</td>\n",
       "      <td>561.0</td>\n",
       "      <td>E1</td>\n",
       "      <td>E1</td>\n",
       "    </tr>\n",
       "    <tr>\n",
       "      <th>1</th>\n",
       "      <td>1</td>\n",
       "      <td>13baad0b-f873-4239-ba58-eebe0789cecb</td>\n",
       "      <td>484.500007</td>\n",
       "      <td>369.990309</td>\n",
       "      <td>726.750029</td>\n",
       "      <td>118.759655</td>\n",
       "      <td>0.223214</td>\n",
       "      <td>26.915840</td>\n",
       "      <td>0.031908</td>\n",
       "      <td>1321.0</td>\n",
       "      <td>379.0</td>\n",
       "      <td>E3</td>\n",
       "      <td>E3</td>\n",
       "    </tr>\n",
       "    <tr>\n",
       "      <th>2</th>\n",
       "      <td>2</td>\n",
       "      <td>c7368ca4-ab47-4788-9336-d8dc80ee8273</td>\n",
       "      <td>359.061982</td>\n",
       "      <td>264.690743</td>\n",
       "      <td>24.224999</td>\n",
       "      <td>1052.022275</td>\n",
       "      <td>0.301194</td>\n",
       "      <td>19.947275</td>\n",
       "      <td>0.024716</td>\n",
       "      <td>1188.0</td>\n",
       "      <td>512.0</td>\n",
       "      <td>E4</td>\n",
       "      <td>E4</td>\n",
       "    </tr>\n",
       "    <tr>\n",
       "      <th>3</th>\n",
       "      <td>3</td>\n",
       "      <td>c51cf7d2-8b37-4a2a-a800-0e628289334c</td>\n",
       "      <td>24.224999</td>\n",
       "      <td>226.018131</td>\n",
       "      <td>215.579022</td>\n",
       "      <td>1234.177848</td>\n",
       "      <td>4.464286</td>\n",
       "      <td>1.345792</td>\n",
       "      <td>0.001673</td>\n",
       "      <td>0.0</td>\n",
       "      <td>1700.0</td>\n",
       "      <td>E5</td>\n",
       "      <td>E5</td>\n",
       "    </tr>\n",
       "    <tr>\n",
       "      <th>4</th>\n",
       "      <td>4</td>\n",
       "      <td>b8ffa852-0645-4ddb-b587-7c24d2cc1dbf</td>\n",
       "      <td>24.224999</td>\n",
       "      <td>122.225984</td>\n",
       "      <td>726.750029</td>\n",
       "      <td>826.798988</td>\n",
       "      <td>4.464286</td>\n",
       "      <td>1.345792</td>\n",
       "      <td>0.001633</td>\n",
       "      <td>0.0</td>\n",
       "      <td>1700.0</td>\n",
       "      <td>E6</td>\n",
       "      <td>E6</td>\n",
       "    </tr>\n",
       "    <tr>\n",
       "      <th>5</th>\n",
       "      <td>5</td>\n",
       "      <td>a01ce3b0-5fd4-4078-8821-881fd5338ce8</td>\n",
       "      <td>400.367840</td>\n",
       "      <td>391.086414</td>\n",
       "      <td>726.750029</td>\n",
       "      <td>181.795717</td>\n",
       "      <td>0.270120</td>\n",
       "      <td>22.241975</td>\n",
       "      <td>0.026431</td>\n",
       "      <td>1241.0</td>\n",
       "      <td>459.0</td>\n",
       "      <td>E8</td>\n",
       "      <td>E8</td>\n",
       "    </tr>\n",
       "    <tr>\n",
       "      <th>6</th>\n",
       "      <td>6</td>\n",
       "      <td>48da5aa2-9f93-4512-843c-098b23a1880b</td>\n",
       "      <td>484.500007</td>\n",
       "      <td>184.061262</td>\n",
       "      <td>24.224999</td>\n",
       "      <td>1007.213732</td>\n",
       "      <td>0.223214</td>\n",
       "      <td>26.915840</td>\n",
       "      <td>0.033273</td>\n",
       "      <td>1321.0</td>\n",
       "      <td>379.0</td>\n",
       "      <td>F1</td>\n",
       "      <td>F1</td>\n",
       "    </tr>\n",
       "    <tr>\n",
       "      <th>7</th>\n",
       "      <td>7</td>\n",
       "      <td>331fe194-adb0-47d4-a81b-e16511d87d9b</td>\n",
       "      <td>484.500007</td>\n",
       "      <td>66.244823</td>\n",
       "      <td>726.750029</td>\n",
       "      <td>422.505141</td>\n",
       "      <td>0.223214</td>\n",
       "      <td>26.915840</td>\n",
       "      <td>0.032174</td>\n",
       "      <td>1321.0</td>\n",
       "      <td>379.0</td>\n",
       "      <td>F2</td>\n",
       "      <td>F2</td>\n",
       "    </tr>\n",
       "    <tr>\n",
       "      <th>8</th>\n",
       "      <td>8</td>\n",
       "      <td>2cf0de63-e0fd-4c8c-ae3a-073ff1f6e3d2</td>\n",
       "      <td>312.735605</td>\n",
       "      <td>116.733826</td>\n",
       "      <td>726.750029</td>\n",
       "      <td>543.780540</td>\n",
       "      <td>0.345811</td>\n",
       "      <td>17.373667</td>\n",
       "      <td>0.020866</td>\n",
       "      <td>1112.0</td>\n",
       "      <td>588.0</td>\n",
       "      <td>F3</td>\n",
       "      <td>F3</td>\n",
       "    </tr>\n",
       "    <tr>\n",
       "      <th>9</th>\n",
       "      <td>9</td>\n",
       "      <td>700ad869-4932-42ae-83f4-3b50b7318c9b</td>\n",
       "      <td>484.500007</td>\n",
       "      <td>254.899054</td>\n",
       "      <td>726.750029</td>\n",
       "      <td>233.850910</td>\n",
       "      <td>0.223214</td>\n",
       "      <td>26.915840</td>\n",
       "      <td>0.032008</td>\n",
       "      <td>1321.0</td>\n",
       "      <td>379.0</td>\n",
       "      <td>F4</td>\n",
       "      <td>F4</td>\n",
       "    </tr>\n",
       "  </tbody>\n",
       "</table>\n",
       "</div>"
      ],
      "text/plain": [
       "   Unnamed: 0                                  uuid  teos_volume  \\\n",
       "0           0  0bfe570a-c73d-4628-95a0-2a6d5b319df9   327.643383   \n",
       "1           1  13baad0b-f873-4239-ba58-eebe0789cecb   484.500007   \n",
       "2           2  c7368ca4-ab47-4788-9336-d8dc80ee8273   359.061982   \n",
       "3           3  c51cf7d2-8b37-4a2a-a800-0e628289334c    24.224999   \n",
       "4           4  b8ffa852-0645-4ddb-b587-7c24d2cc1dbf    24.224999   \n",
       "5           5  a01ce3b0-5fd4-4078-8821-881fd5338ce8   400.367840   \n",
       "6           6  48da5aa2-9f93-4512-843c-098b23a1880b   484.500007   \n",
       "7           7  331fe194-adb0-47d4-a81b-e16511d87d9b   484.500007   \n",
       "8           8  2cf0de63-e0fd-4c8c-ae3a-073ff1f6e3d2   312.735605   \n",
       "9           9  700ad869-4932-42ae-83f4-3b50b7318c9b   484.500007   \n",
       "\n",
       "   ammonia_volume  water_volume  ethanol_volume  dilution_volume_fraction  \\\n",
       "0      423.326172    726.750029      222.280416                  0.330076   \n",
       "1      369.990309    726.750029      118.759655                  0.223214   \n",
       "2      264.690743     24.224999     1052.022275                  0.301194   \n",
       "3      226.018131    215.579022     1234.177848                  4.464286   \n",
       "4      122.225984    726.750029      826.798988                  4.464286   \n",
       "5      391.086414    726.750029      181.795717                  0.270120   \n",
       "6      184.061262     24.224999     1007.213732                  0.223214   \n",
       "7       66.244823    726.750029      422.505141                  0.223214   \n",
       "8      116.733826    726.750029      543.780540                  0.345811   \n",
       "9      254.899054    726.750029      233.850910                  0.223214   \n",
       "\n",
       "   silica_mass_conc  silica_mass_fraction  ethanol_dilute_vol  \\\n",
       "0         18.201851              0.021666              1139.0   \n",
       "1         26.915840              0.031908              1321.0   \n",
       "2         19.947275              0.024716              1188.0   \n",
       "3          1.345792              0.001673                 0.0   \n",
       "4          1.345792              0.001633                 0.0   \n",
       "5         22.241975              0.026431              1241.0   \n",
       "6         26.915840              0.033273              1321.0   \n",
       "7         26.915840              0.032174              1321.0   \n",
       "8         17.373667              0.020866              1112.0   \n",
       "9         26.915840              0.032008              1321.0   \n",
       "\n",
       "   sample_dilute_vol well dilute_well  \n",
       "0              561.0   E1          E1  \n",
       "1              379.0   E3          E3  \n",
       "2              512.0   E4          E4  \n",
       "3             1700.0   E5          E5  \n",
       "4             1700.0   E6          E6  \n",
       "5              459.0   E8          E8  \n",
       "6              379.0   F1          F1  \n",
       "7              379.0   F2          F2  \n",
       "8              588.0   F3          F3  \n",
       "9              379.0   F4          F4  "
      ]
     },
     "execution_count": 56,
     "metadata": {},
     "output_type": "execute_result"
    }
   ],
   "source": [
    "dilution_table_rmse"
   ]
  },
  {
   "cell_type": "code",
   "execution_count": 57,
   "id": "7753c222-5c1d-493a-a7a8-8529cb116fed",
   "metadata": {},
   "outputs": [],
   "source": [
    "location_lookup_dilute_apdist = {}\n",
    "\n",
    "for i, row in dilution_table_apdist.iterrows():\n",
    "    uuid_val = row['uuid']\n",
    "    well = row['well']\n",
    "    if well is not np.nan:\n",
    "        well_loc = samples[well]\n",
    "    else:\n",
    "        well_loc = None\n",
    "\n",
    "    location_lookup_dilute_apdist[uuid_val] = well_loc"
   ]
  },
  {
   "cell_type": "code",
   "execution_count": 58,
   "id": "58d3a1a2-b53e-4f1a-8ca8-aa8a684ce385",
   "metadata": {},
   "outputs": [],
   "source": [
    "location_lookup_dilute_rmse = {}\n",
    "\n",
    "for i, row in dilution_table_rmse.iterrows():\n",
    "    uuid_val = row['uuid']\n",
    "    well = row['well']\n",
    "    if well is not np.nan:\n",
    "        well_loc = samples[well]\n",
    "    else:\n",
    "        well_loc = None\n",
    "\n",
    "    location_lookup_dilute_rmse[uuid_val] = well_loc"
   ]
  },
  {
   "cell_type": "code",
   "execution_count": 59,
   "id": "57de8e15-1e60-40ee-bfe6-e7d15a7be4a0",
   "metadata": {},
   "outputs": [
    {
     "data": {
      "text/plain": [
       "9964.0"
      ]
     },
     "execution_count": 59,
     "metadata": {},
     "output_type": "execute_result"
    }
   ],
   "source": [
    "dilution_table_rmse['ethanol_dilute_vol'].sum()"
   ]
  },
  {
   "cell_type": "markdown",
   "id": "e2ddb62c-d3f3-4c45-917a-e575189606c9",
   "metadata": {},
   "source": [
    "## add ethanol"
   ]
  },
  {
   "cell_type": "code",
   "execution_count": 60,
   "id": "a6c28415-6603-4bff-aad2-fd7fe99dd604",
   "metadata": {},
   "outputs": [],
   "source": [
    "stober.add_reactants_batch(jubilee, mix_syringe, mix_syringe, sample_table_apdist, location_lookup_apdist, 'ethanol_volume', ethanol_stocks_apdist[:2], stocks_usable_volume=15000, dwell_time = 10)"
   ]
  },
  {
   "cell_type": "code",
   "execution_count": 61,
   "id": "0f4144b3-a7f9-4650-886f-054cd544228a",
   "metadata": {},
   "outputs": [],
   "source": [
    "\n",
    "stober.add_reactants_batch(jubilee, mix_syringe, mix_syringe, sample_table_rmse, location_lookup_rmse, 'ethanol_volume', ethanol_stocks_rmse[:2], stocks_usable_volume=15000, dwell_time = 10)"
   ]
  },
  {
   "cell_type": "code",
   "execution_count": 62,
   "id": "7d204157-ed65-4f49-acbc-d192222f0dc6",
   "metadata": {},
   "outputs": [],
   "source": [
    "#dispense remaining volume from etOH mix syringe\n",
    "jubilee.pickup_tool(mix_syringe)\n",
    "mix_syringe.dispense(mix_syringe.remaining_volume-1, trash[0])\n",
    "logger.info('Emptied ethanol syringe into trash')\n",
    "jubilee.park_tool()"
   ]
  },
  {
   "cell_type": "code",
   "execution_count": 63,
   "id": "2fc66aa1-bc70-4098-8e37-f148188c26c6",
   "metadata": {},
   "outputs": [],
   "source": [
    "mix_syringe.set_pulsewidth(mix_syringe.empty_position-1)"
   ]
  },
  {
   "cell_type": "markdown",
   "id": "9e35c96c-2ea8-438a-989d-f6d73c8f16ed",
   "metadata": {},
   "source": [
    "## Dispense water\n"
   ]
  },
  {
   "cell_type": "code",
   "execution_count": 69,
   "id": "9f765450-7f64-49e7-85f8-335e2fa0b666",
   "metadata": {},
   "outputs": [],
   "source": [
    "stober.add_reactants_batch(jubilee, water_syringe, mix_syringe, sample_table_apdist, location_lookup_apdist, 'water_volume', water_stocks, dwell_time = 7)"
   ]
  },
  {
   "cell_type": "code",
   "execution_count": 70,
   "id": "16b57d0a-7d0f-4a3e-9ed9-0c021c31f538",
   "metadata": {},
   "outputs": [],
   "source": [
    "stober.add_reactants_batch(jubilee, water_syringe, mix_syringe, sample_table_rmse, location_lookup_rmse, 'water_volume', water_stocks, dwell_time = 7)"
   ]
  },
  {
   "cell_type": "markdown",
   "id": "cd60cc24-167e-46e5-9e73-a2457c8964de",
   "metadata": {},
   "source": [
    "## dispense Ammonia"
   ]
  },
  {
   "cell_type": "code",
   "execution_count": 71,
   "id": "7dc4c2ae-9e4e-40e0-929a-6e0a3e4bc240",
   "metadata": {},
   "outputs": [],
   "source": [
    "stober.add_reactants_batch(jubilee, ammonia_syringe, mix_syringe, sample_table_apdist, location_lookup_apdist, 'ammonia_volume', ammonia_stocks)"
   ]
  },
  {
   "cell_type": "code",
   "execution_count": 72,
   "id": "e7f6b494-541c-4ca7-82a1-be053a1869aa",
   "metadata": {},
   "outputs": [],
   "source": [
    "stober.add_reactants_batch(jubilee, ammonia_syringe, mix_syringe, sample_table_rmse, location_lookup_rmse, 'ammonia_volume', ammonia_stocks)"
   ]
  },
  {
   "cell_type": "markdown",
   "id": "bc8a34b3-acd7-4b89-a9ea-34b514cd3d8c",
   "metadata": {},
   "source": [
    "## mix precursors"
   ]
  },
  {
   "cell_type": "code",
   "execution_count": 73,
   "id": "f4f701c5-7908-489e-a1eb-9b2c60438c96",
   "metadata": {},
   "outputs": [],
   "source": [
    "stober.first_mix(jubilee, mix_syringe, 2000, location_lookup_apdist, rinse_stocks_apdist, 5)"
   ]
  },
  {
   "cell_type": "code",
   "execution_count": 74,
   "id": "0d0c3df5-714e-4ffb-a925-e76fbfd542e7",
   "metadata": {},
   "outputs": [],
   "source": [
    "stober.first_mix(jubilee, mix_syringe, 2000, location_lookup_rmse, rinse_stocks_rmse, 5)"
   ]
  },
  {
   "cell_type": "markdown",
   "id": "000c1369-b5a0-4183-97d4-fced54279516",
   "metadata": {},
   "source": [
    "## Add TEOS and mix"
   ]
  },
  {
   "cell_type": "code",
   "execution_count": 75,
   "id": "85496a20-bb2d-4363-a2c5-41685f0353f9",
   "metadata": {},
   "outputs": [],
   "source": [
    "teos_start_time = time.time()"
   ]
  },
  {
   "cell_type": "code",
   "execution_count": 76,
   "id": "efccb2d6-234a-4af8-a87d-4d904696a48e",
   "metadata": {},
   "outputs": [],
   "source": [
    "stober.add_reactants_batch(jubilee, teos_syringe, mix_syringe, sample_table_apdist, location_lookup_apdist, 'teos_volume', teos_stocks, mix_after=(2000, 5, rinse_stocks_apdist))"
   ]
  },
  {
   "cell_type": "code",
   "execution_count": 77,
   "id": "8db9bc79-6cdb-4dde-a477-6a81616fec1c",
   "metadata": {},
   "outputs": [],
   "source": [
    "stober.add_reactants_batch(jubilee, teos_syringe, mix_syringe, sample_table_rmse, location_lookup_rmse, 'teos_volume', teos_stocks, mix_after=(2000, 5, rinse_stocks_rmse))"
   ]
  },
  {
   "cell_type": "markdown",
   "id": "cf654819-0ae6-452a-bdbe-5f2a008f1b1c",
   "metadata": {},
   "source": [
    "### Dilution"
   ]
  },
  {
   "cell_type": "code",
   "execution_count": 78,
   "id": "4532cccb-e1ae-4497-8305-0c03b6f49619",
   "metadata": {},
   "outputs": [
    {
     "ename": "KeyError",
     "evalue": "-1",
     "output_type": "error",
     "traceback": [
      "\u001b[0;31m---------------------------------------------------------------------------\u001b[0m",
      "\u001b[0;31mKeyError\u001b[0m                                  Traceback (most recent call last)",
      "Cell \u001b[0;32mIn[78], line 1\u001b[0m\n\u001b[0;32m----> 1\u001b[0m \u001b[43mjubilee\u001b[49m\u001b[38;5;241;43m.\u001b[39;49m\u001b[43mpark_tool\u001b[49m\u001b[43m(\u001b[49m\u001b[43m)\u001b[49m\n",
      "File \u001b[0;32m~/Code/science-jubilee/src/science_jubilee/Machine.py:90\u001b[0m, in \u001b[0;36mrequires_safe_z.<locals>.z_check\u001b[0;34m(self, *args, **kwds)\u001b[0m\n\u001b[1;32m     88\u001b[0m \u001b[38;5;28;01mif\u001b[39;00m current_z \u001b[38;5;241m<\u001b[39m safe_z:\n\u001b[1;32m     89\u001b[0m     \u001b[38;5;28mself\u001b[39m\u001b[38;5;241m.\u001b[39mmove_to(z\u001b[38;5;241m=\u001b[39msafe_z \u001b[38;5;241m+\u001b[39m \u001b[38;5;241m20\u001b[39m)\n\u001b[0;32m---> 90\u001b[0m \u001b[38;5;28;01mreturn\u001b[39;00m \u001b[43mfunc\u001b[49m\u001b[43m(\u001b[49m\u001b[38;5;28;43mself\u001b[39;49m\u001b[43m,\u001b[49m\u001b[43m \u001b[49m\u001b[38;5;241;43m*\u001b[39;49m\u001b[43margs\u001b[49m\u001b[43m,\u001b[49m\u001b[43m \u001b[49m\u001b[38;5;241;43m*\u001b[39;49m\u001b[38;5;241;43m*\u001b[39;49m\u001b[43mkwds\u001b[49m\u001b[43m)\u001b[49m\n",
      "File \u001b[0;32m~/Code/science-jubilee/src/science_jubilee/Machine.py:1012\u001b[0m, in \u001b[0;36mMachine.park_tool\u001b[0;34m(self)\u001b[0m\n\u001b[1;32m   1010\u001b[0m \u001b[38;5;66;03m# Update the cached value to prevent read delays.\u001b[39;00m\n\u001b[1;32m   1011\u001b[0m current_tool_index \u001b[38;5;241m=\u001b[39m \u001b[38;5;28mself\u001b[39m\u001b[38;5;241m.\u001b[39mactive_tool_index\n\u001b[0;32m-> 1012\u001b[0m \u001b[38;5;28;43mself\u001b[39;49m\u001b[38;5;241;43m.\u001b[39;49m\u001b[43mtools\u001b[49m\u001b[43m[\u001b[49m\u001b[43mcurrent_tool_index\u001b[49m\u001b[43m]\u001b[49m[\u001b[38;5;124m\"\u001b[39m\u001b[38;5;124mtool\u001b[39m\u001b[38;5;124m\"\u001b[39m]\u001b[38;5;241m.\u001b[39mis_active_tool \u001b[38;5;241m=\u001b[39m \u001b[38;5;28;01mFalse\u001b[39;00m\n\u001b[1;32m   1013\u001b[0m \u001b[38;5;28mself\u001b[39m\u001b[38;5;241m.\u001b[39m_active_tool_index \u001b[38;5;241m=\u001b[39m \u001b[38;5;241m-\u001b[39m\u001b[38;5;241m1\u001b[39m\n",
      "\u001b[0;31mKeyError\u001b[0m: -1"
     ]
    }
   ],
   "source": [
    "jubilee.park_tool()"
   ]
  },
  {
   "cell_type": "code",
   "execution_count": 79,
   "id": "5c533083-99a5-4efe-8f99-0bd3b538c394",
   "metadata": {},
   "outputs": [],
   "source": [
    "hrs5 = 60*60*5\n",
    "while (time.time() - teos_start_time) < hrs5:\n",
    "    time.sleep(60)\n",
    "\n",
    "#dispese ethanol into dilution vials\n",
    "stober.add_reactants_batch(jubilee, mix_syringe, mix_syringe, dilution_table_apdist, location_lookup_dilute_apdist, 'ethanol_dilute_vol', ethanol_stocks_apdist[2:], stocks_usable_volume=15000, dwell_time = 10)\n",
    "\n",
    "jubilee.pickup_tool(mix_syringe)\n",
    "mix_syringe.dispense(mix_syringe.remaining_volume-1, trash[0])\n",
    "logger.info('Emptied ethanol syringe into trash')\n",
    "jubilee.park_tool()\n",
    "\n",
    "jubilee.pickup_tool(mix_syringe)\n",
    "rinse_vol = 2000\n",
    "for i, row in dilution_table_apdist.iterrows():\n",
    "    uuid_val = row['uuid']\n",
    "    sample_well = location_lookup_apdist[uuid_val]\n",
    "    dilute_well = location_lookup_dilute_apdist[uuid_val]\n",
    "    if dilute_well is None:\n",
    "        continue\n",
    "    else:\n",
    "        vol = row['sample_dilute_vol']\n",
    "        \n",
    "        mix_syringe.aspirate(vol, sample_well.bottom(+5))\n",
    "        time.sleep(10)\n",
    "        mix_syringe.dispense(vol, dilute_well.bottom(+5))\n",
    "        time.sleep(10)\n",
    "        logger.info(f'Transferred {vol} uL from {sample_well} to {dilute_well}')\n",
    "    \n",
    "        for stock in rinse_stocks_apdist:\n",
    "            mix_syringe.mix(rinse_vol, 5, stock.bottom(+10), t_hold = 3, s_aspirate = 2000, s_dispense = 500)\n",
    "    \n",
    "        logger.info(f'Washed mix syringe in wash solutions {rinse_stocks_apdist}')\n",
    "\n",
    "    "
   ]
  },
  {
   "cell_type": "code",
   "execution_count": 81,
   "id": "c9cb2dfa-c49e-4595-900b-66adb09affd3",
   "metadata": {},
   "outputs": [],
   "source": [
    "# dispese ethanol into dilution vials\n",
    "#stober.add_reactants_batch(jubilee, mix_syringe, mix_syringe, dilution_table_rmse, location_lookup_dilute_rmse, 'ethanol_dilute_vol', ethanol_stocks_rmse[2:], stocks_usable_volume=15000, dwell_time = 10)\n",
    "\n",
    "jubilee.pickup_tool(mix_syringe)\n",
    "mix_syringe.dispense(mix_syringe.remaining_volume-1, trash[0])\n",
    "logger.info('Emptied ethanol syringe into trash')\n",
    "jubilee.park_tool()\n",
    "\n",
    "jubilee.pickup_tool(mix_syringe)\n",
    "rinse_vol = 2000\n",
    "for i, row in dilution_table_rmse.iterrows():\n",
    "    uuid_val = row['uuid']\n",
    "    sample_well = location_lookup_rmse[uuid_val]\n",
    "    dilute_well = location_lookup_dilute_rmse[uuid_val]\n",
    "    if dilute_well is None:\n",
    "        continue\n",
    "    else:\n",
    "        vol = row['sample_dilute_vol']\n",
    "        \n",
    "        mix_syringe.aspirate(vol, sample_well.bottom(+5))\n",
    "        time.sleep(10)\n",
    "        mix_syringe.dispense(vol, dilute_well.bottom(+5))\n",
    "        time.sleep(10)\n",
    "        logger.info(f'Transferred {vol} uL from {sample_well} to {dilute_well}')\n",
    "    \n",
    "        for stock in rinse_stocks_rmse:\n",
    "            mix_syringe.mix(rinse_vol, 5, stock.bottom(+10), t_hold = 3, s_aspirate = 2000, s_dispense = 500)\n",
    "    \n",
    "        logger.info(f'Washed mix syringe in wash solutions {rinse_stocks_rmse}')"
   ]
  },
  {
   "cell_type": "code",
   "execution_count": 82,
   "id": "fc8002db-155a-4841-ba3c-25da7f73aafd",
   "metadata": {},
   "outputs": [],
   "source": [
    "jubilee.park_tool()"
   ]
  },
  {
   "cell_type": "code",
   "execution_count": 91,
   "id": "18d77df9-f5ab-4212-b386-c1eee378bc53",
   "metadata": {},
   "outputs": [],
   "source": [
    "water_syringe.set_pulsewidth(water_syringe.empty_position-1)"
   ]
  },
  {
   "cell_type": "code",
   "execution_count": 92,
   "id": "a69392e0-de9f-41c2-aac3-cb2fb9fb1230",
   "metadata": {},
   "outputs": [],
   "source": [
    "ammonia_syringe.set_pulsewidth(ammonia_syringe.empty_position-1)"
   ]
  },
  {
   "cell_type": "code",
   "execution_count": 93,
   "id": "1b5ff69f-ca4b-44d3-beb8-2d7899e510c5",
   "metadata": {},
   "outputs": [],
   "source": [
    "teos_syringe.set_pulsewidth(teos_syringe.empty_position-1)"
   ]
  },
  {
   "cell_type": "code",
   "execution_count": 83,
   "id": "595e3206-561b-4ea9-8834-4e3d5a6d2345",
   "metadata": {},
   "outputs": [
    {
     "data": {
      "text/html": [
       "<div>\n",
       "<style scoped>\n",
       "    .dataframe tbody tr th:only-of-type {\n",
       "        vertical-align: middle;\n",
       "    }\n",
       "\n",
       "    .dataframe tbody tr th {\n",
       "        vertical-align: top;\n",
       "    }\n",
       "\n",
       "    .dataframe thead th {\n",
       "        text-align: right;\n",
       "    }\n",
       "</style>\n",
       "<table border=\"1\" class=\"dataframe\">\n",
       "  <thead>\n",
       "    <tr style=\"text-align: right;\">\n",
       "      <th></th>\n",
       "      <th>Unnamed: 0</th>\n",
       "      <th>uuid</th>\n",
       "      <th>teos_volume</th>\n",
       "      <th>ammonia_volume</th>\n",
       "      <th>water_volume</th>\n",
       "      <th>ethanol_volume</th>\n",
       "      <th>dilution_volume_fraction</th>\n",
       "      <th>silica_mass_conc</th>\n",
       "      <th>silica_mass_fraction</th>\n",
       "      <th>ethanol_dilute_vol</th>\n",
       "      <th>sample_dilute_vol</th>\n",
       "      <th>well</th>\n",
       "      <th>dilute_well</th>\n",
       "    </tr>\n",
       "  </thead>\n",
       "  <tbody>\n",
       "    <tr>\n",
       "      <th>0</th>\n",
       "      <td>0</td>\n",
       "      <td>89da42c0-d6c2-4797-816d-122cf69c896e</td>\n",
       "      <td>73.559807</td>\n",
       "      <td>123.311777</td>\n",
       "      <td>423.360790</td>\n",
       "      <td>1079.767626</td>\n",
       "      <td>1.470196</td>\n",
       "      <td>4.086530</td>\n",
       "      <td>0.005029</td>\n",
       "      <td>0.0</td>\n",
       "      <td>1700.0</td>\n",
       "      <td>A1</td>\n",
       "      <td>C7</td>\n",
       "    </tr>\n",
       "    <tr>\n",
       "      <th>1</th>\n",
       "      <td>1</td>\n",
       "      <td>85960d22-ab40-4cb4-a325-6b021a6be6bb</td>\n",
       "      <td>107.035594</td>\n",
       "      <td>378.031117</td>\n",
       "      <td>636.690271</td>\n",
       "      <td>578.243018</td>\n",
       "      <td>1.010387</td>\n",
       "      <td>5.946239</td>\n",
       "      <td>0.007176</td>\n",
       "      <td>0.0</td>\n",
       "      <td>1700.0</td>\n",
       "      <td>A2</td>\n",
       "      <td>C8</td>\n",
       "    </tr>\n",
       "    <tr>\n",
       "      <th>2</th>\n",
       "      <td>2</td>\n",
       "      <td>de29a3a6-f8a1-4a5c-91ac-5619a023658a</td>\n",
       "      <td>64.350420</td>\n",
       "      <td>127.046988</td>\n",
       "      <td>24.224999</td>\n",
       "      <td>1484.377593</td>\n",
       "      <td>1.680600</td>\n",
       "      <td>3.574914</td>\n",
       "      <td>0.004496</td>\n",
       "      <td>0.0</td>\n",
       "      <td>1700.0</td>\n",
       "      <td>A3</td>\n",
       "      <td>D1</td>\n",
       "    </tr>\n",
       "    <tr>\n",
       "      <th>3</th>\n",
       "      <td>3</td>\n",
       "      <td>51399e9b-be16-4017-b11e-6ed648524864</td>\n",
       "      <td>305.825641</td>\n",
       "      <td>324.335862</td>\n",
       "      <td>487.656097</td>\n",
       "      <td>582.182400</td>\n",
       "      <td>0.353624</td>\n",
       "      <td>16.989792</td>\n",
       "      <td>0.020547</td>\n",
       "      <td>1099.0</td>\n",
       "      <td>601.0</td>\n",
       "      <td>A4</td>\n",
       "      <td>D2</td>\n",
       "    </tr>\n",
       "    <tr>\n",
       "      <th>4</th>\n",
       "      <td>4</td>\n",
       "      <td>fe1c667e-1c75-4505-ae6f-3ac9ff380abd</td>\n",
       "      <td>294.866468</td>\n",
       "      <td>301.928422</td>\n",
       "      <td>24.224999</td>\n",
       "      <td>1078.980110</td>\n",
       "      <td>0.366767</td>\n",
       "      <td>16.380967</td>\n",
       "      <td>0.020324</td>\n",
       "      <td>1076.0</td>\n",
       "      <td>624.0</td>\n",
       "      <td>A5</td>\n",
       "      <td>D3</td>\n",
       "    </tr>\n",
       "    <tr>\n",
       "      <th>5</th>\n",
       "      <td>5</td>\n",
       "      <td>b95e9e19-0e75-49cc-a3c0-5a04ecc43d6b</td>\n",
       "      <td>266.717957</td>\n",
       "      <td>60.547525</td>\n",
       "      <td>163.415245</td>\n",
       "      <td>1209.319273</td>\n",
       "      <td>0.405474</td>\n",
       "      <td>14.817209</td>\n",
       "      <td>0.018392</td>\n",
       "      <td>1011.0</td>\n",
       "      <td>689.0</td>\n",
       "      <td>A6</td>\n",
       "      <td>D4</td>\n",
       "    </tr>\n",
       "    <tr>\n",
       "      <th>6</th>\n",
       "      <td>6</td>\n",
       "      <td>2402a10c-a5e0-47a1-80cf-13579864101f</td>\n",
       "      <td>320.998596</td>\n",
       "      <td>294.608475</td>\n",
       "      <td>636.863397</td>\n",
       "      <td>447.529532</td>\n",
       "      <td>0.336909</td>\n",
       "      <td>17.832708</td>\n",
       "      <td>0.021406</td>\n",
       "      <td>1127.0</td>\n",
       "      <td>573.0</td>\n",
       "      <td>A7</td>\n",
       "      <td>D5</td>\n",
       "    </tr>\n",
       "    <tr>\n",
       "      <th>7</th>\n",
       "      <td>7</td>\n",
       "      <td>02cf2067-1f41-45ff-b934-d79933ce0d9d</td>\n",
       "      <td>24.224999</td>\n",
       "      <td>484.500007</td>\n",
       "      <td>183.835270</td>\n",
       "      <td>1007.439724</td>\n",
       "      <td>4.464286</td>\n",
       "      <td>1.345792</td>\n",
       "      <td>0.001663</td>\n",
       "      <td>0.0</td>\n",
       "      <td>1700.0</td>\n",
       "      <td>A8</td>\n",
       "      <td>D6</td>\n",
       "    </tr>\n",
       "    <tr>\n",
       "      <th>8</th>\n",
       "      <td>8</td>\n",
       "      <td>5a500297-11d3-44b0-b7d9-98b6753df47b</td>\n",
       "      <td>86.161510</td>\n",
       "      <td>121.015886</td>\n",
       "      <td>24.224999</td>\n",
       "      <td>1468.597604</td>\n",
       "      <td>1.255170</td>\n",
       "      <td>4.786604</td>\n",
       "      <td>0.006016</td>\n",
       "      <td>0.0</td>\n",
       "      <td>1700.0</td>\n",
       "      <td>B1</td>\n",
       "      <td>D7</td>\n",
       "    </tr>\n",
       "    <tr>\n",
       "      <th>9</th>\n",
       "      <td>9</td>\n",
       "      <td>ae77b287-f241-4b36-8915-b9eaac29d424</td>\n",
       "      <td>356.545586</td>\n",
       "      <td>135.201938</td>\n",
       "      <td>194.015700</td>\n",
       "      <td>1014.236777</td>\n",
       "      <td>0.303320</td>\n",
       "      <td>19.807480</td>\n",
       "      <td>0.024413</td>\n",
       "      <td>1184.0</td>\n",
       "      <td>516.0</td>\n",
       "      <td>B3</td>\n",
       "      <td>D8</td>\n",
       "    </tr>\n",
       "  </tbody>\n",
       "</table>\n",
       "</div>"
      ],
      "text/plain": [
       "   Unnamed: 0                                  uuid  teos_volume  \\\n",
       "0           0  89da42c0-d6c2-4797-816d-122cf69c896e    73.559807   \n",
       "1           1  85960d22-ab40-4cb4-a325-6b021a6be6bb   107.035594   \n",
       "2           2  de29a3a6-f8a1-4a5c-91ac-5619a023658a    64.350420   \n",
       "3           3  51399e9b-be16-4017-b11e-6ed648524864   305.825641   \n",
       "4           4  fe1c667e-1c75-4505-ae6f-3ac9ff380abd   294.866468   \n",
       "5           5  b95e9e19-0e75-49cc-a3c0-5a04ecc43d6b   266.717957   \n",
       "6           6  2402a10c-a5e0-47a1-80cf-13579864101f   320.998596   \n",
       "7           7  02cf2067-1f41-45ff-b934-d79933ce0d9d    24.224999   \n",
       "8           8  5a500297-11d3-44b0-b7d9-98b6753df47b    86.161510   \n",
       "9           9  ae77b287-f241-4b36-8915-b9eaac29d424   356.545586   \n",
       "\n",
       "   ammonia_volume  water_volume  ethanol_volume  dilution_volume_fraction  \\\n",
       "0      123.311777    423.360790     1079.767626                  1.470196   \n",
       "1      378.031117    636.690271      578.243018                  1.010387   \n",
       "2      127.046988     24.224999     1484.377593                  1.680600   \n",
       "3      324.335862    487.656097      582.182400                  0.353624   \n",
       "4      301.928422     24.224999     1078.980110                  0.366767   \n",
       "5       60.547525    163.415245     1209.319273                  0.405474   \n",
       "6      294.608475    636.863397      447.529532                  0.336909   \n",
       "7      484.500007    183.835270     1007.439724                  4.464286   \n",
       "8      121.015886     24.224999     1468.597604                  1.255170   \n",
       "9      135.201938    194.015700     1014.236777                  0.303320   \n",
       "\n",
       "   silica_mass_conc  silica_mass_fraction  ethanol_dilute_vol  \\\n",
       "0          4.086530              0.005029                 0.0   \n",
       "1          5.946239              0.007176                 0.0   \n",
       "2          3.574914              0.004496                 0.0   \n",
       "3         16.989792              0.020547              1099.0   \n",
       "4         16.380967              0.020324              1076.0   \n",
       "5         14.817209              0.018392              1011.0   \n",
       "6         17.832708              0.021406              1127.0   \n",
       "7          1.345792              0.001663                 0.0   \n",
       "8          4.786604              0.006016                 0.0   \n",
       "9         19.807480              0.024413              1184.0   \n",
       "\n",
       "   sample_dilute_vol well dilute_well  \n",
       "0             1700.0   A1          C7  \n",
       "1             1700.0   A2          C8  \n",
       "2             1700.0   A3          D1  \n",
       "3              601.0   A4          D2  \n",
       "4              624.0   A5          D3  \n",
       "5              689.0   A6          D4  \n",
       "6              573.0   A7          D5  \n",
       "7             1700.0   A8          D6  \n",
       "8             1700.0   B1          D7  \n",
       "9              516.0   B3          D8  "
      ]
     },
     "execution_count": 83,
     "metadata": {},
     "output_type": "execute_result"
    }
   ],
   "source": [
    "sample_table_apdist"
   ]
  },
  {
   "cell_type": "code",
   "execution_count": 84,
   "id": "583da8f7-50a3-438a-a6c5-6b80b3034631",
   "metadata": {},
   "outputs": [
    {
     "data": {
      "text/html": [
       "<div>\n",
       "<style scoped>\n",
       "    .dataframe tbody tr th:only-of-type {\n",
       "        vertical-align: middle;\n",
       "    }\n",
       "\n",
       "    .dataframe tbody tr th {\n",
       "        vertical-align: top;\n",
       "    }\n",
       "\n",
       "    .dataframe thead th {\n",
       "        text-align: right;\n",
       "    }\n",
       "</style>\n",
       "<table border=\"1\" class=\"dataframe\">\n",
       "  <thead>\n",
       "    <tr style=\"text-align: right;\">\n",
       "      <th></th>\n",
       "      <th>Unnamed: 0</th>\n",
       "      <th>uuid</th>\n",
       "      <th>teos_volume</th>\n",
       "      <th>ammonia_volume</th>\n",
       "      <th>water_volume</th>\n",
       "      <th>ethanol_volume</th>\n",
       "      <th>dilution_volume_fraction</th>\n",
       "      <th>silica_mass_conc</th>\n",
       "      <th>silica_mass_fraction</th>\n",
       "      <th>ethanol_dilute_vol</th>\n",
       "      <th>sample_dilute_vol</th>\n",
       "      <th>well</th>\n",
       "      <th>dilute_well</th>\n",
       "    </tr>\n",
       "  </thead>\n",
       "  <tbody>\n",
       "    <tr>\n",
       "      <th>0</th>\n",
       "      <td>0</td>\n",
       "      <td>0bfe570a-c73d-4628-95a0-2a6d5b319df9</td>\n",
       "      <td>327.643383</td>\n",
       "      <td>423.326172</td>\n",
       "      <td>726.750029</td>\n",
       "      <td>222.280416</td>\n",
       "      <td>0.330076</td>\n",
       "      <td>18.201851</td>\n",
       "      <td>0.021666</td>\n",
       "      <td>1139.0</td>\n",
       "      <td>561.0</td>\n",
       "      <td>B4</td>\n",
       "      <td>E1</td>\n",
       "    </tr>\n",
       "    <tr>\n",
       "      <th>1</th>\n",
       "      <td>1</td>\n",
       "      <td>13baad0b-f873-4239-ba58-eebe0789cecb</td>\n",
       "      <td>484.500007</td>\n",
       "      <td>369.990309</td>\n",
       "      <td>726.750029</td>\n",
       "      <td>118.759655</td>\n",
       "      <td>0.223214</td>\n",
       "      <td>26.915840</td>\n",
       "      <td>0.031908</td>\n",
       "      <td>1321.0</td>\n",
       "      <td>379.0</td>\n",
       "      <td>B5</td>\n",
       "      <td>E3</td>\n",
       "    </tr>\n",
       "    <tr>\n",
       "      <th>2</th>\n",
       "      <td>2</td>\n",
       "      <td>c7368ca4-ab47-4788-9336-d8dc80ee8273</td>\n",
       "      <td>359.061982</td>\n",
       "      <td>264.690743</td>\n",
       "      <td>24.224999</td>\n",
       "      <td>1052.022275</td>\n",
       "      <td>0.301194</td>\n",
       "      <td>19.947275</td>\n",
       "      <td>0.024716</td>\n",
       "      <td>1188.0</td>\n",
       "      <td>512.0</td>\n",
       "      <td>B6</td>\n",
       "      <td>E4</td>\n",
       "    </tr>\n",
       "    <tr>\n",
       "      <th>3</th>\n",
       "      <td>3</td>\n",
       "      <td>c51cf7d2-8b37-4a2a-a800-0e628289334c</td>\n",
       "      <td>24.224999</td>\n",
       "      <td>226.018131</td>\n",
       "      <td>215.579022</td>\n",
       "      <td>1234.177848</td>\n",
       "      <td>4.464286</td>\n",
       "      <td>1.345792</td>\n",
       "      <td>0.001673</td>\n",
       "      <td>0.0</td>\n",
       "      <td>1700.0</td>\n",
       "      <td>B8</td>\n",
       "      <td>E5</td>\n",
       "    </tr>\n",
       "    <tr>\n",
       "      <th>4</th>\n",
       "      <td>4</td>\n",
       "      <td>b8ffa852-0645-4ddb-b587-7c24d2cc1dbf</td>\n",
       "      <td>24.224999</td>\n",
       "      <td>122.225984</td>\n",
       "      <td>726.750029</td>\n",
       "      <td>826.798988</td>\n",
       "      <td>4.464286</td>\n",
       "      <td>1.345792</td>\n",
       "      <td>0.001633</td>\n",
       "      <td>0.0</td>\n",
       "      <td>1700.0</td>\n",
       "      <td>C1</td>\n",
       "      <td>E6</td>\n",
       "    </tr>\n",
       "    <tr>\n",
       "      <th>5</th>\n",
       "      <td>5</td>\n",
       "      <td>a01ce3b0-5fd4-4078-8821-881fd5338ce8</td>\n",
       "      <td>400.367840</td>\n",
       "      <td>391.086414</td>\n",
       "      <td>726.750029</td>\n",
       "      <td>181.795717</td>\n",
       "      <td>0.270120</td>\n",
       "      <td>22.241975</td>\n",
       "      <td>0.026431</td>\n",
       "      <td>1241.0</td>\n",
       "      <td>459.0</td>\n",
       "      <td>C2</td>\n",
       "      <td>E8</td>\n",
       "    </tr>\n",
       "    <tr>\n",
       "      <th>6</th>\n",
       "      <td>6</td>\n",
       "      <td>48da5aa2-9f93-4512-843c-098b23a1880b</td>\n",
       "      <td>484.500007</td>\n",
       "      <td>184.061262</td>\n",
       "      <td>24.224999</td>\n",
       "      <td>1007.213732</td>\n",
       "      <td>0.223214</td>\n",
       "      <td>26.915840</td>\n",
       "      <td>0.033273</td>\n",
       "      <td>1321.0</td>\n",
       "      <td>379.0</td>\n",
       "      <td>C3</td>\n",
       "      <td>F1</td>\n",
       "    </tr>\n",
       "    <tr>\n",
       "      <th>7</th>\n",
       "      <td>7</td>\n",
       "      <td>331fe194-adb0-47d4-a81b-e16511d87d9b</td>\n",
       "      <td>484.500007</td>\n",
       "      <td>66.244823</td>\n",
       "      <td>726.750029</td>\n",
       "      <td>422.505141</td>\n",
       "      <td>0.223214</td>\n",
       "      <td>26.915840</td>\n",
       "      <td>0.032174</td>\n",
       "      <td>1321.0</td>\n",
       "      <td>379.0</td>\n",
       "      <td>C4</td>\n",
       "      <td>F2</td>\n",
       "    </tr>\n",
       "    <tr>\n",
       "      <th>8</th>\n",
       "      <td>8</td>\n",
       "      <td>2cf0de63-e0fd-4c8c-ae3a-073ff1f6e3d2</td>\n",
       "      <td>312.735605</td>\n",
       "      <td>116.733826</td>\n",
       "      <td>726.750029</td>\n",
       "      <td>543.780540</td>\n",
       "      <td>0.345811</td>\n",
       "      <td>17.373667</td>\n",
       "      <td>0.020866</td>\n",
       "      <td>1112.0</td>\n",
       "      <td>588.0</td>\n",
       "      <td>C5</td>\n",
       "      <td>F3</td>\n",
       "    </tr>\n",
       "    <tr>\n",
       "      <th>9</th>\n",
       "      <td>9</td>\n",
       "      <td>700ad869-4932-42ae-83f4-3b50b7318c9b</td>\n",
       "      <td>484.500007</td>\n",
       "      <td>254.899054</td>\n",
       "      <td>726.750029</td>\n",
       "      <td>233.850910</td>\n",
       "      <td>0.223214</td>\n",
       "      <td>26.915840</td>\n",
       "      <td>0.032008</td>\n",
       "      <td>1321.0</td>\n",
       "      <td>379.0</td>\n",
       "      <td>C6</td>\n",
       "      <td>F4</td>\n",
       "    </tr>\n",
       "  </tbody>\n",
       "</table>\n",
       "</div>"
      ],
      "text/plain": [
       "   Unnamed: 0                                  uuid  teos_volume  \\\n",
       "0           0  0bfe570a-c73d-4628-95a0-2a6d5b319df9   327.643383   \n",
       "1           1  13baad0b-f873-4239-ba58-eebe0789cecb   484.500007   \n",
       "2           2  c7368ca4-ab47-4788-9336-d8dc80ee8273   359.061982   \n",
       "3           3  c51cf7d2-8b37-4a2a-a800-0e628289334c    24.224999   \n",
       "4           4  b8ffa852-0645-4ddb-b587-7c24d2cc1dbf    24.224999   \n",
       "5           5  a01ce3b0-5fd4-4078-8821-881fd5338ce8   400.367840   \n",
       "6           6  48da5aa2-9f93-4512-843c-098b23a1880b   484.500007   \n",
       "7           7  331fe194-adb0-47d4-a81b-e16511d87d9b   484.500007   \n",
       "8           8  2cf0de63-e0fd-4c8c-ae3a-073ff1f6e3d2   312.735605   \n",
       "9           9  700ad869-4932-42ae-83f4-3b50b7318c9b   484.500007   \n",
       "\n",
       "   ammonia_volume  water_volume  ethanol_volume  dilution_volume_fraction  \\\n",
       "0      423.326172    726.750029      222.280416                  0.330076   \n",
       "1      369.990309    726.750029      118.759655                  0.223214   \n",
       "2      264.690743     24.224999     1052.022275                  0.301194   \n",
       "3      226.018131    215.579022     1234.177848                  4.464286   \n",
       "4      122.225984    726.750029      826.798988                  4.464286   \n",
       "5      391.086414    726.750029      181.795717                  0.270120   \n",
       "6      184.061262     24.224999     1007.213732                  0.223214   \n",
       "7       66.244823    726.750029      422.505141                  0.223214   \n",
       "8      116.733826    726.750029      543.780540                  0.345811   \n",
       "9      254.899054    726.750029      233.850910                  0.223214   \n",
       "\n",
       "   silica_mass_conc  silica_mass_fraction  ethanol_dilute_vol  \\\n",
       "0         18.201851              0.021666              1139.0   \n",
       "1         26.915840              0.031908              1321.0   \n",
       "2         19.947275              0.024716              1188.0   \n",
       "3          1.345792              0.001673                 0.0   \n",
       "4          1.345792              0.001633                 0.0   \n",
       "5         22.241975              0.026431              1241.0   \n",
       "6         26.915840              0.033273              1321.0   \n",
       "7         26.915840              0.032174              1321.0   \n",
       "8         17.373667              0.020866              1112.0   \n",
       "9         26.915840              0.032008              1321.0   \n",
       "\n",
       "   sample_dilute_vol well dilute_well  \n",
       "0              561.0   B4          E1  \n",
       "1              379.0   B5          E3  \n",
       "2              512.0   B6          E4  \n",
       "3             1700.0   B8          E5  \n",
       "4             1700.0   C1          E6  \n",
       "5              459.0   C2          E8  \n",
       "6              379.0   C3          F1  \n",
       "7              379.0   C4          F2  \n",
       "8              588.0   C5          F3  \n",
       "9              379.0   C6          F4  "
      ]
     },
     "execution_count": 84,
     "metadata": {},
     "output_type": "execute_result"
    }
   ],
   "source": [
    "sample_table_rmse"
   ]
  },
  {
   "cell_type": "code",
   "execution_count": 151,
   "id": "a4a66641-2bc0-4bfe-8e12-78d8dfb86111",
   "metadata": {},
   "outputs": [
    {
     "data": {
      "text/html": [
       "<div>\n",
       "<style scoped>\n",
       "    .dataframe tbody tr th:only-of-type {\n",
       "        vertical-align: middle;\n",
       "    }\n",
       "\n",
       "    .dataframe tbody tr th {\n",
       "        vertical-align: top;\n",
       "    }\n",
       "\n",
       "    .dataframe thead th {\n",
       "        text-align: right;\n",
       "    }\n",
       "</style>\n",
       "<table border=\"1\" class=\"dataframe\">\n",
       "  <thead>\n",
       "    <tr style=\"text-align: right;\">\n",
       "      <th></th>\n",
       "      <th>Unnamed: 0</th>\n",
       "      <th>uuid</th>\n",
       "      <th>teos_volume</th>\n",
       "      <th>ammonia_volume</th>\n",
       "      <th>water_volume</th>\n",
       "      <th>ethanol_volume</th>\n",
       "      <th>dilution_volume_fraction</th>\n",
       "      <th>silica_mass_conc</th>\n",
       "      <th>silica_mass_fraction</th>\n",
       "      <th>ethanol_dilute_vol</th>\n",
       "      <th>sample_dilute_vol</th>\n",
       "      <th>well</th>\n",
       "      <th>dilute_well</th>\n",
       "    </tr>\n",
       "  </thead>\n",
       "  <tbody>\n",
       "    <tr>\n",
       "      <th>0</th>\n",
       "      <td>0</td>\n",
       "      <td>bbd1bfff-7563-4360-b5b8-86a1deb3928f</td>\n",
       "      <td>91.455773</td>\n",
       "      <td>121.416734</td>\n",
       "      <td>255.000010</td>\n",
       "      <td>1232.127483</td>\n",
       "      <td>0.414916</td>\n",
       "      <td>14.480053</td>\n",
       "      <td>0.017314</td>\n",
       "      <td>995.0</td>\n",
       "      <td>705.0</td>\n",
       "      <td>C7</td>\n",
       "      <td>C7</td>\n",
       "    </tr>\n",
       "    <tr>\n",
       "      <th>1</th>\n",
       "      <td>1</td>\n",
       "      <td>5b9ac046-6ca6-4ebc-87f3-e272edaedb7b</td>\n",
       "      <td>140.351853</td>\n",
       "      <td>8.500000</td>\n",
       "      <td>255.000010</td>\n",
       "      <td>1296.148137</td>\n",
       "      <td>0.270366</td>\n",
       "      <td>22.221694</td>\n",
       "      <td>0.026673</td>\n",
       "      <td>1240.0</td>\n",
       "      <td>460.0</td>\n",
       "      <td>C8</td>\n",
       "      <td>C8</td>\n",
       "    </tr>\n",
       "    <tr>\n",
       "      <th>2</th>\n",
       "      <td>2</td>\n",
       "      <td>9f782755-5ca4-4466-a1f1-a87ef665ed22</td>\n",
       "      <td>255.000010</td>\n",
       "      <td>42.990994</td>\n",
       "      <td>255.000010</td>\n",
       "      <td>1147.008985</td>\n",
       "      <td>0.148810</td>\n",
       "      <td>40.373762</td>\n",
       "      <td>0.047775</td>\n",
       "      <td>1447.0</td>\n",
       "      <td>253.0</td>\n",
       "      <td>D1</td>\n",
       "      <td>D1</td>\n",
       "    </tr>\n",
       "    <tr>\n",
       "      <th>3</th>\n",
       "      <td>3</td>\n",
       "      <td>f8b2207f-b63c-44d9-8fe4-70639fdd3f5c</td>\n",
       "      <td>255.000010</td>\n",
       "      <td>53.976205</td>\n",
       "      <td>8.500000</td>\n",
       "      <td>1382.523785</td>\n",
       "      <td>0.148810</td>\n",
       "      <td>40.373762</td>\n",
       "      <td>0.049511</td>\n",
       "      <td>1447.0</td>\n",
       "      <td>253.0</td>\n",
       "      <td>D2</td>\n",
       "      <td>D2</td>\n",
       "    </tr>\n",
       "    <tr>\n",
       "      <th>4</th>\n",
       "      <td>4</td>\n",
       "      <td>61431cc9-9557-45af-82c4-9e7acb251717</td>\n",
       "      <td>78.545307</td>\n",
       "      <td>77.696470</td>\n",
       "      <td>193.651897</td>\n",
       "      <td>1350.106326</td>\n",
       "      <td>0.483115</td>\n",
       "      <td>12.435958</td>\n",
       "      <td>0.015077</td>\n",
       "      <td>879.0</td>\n",
       "      <td>821.0</td>\n",
       "      <td>D3</td>\n",
       "      <td>D3</td>\n",
       "    </tr>\n",
       "    <tr>\n",
       "      <th>5</th>\n",
       "      <td>5</td>\n",
       "      <td>e773e91e-cdd8-466c-be37-8ff86cb7f610</td>\n",
       "      <td>52.806463</td>\n",
       "      <td>59.674126</td>\n",
       "      <td>39.147849</td>\n",
       "      <td>1548.371562</td>\n",
       "      <td>0.718594</td>\n",
       "      <td>8.360767</td>\n",
       "      <td>0.010419</td>\n",
       "      <td>478.0</td>\n",
       "      <td>1222.0</td>\n",
       "      <td>D4</td>\n",
       "      <td>D4</td>\n",
       "    </tr>\n",
       "    <tr>\n",
       "      <th>6</th>\n",
       "      <td>6</td>\n",
       "      <td>4559d494-fcc2-4dfc-a4cf-a14d93eb0029</td>\n",
       "      <td>102.107158</td>\n",
       "      <td>177.169546</td>\n",
       "      <td>8.500000</td>\n",
       "      <td>1412.223295</td>\n",
       "      <td>0.371633</td>\n",
       "      <td>16.166470</td>\n",
       "      <td>0.019945</td>\n",
       "      <td>1068.0</td>\n",
       "      <td>632.0</td>\n",
       "      <td>D5</td>\n",
       "      <td>D5</td>\n",
       "    </tr>\n",
       "    <tr>\n",
       "      <th>7</th>\n",
       "      <td>7</td>\n",
       "      <td>78e5ec30-0b59-4536-a9e0-21b4bac433a8</td>\n",
       "      <td>67.497684</td>\n",
       "      <td>128.016714</td>\n",
       "      <td>8.500000</td>\n",
       "      <td>1495.985602</td>\n",
       "      <td>0.562189</td>\n",
       "      <td>10.686805</td>\n",
       "      <td>0.013285</td>\n",
       "      <td>744.0</td>\n",
       "      <td>956.0</td>\n",
       "      <td>D6</td>\n",
       "      <td>D6</td>\n",
       "    </tr>\n",
       "    <tr>\n",
       "      <th>8</th>\n",
       "      <td>8</td>\n",
       "      <td>e42bc4d2-0157-425c-aed0-4cdec425d9ab</td>\n",
       "      <td>120.342861</td>\n",
       "      <td>146.735320</td>\n",
       "      <td>171.336467</td>\n",
       "      <td>1261.585352</td>\n",
       "      <td>0.315319</td>\n",
       "      <td>19.053701</td>\n",
       "      <td>0.022952</td>\n",
       "      <td>1164.0</td>\n",
       "      <td>536.0</td>\n",
       "      <td>D7</td>\n",
       "      <td>D7</td>\n",
       "    </tr>\n",
       "    <tr>\n",
       "      <th>9</th>\n",
       "      <td>9</td>\n",
       "      <td>4133ded3-a2c0-4d14-b4fb-578358436a04</td>\n",
       "      <td>17.000000</td>\n",
       "      <td>159.878042</td>\n",
       "      <td>8.500000</td>\n",
       "      <td>1514.621958</td>\n",
       "      <td>2.232143</td>\n",
       "      <td>2.691584</td>\n",
       "      <td>0.003355</td>\n",
       "      <td>0.0</td>\n",
       "      <td>1700.0</td>\n",
       "      <td>D8</td>\n",
       "      <td>D8</td>\n",
       "    </tr>\n",
       "    <tr>\n",
       "      <th>10</th>\n",
       "      <td>10</td>\n",
       "      <td>79149445-b04e-499f-bfa2-362ba81c3121</td>\n",
       "      <td>72.795379</td>\n",
       "      <td>70.436200</td>\n",
       "      <td>8.500000</td>\n",
       "      <td>1548.268421</td>\n",
       "      <td>0.521275</td>\n",
       "      <td>11.525581</td>\n",
       "      <td>0.014387</td>\n",
       "      <td>814.0</td>\n",
       "      <td>886.0</td>\n",
       "      <td>E1</td>\n",
       "      <td>E1</td>\n",
       "    </tr>\n",
       "    <tr>\n",
       "      <th>11</th>\n",
       "      <td>11</td>\n",
       "      <td>f2aac2f9-31c5-4eaf-be0b-ed9c1ec48ac4</td>\n",
       "      <td>105.384178</td>\n",
       "      <td>88.456498</td>\n",
       "      <td>250.912468</td>\n",
       "      <td>1255.246855</td>\n",
       "      <td>0.360077</td>\n",
       "      <td>16.685316</td>\n",
       "      <td>0.019986</td>\n",
       "      <td>1088.0</td>\n",
       "      <td>612.0</td>\n",
       "      <td>E3</td>\n",
       "      <td>E3</td>\n",
       "    </tr>\n",
       "    <tr>\n",
       "      <th>12</th>\n",
       "      <td>12</td>\n",
       "      <td>97be35cc-6af5-4906-a5ec-6c5ab5836951</td>\n",
       "      <td>104.194804</td>\n",
       "      <td>128.661020</td>\n",
       "      <td>8.500000</td>\n",
       "      <td>1458.644176</td>\n",
       "      <td>0.364187</td>\n",
       "      <td>16.497004</td>\n",
       "      <td>0.020429</td>\n",
       "      <td>1081.0</td>\n",
       "      <td>619.0</td>\n",
       "      <td>E4</td>\n",
       "      <td>E4</td>\n",
       "    </tr>\n",
       "    <tr>\n",
       "      <th>13</th>\n",
       "      <td>13</td>\n",
       "      <td>6f651325-aa30-4e15-a8b8-8550752155de</td>\n",
       "      <td>17.000000</td>\n",
       "      <td>186.999999</td>\n",
       "      <td>8.500000</td>\n",
       "      <td>1487.500002</td>\n",
       "      <td>2.232143</td>\n",
       "      <td>2.691584</td>\n",
       "      <td>0.003348</td>\n",
       "      <td>0.0</td>\n",
       "      <td>1700.0</td>\n",
       "      <td>E5</td>\n",
       "      <td>E5</td>\n",
       "    </tr>\n",
       "    <tr>\n",
       "      <th>14</th>\n",
       "      <td>14</td>\n",
       "      <td>884360fc-1d5b-45f3-b018-3a687b81f8a7</td>\n",
       "      <td>190.498775</td>\n",
       "      <td>74.557186</td>\n",
       "      <td>157.476255</td>\n",
       "      <td>1277.467784</td>\n",
       "      <td>0.199195</td>\n",
       "      <td>30.161380</td>\n",
       "      <td>0.036354</td>\n",
       "      <td>1361.0</td>\n",
       "      <td>339.0</td>\n",
       "      <td>E6</td>\n",
       "      <td>E6</td>\n",
       "    </tr>\n",
       "    <tr>\n",
       "      <th>15</th>\n",
       "      <td>15</td>\n",
       "      <td>45d13e36-5ae6-4aba-a657-a6cce9fb8db6</td>\n",
       "      <td>61.079639</td>\n",
       "      <td>133.803360</td>\n",
       "      <td>255.000010</td>\n",
       "      <td>1250.116991</td>\n",
       "      <td>0.621262</td>\n",
       "      <td>9.670646</td>\n",
       "      <td>0.011588</td>\n",
       "      <td>644.0</td>\n",
       "      <td>1056.0</td>\n",
       "      <td>E8</td>\n",
       "      <td>E8</td>\n",
       "    </tr>\n",
       "    <tr>\n",
       "      <th>16</th>\n",
       "      <td>16</td>\n",
       "      <td>76e61e49-8d12-493d-aa0e-e367cf9222a1</td>\n",
       "      <td>125.772466</td>\n",
       "      <td>186.999999</td>\n",
       "      <td>49.355634</td>\n",
       "      <td>1337.871901</td>\n",
       "      <td>0.301707</td>\n",
       "      <td>19.913362</td>\n",
       "      <td>0.024338</td>\n",
       "      <td>1187.0</td>\n",
       "      <td>513.0</td>\n",
       "      <td>F1</td>\n",
       "      <td>F1</td>\n",
       "    </tr>\n",
       "    <tr>\n",
       "      <th>17</th>\n",
       "      <td>17</td>\n",
       "      <td>cb91c3d6-d0df-437e-a504-7433689fb381</td>\n",
       "      <td>17.000000</td>\n",
       "      <td>186.999999</td>\n",
       "      <td>255.000010</td>\n",
       "      <td>1240.999991</td>\n",
       "      <td>2.232143</td>\n",
       "      <td>2.691584</td>\n",
       "      <td>0.003226</td>\n",
       "      <td>0.0</td>\n",
       "      <td>1700.0</td>\n",
       "      <td>F2</td>\n",
       "      <td>F2</td>\n",
       "    </tr>\n",
       "    <tr>\n",
       "      <th>18</th>\n",
       "      <td>18</td>\n",
       "      <td>2ef2ca93-424e-4bab-ab05-e1a4a365afc9</td>\n",
       "      <td>140.084917</td>\n",
       "      <td>99.182012</td>\n",
       "      <td>28.917468</td>\n",
       "      <td>1431.815603</td>\n",
       "      <td>0.270882</td>\n",
       "      <td>22.179431</td>\n",
       "      <td>0.027342</td>\n",
       "      <td>1240.0</td>\n",
       "      <td>460.0</td>\n",
       "      <td>F3</td>\n",
       "      <td>F3</td>\n",
       "    </tr>\n",
       "    <tr>\n",
       "      <th>19</th>\n",
       "      <td>19</td>\n",
       "      <td>2c2e06ba-fd0d-4b67-ac27-94a71a40985c</td>\n",
       "      <td>154.968959</td>\n",
       "      <td>133.155064</td>\n",
       "      <td>199.449208</td>\n",
       "      <td>1212.426769</td>\n",
       "      <td>0.244865</td>\n",
       "      <td>24.535998</td>\n",
       "      <td>0.029362</td>\n",
       "      <td>1284.0</td>\n",
       "      <td>416.0</td>\n",
       "      <td>F4</td>\n",
       "      <td>F4</td>\n",
       "    </tr>\n",
       "  </tbody>\n",
       "</table>\n",
       "</div>"
      ],
      "text/plain": [
       "    Unnamed: 0                                  uuid  teos_volume  \\\n",
       "0            0  bbd1bfff-7563-4360-b5b8-86a1deb3928f    91.455773   \n",
       "1            1  5b9ac046-6ca6-4ebc-87f3-e272edaedb7b   140.351853   \n",
       "2            2  9f782755-5ca4-4466-a1f1-a87ef665ed22   255.000010   \n",
       "3            3  f8b2207f-b63c-44d9-8fe4-70639fdd3f5c   255.000010   \n",
       "4            4  61431cc9-9557-45af-82c4-9e7acb251717    78.545307   \n",
       "5            5  e773e91e-cdd8-466c-be37-8ff86cb7f610    52.806463   \n",
       "6            6  4559d494-fcc2-4dfc-a4cf-a14d93eb0029   102.107158   \n",
       "7            7  78e5ec30-0b59-4536-a9e0-21b4bac433a8    67.497684   \n",
       "8            8  e42bc4d2-0157-425c-aed0-4cdec425d9ab   120.342861   \n",
       "9            9  4133ded3-a2c0-4d14-b4fb-578358436a04    17.000000   \n",
       "10          10  79149445-b04e-499f-bfa2-362ba81c3121    72.795379   \n",
       "11          11  f2aac2f9-31c5-4eaf-be0b-ed9c1ec48ac4   105.384178   \n",
       "12          12  97be35cc-6af5-4906-a5ec-6c5ab5836951   104.194804   \n",
       "13          13  6f651325-aa30-4e15-a8b8-8550752155de    17.000000   \n",
       "14          14  884360fc-1d5b-45f3-b018-3a687b81f8a7   190.498775   \n",
       "15          15  45d13e36-5ae6-4aba-a657-a6cce9fb8db6    61.079639   \n",
       "16          16  76e61e49-8d12-493d-aa0e-e367cf9222a1   125.772466   \n",
       "17          17  cb91c3d6-d0df-437e-a504-7433689fb381    17.000000   \n",
       "18          18  2ef2ca93-424e-4bab-ab05-e1a4a365afc9   140.084917   \n",
       "19          19  2c2e06ba-fd0d-4b67-ac27-94a71a40985c   154.968959   \n",
       "\n",
       "    ammonia_volume  water_volume  ethanol_volume  dilution_volume_fraction  \\\n",
       "0       121.416734    255.000010     1232.127483                  0.414916   \n",
       "1         8.500000    255.000010     1296.148137                  0.270366   \n",
       "2        42.990994    255.000010     1147.008985                  0.148810   \n",
       "3        53.976205      8.500000     1382.523785                  0.148810   \n",
       "4        77.696470    193.651897     1350.106326                  0.483115   \n",
       "5        59.674126     39.147849     1548.371562                  0.718594   \n",
       "6       177.169546      8.500000     1412.223295                  0.371633   \n",
       "7       128.016714      8.500000     1495.985602                  0.562189   \n",
       "8       146.735320    171.336467     1261.585352                  0.315319   \n",
       "9       159.878042      8.500000     1514.621958                  2.232143   \n",
       "10       70.436200      8.500000     1548.268421                  0.521275   \n",
       "11       88.456498    250.912468     1255.246855                  0.360077   \n",
       "12      128.661020      8.500000     1458.644176                  0.364187   \n",
       "13      186.999999      8.500000     1487.500002                  2.232143   \n",
       "14       74.557186    157.476255     1277.467784                  0.199195   \n",
       "15      133.803360    255.000010     1250.116991                  0.621262   \n",
       "16      186.999999     49.355634     1337.871901                  0.301707   \n",
       "17      186.999999    255.000010     1240.999991                  2.232143   \n",
       "18       99.182012     28.917468     1431.815603                  0.270882   \n",
       "19      133.155064    199.449208     1212.426769                  0.244865   \n",
       "\n",
       "    silica_mass_conc  silica_mass_fraction  ethanol_dilute_vol  \\\n",
       "0          14.480053              0.017314               995.0   \n",
       "1          22.221694              0.026673              1240.0   \n",
       "2          40.373762              0.047775              1447.0   \n",
       "3          40.373762              0.049511              1447.0   \n",
       "4          12.435958              0.015077               879.0   \n",
       "5           8.360767              0.010419               478.0   \n",
       "6          16.166470              0.019945              1068.0   \n",
       "7          10.686805              0.013285               744.0   \n",
       "8          19.053701              0.022952              1164.0   \n",
       "9           2.691584              0.003355                 0.0   \n",
       "10         11.525581              0.014387               814.0   \n",
       "11         16.685316              0.019986              1088.0   \n",
       "12         16.497004              0.020429              1081.0   \n",
       "13          2.691584              0.003348                 0.0   \n",
       "14         30.161380              0.036354              1361.0   \n",
       "15          9.670646              0.011588               644.0   \n",
       "16         19.913362              0.024338              1187.0   \n",
       "17          2.691584              0.003226                 0.0   \n",
       "18         22.179431              0.027342              1240.0   \n",
       "19         24.535998              0.029362              1284.0   \n",
       "\n",
       "    sample_dilute_vol well dilute_well  \n",
       "0               705.0   C7          C7  \n",
       "1               460.0   C8          C8  \n",
       "2               253.0   D1          D1  \n",
       "3               253.0   D2          D2  \n",
       "4               821.0   D3          D3  \n",
       "5              1222.0   D4          D4  \n",
       "6               632.0   D5          D5  \n",
       "7               956.0   D6          D6  \n",
       "8               536.0   D7          D7  \n",
       "9              1700.0   D8          D8  \n",
       "10              886.0   E1          E1  \n",
       "11              612.0   E3          E3  \n",
       "12              619.0   E4          E4  \n",
       "13             1700.0   E5          E5  \n",
       "14              339.0   E6          E6  \n",
       "15             1056.0   E8          E8  \n",
       "16              513.0   F1          F1  \n",
       "17             1700.0   F2          F2  \n",
       "18              460.0   F3          F3  \n",
       "19              416.0   F4          F4  "
      ]
     },
     "execution_count": 151,
     "metadata": {},
     "output_type": "execute_result"
    }
   ],
   "source": [
    "dilution_table_apdist"
   ]
  },
  {
   "cell_type": "code",
   "execution_count": null,
   "id": "438b544c-b4c3-47dd-b2b3-64f111416b9b",
   "metadata": {},
   "outputs": [],
   "source": []
  }
 ],
 "metadata": {
  "kernelspec": {
   "display_name": "Python 3 (ipykernel)",
   "language": "python",
   "name": "python3"
  },
  "language_info": {
   "codemirror_mode": {
    "name": "ipython",
    "version": 3
   },
   "file_extension": ".py",
   "mimetype": "text/x-python",
   "name": "python",
   "nbconvert_exporter": "python",
   "pygments_lexer": "ipython3",
   "version": "3.9.19"
  }
 },
 "nbformat": 4,
 "nbformat_minor": 5
}
