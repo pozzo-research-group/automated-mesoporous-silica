{
 "cells": [
  {
   "cell_type": "code",
   "execution_count": 3,
   "id": "ac3ff71f-cd2d-4cc1-804d-a97d5ee0535f",
   "metadata": {},
   "outputs": [
    {
     "name": "stdout",
     "output_type": "stream",
     "text": [
      "The autoreload extension is already loaded. To reload it, use:\n",
      "  %reload_ext autoreload\n"
     ]
    }
   ],
   "source": [
    "%load_ext autoreload\n",
    "%autoreload 2\n",
    "\n",
    "from saxs_data_processing import io, manipulate, target_comparison, subtract, sasview_fitting\n",
    "import numpy as np\n",
    "import matplotlib.pyplot as plt\n",
    "from matplotlib.backends.backend_pdf import PdfPages\n",
    "import pandas as pd\n",
    "import json\n",
    "import sys\n",
    "sys.path.append('../visualizations/phase_diagram_viz')\n",
    "import utils as pd_utils"
   ]
  },
  {
   "cell_type": "markdown",
   "id": "943849a4-a957-42a2-93bc-ca5b3cbaa56f",
   "metadata": {},
   "source": [
    "## In silico optimization simulation"
   ]
  },
  {
   "cell_type": "markdown",
   "id": "4d65ee6a-49e0-454c-88b8-54148f7cc7b3",
   "metadata": {},
   "source": [
    "- objective functions work on volume fractions\n",
    "- BO works on bounds/0-1\n",
    "\n",
    "\n",
    "Ground truth:\n",
    "\n",
    "- Diameter 80nm at [0.007, 0.018, 0.04]\n",
    "- PDI min at [0.007, 0.025, 0.03]"
   ]
  },
  {
   "cell_type": "markdown",
   "id": "dfbc552b-76c9-4354-9234-962ddf7a7ae5",
   "metadata": {},
   "source": [
    "### parameters "
   ]
  },
  {
   "cell_type": "code",
   "execution_count": 117,
   "id": "a65746bd-d6aa-4008-981a-163d4e884159",
   "metadata": {},
   "outputs": [],
   "source": [
    "#scale parameters\n",
    "n_avg = 100\n",
    "\n",
    "# Amplitude-phase distance parameters\n",
    "optim = \"DP\"\n",
    "grid_dim = 10\n",
    "amplitude_weight = 0.5\n",
    "\n",
    "## Sobol sample\n",
    "seed = 42\n",
    "m_samples = 5 # 2**m_samples = n_samples"
   ]
  },
  {
   "cell_type": "code",
   "execution_count": null,
   "id": "faf68845-397b-4a90-9fb2-9ffa918d5166",
   "metadata": {},
   "outputs": [],
   "source": []
  },
  {
   "cell_type": "code",
   "execution_count": 31,
   "id": "9f8c4590-7bc5-4f81-89ba-5b74cef0e73b",
   "metadata": {},
   "outputs": [
    {
     "data": {
      "text/plain": [
       "np.float64(-5.298317366548036)"
      ]
     },
     "execution_count": 31,
     "metadata": {},
     "output_type": "execute_result"
    }
   ],
   "source": [
    "np.log(0.005)"
   ]
  },
  {
   "cell_type": "code",
   "execution_count": 32,
   "id": "2d26b5b3-710a-4497-afe0-ff01d655a361",
   "metadata": {},
   "outputs": [
    {
     "data": {
      "text/plain": [
       "np.float64(1.005012520859401)"
      ]
     },
     "execution_count": 32,
     "metadata": {},
     "output_type": "execute_result"
    }
   ],
   "source": [
    "np.exp(0.005)"
   ]
  },
  {
   "cell_type": "markdown",
   "id": "a5efe0e8-b7af-4885-8474-77255c5fbf0b",
   "metadata": {},
   "source": [
    "### 1. define ground truth functions"
   ]
  },
  {
   "cell_type": "code",
   "execution_count": 33,
   "id": "a8894cbc-1ec6-47d1-a3b6-77eae6a0b9e6",
   "metadata": {},
   "outputs": [],
   "source": [
    "def particle_diameter(x_1, x_2, x_3):\n",
    "    const = 57.36\n",
    "    a = const\n",
    "    b = 6*const\n",
    "    c = 6*const\n",
    "\n",
    "    diameter = a*np.log(x_1) + b*np.exp(x_2)+c*x_3\n",
    "\n",
    "    \n",
    "    return diameter"
   ]
  },
  {
   "cell_type": "code",
   "execution_count": 60,
   "id": "0580ee6f-b8b2-4d10-aaf2-a65cd5fa8084",
   "metadata": {},
   "outputs": [],
   "source": [
    "def particle_pdi_gaussian(x_1, x_2, x_3, mu_x=0.007, mu_y=0.025, mu_z=0.03, sigma_x1=0.08, sigma_x2=0.1, sigma_x3=5, amplitude=1, offset=1.1):\n",
    "    \"\"\"\n",
    "    Computes the value of a 3D Gaussian function at (x, y, z).\n",
    "    \n",
    "    Parameters:\n",
    "    x, y, z : float or np.array\n",
    "        Input coordinates where the function is evaluated.\n",
    "    mu_x, mu_y, mu_z : float\n",
    "        Center (mean) of the Gaussian in each dimension.\n",
    "    sigma_x, sigma_y, sigma_z : float\n",
    "        Standard deviations in x, y, and z directions.\n",
    "    amplitude : float\n",
    "        Peak value of the Gaussian.\n",
    "    offset : float\n",
    "        Baseline offset added to the function.\n",
    "\n",
    "    Returns:\n",
    "    float or np.array\n",
    "        The computed Gaussian function value.\n",
    "    \"\"\"\n",
    "    exponent = -(((x_1 - mu_x)**2 / (2 * sigma_x1**2)) + \n",
    "                 ((x_2 - mu_y)**2 / (2 * sigma_x2**2)) + \n",
    "                 ((x_3 - mu_z)**2 / (2 * sigma_x3**2)))\n",
    "    return -amplitude * np.exp(exponent) + offset\n"
   ]
  },
  {
   "cell_type": "code",
   "execution_count": 129,
   "id": "221728b6-25e4-4f53-a00f-369f13dd451a",
   "metadata": {},
   "outputs": [
    {
     "name": "stderr",
     "output_type": "stream",
     "text": [
      "/tmp/ipykernel_1997/1600812931.py:7: RuntimeWarning: divide by zero encountered in log\n",
      "  diameter = a*np.log(x_1) + b*np.exp(x_2)+c*x_3\n"
     ]
    },
    {
     "data": {
      "text/plain": [
       "[<matplotlib.lines.Line2D at 0x7fa777043f20>]"
      ]
     },
     "execution_count": 129,
     "metadata": {},
     "output_type": "execute_result"
    },
    {
     "data": {
      "image/png": "[encoded data removed]",
      "text/plain": [
       "<Figure size 640x480 with 1 Axes>"
      ]
     },
     "metadata": {},
     "output_type": "display_data"
    }
   ],
   "source": [
    "plt.plot(x, particle_diameter(x, 0.018, 0.03))"
   ]
  },
  {
   "cell_type": "code",
   "execution_count": 63,
   "id": "685de2d7-d553-47b4-99d9-9b9800a8772e",
   "metadata": {},
   "outputs": [
    {
     "data": {
      "text/plain": [
       "array([0.10382081, 0.10280855, 0.10195122, ..., 1.1       , 1.1       ,\n",
       "       1.1       ])"
      ]
     },
     "execution_count": 63,
     "metadata": {},
     "output_type": "execute_result"
    }
   ],
   "source": [
    "particle_pdi_gaussian(x, 0.025, 0.03)"
   ]
  },
  {
   "cell_type": "code",
   "execution_count": 130,
   "id": "addce2b8-5465-4e1e-844f-d00ff2357987",
   "metadata": {},
   "outputs": [
    {
     "data": {
      "text/plain": [
       "np.float64(79.56593330170878)"
      ]
     },
     "execution_count": 130,
     "metadata": {},
     "output_type": "execute_result"
    }
   ],
   "source": [
    "particle_diameter(0.007, 0.018, 0.04)"
   ]
  },
  {
   "cell_type": "code",
   "execution_count": 30,
   "id": "b049e19f-577b-494f-b905-2dd17b753c49",
   "metadata": {},
   "outputs": [
    {
     "ename": "ValueError",
     "evalue": "x and y must have same first dimension, but have shapes (1001,) and (1,)",
     "output_type": "error",
     "traceback": [
      "\u001b[0;31m---------------------------------------------------------------------------\u001b[0m",
      "\u001b[0;31mValueError\u001b[0m                                Traceback (most recent call last)",
      "Cell \u001b[0;32mIn[30], line 4\u001b[0m\n\u001b[1;32m      1\u001b[0m x \u001b[38;5;241m=\u001b[39m np\u001b[38;5;241m.\u001b[39mlinspace(\u001b[38;5;241m0\u001b[39m, \u001b[38;5;241m1\u001b[39m, \u001b[38;5;241m1001\u001b[39m)\n\u001b[1;32m      2\u001b[0m y \u001b[38;5;241m=\u001b[39m np\u001b[38;5;241m.\u001b[39mlog(\u001b[38;5;241m0.005\u001b[39m)\n\u001b[0;32m----> 4\u001b[0m plt\u001b[38;5;241m.\u001b[39mplot(x,y)\n",
      "File \u001b[0;32m~/miniconda3/envs/sas/lib/python3.12/site-packages/matplotlib/pyplot.py:3794\u001b[0m, in \u001b[0;36mplot\u001b[0;34m(scalex, scaley, data, *args, **kwargs)\u001b[0m\n\u001b[1;32m   3786\u001b[0m \u001b[38;5;129m@_copy_docstring_and_deprecators\u001b[39m(Axes\u001b[38;5;241m.\u001b[39mplot)\n\u001b[1;32m   3787\u001b[0m \u001b[38;5;28;01mdef\u001b[39;00m \u001b[38;5;21mplot\u001b[39m(\n\u001b[1;32m   3788\u001b[0m     \u001b[38;5;241m*\u001b[39margs: \u001b[38;5;28mfloat\u001b[39m \u001b[38;5;241m|\u001b[39m ArrayLike \u001b[38;5;241m|\u001b[39m \u001b[38;5;28mstr\u001b[39m,\n\u001b[0;32m   (...)\u001b[0m\n\u001b[1;32m   3792\u001b[0m     \u001b[38;5;241m*\u001b[39m\u001b[38;5;241m*\u001b[39mkwargs,\n\u001b[1;32m   3793\u001b[0m ) \u001b[38;5;241m-\u001b[39m\u001b[38;5;241m>\u001b[39m \u001b[38;5;28mlist\u001b[39m[Line2D]:\n\u001b[0;32m-> 3794\u001b[0m     \u001b[38;5;28;01mreturn\u001b[39;00m gca()\u001b[38;5;241m.\u001b[39mplot(\n\u001b[1;32m   3795\u001b[0m         \u001b[38;5;241m*\u001b[39margs,\n\u001b[1;32m   3796\u001b[0m         scalex\u001b[38;5;241m=\u001b[39mscalex,\n\u001b[1;32m   3797\u001b[0m         scaley\u001b[38;5;241m=\u001b[39mscaley,\n\u001b[1;32m   3798\u001b[0m         \u001b[38;5;241m*\u001b[39m\u001b[38;5;241m*\u001b[39m({\u001b[38;5;124m\"\u001b[39m\u001b[38;5;124mdata\u001b[39m\u001b[38;5;124m\"\u001b[39m: data} \u001b[38;5;28;01mif\u001b[39;00m data \u001b[38;5;129;01mis\u001b[39;00m \u001b[38;5;129;01mnot\u001b[39;00m \u001b[38;5;28;01mNone\u001b[39;00m \u001b[38;5;28;01melse\u001b[39;00m {}),\n\u001b[1;32m   3799\u001b[0m         \u001b[38;5;241m*\u001b[39m\u001b[38;5;241m*\u001b[39mkwargs,\n\u001b[1;32m   3800\u001b[0m     )\n",
      "File \u001b[0;32m~/miniconda3/envs/sas/lib/python3.12/site-packages/matplotlib/axes/_axes.py:1779\u001b[0m, in \u001b[0;36mAxes.plot\u001b[0;34m(self, scalex, scaley, data, *args, **kwargs)\u001b[0m\n\u001b[1;32m   1536\u001b[0m \u001b[38;5;250m\u001b[39m\u001b[38;5;124;03m\"\"\"\u001b[39;00m\n\u001b[1;32m   1537\u001b[0m \u001b[38;5;124;03mPlot y versus x as lines and/or markers.\u001b[39;00m\n\u001b[1;32m   1538\u001b[0m \n\u001b[0;32m   (...)\u001b[0m\n\u001b[1;32m   1776\u001b[0m \u001b[38;5;124;03m(``'green'``) or hex strings (``'#008000'``).\u001b[39;00m\n\u001b[1;32m   1777\u001b[0m \u001b[38;5;124;03m\"\"\"\u001b[39;00m\n\u001b[1;32m   1778\u001b[0m kwargs \u001b[38;5;241m=\u001b[39m cbook\u001b[38;5;241m.\u001b[39mnormalize_kwargs(kwargs, mlines\u001b[38;5;241m.\u001b[39mLine2D)\n\u001b[0;32m-> 1779\u001b[0m lines \u001b[38;5;241m=\u001b[39m [\u001b[38;5;241m*\u001b[39m\u001b[38;5;28mself\u001b[39m\u001b[38;5;241m.\u001b[39m_get_lines(\u001b[38;5;28mself\u001b[39m, \u001b[38;5;241m*\u001b[39margs, data\u001b[38;5;241m=\u001b[39mdata, \u001b[38;5;241m*\u001b[39m\u001b[38;5;241m*\u001b[39mkwargs)]\n\u001b[1;32m   1780\u001b[0m \u001b[38;5;28;01mfor\u001b[39;00m line \u001b[38;5;129;01min\u001b[39;00m lines:\n\u001b[1;32m   1781\u001b[0m     \u001b[38;5;28mself\u001b[39m\u001b[38;5;241m.\u001b[39madd_line(line)\n",
      "File \u001b[0;32m~/miniconda3/envs/sas/lib/python3.12/site-packages/matplotlib/axes/_base.py:296\u001b[0m, in \u001b[0;36m_process_plot_var_args.__call__\u001b[0;34m(self, axes, data, *args, **kwargs)\u001b[0m\n\u001b[1;32m    294\u001b[0m     this \u001b[38;5;241m+\u001b[39m\u001b[38;5;241m=\u001b[39m args[\u001b[38;5;241m0\u001b[39m],\n\u001b[1;32m    295\u001b[0m     args \u001b[38;5;241m=\u001b[39m args[\u001b[38;5;241m1\u001b[39m:]\n\u001b[0;32m--> 296\u001b[0m \u001b[38;5;28;01myield from\u001b[39;00m \u001b[38;5;28mself\u001b[39m\u001b[38;5;241m.\u001b[39m_plot_args(\n\u001b[1;32m    297\u001b[0m     axes, this, kwargs, ambiguous_fmt_datakey\u001b[38;5;241m=\u001b[39mambiguous_fmt_datakey)\n",
      "File \u001b[0;32m~/miniconda3/envs/sas/lib/python3.12/site-packages/matplotlib/axes/_base.py:486\u001b[0m, in \u001b[0;36m_process_plot_var_args._plot_args\u001b[0;34m(self, axes, tup, kwargs, return_kwargs, ambiguous_fmt_datakey)\u001b[0m\n\u001b[1;32m    483\u001b[0m     axes\u001b[38;5;241m.\u001b[39myaxis\u001b[38;5;241m.\u001b[39mupdate_units(y)\n\u001b[1;32m    485\u001b[0m \u001b[38;5;28;01mif\u001b[39;00m x\u001b[38;5;241m.\u001b[39mshape[\u001b[38;5;241m0\u001b[39m] \u001b[38;5;241m!=\u001b[39m y\u001b[38;5;241m.\u001b[39mshape[\u001b[38;5;241m0\u001b[39m]:\n\u001b[0;32m--> 486\u001b[0m     \u001b[38;5;28;01mraise\u001b[39;00m \u001b[38;5;167;01mValueError\u001b[39;00m(\u001b[38;5;124mf\u001b[39m\u001b[38;5;124m\"\u001b[39m\u001b[38;5;124mx and y must have same first dimension, but \u001b[39m\u001b[38;5;124m\"\u001b[39m\n\u001b[1;32m    487\u001b[0m                      \u001b[38;5;124mf\u001b[39m\u001b[38;5;124m\"\u001b[39m\u001b[38;5;124mhave shapes \u001b[39m\u001b[38;5;132;01m{\u001b[39;00mx\u001b[38;5;241m.\u001b[39mshape\u001b[38;5;132;01m}\u001b[39;00m\u001b[38;5;124m and \u001b[39m\u001b[38;5;132;01m{\u001b[39;00my\u001b[38;5;241m.\u001b[39mshape\u001b[38;5;132;01m}\u001b[39;00m\u001b[38;5;124m\"\u001b[39m)\n\u001b[1;32m    488\u001b[0m \u001b[38;5;28;01mif\u001b[39;00m x\u001b[38;5;241m.\u001b[39mndim \u001b[38;5;241m>\u001b[39m \u001b[38;5;241m2\u001b[39m \u001b[38;5;129;01mor\u001b[39;00m y\u001b[38;5;241m.\u001b[39mndim \u001b[38;5;241m>\u001b[39m \u001b[38;5;241m2\u001b[39m:\n\u001b[1;32m    489\u001b[0m     \u001b[38;5;28;01mraise\u001b[39;00m \u001b[38;5;167;01mValueError\u001b[39;00m(\u001b[38;5;124mf\u001b[39m\u001b[38;5;124m\"\u001b[39m\u001b[38;5;124mx and y can be no greater than 2D, but have \u001b[39m\u001b[38;5;124m\"\u001b[39m\n\u001b[1;32m    490\u001b[0m                      \u001b[38;5;124mf\u001b[39m\u001b[38;5;124m\"\u001b[39m\u001b[38;5;124mshapes \u001b[39m\u001b[38;5;132;01m{\u001b[39;00mx\u001b[38;5;241m.\u001b[39mshape\u001b[38;5;132;01m}\u001b[39;00m\u001b[38;5;124m and \u001b[39m\u001b[38;5;132;01m{\u001b[39;00my\u001b[38;5;241m.\u001b[39mshape\u001b[38;5;132;01m}\u001b[39;00m\u001b[38;5;124m\"\u001b[39m)\n",
      "\u001b[0;31mValueError\u001b[0m: x and y must have same first dimension, but have shapes (1001,) and (1,)"
     ]
    },
    {
     "data": {
      "image/png": "[encoded data removed]",
      "text/plain": [
       "<Figure size 640x480 with 1 Axes>"
      ]
     },
     "metadata": {},
     "output_type": "display_data"
    }
   ],
   "source": [
    "x = np.linspace(0, 1, 1001)\n",
    "y = np.log(0.005)\n",
    "\n",
    "plt.plot(x,y)"
   ]
  },
  {
   "cell_type": "code",
   "execution_count": null,
   "id": "9c28179e-6617-455d-8b6c-8f19cb8cde2a",
   "metadata": {},
   "outputs": [],
   "source": []
  },
  {
   "cell_type": "code",
   "execution_count": null,
   "id": "fd1ab44a-2f30-4a99-924b-74d8200088fc",
   "metadata": {},
   "outputs": [],
   "source": []
  },
  {
   "cell_type": "markdown",
   "id": "335ecd31-4a01-4ac2-bfa3-3e4b1bf6305c",
   "metadata": {},
   "source": [
    "### 2. Calculate scattering"
   ]
  },
  {
   "cell_type": "code",
   "execution_count": 10,
   "id": "5fbbb776-5732-45de-ad1c-870e86af497f",
   "metadata": {},
   "outputs": [],
   "source": [
    "# q range to consider up to and including spline fit step\n",
    "q_min_subtract = 0.002\n",
    "q_max_subtract = 0.035\n",
    "\n",
    "# q range to interpolate spline fit on and perform distance metric calculation with\n",
    "q_min_spl = 0.003\n",
    "q_max_spl = 0.03\n",
    "n_interpolate_gridpts = 1001 # number of grid points to interpolate q on."
   ]
  },
  {
   "cell_type": "code",
   "execution_count": 131,
   "id": "81643ac1-cf0d-4902-889e-1470d82345be",
   "metadata": {},
   "outputs": [],
   "source": [
    "target_r_nm = 40\n",
    "target_r_angs = target_r_nm*10\n",
    "target_pdi = 0.1\n",
    "sld_silica = 8.575\n",
    "sld_etoh = 9.611"
   ]
  },
  {
   "cell_type": "code",
   "execution_count": 132,
   "id": "89cbd867-6906-4ba1-8615-f6e78815f1d3",
   "metadata": {},
   "outputs": [],
   "source": [
    "q_grid = np.linspace(np.log10(q_min_spl), np.log10(q_max_spl), n_interpolate_gridpts)\n",
    "\n",
    "q_grid_nonlog = 10**q_grid\n",
    "target_I = target_comparison.target_intensities(q_grid_nonlog, target_r_angs, target_pdi, sld_silica, sld_etoh)\n",
    "target_I = np.log10(target_I)"
   ]
  },
  {
   "cell_type": "code",
   "execution_count": 133,
   "id": "13d0d3cb-2f68-4f5f-ada6-6fd4cb17a35c",
   "metadata": {},
   "outputs": [
    {
     "data": {
      "image/png": "[encoded data removed]",
      "text/plain": [
       "<Figure size 640x480 with 1 Axes>"
      ]
     },
     "metadata": {},
     "output_type": "display_data"
    }
   ],
   "source": [
    "fig, ax = plt.subplots()\n",
    "ax.loglog(10**q_grid, 10**target_I)\n",
    "ax.set_xlabel('q [1/A]')\n",
    "ax.set_title('120nm, 0.08 PDI target scattering')\n",
    "plt.tight_layout()\n"
   ]
  },
  {
   "cell_type": "markdown",
   "id": "bd43a343-1b29-412f-980a-615efe88785c",
   "metadata": {},
   "source": [
    "## 3. put together 'experiment' code:"
   ]
  },
  {
   "cell_type": "code",
   "execution_count": 134,
   "id": "220278ac-b98e-4c0b-99af-8f67f6e521f0",
   "metadata": {},
   "outputs": [],
   "source": [
    "def syringe_precision(vol_frac, noise_frac):\n",
    "    \"\"\"\n",
    "    vol_frac - volume fraction to be noised\n",
    "    noise-frac - what fraction of full syringe uncertainty to use (0 is noise free, 1 is full)\n",
    "    \"\"\"\n",
    "    if vol_frac <= 0.029:\n",
    "        precision = noise_frac* (-3551*vol_frac + 110)/100\n",
    "    else:\n",
    "        precision = noise_frac*0.0073\n",
    "\n",
    "    return precision"
   ]
  },
  {
   "cell_type": "code",
   "execution_count": 135,
   "id": "2fcb8e1b-6a14-4300-81bb-5ee5ee7ea092",
   "metadata": {},
   "outputs": [],
   "source": [
    "def noisy_dispense(vol_frac, noise_frac):\n",
    "    \"\"\"\n",
    "    calculate the 'noisy' amount to 'dispense' when calculating diameter, pdi\n",
    "\n",
    "    vol frac - volume fraction 'called for' by planner\n",
    "    noise_frac - noise parameter, [0,1], 1 is syringe noise, 0 is noise free\n",
    "    \"\"\"\n",
    "\n",
    "    vol_std = syringe_precision(vol_frac, noise_frac)*vol_frac\n",
    "    sampled_vol_frac = np.random.normal(loc = vol_frac, scale=vol_std)\n",
    "    if sampled_vol_frac < 0:\n",
    "        sampled_vol_frac = 0\n",
    "    return sampled_vol_frac"
   ]
  },
  {
   "cell_type": "code",
   "execution_count": 139,
   "id": "4b88de63-7097-4b52-b75b-ae3b20344baa",
   "metadata": {},
   "outputs": [],
   "source": [
    "# something provides volume fractions to use\n",
    "noise_frac = 1\n",
    "sample_point = [0.007, 0.018, 0.04]\n",
    "# 1. calculate uncertainty on those volume fractions: \n",
    "\n",
    "noisy_sample_point = [noisy_dispense(sample_point[0], noise_frac), noisy_dispense(sample_point[1], noise_frac), noisy_dispense(sample_point[2], noise_frac)]\n",
    "\n",
    "diameter = particle_diameter(noisy_sample_point[0], noisy_sample_point[1], noisy_sample_point[2])\n",
    "pdi = particle_pdi_gaussian(noisy_sample_point[0], noisy_sample_point[1], noisy_sample_point[2])\n",
    "\n",
    "target_r_angs = diameter*10/2\n",
    "\n",
    "\n",
    "scattering = target_comparison.target_intensities(q_grid_nonlog, target_r_angs, pdi, sld_silica, sld_etoh)"
   ]
  },
  {
   "cell_type": "code",
   "execution_count": 140,
   "id": "922d52e0-df8c-4113-9ba1-0766f08f16fc",
   "metadata": {},
   "outputs": [
    {
     "data": {
      "text/plain": [
       "np.float64(72.40746713705413)"
      ]
     },
     "execution_count": 140,
     "metadata": {},
     "output_type": "execute_result"
    }
   ],
   "source": [
    "diameter"
   ]
  },
  {
   "cell_type": "code",
   "execution_count": 141,
   "id": "d6c7488d-5b4a-4a72-85d0-5ca142ba48b6",
   "metadata": {},
   "outputs": [
    {
     "data": {
      "image/png": "[encoded data removed]",
      "text/plain": [
       "<Figure size 640x480 with 1 Axes>"
      ]
     },
     "metadata": {},
     "output_type": "display_data"
    }
   ],
   "source": [
    "fig, ax = plt.subplots()\n",
    "ax.loglog(q_grid_nonlog, scattering)\n",
    "ax.set_xlabel('q [1/A]')\n",
    "ax.set_title('120nm, 0.08 PDI target scattering')\n",
    "plt.tight_layout()"
   ]
  },
  {
   "cell_type": "code",
   "execution_count": 142,
   "id": "531a979a-e3f9-4d5b-bf8e-91b044502fc7",
   "metadata": {},
   "outputs": [
    {
     "data": {
      "text/plain": [
       "array([-2.52287875, -2.52187875, -2.52087875, ..., -1.52487875,\n",
       "       -1.52387875, -1.52287875])"
      ]
     },
     "execution_count": 142,
     "metadata": {},
     "output_type": "execute_result"
    }
   ],
   "source": [
    "q_grid"
   ]
  },
  {
   "cell_type": "markdown",
   "id": "05f692cc-03c2-4bec-a15c-7fe91da075fa",
   "metadata": {},
   "source": [
    "## 4. Data processing\n",
    "\n",
    "- just do scaling and AP distance here"
   ]
  },
  {
   "cell_type": "code",
   "execution_count": 143,
   "id": "608e14d1-516d-4f19-93ea-7193522c04b8",
   "metadata": {},
   "outputs": [],
   "source": [
    "def process_measurement(scattering, target_I, q_grid, amplitude_weight):\n",
    "    # processing works in log(I) space \n",
    "\n",
    "    \n",
    "    scattering = np.log10(scattering)\n",
    "    target_I = np.log10(target_I)\n",
    "    I_scaled = manipulate.scale_intensity_highqavg(scattering, target_I, n_avg = n_avg)\n",
    "    amplitude, phase = target_comparison.ap_distance(q_grid, I_scaled, target_I, optim = optim, grid_dim = grid_dim)\n",
    "\n",
    "    ap_sum = amplitude_weight*amplitude + (1-amplitude_weight)*phase\n",
    "\n",
    "    return ap_sum"
   ]
  },
  {
   "cell_type": "code",
   "execution_count": 144,
   "id": "1db3df1d-0653-4742-8015-2dcff3dbf745",
   "metadata": {},
   "outputs": [
    {
     "data": {
      "text/plain": [
       "np.float64(0.6138462120655134)"
      ]
     },
     "execution_count": 144,
     "metadata": {},
     "output_type": "execute_result"
    }
   ],
   "source": [
    "process_measurement(scattering, target_I, q_grid, amplitude_weight)"
   ]
  },
  {
   "cell_type": "markdown",
   "id": "a9e4ad96-9873-4914-bab1-1fe724cd1b55",
   "metadata": {},
   "source": [
    "## 5. BO "
   ]
  },
  {
   "cell_type": "markdown",
   "id": "43931b0f-aa15-4474-91d5-7219aef13893",
   "metadata": {},
   "source": [
    "function call to do BO "
   ]
  },
  {
   "cell_type": "code",
   "execution_count": null,
   "id": "bce85f8d-11ca-4d06-a487-d42d32bfc427",
   "metadata": {},
   "outputs": [],
   "source": [
    "BATCH_SIZE = 10  if not SMOKE_TEST else 2\n",
    "NUM_RESTARTS = 50 if not SMOKE_TEST else 2\n",
    "RAW_SAMPLES = 512 if not SMOKE_TEST else 32\n",
    "\n",
    "\n",
    "\n",
    "## kernal parameters\n",
    "nu = 5/2\n",
    "ard_num_dims = 3 # None to turn off\n",
    "\n",
    "verbose = False\n",
    "\n",
    "train_x = x_data_norm\n",
    "train_y = y_data\n"
   ]
  },
  {
   "cell_type": "code",
   "execution_count": 145,
   "id": "7e901c7d-26cd-4198-8e7d-73c6f350f1a6",
   "metadata": {},
   "outputs": [
    {
     "ename": "NameError",
     "evalue": "name 'normalize' is not defined",
     "output_type": "error",
     "traceback": [
      "\u001b[0;31m---------------------------------------------------------------------------\u001b[0m",
      "\u001b[0;31mNameError\u001b[0m                                 Traceback (most recent call last)",
      "Cell \u001b[0;32mIn[145], line 1\u001b[0m\n\u001b[0;32m----> 1\u001b[0m y_data_norm \u001b[38;5;241m=\u001b[39m normalize(y_data, (y_data\u001b[38;5;241m.\u001b[39mmin(), y_data\u001b[38;5;241m.\u001b[39mmax()))\u001b[38;5;241m.\u001b[39mreshape(\u001b[38;5;241m-\u001b[39m\u001b[38;5;241m1\u001b[39m,\u001b[38;5;241m1\u001b[39m)\n\u001b[1;32m      2\u001b[0m bounds_torch_norm \u001b[38;5;241m=\u001b[39m torch\u001b[38;5;241m.\u001b[39mtensor([bounds[\u001b[38;5;124m'\u001b[39m\u001b[38;5;124mTEOS\u001b[39m\u001b[38;5;124m'\u001b[39m], bounds[\u001b[38;5;124m'\u001b[39m\u001b[38;5;124mammonia\u001b[39m\u001b[38;5;124m'\u001b[39m], bounds[\u001b[38;5;124m'\u001b[39m\u001b[38;5;124mwater\u001b[39m\u001b[38;5;124m'\u001b[39m]])\u001b[38;5;241m.\u001b[39mtranspose(\u001b[38;5;241m-\u001b[39m\u001b[38;5;241m1\u001b[39m, \u001b[38;5;241m-\u001b[39m\u001b[38;5;241m2\u001b[39m)\n\u001b[1;32m      3\u001b[0m bounds_torch_opt \u001b[38;5;241m=\u001b[39m torch\u001b[38;5;241m.\u001b[39mtensor([[\u001b[38;5;241m0\u001b[39m, \u001b[38;5;241m0\u001b[39m, \u001b[38;5;241m0\u001b[39m], [\u001b[38;5;241m1.0\u001b[39m, \u001b[38;5;241m1.0\u001b[39m, \u001b[38;5;241m1.0\u001b[39m]], dtype \u001b[38;5;241m=\u001b[39m torch\u001b[38;5;241m.\u001b[39mfloat32)\n",
      "\u001b[0;31mNameError\u001b[0m: name 'normalize' is not defined"
     ]
    }
   ],
   "source": [
    "y_data_norm = normalize(y_data, (y_data.min(), y_data.max())).reshape(-1,1)\n",
    "bounds_torch_norm = torch.tensor([bounds['TEOS'], bounds['ammonia'], bounds['water']]).transpose(-1, -2)\n",
    "bounds_torch_opt = torch.tensor([[0, 0, 0], [1.0, 1.0, 1.0]], dtype = torch.float32)\n",
    "\n",
    "x_data_torch = torch.tensor(x_data.to_numpy())\n",
    "x_data_norm = normalize(x_data_torch, bounds_torch_norm)"
   ]
  },
  {
   "cell_type": "code",
   "execution_count": null,
   "id": "3e458ba6-587b-4751-8390-26edd0d6ec84",
   "metadata": {},
   "outputs": [],
   "source": [
    "def initialize_model(train_x, train_y, state_dict=None, nu = 5/2, ard_num_dims = None):\n",
    "    # define models for objective and constraint\n",
    "    kernel = MaternKernel(nu = nu, ard_num_dims = ard_num_dims)\n",
    "    model_obj = SingleTaskGP(\n",
    "        train_x,\n",
    "        train_y,\n",
    "        #train_Yvar=assumed_noise*torch.ones_like(train_y),\n",
    "        input_transform=Normalize(d=train_x.shape[-1]),\n",
    "        covar_module=kernel\n",
    "    ).to(train_x)\n",
    "\n",
    "    # combine into a multi-output GP model\n",
    "    mll = ExactMarginalLogLikelihood(model_obj.likelihood, model_obj)\n",
    "    # load state dict if it is passed\n",
    "    if state_dict is not None:\n",
    "        model_obj.load_state_dict(state_dict)\n",
    "    return mll, model_obj"
   ]
  },
  {
   "cell_type": "code",
   "execution_count": null,
   "id": "fcb37bec-a85c-4555-9278-8b2536f55277",
   "metadata": {},
   "outputs": [],
   "source": [
    "def obj_callable(Z: torch.Tensor, X: Optional[torch.Tensor] = None):\n",
    "    return Z[..., 0]\n",
    "\n",
    "\n",
    "\n",
    "objective = GenericMCObjective(objective=obj_callable)"
   ]
  },
  {
   "cell_type": "code",
   "execution_count": null,
   "id": "bb5737a7-e031-42fb-8396-430a09c23aa0",
   "metadata": {},
   "outputs": [],
   "source": [
    "warnings.filterwarnings(\"ignore\", category=BadInitialCandidatesWarning)\n",
    "warnings.filterwarnings(\"ignore\", category=RuntimeWarning)\n",
    "\n",
    "\n",
    "\n",
    "\n",
    "best_observed_all_ei, best_observed_all_nei, best_random_all = [], [], []\n",
    "\n",
    "# average over multiple trials\n",
    "\n",
    "\n",
    "best_observed_ei, best_observed_nei, best_random = [], [], []\n",
    "\n",
    "# call helper functions to generate initial training data and initialize model\n",
    "\n",
    "mll_nei, model_nei = initialize_model(train_x, train_y, ard_num_dims = ard_num_dims)\n",
    "\n",
    "t0 = time.monotonic()\n",
    "\n",
    "# fit the models\n",
    "\n",
    "fit_mll = fit_gpytorch_mll(mll_nei)"
   ]
  },
  {
   "cell_type": "code",
   "execution_count": null,
   "id": "af0a8688-5561-4b4e-a4e2-0f5a752a65af",
   "metadata": {},
   "outputs": [],
   "source": [
    "# define the qEI and qNEI acquisition modules using a QMC sampler\n",
    "t_acqf = time.time()\n",
    "qmc_sampler = SobolQMCNormalSampler(sample_shape=torch.Size([MC_SAMPLES]))\n",
    "\n",
    "# for best_f, we use the best observed noisy values as an approximation\n",
    "\n",
    "\n",
    "qLogNEI = qLogNoisyExpectedImprovement(\n",
    "    model=model_nei,\n",
    "    X_baseline=train_x,\n",
    "    sampler=qmc_sampler,\n",
    "    objective=objective,\n",
    "    prune_baseline=True,\n",
    ")\n",
    "\n",
    "#ucb = qUpperConfidenceBound(\n",
    "#    model = model_nei, \n",
    "##    beta = 5,\n",
    "#    sampler = qmc_sampler, \n",
    "#)\n",
    "\n",
    "# optimize for new candidates\n",
    "candidates, _ = optimize_acqf(\n",
    "    acq_function=qLogNEI,\n",
    "    bounds=bounds_torch_opt,\n",
    "    q=BATCH_SIZE,\n",
    "    num_restarts=NUM_RESTARTS,\n",
    "    raw_samples=RAW_SAMPLES,  # used for intialization heuristic\n",
    "    #options={\"batch_limit\": 5, \"maxiter\": 200},\n",
    ")\n",
    "print(f'Optimized acqf in {time.time() - t_acqf} s')"
   ]
  },
  {
   "cell_type": "code",
   "execution_count": null,
   "id": "bbba5d46-106c-42f2-bf62-5e4a3c8cde4d",
   "metadata": {},
   "outputs": [],
   "source": [
    "x_fractions = unnormalize(candidates, bounds_torch_norm)"
   ]
  },
  {
   "cell_type": "markdown",
   "id": "0c5312be-6866-4ad9-b0ca-0b63967124f4",
   "metadata": {},
   "source": [
    "## 6. Initial random sampling\n",
    "Do sobol sampling here with n as a parameter"
   ]
  },
  {
   "cell_type": "code",
   "execution_count": null,
   "id": "376c2e48-034e-48d7-9ea1-93332cdaabf2",
   "metadata": {},
   "outputs": [],
   "source": [
    "sampler = Sobol(d=3, seed = seed)\n",
    "sampled_points = sampler.random_base2(m_samples)"
   ]
  },
  {
   "cell_type": "code",
   "execution_count": null,
   "id": "7d78f160-34b7-4483-af52-21077ad90d9a",
   "metadata": {},
   "outputs": [],
   "source": [
    "fig, ax = plt.subplots(1, 2, figsize = (12,6))\n",
    "ax[0].scatter(sampled_points[:,0], sampled_points[:,1])\n",
    "ax[1].scatter(sampled_points[:,0], sampled_points[:,2])"
   ]
  },
  {
   "cell_type": "code",
   "execution_count": null,
   "id": "92507672-e03d-4522-ad06-9d964f02004e",
   "metadata": {},
   "outputs": [],
   "source": [
    "with open('constants_Round2_2025_01_13.json', 'rt') as f:\n",
    "    constants = json.load(f)"
   ]
  },
  {
   "cell_type": "code",
   "execution_count": null,
   "id": "ae7c6bab-cec0-473b-a665-de2ea6941397",
   "metadata": {},
   "outputs": [],
   "source": [
    "lower_bounds = [constants['TEOS']['minimum_volume_fraction'], constants['ammonia']['minimum_volume_fraction'], constants['water']['minimum_volume_fraction']]\n",
    "upper_bounds = [constants['TEOS']['maximum_volume_fraction'], constants['ammonia']['maximum_volume_fraction'], constants['water']['maximum_volume_fraction']]"
   ]
  },
  {
   "cell_type": "code",
   "execution_count": null,
   "id": "ca99dce1-30f1-4372-94ab-f6344f4c91f8",
   "metadata": {},
   "outputs": [],
   "source": [
    "sampled_volume_fractions = qmc.scale(sampled_points, lower_bounds, upper_bounds)"
   ]
  },
  {
   "cell_type": "markdown",
   "id": "c0509b41-53a0-42d4-a68b-bbca0b16080b",
   "metadata": {},
   "source": [
    "## 7. Run experiment loop\n",
    "\n",
    "- BO to get next batch of points\n",
    "- run experiment and calculate distance\n",
    "\n",
    "\n",
    "data structure:\n",
    "- uuid indexed dict\n",
    "- uuid generated when compositions generated\n",
    "- track vol fracs (desired), vol fracs (real), scattering, ap distance\n",
    "\n",
    "BO sees vol fracs (desired) and AP distance"
   ]
  },
  {
   "cell_type": "code",
   "execution_count": null,
   "id": "36f60d12-40d2-4238-9618-f00fdfed04a0",
   "metadata": {},
   "outputs": [],
   "source": [
    "# 1. call sobol sampling to generate samples\n",
    "\n",
    "# 2. 'measure' sobol samples\n",
    "\n",
    "#2.5 data process sobol samples\n",
    "\n",
    "# 3. start experiment loop:\n",
    "# 3a. Prepare and run BO\n",
    "#3b. measure BO samples\n",
    "#3c. post process and update datae "
   ]
  },
  {
   "cell_type": "code",
   "execution_count": null,
   "id": "4d21422e-6ddc-45f6-bd2c-9a77848e1212",
   "metadata": {},
   "outputs": [],
   "source": []
  },
  {
   "cell_type": "markdown",
   "id": "22ac1e17-1958-4920-aede-65baab037bc7",
   "metadata": {},
   "source": [
    "## 8. Analyze \n",
    "\n",
    "Look at how things converged"
   ]
  },
  {
   "cell_type": "code",
   "execution_count": null,
   "id": "2e7b7b16-210c-4dae-9393-4d539d0a9c79",
   "metadata": {},
   "outputs": [],
   "source": []
  }
 ],
 "metadata": {
  "kernelspec": {
   "display_name": "Python 3 (ipykernel)",
   "language": "python",
   "name": "python3"
  },
  "language_info": {
   "codemirror_mode": {
    "name": "ipython",
    "version": 3
   },
   "file_extension": ".py",
   "mimetype": "text/x-python",
   "name": "python",
   "nbconvert_exporter": "python",
   "pygments_lexer": "ipython3",
   "version": "3.12.7"
  }
 },
 "nbformat": 4,
 "nbformat_minor": 5
}
