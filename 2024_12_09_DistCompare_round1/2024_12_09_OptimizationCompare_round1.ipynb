{
 "cells": [
  {
   "cell_type": "markdown",
   "id": "110d0499-187d-47cb-b3bd-52e828f810d0",
   "metadata": {},
   "source": [
    "## Setup"
   ]
  },
  {
   "cell_type": "code",
   "execution_count": 1,
   "id": "023a9737-b2dd-4151-af0b-67ea2aeb7386",
   "metadata": {},
   "outputs": [],
   "source": [
    "%load_ext autoreload\n",
    "%autoreload 2"
   ]
  },
  {
   "cell_type": "code",
   "execution_count": 2,
   "id": "a8305f4f-98d9-46aa-b3a5-aef3875465c8",
   "metadata": {},
   "outputs": [],
   "source": [
    "import requests\n",
    "\n",
    "# ----------- Science Jubilee -------------\n",
    "from science_jubilee import Machine as Jub\n",
    "from science_jubilee.tools import HTTPSyringe as syringe\n",
    "from science_jubilee.tools import Pipette\n",
    "from science_jubilee.utils import Handlers\n",
    "import time\n",
    "import numpy as np\n",
    "import pandas as pd\n",
    "import logging\n",
    "import sys\n",
    "sys.path.append('..')\n",
    "import stober_synthesis_utils as stober"
   ]
  },
  {
   "cell_type": "code",
   "execution_count": 3,
   "id": "39e0dd27-900a-4151-ad77-cae178e545d7",
   "metadata": {},
   "outputs": [],
   "source": [
    "FORMAT = '%(asctime)s:%(levelname)s:%(name)s:%(message)s'\n",
    "logging.basicConfig(filename = '2024_10_10_random3try2.log', level = logging.INFO, format = FORMAT)\n",
    "logger = logging.getLogger(__name__)"
   ]
  },
  {
   "cell_type": "code",
   "execution_count": 5,
   "id": "bb05bc51-e88d-493a-b7ae-ec244bab05d1",
   "metadata": {
    "scrolled": true
   },
   "outputs": [],
   "source": [
    "jubilee = Jub.Machine(address='192.168.1.2', simulated = False, crash_detection = False) "
   ]
  },
  {
   "cell_type": "raw",
   "id": "23f14450-b2fd-46b7-82b2-a17b1061fde5",
   "metadata": {
    "scrolled": true
   },
   "source": [
    "jubilee.home_all()\n",
    "logger.info('Homed Jubilee')"
   ]
  },
  {
   "cell_type": "code",
   "execution_count": 6,
   "id": "7dd1d29b-638a-4d85-9cf3-986931deae0f",
   "metadata": {},
   "outputs": [],
   "source": [
    "deck = jubilee.load_deck('lab_automation_deck_AFL_bolton.json')"
   ]
  },
  {
   "cell_type": "code",
   "execution_count": 7,
   "id": "d2505692-e098-4cf7-954a-b2ac9d91e06f",
   "metadata": {},
   "outputs": [],
   "source": [
    "sample_table = pd.read_csv('SampleTable_2024_11_18_OptimizationRound4.csv')"
   ]
  },
  {
   "cell_type": "code",
   "execution_count": 8,
   "id": "9b530793-b2a2-4f5d-9825-b4d8c2028d96",
   "metadata": {},
   "outputs": [
    {
     "data": {
      "text/plain": [
       "{'teos_count': 1, 'ammonia_count': 1, 'water_count': 1, 'ethanol_count': 2}"
      ]
     },
     "execution_count": 8,
     "metadata": {},
     "output_type": "execute_result"
    }
   ],
   "source": [
    "stober.count_stock_vials(sample_table, 15000)"
   ]
  },
  {
   "cell_type": "code",
   "execution_count": 9,
   "id": "dd237516-a73b-4981-8a1a-1f17979c9dac",
   "metadata": {},
   "outputs": [
    {
     "data": {
      "text/plain": [
       "2.754448927892372"
      ]
     },
     "execution_count": 9,
     "metadata": {},
     "output_type": "execute_result"
    }
   ],
   "source": [
    "sample_table['ethanol_volume'].sum()/10000"
   ]
  },
  {
   "cell_type": "markdown",
   "id": "b8f140ff-c5f8-494d-bd58-093982edd086",
   "metadata": {},
   "source": [
    "## Load Tools"
   ]
  },
  {
   "cell_type": "code",
   "execution_count": 10,
   "id": "d73bac24-917c-4c8c-8c30-494146511312",
   "metadata": {},
   "outputs": [],
   "source": [
    "syringe_10 = syringe.HTTPSyringe.from_config(1, \"../../science-jubilee/src/science_jubilee/tools/configs/10cc_syringe.json\")\n",
    "syringe_1_1 = syringe.HTTPSyringe.from_config(2, \"../../science-jubilee/src/science_jubilee/tools/configs/1cc_1_syringe.json\")\n",
    "syringe_1_2 = syringe.HTTPSyringe.from_config(3, \"../../science-jubilee/src/science_jubilee/tools/configs/1cc_2_syringe.json\")\n",
    "syringe_1_3 = syringe.HTTPSyringe.from_config(4, \"../../science-jubilee/src/science_jubilee/tools/configs/1cc_3_syringe.json\")"
   ]
  },
  {
   "cell_type": "code",
   "execution_count": 11,
   "id": "9448524a-f60e-43fd-ae53-0a51c87e6035",
   "metadata": {
    "scrolled": true
   },
   "outputs": [],
   "source": [
    "jubilee.load_tool(syringe_10)\n",
    "jubilee.load_tool(syringe_1_1)\n",
    "jubilee.load_tool(syringe_1_2)\n",
    "jubilee.load_tool(syringe_1_3)"
   ]
  },
  {
   "cell_type": "code",
   "execution_count": 12,
   "id": "21127bbe-632c-4ec0-84f9-57d9772a90db",
   "metadata": {},
   "outputs": [],
   "source": [
    "mix_syringe = syringe_10\n",
    "water_syringe = syringe_1_1\n",
    "ammonia_syringe = syringe_1_2\n",
    "teos_syringe = syringe_1_3"
   ]
  },
  {
   "cell_type": "markdown",
   "id": "e1d880ae-d253-43f5-995f-d2619e29c78a",
   "metadata": {},
   "source": [
    "## Load water syringe with water"
   ]
  },
  {
   "cell_type": "code",
   "execution_count": 31,
   "id": "c2c5387a-b52d-4fd9-97b4-c69ae21a0c12",
   "metadata": {},
   "outputs": [
    {
     "name": "stdout",
     "output_type": "stream",
     "text": [
      "Loaded syringe, remaining volume 600 uL\n"
     ]
    }
   ],
   "source": [
    "water_syringe.load_syringe(600, 1500)"
   ]
  },
  {
   "cell_type": "code",
   "execution_count": 113,
   "id": "de905209-1c7b-49f5-8d35-1fd8092ec72f",
   "metadata": {
    "scrolled": true
   },
   "outputs": [],
   "source": [
    "water_syringe.set_pulsewidth(water_syringe.empty_position-1, s = 2000)"
   ]
  },
  {
   "cell_type": "code",
   "execution_count": 112,
   "id": "3ded8ddd-1034-4679-804b-1a9d6d47b3b6",
   "metadata": {},
   "outputs": [],
   "source": [
    "water_syringe.set_pulsewidth(water_syringe.full_position+1, s = 10)"
   ]
  },
  {
   "cell_type": "code",
   "execution_count": 34,
   "id": "1bb6d726-e6f0-435e-916a-717d8231ed4d",
   "metadata": {},
   "outputs": [],
   "source": [
    "water_syringe.set_pulsewidth(water_syringe.full_position+150, s = 500)"
   ]
  },
  {
   "cell_type": "code",
   "execution_count": 35,
   "id": "80aff25d-bae2-478d-bc07-4b4f11bd5e05",
   "metadata": {},
   "outputs": [
    {
     "name": "stdout",
     "output_type": "stream",
     "text": [
      "Loaded syringe, remaining volume 750 uL\n"
     ]
    }
   ],
   "source": [
    "water_syringe.load_syringe(750, water_syringe.full_position+150)"
   ]
  },
  {
   "cell_type": "markdown",
   "id": "8ea5df3b-0ad5-4dbb-ad3f-089a2d5f2bd1",
   "metadata": {},
   "source": [
    "## Load ammonia syringe"
   ]
  },
  {
   "cell_type": "code",
   "execution_count": 36,
   "id": "87a366e4-d389-4830-b923-0a932968add9",
   "metadata": {},
   "outputs": [],
   "source": [
    "ammonia_syringe.set_pulsewidth(1420, s = 10)"
   ]
  },
  {
   "cell_type": "code",
   "execution_count": 37,
   "id": "2577d8b0-b404-4e92-8480-89ecc9cfb9cb",
   "metadata": {},
   "outputs": [
    {
     "name": "stdout",
     "output_type": "stream",
     "text": [
      "Loaded syringe, remaining volume 600 uL\n"
     ]
    }
   ],
   "source": [
    "ammonia_syringe.load_syringe(600, 1500)"
   ]
  },
  {
   "cell_type": "code",
   "execution_count": 111,
   "id": "73b9205b-4f97-47a7-aad4-cb252a6726ec",
   "metadata": {},
   "outputs": [],
   "source": [
    "ammonia_syringe.set_pulsewidth(ammonia_syringe.empty_position-1, s = 2000)"
   ]
  },
  {
   "cell_type": "code",
   "execution_count": 92,
   "id": "5fe25b32-0448-49fc-8d48-210e01e293b1",
   "metadata": {},
   "outputs": [],
   "source": [
    "ammonia_syringe.set_pulsewidth(ammonia_syringe.full_position+1, s = 10)"
   ]
  },
  {
   "cell_type": "code",
   "execution_count": 40,
   "id": "e0d5f7c9-883e-48d6-86bf-a30bc8698332",
   "metadata": {},
   "outputs": [],
   "source": [
    "ammonia_syringe.set_pulsewidth(ammonia_syringe.full_position+350, s = 500)"
   ]
  },
  {
   "cell_type": "code",
   "execution_count": 41,
   "id": "b5be2527-8c06-4465-8e44-41f410149cd7",
   "metadata": {},
   "outputs": [
    {
     "name": "stdout",
     "output_type": "stream",
     "text": [
      "Loaded syringe, remaining volume 370 uL\n"
     ]
    }
   ],
   "source": [
    "ammonia_syringe.load_syringe(370, ammonia_syringe.full_position+350)"
   ]
  },
  {
   "cell_type": "markdown",
   "id": "e2c53ecf-d14a-4536-8062-9e7af8c51ba8",
   "metadata": {},
   "source": [
    "## Load TEOS syringe"
   ]
  },
  {
   "cell_type": "code",
   "execution_count": 94,
   "id": "639af747-f1f2-4294-849d-bb1661cd5c85",
   "metadata": {},
   "outputs": [
    {
     "name": "stdout",
     "output_type": "stream",
     "text": [
      "Loaded syringe, remaining volume 600 uL\n"
     ]
    }
   ],
   "source": [
    "teos_syringe.load_syringe(600, 1500)"
   ]
  },
  {
   "cell_type": "code",
   "execution_count": 110,
   "id": "c0f31c8b-1651-4872-806b-3dc1a8e208f2",
   "metadata": {},
   "outputs": [],
   "source": [
    "teos_syringe.set_pulsewidth(teos_syringe.empty_position-1, s = 2000)"
   ]
  },
  {
   "cell_type": "code",
   "execution_count": 96,
   "id": "b8f45e72-b019-41fe-b413-6b1e132edbee",
   "metadata": {},
   "outputs": [],
   "source": [
    "teos_syringe.set_pulsewidth(teos_syringe.full_position+1, s = 100)"
   ]
  },
  {
   "cell_type": "code",
   "execution_count": 97,
   "id": "1c9e3fdf-8999-4d1f-97ca-018afe8e8edd",
   "metadata": {},
   "outputs": [],
   "source": [
    "teos_syringe.set_pulsewidth(teos_syringe.full_position+200, s = 200)"
   ]
  },
  {
   "cell_type": "code",
   "execution_count": 46,
   "id": "cf5154eb-2d59-4bd8-90c2-86c3374a662d",
   "metadata": {},
   "outputs": [
    {
     "name": "stdout",
     "output_type": "stream",
     "text": [
      "Loaded syringe, remaining volume 690 uL\n"
     ]
    }
   ],
   "source": [
    "teos_syringe.load_syringe(690, teos_syringe.full_position+200)"
   ]
  },
  {
   "cell_type": "markdown",
   "id": "ad1ac96b-3d53-4da1-aa2c-a8c2386280f8",
   "metadata": {},
   "source": [
    "## load ethanol syringe"
   ]
  },
  {
   "cell_type": "code",
   "execution_count": 47,
   "id": "f1caaf1a-900c-43ed-a57b-754b0d62aa37",
   "metadata": {},
   "outputs": [],
   "source": [
    "#jubilee.park_tool()"
   ]
  },
  {
   "cell_type": "code",
   "execution_count": 48,
   "id": "6002eb8f-07a3-4c63-b6e6-ee4e3775b39e",
   "metadata": {},
   "outputs": [
    {
     "name": "stdout",
     "output_type": "stream",
     "text": [
      "Loaded syringe, remaining volume 0 uL\n"
     ]
    }
   ],
   "source": [
    "mix_syringe.load_syringe(0, mix_syringe.empty_position-1)"
   ]
  },
  {
   "cell_type": "code",
   "execution_count": 114,
   "id": "75d8f923-d8ff-4368-a589-7481a4f4f1bb",
   "metadata": {},
   "outputs": [],
   "source": [
    "mix_syringe.set_pulsewidth(mix_syringe.empty_position-1, s = 2000)\n"
   ]
  },
  {
   "cell_type": "code",
   "execution_count": 50,
   "id": "534ef3b4-9c24-4bcf-acbf-ac7d63225c9c",
   "metadata": {},
   "outputs": [],
   "source": [
    "mix_syringe.set_pulsewidth(mix_syringe.full_position+1, s = 10)"
   ]
  },
  {
   "cell_type": "code",
   "execution_count": 51,
   "id": "96d9a53e-24a0-4595-bb69-db89483176ce",
   "metadata": {},
   "outputs": [
    {
     "data": {
      "text/plain": [
       "1830"
      ]
     },
     "execution_count": 51,
     "metadata": {},
     "output_type": "execute_result"
    }
   ],
   "source": [
    "mix_syringe.empty_position"
   ]
  },
  {
   "cell_type": "code",
   "execution_count": 52,
   "id": "5a8312cd-872e-49bd-815a-d5968bb6b2ec",
   "metadata": {},
   "outputs": [],
   "source": [
    "mix_syringe.set_pulsewidth(mix_syringe.full_position+400, s = 500)"
   ]
  },
  {
   "cell_type": "code",
   "execution_count": 53,
   "id": "99ad1605-10c8-45a3-80cf-c6adfd7ae6a9",
   "metadata": {},
   "outputs": [
    {
     "name": "stdout",
     "output_type": "stream",
     "text": [
      "Loaded syringe, remaining volume 3000 uL\n"
     ]
    }
   ],
   "source": [
    "mix_syringe.load_syringe(3000, mix_syringe.full_position+400)"
   ]
  },
  {
   "cell_type": "markdown",
   "id": "43d1f97d-4c55-40d3-ac5b-9c3a3f1062ed",
   "metadata": {},
   "source": [
    "## Load labware\n"
   ]
  },
  {
   "cell_type": "code",
   "execution_count": 18,
   "id": "19b4bfa8-6878-4b0b-a564-369faa361b1c",
   "metadata": {
    "scrolled": true
   },
   "outputs": [
    {
     "name": "stdout",
     "output_type": "stream",
     "text": [
      "-0.004650345326966636\n",
      "New manual offset applied to septavialrev1_44_holder_2000ul\n"
     ]
    }
   ],
   "source": [
    "samples = jubilee.load_labware('septavialrev1_44_holder_2000ul.json', 2)\n",
    "samples.manual_offset([(14.8, 174.0), (127.1, 174.4), (127.5, 104.7)])"
   ]
  },
  {
   "cell_type": "code",
   "execution_count": 19,
   "id": "19ad67cc-b0a8-4c1f-8d6a-60b173599c82",
   "metadata": {},
   "outputs": [
    {
     "name": "stdout",
     "output_type": "stream",
     "text": [
      "-0.0\n",
      "New manual offset applied to 20mlscintillation_12_wellplate_18000ul\n"
     ]
    }
   ],
   "source": [
    "stocks = jubilee.load_labware('20mlscintillation_12_wellplate_18000ul.json', 4)\n",
    "stocks.manual_offset([(27.5, 263.5), (113.5, 263.5), (113.5, 208.0)])"
   ]
  },
  {
   "cell_type": "code",
   "execution_count": 20,
   "id": "1ef40a35-9802-4eb3-9a10-16255155b92d",
   "metadata": {},
   "outputs": [],
   "source": [
    "trash = jubilee.load_labware('agilent_1_reservoir_290ml.json', 1)"
   ]
  },
  {
   "cell_type": "code",
   "execution_count": 21,
   "id": "f7395271-1a02-4f11-883f-34a8456f0a05",
   "metadata": {},
   "outputs": [],
   "source": [
    "teos_stocks = [stocks[0]]\n",
    "ammonia_stocks = [stocks[1]]\n",
    "water_stocks = [stocks[2]]\n",
    "ethanol_stocks = [stocks[3], stocks[4], stocks[5], stocks[6], stocks[7], stocks[8]]\n",
    "rinse_stocks = [stocks[9], stocks[10], stocks[11]]"
   ]
  },
  {
   "cell_type": "markdown",
   "id": "4bd30fe3-5be6-4ea7-a61d-357272d3e8a4",
   "metadata": {},
   "source": [
    "## Check sample alignment"
   ]
  },
  {
   "cell_type": "code",
   "execution_count": 22,
   "id": "6341c596-5970-48b4-b3cc-44b5f8d7a9ff",
   "metadata": {},
   "outputs": [
    {
     "name": "stdin",
     "output_type": "stream",
     "text": [
      "Is the tip centered over well? \n",
      "Is the tip centered over well? \n",
      "Is the tip centered over well? \n",
      "Is the tip centered over well? \n",
      "Is the tip centered over well? \n",
      "Is the tip centered over well? \n",
      "Is the tip centered over well? \n",
      "Is the tip centered over well? \n",
      "Is the tip centered over well? \n",
      "Is the tip centered over well? \n",
      "Is the tip centered over well? \n",
      "Is the tip centered over well? \n"
     ]
    }
   ],
   "source": [
    "jubilee.pickup_tool(mix_syringe)\n",
    "for well in stocks:\n",
    "    jubilee.move_to(x = well.x, y = well.y)\n",
    "    jubilee.move_to(z = well.top_+7)\n",
    "    ans = input(f'Is the tip centered over well?')\n",
    "    if ans == 'y':\n",
    "        continue\n",
    "    else:\n",
    "        continue"
   ]
  },
  {
   "cell_type": "code",
   "execution_count": 17,
   "id": "95d14b2a-7129-4868-8a0b-2901da667520",
   "metadata": {},
   "outputs": [
    {
     "data": {
      "text/plain": [
       "45.0"
      ]
     },
     "execution_count": 17,
     "metadata": {},
     "output_type": "execute_result"
    }
   ],
   "source": [
    "deck.safe_z"
   ]
  },
  {
   "cell_type": "code",
   "execution_count": 29,
   "id": "25a4d272-6e56-4649-ba7a-5e04e922c043",
   "metadata": {},
   "outputs": [
    {
     "name": "stdin",
     "output_type": "stream",
     "text": [
      "Is the tip centered over sample A1? \n",
      "Is the tip centered over sample A2? \n",
      "Is the tip centered over sample A3? \n",
      "Is the tip centered over sample A4? \n",
      "Is the tip centered over sample A5? \n",
      "Is the tip centered over sample A6? \n",
      "Is the tip centered over sample A7? \n",
      "Is the tip centered over sample A8? \n",
      "Is the tip centered over sample B1? \n",
      "Is the tip centered over sample B3? \n",
      "Is the tip centered over sample B4? \n",
      "Is the tip centered over sample B5? \n",
      "Is the tip centered over sample B6? \n",
      "Is the tip centered over sample B8? \n",
      "Is the tip centered over sample C1? \n",
      "Is the tip centered over sample C2? \n",
      "Is the tip centered over sample C3? \n",
      "Is the tip centered over sample C4? \n",
      "Is the tip centered over sample C5? \n",
      "Is the tip centered over sample C6? \n"
     ]
    }
   ],
   "source": [
    "jubilee.pickup_tool(teos_syringe)\n",
    "for i, row in sample_table.iterrows():\n",
    "    loc = samples[row['well']]\n",
    "    jubilee.move_to(x = loc.x, y = loc.y)\n",
    "    jubilee.move_to(z = loc.top_+7)\n",
    "    curr_well = row['well']\n",
    "    ans = input(f'Is the tip centered over sample {curr_well}?')\n",
    "    if ans == 'y':\n",
    "        continue\n",
    "    else:\n",
    "        continue\n",
    "    "
   ]
  },
  {
   "cell_type": "code",
   "execution_count": 26,
   "id": "a52572b9-48d6-4bf1-acb2-19c7ac5c6fb8",
   "metadata": {},
   "outputs": [],
   "source": [
    "jubilee.park_tool()"
   ]
  },
  {
   "cell_type": "markdown",
   "id": "b9dff3f4-8be6-4f73-b343-6221f8df76dc",
   "metadata": {},
   "source": [
    "# Experiment\n"
   ]
  },
  {
   "cell_type": "code",
   "execution_count": 54,
   "id": "9d770745-931b-42d0-8b40-409a83411619",
   "metadata": {},
   "outputs": [],
   "source": [
    "location_lookup = {row['uuid']:samples[row['well']] for i, row in sample_table.iterrows()}"
   ]
  },
  {
   "cell_type": "code",
   "execution_count": 59,
   "id": "30502878-2c56-4f8a-94dc-e7ad55f92927",
   "metadata": {},
   "outputs": [
    {
     "data": {
      "text/html": [
       "<div>\n",
       "<style scoped>\n",
       "    .dataframe tbody tr th:only-of-type {\n",
       "        vertical-align: middle;\n",
       "    }\n",
       "\n",
       "    .dataframe tbody tr th {\n",
       "        vertical-align: top;\n",
       "    }\n",
       "\n",
       "    .dataframe thead th {\n",
       "        text-align: right;\n",
       "    }\n",
       "</style>\n",
       "<table border=\"1\" class=\"dataframe\">\n",
       "  <thead>\n",
       "    <tr style=\"text-align: right;\">\n",
       "      <th></th>\n",
       "      <th>Unnamed: 0</th>\n",
       "      <th>uuid</th>\n",
       "      <th>teos_volume</th>\n",
       "      <th>ammonia_volume</th>\n",
       "      <th>water_volume</th>\n",
       "      <th>ethanol_volume</th>\n",
       "      <th>dilution_volume_fraction</th>\n",
       "      <th>silica_mass_conc</th>\n",
       "      <th>silica_mass_fraction</th>\n",
       "      <th>ethanol_dilute_vol</th>\n",
       "      <th>sample_dilute_vol</th>\n",
       "      <th>well</th>\n",
       "      <th>dilute_well</th>\n",
       "    </tr>\n",
       "  </thead>\n",
       "  <tbody>\n",
       "    <tr>\n",
       "      <th>0</th>\n",
       "      <td>0</td>\n",
       "      <td>ba69b584-1afd-4436-b67b-41028e68893b</td>\n",
       "      <td>65.677050</td>\n",
       "      <td>68.946224</td>\n",
       "      <td>15.705124</td>\n",
       "      <td>1549.671602</td>\n",
       "      <td>0.577773</td>\n",
       "      <td>10.398547</td>\n",
       "      <td>0.012978</td>\n",
       "      <td>718.0</td>\n",
       "      <td>982.0</td>\n",
       "      <td>A1</td>\n",
       "      <td>C7</td>\n",
       "    </tr>\n",
       "    <tr>\n",
       "      <th>1</th>\n",
       "      <td>1</td>\n",
       "      <td>f25a70f2-6079-4953-8b41-51b60e129fe1</td>\n",
       "      <td>198.521614</td>\n",
       "      <td>129.936523</td>\n",
       "      <td>85.466756</td>\n",
       "      <td>1286.075107</td>\n",
       "      <td>0.191145</td>\n",
       "      <td>31.431624</td>\n",
       "      <td>0.038094</td>\n",
       "      <td>1375.0</td>\n",
       "      <td>325.0</td>\n",
       "      <td>A2</td>\n",
       "      <td>C8</td>\n",
       "    </tr>\n",
       "    <tr>\n",
       "      <th>2</th>\n",
       "      <td>2</td>\n",
       "      <td>f0a886af-f326-4c5f-ba18-ac69dd3177b9</td>\n",
       "      <td>17.873642</td>\n",
       "      <td>12.064687</td>\n",
       "      <td>128.255937</td>\n",
       "      <td>1541.805734</td>\n",
       "      <td>2.123038</td>\n",
       "      <td>2.829906</td>\n",
       "      <td>0.003505</td>\n",
       "      <td>0.0</td>\n",
       "      <td>1700.0</td>\n",
       "      <td>A3</td>\n",
       "      <td>D1</td>\n",
       "    </tr>\n",
       "    <tr>\n",
       "      <th>3</th>\n",
       "      <td>3</td>\n",
       "      <td>1468528a-c926-4cdf-8982-dc31a2cc397b</td>\n",
       "      <td>224.271870</td>\n",
       "      <td>84.116124</td>\n",
       "      <td>252.692166</td>\n",
       "      <td>1138.919840</td>\n",
       "      <td>0.169198</td>\n",
       "      <td>35.508622</td>\n",
       "      <td>0.042028</td>\n",
       "      <td>1412.0</td>\n",
       "      <td>288.0</td>\n",
       "      <td>A4</td>\n",
       "      <td>D2</td>\n",
       "    </tr>\n",
       "    <tr>\n",
       "      <th>4</th>\n",
       "      <td>4</td>\n",
       "      <td>1ac99397-b138-4836-a940-50a40a1ae83c</td>\n",
       "      <td>17.000000</td>\n",
       "      <td>37.210726</td>\n",
       "      <td>94.110614</td>\n",
       "      <td>1551.678661</td>\n",
       "      <td>2.232143</td>\n",
       "      <td>2.691584</td>\n",
       "      <td>0.003345</td>\n",
       "      <td>0.0</td>\n",
       "      <td>1700.0</td>\n",
       "      <td>A5</td>\n",
       "      <td>D3</td>\n",
       "    </tr>\n",
       "    <tr>\n",
       "      <th>5</th>\n",
       "      <td>5</td>\n",
       "      <td>38190afc-ea48-4c3b-8c2e-edd9cab5abf9</td>\n",
       "      <td>141.610206</td>\n",
       "      <td>117.375094</td>\n",
       "      <td>87.916288</td>\n",
       "      <td>1353.098413</td>\n",
       "      <td>0.267964</td>\n",
       "      <td>22.420927</td>\n",
       "      <td>0.027351</td>\n",
       "      <td>1244.0</td>\n",
       "      <td>456.0</td>\n",
       "      <td>A6</td>\n",
       "      <td>D4</td>\n",
       "    </tr>\n",
       "    <tr>\n",
       "      <th>6</th>\n",
       "      <td>6</td>\n",
       "      <td>f0f8a098-6c89-409b-8fe3-ffd4b4f106a8</td>\n",
       "      <td>17.000000</td>\n",
       "      <td>40.720692</td>\n",
       "      <td>170.658786</td>\n",
       "      <td>1471.620522</td>\n",
       "      <td>2.232143</td>\n",
       "      <td>2.691584</td>\n",
       "      <td>0.003305</td>\n",
       "      <td>0.0</td>\n",
       "      <td>1700.0</td>\n",
       "      <td>A7</td>\n",
       "      <td>D5</td>\n",
       "    </tr>\n",
       "    <tr>\n",
       "      <th>7</th>\n",
       "      <td>7</td>\n",
       "      <td>cbb3d083-994b-4677-b507-3cdc98c3861b</td>\n",
       "      <td>238.499852</td>\n",
       "      <td>166.129657</td>\n",
       "      <td>234.973235</td>\n",
       "      <td>1060.397256</td>\n",
       "      <td>0.159105</td>\n",
       "      <td>37.761317</td>\n",
       "      <td>0.044464</td>\n",
       "      <td>1430.0</td>\n",
       "      <td>270.0</td>\n",
       "      <td>A8</td>\n",
       "      <td>D6</td>\n",
       "    </tr>\n",
       "    <tr>\n",
       "      <th>8</th>\n",
       "      <td>8</td>\n",
       "      <td>1c6baba0-ebdd-4e85-982c-5f83fe191312</td>\n",
       "      <td>76.662951</td>\n",
       "      <td>155.652010</td>\n",
       "      <td>74.715308</td>\n",
       "      <td>1392.969730</td>\n",
       "      <td>0.494977</td>\n",
       "      <td>12.137928</td>\n",
       "      <td>0.014891</td>\n",
       "      <td>859.0</td>\n",
       "      <td>841.0</td>\n",
       "      <td>B1</td>\n",
       "      <td>D7</td>\n",
       "    </tr>\n",
       "    <tr>\n",
       "      <th>9</th>\n",
       "      <td>9</td>\n",
       "      <td>bdbbf131-7db4-4768-846e-2de75e623ef2</td>\n",
       "      <td>252.952528</td>\n",
       "      <td>99.754920</td>\n",
       "      <td>142.946974</td>\n",
       "      <td>1204.345578</td>\n",
       "      <td>0.150014</td>\n",
       "      <td>40.049587</td>\n",
       "      <td>0.047974</td>\n",
       "      <td>1445.0</td>\n",
       "      <td>255.0</td>\n",
       "      <td>B3</td>\n",
       "      <td>D8</td>\n",
       "    </tr>\n",
       "    <tr>\n",
       "      <th>10</th>\n",
       "      <td>10</td>\n",
       "      <td>81c188d3-242b-4913-b293-cf022d523bf1</td>\n",
       "      <td>251.425137</td>\n",
       "      <td>38.614092</td>\n",
       "      <td>247.433147</td>\n",
       "      <td>1162.527625</td>\n",
       "      <td>0.150925</td>\n",
       "      <td>39.807757</td>\n",
       "      <td>0.047190</td>\n",
       "      <td>1443.0</td>\n",
       "      <td>257.0</td>\n",
       "      <td>B4</td>\n",
       "      <td>E1</td>\n",
       "    </tr>\n",
       "    <tr>\n",
       "      <th>11</th>\n",
       "      <td>11</td>\n",
       "      <td>ff983e1b-2a80-4131-ac10-7f8fdef11fec</td>\n",
       "      <td>76.868634</td>\n",
       "      <td>108.574145</td>\n",
       "      <td>35.336850</td>\n",
       "      <td>1479.220371</td>\n",
       "      <td>0.493653</td>\n",
       "      <td>12.170493</td>\n",
       "      <td>0.015077</td>\n",
       "      <td>861.0</td>\n",
       "      <td>839.0</td>\n",
       "      <td>B5</td>\n",
       "      <td>E3</td>\n",
       "    </tr>\n",
       "    <tr>\n",
       "      <th>12</th>\n",
       "      <td>12</td>\n",
       "      <td>5807e74f-9d51-4612-840f-1e9e913af112</td>\n",
       "      <td>182.054970</td>\n",
       "      <td>29.899652</td>\n",
       "      <td>205.709840</td>\n",
       "      <td>1282.335538</td>\n",
       "      <td>0.208434</td>\n",
       "      <td>28.824485</td>\n",
       "      <td>0.034646</td>\n",
       "      <td>1346.0</td>\n",
       "      <td>354.0</td>\n",
       "      <td>B6</td>\n",
       "      <td>E4</td>\n",
       "    </tr>\n",
       "    <tr>\n",
       "      <th>13</th>\n",
       "      <td>13</td>\n",
       "      <td>08189d6c-3d71-412d-bdd8-9aec48c0b3a7</td>\n",
       "      <td>167.341349</td>\n",
       "      <td>135.800318</td>\n",
       "      <td>173.495080</td>\n",
       "      <td>1223.363253</td>\n",
       "      <td>0.226761</td>\n",
       "      <td>26.494900</td>\n",
       "      <td>0.031781</td>\n",
       "      <td>1315.0</td>\n",
       "      <td>385.0</td>\n",
       "      <td>B8</td>\n",
       "      <td>E5</td>\n",
       "    </tr>\n",
       "    <tr>\n",
       "      <th>14</th>\n",
       "      <td>14</td>\n",
       "      <td>52812388-4002-435e-a8df-fc39c962903f</td>\n",
       "      <td>90.779998</td>\n",
       "      <td>13.940000</td>\n",
       "      <td>120.869994</td>\n",
       "      <td>1474.410008</td>\n",
       "      <td>0.418004</td>\n",
       "      <td>14.373058</td>\n",
       "      <td>0.017684</td>\n",
       "      <td>989.0</td>\n",
       "      <td>711.0</td>\n",
       "      <td>C1</td>\n",
       "      <td>E6</td>\n",
       "    </tr>\n",
       "    <tr>\n",
       "      <th>15</th>\n",
       "      <td>15</td>\n",
       "      <td>2e8bb17e-1309-48a3-b163-fc3b9d98c2ce</td>\n",
       "      <td>90.779998</td>\n",
       "      <td>13.940000</td>\n",
       "      <td>120.869994</td>\n",
       "      <td>1474.410008</td>\n",
       "      <td>0.418004</td>\n",
       "      <td>14.373058</td>\n",
       "      <td>0.017684</td>\n",
       "      <td>989.0</td>\n",
       "      <td>711.0</td>\n",
       "      <td>C2</td>\n",
       "      <td>E8</td>\n",
       "    </tr>\n",
       "    <tr>\n",
       "      <th>16</th>\n",
       "      <td>16</td>\n",
       "      <td>bdbab155-503c-455f-a133-8cd6be1edaff</td>\n",
       "      <td>90.779998</td>\n",
       "      <td>13.940000</td>\n",
       "      <td>120.869994</td>\n",
       "      <td>1474.410008</td>\n",
       "      <td>0.418004</td>\n",
       "      <td>14.373058</td>\n",
       "      <td>0.017684</td>\n",
       "      <td>989.0</td>\n",
       "      <td>711.0</td>\n",
       "      <td>C3</td>\n",
       "      <td>F1</td>\n",
       "    </tr>\n",
       "    <tr>\n",
       "      <th>17</th>\n",
       "      <td>17</td>\n",
       "      <td>51c0142b-f0e3-4fe5-8733-f22fc5bc5b10</td>\n",
       "      <td>90.779998</td>\n",
       "      <td>13.940000</td>\n",
       "      <td>120.869994</td>\n",
       "      <td>1474.410008</td>\n",
       "      <td>0.418004</td>\n",
       "      <td>14.373058</td>\n",
       "      <td>0.017684</td>\n",
       "      <td>989.0</td>\n",
       "      <td>711.0</td>\n",
       "      <td>C4</td>\n",
       "      <td>NaN</td>\n",
       "    </tr>\n",
       "    <tr>\n",
       "      <th>18</th>\n",
       "      <td>18</td>\n",
       "      <td>fde8e8a8-dbf8-4c34-96d0-07d004f97c02</td>\n",
       "      <td>90.779998</td>\n",
       "      <td>13.940000</td>\n",
       "      <td>120.869994</td>\n",
       "      <td>1474.410008</td>\n",
       "      <td>0.418004</td>\n",
       "      <td>14.373058</td>\n",
       "      <td>0.017684</td>\n",
       "      <td>989.0</td>\n",
       "      <td>711.0</td>\n",
       "      <td>C5</td>\n",
       "      <td>NaN</td>\n",
       "    </tr>\n",
       "    <tr>\n",
       "      <th>19</th>\n",
       "      <td>19</td>\n",
       "      <td>f9c5e673-ef4c-4e1e-832d-307ab7bd2d99</td>\n",
       "      <td>90.779998</td>\n",
       "      <td>13.940000</td>\n",
       "      <td>120.869994</td>\n",
       "      <td>1474.410008</td>\n",
       "      <td>0.418004</td>\n",
       "      <td>14.373058</td>\n",
       "      <td>0.017684</td>\n",
       "      <td>989.0</td>\n",
       "      <td>711.0</td>\n",
       "      <td>C6</td>\n",
       "      <td>NaN</td>\n",
       "    </tr>\n",
       "  </tbody>\n",
       "</table>\n",
       "</div>"
      ],
      "text/plain": [
       "    Unnamed: 0                                  uuid  teos_volume  \\\n",
       "0            0  ba69b584-1afd-4436-b67b-41028e68893b    65.677050   \n",
       "1            1  f25a70f2-6079-4953-8b41-51b60e129fe1   198.521614   \n",
       "2            2  f0a886af-f326-4c5f-ba18-ac69dd3177b9    17.873642   \n",
       "3            3  1468528a-c926-4cdf-8982-dc31a2cc397b   224.271870   \n",
       "4            4  1ac99397-b138-4836-a940-50a40a1ae83c    17.000000   \n",
       "5            5  38190afc-ea48-4c3b-8c2e-edd9cab5abf9   141.610206   \n",
       "6            6  f0f8a098-6c89-409b-8fe3-ffd4b4f106a8    17.000000   \n",
       "7            7  cbb3d083-994b-4677-b507-3cdc98c3861b   238.499852   \n",
       "8            8  1c6baba0-ebdd-4e85-982c-5f83fe191312    76.662951   \n",
       "9            9  bdbbf131-7db4-4768-846e-2de75e623ef2   252.952528   \n",
       "10          10  81c188d3-242b-4913-b293-cf022d523bf1   251.425137   \n",
       "11          11  ff983e1b-2a80-4131-ac10-7f8fdef11fec    76.868634   \n",
       "12          12  5807e74f-9d51-4612-840f-1e9e913af112   182.054970   \n",
       "13          13  08189d6c-3d71-412d-bdd8-9aec48c0b3a7   167.341349   \n",
       "14          14  52812388-4002-435e-a8df-fc39c962903f    90.779998   \n",
       "15          15  2e8bb17e-1309-48a3-b163-fc3b9d98c2ce    90.779998   \n",
       "16          16  bdbab155-503c-455f-a133-8cd6be1edaff    90.779998   \n",
       "17          17  51c0142b-f0e3-4fe5-8733-f22fc5bc5b10    90.779998   \n",
       "18          18  fde8e8a8-dbf8-4c34-96d0-07d004f97c02    90.779998   \n",
       "19          19  f9c5e673-ef4c-4e1e-832d-307ab7bd2d99    90.779998   \n",
       "\n",
       "    ammonia_volume  water_volume  ethanol_volume  dilution_volume_fraction  \\\n",
       "0        68.946224     15.705124     1549.671602                  0.577773   \n",
       "1       129.936523     85.466756     1286.075107                  0.191145   \n",
       "2        12.064687    128.255937     1541.805734                  2.123038   \n",
       "3        84.116124    252.692166     1138.919840                  0.169198   \n",
       "4        37.210726     94.110614     1551.678661                  2.232143   \n",
       "5       117.375094     87.916288     1353.098413                  0.267964   \n",
       "6        40.720692    170.658786     1471.620522                  2.232143   \n",
       "7       166.129657    234.973235     1060.397256                  0.159105   \n",
       "8       155.652010     74.715308     1392.969730                  0.494977   \n",
       "9        99.754920    142.946974     1204.345578                  0.150014   \n",
       "10       38.614092    247.433147     1162.527625                  0.150925   \n",
       "11      108.574145     35.336850     1479.220371                  0.493653   \n",
       "12       29.899652    205.709840     1282.335538                  0.208434   \n",
       "13      135.800318    173.495080     1223.363253                  0.226761   \n",
       "14       13.940000    120.869994     1474.410008                  0.418004   \n",
       "15       13.940000    120.869994     1474.410008                  0.418004   \n",
       "16       13.940000    120.869994     1474.410008                  0.418004   \n",
       "17       13.940000    120.869994     1474.410008                  0.418004   \n",
       "18       13.940000    120.869994     1474.410008                  0.418004   \n",
       "19       13.940000    120.869994     1474.410008                  0.418004   \n",
       "\n",
       "    silica_mass_conc  silica_mass_fraction  ethanol_dilute_vol  \\\n",
       "0          10.398547              0.012978               718.0   \n",
       "1          31.431624              0.038094              1375.0   \n",
       "2           2.829906              0.003505                 0.0   \n",
       "3          35.508622              0.042028              1412.0   \n",
       "4           2.691584              0.003345                 0.0   \n",
       "5          22.420927              0.027351              1244.0   \n",
       "6           2.691584              0.003305                 0.0   \n",
       "7          37.761317              0.044464              1430.0   \n",
       "8          12.137928              0.014891               859.0   \n",
       "9          40.049587              0.047974              1445.0   \n",
       "10         39.807757              0.047190              1443.0   \n",
       "11         12.170493              0.015077               861.0   \n",
       "12         28.824485              0.034646              1346.0   \n",
       "13         26.494900              0.031781              1315.0   \n",
       "14         14.373058              0.017684               989.0   \n",
       "15         14.373058              0.017684               989.0   \n",
       "16         14.373058              0.017684               989.0   \n",
       "17         14.373058              0.017684               989.0   \n",
       "18         14.373058              0.017684               989.0   \n",
       "19         14.373058              0.017684               989.0   \n",
       "\n",
       "    sample_dilute_vol well dilute_well  \n",
       "0               982.0   A1          C7  \n",
       "1               325.0   A2          C8  \n",
       "2              1700.0   A3          D1  \n",
       "3               288.0   A4          D2  \n",
       "4              1700.0   A5          D3  \n",
       "5               456.0   A6          D4  \n",
       "6              1700.0   A7          D5  \n",
       "7               270.0   A8          D6  \n",
       "8               841.0   B1          D7  \n",
       "9               255.0   B3          D8  \n",
       "10              257.0   B4          E1  \n",
       "11              839.0   B5          E3  \n",
       "12              354.0   B6          E4  \n",
       "13              385.0   B8          E5  \n",
       "14              711.0   C1          E6  \n",
       "15              711.0   C2          E8  \n",
       "16              711.0   C3          F1  \n",
       "17              711.0   C4         NaN  \n",
       "18              711.0   C5         NaN  \n",
       "19              711.0   C6         NaN  "
      ]
     },
     "execution_count": 59,
     "metadata": {},
     "output_type": "execute_result"
    }
   ],
   "source": [
    "sample_table"
   ]
  },
  {
   "cell_type": "code",
   "execution_count": 55,
   "id": "b2a12505-772e-4ca8-8d21-822a400835f9",
   "metadata": {},
   "outputs": [],
   "source": [
    "dilution_table = sample_table.copy()"
   ]
  },
  {
   "cell_type": "code",
   "execution_count": 56,
   "id": "bdd03979-152a-48dd-9d62-b73859c453c4",
   "metadata": {},
   "outputs": [],
   "source": [
    "dilution_table['well'] = dilution_table['dilute_well']"
   ]
  },
  {
   "cell_type": "code",
   "execution_count": 58,
   "id": "804bb020-adc5-44ad-84a7-37235024043e",
   "metadata": {},
   "outputs": [
    {
     "data": {
      "text/html": [
       "<div>\n",
       "<style scoped>\n",
       "    .dataframe tbody tr th:only-of-type {\n",
       "        vertical-align: middle;\n",
       "    }\n",
       "\n",
       "    .dataframe tbody tr th {\n",
       "        vertical-align: top;\n",
       "    }\n",
       "\n",
       "    .dataframe thead th {\n",
       "        text-align: right;\n",
       "    }\n",
       "</style>\n",
       "<table border=\"1\" class=\"dataframe\">\n",
       "  <thead>\n",
       "    <tr style=\"text-align: right;\">\n",
       "      <th></th>\n",
       "      <th>Unnamed: 0</th>\n",
       "      <th>uuid</th>\n",
       "      <th>teos_volume</th>\n",
       "      <th>ammonia_volume</th>\n",
       "      <th>water_volume</th>\n",
       "      <th>ethanol_volume</th>\n",
       "      <th>dilution_volume_fraction</th>\n",
       "      <th>silica_mass_conc</th>\n",
       "      <th>silica_mass_fraction</th>\n",
       "      <th>ethanol_dilute_vol</th>\n",
       "      <th>sample_dilute_vol</th>\n",
       "      <th>well</th>\n",
       "      <th>dilute_well</th>\n",
       "    </tr>\n",
       "  </thead>\n",
       "  <tbody>\n",
       "    <tr>\n",
       "      <th>0</th>\n",
       "      <td>0</td>\n",
       "      <td>ba69b584-1afd-4436-b67b-41028e68893b</td>\n",
       "      <td>65.677050</td>\n",
       "      <td>68.946224</td>\n",
       "      <td>15.705124</td>\n",
       "      <td>1549.671602</td>\n",
       "      <td>0.577773</td>\n",
       "      <td>10.398547</td>\n",
       "      <td>0.012978</td>\n",
       "      <td>718.0</td>\n",
       "      <td>982.0</td>\n",
       "      <td>C7</td>\n",
       "      <td>C7</td>\n",
       "    </tr>\n",
       "    <tr>\n",
       "      <th>1</th>\n",
       "      <td>1</td>\n",
       "      <td>f25a70f2-6079-4953-8b41-51b60e129fe1</td>\n",
       "      <td>198.521614</td>\n",
       "      <td>129.936523</td>\n",
       "      <td>85.466756</td>\n",
       "      <td>1286.075107</td>\n",
       "      <td>0.191145</td>\n",
       "      <td>31.431624</td>\n",
       "      <td>0.038094</td>\n",
       "      <td>1375.0</td>\n",
       "      <td>325.0</td>\n",
       "      <td>C8</td>\n",
       "      <td>C8</td>\n",
       "    </tr>\n",
       "    <tr>\n",
       "      <th>2</th>\n",
       "      <td>2</td>\n",
       "      <td>f0a886af-f326-4c5f-ba18-ac69dd3177b9</td>\n",
       "      <td>17.873642</td>\n",
       "      <td>12.064687</td>\n",
       "      <td>128.255937</td>\n",
       "      <td>1541.805734</td>\n",
       "      <td>2.123038</td>\n",
       "      <td>2.829906</td>\n",
       "      <td>0.003505</td>\n",
       "      <td>0.0</td>\n",
       "      <td>1700.0</td>\n",
       "      <td>D1</td>\n",
       "      <td>D1</td>\n",
       "    </tr>\n",
       "    <tr>\n",
       "      <th>3</th>\n",
       "      <td>3</td>\n",
       "      <td>1468528a-c926-4cdf-8982-dc31a2cc397b</td>\n",
       "      <td>224.271870</td>\n",
       "      <td>84.116124</td>\n",
       "      <td>252.692166</td>\n",
       "      <td>1138.919840</td>\n",
       "      <td>0.169198</td>\n",
       "      <td>35.508622</td>\n",
       "      <td>0.042028</td>\n",
       "      <td>1412.0</td>\n",
       "      <td>288.0</td>\n",
       "      <td>D2</td>\n",
       "      <td>D2</td>\n",
       "    </tr>\n",
       "    <tr>\n",
       "      <th>4</th>\n",
       "      <td>4</td>\n",
       "      <td>1ac99397-b138-4836-a940-50a40a1ae83c</td>\n",
       "      <td>17.000000</td>\n",
       "      <td>37.210726</td>\n",
       "      <td>94.110614</td>\n",
       "      <td>1551.678661</td>\n",
       "      <td>2.232143</td>\n",
       "      <td>2.691584</td>\n",
       "      <td>0.003345</td>\n",
       "      <td>0.0</td>\n",
       "      <td>1700.0</td>\n",
       "      <td>D3</td>\n",
       "      <td>D3</td>\n",
       "    </tr>\n",
       "    <tr>\n",
       "      <th>5</th>\n",
       "      <td>5</td>\n",
       "      <td>38190afc-ea48-4c3b-8c2e-edd9cab5abf9</td>\n",
       "      <td>141.610206</td>\n",
       "      <td>117.375094</td>\n",
       "      <td>87.916288</td>\n",
       "      <td>1353.098413</td>\n",
       "      <td>0.267964</td>\n",
       "      <td>22.420927</td>\n",
       "      <td>0.027351</td>\n",
       "      <td>1244.0</td>\n",
       "      <td>456.0</td>\n",
       "      <td>D4</td>\n",
       "      <td>D4</td>\n",
       "    </tr>\n",
       "    <tr>\n",
       "      <th>6</th>\n",
       "      <td>6</td>\n",
       "      <td>f0f8a098-6c89-409b-8fe3-ffd4b4f106a8</td>\n",
       "      <td>17.000000</td>\n",
       "      <td>40.720692</td>\n",
       "      <td>170.658786</td>\n",
       "      <td>1471.620522</td>\n",
       "      <td>2.232143</td>\n",
       "      <td>2.691584</td>\n",
       "      <td>0.003305</td>\n",
       "      <td>0.0</td>\n",
       "      <td>1700.0</td>\n",
       "      <td>D5</td>\n",
       "      <td>D5</td>\n",
       "    </tr>\n",
       "    <tr>\n",
       "      <th>7</th>\n",
       "      <td>7</td>\n",
       "      <td>cbb3d083-994b-4677-b507-3cdc98c3861b</td>\n",
       "      <td>238.499852</td>\n",
       "      <td>166.129657</td>\n",
       "      <td>234.973235</td>\n",
       "      <td>1060.397256</td>\n",
       "      <td>0.159105</td>\n",
       "      <td>37.761317</td>\n",
       "      <td>0.044464</td>\n",
       "      <td>1430.0</td>\n",
       "      <td>270.0</td>\n",
       "      <td>D6</td>\n",
       "      <td>D6</td>\n",
       "    </tr>\n",
       "    <tr>\n",
       "      <th>8</th>\n",
       "      <td>8</td>\n",
       "      <td>1c6baba0-ebdd-4e85-982c-5f83fe191312</td>\n",
       "      <td>76.662951</td>\n",
       "      <td>155.652010</td>\n",
       "      <td>74.715308</td>\n",
       "      <td>1392.969730</td>\n",
       "      <td>0.494977</td>\n",
       "      <td>12.137928</td>\n",
       "      <td>0.014891</td>\n",
       "      <td>859.0</td>\n",
       "      <td>841.0</td>\n",
       "      <td>D7</td>\n",
       "      <td>D7</td>\n",
       "    </tr>\n",
       "    <tr>\n",
       "      <th>9</th>\n",
       "      <td>9</td>\n",
       "      <td>bdbbf131-7db4-4768-846e-2de75e623ef2</td>\n",
       "      <td>252.952528</td>\n",
       "      <td>99.754920</td>\n",
       "      <td>142.946974</td>\n",
       "      <td>1204.345578</td>\n",
       "      <td>0.150014</td>\n",
       "      <td>40.049587</td>\n",
       "      <td>0.047974</td>\n",
       "      <td>1445.0</td>\n",
       "      <td>255.0</td>\n",
       "      <td>D8</td>\n",
       "      <td>D8</td>\n",
       "    </tr>\n",
       "    <tr>\n",
       "      <th>10</th>\n",
       "      <td>10</td>\n",
       "      <td>81c188d3-242b-4913-b293-cf022d523bf1</td>\n",
       "      <td>251.425137</td>\n",
       "      <td>38.614092</td>\n",
       "      <td>247.433147</td>\n",
       "      <td>1162.527625</td>\n",
       "      <td>0.150925</td>\n",
       "      <td>39.807757</td>\n",
       "      <td>0.047190</td>\n",
       "      <td>1443.0</td>\n",
       "      <td>257.0</td>\n",
       "      <td>E1</td>\n",
       "      <td>E1</td>\n",
       "    </tr>\n",
       "    <tr>\n",
       "      <th>11</th>\n",
       "      <td>11</td>\n",
       "      <td>ff983e1b-2a80-4131-ac10-7f8fdef11fec</td>\n",
       "      <td>76.868634</td>\n",
       "      <td>108.574145</td>\n",
       "      <td>35.336850</td>\n",
       "      <td>1479.220371</td>\n",
       "      <td>0.493653</td>\n",
       "      <td>12.170493</td>\n",
       "      <td>0.015077</td>\n",
       "      <td>861.0</td>\n",
       "      <td>839.0</td>\n",
       "      <td>E3</td>\n",
       "      <td>E3</td>\n",
       "    </tr>\n",
       "    <tr>\n",
       "      <th>12</th>\n",
       "      <td>12</td>\n",
       "      <td>5807e74f-9d51-4612-840f-1e9e913af112</td>\n",
       "      <td>182.054970</td>\n",
       "      <td>29.899652</td>\n",
       "      <td>205.709840</td>\n",
       "      <td>1282.335538</td>\n",
       "      <td>0.208434</td>\n",
       "      <td>28.824485</td>\n",
       "      <td>0.034646</td>\n",
       "      <td>1346.0</td>\n",
       "      <td>354.0</td>\n",
       "      <td>E4</td>\n",
       "      <td>E4</td>\n",
       "    </tr>\n",
       "    <tr>\n",
       "      <th>13</th>\n",
       "      <td>13</td>\n",
       "      <td>08189d6c-3d71-412d-bdd8-9aec48c0b3a7</td>\n",
       "      <td>167.341349</td>\n",
       "      <td>135.800318</td>\n",
       "      <td>173.495080</td>\n",
       "      <td>1223.363253</td>\n",
       "      <td>0.226761</td>\n",
       "      <td>26.494900</td>\n",
       "      <td>0.031781</td>\n",
       "      <td>1315.0</td>\n",
       "      <td>385.0</td>\n",
       "      <td>E5</td>\n",
       "      <td>E5</td>\n",
       "    </tr>\n",
       "    <tr>\n",
       "      <th>14</th>\n",
       "      <td>14</td>\n",
       "      <td>52812388-4002-435e-a8df-fc39c962903f</td>\n",
       "      <td>90.779998</td>\n",
       "      <td>13.940000</td>\n",
       "      <td>120.869994</td>\n",
       "      <td>1474.410008</td>\n",
       "      <td>0.418004</td>\n",
       "      <td>14.373058</td>\n",
       "      <td>0.017684</td>\n",
       "      <td>989.0</td>\n",
       "      <td>711.0</td>\n",
       "      <td>E6</td>\n",
       "      <td>E6</td>\n",
       "    </tr>\n",
       "    <tr>\n",
       "      <th>15</th>\n",
       "      <td>15</td>\n",
       "      <td>2e8bb17e-1309-48a3-b163-fc3b9d98c2ce</td>\n",
       "      <td>90.779998</td>\n",
       "      <td>13.940000</td>\n",
       "      <td>120.869994</td>\n",
       "      <td>1474.410008</td>\n",
       "      <td>0.418004</td>\n",
       "      <td>14.373058</td>\n",
       "      <td>0.017684</td>\n",
       "      <td>989.0</td>\n",
       "      <td>711.0</td>\n",
       "      <td>E8</td>\n",
       "      <td>E8</td>\n",
       "    </tr>\n",
       "    <tr>\n",
       "      <th>16</th>\n",
       "      <td>16</td>\n",
       "      <td>bdbab155-503c-455f-a133-8cd6be1edaff</td>\n",
       "      <td>90.779998</td>\n",
       "      <td>13.940000</td>\n",
       "      <td>120.869994</td>\n",
       "      <td>1474.410008</td>\n",
       "      <td>0.418004</td>\n",
       "      <td>14.373058</td>\n",
       "      <td>0.017684</td>\n",
       "      <td>989.0</td>\n",
       "      <td>711.0</td>\n",
       "      <td>F1</td>\n",
       "      <td>F1</td>\n",
       "    </tr>\n",
       "    <tr>\n",
       "      <th>17</th>\n",
       "      <td>17</td>\n",
       "      <td>51c0142b-f0e3-4fe5-8733-f22fc5bc5b10</td>\n",
       "      <td>90.779998</td>\n",
       "      <td>13.940000</td>\n",
       "      <td>120.869994</td>\n",
       "      <td>1474.410008</td>\n",
       "      <td>0.418004</td>\n",
       "      <td>14.373058</td>\n",
       "      <td>0.017684</td>\n",
       "      <td>989.0</td>\n",
       "      <td>711.0</td>\n",
       "      <td>NaN</td>\n",
       "      <td>NaN</td>\n",
       "    </tr>\n",
       "    <tr>\n",
       "      <th>18</th>\n",
       "      <td>18</td>\n",
       "      <td>fde8e8a8-dbf8-4c34-96d0-07d004f97c02</td>\n",
       "      <td>90.779998</td>\n",
       "      <td>13.940000</td>\n",
       "      <td>120.869994</td>\n",
       "      <td>1474.410008</td>\n",
       "      <td>0.418004</td>\n",
       "      <td>14.373058</td>\n",
       "      <td>0.017684</td>\n",
       "      <td>989.0</td>\n",
       "      <td>711.0</td>\n",
       "      <td>NaN</td>\n",
       "      <td>NaN</td>\n",
       "    </tr>\n",
       "    <tr>\n",
       "      <th>19</th>\n",
       "      <td>19</td>\n",
       "      <td>f9c5e673-ef4c-4e1e-832d-307ab7bd2d99</td>\n",
       "      <td>90.779998</td>\n",
       "      <td>13.940000</td>\n",
       "      <td>120.869994</td>\n",
       "      <td>1474.410008</td>\n",
       "      <td>0.418004</td>\n",
       "      <td>14.373058</td>\n",
       "      <td>0.017684</td>\n",
       "      <td>989.0</td>\n",
       "      <td>711.0</td>\n",
       "      <td>NaN</td>\n",
       "      <td>NaN</td>\n",
       "    </tr>\n",
       "  </tbody>\n",
       "</table>\n",
       "</div>"
      ],
      "text/plain": [
       "    Unnamed: 0                                  uuid  teos_volume  \\\n",
       "0            0  ba69b584-1afd-4436-b67b-41028e68893b    65.677050   \n",
       "1            1  f25a70f2-6079-4953-8b41-51b60e129fe1   198.521614   \n",
       "2            2  f0a886af-f326-4c5f-ba18-ac69dd3177b9    17.873642   \n",
       "3            3  1468528a-c926-4cdf-8982-dc31a2cc397b   224.271870   \n",
       "4            4  1ac99397-b138-4836-a940-50a40a1ae83c    17.000000   \n",
       "5            5  38190afc-ea48-4c3b-8c2e-edd9cab5abf9   141.610206   \n",
       "6            6  f0f8a098-6c89-409b-8fe3-ffd4b4f106a8    17.000000   \n",
       "7            7  cbb3d083-994b-4677-b507-3cdc98c3861b   238.499852   \n",
       "8            8  1c6baba0-ebdd-4e85-982c-5f83fe191312    76.662951   \n",
       "9            9  bdbbf131-7db4-4768-846e-2de75e623ef2   252.952528   \n",
       "10          10  81c188d3-242b-4913-b293-cf022d523bf1   251.425137   \n",
       "11          11  ff983e1b-2a80-4131-ac10-7f8fdef11fec    76.868634   \n",
       "12          12  5807e74f-9d51-4612-840f-1e9e913af112   182.054970   \n",
       "13          13  08189d6c-3d71-412d-bdd8-9aec48c0b3a7   167.341349   \n",
       "14          14  52812388-4002-435e-a8df-fc39c962903f    90.779998   \n",
       "15          15  2e8bb17e-1309-48a3-b163-fc3b9d98c2ce    90.779998   \n",
       "16          16  bdbab155-503c-455f-a133-8cd6be1edaff    90.779998   \n",
       "17          17  51c0142b-f0e3-4fe5-8733-f22fc5bc5b10    90.779998   \n",
       "18          18  fde8e8a8-dbf8-4c34-96d0-07d004f97c02    90.779998   \n",
       "19          19  f9c5e673-ef4c-4e1e-832d-307ab7bd2d99    90.779998   \n",
       "\n",
       "    ammonia_volume  water_volume  ethanol_volume  dilution_volume_fraction  \\\n",
       "0        68.946224     15.705124     1549.671602                  0.577773   \n",
       "1       129.936523     85.466756     1286.075107                  0.191145   \n",
       "2        12.064687    128.255937     1541.805734                  2.123038   \n",
       "3        84.116124    252.692166     1138.919840                  0.169198   \n",
       "4        37.210726     94.110614     1551.678661                  2.232143   \n",
       "5       117.375094     87.916288     1353.098413                  0.267964   \n",
       "6        40.720692    170.658786     1471.620522                  2.232143   \n",
       "7       166.129657    234.973235     1060.397256                  0.159105   \n",
       "8       155.652010     74.715308     1392.969730                  0.494977   \n",
       "9        99.754920    142.946974     1204.345578                  0.150014   \n",
       "10       38.614092    247.433147     1162.527625                  0.150925   \n",
       "11      108.574145     35.336850     1479.220371                  0.493653   \n",
       "12       29.899652    205.709840     1282.335538                  0.208434   \n",
       "13      135.800318    173.495080     1223.363253                  0.226761   \n",
       "14       13.940000    120.869994     1474.410008                  0.418004   \n",
       "15       13.940000    120.869994     1474.410008                  0.418004   \n",
       "16       13.940000    120.869994     1474.410008                  0.418004   \n",
       "17       13.940000    120.869994     1474.410008                  0.418004   \n",
       "18       13.940000    120.869994     1474.410008                  0.418004   \n",
       "19       13.940000    120.869994     1474.410008                  0.418004   \n",
       "\n",
       "    silica_mass_conc  silica_mass_fraction  ethanol_dilute_vol  \\\n",
       "0          10.398547              0.012978               718.0   \n",
       "1          31.431624              0.038094              1375.0   \n",
       "2           2.829906              0.003505                 0.0   \n",
       "3          35.508622              0.042028              1412.0   \n",
       "4           2.691584              0.003345                 0.0   \n",
       "5          22.420927              0.027351              1244.0   \n",
       "6           2.691584              0.003305                 0.0   \n",
       "7          37.761317              0.044464              1430.0   \n",
       "8          12.137928              0.014891               859.0   \n",
       "9          40.049587              0.047974              1445.0   \n",
       "10         39.807757              0.047190              1443.0   \n",
       "11         12.170493              0.015077               861.0   \n",
       "12         28.824485              0.034646              1346.0   \n",
       "13         26.494900              0.031781              1315.0   \n",
       "14         14.373058              0.017684               989.0   \n",
       "15         14.373058              0.017684               989.0   \n",
       "16         14.373058              0.017684               989.0   \n",
       "17         14.373058              0.017684               989.0   \n",
       "18         14.373058              0.017684               989.0   \n",
       "19         14.373058              0.017684               989.0   \n",
       "\n",
       "    sample_dilute_vol well dilute_well  \n",
       "0               982.0   C7          C7  \n",
       "1               325.0   C8          C8  \n",
       "2              1700.0   D1          D1  \n",
       "3               288.0   D2          D2  \n",
       "4              1700.0   D3          D3  \n",
       "5               456.0   D4          D4  \n",
       "6              1700.0   D5          D5  \n",
       "7               270.0   D6          D6  \n",
       "8               841.0   D7          D7  \n",
       "9               255.0   D8          D8  \n",
       "10              257.0   E1          E1  \n",
       "11              839.0   E3          E3  \n",
       "12              354.0   E4          E4  \n",
       "13              385.0   E5          E5  \n",
       "14              711.0   E6          E6  \n",
       "15              711.0   E8          E8  \n",
       "16              711.0   F1          F1  \n",
       "17              711.0  NaN         NaN  \n",
       "18              711.0  NaN         NaN  \n",
       "19              711.0  NaN         NaN  "
      ]
     },
     "execution_count": 58,
     "metadata": {},
     "output_type": "execute_result"
    }
   ],
   "source": [
    "dilution_table"
   ]
  },
  {
   "cell_type": "code",
   "execution_count": 60,
   "id": "701c41f9-1eef-4ed1-ab07-c7b8257ddb96",
   "metadata": {},
   "outputs": [],
   "source": [
    "location_lookup_dilute = {}\n",
    "\n",
    "for i, row in dilution_table.iterrows():\n",
    "    uuid_val = row['uuid']\n",
    "    well = row['well']\n",
    "    if well is not np.nan:\n",
    "        well_loc = samples[well]\n",
    "    else:\n",
    "        well_loc = None\n",
    "\n",
    "    location_lookup_dilute[uuid_val] = well_loc"
   ]
  },
  {
   "cell_type": "markdown",
   "id": "e2ddb62c-d3f3-4c45-917a-e575189606c9",
   "metadata": {},
   "source": [
    "## add ethanol"
   ]
  },
  {
   "cell_type": "code",
   "execution_count": 63,
   "id": "0f4144b3-a7f9-4650-886f-054cd544228a",
   "metadata": {},
   "outputs": [],
   "source": [
    "stober.add_reactants_batch(jubilee, mix_syringe, mix_syringe, sample_table, location_lookup, 'ethanol_volume', ethanol_stocks, stocks_usable_volume=15000, dwell_time = 10)"
   ]
  },
  {
   "cell_type": "code",
   "execution_count": 64,
   "id": "7d204157-ed65-4f49-acbc-d192222f0dc6",
   "metadata": {},
   "outputs": [],
   "source": [
    "#dispense remaining volume from etOH mix syringe\n",
    "jubilee.pickup_tool(mix_syringe)\n",
    "mix_syringe.dispense(mix_syringe.remaining_volume-1, trash[0])\n",
    "logger.info('Emptied ethanol syringe into trash')\n",
    "jubilee.park_tool()"
   ]
  },
  {
   "cell_type": "code",
   "execution_count": 65,
   "id": "2fc66aa1-bc70-4098-8e37-f148188c26c6",
   "metadata": {},
   "outputs": [],
   "source": [
    "mix_syringe.set_pulsewidth(mix_syringe.empty_position-1)"
   ]
  },
  {
   "cell_type": "markdown",
   "id": "9e35c96c-2ea8-438a-989d-f6d73c8f16ed",
   "metadata": {},
   "source": [
    "## Dispense water\n"
   ]
  },
  {
   "cell_type": "code",
   "execution_count": 66,
   "id": "9f765450-7f64-49e7-85f8-335e2fa0b666",
   "metadata": {},
   "outputs": [],
   "source": [
    "stober.add_reactants_batch(jubilee, water_syringe, mix_syringe, sample_table, location_lookup, 'water_volume', water_stocks, dwell_time = 7)"
   ]
  },
  {
   "cell_type": "markdown",
   "id": "cd60cc24-167e-46e5-9e73-a2457c8964de",
   "metadata": {},
   "source": [
    "## dispense Ammonia"
   ]
  },
  {
   "cell_type": "code",
   "execution_count": 67,
   "id": "7dc4c2ae-9e4e-40e0-929a-6e0a3e4bc240",
   "metadata": {},
   "outputs": [],
   "source": [
    "stober.add_reactants_batch(jubilee, ammonia_syringe, mix_syringe, sample_table, location_lookup, 'ammonia_volume', ammonia_stocks)"
   ]
  },
  {
   "cell_type": "markdown",
   "id": "bc8a34b3-acd7-4b89-a9ea-34b514cd3d8c",
   "metadata": {},
   "source": [
    "## mix precursors"
   ]
  },
  {
   "cell_type": "code",
   "execution_count": 68,
   "id": "f4f701c5-7908-489e-a1eb-9b2c60438c96",
   "metadata": {},
   "outputs": [],
   "source": [
    "stober.first_mix(jubilee, mix_syringe, 2000, location_lookup, rinse_stocks, 5)"
   ]
  },
  {
   "cell_type": "markdown",
   "id": "000c1369-b5a0-4183-97d4-fced54279516",
   "metadata": {},
   "source": [
    "## Add TEOS and mix"
   ]
  },
  {
   "cell_type": "code",
   "execution_count": 69,
   "id": "85496a20-bb2d-4363-a2c5-41685f0353f9",
   "metadata": {},
   "outputs": [],
   "source": [
    "teos_start_time = time.time()"
   ]
  },
  {
   "cell_type": "code",
   "execution_count": 70,
   "id": "efccb2d6-234a-4af8-a87d-4d904696a48e",
   "metadata": {},
   "outputs": [],
   "source": [
    "stober.add_reactants_batch(jubilee, teos_syringe, mix_syringe, sample_table, location_lookup, 'teos_volume', teos_stocks, mix_after=(2000, 5, rinse_stocks))"
   ]
  },
  {
   "cell_type": "markdown",
   "id": "cf654819-0ae6-452a-bdbe-5f2a008f1b1c",
   "metadata": {},
   "source": [
    "### Dilution"
   ]
  },
  {
   "cell_type": "code",
   "execution_count": 71,
   "id": "5c533083-99a5-4efe-8f99-0bd3b538c394",
   "metadata": {},
   "outputs": [
    {
     "ename": "AttributeError",
     "evalue": "'NoneType' object has no attribute 'bottom'",
     "output_type": "error",
     "traceback": [
      "\u001b[0;31m---------------------------------------------------------------------------\u001b[0m",
      "\u001b[0;31mAttributeError\u001b[0m                            Traceback (most recent call last)",
      "Cell \u001b[0;32mIn[71], line 6\u001b[0m\n\u001b[1;32m      3\u001b[0m     time\u001b[38;5;241m.\u001b[39msleep(\u001b[38;5;241m60\u001b[39m)\n\u001b[1;32m      5\u001b[0m \u001b[38;5;66;03m# dispese ethanol into dilution vials\u001b[39;00m\n\u001b[0;32m----> 6\u001b[0m \u001b[43mstober\u001b[49m\u001b[38;5;241;43m.\u001b[39;49m\u001b[43madd_reactants_batch\u001b[49m\u001b[43m(\u001b[49m\u001b[43mjubilee\u001b[49m\u001b[43m,\u001b[49m\u001b[43m \u001b[49m\u001b[43mmix_syringe\u001b[49m\u001b[43m,\u001b[49m\u001b[43m \u001b[49m\u001b[43mmix_syringe\u001b[49m\u001b[43m,\u001b[49m\u001b[43m \u001b[49m\u001b[43mdilution_table\u001b[49m\u001b[43m,\u001b[49m\u001b[43m \u001b[49m\u001b[43mlocation_lookup_dilute\u001b[49m\u001b[43m,\u001b[49m\u001b[43m \u001b[49m\u001b[38;5;124;43m'\u001b[39;49m\u001b[38;5;124;43methanol_dilute_vol\u001b[39;49m\u001b[38;5;124;43m'\u001b[39;49m\u001b[43m,\u001b[49m\u001b[43m \u001b[49m\u001b[43methanol_stocks\u001b[49m\u001b[43m[\u001b[49m\u001b[38;5;241;43m4\u001b[39;49m\u001b[43m:\u001b[49m\u001b[43m]\u001b[49m\u001b[43m,\u001b[49m\u001b[43m \u001b[49m\u001b[43mstocks_usable_volume\u001b[49m\u001b[38;5;241;43m=\u001b[39;49m\u001b[38;5;241;43m15000\u001b[39;49m\u001b[43m,\u001b[49m\u001b[43m \u001b[49m\u001b[43mdwell_time\u001b[49m\u001b[43m \u001b[49m\u001b[38;5;241;43m=\u001b[39;49m\u001b[43m \u001b[49m\u001b[38;5;241;43m10\u001b[39;49m\u001b[43m)\u001b[49m\n\u001b[1;32m      8\u001b[0m jubilee\u001b[38;5;241m.\u001b[39mpickup_tool(mix_syringe)\n\u001b[1;32m      9\u001b[0m rinse_vol \u001b[38;5;241m=\u001b[39m \u001b[38;5;241m2000\u001b[39m\n",
      "File \u001b[0;32m~/Code/silica-np-synthesis/2024_11_18_optimizationRound4/../stober_synthesis_utils.py:115\u001b[0m, in \u001b[0;36madd_reactants_batch\u001b[0;34m(jubilee, reactant_syringe, mix_syringe, sample_table, location_lookup, reactant_name, stocks, stocks_usable_volume, mix_after, dwell_time)\u001b[0m\n\u001b[1;32m    112\u001b[0m \u001b[38;5;28;01mif\u001b[39;00m dispense_volume \u001b[38;5;241m>\u001b[39m reactant_syringe\u001b[38;5;241m.\u001b[39mremaining_volume:\n\u001b[1;32m    113\u001b[0m     stock_volumes \u001b[38;5;241m=\u001b[39m _refill_syringe(reactant_syringe, stocks, stock_volumes)\n\u001b[0;32m--> 115\u001b[0m reactant_syringe\u001b[38;5;241m.\u001b[39mdispense(dispense_volume, \u001b[43mdispense_location\u001b[49m\u001b[38;5;241;43m.\u001b[39;49m\u001b[43mbottom\u001b[49m(\u001b[38;5;241m+\u001b[39m\u001b[38;5;241m5\u001b[39m), s \u001b[38;5;241m=\u001b[39m \u001b[38;5;241m20\u001b[39m)\n\u001b[1;32m    116\u001b[0m time\u001b[38;5;241m.\u001b[39msleep(dwell_time)\n\u001b[1;32m    117\u001b[0m logger\u001b[38;5;241m.\u001b[39minfo(\u001b[38;5;124mf\u001b[39m\u001b[38;5;124m'\u001b[39m\u001b[38;5;124mDispensed \u001b[39m\u001b[38;5;132;01m{\u001b[39;00mdispense_volume\u001b[38;5;132;01m}\u001b[39;00m\u001b[38;5;124m uL of \u001b[39m\u001b[38;5;132;01m{\u001b[39;00mreactant_name\u001b[38;5;132;01m}\u001b[39;00m\u001b[38;5;124m into \u001b[39m\u001b[38;5;132;01m{\u001b[39;00mdispense_location\u001b[38;5;132;01m}\u001b[39;00m\u001b[38;5;124m'\u001b[39m)\n",
      "\u001b[0;31mAttributeError\u001b[0m: 'NoneType' object has no attribute 'bottom'"
     ]
    }
   ],
   "source": [
    "hrs5 = 60*60*5\n",
    "while (time.time() - teos_start_time) < hrs5:\n",
    "    time.sleep(60)\n",
    "\n",
    "# dispese ethanol into dilution vials\n",
    "stober.add_reactants_batch(jubilee, mix_syringe, mix_syringe, dilution_table, location_lookup_dilute, 'ethanol_dilute_vol', ethanol_stocks[4:], stocks_usable_volume=15000, dwell_time = 10)\n",
    "\n",
    "jubilee.pickup_tool(mix_syringe)\n",
    "rinse_vol = 2000\n",
    "for i, row in dilution_table.iterrows():\n",
    "    uuid_val = row['uuid']\n",
    "    sample_well = location_lookup[uuid_val]\n",
    "    dilute_well = location_lookup_dilute[uuid_val]\n",
    "    if dilute_well is None:\n",
    "        continue\n",
    "    else:\n",
    "        vol = row['sample_dilute_vol']\n",
    "        \n",
    "        mix_syringe.aspirate(vol, sample_well.bottom(+5))\n",
    "        time.sleep(10)\n",
    "        mix_syringe.dispense(vol, dilute_well.bottom(+5))\n",
    "        time.sleep(10)\n",
    "        logger.info(f'Transferred {vol} uL from {sample_well} to {dilute_well}')\n",
    "    \n",
    "        for stock in rinse_stocks:\n",
    "            mix_syringe.mix(rinse_vol, 5, stock.bottom(+10), t_hold = 3, s_aspirate = 2000, s_dispense = 500)\n",
    "    \n",
    "        logger.info(f'Washed mix syringe in wash solutions {rinse_stocks}')\n",
    "\n",
    "    "
   ]
  },
  {
   "cell_type": "code",
   "execution_count": 80,
   "id": "fc8002db-155a-4841-ba3c-25da7f73aafd",
   "metadata": {},
   "outputs": [],
   "source": [
    "jubilee.park_tool()"
   ]
  },
  {
   "cell_type": "code",
   "execution_count": 100,
   "id": "18d77df9-f5ab-4212-b386-c1eee378bc53",
   "metadata": {},
   "outputs": [],
   "source": [
    "water_syringe.set_pulsewidth(water_syringe.empty_position-1)"
   ]
  },
  {
   "cell_type": "code",
   "execution_count": 101,
   "id": "a69392e0-de9f-41c2-aac3-cb2fb9fb1230",
   "metadata": {},
   "outputs": [],
   "source": [
    "ammonia_syringe.set_pulsewidth(ammonia_syringe.empty_position-1)"
   ]
  },
  {
   "cell_type": "code",
   "execution_count": 102,
   "id": "1b5ff69f-ca4b-44d3-beb8-2d7899e510c5",
   "metadata": {},
   "outputs": [],
   "source": [
    "teos_syringe.set_pulsewidth(teos_syringe.empty_position-1)"
   ]
  },
  {
   "cell_type": "code",
   "execution_count": 79,
   "id": "68c7ba68-419a-4676-8ff9-fe8bb1a1d8fd",
   "metadata": {},
   "outputs": [
    {
     "data": {
      "text/plain": [
       "{'ba69b584-1afd-4436-b67b-41028e68893b': Well A1 form septavialrev1_44_holder_2000ul on slot 2,\n",
       " 'f25a70f2-6079-4953-8b41-51b60e129fe1': Well A2 form septavialrev1_44_holder_2000ul on slot 2,\n",
       " 'f0a886af-f326-4c5f-ba18-ac69dd3177b9': Well A3 form septavialrev1_44_holder_2000ul on slot 2,\n",
       " '1468528a-c926-4cdf-8982-dc31a2cc397b': Well A4 form septavialrev1_44_holder_2000ul on slot 2,\n",
       " '1ac99397-b138-4836-a940-50a40a1ae83c': Well A5 form septavialrev1_44_holder_2000ul on slot 2,\n",
       " '38190afc-ea48-4c3b-8c2e-edd9cab5abf9': Well A6 form septavialrev1_44_holder_2000ul on slot 2,\n",
       " 'f0f8a098-6c89-409b-8fe3-ffd4b4f106a8': Well A7 form septavialrev1_44_holder_2000ul on slot 2,\n",
       " 'cbb3d083-994b-4677-b507-3cdc98c3861b': Well A8 form septavialrev1_44_holder_2000ul on slot 2,\n",
       " '1c6baba0-ebdd-4e85-982c-5f83fe191312': Well B1 form septavialrev1_44_holder_2000ul on slot 2,\n",
       " 'bdbbf131-7db4-4768-846e-2de75e623ef2': Well B3 form septavialrev1_44_holder_2000ul on slot 2,\n",
       " '81c188d3-242b-4913-b293-cf022d523bf1': Well B4 form septavialrev1_44_holder_2000ul on slot 2,\n",
       " 'ff983e1b-2a80-4131-ac10-7f8fdef11fec': Well B5 form septavialrev1_44_holder_2000ul on slot 2,\n",
       " '5807e74f-9d51-4612-840f-1e9e913af112': Well B6 form septavialrev1_44_holder_2000ul on slot 2,\n",
       " '08189d6c-3d71-412d-bdd8-9aec48c0b3a7': Well B8 form septavialrev1_44_holder_2000ul on slot 2,\n",
       " '52812388-4002-435e-a8df-fc39c962903f': Well C1 form septavialrev1_44_holder_2000ul on slot 2,\n",
       " '2e8bb17e-1309-48a3-b163-fc3b9d98c2ce': Well C2 form septavialrev1_44_holder_2000ul on slot 2,\n",
       " 'bdbab155-503c-455f-a133-8cd6be1edaff': Well C3 form septavialrev1_44_holder_2000ul on slot 2,\n",
       " '51c0142b-f0e3-4fe5-8733-f22fc5bc5b10': Well C4 form septavialrev1_44_holder_2000ul on slot 2,\n",
       " 'fde8e8a8-dbf8-4c34-96d0-07d004f97c02': Well C5 form septavialrev1_44_holder_2000ul on slot 2,\n",
       " 'f9c5e673-ef4c-4e1e-832d-307ab7bd2d99': Well C6 form septavialrev1_44_holder_2000ul on slot 2}"
      ]
     },
     "execution_count": 79,
     "metadata": {},
     "output_type": "execute_result"
    }
   ],
   "source": [
    "location_lookup"
   ]
  },
  {
   "cell_type": "code",
   "execution_count": 74,
   "id": "82a6161b-9223-4db2-ba4b-086f2d1cad88",
   "metadata": {},
   "outputs": [
    {
     "data": {
      "text/plain": [
       "Well C6 form septavialrev1_44_holder_2000ul on slot 2"
      ]
     },
     "execution_count": 74,
     "metadata": {},
     "output_type": "execute_result"
    }
   ],
   "source": [
    "sample_well"
   ]
  },
  {
   "cell_type": "code",
   "execution_count": 75,
   "id": "394e0469-f89f-4f3d-9c0e-33000840fbb3",
   "metadata": {},
   "outputs": [],
   "source": [
    "dilute_well"
   ]
  },
  {
   "cell_type": "code",
   "execution_count": 76,
   "id": "d9cae2cc-5a1f-4d49-b41d-343b756d9b9b",
   "metadata": {},
   "outputs": [
    {
     "data": {
      "text/plain": [
       "Unnamed: 0                                                    19\n",
       "uuid                        f9c5e673-ef4c-4e1e-832d-307ab7bd2d99\n",
       "teos_volume                                            90.779998\n",
       "ammonia_volume                                             13.94\n",
       "water_volume                                          120.869994\n",
       "ethanol_volume                                       1474.410008\n",
       "dilution_volume_fraction                                0.418004\n",
       "silica_mass_conc                                       14.373058\n",
       "silica_mass_fraction                                    0.017684\n",
       "ethanol_dilute_vol                                         989.0\n",
       "sample_dilute_vol                                          711.0\n",
       "well                                                         NaN\n",
       "dilute_well                                                  NaN\n",
       "Name: 19, dtype: object"
      ]
     },
     "execution_count": 76,
     "metadata": {},
     "output_type": "execute_result"
    }
   ],
   "source": [
    "row"
   ]
  },
  {
   "cell_type": "code",
   "execution_count": 81,
   "id": "803724d8-ac30-4dfb-940b-b350bc20e5b8",
   "metadata": {},
   "outputs": [
    {
     "data": {
      "text/html": [
       "<div>\n",
       "<style scoped>\n",
       "    .dataframe tbody tr th:only-of-type {\n",
       "        vertical-align: middle;\n",
       "    }\n",
       "\n",
       "    .dataframe tbody tr th {\n",
       "        vertical-align: top;\n",
       "    }\n",
       "\n",
       "    .dataframe thead th {\n",
       "        text-align: right;\n",
       "    }\n",
       "</style>\n",
       "<table border=\"1\" class=\"dataframe\">\n",
       "  <thead>\n",
       "    <tr style=\"text-align: right;\">\n",
       "      <th></th>\n",
       "      <th>Unnamed: 0</th>\n",
       "      <th>uuid</th>\n",
       "      <th>teos_volume</th>\n",
       "      <th>ammonia_volume</th>\n",
       "      <th>water_volume</th>\n",
       "      <th>ethanol_volume</th>\n",
       "      <th>dilution_volume_fraction</th>\n",
       "      <th>silica_mass_conc</th>\n",
       "      <th>silica_mass_fraction</th>\n",
       "      <th>ethanol_dilute_vol</th>\n",
       "      <th>sample_dilute_vol</th>\n",
       "      <th>well</th>\n",
       "      <th>dilute_well</th>\n",
       "    </tr>\n",
       "  </thead>\n",
       "  <tbody>\n",
       "    <tr>\n",
       "      <th>0</th>\n",
       "      <td>0</td>\n",
       "      <td>ba69b584-1afd-4436-b67b-41028e68893b</td>\n",
       "      <td>65.677050</td>\n",
       "      <td>68.946224</td>\n",
       "      <td>15.705124</td>\n",
       "      <td>1549.671602</td>\n",
       "      <td>0.577773</td>\n",
       "      <td>10.398547</td>\n",
       "      <td>0.012978</td>\n",
       "      <td>718.0</td>\n",
       "      <td>982.0</td>\n",
       "      <td>A1</td>\n",
       "      <td>C7</td>\n",
       "    </tr>\n",
       "    <tr>\n",
       "      <th>1</th>\n",
       "      <td>1</td>\n",
       "      <td>f25a70f2-6079-4953-8b41-51b60e129fe1</td>\n",
       "      <td>198.521614</td>\n",
       "      <td>129.936523</td>\n",
       "      <td>85.466756</td>\n",
       "      <td>1286.075107</td>\n",
       "      <td>0.191145</td>\n",
       "      <td>31.431624</td>\n",
       "      <td>0.038094</td>\n",
       "      <td>1375.0</td>\n",
       "      <td>325.0</td>\n",
       "      <td>A2</td>\n",
       "      <td>C8</td>\n",
       "    </tr>\n",
       "    <tr>\n",
       "      <th>2</th>\n",
       "      <td>2</td>\n",
       "      <td>f0a886af-f326-4c5f-ba18-ac69dd3177b9</td>\n",
       "      <td>17.873642</td>\n",
       "      <td>12.064687</td>\n",
       "      <td>128.255937</td>\n",
       "      <td>1541.805734</td>\n",
       "      <td>2.123038</td>\n",
       "      <td>2.829906</td>\n",
       "      <td>0.003505</td>\n",
       "      <td>0.0</td>\n",
       "      <td>1700.0</td>\n",
       "      <td>A3</td>\n",
       "      <td>D1</td>\n",
       "    </tr>\n",
       "    <tr>\n",
       "      <th>3</th>\n",
       "      <td>3</td>\n",
       "      <td>1468528a-c926-4cdf-8982-dc31a2cc397b</td>\n",
       "      <td>224.271870</td>\n",
       "      <td>84.116124</td>\n",
       "      <td>252.692166</td>\n",
       "      <td>1138.919840</td>\n",
       "      <td>0.169198</td>\n",
       "      <td>35.508622</td>\n",
       "      <td>0.042028</td>\n",
       "      <td>1412.0</td>\n",
       "      <td>288.0</td>\n",
       "      <td>A4</td>\n",
       "      <td>D2</td>\n",
       "    </tr>\n",
       "    <tr>\n",
       "      <th>4</th>\n",
       "      <td>4</td>\n",
       "      <td>1ac99397-b138-4836-a940-50a40a1ae83c</td>\n",
       "      <td>17.000000</td>\n",
       "      <td>37.210726</td>\n",
       "      <td>94.110614</td>\n",
       "      <td>1551.678661</td>\n",
       "      <td>2.232143</td>\n",
       "      <td>2.691584</td>\n",
       "      <td>0.003345</td>\n",
       "      <td>0.0</td>\n",
       "      <td>1700.0</td>\n",
       "      <td>A5</td>\n",
       "      <td>D3</td>\n",
       "    </tr>\n",
       "    <tr>\n",
       "      <th>5</th>\n",
       "      <td>5</td>\n",
       "      <td>38190afc-ea48-4c3b-8c2e-edd9cab5abf9</td>\n",
       "      <td>141.610206</td>\n",
       "      <td>117.375094</td>\n",
       "      <td>87.916288</td>\n",
       "      <td>1353.098413</td>\n",
       "      <td>0.267964</td>\n",
       "      <td>22.420927</td>\n",
       "      <td>0.027351</td>\n",
       "      <td>1244.0</td>\n",
       "      <td>456.0</td>\n",
       "      <td>A6</td>\n",
       "      <td>D4</td>\n",
       "    </tr>\n",
       "    <tr>\n",
       "      <th>6</th>\n",
       "      <td>6</td>\n",
       "      <td>f0f8a098-6c89-409b-8fe3-ffd4b4f106a8</td>\n",
       "      <td>17.000000</td>\n",
       "      <td>40.720692</td>\n",
       "      <td>170.658786</td>\n",
       "      <td>1471.620522</td>\n",
       "      <td>2.232143</td>\n",
       "      <td>2.691584</td>\n",
       "      <td>0.003305</td>\n",
       "      <td>0.0</td>\n",
       "      <td>1700.0</td>\n",
       "      <td>A7</td>\n",
       "      <td>D5</td>\n",
       "    </tr>\n",
       "    <tr>\n",
       "      <th>7</th>\n",
       "      <td>7</td>\n",
       "      <td>cbb3d083-994b-4677-b507-3cdc98c3861b</td>\n",
       "      <td>238.499852</td>\n",
       "      <td>166.129657</td>\n",
       "      <td>234.973235</td>\n",
       "      <td>1060.397256</td>\n",
       "      <td>0.159105</td>\n",
       "      <td>37.761317</td>\n",
       "      <td>0.044464</td>\n",
       "      <td>1430.0</td>\n",
       "      <td>270.0</td>\n",
       "      <td>A8</td>\n",
       "      <td>D6</td>\n",
       "    </tr>\n",
       "    <tr>\n",
       "      <th>8</th>\n",
       "      <td>8</td>\n",
       "      <td>1c6baba0-ebdd-4e85-982c-5f83fe191312</td>\n",
       "      <td>76.662951</td>\n",
       "      <td>155.652010</td>\n",
       "      <td>74.715308</td>\n",
       "      <td>1392.969730</td>\n",
       "      <td>0.494977</td>\n",
       "      <td>12.137928</td>\n",
       "      <td>0.014891</td>\n",
       "      <td>859.0</td>\n",
       "      <td>841.0</td>\n",
       "      <td>B1</td>\n",
       "      <td>D7</td>\n",
       "    </tr>\n",
       "    <tr>\n",
       "      <th>9</th>\n",
       "      <td>9</td>\n",
       "      <td>bdbbf131-7db4-4768-846e-2de75e623ef2</td>\n",
       "      <td>252.952528</td>\n",
       "      <td>99.754920</td>\n",
       "      <td>142.946974</td>\n",
       "      <td>1204.345578</td>\n",
       "      <td>0.150014</td>\n",
       "      <td>40.049587</td>\n",
       "      <td>0.047974</td>\n",
       "      <td>1445.0</td>\n",
       "      <td>255.0</td>\n",
       "      <td>B3</td>\n",
       "      <td>D8</td>\n",
       "    </tr>\n",
       "    <tr>\n",
       "      <th>10</th>\n",
       "      <td>10</td>\n",
       "      <td>81c188d3-242b-4913-b293-cf022d523bf1</td>\n",
       "      <td>251.425137</td>\n",
       "      <td>38.614092</td>\n",
       "      <td>247.433147</td>\n",
       "      <td>1162.527625</td>\n",
       "      <td>0.150925</td>\n",
       "      <td>39.807757</td>\n",
       "      <td>0.047190</td>\n",
       "      <td>1443.0</td>\n",
       "      <td>257.0</td>\n",
       "      <td>B4</td>\n",
       "      <td>E1</td>\n",
       "    </tr>\n",
       "    <tr>\n",
       "      <th>11</th>\n",
       "      <td>11</td>\n",
       "      <td>ff983e1b-2a80-4131-ac10-7f8fdef11fec</td>\n",
       "      <td>76.868634</td>\n",
       "      <td>108.574145</td>\n",
       "      <td>35.336850</td>\n",
       "      <td>1479.220371</td>\n",
       "      <td>0.493653</td>\n",
       "      <td>12.170493</td>\n",
       "      <td>0.015077</td>\n",
       "      <td>861.0</td>\n",
       "      <td>839.0</td>\n",
       "      <td>B5</td>\n",
       "      <td>E3</td>\n",
       "    </tr>\n",
       "    <tr>\n",
       "      <th>12</th>\n",
       "      <td>12</td>\n",
       "      <td>5807e74f-9d51-4612-840f-1e9e913af112</td>\n",
       "      <td>182.054970</td>\n",
       "      <td>29.899652</td>\n",
       "      <td>205.709840</td>\n",
       "      <td>1282.335538</td>\n",
       "      <td>0.208434</td>\n",
       "      <td>28.824485</td>\n",
       "      <td>0.034646</td>\n",
       "      <td>1346.0</td>\n",
       "      <td>354.0</td>\n",
       "      <td>B6</td>\n",
       "      <td>E4</td>\n",
       "    </tr>\n",
       "    <tr>\n",
       "      <th>13</th>\n",
       "      <td>13</td>\n",
       "      <td>08189d6c-3d71-412d-bdd8-9aec48c0b3a7</td>\n",
       "      <td>167.341349</td>\n",
       "      <td>135.800318</td>\n",
       "      <td>173.495080</td>\n",
       "      <td>1223.363253</td>\n",
       "      <td>0.226761</td>\n",
       "      <td>26.494900</td>\n",
       "      <td>0.031781</td>\n",
       "      <td>1315.0</td>\n",
       "      <td>385.0</td>\n",
       "      <td>B8</td>\n",
       "      <td>E5</td>\n",
       "    </tr>\n",
       "    <tr>\n",
       "      <th>14</th>\n",
       "      <td>14</td>\n",
       "      <td>52812388-4002-435e-a8df-fc39c962903f</td>\n",
       "      <td>90.779998</td>\n",
       "      <td>13.940000</td>\n",
       "      <td>120.869994</td>\n",
       "      <td>1474.410008</td>\n",
       "      <td>0.418004</td>\n",
       "      <td>14.373058</td>\n",
       "      <td>0.017684</td>\n",
       "      <td>989.0</td>\n",
       "      <td>711.0</td>\n",
       "      <td>C1</td>\n",
       "      <td>E6</td>\n",
       "    </tr>\n",
       "    <tr>\n",
       "      <th>15</th>\n",
       "      <td>15</td>\n",
       "      <td>2e8bb17e-1309-48a3-b163-fc3b9d98c2ce</td>\n",
       "      <td>90.779998</td>\n",
       "      <td>13.940000</td>\n",
       "      <td>120.869994</td>\n",
       "      <td>1474.410008</td>\n",
       "      <td>0.418004</td>\n",
       "      <td>14.373058</td>\n",
       "      <td>0.017684</td>\n",
       "      <td>989.0</td>\n",
       "      <td>711.0</td>\n",
       "      <td>C2</td>\n",
       "      <td>E8</td>\n",
       "    </tr>\n",
       "    <tr>\n",
       "      <th>16</th>\n",
       "      <td>16</td>\n",
       "      <td>bdbab155-503c-455f-a133-8cd6be1edaff</td>\n",
       "      <td>90.779998</td>\n",
       "      <td>13.940000</td>\n",
       "      <td>120.869994</td>\n",
       "      <td>1474.410008</td>\n",
       "      <td>0.418004</td>\n",
       "      <td>14.373058</td>\n",
       "      <td>0.017684</td>\n",
       "      <td>989.0</td>\n",
       "      <td>711.0</td>\n",
       "      <td>C3</td>\n",
       "      <td>F1</td>\n",
       "    </tr>\n",
       "    <tr>\n",
       "      <th>17</th>\n",
       "      <td>17</td>\n",
       "      <td>51c0142b-f0e3-4fe5-8733-f22fc5bc5b10</td>\n",
       "      <td>90.779998</td>\n",
       "      <td>13.940000</td>\n",
       "      <td>120.869994</td>\n",
       "      <td>1474.410008</td>\n",
       "      <td>0.418004</td>\n",
       "      <td>14.373058</td>\n",
       "      <td>0.017684</td>\n",
       "      <td>989.0</td>\n",
       "      <td>711.0</td>\n",
       "      <td>C4</td>\n",
       "      <td>NaN</td>\n",
       "    </tr>\n",
       "    <tr>\n",
       "      <th>18</th>\n",
       "      <td>18</td>\n",
       "      <td>fde8e8a8-dbf8-4c34-96d0-07d004f97c02</td>\n",
       "      <td>90.779998</td>\n",
       "      <td>13.940000</td>\n",
       "      <td>120.869994</td>\n",
       "      <td>1474.410008</td>\n",
       "      <td>0.418004</td>\n",
       "      <td>14.373058</td>\n",
       "      <td>0.017684</td>\n",
       "      <td>989.0</td>\n",
       "      <td>711.0</td>\n",
       "      <td>C5</td>\n",
       "      <td>NaN</td>\n",
       "    </tr>\n",
       "    <tr>\n",
       "      <th>19</th>\n",
       "      <td>19</td>\n",
       "      <td>f9c5e673-ef4c-4e1e-832d-307ab7bd2d99</td>\n",
       "      <td>90.779998</td>\n",
       "      <td>13.940000</td>\n",
       "      <td>120.869994</td>\n",
       "      <td>1474.410008</td>\n",
       "      <td>0.418004</td>\n",
       "      <td>14.373058</td>\n",
       "      <td>0.017684</td>\n",
       "      <td>989.0</td>\n",
       "      <td>711.0</td>\n",
       "      <td>C6</td>\n",
       "      <td>NaN</td>\n",
       "    </tr>\n",
       "  </tbody>\n",
       "</table>\n",
       "</div>"
      ],
      "text/plain": [
       "    Unnamed: 0                                  uuid  teos_volume  \\\n",
       "0            0  ba69b584-1afd-4436-b67b-41028e68893b    65.677050   \n",
       "1            1  f25a70f2-6079-4953-8b41-51b60e129fe1   198.521614   \n",
       "2            2  f0a886af-f326-4c5f-ba18-ac69dd3177b9    17.873642   \n",
       "3            3  1468528a-c926-4cdf-8982-dc31a2cc397b   224.271870   \n",
       "4            4  1ac99397-b138-4836-a940-50a40a1ae83c    17.000000   \n",
       "5            5  38190afc-ea48-4c3b-8c2e-edd9cab5abf9   141.610206   \n",
       "6            6  f0f8a098-6c89-409b-8fe3-ffd4b4f106a8    17.000000   \n",
       "7            7  cbb3d083-994b-4677-b507-3cdc98c3861b   238.499852   \n",
       "8            8  1c6baba0-ebdd-4e85-982c-5f83fe191312    76.662951   \n",
       "9            9  bdbbf131-7db4-4768-846e-2de75e623ef2   252.952528   \n",
       "10          10  81c188d3-242b-4913-b293-cf022d523bf1   251.425137   \n",
       "11          11  ff983e1b-2a80-4131-ac10-7f8fdef11fec    76.868634   \n",
       "12          12  5807e74f-9d51-4612-840f-1e9e913af112   182.054970   \n",
       "13          13  08189d6c-3d71-412d-bdd8-9aec48c0b3a7   167.341349   \n",
       "14          14  52812388-4002-435e-a8df-fc39c962903f    90.779998   \n",
       "15          15  2e8bb17e-1309-48a3-b163-fc3b9d98c2ce    90.779998   \n",
       "16          16  bdbab155-503c-455f-a133-8cd6be1edaff    90.779998   \n",
       "17          17  51c0142b-f0e3-4fe5-8733-f22fc5bc5b10    90.779998   \n",
       "18          18  fde8e8a8-dbf8-4c34-96d0-07d004f97c02    90.779998   \n",
       "19          19  f9c5e673-ef4c-4e1e-832d-307ab7bd2d99    90.779998   \n",
       "\n",
       "    ammonia_volume  water_volume  ethanol_volume  dilution_volume_fraction  \\\n",
       "0        68.946224     15.705124     1549.671602                  0.577773   \n",
       "1       129.936523     85.466756     1286.075107                  0.191145   \n",
       "2        12.064687    128.255937     1541.805734                  2.123038   \n",
       "3        84.116124    252.692166     1138.919840                  0.169198   \n",
       "4        37.210726     94.110614     1551.678661                  2.232143   \n",
       "5       117.375094     87.916288     1353.098413                  0.267964   \n",
       "6        40.720692    170.658786     1471.620522                  2.232143   \n",
       "7       166.129657    234.973235     1060.397256                  0.159105   \n",
       "8       155.652010     74.715308     1392.969730                  0.494977   \n",
       "9        99.754920    142.946974     1204.345578                  0.150014   \n",
       "10       38.614092    247.433147     1162.527625                  0.150925   \n",
       "11      108.574145     35.336850     1479.220371                  0.493653   \n",
       "12       29.899652    205.709840     1282.335538                  0.208434   \n",
       "13      135.800318    173.495080     1223.363253                  0.226761   \n",
       "14       13.940000    120.869994     1474.410008                  0.418004   \n",
       "15       13.940000    120.869994     1474.410008                  0.418004   \n",
       "16       13.940000    120.869994     1474.410008                  0.418004   \n",
       "17       13.940000    120.869994     1474.410008                  0.418004   \n",
       "18       13.940000    120.869994     1474.410008                  0.418004   \n",
       "19       13.940000    120.869994     1474.410008                  0.418004   \n",
       "\n",
       "    silica_mass_conc  silica_mass_fraction  ethanol_dilute_vol  \\\n",
       "0          10.398547              0.012978               718.0   \n",
       "1          31.431624              0.038094              1375.0   \n",
       "2           2.829906              0.003505                 0.0   \n",
       "3          35.508622              0.042028              1412.0   \n",
       "4           2.691584              0.003345                 0.0   \n",
       "5          22.420927              0.027351              1244.0   \n",
       "6           2.691584              0.003305                 0.0   \n",
       "7          37.761317              0.044464              1430.0   \n",
       "8          12.137928              0.014891               859.0   \n",
       "9          40.049587              0.047974              1445.0   \n",
       "10         39.807757              0.047190              1443.0   \n",
       "11         12.170493              0.015077               861.0   \n",
       "12         28.824485              0.034646              1346.0   \n",
       "13         26.494900              0.031781              1315.0   \n",
       "14         14.373058              0.017684               989.0   \n",
       "15         14.373058              0.017684               989.0   \n",
       "16         14.373058              0.017684               989.0   \n",
       "17         14.373058              0.017684               989.0   \n",
       "18         14.373058              0.017684               989.0   \n",
       "19         14.373058              0.017684               989.0   \n",
       "\n",
       "    sample_dilute_vol well dilute_well  \n",
       "0               982.0   A1          C7  \n",
       "1               325.0   A2          C8  \n",
       "2              1700.0   A3          D1  \n",
       "3               288.0   A4          D2  \n",
       "4              1700.0   A5          D3  \n",
       "5               456.0   A6          D4  \n",
       "6              1700.0   A7          D5  \n",
       "7               270.0   A8          D6  \n",
       "8               841.0   B1          D7  \n",
       "9               255.0   B3          D8  \n",
       "10              257.0   B4          E1  \n",
       "11              839.0   B5          E3  \n",
       "12              354.0   B6          E4  \n",
       "13              385.0   B8          E5  \n",
       "14              711.0   C1          E6  \n",
       "15              711.0   C2          E8  \n",
       "16              711.0   C3          F1  \n",
       "17              711.0   C4         NaN  \n",
       "18              711.0   C5         NaN  \n",
       "19              711.0   C6         NaN  "
      ]
     },
     "execution_count": 81,
     "metadata": {},
     "output_type": "execute_result"
    }
   ],
   "source": [
    "sample_table"
   ]
  },
  {
   "cell_type": "code",
   "execution_count": 82,
   "id": "5ff08a17-bbaa-438f-b9b7-a15c9d5d6c58",
   "metadata": {},
   "outputs": [],
   "source": [
    "## TEOS calibration test"
   ]
  },
  {
   "cell_type": "code",
   "execution_count": 103,
   "id": "174c5c2f-9591-41b8-862a-67b7d991e8a9",
   "metadata": {},
   "outputs": [
    {
     "ename": "TypeError",
     "evalue": "list indices must be integers or slices, not tuple",
     "output_type": "error",
     "traceback": [
      "\u001b[0;31m---------------------------------------------------------------------------\u001b[0m",
      "\u001b[0;31mKeyError\u001b[0m                                  Traceback (most recent call last)",
      "File \u001b[0;32m~/Code/science-jubilee/src/science_jubilee/labware/Labware.py:238\u001b[0m, in \u001b[0;36mWellSet.__getitem__\u001b[0;34m(self, id_)\u001b[0m\n\u001b[1;32m    237\u001b[0m     \u001b[38;5;28;01melse\u001b[39;00m:\n\u001b[0;32m--> 238\u001b[0m         \u001b[38;5;28;01mreturn\u001b[39;00m \u001b[38;5;28;43mself\u001b[39;49m\u001b[38;5;241;43m.\u001b[39;49m\u001b[43mwells\u001b[49m\u001b[43m[\u001b[49m\u001b[43mid_\u001b[49m\u001b[43m]\u001b[49m\n\u001b[1;32m    239\u001b[0m \u001b[38;5;28;01mexcept\u001b[39;00m \u001b[38;5;167;01mKeyError\u001b[39;00m:\n",
      "\u001b[0;31mKeyError\u001b[0m: ('A6', 'A7', 'A8', 'B1', 'B3')",
      "\nDuring handling of the above exception, another exception occurred:\n",
      "\u001b[0;31mTypeError\u001b[0m                                 Traceback (most recent call last)",
      "Cell \u001b[0;32mIn[103], line 4\u001b[0m\n\u001b[1;32m      1\u001b[0m teos_vol \u001b[38;5;241m=\u001b[39m \u001b[38;5;241m50\u001b[39m\n\u001b[1;32m      3\u001b[0m old_wells \u001b[38;5;241m=\u001b[39m samples[\u001b[38;5;241m0\u001b[39m:\u001b[38;5;241m4\u001b[39m]\n\u001b[0;32m----> 4\u001b[0m new_wells \u001b[38;5;241m=\u001b[39m \u001b[43msamples\u001b[49m\u001b[43m[\u001b[49m\u001b[38;5;124;43m'\u001b[39;49m\u001b[38;5;124;43mA6\u001b[39;49m\u001b[38;5;124;43m'\u001b[39;49m\u001b[43m,\u001b[49m\u001b[43m \u001b[49m\u001b[38;5;124;43m'\u001b[39;49m\u001b[38;5;124;43mA7\u001b[39;49m\u001b[38;5;124;43m'\u001b[39;49m\u001b[43m,\u001b[49m\u001b[43m \u001b[49m\u001b[38;5;124;43m'\u001b[39;49m\u001b[38;5;124;43mA8\u001b[39;49m\u001b[38;5;124;43m'\u001b[39;49m\u001b[43m,\u001b[49m\u001b[43m \u001b[49m\u001b[38;5;124;43m'\u001b[39;49m\u001b[38;5;124;43mB1\u001b[39;49m\u001b[38;5;124;43m'\u001b[39;49m\u001b[43m,\u001b[49m\u001b[43m \u001b[49m\u001b[38;5;124;43m'\u001b[39;49m\u001b[38;5;124;43mB3\u001b[39;49m\u001b[38;5;124;43m'\u001b[39;49m\u001b[43m]\u001b[49m\n",
      "File \u001b[0;32m~/Code/science-jubilee/src/science_jubilee/labware/Labware.py:240\u001b[0m, in \u001b[0;36mWellSet.__getitem__\u001b[0;34m(self, id_)\u001b[0m\n\u001b[1;32m    238\u001b[0m         \u001b[38;5;28;01mreturn\u001b[39;00m \u001b[38;5;28mself\u001b[39m\u001b[38;5;241m.\u001b[39mwells[id_]\n\u001b[1;32m    239\u001b[0m \u001b[38;5;28;01mexcept\u001b[39;00m \u001b[38;5;167;01mKeyError\u001b[39;00m:\n\u001b[0;32m--> 240\u001b[0m     \u001b[38;5;28;01mreturn\u001b[39;00m \u001b[38;5;28;43mlist\u001b[39;49m\u001b[43m(\u001b[49m\u001b[38;5;28;43mself\u001b[39;49m\u001b[38;5;241;43m.\u001b[39;49m\u001b[43mwells\u001b[49m\u001b[38;5;241;43m.\u001b[39;49m\u001b[43mvalues\u001b[49m\u001b[43m(\u001b[49m\u001b[43m)\u001b[49m\u001b[43m)\u001b[49m\u001b[43m[\u001b[49m\u001b[43mid_\u001b[49m\u001b[43m]\u001b[49m\n",
      "\u001b[0;31mTypeError\u001b[0m: list indices must be integers or slices, not tuple"
     ]
    }
   ],
   "source": [
    "teos_vol = 50\n",
    "\n",
    "old_wells = samples[0:4]\n",
    "new_wells = samples['A6', 'A7', 'A8', 'B1', 'B3']"
   ]
  },
  {
   "cell_type": "code",
   "execution_count": 84,
   "id": "ddba7d26-63d6-4191-8886-c148d1fa8542",
   "metadata": {},
   "outputs": [
    {
     "data": {
      "text/plain": [
       "[Well A1 form septavialrev1_44_holder_2000ul on slot 2,\n",
       " Well A2 form septavialrev1_44_holder_2000ul on slot 2,\n",
       " Well A3 form septavialrev1_44_holder_2000ul on slot 2,\n",
       " Well A4 form septavialrev1_44_holder_2000ul on slot 2]"
      ]
     },
     "execution_count": 84,
     "metadata": {},
     "output_type": "execute_result"
    }
   ],
   "source": [
    "old_wells"
   ]
  },
  {
   "cell_type": "code",
   "execution_count": 85,
   "id": "06937eee-3a6b-4b1d-9c9c-25736f4df10c",
   "metadata": {},
   "outputs": [],
   "source": [
    "aspirate_volume = teos_syringe.capacity - teos_syringe.remaining_volume - 1"
   ]
  },
  {
   "cell_type": "code",
   "execution_count": 107,
   "id": "852dcf35-30ba-4c0e-9aa0-0041ef93b8fc",
   "metadata": {},
   "outputs": [],
   "source": [
    "jubilee.pickup_tool(teos_syringe)"
   ]
  },
  {
   "cell_type": "code",
   "execution_count": 87,
   "id": "ff71cd8e-1227-42a8-b732-8e8ceb815172",
   "metadata": {},
   "outputs": [],
   "source": [
    "teos_syringe.aspirate(aspirate_volume, teos_stocks[0].bottom(+5), s = 10)"
   ]
  },
  {
   "cell_type": "code",
   "execution_count": 88,
   "id": "cfb8eab1-550a-4a02-9357-f1e8409c4d96",
   "metadata": {},
   "outputs": [],
   "source": [
    "for well in old_wells:\n",
    "    teos_syringe.dispense(teos_vol, well)"
   ]
  },
  {
   "cell_type": "code",
   "execution_count": 109,
   "id": "4199e38c-c81a-46da-af35-1ae08f453da4",
   "metadata": {},
   "outputs": [],
   "source": [
    "jubilee.park_tool()"
   ]
  },
  {
   "cell_type": "code",
   "execution_count": 104,
   "id": "d74e8a9a-6e13-4a96-ad29-7e8a605b8b8e",
   "metadata": {},
   "outputs": [],
   "source": [
    "new_wells = ['A6', 'A7', 'A8', 'B1', 'B3']"
   ]
  },
  {
   "cell_type": "code",
   "execution_count": 108,
   "id": "300bee9c-da0b-497f-9d98-155f4025c109",
   "metadata": {},
   "outputs": [],
   "source": [
    "for ind in new_wells:\n",
    "    well = samples[ind]\n",
    "    teos_syringe.dispense(teos_vol, well)"
   ]
  },
  {
   "cell_type": "code",
   "execution_count": 106,
   "id": "4ac2a202-2648-44e1-a916-7bb270e8fb09",
   "metadata": {},
   "outputs": [
    {
     "data": {
      "text/plain": [
       "Well B3 form septavialrev1_44_holder_2000ul on slot 2"
      ]
     },
     "execution_count": 106,
     "metadata": {},
     "output_type": "execute_result"
    }
   ],
   "source": [
    "well"
   ]
  },
  {
   "cell_type": "code",
   "execution_count": null,
   "id": "fba4158e-399d-44c0-8a29-54bcf53084c6",
   "metadata": {},
   "outputs": [],
   "source": []
  }
 ],
 "metadata": {
  "kernelspec": {
   "display_name": "Python 3 (ipykernel)",
   "language": "python",
   "name": "python3"
  },
  "language_info": {
   "codemirror_mode": {
    "name": "ipython",
    "version": 3
   },
   "file_extension": ".py",
   "mimetype": "text/x-python",
   "name": "python",
   "nbconvert_exporter": "python",
   "pygments_lexer": "ipython3",
   "version": "3.12.7"
  }
 },
 "nbformat": 4,
 "nbformat_minor": 5
}
